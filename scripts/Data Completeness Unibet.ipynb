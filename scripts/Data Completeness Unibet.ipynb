{
 "cells": [
  {
   "cell_type": "code",
   "execution_count": null,
   "metadata": {},
   "outputs": [],
   "source": [
    "#%cd C:/Users/Mathieu/Desktop/Projets/Benter\n",
    "%cd /home/mathieu/Mindsay/mathieu/Benter-Project"
   ]
  },
  {
   "cell_type": "code",
   "execution_count": 2,
   "metadata": {},
   "outputs": [],
   "source": [
    "from models.horse import Horse\n",
    "from database.setup import create_sqlalchemy_session\n",
    "import tqdm\n",
    "import re\n",
    "\n",
    "from utils.music import parse_music\n",
    "\n",
    "BATCH_SIZE = 1e5\n",
    "with create_sqlalchemy_session() as db_session:\n",
    "    horse=db_session.query(Horse).first()"
   ]
  },
  {
   "cell_type": "code",
   "execution_count": 3,
   "metadata": {
    "scrolled": true
   },
   "outputs": [
    {
     "name": "stderr",
     "output_type": "stream",
     "text": [
      "0:   0%|          | 0/100000.0 [00:00<?, ?it/s]\n"
     ]
    }
   ],
   "source": [
    "start_id=0\n",
    "with create_sqlalchemy_session() as db_session:\n",
    "    wrong_horse_ids=set()\n",
    "\n",
    "    horses=db_session.query(Horse).filter(Horse.id>start_id).order_by(Horse.id.asc()).limit(BATCH_SIZE).all()\n",
    "    for horse in tqdm.tqdm(horses, desc=f'{start_id}', total=BATCH_SIZE):\n",
    "        ages = [runner.age for runner in horse.runners if runner.age is not None]\n",
    "        if sorted(ages) != ages:\n",
    "            wrong_horse_ids.add(horse.id)\n",
    "            \n",
    "    while len(horses)==BATCH_SIZE:\n",
    "        start_id=horses[-1].id\n",
    "        horses=db_session.query(Horse).filter(Horse.id>start_id).order_by(Horse.id.asc()).limit(BATCH_SIZE).all()\n",
    "        for horse in tqdm.tqdm(horses, desc=f'{start_id}', total=len(horses)):\n",
    "            ages = [runner.age for runner in horse.runners if runner.age is not None]\n",
    "            if sorted(ages) != ages:\n",
    "                wrong_horse_ids.add(horse.id)"
   ]
  },
  {
   "cell_type": "code",
   "execution_count": 4,
   "metadata": {},
   "outputs": [
    {
     "data": {
      "text/plain": [
       "0"
      ]
     },
     "execution_count": 4,
     "metadata": {},
     "output_type": "execute_result"
    }
   ],
   "source": [
    "len(wrong_horse_ids)"
   ]
  },
  {
   "cell_type": "code",
   "execution_count": 5,
   "metadata": {},
   "outputs": [
    {
     "data": {
      "text/plain": [
       "False"
      ]
     },
     "execution_count": 5,
     "metadata": {},
     "output_type": "execute_result"
    }
   ],
   "source": [
    "162684 in wrong_horse_ids"
   ]
  },
  {
   "cell_type": "code",
   "execution_count": 6,
   "metadata": {
    "scrolled": true
   },
   "outputs": [
    {
     "name": "stderr",
     "output_type": "stream",
     "text": [
      "0:   0%|          | 0/100000.0 [00:00<?, ?it/s]\n"
     ]
    }
   ],
   "source": [
    "start_id=0\n",
    "with create_sqlalchemy_session() as db_session:\n",
    "\n",
    "    horses=db_session.query(Horse).filter(Horse.id>start_id).order_by(Horse.id.asc()).limit(BATCH_SIZE).all()\n",
    "    \n",
    "    for horse in tqdm.tqdm(horses, desc=f'{start_id}', total=BATCH_SIZE):\n",
    "        origins={runner.origins for runner in horse.runners if runner.origins is not None}\n",
    "        if not origins:\n",
    "            continue\n",
    "        if len(origins)==2:\n",
    "            continue\n",
    "        print(origins, horse.id)\n",
    "        break"
   ]
  },
  {
   "cell_type": "code",
   "execution_count": 7,
   "metadata": {},
   "outputs": [],
   "source": [
    "a=\"Turgeon-Shannon\""
   ]
  },
  {
   "cell_type": "code",
   "execution_count": 8,
   "metadata": {},
   "outputs": [],
   "source": [
    "father_name, mother_name=re.split(\"[-/]\",a)"
   ]
  },
  {
   "cell_type": "code",
   "execution_count": 9,
   "metadata": {},
   "outputs": [],
   "source": [
    "father_name=father_name.upper()\n",
    "mother_name=mother_name.upper()"
   ]
  },
  {
   "cell_type": "code",
   "execution_count": 10,
   "metadata": {},
   "outputs": [],
   "source": [
    "with create_sqlalchemy_session() as db_session:\n",
    "\n",
    "    father_horse_candidates=db_session.query(Horse).filter(Horse.name==father_name).all()\n",
    "    \n",
    "    mother_horse_candidates=db_session.query(Horse).filter(Horse.name==mother_name).all()"
   ]
  },
  {
   "cell_type": "code",
   "execution_count": 11,
   "metadata": {},
   "outputs": [
    {
     "data": {
      "text/plain": [
       "[]"
      ]
     },
     "execution_count": 11,
     "metadata": {},
     "output_type": "execute_result"
    }
   ],
   "source": [
    "mother_horse_candidates"
   ]
  },
  {
   "cell_type": "code",
   "execution_count": 12,
   "metadata": {},
   "outputs": [],
   "source": [
    "from collections import namedtuple\n",
    "from typing import List\n",
    "\n",
    "MusicEvent = namedtuple(\"MusicEvent\", [\"rank\", \"race_type\", \"year\"])\n",
    "\n",
    "\n",
    "def parse_unibet_music(current_year:int, ) ->List[MusicEvent]:\n",
    "\n",
    "    music_events:List[MusicEvent]=[]\n",
    "    events=re.findall(r\"(([ATRDN]|\\d)([a-z]))|(\\((\\d{1,2})\\))\", runner.music)\n",
    "    for event in events:\n",
    "        race_event, rank, race_type, _, year = event\n",
    "        if year:\n",
    "            assert not race_event\n",
    "            next_current_year = int(f'20{year}')\n",
    "            # We read music from left to right to go backward in time\n",
    "            assert next_current_year < current_year\n",
    "            current_year=next_current_year\n",
    "            continue\n",
    "        assert not year\n",
    "        music_events.append(MusicEvent(rank=rank, race_type=race_type, year=current_year))\n",
    "        \n",
    "    return music_events\n",
    "    "
   ]
  },
  {
   "cell_type": "code",
   "execution_count": 13,
   "metadata": {},
   "outputs": [
    {
     "ename": "NameError",
     "evalue": "name 'music_events' is not defined",
     "output_type": "error",
     "traceback": [
      "\u001b[0;31m\u001b[0m",
      "\u001b[0;31mNameError\u001b[0mTraceback (most recent call last)",
      "\u001b[0;32m<ipython-input-13-a654f15f46ff>\u001b[0m in \u001b[0;36m<module>\u001b[0;34m\u001b[0m\n\u001b[0;32m----> 1\u001b[0;31m \u001b[0mmusic_events\u001b[0m\u001b[0;34m\u001b[0m\u001b[0;34m\u001b[0m\u001b[0m\n\u001b[0m",
      "\u001b[0;31mNameError\u001b[0m: name 'music_events' is not defined"
     ]
    }
   ],
   "source": [
    "music_events"
   ]
  },
  {
   "cell_type": "code",
   "execution_count": null,
   "metadata": {},
   "outputs": [],
   "source": [
    "runner.music"
   ]
  },
  {
   "cell_type": "code",
   "execution_count": null,
   "metadata": {},
   "outputs": [],
   "source": [
    "race_type"
   ]
  },
  {
   "cell_type": "code",
   "execution_count": null,
   "metadata": {},
   "outputs": [],
   "source": [
    "_"
   ]
  },
  {
   "cell_type": "code",
   "execution_count": null,
   "metadata": {},
   "outputs": [],
   "source": [
    "year"
   ]
  },
  {
   "cell_type": "code",
   "execution_count": null,
   "metadata": {},
   "outputs": [],
   "source": [
    "race_type"
   ]
  },
  {
   "cell_type": "code",
   "execution_count": null,
   "metadata": {},
   "outputs": [],
   "source": [
    "import logging\n",
    "from collections import Counter\n",
    "import datetime as dt\n",
    "from typing import Optional, Generator\n",
    "from constants import UNIBET_MIN_DATE\n",
    "from tqdm import tqdm\n",
    "import os \n",
    "import json\n",
    "\n",
    "logger = logging.getLogger(__name__)\n",
    "UNIBET_DATA_PATH = \"./data/Unibet\"\n",
    "\n",
    "sexes=Counter()\n",
    "\n",
    "def date_countdown_generator(\n",
    "    start_date: dt.date, end_date: Optional[dt.date]\n",
    ") -> Generator[dt.date, None, None]:\n",
    "    end_date = end_date or dt.date.today()\n",
    "    current_date = start_date\n",
    "    while current_date <= end_date:\n",
    "        yield current_date\n",
    "        current_date += dt.timedelta(days=1)\n",
    "        \n",
    "\n",
    "for date in tqdm(\n",
    "    date_countdown_generator(\n",
    "        start_date=UNIBET_MIN_DATE,\n",
    "        end_date=dt.date.today() - dt.timedelta(days=1),\n",
    "    ),\n",
    "    total=(dt.date.today() - dt.timedelta(days=1) - UNIBET_MIN_DATE).days,\n",
    "    unit=\"days\",\n",
    "):\n",
    "    if not date.isoformat() in os.listdir(UNIBET_DATA_PATH):\n",
    "        logger.info(\"Could not find folder for date: %s\", date.isoformat())\n",
    "        continue\n",
    "    day_folder_path = os.path.join(UNIBET_DATA_PATH, date.isoformat())\n",
    "    if \"programme.json\" not in os.listdir(day_folder_path):\n",
    "        logger.info(\n",
    "            \"Could not find programme.json for date: %s\", date.isoformat()\n",
    "        )\n",
    "        continue\n",
    "\n",
    "    with open(os.path.join(day_folder_path, \"programme.json\"), \"r\") as fp:\n",
    "        programme = json.load(fp=fp)\n",
    "    if \"data\" not in programme:\n",
    "        logger.info(\"Can not import programme of %s\", date.isoformat())\n",
    "        continue\n",
    "\n",
    "    horse_shows_dict = programme[\"data\"]\n",
    "    for horse_show_dict in horse_shows_dict:\n",
    "\n",
    "        if horse_show_dict.get(\"races\"):\n",
    "\n",
    "            for race_dict in horse_show_dict[\"races\"]:\n",
    "                race_path = os.path.join(\n",
    "                    day_folder_path,\n",
    "                    f\"R{horse_show_dict['rank']}_C\" f\"{race_dict['rank']}.json\",\n",
    "                )\n",
    "                with open(race_path, \"r\") as fp:\n",
    "                    complete_race_dict = json.load(fp=fp)\n",
    "\n",
    "                current_race_dict = complete_race_dict\n",
    "                if complete_race_dict.get(\"note\") == \"server error, no json\":\n",
    "                    # Can not use complete_race\n",
    "                    current_race_dict = race_dict\n",
    "\n",
    "                for runner_dict in current_race_dict[\"runners\"]:\n",
    "                    sexes[runner_dict[\"details\"].get(\"sex\") if runner_dict.get(\"details\") else None]+=1"
   ]
  },
  {
   "cell_type": "code",
   "execution_count": null,
   "metadata": {},
   "outputs": [],
   "source": [
    "sexes"
   ]
  },
  {
   "cell_type": "code",
   "execution_count": null,
   "metadata": {},
   "outputs": [],
   "source": [
    "from models.horse import Horse"
   ]
  },
  {
   "cell_type": "code",
   "execution_count": null,
   "metadata": {},
   "outputs": [],
   "source": []
  },
  {
   "cell_type": "code",
   "execution_count": null,
   "metadata": {},
   "outputs": [],
   "source": []
  }
 ],
 "metadata": {
  "kernelspec": {
   "display_name": "Python 3",
   "language": "python",
   "name": "python3"
  },
  "language_info": {
   "codemirror_mode": {
    "name": "ipython",
    "version": 3
   },
   "file_extension": ".py",
   "mimetype": "text/x-python",
   "name": "python",
   "nbconvert_exporter": "python",
   "pygments_lexer": "ipython3",
   "version": "3.7.4"
  }
 },
 "nbformat": 4,
 "nbformat_minor": 4
}
