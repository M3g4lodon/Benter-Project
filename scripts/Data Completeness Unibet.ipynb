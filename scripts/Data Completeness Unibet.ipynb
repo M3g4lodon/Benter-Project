{
 "cells": [
  {
   "cell_type": "code",
   "execution_count": null,
   "metadata": {},
   "outputs": [],
   "source": [
    "#%cd C:/Users/Mathieu/Desktop/Projets/Benter\n",
    "%cd /home/mathieu/Mindsay/mathieu/Benter-Project"
   ]
  },
  {
   "cell_type": "code",
   "execution_count": 2,
   "metadata": {},
   "outputs": [],
   "source": [
    "from models.horse import Horse\n",
    "from database.setup import create_sqlalchemy_session\n",
    "\n",
    "from utils.music import parse_music\n"
   ]
  },
  {
   "cell_type": "code",
   "execution_count": 10,
   "metadata": {},
   "outputs": [
    {
     "name": "stdout",
     "output_type": "stream",
     "text": [
      "2005-06-18 H 7 FRANCE 6o 1o (04) 4o 2o 1o 1o 3o\n",
      "2005-09-28 H 7 FRANCE 5o 6o 1o (04) 4o 2o 1o 1o\n",
      "2005-10-22 H 7 FRANCE 6o 5o 6o 1o (04) 4o 2o 1o\n",
      "2005-11-13 H 7 FRANCE 3o 6o 5o 6o 1o (04) 4o 2o\n",
      "2007-09-29 H 7 FRANCE (05) 3o 3o 6o 5o 6o 1o (04) 4o 2o 1o 1o 3o 3o\n",
      "2007-11-04 H 7 FRANCE 2o (05) 3o 3o 6o 5o 6o 1o (04) 4o 2o 1o 1o 3o\n",
      "2008-03-19 H 7 FRANCE (07) 8o 2o (05) 3o 3o 6o 5o 6o 1o (04) 4o 2o 1o 1o\n",
      "2008-04-01 H 7 FRANCE 4o (07) 8o 2o (05) 3o 3o 6o 5o 6o 1o (04) 4o 2o 1o\n",
      "CPU times: user 18 ms, sys: 100 µs, total: 18.1 ms\n",
      "Wall time: 18.9 ms\n"
     ]
    }
   ],
   "source": [
    "%%time\n",
    "\n",
    "with create_sqlalchemy_session() as db_session:\n",
    "    horses=[db_session.query(Horse).order_by(Horse.id.asc()).first()]\n",
    "    for horse in horses:\n",
    "        for runner in horse.runners:\n",
    "            print(runner.date, runner.sex, runner.age,  runner.race.horse_show.race_track.country_name, runner.music)\n",
    "        break"
   ]
  },
  {
   "cell_type": "code",
   "execution_count": 13,
   "metadata": {},
   "outputs": [
    {
     "name": "stdout",
     "output_type": "stream",
     "text": [
      "Found events: []\n"
     ]
    },
    {
     "data": {
      "text/plain": [
       "ParsedMusic(win_rate=nan, mean_place=nan, n_races_in_music=0)"
      ]
     },
     "execution_count": 13,
     "metadata": {},
     "output_type": "execute_result"
    }
   ],
   "source": [
    "parse_music(runner.music, verbose=True)"
   ]
  },
  {
   "cell_type": "code",
   "execution_count": 14,
   "metadata": {},
   "outputs": [
    {
     "data": {
      "text/plain": [
       "'4o (07) 8o 2o (05) 3o 3o 6o 5o 6o 1o (04) 4o 2o 1o'"
      ]
     },
     "execution_count": 14,
     "metadata": {},
     "output_type": "execute_result"
    }
   ],
   "source": [
    "runner.music"
   ]
  },
  {
   "cell_type": "code",
   "execution_count": 15,
   "metadata": {},
   "outputs": [
    {
     "data": {
      "text/plain": [
       "'Haies'"
      ]
     },
     "execution_count": 15,
     "metadata": {},
     "output_type": "execute_result"
    }
   ],
   "source": [
    "runner.race.type"
   ]
  },
  {
   "cell_type": "code",
   "execution_count": 16,
   "metadata": {},
   "outputs": [],
   "source": [
    "import re"
   ]
  },
  {
   "cell_type": "code",
   "execution_count": null,
   "metadata": {},
   "outputs": [],
   "source": [
    "s="
   ]
  },
  {
   "cell_type": "code",
   "execution_count": 19,
   "metadata": {},
   "outputs": [],
   "source": []
  },
  {
   "cell_type": "code",
   "execution_count": 39,
   "metadata": {},
   "outputs": [],
   "source": [
    "from collections import namedtuple\n",
    "from typing import List\n",
    "\n",
    "MusicEvent = namedtuple(\"MusicEvent\", [\"rank\", \"race_type\", \"year\"])\n",
    "\n",
    "\n",
    "\n",
    "current_year=2008\n",
    "\n",
    "music_events:List[MusicEvent]=[]\n",
    "events=re.findall(r\"(([ATRDN]|\\d)([a-z]))|(\\((\\d{1,2})\\))\", runner.music)\n",
    "for event in events:\n",
    "    race_event, rank, race_type, _, year = event\n",
    "    if year:\n",
    "        assert not race_event\n",
    "        next_current_year = int(f'20{year}')\n",
    "        # We read music from left to right to go backward in time\n",
    "        assert next_current_year < current_year\n",
    "        current_year=next_current_year\n",
    "        continue\n",
    "    assert not year\n",
    "    music_events.append(MusicEvent(rank=rank, race_type=race_type, year=current_year))\n",
    "    "
   ]
  },
  {
   "cell_type": "code",
   "execution_count": 40,
   "metadata": {},
   "outputs": [
    {
     "data": {
      "text/plain": [
       "[MusicEvent(rank='4', race_type='o', year=2008),\n",
       " MusicEvent(rank='8', race_type='o', year=2007),\n",
       " MusicEvent(rank='2', race_type='o', year=2007),\n",
       " MusicEvent(rank='3', race_type='o', year=2005),\n",
       " MusicEvent(rank='3', race_type='o', year=2005),\n",
       " MusicEvent(rank='6', race_type='o', year=2005),\n",
       " MusicEvent(rank='5', race_type='o', year=2005),\n",
       " MusicEvent(rank='6', race_type='o', year=2005),\n",
       " MusicEvent(rank='1', race_type='o', year=2005),\n",
       " MusicEvent(rank='4', race_type='o', year=2004),\n",
       " MusicEvent(rank='2', race_type='o', year=2004),\n",
       " MusicEvent(rank='1', race_type='o', year=2004)]"
      ]
     },
     "execution_count": 40,
     "metadata": {},
     "output_type": "execute_result"
    }
   ],
   "source": [
    "music_events"
   ]
  },
  {
   "cell_type": "code",
   "execution_count": 36,
   "metadata": {},
   "outputs": [
    {
     "data": {
      "text/plain": [
       "'4o (07) 8o 2o (05) 3o 3o 6o 5o 6o 1o (04) 4o 2o 1o'"
      ]
     },
     "execution_count": 36,
     "metadata": {},
     "output_type": "execute_result"
    }
   ],
   "source": [
    "runner.music"
   ]
  },
  {
   "cell_type": "code",
   "execution_count": 26,
   "metadata": {},
   "outputs": [
    {
     "data": {
      "text/plain": [
       "'o'"
      ]
     },
     "execution_count": 26,
     "metadata": {},
     "output_type": "execute_result"
    }
   ],
   "source": [
    "race_type"
   ]
  },
  {
   "cell_type": "code",
   "execution_count": 27,
   "metadata": {},
   "outputs": [
    {
     "data": {
      "text/plain": [
       "''"
      ]
     },
     "execution_count": 27,
     "metadata": {},
     "output_type": "execute_result"
    }
   ],
   "source": [
    "_"
   ]
  },
  {
   "cell_type": "code",
   "execution_count": 28,
   "metadata": {},
   "outputs": [
    {
     "data": {
      "text/plain": [
       "''"
      ]
     },
     "execution_count": 28,
     "metadata": {},
     "output_type": "execute_result"
    }
   ],
   "source": [
    "year"
   ]
  },
  {
   "cell_type": "code",
   "execution_count": 29,
   "metadata": {},
   "outputs": [
    {
     "data": {
      "text/plain": [
       "'o'"
      ]
     },
     "execution_count": 29,
     "metadata": {},
     "output_type": "execute_result"
    }
   ],
   "source": [
    "race_type"
   ]
  },
  {
   "cell_type": "code",
   "execution_count": null,
   "metadata": {},
   "outputs": [],
   "source": []
  }
 ],
 "metadata": {
  "kernelspec": {
   "display_name": "Python 3",
   "language": "python",
   "name": "python3"
  },
  "language_info": {
   "codemirror_mode": {
    "name": "ipython",
    "version": 3
   },
   "file_extension": ".py",
   "mimetype": "text/x-python",
   "name": "python",
   "nbconvert_exporter": "python",
   "pygments_lexer": "ipython3",
   "version": "3.7.4"
  }
 },
 "nbformat": 4,
 "nbformat_minor": 4
}
