{
 "cells": [
  {
   "cell_type": "code",
   "execution_count": 2,
   "metadata": {},
   "outputs": [
    {
     "name": "stdout",
     "output_type": "stream",
     "text": [
      "/home/mathieu/Prose/Mathieu/Benter-Project\n"
     ]
    }
   ],
   "source": [
    "#%cd C:/Users/Mathieu/Desktop/Projets/Benter\n",
    "%cd /home/mathieu/Prose/Mathieu/Benter-Project"
   ]
  },
  {
   "cell_type": "code",
   "execution_count": 3,
   "metadata": {},
   "outputs": [
    {
     "name": "stdout",
     "output_type": "stream",
     "text": [
      "env: ENVIRONMENT=development\n"
     ]
    }
   ],
   "source": [
    "%env ENVIRONMENT=development"
   ]
  },
  {
   "cell_type": "code",
   "execution_count": 4,
   "metadata": {},
   "outputs": [],
   "source": [
    "from models.horse import Horse\n",
    "from models.runner import Runner\n",
    "from models.race import Race\n",
    "from database.setup import create_sqlalchemy_session\n",
    "import tqdm\n",
    "import random\n",
    "import re\n",
    "from tabulate import tabulate\n",
    "import os\n",
    "import json\n",
    "import datetime as dt\n",
    "from typing import List\n",
    "import sqlalchemy as sa\n",
    "\n",
    "from utils.music import parse_music\n",
    "from utils.logger import setup_logger\n",
    "from constants import UnibetHorseSex\n",
    "\n",
    "BATCH_SIZE = 1e5\n",
    "UNIBET_DATA_PATH = \"./data/Unibet\"\n",
    "with create_sqlalchemy_session() as db_session:\n",
    "    horse=db_session.query(Horse).first()\n",
    "    \n",
    "logger = setup_logger(__name__)\n",
    "    "
   ]
  },
  {
   "cell_type": "code",
   "execution_count": 5,
   "metadata": {},
   "outputs": [],
   "source": [
    "def is_wrong_age_sequence(ages:List[int])->bool:\n",
    "    ages = [age for age in ages if age is not None]\n",
    "    return sorted(ages) != ages\n",
    "\n",
    "forbidden_sex_transitions = [(UnibetHorseSex.MALE, UnibetHorseSex.FEMALE),\n",
    "                             (UnibetHorseSex.FEMALE, UnibetHorseSex.MALE), \n",
    "                             (UnibetHorseSex.GELDING, UnibetHorseSex.FEMALE), \n",
    "                             (UnibetHorseSex.GELDING, UnibetHorseSex.MALE),\n",
    "                             (UnibetHorseSex.FEMALE, UnibetHorseSex.GELDING)\n",
    "                            ]\n",
    "\n",
    "forbidden_sex_transitions_regex = r\"|\".join([f\"{s1.value}{s2.value}\" for (s1,s2) in forbidden_sex_transitions])\n",
    "\n",
    "def is_wrong_sex_sequence(sexes:List[UnibetHorseSex])->bool:\n",
    "    sexes=[sex.value for sex in sexes if sex !=UnibetHorseSex.UNKNOWN]\n",
    "    if not sexes:\n",
    "        return False\n",
    "    sexes_str =\"\".join(sexes)\n",
    "    return bool(re.search(forbidden_sex_transitions_regex, sexes_str))\n",
    "    \n",
    "\n",
    "def is_wrong_stake_sequence(stakes:List[int])->bool:\n",
    "    stakes = [stake for stake in stakes if stake is not None]\n",
    "    return sorted(stakes) != stakes\n",
    "\n",
    "# TODO add music check "
   ]
  },
  {
   "cell_type": "code",
   "execution_count": 6,
   "metadata": {
    "scrolled": true
   },
   "outputs": [
    {
     "name": "stderr",
     "output_type": "stream",
     "text": [
      "0:  34%|███▍      | 34069/100000.0 [00:49<01:36, 682.12it/s] \n"
     ]
    }
   ],
   "source": [
    "start_id=0\n",
    "\n",
    "wrong_horse_ids_age=set()\n",
    "wrong_horse_ids_sex=set()\n",
    "wrong_horse_ids_stake=set()\n",
    "n_seen_horses=0\n",
    "with create_sqlalchemy_session() as db_session:\n",
    "    horses=db_session.query(Horse).filter(Horse.id>start_id).order_by(Horse.id.asc()).limit(BATCH_SIZE).all()\n",
    "    for horse in tqdm.tqdm(horses, desc=f'{start_id}', total=BATCH_SIZE):\n",
    "        if is_wrong_age_sequence(ages=[runner.age for runner in horse.runners]):\n",
    "            wrong_horse_ids_age.add(horse.id)\n",
    "            \n",
    "        if is_wrong_sex_sequence(sexes=[runner.sex for runner in horse.runners]):\n",
    "            wrong_horse_ids_sex.add(horse.id)\n",
    "            \n",
    "        if is_wrong_stake_sequence(stakes=[runner.stakes for runner in horse.runners]):\n",
    "            wrong_horse_ids_stake.add(horse.id)\n",
    "            \n",
    "            \n",
    "    n_seen_horses+=len(horses)\n",
    "    while len(horses)==BATCH_SIZE:\n",
    "        start_id=horses[-1].id\n",
    "        horses=db_session.query(Horse).filter(Horse.id>start_id).order_by(Horse.id.asc()).limit(BATCH_SIZE).all()\n",
    "        for horse in tqdm.tqdm(horses, desc=f'{start_id}', total=len(horses)):\n",
    "            if is_wrong_age_sequence(ages=[runner.age for runner in horse.runners]):\n",
    "                wrong_horse_ids_age.add(horse.id)\n",
    "\n",
    "            if is_wrong_sex_sequence(sexes=[runner.sex for runner in horse.runners]):\n",
    "                wrong_horse_ids_sex.add(horse.id)\n",
    "\n",
    "            if is_wrong_stake_sequence(stakes=[runner.stakes for runner in horse.runners]):\n",
    "                wrong_horse_ids_stake.add(horse.id)\n",
    "            \n",
    "        n_seen_horses+=len(horses)"
   ]
  },
  {
   "cell_type": "code",
   "execution_count": 7,
   "metadata": {},
   "outputs": [
    {
     "data": {
      "text/plain": [
       "34069"
      ]
     },
     "execution_count": 7,
     "metadata": {},
     "output_type": "execute_result"
    }
   ],
   "source": [
    "n_seen_horses"
   ]
  },
  {
   "cell_type": "code",
   "execution_count": 8,
   "metadata": {},
   "outputs": [
    {
     "data": {
      "text/plain": [
       "4"
      ]
     },
     "execution_count": 8,
     "metadata": {},
     "output_type": "execute_result"
    }
   ],
   "source": [
    "len(wrong_horse_ids_age)"
   ]
  },
  {
   "cell_type": "code",
   "execution_count": 9,
   "metadata": {},
   "outputs": [
    {
     "data": {
      "text/plain": [
       "0"
      ]
     },
     "execution_count": 9,
     "metadata": {},
     "output_type": "execute_result"
    }
   ],
   "source": [
    "len(wrong_horse_ids_sex)"
   ]
  },
  {
   "cell_type": "code",
   "execution_count": 10,
   "metadata": {},
   "outputs": [
    {
     "data": {
      "text/plain": [
       "904"
      ]
     },
     "execution_count": 10,
     "metadata": {},
     "output_type": "execute_result"
    }
   ],
   "source": [
    "len(wrong_horse_ids_stake)"
   ]
  },
  {
   "cell_type": "code",
   "execution_count": 33,
   "metadata": {
    "scrolled": true
   },
   "outputs": [
    {
     "name": "stdout",
     "output_type": "stream",
     "text": [
      "    id  date          race_id  name            age  sex        stakes  origins                          music\n",
      "------  ----------  ---------  ------------  -----  -------  --------  -------------------------------  ----------------------------------------\n",
      "179551  2005-06-19      13949  KRYSOS SPEED     10  GELDING    437964  Tenor De Baune-for Ever In Love  (10) 8a 6a Da 7a 3a 1a 2a 5a 5a 4a 5a 0a\n",
      "183782  2005-07-09      14277  KRYSOS SPEED     10  GELDING    437964  Tenor De Baune-for Ever In Love  (10) 8a 6a Da 7a 3a 1a 2a 5a 5a 4a 5a 0a\n",
      "186817  2005-07-23      14510  KRYSOS SPEED     10  GELDING    440064  Tenor De Baune-for Ever In Love  (10) 8a 6a Da 7a 3a 1a 2a 5a 5a 4a 5a 0a\n",
      "190259  2005-08-07      14773  KRYSOS SPEED     10  GELDING    442864  Tenor De Baune-for Ever In Love  (10) 8a 6a Da 7a 3a 1a 2a 5a 5a 4a 5a 0a\n",
      "196446  2005-09-04      15263  KRYSOS SPEED     10  GELDING    443664  Tenor De Baune-for Ever In Love  (10) 8a 6a Da 7a 3a 1a 2a 5a 5a 4a 5a 0a\n",
      "208241  2005-10-25      16186  KRYSOS SPEED     10  GELDING    443664  Tenor De Baune-for Ever In Love  (10) 8a 6a Da 7a 3a 1a 2a 5a 5a 4a 5a 0a\n",
      "210319  2005-11-03      16341  KRYSOS SPEED     10  GELDING    443664  Tenor De Baune-for Ever In Love  (10) 8a 6a Da 7a 3a 1a 2a 5a 5a 4a 5a 0a\n",
      "211788  2005-11-09      16451  KRYSOS SPEED     10  GELDING    493664  Tenor De Baune-for Ever In Love  (10) 8a 6a Da 7a 3a 1a 2a 5a 5a 4a 5a 0a\n",
      "217412  2005-12-01      16864  KRYSOS SPEED     10  GELDING    528664  Tenor De Baune-for Ever In Love  (10) 8a 6a Da 7a 3a 1a 2a 5a 5a 4a 5a 0a\n",
      "224006  2005-12-25      17340  KRYSOS SPEED     12  GELDING    553664  Tenor De Baune-for Ever In Love  (10) 8a 6a Da 7a 3a 1a 2a 5a 5a 4a 5a 0a\n",
      "229547  2006-01-14      17746  KRYSOS SPEED     10  GELDING    554664  Tenor De Baune-for Ever In Love  (10) 8a 6a Da 7a 3a 1a 2a 5a 5a 4a 5a 0a\n",
      "235564  2006-02-05      18203  KRYSOS SPEED     10  GELDING    579664  Tenor De Baune-for Ever In Love  (10) 8a 6a Da 7a 3a 1a 2a 5a 5a 4a 5a 0a\n",
      "242883  2006-03-04      18770  KRYSOS SPEED     10  GELDING    579664  Tenor De Baune-for Ever In Love  (10) 8a 6a Da 7a 3a 1a 2a 5a 5a 4a 5a 0a\n",
      "251428  2006-04-02      19425  KRYSOS SPEED     10  GELDING    581664  Tenor De Baune-for Ever In Love  (10) 8a 6a Da 7a 3a 1a 2a 5a 5a 4a 5a 0a\n",
      "254744  2006-04-14      19692  KRYSOS SPEED     10  GELDING    581664  Tenor De Baune-for Ever In Love  (10) 8a 6a Da 7a 3a 1a 2a 5a 5a 4a 5a 0a\n",
      "\n",
      "    id  date          race_id  name          age  sex        stakes  origins                          music\n",
      "------  ----------  ---------  ----------  -----  -------  --------  -------------------------------  ---------------------------------------------\n",
      "202627  2005-10-01      15759  OPTIMISTIC      4  MALE       211189  Incredible Crafts-armbro Legacy  (07) Da 7a 7a 7a 5a 7a 8a 6a 4a 7a (06) 4a 5a\n",
      "205077  2005-10-11      15942  OPTIMISTIC      4  MALE       221189  Incredible Crafts-armbro Legacy  (07) Da 7a 7a 7a 5a 7a 8a 6a 4a 7a (06) 4a 5a\n",
      "211308  2005-11-07      16417  OPTIMISTIC     10  GELDING    233689  Incredible Crafts-Armbro Legacy  2a 2a 3a 7a (04) 3a 3a 1a\n",
      "234539  2006-02-01      18122  OPTIMISTIC      9  GELDING    234189  Incredible Crafts-armbro Legacy  (07) Da 7a 7a 7a 5a 7a 8a 6a 4a 7a (06) 4a 5a\n",
      "236943  2006-02-10      18312  OPTIMISTIC      9  GELDING    250689  Incredible Crafts-armbro Legacy  (07) Da 7a 7a 7a 5a 7a 8a 6a 4a 7a (06) 4a 5a\n",
      "239210  2006-02-18      18487  OPTIMISTIC      9  GELDING    264439  Incredible Crafts-armbro Legacy  (07) Da 7a 7a 7a 5a 7a 8a 6a 4a 7a (06) 4a 5a\n",
      "241478  2006-02-26      18665  OPTIMISTIC      9  GELDING    283439  Incredible Crafts-armbro Legacy  (07) Da 7a 7a 7a 5a 7a 8a 6a 4a 7a (06) 4a 5a\n",
      "\n",
      "    id  date          race_id  name          age  sex        stakes  origins                     music\n",
      "------  ----------  ---------  ----------  -----  -------  --------  --------------------------  ---------------------------------------------\n",
      "229829  2006-01-14      17767  TUFF DU MA      9  GELDING         0  Opus Broline-Unique De Mai  2a 4a 2a 1a 0a 0a 5a 0a Da 0a 0a\n",
      "237459  2006-02-11      18351  TUFF DU MA      6  GELDING         0  Opus Broline-Unique De Mai  (10) 0a 0a 0a 0a (09) 4a 0a 5a 0a 5a 0a 7a 5a\n",
      "245190  2006-03-11      18943  TUFF DU MA      9  GELDING         0  Opus Broline-Unique De Mai  3a 6a 5a 4a (05) 2a 4a 2a 1a 0a 0a\n",
      "250029  2006-03-28      19312  TUFF DU MA      9  GELDING         0  Opus Broline-Unique De Mai  0a 3a 6a 5a 4a (05) 2a 4a 2a 1a 0a\n",
      "\n",
      "    id  date          race_id  name          age  sex        stakes  origins                          music\n",
      "------  ----------  ---------  ----------  -----  -------  --------  -------------------------------  ------------------------------------------\n",
      "181647  2005-06-29      14113  STAG PARTY      5  GELDING     40620  Exit To Nowhere - Marital Bliss  (06) Th 1h 2h 6h (05) 0p 7p 4p 9p 0p 1p 0p\n",
      "188976  2005-08-02      14675  STAG PARTY      5  GELDING     63180  Exit To Nowhere - Marital Bliss  (06) Th 1h 2h 6h (05) 0p 7p 4p 9p 0p 1p 0p\n",
      "197188  2005-09-08      15324  STAG PARTY      5  GELDING     63180  Exit To Nowhere-Marital Bliss    8p 1p 8p 4p 0p 1p 7p (04)\n",
      "202411  2005-10-01      15742  STAG PARTY      5  GELDING     63180  Exit To Nowhere-Marital Bliss    9p 8p 1p 8p 4p 0p 1p 7p\n",
      "206454  2005-10-17      16053  STAG PARTY      5  GELDING     69030  Exit To Nowhere - Marital Bliss  (06) Th 1h 2h 6h (05) 0p 7p 4p 9p 0p 1p 0p\n",
      "216629  2005-11-28      16811  STAG PARTY      5  GELDING     69990  Exit To Nowhere - Marital Bliss  (06) Th 1h 2h 6h (05) 0p 7p 4p 9p 0p 1p 0p\n",
      "222110  2005-12-17      17209  STAG PARTY      4  GELDING         0  Exit To Nowhere/Marital Bliss    11p (04) 6p (03) 3p 2p\n",
      "239525  2006-02-20      18514  STAG PARTY      5  GELDING         0  Exit To Nowhere - Marital Bliss  (06) Th 1h 2h 6h (05) 0p 7p 4p 9p 0p 1p 0p\n",
      "246243  2006-03-15      19021  STAG PARTY      5  GELDING         0  Exit To Nowhere - Marital Bliss  (06) Th 1h 2h 6h (05) 0p 7p 4p 9p 0p 1p 0p\n",
      "255286  2006-04-16      19734  STAG PARTY      5  GELDING     10080  Exit To Nowhere - Marital Bliss  (06) Th 1h 2h 6h (05) 0p 7p 4p 9p 0p 1p 0p\n",
      "\n"
     ]
    }
   ],
   "source": [
    "# print runners\n",
    "filter_recent_dates = False\n",
    "horse_ids = wrong_horse_ids_age\n",
    "\n",
    "with create_sqlalchemy_session() as db_session:\n",
    "    for horse_id in horse_ids:\n",
    "    #for horse_id in random.sample(horse_ids,10):\n",
    "        runners=db_session.query(Runner).filter(Runner.horse_id==horse_id).all()\n",
    "        if filter_recent_dates and (runners[0].date<dt.date(2019,1,1)):\n",
    "            continue\n",
    "        headers= [\"id\", \"date\",\"race_id\",\"name\",   \"age\", \"sex\",\"stakes\", \"origins\", \"music\"]\n",
    "        to_print=[]\n",
    "        for runner in runners:\n",
    "            to_print.append([runner.id, runner.date,runner.race_id, runner.horse.name, runner.age,runner.sex.name,  runner.stakes, runner.origins, runner.music])\n",
    "            \n",
    "        print(tabulate(to_print, headers=headers))\n",
    "        \n",
    "        print()"
   ]
  },
  {
   "cell_type": "code",
   "execution_count": 34,
   "metadata": {},
   "outputs": [],
   "source": [
    "runner_id =196446"
   ]
  },
  {
   "cell_type": "code",
   "execution_count": 35,
   "metadata": {},
   "outputs": [],
   "source": [
    "with create_sqlalchemy_session() as db_session:\n",
    "    runner = db_session.query(Runner).filter(Runner.id==runner_id).one()\n",
    "    runner.unibet_code\n",
    "    runner.race_id\n"
   ]
  },
  {
   "cell_type": "code",
   "execution_count": 36,
   "metadata": {},
   "outputs": [
    {
     "name": "stdout",
     "output_type": "stream",
     "text": [
      "from programme.json {'zeturfId': 30263, 'raceId': 2363, 'rank': 16, 'name': 'KRYSOS SPEED (FR)', 'jockey': 'Geslin P. A.', 'weight': 0, 'distance': 2800, 'status': '40', 'team': 2, 'draw': 0, 'blinkers': '0', 'shoes': '', 'position': '0', 'silk': None, 'betcounter': 0, 'details': None}\n",
      "\n",
      "from race.json {'zeturfId': 30263, 'raceId': 2363, 'rank': 16, 'name': 'KRYSOS SPEED (FR)', 'jockey': 'Geslin P. A.', 'weight': 0, 'distance': 2800, 'status': '40', 'team': 2, 'draw': 0, 'blinkers': '0', 'shoes': '', 'position': '0', 'silk': None, 'betcounter': 0, 'details': {'zeturfId': 30263, 'stakes': 443664, 'musique': '7a 6a 5a 0a Da Da 5a 7a 0a Da Da', 'sex': 'H', 'age': '10', 'owner': 'M Jean Paul Monti', 'trainer': 'Laudren L.', 'coat': 'Al.', 'origins': 'Tenor de Baune-For Ever In Love', 'comment': '', 'time': None, 'reduction': None, 'length': None}}\n",
      "\n",
      "from runner.json {'corde': 0, 'casaque': '/casaques_ok/T0014511.gif', 'sexe': 'H', 'discipline': 'Attelé', 'oeillere': '', 'jockey': 'Pascal André GESLIN', 'nom': 'KRYSOS SPEED', 'gain': 670173, 'proprietaire': 'Ecurie Juriens', 'entraineur': 'GESLIN P.A.', 'robe': 'Al.', 'musique': '(10) 8a 6a Da 7a 3a 1a 2a 5a 5a 4a 5a 0a', 'record': '1\\'12\"9', 'ferrure': 0, 'age': 1999, 'parents': 'Tenor De Baune-for Ever In Love'}\n"
     ]
    }
   ],
   "source": [
    "date, horse_show_rank, race_rank, runner_rank = runner.unibet_code\n",
    "if not date.isoformat() in os.listdir(UNIBET_DATA_PATH):\n",
    "    logger.warning(\"Could not find folder for date: %s\", date.isoformat())\n",
    "    \n",
    "day_folder_path = os.path.join(UNIBET_DATA_PATH, date.isoformat())\n",
    "if \"programme.json\" not in os.listdir(day_folder_path):\n",
    "    logger.warning(\n",
    "        \"Could not find programme.json for date: %s\", date.isoformat()\n",
    "    )\n",
    "    \n",
    "\n",
    "with open(os.path.join(day_folder_path, \"programme.json\"), \"r\") as fp:\n",
    "    programme = json.load(fp=fp)\n",
    "    \n",
    "horse_shows_dict = programme[\"data\"]\n",
    "for horse_show_dict in horse_shows_dict:\n",
    "    if horse_show_dict['rank']==horse_show_rank:\n",
    "        for race_dict in horse_show_dict['races']:\n",
    "            if race_dict['rank']==race_rank:\n",
    "                for runner_dict in race_dict['runners']:\n",
    "                    if runner_dict['rank']==runner_rank:\n",
    "                        print(\"from programme.json\", runner_dict)\n",
    "print()\n",
    "                        \n",
    "race_path = os.path.join(\n",
    "    day_folder_path,\n",
    "    f\"R{horse_show_rank}_C{race_rank}.json\",\n",
    ")\n",
    "with open(race_path, \"r\") as fp:\n",
    "    complete_race_dict = json.load(fp=fp)\n",
    "    \n",
    "for runner_dict in complete_race_dict['runners']:\n",
    "    if runner_dict['rank']==runner_rank:\n",
    "        print(\"from race.json\", runner_dict)\n",
    "        \n",
    "print()\n",
    "\n",
    "runner_statistics_path = os.path.join(\n",
    "day_folder_path,\n",
    "f\"R{horse_show_rank}_\"\n",
    "f\"C{race_rank}_\"\n",
    "f\"RN{runner_rank}.json\",\n",
    ")\n",
    "with open(runner_statistics_path, \"r\") as fp:\n",
    "    runner_stats = json.load(fp=fp)\n",
    "print(\"from runner.json\", runner_stats.get('fiche', {}).get('infos_generales', None))"
   ]
  },
  {
   "cell_type": "code",
   "execution_count": 21,
   "metadata": {},
   "outputs": [
    {
     "data": {
      "text/plain": [
       "{'get_url': 'https://www.unibet.fr/zones/turf/statistiques.json?raceId=4603&runnerRank=4',\n",
       " 'query_date': '2020-11-16T12:12:50.169205'}"
      ]
     },
     "execution_count": 21,
     "metadata": {},
     "output_type": "execute_result"
    }
   ],
   "source": [
    "runner_stats"
   ]
  },
  {
   "cell_type": "code",
   "execution_count": 99,
   "metadata": {
    "scrolled": true
   },
   "outputs": [
    {
     "data": {
      "text/plain": [
       "{'get_url': 'https://www.unibet.fr/zones/turf/race.json?raceId=244977',\n",
       " 'query_date': '2020-05-03T05:41:03.964704',\n",
       " 'zeturfId': 244977,\n",
       " 'meetingId': 39983,\n",
       " 'starttime': 1578163500000,\n",
       " 'date': '2020-01-04',\n",
       " 'type': 'Plat',\n",
       " 'name': 'Prix Ballistic',\n",
       " 'rank': 2,\n",
       " 'conditions': 'Handicap - 3 ans et plus - Sable - Corde à gauche',\n",
       " 'stake': 5987,\n",
       " 'arjelLevel': '2',\n",
       " 'distance': 1900,\n",
       " 'betCounter': None,\n",
       " 'friendlyUrl': '/turf/race/04-01-2020-R5-C2-chile-prix-ballistic.html',\n",
       " 'runners': [{'zeturfId': 2990640,\n",
       "   'raceId': 244977,\n",
       "   'rank': 1,\n",
       "   'name': 'EMPRESARIAL (CL)',\n",
       "   'jockey': 'Medina Ja.',\n",
       "   'weight': 52,\n",
       "   'distance': 0,\n",
       "   'status': '40',\n",
       "   'team': 0,\n",
       "   'draw': 1,\n",
       "   'blinkers': '0',\n",
       "   'shoes': '',\n",
       "   'position': '1',\n",
       "   'silk': '6967_202001040_0201.gif',\n",
       "   'betcounter': 0,\n",
       "   'details': {'zeturfId': 2990640,\n",
       "    'stakes': 0,\n",
       "    'musique': '(19) 6p 1p 5p 2p 6p 0p 1p 0p 2p 7p 6p 0p ',\n",
       "    'sex': 'H',\n",
       "    'age': '7',\n",
       "    'owner': 'Maquehua',\n",
       "    'trainer': 'Ivan Gonzalez B.',\n",
       "    'coat': '',\n",
       "    'origins': 'Last Best Place-Gwyneth',\n",
       "    'comment': '',\n",
       "    'time': None,\n",
       "    'reduction': None,\n",
       "    'length': None}},\n",
       "  {'zeturfId': 2990641,\n",
       "   'raceId': 244977,\n",
       "   'rank': 2,\n",
       "   'name': 'GRAN WINNER (CL)',\n",
       "   'jockey': 'Vargas W.',\n",
       "   'weight': 55,\n",
       "   'distance': 0,\n",
       "   'status': '40',\n",
       "   'team': 0,\n",
       "   'draw': 2,\n",
       "   'blinkers': '0',\n",
       "   'shoes': '',\n",
       "   'position': '4',\n",
       "   'silk': '6967_202001040_0202.gif',\n",
       "   'betcounter': 0,\n",
       "   'details': {'zeturfId': 2990641,\n",
       "    'stakes': 0,\n",
       "    'musique': '(19) 4p 2p 2p 6p 3p 4p 6p 0p 4p 4p 4p 3p ',\n",
       "    'sex': 'M',\n",
       "    'age': '5',\n",
       "    'owner': 'Stud Haras Lizzie',\n",
       "    'trainer': 'Pablo Trucco B.',\n",
       "    'coat': '',\n",
       "    'origins': 'Distorted Economy-Wifalas',\n",
       "    'comment': '',\n",
       "    'time': None,\n",
       "    'reduction': None,\n",
       "    'length': '2 L 1/2'}},\n",
       "  {'zeturfId': 2990642,\n",
       "   'raceId': 244977,\n",
       "   'rank': 3,\n",
       "   'name': 'THIMOTHEE (CL)',\n",
       "   'jockey': 'Rodriguez L.',\n",
       "   'weight': 55,\n",
       "   'distance': 0,\n",
       "   'status': '40',\n",
       "   'team': 0,\n",
       "   'draw': 3,\n",
       "   'blinkers': '0',\n",
       "   'shoes': '',\n",
       "   'position': '0',\n",
       "   'silk': '6967_202003210_0609.gif',\n",
       "   'betcounter': 0,\n",
       "   'details': {'zeturfId': 2990642,\n",
       "    'stakes': 0,\n",
       "    'musique': '(19) 7p 8p 3p 8p 7p 3p 5p 4p 0p 9p 0p 6p ',\n",
       "    'sex': 'M',\n",
       "    'age': '4',\n",
       "    'owner': 'Claudio Saide A.',\n",
       "    'trainer': 'Tapia S. S.',\n",
       "    'coat': '',\n",
       "    'origins': 'Tumblebrutus-Sister Carolina',\n",
       "    'comment': '',\n",
       "    'time': None,\n",
       "    'reduction': None,\n",
       "    'length': '5 L 1/2'}},\n",
       "  {'zeturfId': 2990643,\n",
       "   'raceId': 244977,\n",
       "   'rank': 4,\n",
       "   'name': 'CORAZON DE CAFE (CL)',\n",
       "   'jockey': 'Silva Ruiz L. A.',\n",
       "   'weight': 50,\n",
       "   'distance': 0,\n",
       "   'status': '40',\n",
       "   'team': 0,\n",
       "   'draw': 4,\n",
       "   'blinkers': '0',\n",
       "   'shoes': '',\n",
       "   'position': '0',\n",
       "   'silk': '6967_202001040_0204.gif',\n",
       "   'betcounter': 0,\n",
       "   'details': {'zeturfId': 2990643,\n",
       "    'stakes': 0,\n",
       "    'musique': '(19) 0p 0p 7p 0p 9p 0p 0p 7p 4p 4p 7p 2p ',\n",
       "    'sex': 'M',\n",
       "    'age': '7',\n",
       "    'owner': 'Margal',\n",
       "    'trainer': 'Hernan Pacheco P.',\n",
       "    'coat': '',\n",
       "    'origins': 'Breathless Storm-Sherazade',\n",
       "    'comment': '',\n",
       "    'time': None,\n",
       "    'reduction': None,\n",
       "    'length': '7 L 1/2'}},\n",
       "  {'zeturfId': 2990644,\n",
       "   'raceId': 244977,\n",
       "   'rank': 5,\n",
       "   'name': 'SOLIN (AR)',\n",
       "   'jockey': 'Gonzalez Moreno J. A.',\n",
       "   'weight': 57,\n",
       "   'distance': 0,\n",
       "   'status': '40',\n",
       "   'team': 0,\n",
       "   'draw': 5,\n",
       "   'blinkers': '0',\n",
       "   'shoes': '',\n",
       "   'position': '2',\n",
       "   'silk': '6967_202003050_1101.gif',\n",
       "   'betcounter': 0,\n",
       "   'details': {'zeturfId': 2990644,\n",
       "    'stakes': 0,\n",
       "    'musique': '(19) 6p 1p 2p 1p 3p 6p 1p (18) 0p 3p 0p 0p 0p ',\n",
       "    'sex': 'M',\n",
       "    'age': '7',\n",
       "    'owner': 'Casimiro',\n",
       "    'trainer': 'Urenda Pastene X.',\n",
       "    'coat': '',\n",
       "    'origins': 'Cima De Triomphe-Social',\n",
       "    'comment': '',\n",
       "    'time': None,\n",
       "    'reduction': None,\n",
       "    'length': '3 L 1/2'}},\n",
       "  {'zeturfId': 2990645,\n",
       "   'raceId': 244977,\n",
       "   'rank': 6,\n",
       "   'name': 'RANCHO VIEJO (CL)',\n",
       "   'jockey': 'Zuniga Diaz A.H.',\n",
       "   'weight': 55,\n",
       "   'distance': 0,\n",
       "   'status': '40',\n",
       "   'team': 0,\n",
       "   'draw': 6,\n",
       "   'blinkers': '0',\n",
       "   'shoes': '',\n",
       "   'position': '5',\n",
       "   'silk': '6967_202003210_0215.gif',\n",
       "   'betcounter': 0,\n",
       "   'details': {'zeturfId': 2990645,\n",
       "    'stakes': 0,\n",
       "    'musique': '(19) 9p 1p 4p 5p 5p 4p 0p 8p 8p 0p 8p 0p ',\n",
       "    'sex': 'M',\n",
       "    'age': '7',\n",
       "    'owner': 'Pilar Andrea',\n",
       "    'trainer': 'Gonzalez Sobarzo F.',\n",
       "    'coat': 'B. Fonce',\n",
       "    'origins': 'Bonus Fever-Gee Baby',\n",
       "    'comment': '',\n",
       "    'time': None,\n",
       "    'reduction': None,\n",
       "    'length': '1 L 1/2'}},\n",
       "  {'zeturfId': 2990646,\n",
       "   'raceId': 244977,\n",
       "   'rank': 7,\n",
       "   'name': 'IGNACIO EL RAPIDO (CL)',\n",
       "   'jockey': 'Pontigo Suazo G.',\n",
       "   'weight': 55,\n",
       "   'distance': 0,\n",
       "   'status': '40',\n",
       "   'team': 0,\n",
       "   'draw': 7,\n",
       "   'blinkers': '0',\n",
       "   'shoes': '',\n",
       "   'position': '3',\n",
       "   'silk': '6967_202001040_0207.gif',\n",
       "   'betcounter': 0,\n",
       "   'details': {'zeturfId': 2990646,\n",
       "    'stakes': 0,\n",
       "    'musique': '(19) 3p 2p 3p 3p 1p 5p 1p 2p (18) 6p 7p 6p 2p ',\n",
       "    'sex': 'M',\n",
       "    'age': '5',\n",
       "    'owner': 'Hermanos Diaz',\n",
       "    'trainer': 'Baeza J. J. P.',\n",
       "    'coat': '',\n",
       "    'origins': 'Tumblebrutus-Rie Mema',\n",
       "    'comment': '',\n",
       "    'time': None,\n",
       "    'reduction': None,\n",
       "    'length': '3 L 1/2'}},\n",
       "  {'zeturfId': 2990647,\n",
       "   'raceId': 244977,\n",
       "   'rank': 8,\n",
       "   'name': 'SECRETO DOMINICAL (CL)',\n",
       "   'jockey': 'Hernandez Amestica J.',\n",
       "   'weight': 51,\n",
       "   'distance': 0,\n",
       "   'status': '40',\n",
       "   'team': 0,\n",
       "   'draw': 8,\n",
       "   'blinkers': '0',\n",
       "   'shoes': '',\n",
       "   'position': '0',\n",
       "   'silk': '6967_202001040_0208.gif',\n",
       "   'betcounter': 0,\n",
       "   'details': {'zeturfId': 2990647,\n",
       "    'stakes': 0,\n",
       "    'musique': '(19) 2p 0p 4p 7p 7p 0p 8p 0p 5p 3p 7p 0p ',\n",
       "    'sex': 'M',\n",
       "    'age': '4',\n",
       "    'owner': 'Cacique',\n",
       "    'trainer': 'Covarrubias E. G. J.',\n",
       "    'coat': 'Brown',\n",
       "    'origins': 'Domingo Siete-Secret Merchant',\n",
       "    'comment': '',\n",
       "    'time': None,\n",
       "    'reduction': None,\n",
       "    'length': '11 L'}},\n",
       "  {'zeturfId': 2990648,\n",
       "   'raceId': 244977,\n",
       "   'rank': 9,\n",
       "   'name': 'FAST BOY (CL)',\n",
       "   'jockey': 'Leon W.',\n",
       "   'weight': 54,\n",
       "   'distance': 0,\n",
       "   'status': '40',\n",
       "   'team': 0,\n",
       "   'draw': 9,\n",
       "   'blinkers': '0',\n",
       "   'shoes': '',\n",
       "   'position': '6',\n",
       "   'silk': None,\n",
       "   'betcounter': 0,\n",
       "   'details': {'zeturfId': 2990648,\n",
       "    'stakes': 0,\n",
       "    'musique': '(19) 7p 3p 5p 2p 3p 3p 0p (18) 7p 1p 8p 4p 9p ',\n",
       "    'sex': 'M',\n",
       "    'age': '5',\n",
       "    'owner': 'Dieciocho Greco',\n",
       "    'trainer': 'Pulgar A. R.',\n",
       "    'coat': '',\n",
       "    'origins': 'Fast Company-Costa De Malabar',\n",
       "    'comment': '',\n",
       "    'time': None,\n",
       "    'reduction': None,\n",
       "    'length': '1 L 1/2'}},\n",
       "  {'zeturfId': 2990649,\n",
       "   'raceId': 244977,\n",
       "   'rank': 10,\n",
       "   'name': 'MAXIMIANO (CL)',\n",
       "   'jockey': 'Zuniga Jo.',\n",
       "   'weight': 52,\n",
       "   'distance': 0,\n",
       "   'status': '40',\n",
       "   'team': 0,\n",
       "   'draw': 10,\n",
       "   'blinkers': '0',\n",
       "   'shoes': '',\n",
       "   'position': '7',\n",
       "   'silk': '6967_202003050_1113.gif',\n",
       "   'betcounter': 0,\n",
       "   'details': {'zeturfId': 2990649,\n",
       "    'stakes': 0,\n",
       "    'musique': '(19) 8p 5p 0p 0p 6p 2p 5p 7p 5p 5p 5p 1p ',\n",
       "    'sex': 'M',\n",
       "    'age': '7',\n",
       "    'owner': 'Triple A',\n",
       "    'trainer': 'Wilson Robles F.',\n",
       "    'coat': '',\n",
       "    'origins': 'Pavarotti-La Malcontenta',\n",
       "    'comment': '',\n",
       "    'time': None,\n",
       "    'reduction': None,\n",
       "    'length': 'ENCOLURE'}}],\n",
       " 'details': {'zeturfId': 244977,\n",
       "  'betList': [{'type': 1,\n",
       "    'rate': 86.5,\n",
       "    'max': 450,\n",
       "    'open': False,\n",
       "    'status': 16,\n",
       "    'isolated': 0,\n",
       "    'betstatus': 'PAID'},\n",
       "   {'type': 2,\n",
       "    'rate': 82.0,\n",
       "    'max': 450,\n",
       "    'open': False,\n",
       "    'status': 16,\n",
       "    'isolated': 0,\n",
       "    'betstatus': 'PAID'},\n",
       "   {'type': 3,\n",
       "    'rate': 75.0,\n",
       "    'max': 50,\n",
       "    'open': False,\n",
       "    'status': 16,\n",
       "    'isolated': 0,\n",
       "    'betstatus': 'PAID'},\n",
       "   {'type': 5,\n",
       "    'rate': 75.0,\n",
       "    'max': 50,\n",
       "    'open': False,\n",
       "    'status': 16,\n",
       "    'isolated': 0,\n",
       "    'betstatus': 'PAID'},\n",
       "   {'type': 4,\n",
       "    'rate': 74.0,\n",
       "    'max': 50,\n",
       "    'open': False,\n",
       "    'status': 16,\n",
       "    'isolated': 0,\n",
       "    'betstatus': 'PAID'},\n",
       "   {'type': 6,\n",
       "    'rate': 70.0,\n",
       "    'max': 50,\n",
       "    'open': False,\n",
       "    'status': 16,\n",
       "    'isolated': 0,\n",
       "    'betstatus': 'PAID'},\n",
       "   {'type': 11,\n",
       "    'rate': 70.0,\n",
       "    'max': 50,\n",
       "    'open': False,\n",
       "    'status': 16,\n",
       "    'isolated': 0,\n",
       "    'betstatus': 'PAID'},\n",
       "   {'type': 13,\n",
       "    'rate': 75.0,\n",
       "    'max': 50,\n",
       "    'open': False,\n",
       "    'status': 16,\n",
       "    'isolated': 0,\n",
       "    'betstatus': 'PAID'},\n",
       "   {'type': 8,\n",
       "    'rate': 70.0,\n",
       "    'max': 50,\n",
       "    'open': False,\n",
       "    'status': 16,\n",
       "    'isolated': 0,\n",
       "    'betstatus': 'PAID'},\n",
       "   {'type': 29,\n",
       "    'rate': 80.0,\n",
       "    'max': 100,\n",
       "    'open': False,\n",
       "    'status': 16,\n",
       "    'isolated': 0,\n",
       "    'betstatus': 'PAID'},\n",
       "   {'type': 7,\n",
       "    'rate': 80.0,\n",
       "    'max': 100,\n",
       "    'open': False,\n",
       "    'status': 16,\n",
       "    'isolated': 0,\n",
       "    'betstatus': 'PAID'}],\n",
       "  'pronostic': \"Associé à un poids-plume, <strong>Secreto Dominical</strong> peut voler la vedette à <strong>Ignacio El Rapido</strong>, qui fait toutes ses courses, à l'image de <strong>Gran Winner</strong>, lequel aura l'avantage de la corde. Décevant le 21 décembre, <strong>Empresarial</strong> ne peut être condamné trop vite.<strong> Solin</strong> a du mal à Chile, mais peut briller à ce niveau dans un jour faste !\",\n",
       "  'pronosticList': [{'rank': 1,\n",
       "    'number': 7,\n",
       "    'name': 'IGNACIO EL RAPIDO (CL)',\n",
       "    'comment': None,\n",
       "    'long_comment': None},\n",
       "   {'rank': 2,\n",
       "    'number': 8,\n",
       "    'name': 'SECRETO DOMINICAL (CL)',\n",
       "    'comment': None,\n",
       "    'long_comment': None},\n",
       "   {'rank': 3,\n",
       "    'number': 2,\n",
       "    'name': 'GRAN WINNER (CL)',\n",
       "    'comment': None,\n",
       "    'long_comment': None},\n",
       "   {'rank': 4,\n",
       "    'number': 1,\n",
       "    'name': 'EMPRESARIAL (CL)',\n",
       "    'comment': None,\n",
       "    'long_comment': None},\n",
       "   {'rank': 5,\n",
       "    'number': 5,\n",
       "    'name': 'SOLIN (AR)',\n",
       "    'comment': None,\n",
       "    'long_comment': None}],\n",
       "  'raceDuration': \"2'02''01\",\n",
       "  'betState': 16,\n",
       "  'photos': [],\n",
       "  'raceBetStatus': 'PAID',\n",
       "  'probables': {'5': {'1': 6.3,\n",
       "    '2': 5.9,\n",
       "    '3': 53.0,\n",
       "    '4': 159.3,\n",
       "    '5': 6.0,\n",
       "    '6': 43.3,\n",
       "    '7': 2.1,\n",
       "    '8': 18.0,\n",
       "    '9': 42.0,\n",
       "    '10': 8.8},\n",
       "   '6': {'1': 4.7,\n",
       "    '2': 5.3,\n",
       "    '3': 74.4,\n",
       "    '4': 74.4,\n",
       "    '5': 11.4,\n",
       "    '6': 34.7,\n",
       "    '7': 2.3,\n",
       "    '8': 7.9,\n",
       "    '9': 30.2,\n",
       "    '10': 12.4},\n",
       "   '7': {'1': 8.7,\n",
       "    '2': 11.0,\n",
       "    '3': 11.0,\n",
       "    '4': 12.7,\n",
       "    '5': 6.1,\n",
       "    '6': 10.6,\n",
       "    '7': 7.7,\n",
       "    '8': 6.6,\n",
       "    '9': 8.0,\n",
       "    '10': 5.0},\n",
       "   '8': {'1': 1.1,\n",
       "    '2': 1.1,\n",
       "    '3': 7.0,\n",
       "    '4': 7.9,\n",
       "    '5': 1.7,\n",
       "    '6': 6.4,\n",
       "    '7': 1.1,\n",
       "    '8': 1.8,\n",
       "    '9': 4.5,\n",
       "    '10': 3.0},\n",
       "   '9': {'1': 2.0,\n",
       "    '2': 2.1,\n",
       "    '3': 15.2,\n",
       "    '4': 17.2,\n",
       "    '5': 3.5,\n",
       "    '6': 13.8,\n",
       "    '7': 1.4,\n",
       "    '8': 3.5,\n",
       "    '9': 9.5,\n",
       "    '10': 6.2},\n",
       "   '13': {'1': 3.4,\n",
       "    '2': 4.1,\n",
       "    '3': 28.7,\n",
       "    '4': 31.9,\n",
       "    '5': 10.6,\n",
       "    '6': 19.1,\n",
       "    '7': 4.6,\n",
       "    '8': 9.5,\n",
       "    '9': 16.8,\n",
       "    '10': 9.0}},\n",
       "  'rates': [{'type': '1', 'combination': '1', 'rate': '4.7'},\n",
       "   {'type': '2', 'combination': '1', 'rate': '1.3'},\n",
       "   {'type': '2', 'combination': '5', 'rate': '1.7'},\n",
       "   {'type': '2', 'combination': '7', 'rate': '1.10'},\n",
       "   {'type': '3', 'combination': '1-5', 'rate': '23.7'},\n",
       "   {'type': '5', 'combination': '1-5', 'rate': '4.9'},\n",
       "   {'type': '5', 'combination': '1-7', 'rate': '2.2'},\n",
       "   {'type': '5', 'combination': '5-7', 'rate': '2.7'},\n",
       "   {'type': '4', 'combination': '1-5', 'rate': '37.7'},\n",
       "   {'type': '6', 'combination': '1-5-7', 'rate': '7.8'},\n",
       "   {'type': '11', 'combination': '1-5-7', 'rate': '118.1'},\n",
       "   {'type': '13', 'combination': '1-5', 'rate': '1.10'},\n",
       "   {'type': '13', 'combination': '1-7', 'rate': '1.10'},\n",
       "   {'type': '13', 'combination': '1-2', 'rate': '1.10'},\n",
       "   {'type': '13', 'combination': '5-7', 'rate': '1.10'},\n",
       "   {'type': '13', 'combination': '5-2', 'rate': '1.10'},\n",
       "   {'type': '13', 'combination': '7-2', 'rate': '1.10'},\n",
       "   {'type': '8', 'combination': '1-5-7-2', 'rate': '7.9'},\n",
       "   {'type': '29', 'combination': '5', 'rate': '10.6'},\n",
       "   {'type': '7', 'combination': '2', 'rate': '11.0'}]},\n",
       " 'results': {'zeturfId': 244977,\n",
       "  'status': 6,\n",
       "  'positions': [{'position': 1, 'numbers': [1]},\n",
       "   {'position': 2, 'numbers': [5]},\n",
       "   {'position': 3, 'numbers': [7]},\n",
       "   {'position': 4, 'numbers': [2]},\n",
       "   {'position': 5, 'numbers': [6]},\n",
       "   {'position': 6, 'numbers': [9]},\n",
       "   {'position': 7, 'numbers': [10]}],\n",
       "  'liveComments': []}}"
      ]
     },
     "execution_count": 99,
     "metadata": {},
     "output_type": "execute_result"
    }
   ],
   "source": [
    "complete_race_dict"
   ]
  },
  {
   "cell_type": "code",
   "execution_count": 85,
   "metadata": {
    "scrolled": true
   },
   "outputs": [
    {
     "data": {
      "text/plain": [
       "{'get_url': 'https://www.unibet.fr/zones/turf/statistiques.json?raceId=248180&runnerRank=3',\n",
       " 'query_date': '2020-11-23T05:08:37.653888',\n",
       " 'fiche': {'infos_generales': {'corde': 3,\n",
       "   'casaque': '/casaques_ok/G0186249.gif',\n",
       "   'sexe': 'M',\n",
       "   'discipline': 'Plat',\n",
       "   'oeillere': '',\n",
       "   'jockey': 'Nelson Enrique FIGUEROA MARTINEZ',\n",
       "   'nom': 'CIZAnERO {CHL}',\n",
       "   'gain': 0,\n",
       "   'proprietaire': 'La Tropa',\n",
       "   'entraineur': 'TAPIA S. S.',\n",
       "   'robe': '',\n",
       "   'musique': '4p 5p 0p 1p 8p 4p 2p 4p 1p 5p 0p 6p',\n",
       "   'record': '',\n",
       "   'ferrure': 0,\n",
       "   'age': 2016,\n",
       "   'parents': 'Wildcat Spirit - La Kadima'},\n",
       "  'perfs': {'course': [{'date': '2020-10-22',\n",
       "     'nom_course': 'PRIX Floreado',\n",
       "     'prix': 3698,\n",
       "     'partant': {'cheval': [{'corde': 5,\n",
       "        'num_cheval': 5,\n",
       "        'distance': 0,\n",
       "        'handicap': '',\n",
       "        'poids': 56,\n",
       "        'classement': 1,\n",
       "        'oeillere': '',\n",
       "        'tx_recla': '',\n",
       "        'nom': 'QUASSAR {CHL}',\n",
       "        'jockey': 'Diego N. Sanchez',\n",
       "        'temps': '',\n",
       "        'cote': '',\n",
       "        'selection': '',\n",
       "        'ferrure': 0},\n",
       "       {'corde': 6,\n",
       "        'num_cheval': 6,\n",
       "        'distance': 0,\n",
       "        'handicap': '',\n",
       "        'poids': 55,\n",
       "        'classement': 2,\n",
       "        'oeillere': '',\n",
       "        'tx_recla': '',\n",
       "        'nom': 'PANDA EXPRESS {CHL}',\n",
       "        'jockey': 'M. Galaz',\n",
       "        'temps': '',\n",
       "        'cote': '',\n",
       "        'selection': '',\n",
       "        'ferrure': 0},\n",
       "       {'corde': 2,\n",
       "        'num_cheval': 2,\n",
       "        'distance': 0,\n",
       "        'handicap': '',\n",
       "        'poids': 56,\n",
       "        'classement': 3,\n",
       "        'oeillere': '',\n",
       "        'tx_recla': '',\n",
       "        'nom': 'SUMMER ROYAL {CHL}',\n",
       "        'jockey': 'A. Vasquez',\n",
       "        'temps': '',\n",
       "        'cote': '',\n",
       "        'selection': '',\n",
       "        'ferrure': 0},\n",
       "       {'corde': 4,\n",
       "        'num_cheval': 4,\n",
       "        'distance': 0,\n",
       "        'handicap': '',\n",
       "        'poids': 57,\n",
       "        'classement': 4,\n",
       "        'oeillere': '',\n",
       "        'tx_recla': '',\n",
       "        'nom': 'CIZAnERO {CHL}',\n",
       "        'jockey': 'ALBORNOZ Jo뮠I.',\n",
       "        'temps': '',\n",
       "        'cote': '',\n",
       "        'selection': 'O',\n",
       "        'ferrure': 0},\n",
       "       {'corde': 1,\n",
       "        'num_cheval': 1,\n",
       "        'distance': 0,\n",
       "        'handicap': '',\n",
       "        'poids': 51,\n",
       "        'classement': 5,\n",
       "        'oeillere': '',\n",
       "        'tx_recla': '',\n",
       "        'nom': 'FUERTENIEBLA {CHL}',\n",
       "        'jockey': 'L. Silva',\n",
       "        'temps': '',\n",
       "        'cote': '',\n",
       "        'selection': '',\n",
       "        'ferrure': 0},\n",
       "       {'corde': 8,\n",
       "        'num_cheval': 8,\n",
       "        'distance': 0,\n",
       "        'handicap': '',\n",
       "        'poids': 56,\n",
       "        'classement': 6,\n",
       "        'oeillere': '',\n",
       "        'tx_recla': '',\n",
       "        'nom': 'PALOMO INFIEL {CHL}',\n",
       "        'jockey': 'R. Avila',\n",
       "        'temps': '',\n",
       "        'cote': '',\n",
       "        'selection': '',\n",
       "        'ferrure': 0}]},\n",
       "     'nb_partants': 10,\n",
       "     'photo2': '',\n",
       "     'hippodrome': 'CHL-CHILE',\n",
       "     'temps_min': '',\n",
       "     'photo1': '',\n",
       "     'genre': 'Plat - Handicap - 3 ans et plus - 1400m. (PSF)',\n",
       "     'nom_entraineur': 'ROJAS SOTO R.',\n",
       "     'bonne_note': '',\n",
       "     'blabla': '',\n",
       "     'ecart_arrivee': '2 1/4 - 1/2 - 1 - 2 - 2 1/4 - DH -',\n",
       "     'num_course': 12,\n",
       "     'terrain': ''},\n",
       "    {'date': '2020-10-17',\n",
       "     'nom_course': 'PRIX El Caburga',\n",
       "     'prix': 5405,\n",
       "     'partant': {'cheval': [{'corde': 2,\n",
       "        'num_cheval': 2,\n",
       "        'distance': 0,\n",
       "        'handicap': '',\n",
       "        'poids': 56,\n",
       "        'classement': 1,\n",
       "        'oeillere': '',\n",
       "        'tx_recla': '',\n",
       "        'nom': 'WAR SUBJECTIVE {CHL}',\n",
       "        'jockey': 'G. Ulloa',\n",
       "        'temps': '',\n",
       "        'cote': '',\n",
       "        'selection': '',\n",
       "        'ferrure': 0},\n",
       "       {'corde': 5,\n",
       "        'num_cheval': 5,\n",
       "        'distance': 0,\n",
       "        'handicap': '',\n",
       "        'poids': 57,\n",
       "        'classement': 2,\n",
       "        'oeillere': '',\n",
       "        'tx_recla': '',\n",
       "        'nom': 'VOLVI A NACER {CHL}',\n",
       "        'jockey': 'J. Rivera',\n",
       "        'temps': '',\n",
       "        'cote': '',\n",
       "        'selection': '',\n",
       "        'ferrure': 0},\n",
       "       {'corde': 1,\n",
       "        'num_cheval': 1,\n",
       "        'distance': 0,\n",
       "        'handicap': '',\n",
       "        'poids': 58,\n",
       "        'classement': 3,\n",
       "        'oeillere': '',\n",
       "        'tx_recla': '',\n",
       "        'nom': 'MAGICO CRUZADO {CHL}',\n",
       "        'jockey': 'J. Herrera',\n",
       "        'temps': '',\n",
       "        'cote': '',\n",
       "        'selection': '',\n",
       "        'ferrure': 0},\n",
       "       {'corde': 9,\n",
       "        'num_cheval': 9,\n",
       "        'distance': 0,\n",
       "        'handicap': '',\n",
       "        'poids': 58,\n",
       "        'classement': 4,\n",
       "        'oeillere': '',\n",
       "        'tx_recla': '',\n",
       "        'nom': 'PAPITO LINDO {CHL}',\n",
       "        'jockey': 'G. Aros',\n",
       "        'temps': '',\n",
       "        'cote': '',\n",
       "        'selection': '',\n",
       "        'ferrure': 0},\n",
       "       {'corde': 6,\n",
       "        'num_cheval': 6,\n",
       "        'distance': 0,\n",
       "        'handicap': '',\n",
       "        'poids': 52,\n",
       "        'classement': 5,\n",
       "        'oeillere': '',\n",
       "        'tx_recla': '',\n",
       "        'nom': 'CIZAnERO {CHL}',\n",
       "        'jockey': 'I. Valdivia',\n",
       "        'temps': '',\n",
       "        'cote': '',\n",
       "        'selection': 'O',\n",
       "        'ferrure': 0},\n",
       "       {'corde': 7,\n",
       "        'num_cheval': 7,\n",
       "        'distance': 0,\n",
       "        'handicap': '',\n",
       "        'poids': 52,\n",
       "        'classement': 6,\n",
       "        'oeillere': '',\n",
       "        'tx_recla': '',\n",
       "        'nom': 'JUVENCIO {CHL}',\n",
       "        'jockey': 'MEDINA Ja.',\n",
       "        'temps': '',\n",
       "        'cote': '',\n",
       "        'selection': '',\n",
       "        'ferrure': 0}]},\n",
       "     'nb_partants': 9,\n",
       "     'photo2': '',\n",
       "     'hippodrome': 'CHL-CHILE',\n",
       "     'temps_min': '',\n",
       "     'photo1': '',\n",
       "     'genre': 'Plat - Handicap - 3 ans et plus - 1600m. (PSF)',\n",
       "     'nom_entraineur': 'ROJAS SOTO R.',\n",
       "     'bonne_note': '',\n",
       "     'blabla': '',\n",
       "     'ecart_arrivee': '2 - 1 3/4 - 1 1/4 - 1/2 - 3 1/2 - 1/2 -',\n",
       "     'num_course': 12,\n",
       "     'terrain': ''},\n",
       "    {'date': '2020-10-10',\n",
       "     'nom_course': 'PRIX River Cafe',\n",
       "     'prix': 5386,\n",
       "     'partant': {'cheval': [{'corde': 3,\n",
       "        'num_cheval': 3,\n",
       "        'distance': 0,\n",
       "        'handicap': '',\n",
       "        'poids': 59,\n",
       "        'classement': 1,\n",
       "        'oeillere': '',\n",
       "        'tx_recla': '',\n",
       "        'nom': 'FRAY MARCOS {CHL}',\n",
       "        'jockey': 'L. Torres',\n",
       "        'temps': '',\n",
       "        'cote': '',\n",
       "        'selection': '',\n",
       "        'ferrure': 0},\n",
       "       {'corde': 1,\n",
       "        'num_cheval': 1,\n",
       "        'distance': 0,\n",
       "        'handicap': '',\n",
       "        'poids': 58,\n",
       "        'classement': 2,\n",
       "        'oeillere': '',\n",
       "        'tx_recla': '',\n",
       "        'nom': 'CONTEMPORANEO {CHL}',\n",
       "        'jockey': 'J. Gonzalez',\n",
       "        'temps': '',\n",
       "        'cote': '',\n",
       "        'selection': '',\n",
       "        'ferrure': 0},\n",
       "       {'corde': 6,\n",
       "        'num_cheval': 6,\n",
       "        'distance': 0,\n",
       "        'handicap': '',\n",
       "        'poids': 55,\n",
       "        'classement': 3,\n",
       "        'oeillere': '',\n",
       "        'tx_recla': '',\n",
       "        'nom': 'JUVENCIO {CHL}',\n",
       "        'jockey': 'R. Fuenzalida',\n",
       "        'temps': '',\n",
       "        'cote': '',\n",
       "        'selection': '',\n",
       "        'ferrure': 0},\n",
       "       {'corde': 2,\n",
       "        'num_cheval': 2,\n",
       "        'distance': 0,\n",
       "        'handicap': '',\n",
       "        'poids': 55,\n",
       "        'classement': 4,\n",
       "        'oeillere': '',\n",
       "        'tx_recla': '',\n",
       "        'nom': 'KIRSCH ROYAL {CHL}',\n",
       "        'jockey': 'R. Avila',\n",
       "        'temps': '',\n",
       "        'cote': '',\n",
       "        'selection': '',\n",
       "        'ferrure': 0},\n",
       "       {'corde': 4,\n",
       "        'num_cheval': 4,\n",
       "        'distance': 0,\n",
       "        'handicap': '',\n",
       "        'poids': 51,\n",
       "        'classement': 5,\n",
       "        'oeillere': '',\n",
       "        'tx_recla': '',\n",
       "        'nom': 'GIVE MY LIFE {CHL}',\n",
       "        'jockey': 'I. Valdivia',\n",
       "        'temps': '',\n",
       "        'cote': '',\n",
       "        'selection': '',\n",
       "        'ferrure': 0},\n",
       "       {'corde': 8,\n",
       "        'num_cheval': 8,\n",
       "        'distance': 0,\n",
       "        'handicap': '',\n",
       "        'poids': 50,\n",
       "        'classement': 6,\n",
       "        'oeillere': '',\n",
       "        'tx_recla': '',\n",
       "        'nom': 'LUCKYMAN {CHL}',\n",
       "        'jockey': 'H. Barrera',\n",
       "        'temps': '',\n",
       "        'cote': '',\n",
       "        'selection': '',\n",
       "        'ferrure': 0},\n",
       "       {'corde': 7,\n",
       "        'num_cheval': 7,\n",
       "        'distance': 0,\n",
       "        'handicap': '',\n",
       "        'poids': 55,\n",
       "        'classement': 0,\n",
       "        'oeillere': '',\n",
       "        'tx_recla': '',\n",
       "        'nom': 'CIZAnERO {CHL}',\n",
       "        'jockey': 'ALVARADO D.',\n",
       "        'temps': '',\n",
       "        'cote': '',\n",
       "        'selection': 'O',\n",
       "        'ferrure': 0}]},\n",
       "     'nb_partants': 8,\n",
       "     'photo2': '',\n",
       "     'hippodrome': 'CHL-CHILE',\n",
       "     'temps_min': '',\n",
       "     'photo1': '',\n",
       "     'genre': 'Plat - Handicap - 3 ans et plus - 1900m. (PSF)',\n",
       "     'nom_entraineur': 'ROJAS SOTO R.',\n",
       "     'bonne_note': '',\n",
       "     'blabla': '',\n",
       "     'ecart_arrivee': 'CT Enc - 3 3/4 - 3 3/4 - 3 3/4 - 3 1/2 - 11 -',\n",
       "     'num_course': 8,\n",
       "     'terrain': ''},\n",
       "    {'date': '2020-10-01',\n",
       "     'nom_course': 'PRIX Apurado Va',\n",
       "     'prix': 5386,\n",
       "     'partant': {'cheval': [{'corde': 5,\n",
       "        'num_cheval': 5,\n",
       "        'distance': 0,\n",
       "        'handicap': '',\n",
       "        'poids': 55,\n",
       "        'classement': 1,\n",
       "        'oeillere': '',\n",
       "        'tx_recla': '',\n",
       "        'nom': 'CIZAnERO {CHL}',\n",
       "        'jockey': 'ALVARADO D.',\n",
       "        'temps': '',\n",
       "        'cote': '',\n",
       "        'selection': 'O',\n",
       "        'ferrure': 0},\n",
       "       {'corde': 6,\n",
       "        'num_cheval': 6,\n",
       "        'distance': 0,\n",
       "        'handicap': '',\n",
       "        'poids': 59,\n",
       "        'classement': 2,\n",
       "        'oeillere': '',\n",
       "        'tx_recla': '',\n",
       "        'nom': 'FRAY MARCOS {CHL}',\n",
       "        'jockey': 'L. Torres',\n",
       "        'temps': '',\n",
       "        'cote': '',\n",
       "        'selection': '',\n",
       "        'ferrure': 0},\n",
       "       {'corde': 4,\n",
       "        'num_cheval': 4,\n",
       "        'distance': 0,\n",
       "        'handicap': '',\n",
       "        'poids': 58,\n",
       "        'classement': 3,\n",
       "        'oeillere': '',\n",
       "        'tx_recla': '',\n",
       "        'nom': 'KIRSCH ROYAL {CHL}',\n",
       "        'jockey': 'A. Vasquez',\n",
       "        'temps': '',\n",
       "        'cote': '',\n",
       "        'selection': '',\n",
       "        'ferrure': 0},\n",
       "       {'corde': 1,\n",
       "        'num_cheval': 1,\n",
       "        'distance': 0,\n",
       "        'handicap': '',\n",
       "        'poids': 58,\n",
       "        'classement': 4,\n",
       "        'oeillere': '',\n",
       "        'tx_recla': '',\n",
       "        'nom': 'JUVENCIO {CHL}',\n",
       "        'jockey': 'G. Pontigo',\n",
       "        'temps': '',\n",
       "        'cote': '',\n",
       "        'selection': '',\n",
       "        'ferrure': 0},\n",
       "       {'corde': 2,\n",
       "        'num_cheval': 2,\n",
       "        'distance': 0,\n",
       "        'handicap': '',\n",
       "        'poids': 55,\n",
       "        'classement': 5,\n",
       "        'oeillere': '',\n",
       "        'tx_recla': '',\n",
       "        'nom': 'GIVE MY LIFE {CHL}',\n",
       "        'jockey': 'G. Aros',\n",
       "        'temps': '',\n",
       "        'cote': '',\n",
       "        'selection': '',\n",
       "        'ferrure': 0},\n",
       "       {'corde': 3,\n",
       "        'num_cheval': 3,\n",
       "        'distance': 0,\n",
       "        'handicap': '',\n",
       "        'poids': 52,\n",
       "        'classement': 6,\n",
       "        'oeillere': '',\n",
       "        'tx_recla': '',\n",
       "        'nom': 'AERONCA {CHL}',\n",
       "        'jockey': 'H. Ochoa',\n",
       "        'temps': '',\n",
       "        'cote': '',\n",
       "        'selection': '',\n",
       "        'ferrure': 0}]},\n",
       "     'nb_partants': 7,\n",
       "     'photo2': '',\n",
       "     'hippodrome': 'CHL-CHILE',\n",
       "     'temps_min': '',\n",
       "     'photo1': '',\n",
       "     'genre': 'Plat - Handicap - 3 ans et plus - 1900m. (PSF)',\n",
       "     'nom_entraineur': 'ROJAS SOTO R.',\n",
       "     'bonne_note': '',\n",
       "     'blabla': '',\n",
       "     'ecart_arrivee': 'Enc - 3 1/2 - 2 1/4 - 4 - 3 1/2 - 11 -',\n",
       "     'num_course': 3,\n",
       "     'terrain': ''},\n",
       "    {'date': '2020-09-26',\n",
       "     'nom_course': 'PRIX Sustancial',\n",
       "     'prix': 5405,\n",
       "     'partant': {'cheval': [{'corde': 6,\n",
       "        'num_cheval': 6,\n",
       "        'distance': 0,\n",
       "        'handicap': '',\n",
       "        'poids': 52,\n",
       "        'classement': 1,\n",
       "        'oeillere': '',\n",
       "        'tx_recla': '',\n",
       "        'nom': 'WAR SUBJECTIVE {CHL}',\n",
       "        'jockey': '',\n",
       "        'temps': '',\n",
       "        'cote': '4,4',\n",
       "        'selection': '',\n",
       "        'ferrure': 0},\n",
       "       {'corde': 9,\n",
       "        'num_cheval': 9,\n",
       "        'distance': 0,\n",
       "        'handicap': '',\n",
       "        'poids': 57,\n",
       "        'classement': 2,\n",
       "        'oeillere': '',\n",
       "        'tx_recla': '',\n",
       "        'nom': 'LAGO EN EL CIELO {CHL}',\n",
       "        'jockey': 'B. Le',\n",
       "        'temps': '',\n",
       "        'cote': 7,\n",
       "        'selection': '',\n",
       "        'ferrure': 0},\n",
       "       {'corde': 1,\n",
       "        'num_cheval': 1,\n",
       "        'distance': 0,\n",
       "        'handicap': '',\n",
       "        'poids': 58,\n",
       "        'classement': 3,\n",
       "        'oeillere': '',\n",
       "        'tx_recla': '',\n",
       "        'nom': 'MAGNO ALBERTO {CHL}',\n",
       "        'jockey': 'L. Torres',\n",
       "        'temps': '',\n",
       "        'cote': '7,5',\n",
       "        'selection': '',\n",
       "        'ferrure': 0},\n",
       "       {'corde': 8,\n",
       "        'num_cheval': 8,\n",
       "        'distance': 0,\n",
       "        'handicap': '',\n",
       "        'poids': 59,\n",
       "        'classement': 4,\n",
       "        'oeillere': '',\n",
       "        'tx_recla': '',\n",
       "        'nom': 'MAGICO CRUZADO {CHL}',\n",
       "        'jockey': 'Diego N. Sanchez',\n",
       "        'temps': '',\n",
       "        'cote': '9,8',\n",
       "        'selection': '',\n",
       "        'ferrure': 0},\n",
       "       {'corde': 5,\n",
       "        'num_cheval': 5,\n",
       "        'distance': 0,\n",
       "        'handicap': '',\n",
       "        'poids': 57,\n",
       "        'classement': 5,\n",
       "        'oeillere': '',\n",
       "        'tx_recla': '',\n",
       "        'nom': 'CONTEMPORANEO {CHL}',\n",
       "        'jockey': 'R. Vergara',\n",
       "        'temps': '',\n",
       "        'cote': '4,2',\n",
       "        'selection': '',\n",
       "        'ferrure': 0},\n",
       "       {'corde': 3,\n",
       "        'num_cheval': 3,\n",
       "        'distance': 0,\n",
       "        'handicap': '',\n",
       "        'poids': 59,\n",
       "        'classement': 6,\n",
       "        'oeillere': '',\n",
       "        'tx_recla': '',\n",
       "        'nom': 'LE MONSTER {CHL}',\n",
       "        'jockey': 'G. Ulloa',\n",
       "        'temps': '',\n",
       "        'cote': '8,3',\n",
       "        'selection': '',\n",
       "        'ferrure': 0},\n",
       "       {'corde': 2,\n",
       "        'num_cheval': 2,\n",
       "        'distance': 0,\n",
       "        'handicap': '',\n",
       "        'poids': 51,\n",
       "        'classement': 8,\n",
       "        'oeillere': 'X',\n",
       "        'tx_recla': '',\n",
       "        'nom': 'CIZAnERO {CHL}',\n",
       "        'jockey': 'ALVARADO D.',\n",
       "        'temps': '',\n",
       "        'cote': '10,8',\n",
       "        'selection': 'O',\n",
       "        'ferrure': 0}]},\n",
       "     'nb_partants': 9,\n",
       "     'photo2': '',\n",
       "     'hippodrome': 'CHL-CHILE',\n",
       "     'temps_min': '',\n",
       "     'photo1': '',\n",
       "     'genre': 'Plat - Handicap - 3 ans et plus - 1600m. (PSF)',\n",
       "     'nom_entraineur': 'ROJAS SOTO R.',\n",
       "     'bonne_note': '',\n",
       "     'blabla': '',\n",
       "     'ecart_arrivee': '1 - 1/4 - 1/4 - DH - 1 - 2 1/2 -',\n",
       "     'num_course': 8,\n",
       "     'terrain': ''},\n",
       "    {'date': '2020-09-24',\n",
       "     'nom_course': 'PRIX Rebrote',\n",
       "     'prix': 3698,\n",
       "     'partant': {'cheval': [{'corde': 6,\n",
       "        'num_cheval': 6,\n",
       "        'distance': 0,\n",
       "        'handicap': '',\n",
       "        'poids': 55,\n",
       "        'classement': 1,\n",
       "        'oeillere': '',\n",
       "        'tx_recla': '',\n",
       "        'nom': 'MI MAILEN {CHL}',\n",
       "        'jockey': 'G. Aros',\n",
       "        'temps': '',\n",
       "        'cote': '',\n",
       "        'selection': '',\n",
       "        'ferrure': 0},\n",
       "       {'corde': 1,\n",
       "        'num_cheval': 1,\n",
       "        'distance': 0,\n",
       "        'handicap': '',\n",
       "        'poids': 55,\n",
       "        'classement': 2,\n",
       "        'oeillere': '',\n",
       "        'tx_recla': '',\n",
       "        'nom': 'VOLVI A NACER {CHL}',\n",
       "        'jockey': 'J. Rivera',\n",
       "        'temps': '',\n",
       "        'cote': '',\n",
       "        'selection': '',\n",
       "        'ferrure': 0},\n",
       "       {'corde': 4,\n",
       "        'num_cheval': 4,\n",
       "        'distance': 0,\n",
       "        'handicap': '',\n",
       "        'poids': 59,\n",
       "        'classement': 3,\n",
       "        'oeillere': '',\n",
       "        'tx_recla': '',\n",
       "        'nom': 'SIAMO FUORI {CHL}',\n",
       "        'jockey': 'J. Herrera',\n",
       "        'temps': '',\n",
       "        'cote': '',\n",
       "        'selection': '',\n",
       "        'ferrure': 0},\n",
       "       {'corde': 8,\n",
       "        'num_cheval': 8,\n",
       "        'distance': 0,\n",
       "        'handicap': '',\n",
       "        'poids': 55,\n",
       "        'classement': 4,\n",
       "        'oeillere': '',\n",
       "        'tx_recla': '',\n",
       "        'nom': 'CIZAnERO {CHL}',\n",
       "        'jockey': 'ALVARADO D.',\n",
       "        'temps': '',\n",
       "        'cote': '',\n",
       "        'selection': 'O',\n",
       "        'ferrure': 0},\n",
       "       {'corde': 7,\n",
       "        'num_cheval': 7,\n",
       "        'distance': 0,\n",
       "        'handicap': '',\n",
       "        'poids': 58,\n",
       "        'classement': 5,\n",
       "        'oeillere': '',\n",
       "        'tx_recla': '',\n",
       "        'nom': 'KIRSCH ROYAL {CHL}',\n",
       "        'jockey': 'R. Avila',\n",
       "        'temps': '',\n",
       "        'cote': '',\n",
       "        'selection': '',\n",
       "        'ferrure': 0},\n",
       "       {'corde': 2,\n",
       "        'num_cheval': 2,\n",
       "        'distance': 0,\n",
       "        'handicap': '',\n",
       "        'poids': 50,\n",
       "        'classement': 6,\n",
       "        'oeillere': '',\n",
       "        'tx_recla': '',\n",
       "        'nom': 'WILLARD {CHL}',\n",
       "        'jockey': 'H. Barrera',\n",
       "        'temps': '',\n",
       "        'cote': '',\n",
       "        'selection': '',\n",
       "        'ferrure': 0}]},\n",
       "     'nb_partants': 8,\n",
       "     'photo2': '',\n",
       "     'hippodrome': 'CHL-CHILE',\n",
       "     'temps_min': '',\n",
       "     'photo1': '',\n",
       "     'genre': 'Plat - Handicap - 3 ans et plus - 1400m. (PSF)',\n",
       "     'nom_entraineur': 'ROJAS SOTO R.',\n",
       "     'bonne_note': '',\n",
       "     'blabla': '',\n",
       "     'ecart_arrivee': 'Enc - 1 3/4 - 1 1/4 - DH - 4 3/4 - 1/4 -',\n",
       "     'num_course': 8,\n",
       "     'terrain': ''},\n",
       "    {'date': '2020-09-17',\n",
       "     'nom_course': 'PRIX Pagano',\n",
       "     'prix': 5386,\n",
       "     'partant': {'cheval': [{'corde': 6,\n",
       "        'num_cheval': 6,\n",
       "        'distance': 0,\n",
       "        'handicap': '',\n",
       "        'poids': 50,\n",
       "        'classement': 1,\n",
       "        'oeillere': '',\n",
       "        'tx_recla': '',\n",
       "        'nom': 'EL MANIO {CHL}',\n",
       "        'jockey': 'R. Vergara',\n",
       "        'temps': '',\n",
       "        'cote': '',\n",
       "        'selection': '',\n",
       "        'ferrure': 0},\n",
       "       {'corde': 2,\n",
       "        'num_cheval': 2,\n",
       "        'distance': 0,\n",
       "        'handicap': '',\n",
       "        'poids': 53,\n",
       "        'classement': 2,\n",
       "        'oeillere': '',\n",
       "        'tx_recla': '',\n",
       "        'nom': 'CIZAnERO {CHL}',\n",
       "        'jockey': 'ALVARADO D.',\n",
       "        'temps': '',\n",
       "        'cote': '',\n",
       "        'selection': 'O',\n",
       "        'ferrure': 0},\n",
       "       {'corde': 3,\n",
       "        'num_cheval': 3,\n",
       "        'distance': 0,\n",
       "        'handicap': '',\n",
       "        'poids': 57,\n",
       "        'classement': 3,\n",
       "        'oeillere': '',\n",
       "        'tx_recla': '',\n",
       "        'nom': 'JUVENCIO {CHL}',\n",
       "        'jockey': 'J. Gonzalez',\n",
       "        'temps': '',\n",
       "        'cote': '',\n",
       "        'selection': '',\n",
       "        'ferrure': 0},\n",
       "       {'corde': 1,\n",
       "        'num_cheval': 1,\n",
       "        'distance': 0,\n",
       "        'handicap': '',\n",
       "        'poids': 58,\n",
       "        'classement': 4,\n",
       "        'oeillere': '',\n",
       "        'tx_recla': '',\n",
       "        'nom': 'APOCALIPTICO {CHL}',\n",
       "        'jockey': 'B. Le',\n",
       "        'temps': '',\n",
       "        'cote': '',\n",
       "        'selection': '',\n",
       "        'ferrure': 0},\n",
       "       {'corde': 5,\n",
       "        'num_cheval': 5,\n",
       "        'distance': 0,\n",
       "        'handicap': '',\n",
       "        'poids': 58,\n",
       "        'classement': 5,\n",
       "        'oeillere': '',\n",
       "        'tx_recla': '',\n",
       "        'nom': 'KIRSCH ROYAL {CHL}',\n",
       "        'jockey': 'R. Avila',\n",
       "        'temps': '',\n",
       "        'cote': '',\n",
       "        'selection': '',\n",
       "        'ferrure': 0},\n",
       "       {'corde': 4,\n",
       "        'num_cheval': 4,\n",
       "        'distance': 0,\n",
       "        'handicap': '',\n",
       "        'poids': 56,\n",
       "        'classement': 6,\n",
       "        'oeillere': '',\n",
       "        'tx_recla': '',\n",
       "        'nom': 'QUILOMBERO {CHL}',\n",
       "        'jockey': 'R. Cisternas',\n",
       "        'temps': '',\n",
       "        'cote': '',\n",
       "        'selection': '',\n",
       "        'ferrure': 0}]},\n",
       "     'nb_partants': 7,\n",
       "     'photo2': '',\n",
       "     'hippodrome': 'CHL-CHILE',\n",
       "     'temps_min': '',\n",
       "     'photo1': '',\n",
       "     'genre': 'Plat - Handicap - 3 ans et plus - 1900m. (PSF)',\n",
       "     'nom_entraineur': 'ROJAS SOTO R.',\n",
       "     'bonne_note': '',\n",
       "     'blabla': '',\n",
       "     'ecart_arrivee': 'TTE - 1 3/4 - 5 1/2 - 5 - 1 1/2 - 1/2 -',\n",
       "     'num_course': 3,\n",
       "     'terrain': ''},\n",
       "    {'date': '2020-09-10',\n",
       "     'nom_course': 'PRIX Novato',\n",
       "     'prix': 3110,\n",
       "     'partant': {'cheval': [{'corde': 8,\n",
       "        'num_cheval': 8,\n",
       "        'distance': 0,\n",
       "        'handicap': '',\n",
       "        'poids': 53,\n",
       "        'classement': 1,\n",
       "        'oeillere': '',\n",
       "        'tx_recla': '',\n",
       "        'nom': 'VOLVI A NACER {CHL}',\n",
       "        'jockey': 'J. Rivera',\n",
       "        'temps': '',\n",
       "        'cote': '',\n",
       "        'selection': '',\n",
       "        'ferrure': 0},\n",
       "       {'corde': 11,\n",
       "        'num_cheval': 11,\n",
       "        'distance': 0,\n",
       "        'handicap': '',\n",
       "        'poids': 54,\n",
       "        'classement': 2,\n",
       "        'oeillere': '',\n",
       "        'tx_recla': '',\n",
       "        'nom': 'GORDITO SIMPATICON {CHL}',\n",
       "        'jockey': 'A. Vasquez',\n",
       "        'temps': '',\n",
       "        'cote': '',\n",
       "        'selection': '',\n",
       "        'ferrure': 0},\n",
       "       {'corde': 12,\n",
       "        'num_cheval': 12,\n",
       "        'distance': 0,\n",
       "        'handicap': '',\n",
       "        'poids': 56,\n",
       "        'classement': 3,\n",
       "        'oeillere': '',\n",
       "        'tx_recla': '',\n",
       "        'nom': 'ROYAL CANTUCCINI {CHL}',\n",
       "        'jockey': 'R. Fuenzalida',\n",
       "        'temps': '',\n",
       "        'cote': '',\n",
       "        'selection': '',\n",
       "        'ferrure': 0},\n",
       "       {'corde': 15,\n",
       "        'num_cheval': 15,\n",
       "        'distance': 0,\n",
       "        'handicap': '',\n",
       "        'poids': 60,\n",
       "        'classement': 4,\n",
       "        'oeillere': '',\n",
       "        'tx_recla': '',\n",
       "        'nom': 'CIZAnERO {CHL}',\n",
       "        'jockey': 'ALVARADO D.',\n",
       "        'temps': '',\n",
       "        'cote': '',\n",
       "        'selection': 'O',\n",
       "        'ferrure': 0},\n",
       "       {'corde': 1,\n",
       "        'num_cheval': 1,\n",
       "        'distance': 0,\n",
       "        'handicap': '',\n",
       "        'poids': 52,\n",
       "        'classement': 5,\n",
       "        'oeillere': '',\n",
       "        'tx_recla': '',\n",
       "        'nom': 'LEOPARD ROCK {CHL}',\n",
       "        'jockey': '',\n",
       "        'temps': '',\n",
       "        'cote': '',\n",
       "        'selection': '',\n",
       "        'ferrure': 0},\n",
       "       {'corde': 4,\n",
       "        'num_cheval': 4,\n",
       "        'distance': 0,\n",
       "        'handicap': '',\n",
       "        'poids': 55,\n",
       "        'classement': 6,\n",
       "        'oeillere': '',\n",
       "        'tx_recla': '',\n",
       "        'nom': 'SALTO DEL HUASO {CHL}',\n",
       "        'jockey': 'R. Dores',\n",
       "        'temps': '',\n",
       "        'cote': '',\n",
       "        'selection': '',\n",
       "        'ferrure': 0}]},\n",
       "     'nb_partants': 15,\n",
       "     'photo2': '',\n",
       "     'hippodrome': 'CHL-CHILE',\n",
       "     'temps_min': '',\n",
       "     'photo1': '',\n",
       "     'genre': 'Plat - Handicap - 3 ans et plus - 1400m. (PSF)',\n",
       "     'nom_entraineur': 'ROJAS SOTO R.',\n",
       "     'bonne_note': '',\n",
       "     'blabla': '',\n",
       "     'ecart_arrivee': '1 - 4 1/4 - 2 3/4 - 1 - 1 - 3 1/4 -',\n",
       "     'num_course': 18,\n",
       "     'terrain': ''},\n",
       "    {'date': '2020-09-05',\n",
       "     'nom_course': 'PRIX Maji Maji',\n",
       "     'prix': 4703,\n",
       "     'partant': {'cheval': [{'corde': 1,\n",
       "        'num_cheval': 1,\n",
       "        'distance': 0,\n",
       "        'handicap': '',\n",
       "        'poids': 56,\n",
       "        'classement': 1,\n",
       "        'oeillere': '',\n",
       "        'tx_recla': '',\n",
       "        'nom': 'CIZAnERO {CHL}',\n",
       "        'jockey': 'ALVARADO D.',\n",
       "        'temps': '',\n",
       "        'cote': '',\n",
       "        'selection': 'O',\n",
       "        'ferrure': 0},\n",
       "       {'corde': 9,\n",
       "        'num_cheval': 9,\n",
       "        'distance': 0,\n",
       "        'handicap': '',\n",
       "        'poids': 54,\n",
       "        'classement': 2,\n",
       "        'oeillere': '',\n",
       "        'tx_recla': '',\n",
       "        'nom': 'NAZARET {CHL}',\n",
       "        'jockey': 'R. Fuenzalida',\n",
       "        'temps': '',\n",
       "        'cote': '',\n",
       "        'selection': '',\n",
       "        'ferrure': 0},\n",
       "       {'corde': 5,\n",
       "        'num_cheval': 5,\n",
       "        'distance': 0,\n",
       "        'handicap': '',\n",
       "        'poids': 55,\n",
       "        'classement': 3,\n",
       "        'oeillere': '',\n",
       "        'tx_recla': '',\n",
       "        'nom': 'CEDRO LIBANES {CHL}',\n",
       "        'jockey': 'LEON HERNANDEZ Wil.',\n",
       "        'temps': '',\n",
       "        'cote': '',\n",
       "        'selection': '',\n",
       "        'ferrure': 0},\n",
       "       {'corde': 2,\n",
       "        'num_cheval': 2,\n",
       "        'distance': 0,\n",
       "        'handicap': '',\n",
       "        'poids': 50,\n",
       "        'classement': 4,\n",
       "        'oeillere': '',\n",
       "        'tx_recla': '',\n",
       "        'nom': 'AURELIANO PERTILE {CHL}',\n",
       "        'jockey': 'N. Figueroa',\n",
       "        'temps': '',\n",
       "        'cote': '',\n",
       "        'selection': '',\n",
       "        'ferrure': 0},\n",
       "       {'corde': 6,\n",
       "        'num_cheval': 6,\n",
       "        'distance': 0,\n",
       "        'handicap': '',\n",
       "        'poids': 56,\n",
       "        'classement': 5,\n",
       "        'oeillere': '',\n",
       "        'tx_recla': '',\n",
       "        'nom': 'LUCKYMAN {CHL}',\n",
       "        'jockey': 'I. Valdivia',\n",
       "        'temps': '',\n",
       "        'cote': '',\n",
       "        'selection': '',\n",
       "        'ferrure': 0},\n",
       "       {'corde': 3,\n",
       "        'num_cheval': 3,\n",
       "        'distance': 0,\n",
       "        'handicap': '',\n",
       "        'poids': 54,\n",
       "        'classement': 6,\n",
       "        'oeillere': '',\n",
       "        'tx_recla': '',\n",
       "        'nom': 'FAST CANDY {CHL}',\n",
       "        'jockey': 'R. Vergara',\n",
       "        'temps': '',\n",
       "        'cote': '',\n",
       "        'selection': '',\n",
       "        'ferrure': 0}]},\n",
       "     'nb_partants': 10,\n",
       "     'photo2': '',\n",
       "     'hippodrome': 'CHL-CHILE',\n",
       "     'temps_min': '',\n",
       "     'photo1': '',\n",
       "     'genre': 'Plat - Handicap - 3 ans et plus - 1900m. (PSF)',\n",
       "     'nom_entraineur': 'ROJAS SOTO R.',\n",
       "     'bonne_note': '',\n",
       "     'blabla': '',\n",
       "     'ecart_arrivee': '7 - 1/2 - 3/4 - 2 1/2 - 1 1/2 - 12 -',\n",
       "     'num_course': 6,\n",
       "     'terrain': ''}]}}}"
      ]
     },
     "execution_count": 85,
     "metadata": {},
     "output_type": "execute_result"
    }
   ],
   "source": [
    "runner_stats"
   ]
  },
  {
   "cell_type": "code",
   "execution_count": 62,
   "metadata": {
    "scrolled": true
   },
   "outputs": [
    {
     "data": {
      "text/plain": [
       "dict_keys(['get_url', 'query_date', 'fiche'])"
      ]
     },
     "execution_count": 62,
     "metadata": {},
     "output_type": "execute_result"
    }
   ],
   "source": [
    "runner_stats.keys()"
   ]
  },
  {
   "cell_type": "code",
   "execution_count": 87,
   "metadata": {},
   "outputs": [
    {
     "data": {
      "text/plain": [
       "209069"
      ]
     },
     "execution_count": 87,
     "metadata": {},
     "output_type": "execute_result"
    }
   ],
   "source": [
    "runner.race_id"
   ]
  },
  {
   "cell_type": "code",
   "execution_count": 88,
   "metadata": {},
   "outputs": [
    {
     "name": "stdout",
     "output_type": "stream",
     "text": [
      "+--------+------------+------------------------------------+--------+\n",
      "|     id | date       | unibet_code                        | type   |\n",
      "+========+============+====================================+========+\n",
      "| 209069 | 2020-02-22 | (datetime.date(2020, 2, 22), 5, 7) | Plat   |\n",
      "+--------+------------+------------------------------------+--------+\n",
      "conditions 3 ans et au-dessus - Dirt - Corde à Gauche\n",
      "\n",
      "+---------+------------+-----------+-------------------+-------+---------+----------+---------------+-------------------------------+\n",
      "|      id | date       |   race_id | name              |   age | sex     |   stakes | hist_stakes   | origins                       |\n",
      "+=========+============+===========+===================+=======+=========+==========+===============+===============================+\n",
      "| 2639711 | 2020-02-22 |    209069 | TAVUCHO           |    10 | GELDING |        0 |               | Pel - De La Mancha            |\n",
      "+---------+------------+-----------+-------------------+-------+---------+----------+---------------+-------------------------------+\n",
      "| 2639712 | 2020-02-22 |    209069 | ANGEL MALO        |     4 | MALE    |        0 |               | Bastian - Telenovela          |\n",
      "+---------+------------+-----------+-------------------+-------+---------+----------+---------------+-------------------------------+\n",
      "| 2639713 | 2020-02-22 |    209069 | CIZANERO          |     4 | MALE    |        0 |               | Wildcat Spirit - La Kadima    |\n",
      "+---------+------------+-----------+-------------------+-------+---------+----------+---------------+-------------------------------+\n",
      "| 2639714 | 2020-02-22 |    209069 | LUCKY ASCOT       |     6 | MALE    |        0 |               | Ascot Prince - Cometa Azul    |\n",
      "+---------+------------+-----------+-------------------+-------+---------+----------+---------------+-------------------------------+\n",
      "| 2639715 | 2020-02-22 |    209069 | FORTALEZA CRIOLLA |     8 | MALE    |        0 |               | Leading The Parade - Art Fort |\n",
      "+---------+------------+-----------+-------------------+-------+---------+----------+---------------+-------------------------------+\n",
      "| 2639716 | 2020-02-22 |    209069 | GRITO FINAL       |     7 | GELDING |        0 |               | Grassy Ii - Grimanesa         |\n",
      "+---------+------------+-----------+-------------------+-------+---------+----------+---------------+-------------------------------+\n",
      "| 2639717 | 2020-02-22 |    209069 | EMILE ZATOPEK     |     7 | MALE    |        0 |               | Monthir - Arwen               |\n",
      "+---------+------------+-----------+-------------------+-------+---------+----------+---------------+-------------------------------+\n",
      "| 2639718 | 2020-02-22 |    209069 | GHOSTY            |     8 | MALE    |        0 |               | Bluegrass Cat-Ghost Town      |\n",
      "+---------+------------+-----------+-------------------+-------+---------+----------+---------------+-------------------------------+\n"
     ]
    }
   ],
   "source": [
    "# Describe a race\n",
    "race_id = 209069\n",
    "\n",
    "with create_sqlalchemy_session() as db_session:\n",
    "    race = db_session.query(Race).filter(Race.id==race_id).one()\n",
    "    print(tabulate([[race.id, race.date.isoformat(), race.unibet_code, race.type.value]],headers=[\"id\", \"date\", \"unibet_code\", \"type\"], tablefmt=\"grid\"))\n",
    "    print(\"conditions\", race.conditions)\n",
    "    print()\n",
    "    headers= [\"id\", \"date\",\"race_id\",\"name\", \"age\",\"sex\", \"stakes\", \"hist_stakes\", \"origins\"]\n",
    "    to_print=[]\n",
    "    for runner in race.runners:\n",
    "        to_print.append([runner.id, runner.date,runner.race_id, runner.horse.name, runner.age,runner.sex.name,  runner.stakes, runner.historical_stakes, runner.origins])\n",
    "\n",
    "    print(tabulate(to_print, headers=headers, tablefmt=\"grid\"))\n"
   ]
  },
  {
   "cell_type": "code",
   "execution_count": 16,
   "metadata": {},
   "outputs": [
    {
     "data": {
      "text/plain": [
       "'Plat'"
      ]
     },
     "execution_count": 16,
     "metadata": {},
     "output_type": "execute_result"
    }
   ],
   "source": []
  },
  {
   "cell_type": "code",
   "execution_count": 6,
   "metadata": {
    "scrolled": true
   },
   "outputs": [
    {
     "name": "stderr",
     "output_type": "stream",
     "text": [
      "0:   0%|          | 0/100000.0 [00:00<?, ?it/s]\n"
     ]
    }
   ],
   "source": [
    "start_id=0\n",
    "with create_sqlalchemy_session() as db_session:\n",
    "\n",
    "    horses=db_session.query(Horse).filter(Horse.id>start_id).order_by(Horse.id.asc()).limit(BATCH_SIZE).all()\n",
    "    \n",
    "    for horse in tqdm.tqdm(horses, desc=f'{start_id}', total=BATCH_SIZE):\n",
    "        origins={runner.origins for runner in horse.runners if runner.origins is not None}\n",
    "        if not origins:\n",
    "            continue\n",
    "        if len(origins)==2:\n",
    "            continue\n",
    "        print(origins, horse.id)\n",
    "        break"
   ]
  },
  {
   "cell_type": "code",
   "execution_count": 7,
   "metadata": {},
   "outputs": [],
   "source": [
    "a=\"Turgeon-Shannon\""
   ]
  },
  {
   "cell_type": "code",
   "execution_count": 8,
   "metadata": {},
   "outputs": [],
   "source": [
    "father_name, mother_name=re.split(\"[-/]\",a)"
   ]
  },
  {
   "cell_type": "code",
   "execution_count": 9,
   "metadata": {},
   "outputs": [],
   "source": [
    "father_name=father_name.upper()\n",
    "mother_name=mother_name.upper()"
   ]
  },
  {
   "cell_type": "code",
   "execution_count": 10,
   "metadata": {},
   "outputs": [],
   "source": [
    "with create_sqlalchemy_session() as db_session:\n",
    "\n",
    "    father_horse_candidates=db_session.query(Horse).filter(Horse.name==father_name).all()\n",
    "    \n",
    "    mother_horse_candidates=db_session.query(Horse).filter(Horse.name==mother_name).all()"
   ]
  },
  {
   "cell_type": "code",
   "execution_count": 11,
   "metadata": {},
   "outputs": [
    {
     "data": {
      "text/plain": [
       "[]"
      ]
     },
     "execution_count": 11,
     "metadata": {},
     "output_type": "execute_result"
    }
   ],
   "source": [
    "mother_horse_candidates"
   ]
  },
  {
   "cell_type": "code",
   "execution_count": 4,
   "metadata": {},
   "outputs": [
    {
     "name": "stderr",
     "output_type": "stream",
     "text": [
      "0:  55%|█████▌    | 55176/100000.0 [00:36<00:29, 1532.60it/s]\n"
     ]
    }
   ],
   "source": [
    "start_id=0\n",
    "# TODO female names, male_names\n",
    "not_understood_parent_names = set()\n",
    "horse_names=set()\n",
    "n_seen_horses=0\n",
    "with create_sqlalchemy_session() as db_session:\n",
    "    horses=db_session.query(Horse).filter(Horse.id>start_id, Horse.father_id.is_(None), Horse.mother_id.is_(None)).order_by(Horse.id.asc()).limit(BATCH_SIZE).all()\n",
    "    for horse in tqdm.tqdm(horses, desc=f'{start_id}', total=BATCH_SIZE):\n",
    "        horse_names.add(horse.name)\n",
    "        for runner in horse.runners:\n",
    "            not_understood_parent_names.add(runner.origins)\n",
    "    \n",
    "            \n",
    "    n_seen_horses+=len(horses)\n",
    "    while len(horses)==BATCH_SIZE:\n",
    "        start_id=horses[-1].id\n",
    "        horses=db_session.query(Horse).filter(Horse.id>start_id, Horse.father_id.is_(None), Horse.mother_id.is_(None)).order_by(Horse.id.asc()).limit(BATCH_SIZE).all()\n",
    "        for horse in tqdm.tqdm(horses, desc=f'{start_id}', total=len(horses)):\n",
    "            horse_names.add(horse.name)\n",
    "            for runner in horse.runners:\n",
    "                not_understood_parent_names.add(runner.origins)\n",
    "        n_seen_horses+=len(horses)"
   ]
  },
  {
   "cell_type": "code",
   "execution_count": 5,
   "metadata": {},
   "outputs": [],
   "source": [
    "not_understood_parent_names.discard('')\n",
    "not_understood_parent_names.discard(\"-\")"
   ]
  },
  {
   "cell_type": "code",
   "execution_count": 6,
   "metadata": {
    "scrolled": true
   },
   "outputs": [
    {
     "data": {
      "text/plain": [
       "{'A P Indy Brandy Rose',\n",
       " \"Acambaro Siberian's Image\",\n",
       " 'Admire Vega Greetings',\n",
       " 'Aelan Hapi Romy De Baruthet',\n",
       " 'Alesso Tahis De Farges',\n",
       " 'Alesso Valinka II',\n",
       " 'Alhaarth Partie De Dames',\n",
       " 'Ali-Royal (IRE) / Grandeur And Grace (USA)',\n",
       " 'Ali-Royal/Byliny',\n",
       " 'Almutawakel Terracotta Hut',\n",
       " 'Alphabet Soup Melina Mou',\n",
       " 'Alzao-Ela-aristokratissa',\n",
       " 'Anabaa Amitie Fatale',\n",
       " 'Anabaa Mille Miglia',\n",
       " 'Anabaa Miss Mat',\n",
       " 'Anabaa Pyramid Lake',\n",
       " 'Anabaa Spectacular Joke',\n",
       " 'Anabaa Value For Money',\n",
       " 'Anees Russian Flight',\n",
       " 'Anshan-Glory-glory',\n",
       " 'Anshan/Glory-Glory',\n",
       " 'Apeldoorn Tots Off',\n",
       " \"Apple Tree L'Apparition\",\n",
       " 'Apple Tree Lady Burlington',\n",
       " 'Apple Tree Pom',\n",
       " 'Apple Tree Soie Moriniere',\n",
       " 'April Night Stadia',\n",
       " \"Arnaqueur Corail D'Haguenet\",\n",
       " 'Arnaqueur Diana De Beaufai',\n",
       " 'Ashkalani Finir En Beaute',\n",
       " 'Assessor Enigma II',\n",
       " 'Astair Black Charm',\n",
       " 'Atticus Ring Beaune',\n",
       " 'Attune Blanche Dame',\n",
       " 'Attune Noble Folly',\n",
       " 'Attune Slew Dancer',\n",
       " 'B.w.t.magic* (FI)-Rose-mary Aspen (FI)',\n",
       " 'Bahamian Bounty Star',\n",
       " 'Bahhare (USA) / Na-Ayim (IRE)',\n",
       " 'Bahhare (usa) - Na-Ayim (IRE)',\n",
       " 'Bakharoff Protective Custody',\n",
       " 'Barathea Grecian Bride',\n",
       " \"Baroud D'Honneur Abalary\",\n",
       " 'Baryshnikov Lady Vivienne',\n",
       " 'Bateau Rouge Gianna Nannini',\n",
       " 'Bateau Rouge Sara Bouna',\n",
       " 'Beaudelaire Je Vous En Prie',\n",
       " 'Befuto Speed Joy Du Gazin',\n",
       " 'Bering Vagabond Chanteuse',\n",
       " 'Big Shuffle Karlshorst',\n",
       " 'Blackfriars (AUS) - Caitie-eb (AUS)',\n",
       " 'Blackfriars (AUS)-Caitie-eb (AUS)',\n",
       " 'Blushing Flame Quickstep',\n",
       " 'Blushing Flame Urtica V',\n",
       " 'Botanic Lady Parker',\n",
       " 'Brier Creek Fortune V',\n",
       " 'Broadway Flyer Asa Paulini',\n",
       " 'Bubble Gum Fellow Grace Rumor',\n",
       " 'Bulington Algue Rouge',\n",
       " 'Burooj Renata Tebaldi',\n",
       " 'Cadeaux Genereux Buckle',\n",
       " 'Cadeaux Genereux Lonely Heart',\n",
       " 'Cadeaux Genereux Nuit Indienne',\n",
       " 'Cadeaux Genereux Prickwillow',\n",
       " 'Cadeaux Genereux Red Rabbit',\n",
       " 'Cadeaux Genereux Silicon Girl',\n",
       " 'Cadeaux Genereux Star Tulip',\n",
       " 'Cadoudal Ball Of Fire',\n",
       " 'Calling Collect Marathelie',\n",
       " 'Candy Stripes Dissemble',\n",
       " 'Cape Cross Keswa',\n",
       " 'Cape Cross Palm Springs',\n",
       " 'Cape Cross Somfas',\n",
       " 'Cape Cross Upend',\n",
       " 'Cape Town Gray Lady Type',\n",
       " 'Cardoun Dear Queen',\n",
       " 'Catienus Hillary Step',\n",
       " 'Catrail Kahuna Magic',\n",
       " 'Celtic Swing Miss Germany',\n",
       " 'Celtic Swing Ombre De Lune',\n",
       " 'Century City//Mushroom Countess',\n",
       " 'Charnwood Forest Abstraction',\n",
       " 'Charnwood Forest Nightdance',\n",
       " 'Chef De Clan Antoniola',\n",
       " 'City On A Hill - Ela-Darlin-Mou',\n",
       " 'Classic Secret Ela Man Hee',\n",
       " 'Conquistador Cielo Tastetheteardrops',\n",
       " \"Coronado's Quest Love That Jazz\",\n",
       " 'Crafty Prospector Persian Flute',\n",
       " 'Cricket Ball Maria Star',\n",
       " 'Cyborg Belle De Loir',\n",
       " 'Cyborg Miss Thann',\n",
       " 'Dabistan Soy Cupid',\n",
       " 'Dadarissime Deesse De Basile',\n",
       " 'Dadarissime Upper Forms',\n",
       " 'Daggers Drawn Paganina',\n",
       " 'Dance In The Dark Sugar Cookie',\n",
       " 'Danehill Dancer Dim Ofan',\n",
       " 'Danehill Dancer Griqualand',\n",
       " \"Danehill Epicure's Garden\",\n",
       " 'Danehill Silver Fun',\n",
       " 'Danehill Slipstream Queen',\n",
       " 'Danehill/Marlene-D',\n",
       " 'Dansili High And Low',\n",
       " 'Dansili Hunt The Sun',\n",
       " 'Darshaan Cape Grace',\n",
       " 'Darshaan Lille Hammer',\n",
       " 'Darshaan Star Profile',\n",
       " 'Dashing Blade Leontine',\n",
       " 'Daylami Valley Quest',\n",
       " 'Dear Doctor Olazur Du Clos Ry',\n",
       " 'Dear Doctor Princesse Music',\n",
       " \"Dearling Tendresse D'Avril IV\",\n",
       " 'Denham Red Royale Lightning',\n",
       " 'Desert King Damiana',\n",
       " 'Desert King Moonsilk',\n",
       " 'Desert King Tanzania',\n",
       " 'Desert Prince Raincloud',\n",
       " 'Desert Prince She Bat',\n",
       " 'Desert Prince Truly A Gift',\n",
       " 'Desert Prince Truly Bewitched',\n",
       " 'Desert Prince Urmia',\n",
       " 'Desert Story Liwana',\n",
       " 'Desert Style Silver Echo',\n",
       " \"Dictator's Song Fresh Cream\",\n",
       " 'Diesis Lady Lodger',\n",
       " 'Diktat/Heaven-Liegh-Grey',\n",
       " \"Discover D'Auteuil Legal Union\",\n",
       " 'Distant View Musicanti',\n",
       " 'Distant View Nunatak',\n",
       " 'Distorted Humor Cindazanno',\n",
       " 'Dixie Union Ryn',\n",
       " 'Dixie Union Zepa',\n",
       " 'Docksider Pride Of Place',\n",
       " 'Dolphin Street Silicon Bavaria',\n",
       " 'Dom Alco Elegie De Valtat',\n",
       " 'Double Bed Anatoxine',\n",
       " 'Double Bed Northern Place',\n",
       " \"Dounba Tirade D'Estruval\",\n",
       " 'Dr Devious Hymenee',\n",
       " \"Dr Devious Ribot's Guest\",\n",
       " 'Dr Fong Secret Wings',\n",
       " 'Dream Well Moon Is Up',\n",
       " 'Dress Parade Fan Berry',\n",
       " 'Drop-Off/Boomelle',\n",
       " 'Drop-Off/Trick of The Night',\n",
       " 'Dubai Millennium Zomaradah',\n",
       " 'Dynaformer Lovely Martha',\n",
       " 'Dynaformer The Bink',\n",
       " 'Efisio - Copy-Cat',\n",
       " \"El Prado Kitten's First\",\n",
       " 'El Prado Sweet As Honey',\n",
       " 'Ela-Mana-Mou (UK) / Ebony And Ivory (IRE)',\n",
       " 'Ela-Mana-Mou/Summerhill',\n",
       " 'Ela-Mana-Mou/The Dawn Trader',\n",
       " 'Ela-mana-mou-The Dawn Trader',\n",
       " 'Elusive Quality Time For Jazz',\n",
       " 'Enrique Pearly Gate',\n",
       " \"Esprit Du Nord Peau D'Or\",\n",
       " \"Evening World Pensee D'Amour\",\n",
       " 'Exit To Nowhere Ophira',\n",
       " 'Fabulous Don Dragora',\n",
       " 'Fasliyev Society Queen',\n",
       " 'Fill My Hopes Pierre Stay',\n",
       " 'Fill My Hopes Vallee De Loire',\n",
       " 'Flash De Coss頭 Eb讥 Des Champs',\n",
       " 'Flash De Coss頭 Hal顠Speed',\n",
       " 'Fly To The Stars Last Goddess',\n",
       " 'Flying Spur Rue Pigalle',\n",
       " 'Forest Wildcat Penniless Heiress',\n",
       " 'Fraam Calcutta Queen',\n",
       " 'Fragrant Mix Dona Sville',\n",
       " 'Freedom Cry Royalla',\n",
       " 'Fuji Kiseki Vanilla Afleet',\n",
       " 'Funambule Princesse Mimi',\n",
       " 'Funny Baby Hispanie',\n",
       " 'Fusaichi Concorde Influence',\n",
       " 'Fusaichi Pegasus La Barberina',\n",
       " 'Fusaichi Pegasus Marozia',\n",
       " 'Gallery Of Zurich Couture Platine',\n",
       " 'Ganges Flying Missel',\n",
       " 'Garde Royale Malis Creiomin',\n",
       " 'Garde Royale Tchela',\n",
       " 'General Holme Va Et Vient',\n",
       " 'Genereux Genie Blood And Thunder',\n",
       " 'Generous Peach Bloom',\n",
       " \"Giant's Causeway Astorg\",\n",
       " \"Giant's Causeway Colorsnap\",\n",
       " \"Giant's Causeway Freddie Frisson\",\n",
       " \"Giant's Causeway Helsinki\",\n",
       " \"Giant's Causeway Hum Along\",\n",
       " \"Giant's Causeway Rusty Back\",\n",
       " \"Giant's Causeway Vallee Des Reves\",\n",
       " 'Go Between Birsheba',\n",
       " 'Gold Away Doucelisa',\n",
       " 'Gold Away Far Cry',\n",
       " 'Gold Away Fatale',\n",
       " 'Gold Away Victory Mill',\n",
       " 'Gold Fever Annasan',\n",
       " 'Golden Missile Incinerate',\n",
       " 'Good And Tough Genuine Concern',\n",
       " 'Grand Lodge Fragrant Hill',\n",
       " 'Grand Lodge Goodwood Blizzard',\n",
       " 'Grand Lodge Tina Heights',\n",
       " 'Grand Lodge Tresor Russe',\n",
       " 'Grand Slam Dixieland Blues',\n",
       " 'Grand Tresor Abanita',\n",
       " 'Great Palm Tarente',\n",
       " 'Green Desert Cromac',\n",
       " 'Green Desert Princesse Bilbao',\n",
       " 'Green Desert Viz',\n",
       " 'Green Tune Advantage',\n",
       " 'Green Tune Faintly',\n",
       " 'Green Tune La Popesse',\n",
       " 'Green Tune Love For Ever',\n",
       " \"Green Tune Luth D'Or\",\n",
       " 'Green Tune Tkisam',\n",
       " 'Groom Dancer Laurencia',\n",
       " 'Groom Dancer Marsoumeh',\n",
       " 'Gulch Magical Holiday',\n",
       " 'Gunboat Diplomacy Diane Du Forez',\n",
       " 'Halling African Peace',\n",
       " 'Halling Play With Me',\n",
       " 'Hawkeye - ELA-DARLIN-MOU',\n",
       " 'Hector Protector Mona Em',\n",
       " 'Heritable Perle Noire Du Lac',\n",
       " 'Hernando Atlantic Blue',\n",
       " 'Hernando La Dolores',\n",
       " 'Hernando Love Letters',\n",
       " 'Hernando Summer Night',\n",
       " 'High Yield Zappeuse',\n",
       " 'Highest Honor Dear Marianne',\n",
       " 'Highest Honor Emblem',\n",
       " 'Highest Honor Girl Of France',\n",
       " 'Highest Honor Music Park',\n",
       " 'Highest Honor Newness',\n",
       " 'Highest Honor Numidie',\n",
       " 'Highest Honor Vassia',\n",
       " 'Holt (usa) - E-mail (ARG)',\n",
       " 'Holt (usa)-E-mail (ARG)',\n",
       " 'Hovi-Ari-Ruletti',\n",
       " 'Humool - LA-SAYIDA',\n",
       " 'Imperial Ballet Echelle Musicale',\n",
       " 'In Camera Nawarona',\n",
       " 'In The Wings (UK) / Petite-D-Argent (UK)',\n",
       " 'In The Wings My Mariam',\n",
       " 'In The Wings Poughkeepsie',\n",
       " 'Indian Ridge Inchmurrin',\n",
       " 'Indian River Maracay',\n",
       " \"Iris De La Brunie L'Embellie\",\n",
       " 'Irish Wells-Diamond square',\n",
       " 'Itsabrahma/Il-X',\n",
       " 'Jag de Bellouet-Envoutante',\n",
       " 'Jeune Homme Little Deep Water',\n",
       " 'Jimble Royal Blessing',\n",
       " 'Johan Cruyff - Fireglow - Fireglow',\n",
       " 'Johann Quatz Cutlass',\n",
       " \"Joie's Cha-Ching/Rayjean Miss Bandy\",\n",
       " 'Kadounor Kiss House',\n",
       " 'Kahyasi Arctic Place',\n",
       " 'Kaid Pous Lady Gyp',\n",
       " \"Kaiser Soz頭 Epine D'Amour\",\n",
       " 'Kendor Dame Edith',\n",
       " 'Kendor Tropical Moon',\n",
       " 'Kendor Wild Arum',\n",
       " 'Keos Chic Native',\n",
       " 'Keos Garde Toi',\n",
       " 'Keos La Combattante',\n",
       " 'Key Of Luck Disregard That',\n",
       " 'Key Of Luck Sarifa',\n",
       " 'King Of Kings Berceau',\n",
       " 'King Of Kings Shemaya',\n",
       " \"King's Best Oiseau De Feu\",\n",
       " \"King's Best Toujours Irish\",\n",
       " \"King's Theatre Zelda\",\n",
       " 'Kingmambo Black Penny',\n",
       " 'Kingmambo Chesa Plana',\n",
       " 'Kingmambo Legend Maker',\n",
       " 'Kingmambo Myth To Reality',\n",
       " 'Kingmambo Ring Of Music',\n",
       " 'Kingmambo Very True',\n",
       " 'Kingsalsa Shinning War',\n",
       " 'Kirkwall Rosy Outlook',\n",
       " 'Kizitca Jolie Cheftaine',\n",
       " 'Kris Gracious Line',\n",
       " 'Kris S Set In Motion',\n",
       " \"Lahib Comme D'Habitude\",\n",
       " 'Le Balafre La Lauter',\n",
       " 'Le Glorieux All Come True',\n",
       " 'Le Glorieux Asslana',\n",
       " 'Le Triton Chahacoua',\n",
       " 'Le Triton Juan Gris',\n",
       " 'Le Triton Maria Lesa',\n",
       " 'Le Triton Sol Y Luz',\n",
       " 'Lear Fan Corsini',\n",
       " 'Lear Fan Sylph',\n",
       " 'Lemon Drop Kid Attractive Crown',\n",
       " 'Lemon Drop Kid Coral Sea',\n",
       " 'Lights Out Circassie',\n",
       " 'Limnos Foolish Star',\n",
       " 'Limpid Miss Valenia',\n",
       " 'Linamix Broad And High',\n",
       " 'Linamix Labour Of Love',\n",
       " 'Linamix Nuit Indienne',\n",
       " 'Linamix Reine De La Ciel',\n",
       " 'Linamix Rose Quartz',\n",
       " 'Linamix Shapely Scrapper',\n",
       " 'Linamix Windy Gulch',\n",
       " 'Lomitas Saas Fee',\n",
       " \"Lomitas Siberian's Image\",\n",
       " 'Lord Of Men Hairly',\n",
       " 'Lord Of Men Nimes',\n",
       " 'Lost Soldier Cloud Break',\n",
       " 'Lost World Bouchra',\n",
       " 'Lost World Haiya',\n",
       " 'Lost World Kinotcha',\n",
       " 'Loup Solitaire Glendale',\n",
       " 'Loup Solitaire Maousse',\n",
       " 'Loup Solitaire Otaiti',\n",
       " 'Loup Solitaire Peggy Sue',\n",
       " 'Loup Solitaire Sarda',\n",
       " 'Loup Solitaire Volupte',\n",
       " 'Luchiroverte Grace A Marie',\n",
       " 'Lute Antique Appinay',\n",
       " 'Lute Antique First Union',\n",
       " 'Lute Antique Gold Wind',\n",
       " 'Lute Antique Katchassa',\n",
       " 'Machiavellian Magna Graecia',\n",
       " 'Machiavellian Time Saved',\n",
       " 'Mad Tax Tiepiola',\n",
       " 'Makbul Lady Roxanne',\n",
       " 'Mansonnien Miss Madoura',\n",
       " 'Marathon Risky Moonlight',\n",
       " 'Marchand De Sable Lady Harisson',\n",
       " 'Marchand De Sable Lady Petronille',\n",
       " \"Marchand De Sable Polly's Wika\",\n",
       " 'Mark of Esteem/L-way First',\n",
       " 'Marmato Facetie IV',\n",
       " 'Massimo Pure Secret',\n",
       " 'Medaaly Joy Of Life',\n",
       " 'Medaaly Super Rose',\n",
       " 'Mendocino Auld Lang Syne',\n",
       " 'Mendocino Juliet Story',\n",
       " 'Michel Georges Ecossaise II',\n",
       " 'Midhish/Lady-Mumtaz',\n",
       " 'Midyan Speakers Corner',\n",
       " \"Miesque's Son Myth To Reality\",\n",
       " 'Miswaki Cherokee Damsel',\n",
       " 'Miswaki Naskra Colors',\n",
       " 'Mizoram Heroine Lily',\n",
       " 'Mollicone Junior Venus De Boizel',\n",
       " 'Monsun Anna Of Kiev',\n",
       " 'Monsun La Lyra',\n",
       " 'Monsun So Sedulous',\n",
       " 'Monsun/Bela-M',\n",
       " 'Montjeu Millennium Dash',\n",
       " 'Montjeu Out West',\n",
       " 'Mujahid - Copy-Cat',\n",
       " 'Mujahid-Copy-Cat',\n",
       " 'Mukaddamah Bint Al Balad',\n",
       " 'Murmure Blade Des Garennes',\n",
       " 'Murmure Ephese V',\n",
       " 'Nashwan Gentle Dame',\n",
       " \"Nashwan Moonlight's Box\",\n",
       " 'Nashwan Regal Opinion',\n",
       " 'Neverneyev La Stefania',\n",
       " 'Nicolotte/Fernet-Branca',\n",
       " 'Night Shift Asmara',\n",
       " 'Night Shift Giola',\n",
       " 'Night Shift Godille',\n",
       " 'Nikos Forest Hills',\n",
       " 'Nikos Marie Glitters',\n",
       " 'Noir Et Or Calamity',\n",
       " 'Nombre Premier Feofee',\n",
       " 'Nombre Premier Risky Moonlight',\n",
       " 'Northern Crystal Bright Idea',\n",
       " 'Northern Crystal Law Law',\n",
       " 'Nureyev Far Across',\n",
       " \"Oblat Ugesca D'Airy\",\n",
       " 'Octagonal Belle Du Bresil',\n",
       " 'Old Trieste Ridden In Thestars',\n",
       " 'On Guard Becebege',\n",
       " 'Orpen Welsh Dawn',\n",
       " 'Oscar/Gra-Bri',\n",
       " 'Overbury Four Thyme',\n",
       " \"Panoramic Diese D'Estruval\",\n",
       " 'Panoramic Eau Les Mains',\n",
       " 'Passing Sale Reine Des Plages',\n",
       " 'Peintre Celebre My Secret',\n",
       " 'Perrault Clyde Des Mottes',\n",
       " 'Perugino Great Falls',\n",
       " 'Pistolet Bleu Eau De Nuit',\n",
       " 'Pistolet Bleu Kakira',\n",
       " 'Pistolet Bleu Luthinga',\n",
       " 'Pistolet Bleu Violet Desir',\n",
       " 'Pivotal (GB) - Silca-Cisa (GB)',\n",
       " 'Pivotal Heavenly Ray',\n",
       " 'Pivotal Miss Penton',\n",
       " 'Pivotal Persian Air',\n",
       " 'Pivotal Polish Descent',\n",
       " 'Pivotal Welcome Home',\n",
       " 'Pivotal/Silca-Cisa',\n",
       " 'Platini Anna Leone',\n",
       " 'Polar Falcon Aim For The Top',\n",
       " 'Polar Falcon Top Jem',\n",
       " 'Poliglote Golden Rainbow',\n",
       " 'Poliglote Pearl River',\n",
       " 'Poliglote Queen Margaret',\n",
       " 'Poliglote Red Vintage',\n",
       " 'Polish Precedent Floripedes',\n",
       " 'Polski Boy Kissnoia',\n",
       " \"Prospector's Music Starr County\",\n",
       " 'Pursuit Of Love Sea Ballad',\n",
       " 'R B Chesne Karlypha',\n",
       " 'Ragmar Broceliande Fine',\n",
       " 'Ragmar Fregate De Nourry',\n",
       " 'Rahy Fantastic Look',\n",
       " 'Rainbow Quest Flabbergasted',\n",
       " 'Rainbow Quest Sarliya',\n",
       " 'Rainbow Reef Zayana Rose',\n",
       " 'Raintrap Bal De Foire',\n",
       " 'Raintrap For Kicks',\n",
       " 'Ramouncho April Star',\n",
       " \"Real Artist-D/Na's Hope\",\n",
       " 'Red Ransom Last Approach',\n",
       " 'Red Ransom Moiava',\n",
       " 'Red Ransom Zarkiya',\n",
       " 'Red Sunset Milk And Honey',\n",
       " 'Redback/Light-Flight',\n",
       " 'River Bay Loggia Bleue',\n",
       " 'River Smile Longway',\n",
       " 'Roakarad Effet De Star',\n",
       " 'Robellino Isadora Duncan',\n",
       " 'Robin Des Pres Nik Bey',\n",
       " 'Rochesson Sweet Jennifer',\n",
       " 'Rock Of Gibraltar-Marlene-d',\n",
       " 'Royal Academy Galatrix',\n",
       " 'Rubis De La No頭 Edea',\n",
       " \"Sadler's Wells Animatrice\",\n",
       " \"Sadler's Wells Borgia\",\n",
       " \"Sadler's Wells Brooklyn's Dance\",\n",
       " \"Sadler's Wells Clear Issue\",\n",
       " \"Sadler's Wells Crystal Spray\",\n",
       " \"Sadler's Wells Dollar Bird\",\n",
       " \"Sadler's Wells Hellenic\",\n",
       " \"Sadler's Wells Love For Ever\",\n",
       " \"Sadler's Wells Magnificient Style\",\n",
       " \"Sadler's Wells Moon Cactus\",\n",
       " \"Sadler's Wells Rainbow Lake\",\n",
       " \"Sadler's Wells Sumoto\",\n",
       " \"Sadler's Wells Urban Sea\",\n",
       " 'Sagamix Come Along',\n",
       " 'Saint Ballado Goulash',\n",
       " 'Saint Ballado Quiet Dance',\n",
       " 'Saint Cyrien Batena Deproniere',\n",
       " 'Saint Preuil Carmen De Chazot',\n",
       " 'Saint Preuil Cindy Cad',\n",
       " 'Saint Preuil Daliana',\n",
       " 'Saratoga Springs Princesse Du Soir',\n",
       " 'Saumarez Mepa Dancer',\n",
       " 'Seattle Slew Turning Wheel',\n",
       " 'Seeking The Gold Our Country Place',\n",
       " 'Selkirk(USA) - Milly-M (GB)',\n",
       " 'Septieme Ciel Brigantine',\n",
       " 'Septieme Ciel Gentian Blue',\n",
       " 'Septieme Ciel Kuddam',\n",
       " 'Septieme Ciel Mioura',\n",
       " 'Septieme Ciel Pollyana',\n",
       " 'Septieme Ciel Silent Circle',\n",
       " 'Sheyrann Bone Crasher',\n",
       " \"Sheyrann Dalina D'Airy\",\n",
       " 'Sikeston King Nova',\n",
       " 'Sillery La Bucaille',\n",
       " 'Silvano - First Wings-First wings',\n",
       " 'Silvano - Song Of Hope-Song of hope',\n",
       " 'Silver Hawk Ameriflora',\n",
       " 'Silver Hawk Gazayil',\n",
       " 'Silver Hawk Isla Del Rey',\n",
       " 'Sin Kiang Alhena',\n",
       " 'Sin Kiang Solfast',\n",
       " 'Singspiel Fiddle Dee Dee',\n",
       " 'Singspiel Last Spin',\n",
       " 'Singspiel Red Carnival',\n",
       " 'Singspiel Vale Of Truth',\n",
       " \"Sleeping Car Soiree D'Ex\",\n",
       " 'Smadoun Epidaure II',\n",
       " 'So Factual Ancient Secret',\n",
       " 'Solar One Lashing Waves',\n",
       " 'Solid Illusion Dark Kay',\n",
       " 'Solid Illusion Long Whistle',\n",
       " 'Southern Halo Esnaola',\n",
       " 'Soviet Star Flying Floozie',\n",
       " 'Spectrum Her Ladyship',\n",
       " 'Spectrum Highland Gift',\n",
       " \"Spectrum L'Annee Folle\",\n",
       " 'Sri Pekan Drifa',\n",
       " 'Sri Pekan Farinha',\n",
       " 'Sri Pekan Fresh Look',\n",
       " 'Sri Pekan Miss Alizier',\n",
       " 'Star Of Cozzene River Lass',\n",
       " 'Starborough Flaming Back',\n",
       " 'Starborough Maid Of Honor',\n",
       " 'Stephen Got Even Heat Lightning',\n",
       " \"Storm Cat Serena's Song\",\n",
       " 'Stormy Atlantic Bestsayes',\n",
       " 'Stravinsky Aldebaran Light',\n",
       " 'Strawberry-Li/Potrichis',\n",
       " \"Sultry Song Joiski's Star\",\n",
       " 'Sunday Silence Biwa Heidi',\n",
       " 'Sunday Silence Heed',\n",
       " 'Sunday Silence Kitten Tricks',\n",
       " 'Sunday Silence Oenothera',\n",
       " \"Sunday Silence Slew O' Gems\",\n",
       " 'Take Risks Banakill',\n",
       " 'Take Risks Claraway',\n",
       " 'Take Risks Cry Me A River',\n",
       " 'Take Risks Verte Pampa',\n",
       " 'Talybac Mille Flash',\n",
       " 'Tel Quel Cerigo',\n",
       " 'Theatrical Corridora Slew',\n",
       " 'Theatrical Journey Of Hope',\n",
       " 'Theatrical Lady Shirl',\n",
       " 'Theatrical Ruby Ransom',\n",
       " 'Thunder Gulch Beautiful Pleasure',\n",
       " 'Tiger Hill Evening Kiss',\n",
       " 'Tiger Hill Iora',\n",
       " 'Tiger Hill Kittiwake',\n",
       " 'Tiger Hill Mysterious Land',\n",
       " 'Timber Country Arduine',\n",
       " 'Timber Country Sanchez',\n",
       " 'Tot Ou Tard Barie',\n",
       " 'Toulon (GB) - Tor-Na-Grena (GB)',\n",
       " 'Trempolino Harbour Queen',\n",
       " 'Trippi Fast Profit',\n",
       " 'True Brave Biche De Malon',\n",
       " 'Turgeon La Mesange',\n",
       " 'Turtle Island Millionetta',\n",
       " 'Twining Midnight Oasis',\n",
       " \"Two Punch Avie's Lady\",\n",
       " 'Unfuwain Ard Na Sighe',\n",
       " 'Unfuwain Delicieuse Lady',\n",
       " 'Unfuwain Joyeuse Entree',\n",
       " 'Unfuwain Midway Lady',\n",
       " 'Ungaro Trouble Ahead',\n",
       " 'Urban Ocean Passe Du Diable',\n",
       " 'Useful Laura De La Vire',\n",
       " 'Vaguely Pleasant Vitrolles',\n",
       " 'Verglas No Passing Zone',\n",
       " 'Vettori Crystal Cavern',\n",
       " 'Vettori Glen Falls',\n",
       " 'Vettori Villa Maria Pia',\n",
       " \"Victory Note Dove's Nest\",\n",
       " 'Victory Piper Blizzy',\n",
       " 'Video Rock Fee Du Moulin Mas',\n",
       " 'Video Rock Girl',\n",
       " 'Video Rock Miss Noir Et Or',\n",
       " 'Village Jasper/Lc-Judy Pat',\n",
       " 'Village Star Dany Flight',\n",
       " 'Village Star Gerra',\n",
       " 'Villez Cour De Rome',\n",
       " 'Volochine Noble Maison',\n",
       " 'Wagon Master Classy Slewpy',\n",
       " 'Waky Nao Katharina',\n",
       " 'Waky Nao La Ola',\n",
       " 'Warcraft/Down Town To-Night',\n",
       " 'Wild Rush To The Hunt',\n",
       " \"Will's Way Tippecanoe Creek\",\n",
       " 'Xaar Samsung Spirit',\n",
       " 'Xaar Spring Quest',\n",
       " 'Yuushun Shining Candle',\n",
       " 'Zafonic Peace Talk',\n",
       " 'Zayyani Lady Of Malville',\n",
       " 'Zieten Top Speed',\n",
       " 'Zinaad - Wassiliki - Wassiliki',\n",
       " 'Zinaad - Wassiliki-Wassiliki'}"
      ]
     },
     "execution_count": 6,
     "metadata": {},
     "output_type": "execute_result"
    }
   ],
   "source": [
    "not_understood_parent_names"
   ]
  },
  {
   "cell_type": "code",
   "execution_count": 25,
   "metadata": {
    "scrolled": true
   },
   "outputs": [
    {
     "name": "stderr",
     "output_type": "stream",
     "text": [
      "  0%|          | 1/575 [00:07<1:10:59,  7.42s/it]"
     ]
    },
    {
     "name": "stdout",
     "output_type": "stream",
     "text": [
      "Robin Des Pres Nik Bey NIK BEY\n",
      "Robin Des Pres Nik Bey ROBIN DES PRES\n"
     ]
    },
    {
     "name": "stderr",
     "output_type": "stream",
     "text": [
      "  0%|          | 2/575 [00:14<1:08:56,  7.22s/it]"
     ]
    },
    {
     "name": "stdout",
     "output_type": "stream",
     "text": [
      "Rainbow Quest Sarliya SARLIYA\n"
     ]
    },
    {
     "name": "stderr",
     "output_type": "stream",
     "text": [
      "  1%|          | 4/575 [00:27<1:06:45,  7.01s/it]"
     ]
    },
    {
     "name": "stdout",
     "output_type": "stream",
     "text": [
      "Nombre Premier Risky Moonlight RISKY MOONLIGHT\n",
      "Nombre Premier Risky Moonlight NOMBRE PREMIER\n"
     ]
    },
    {
     "name": "stderr",
     "output_type": "stream",
     "text": [
      "  1%|          | 5/575 [00:34<1:05:52,  6.93s/it]"
     ]
    },
    {
     "name": "stdout",
     "output_type": "stream",
     "text": [
      "Le Triton Juan Gris JUAN GRIS\n",
      "Le Triton Juan Gris LE TRITON\n"
     ]
    },
    {
     "name": "stderr",
     "output_type": "stream",
     "text": [
      "  1%|          | 6/575 [00:41<1:05:58,  6.96s/it]"
     ]
    },
    {
     "name": "stdout",
     "output_type": "stream",
     "text": [
      "Pursuit Of Love Sea Ballad SEA BALLAD\n",
      "Pursuit Of Love Sea Ballad PURSUIT OF LOVE\n"
     ]
    },
    {
     "name": "stderr",
     "output_type": "stream",
     "text": [
      "  1%|          | 7/575 [00:49<1:08:55,  7.28s/it]"
     ]
    },
    {
     "name": "stdout",
     "output_type": "stream",
     "text": [
      "Attune Slew Dancer SLEW DANCER\n",
      "Attune Slew Dancer ATTUNE\n"
     ]
    },
    {
     "name": "stderr",
     "output_type": "stream",
     "text": [
      "  1%|▏         | 8/575 [00:56<1:07:46,  7.17s/it]"
     ]
    },
    {
     "name": "stdout",
     "output_type": "stream",
     "text": [
      "Desert King Damiana DAMIANA\n",
      "Desert King Damiana DESERT KING\n"
     ]
    },
    {
     "name": "stderr",
     "output_type": "stream",
     "text": [
      "  2%|▏         | 9/575 [01:03<1:06:24,  7.04s/it]"
     ]
    },
    {
     "name": "stdout",
     "output_type": "stream",
     "text": [
      "Attune Noble Folly ATTUNE\n"
     ]
    },
    {
     "name": "stderr",
     "output_type": "stream",
     "text": [
      "  2%|▏         | 10/575 [01:09<1:05:27,  6.95s/it]"
     ]
    },
    {
     "name": "stdout",
     "output_type": "stream",
     "text": [
      "Dubai Millennium Zomaradah ZOMARADAH\n",
      "Dubai Millennium Zomaradah DUBAI MILLENNIUM\n"
     ]
    },
    {
     "name": "stderr",
     "output_type": "stream",
     "text": [
      "  2%|▏         | 11/575 [01:16<1:05:02,  6.92s/it]"
     ]
    },
    {
     "name": "stdout",
     "output_type": "stream",
     "text": [
      "Diesis Lady Lodger LADY LODGER\n",
      "Diesis Lady Lodger DIESIS\n"
     ]
    },
    {
     "name": "stderr",
     "output_type": "stream",
     "text": [
      "  2%|▏         | 12/575 [01:23<1:05:06,  6.94s/it]"
     ]
    },
    {
     "name": "stdout",
     "output_type": "stream",
     "text": [
      "Conquistador Cielo Tastetheteardrops CONQUISTADOR CIELO\n"
     ]
    },
    {
     "name": "stderr",
     "output_type": "stream",
     "text": [
      "  2%|▏         | 13/575 [01:30<1:04:38,  6.90s/it]"
     ]
    },
    {
     "name": "stdout",
     "output_type": "stream",
     "text": [
      "Alesso Valinka II VALINKA II\n",
      "Alesso Valinka II ALESSO\n"
     ]
    },
    {
     "name": "stderr",
     "output_type": "stream",
     "text": [
      "  2%|▏         | 14/575 [01:37<1:03:44,  6.82s/it]"
     ]
    },
    {
     "name": "stdout",
     "output_type": "stream",
     "text": [
      "Green Desert Viz GREEN DESERT\n"
     ]
    },
    {
     "name": "stderr",
     "output_type": "stream",
     "text": [
      "  3%|▎         | 15/575 [01:43<1:03:18,  6.78s/it]"
     ]
    },
    {
     "name": "stdout",
     "output_type": "stream",
     "text": [
      "Massimo Pure Secret SECRET\n",
      "Massimo Pure Secret MASSIMO\n"
     ]
    },
    {
     "name": "stderr",
     "output_type": "stream",
     "text": [
      "  3%|▎         | 16/575 [01:50<1:02:52,  6.75s/it]"
     ]
    },
    {
     "name": "stdout",
     "output_type": "stream",
     "text": [
      "Red Sunset Milk And Honey MILK AND HONEY\n"
     ]
    },
    {
     "name": "stderr",
     "output_type": "stream",
     "text": [
      "  3%|▎         | 17/575 [01:57<1:02:38,  6.74s/it]"
     ]
    },
    {
     "name": "stdout",
     "output_type": "stream",
     "text": [
      "Dear Doctor Olazur Du Clos Ry OLAZUR DU CLOS RY\n",
      "Dear Doctor Olazur Du Clos Ry DEAR DOCTOR\n"
     ]
    },
    {
     "name": "stderr",
     "output_type": "stream",
     "text": [
      "  3%|▎         | 18/575 [02:04<1:02:56,  6.78s/it]"
     ]
    },
    {
     "name": "stdout",
     "output_type": "stream",
     "text": [
      "Fusaichi Concorde Influence FUSAICHI CONCORDE\n"
     ]
    },
    {
     "name": "stderr",
     "output_type": "stream",
     "text": [
      "  3%|▎         | 19/575 [02:11<1:03:12,  6.82s/it]"
     ]
    },
    {
     "name": "stdout",
     "output_type": "stream",
     "text": [
      "Theatrical Lady Shirl LADY SHIRL\n",
      "Theatrical Lady Shirl THEATRICAL LADY\n"
     ]
    },
    {
     "name": "stderr",
     "output_type": "stream",
     "text": [
      "  3%|▎         | 20/575 [02:17<1:02:44,  6.78s/it]"
     ]
    },
    {
     "name": "stdout",
     "output_type": "stream",
     "text": [
      "Desert Story Liwana LIWANA\n"
     ]
    },
    {
     "name": "stderr",
     "output_type": "stream",
     "text": [
      "  4%|▍         | 22/575 [02:31<1:02:48,  6.82s/it]"
     ]
    },
    {
     "name": "stdout",
     "output_type": "stream",
     "text": [
      "Xaar Samsung Spirit SPIRIT\n",
      "Xaar Samsung Spirit XAAR\n"
     ]
    },
    {
     "name": "stderr",
     "output_type": "stream",
     "text": [
      "  4%|▍         | 23/575 [02:38<1:03:44,  6.93s/it]"
     ]
    },
    {
     "name": "stdout",
     "output_type": "stream",
     "text": [
      "Miesque's Son Myth To Reality MYTH TO REALITY\n",
      "Miesque's Son Myth To Reality MIESQUE'S SON\n"
     ]
    },
    {
     "name": "stderr",
     "output_type": "stream",
     "text": [
      "  4%|▍         | 24/575 [02:45<1:04:29,  7.02s/it]"
     ]
    },
    {
     "name": "stdout",
     "output_type": "stream",
     "text": [
      "Octagonal Belle Du Bresil BELLE DU BRESIL\n",
      "Octagonal Belle Du Bresil OCTAGONAL\n"
     ]
    },
    {
     "name": "stderr",
     "output_type": "stream",
     "text": [
      "  4%|▍         | 25/575 [02:52<1:04:15,  7.01s/it]"
     ]
    },
    {
     "name": "stdout",
     "output_type": "stream",
     "text": [
      "Grand Lodge Tina Heights TINA HEIGHTS\n",
      "Grand Lodge Tina Heights GRAND LODGE\n"
     ]
    },
    {
     "name": "stderr",
     "output_type": "stream",
     "text": [
      "  5%|▍         | 26/575 [03:00<1:04:36,  7.06s/it]"
     ]
    },
    {
     "name": "stdout",
     "output_type": "stream",
     "text": [
      "Kingmambo Chesa Plana CHESA PLANA\n"
     ]
    },
    {
     "name": "stderr",
     "output_type": "stream",
     "text": [
      "  5%|▍         | 27/575 [03:05<59:33,  6.52s/it]  "
     ]
    },
    {
     "name": "stdout",
     "output_type": "stream",
     "text": [
      "Anabaa Amitie Fatale AMITIE FATALE\n",
      "Anabaa Amitie Fatale ANABAA\n"
     ]
    },
    {
     "name": "stderr",
     "output_type": "stream",
     "text": [
      "  5%|▍         | 28/575 [03:10<54:37,  5.99s/it]"
     ]
    },
    {
     "name": "stdout",
     "output_type": "stream",
     "text": [
      "Sri Pekan Farinha FARINHA\n",
      "Sri Pekan Farinha SRI PEKAN\n"
     ]
    },
    {
     "name": "stderr",
     "output_type": "stream",
     "text": [
      "  5%|▌         | 29/575 [03:15<53:33,  5.89s/it]"
     ]
    },
    {
     "name": "stdout",
     "output_type": "stream",
     "text": [
      "Highest Honor Numidie NUMIDIE\n",
      "Highest Honor Numidie HIGHEST HONOR\n"
     ]
    },
    {
     "name": "stderr",
     "output_type": "stream",
     "text": [
      "  5%|▌         | 30/575 [03:20<51:40,  5.69s/it]"
     ]
    },
    {
     "name": "stdout",
     "output_type": "stream",
     "text": [
      "Cardoun Dear Queen DEAR QUEEN\n",
      "Cardoun Dear Queen CARDOUN\n"
     ]
    },
    {
     "name": "stderr",
     "output_type": "stream",
     "text": [
      "  5%|▌         | 31/575 [03:25<49:37,  5.47s/it]"
     ]
    },
    {
     "name": "stdout",
     "output_type": "stream",
     "text": [
      "Dansili Hunt The Sun HUNT THE SUN\n",
      "Dansili Hunt The Sun DANSILI\n"
     ]
    },
    {
     "name": "stderr",
     "output_type": "stream",
     "text": [
      "  6%|▌         | 32/575 [03:31<48:35,  5.37s/it]"
     ]
    },
    {
     "name": "stdout",
     "output_type": "stream",
     "text": [
      "Waky Nao La Ola LA OLA\n",
      "Waky Nao La Ola WAKY NAO\n"
     ]
    },
    {
     "name": "stderr",
     "output_type": "stream",
     "text": [
      "  6%|▌         | 33/575 [03:36<48:03,  5.32s/it]"
     ]
    },
    {
     "name": "stdout",
     "output_type": "stream",
     "text": [
      "Lute Antique Appinay APPINAY\n",
      "Lute Antique Appinay LUTE ANTIQUE\n"
     ]
    },
    {
     "name": "stderr",
     "output_type": "stream",
     "text": [
      "  6%|▌         | 34/575 [03:41<47:32,  5.27s/it]"
     ]
    },
    {
     "name": "stdout",
     "output_type": "stream",
     "text": [
      "Saratoga Springs Princesse Du Soir PRINCESSE DU SOIR\n",
      "Saratoga Springs Princesse Du Soir SARATOGA SPRINGS\n"
     ]
    },
    {
     "name": "stderr",
     "output_type": "stream",
     "text": [
      "  6%|▌         | 35/575 [03:46<47:53,  5.32s/it]"
     ]
    },
    {
     "name": "stdout",
     "output_type": "stream",
     "text": [
      "Anabaa Pyramid Lake PYRAMID LAKE\n",
      "Anabaa Pyramid Lake ANABAA\n"
     ]
    },
    {
     "name": "stderr",
     "output_type": "stream",
     "text": [
      "  6%|▋         | 36/575 [03:52<47:34,  5.30s/it]"
     ]
    },
    {
     "name": "stdout",
     "output_type": "stream",
     "text": [
      "Sadler's Wells Brooklyn's Dance BROOKLYN'S DANCE\n",
      "Sadler's Wells Brooklyn's Dance SADLER'S WELLS\n"
     ]
    },
    {
     "name": "stderr",
     "output_type": "stream",
     "text": [
      "  6%|▋         | 37/575 [03:57<47:51,  5.34s/it]"
     ]
    },
    {
     "name": "stdout",
     "output_type": "stream",
     "text": [
      "Denham Red Royale Lightning ROYALE LIGHTNING\n",
      "Denham Red Royale Lightning DENHAM RED\n"
     ]
    },
    {
     "name": "stderr",
     "output_type": "stream",
     "text": [
      "  7%|▋         | 39/575 [04:07<47:11,  5.28s/it]"
     ]
    },
    {
     "name": "stdout",
     "output_type": "stream",
     "text": [
      "Bulington Algue Rouge ALGUE ROUGE\n",
      "Bulington Algue Rouge BULINGTON\n"
     ]
    },
    {
     "name": "stderr",
     "output_type": "stream",
     "text": [
      "  7%|▋         | 40/575 [04:13<46:51,  5.26s/it]"
     ]
    },
    {
     "name": "stdout",
     "output_type": "stream",
     "text": [
      "Exit To Nowhere Ophira OPHIRA\n",
      "Exit To Nowhere Ophira EXIT TO NOWHERE\n"
     ]
    },
    {
     "name": "stderr",
     "output_type": "stream",
     "text": [
      "  7%|▋         | 41/575 [04:18<47:33,  5.34s/it]"
     ]
    },
    {
     "name": "stdout",
     "output_type": "stream",
     "text": [
      "Dixie Union Zepa DIXIE UNION\n"
     ]
    },
    {
     "name": "stderr",
     "output_type": "stream",
     "text": [
      "  7%|▋         | 42/575 [04:24<47:40,  5.37s/it]"
     ]
    },
    {
     "name": "stdout",
     "output_type": "stream",
     "text": [
      "True Brave Biche De Malon BICHE DE MALON\n",
      "True Brave Biche De Malon TRUE BRAVE\n"
     ]
    },
    {
     "name": "stderr",
     "output_type": "stream",
     "text": [
      "  7%|▋         | 43/575 [04:29<47:34,  5.37s/it]"
     ]
    },
    {
     "name": "stdout",
     "output_type": "stream",
     "text": [
      "Saint Cyrien Batena Deproniere BATENA DEPRONIERE\n",
      "Saint Cyrien Batena Deproniere SAINT CYRIEN\n"
     ]
    },
    {
     "name": "stderr",
     "output_type": "stream",
     "text": [
      "  8%|▊         | 44/575 [04:34<47:02,  5.31s/it]"
     ]
    },
    {
     "name": "stdout",
     "output_type": "stream",
     "text": [
      "Take Risks Cry Me A River CRY ME A RIVER\n",
      "Take Risks Cry Me A River TAKE RISKS\n"
     ]
    },
    {
     "name": "stderr",
     "output_type": "stream",
     "text": [
      "  8%|▊         | 45/575 [04:39<46:29,  5.26s/it]"
     ]
    },
    {
     "name": "stdout",
     "output_type": "stream",
     "text": [
      "Highest Honor Vassia VASSIA\n",
      "Highest Honor Vassia HIGHEST HONOR\n"
     ]
    },
    {
     "name": "stderr",
     "output_type": "stream",
     "text": [
      "  8%|▊         | 46/575 [04:45<46:10,  5.24s/it]"
     ]
    },
    {
     "name": "stdout",
     "output_type": "stream",
     "text": [
      "Old Trieste Ridden In Thestars OLD TRIESTE\n"
     ]
    },
    {
     "name": "stderr",
     "output_type": "stream",
     "text": [
      "  8%|▊         | 48/575 [04:55<45:14,  5.15s/it]"
     ]
    },
    {
     "name": "stdout",
     "output_type": "stream",
     "text": [
      "Garde Royale Tchela TCHELA\n",
      "Garde Royale Tchela GARDE ROYALE\n"
     ]
    },
    {
     "name": "stderr",
     "output_type": "stream",
     "text": [
      "  9%|▉         | 52/575 [05:16<46:11,  5.30s/it]"
     ]
    },
    {
     "name": "stdout",
     "output_type": "stream",
     "text": [
      "Distant View Nunatak DISTANT VIEW\n"
     ]
    },
    {
     "name": "stderr",
     "output_type": "stream",
     "text": [
      "  9%|▉         | 53/575 [05:21<46:30,  5.35s/it]"
     ]
    },
    {
     "name": "stdout",
     "output_type": "stream",
     "text": [
      "Fraam Calcutta Queen FRAAM\n"
     ]
    },
    {
     "name": "stderr",
     "output_type": "stream",
     "text": [
      "  9%|▉         | 54/575 [05:27<46:35,  5.37s/it]"
     ]
    },
    {
     "name": "stdout",
     "output_type": "stream",
     "text": [
      "Kirkwall Rosy Outlook ROSY OUTLOOK\n",
      "Kirkwall Rosy Outlook KIRKWALL\n"
     ]
    },
    {
     "name": "stderr",
     "output_type": "stream",
     "text": [
      " 10%|▉         | 55/575 [05:32<45:39,  5.27s/it]"
     ]
    },
    {
     "name": "stdout",
     "output_type": "stream",
     "text": [
      "Lemon Drop Kid Coral Sea CORAL SEA\n",
      "Lemon Drop Kid Coral Sea LEMON DROP KID\n"
     ]
    },
    {
     "name": "stderr",
     "output_type": "stream",
     "text": [
      " 10%|▉         | 56/575 [05:37<45:56,  5.31s/it]"
     ]
    },
    {
     "name": "stdout",
     "output_type": "stream",
     "text": [
      "Fusaichi Pegasus Marozia MAROZIA\n",
      "Fusaichi Pegasus Marozia FUSAICHI PEGASUS\n"
     ]
    },
    {
     "name": "stderr",
     "output_type": "stream",
     "text": [
      " 10%|▉         | 57/575 [05:43<45:43,  5.30s/it]"
     ]
    },
    {
     "name": "stdout",
     "output_type": "stream",
     "text": [
      "Villez Cour De Rome COUR DE ROME\n",
      "Villez Cour De Rome VILLEZ\n"
     ]
    },
    {
     "name": "stderr",
     "output_type": "stream",
     "text": [
      " 10%|█         | 58/575 [05:48<45:25,  5.27s/it]"
     ]
    },
    {
     "name": "stdout",
     "output_type": "stream",
     "text": [
      "Desert Prince Truly A Gift TRULY A GIFT\n",
      "Desert Prince Truly A Gift DESERT PRINCE\n"
     ]
    },
    {
     "name": "stderr",
     "output_type": "stream",
     "text": [
      " 10%|█         | 59/575 [05:53<45:00,  5.23s/it]"
     ]
    },
    {
     "name": "stdout",
     "output_type": "stream",
     "text": [
      "Starborough Flaming Back FLAMING BACK\n",
      "Starborough Flaming Back STARBOROUGH\n"
     ]
    },
    {
     "name": "stderr",
     "output_type": "stream",
     "text": [
      " 10%|█         | 60/575 [05:58<44:52,  5.23s/it]"
     ]
    },
    {
     "name": "stdout",
     "output_type": "stream",
     "text": [
      "Marathon Risky Moonlight RISKY MOONLIGHT\n",
      "Marathon Risky Moonlight MARATHON\n"
     ]
    },
    {
     "name": "stderr",
     "output_type": "stream",
     "text": [
      " 11%|█         | 61/575 [06:03<45:06,  5.27s/it]"
     ]
    },
    {
     "name": "stdout",
     "output_type": "stream",
     "text": [
      "Cadeaux Genereux Silicon Girl SILICON GIRL\n",
      "Cadeaux Genereux Silicon Girl CADEAUX GENEREUX\n"
     ]
    },
    {
     "name": "stderr",
     "output_type": "stream",
     "text": [
      " 11%|█         | 62/575 [06:09<44:56,  5.26s/it]"
     ]
    },
    {
     "name": "stdout",
     "output_type": "stream",
     "text": [
      "Bering Vagabond Chanteuse VAGABOND CHANTEUSE\n",
      "Bering Vagabond Chanteuse BERING\n"
     ]
    },
    {
     "name": "stderr",
     "output_type": "stream",
     "text": [
      " 11%|█         | 63/575 [06:14<45:07,  5.29s/it]"
     ]
    },
    {
     "name": "stdout",
     "output_type": "stream",
     "text": [
      "Darshaan Lille Hammer LILLE HAMMER\n",
      "Darshaan Lille Hammer DARSHAAN\n"
     ]
    },
    {
     "name": "stderr",
     "output_type": "stream",
     "text": [
      " 11%|█         | 64/575 [06:20<45:58,  5.40s/it]"
     ]
    },
    {
     "name": "stdout",
     "output_type": "stream",
     "text": [
      "Kahyasi Arctic Place ARCTIC PLACE\n",
      "Kahyasi Arctic Place KAHYASI\n"
     ]
    },
    {
     "name": "stderr",
     "output_type": "stream",
     "text": [
      " 11%|█▏        | 65/575 [06:26<47:19,  5.57s/it]"
     ]
    },
    {
     "name": "stdout",
     "output_type": "stream",
     "text": [
      "Atticus Ring Beaune RING BEAUNE\n",
      "Atticus Ring Beaune ATTICUS\n"
     ]
    },
    {
     "name": "stderr",
     "output_type": "stream",
     "text": [
      " 11%|█▏        | 66/575 [06:32<48:22,  5.70s/it]"
     ]
    },
    {
     "name": "stdout",
     "output_type": "stream",
     "text": [
      "Septieme Ciel Brigantine BRIGANTINE\n",
      "Septieme Ciel Brigantine SEPTIEME CIEL\n"
     ]
    },
    {
     "name": "stderr",
     "output_type": "stream",
     "text": [
      " 12%|█▏        | 67/575 [06:38<49:13,  5.81s/it]"
     ]
    },
    {
     "name": "stdout",
     "output_type": "stream",
     "text": [
      "Grand Tresor Abanita ABANITA\n",
      "Grand Tresor Abanita GRAND TRESOR\n"
     ]
    },
    {
     "name": "stderr",
     "output_type": "stream",
     "text": [
      " 12%|█▏        | 68/575 [06:44<49:38,  5.87s/it]"
     ]
    },
    {
     "name": "stdout",
     "output_type": "stream",
     "text": [
      "Volochine Noble Maison NOBLE MAISON\n",
      "Volochine Noble Maison VOLOCHINE\n"
     ]
    },
    {
     "name": "stderr",
     "output_type": "stream",
     "text": [
      " 12%|█▏        | 69/575 [06:50<50:07,  5.94s/it]"
     ]
    },
    {
     "name": "stdout",
     "output_type": "stream",
     "text": [
      "Ungaro Trouble Ahead TROUBLE AHEAD\n",
      "Ungaro Trouble Ahead UNGARO\n"
     ]
    },
    {
     "name": "stderr",
     "output_type": "stream",
     "text": [
      " 12%|█▏        | 70/575 [06:56<49:54,  5.93s/it]"
     ]
    },
    {
     "name": "stdout",
     "output_type": "stream",
     "text": [
      "Danehill Dancer Griqualand GRIQUALAND\n",
      "Danehill Dancer Griqualand DANEHILL DANCER\n"
     ]
    },
    {
     "name": "stderr",
     "output_type": "stream",
     "text": [
      " 12%|█▏        | 71/575 [07:02<49:42,  5.92s/it]"
     ]
    },
    {
     "name": "stdout",
     "output_type": "stream",
     "text": [
      "Beaudelaire Je Vous En Prie JE VOUS EN PRIE\n",
      "Beaudelaire Je Vous En Prie BEAUDELAIRE\n"
     ]
    },
    {
     "name": "stderr",
     "output_type": "stream",
     "text": [
      " 13%|█▎        | 72/575 [07:08<50:32,  6.03s/it]"
     ]
    },
    {
     "name": "stdout",
     "output_type": "stream",
     "text": [
      "Sheyrann Dalina D'Airy DALINA D'AIRY\n",
      "Sheyrann Dalina D'Airy SHEYRANN\n"
     ]
    },
    {
     "name": "stderr",
     "output_type": "stream",
     "text": [
      " 13%|█▎        | 73/575 [07:14<49:51,  5.96s/it]"
     ]
    },
    {
     "name": "stdout",
     "output_type": "stream",
     "text": [
      "Flying Spur Rue Pigalle FLYING SPUR\n"
     ]
    },
    {
     "name": "stderr",
     "output_type": "stream",
     "text": [
      " 13%|█▎        | 74/575 [07:20<49:28,  5.93s/it]"
     ]
    },
    {
     "name": "stdout",
     "output_type": "stream",
     "text": [
      "Kaiser Soz頭 Epine D'Amour EPINE D'AMOUR\n"
     ]
    },
    {
     "name": "stderr",
     "output_type": "stream",
     "text": [
      " 13%|█▎        | 75/575 [07:26<49:23,  5.93s/it]"
     ]
    },
    {
     "name": "stdout",
     "output_type": "stream",
     "text": [
      "Cadeaux Genereux Lonely Heart LONELY HEART\n",
      "Cadeaux Genereux Lonely Heart CADEAUX GENEREUX\n"
     ]
    },
    {
     "name": "stderr",
     "output_type": "stream",
     "text": [
      " 13%|█▎        | 76/575 [07:31<48:46,  5.87s/it]"
     ]
    },
    {
     "name": "stdout",
     "output_type": "stream",
     "text": [
      "Sin Kiang Alhena ALHENA\n",
      "Sin Kiang Alhena SIN KIANG\n"
     ]
    },
    {
     "name": "stderr",
     "output_type": "stream",
     "text": [
      " 13%|█▎        | 77/575 [07:37<48:25,  5.83s/it]"
     ]
    },
    {
     "name": "stdout",
     "output_type": "stream",
     "text": [
      "Medaaly Super Rose SUPER ROSE\n",
      "Medaaly Super Rose MEDAALY\n"
     ]
    },
    {
     "name": "stderr",
     "output_type": "stream",
     "text": [
      " 14%|█▎        | 78/575 [07:43<48:33,  5.86s/it]"
     ]
    },
    {
     "name": "stdout",
     "output_type": "stream",
     "text": [
      "Sikeston King Nova KING NOVA\n",
      "Sikeston King Nova SIKESTON\n"
     ]
    },
    {
     "name": "stderr",
     "output_type": "stream",
     "text": [
      " 14%|█▎        | 79/575 [07:49<48:09,  5.82s/it]"
     ]
    },
    {
     "name": "stdout",
     "output_type": "stream",
     "text": [
      "Gallery Of Zurich Couture Platine COUTURE PLATINE\n",
      "Gallery Of Zurich Couture Platine GALLERY OF ZURICH\n"
     ]
    },
    {
     "name": "stderr",
     "output_type": "stream",
     "text": [
      " 14%|█▍        | 80/575 [07:55<48:13,  5.85s/it]"
     ]
    },
    {
     "name": "stdout",
     "output_type": "stream",
     "text": [
      "Cape Cross Somfas SOMFAS\n",
      "Cape Cross Somfas CAPE CROSS\n"
     ]
    },
    {
     "name": "stderr",
     "output_type": "stream",
     "text": [
      " 14%|█▍        | 81/575 [08:00<48:09,  5.85s/it]"
     ]
    },
    {
     "name": "stdout",
     "output_type": "stream",
     "text": [
      "Anabaa Mille Miglia MILLE MIGLIA\n",
      "Anabaa Mille Miglia ANABAA\n"
     ]
    },
    {
     "name": "stderr",
     "output_type": "stream",
     "text": [
      " 14%|█▍        | 82/575 [08:06<47:37,  5.80s/it]"
     ]
    },
    {
     "name": "stdout",
     "output_type": "stream",
     "text": [
      "Septieme Ciel Pollyana POLLYANA\n",
      "Septieme Ciel Pollyana SEPTIEME CIEL\n"
     ]
    },
    {
     "name": "stderr",
     "output_type": "stream",
     "text": [
      " 14%|█▍        | 83/575 [08:12<47:44,  5.82s/it]"
     ]
    },
    {
     "name": "stdout",
     "output_type": "stream",
     "text": [
      "Danehill Epicure's Garden DANEHILL\n"
     ]
    },
    {
     "name": "stderr",
     "output_type": "stream",
     "text": [
      " 15%|█▍        | 84/575 [08:18<47:55,  5.86s/it]"
     ]
    },
    {
     "name": "stdout",
     "output_type": "stream",
     "text": [
      "Oblat Ugesca D'Airy UGESCA D'AIRY\n",
      "Oblat Ugesca D'Airy OBLAT\n"
     ]
    },
    {
     "name": "stderr",
     "output_type": "stream",
     "text": [
      " 15%|█▍        | 85/575 [08:24<47:39,  5.84s/it]"
     ]
    },
    {
     "name": "stdout",
     "output_type": "stream",
     "text": [
      "Yuushun Shining Candle SHINING CANDLE\n",
      "Yuushun Shining Candle YUUSHUN\n"
     ]
    },
    {
     "name": "stderr",
     "output_type": "stream",
     "text": [
      " 15%|█▍        | 86/575 [08:29<47:03,  5.77s/it]"
     ]
    },
    {
     "name": "stdout",
     "output_type": "stream",
     "text": [
      "Apple Tree Pom POM\n",
      "Apple Tree Pom APPLE TREE\n"
     ]
    },
    {
     "name": "stderr",
     "output_type": "stream",
     "text": [
      " 15%|█▌        | 87/575 [08:35<46:56,  5.77s/it]"
     ]
    },
    {
     "name": "stdout",
     "output_type": "stream",
     "text": [
      "Marchand De Sable Polly's Wika POLLY'S WIKA\n",
      "Marchand De Sable Polly's Wika MARCHAND DE SABLE\n"
     ]
    },
    {
     "name": "stderr",
     "output_type": "stream",
     "text": [
      " 15%|█▌        | 88/575 [08:41<46:53,  5.78s/it]"
     ]
    },
    {
     "name": "stdout",
     "output_type": "stream",
     "text": [
      "Almutawakel Terracotta Hut TERRACOTTA HUT\n",
      "Almutawakel Terracotta Hut ALMUTAWAKEL\n"
     ]
    },
    {
     "name": "stderr",
     "output_type": "stream",
     "text": [
      " 15%|█▌        | 89/575 [08:47<46:49,  5.78s/it]"
     ]
    },
    {
     "name": "stdout",
     "output_type": "stream",
     "text": [
      "Septieme Ciel Silent Circle SILENT CIRCLE\n",
      "Septieme Ciel Silent Circle SEPTIEME CIEL\n"
     ]
    },
    {
     "name": "stderr",
     "output_type": "stream",
     "text": [
      " 16%|█▌        | 90/575 [08:52<46:31,  5.75s/it]"
     ]
    },
    {
     "name": "stdout",
     "output_type": "stream",
     "text": [
      "Anshan/Glory-Glory ANSHAN\n"
     ]
    },
    {
     "name": "stderr",
     "output_type": "stream",
     "text": [
      " 16%|█▌        | 91/575 [08:58<47:02,  5.83s/it]"
     ]
    },
    {
     "name": "stdout",
     "output_type": "stream",
     "text": [
      "Great Palm Tarente TARENTE\n",
      "Great Palm Tarente GREAT PALM\n"
     ]
    },
    {
     "name": "stderr",
     "output_type": "stream",
     "text": [
      " 16%|█▌        | 92/575 [09:04<47:14,  5.87s/it]"
     ]
    },
    {
     "name": "stdout",
     "output_type": "stream",
     "text": [
      "Cape Cross Keswa KESWA\n",
      "Cape Cross Keswa CAPE CROSS\n"
     ]
    },
    {
     "name": "stderr",
     "output_type": "stream",
     "text": [
      " 16%|█▌        | 93/575 [09:10<46:58,  5.85s/it]"
     ]
    },
    {
     "name": "stdout",
     "output_type": "stream",
     "text": [
      "Cadeaux Genereux Star Tulip STAR TULIP\n",
      "Cadeaux Genereux Star Tulip CADEAUX GENEREUX\n"
     ]
    },
    {
     "name": "stderr",
     "output_type": "stream",
     "text": [
      " 16%|█▋        | 94/575 [09:16<46:41,  5.82s/it]"
     ]
    },
    {
     "name": "stdout",
     "output_type": "stream",
     "text": [
      "Anabaa Spectacular Joke SPECTACULAR JOKE\n",
      "Anabaa Spectacular Joke ANABAA\n"
     ]
    },
    {
     "name": "stderr",
     "output_type": "stream",
     "text": [
      " 17%|█▋        | 95/575 [09:22<46:43,  5.84s/it]"
     ]
    },
    {
     "name": "stdout",
     "output_type": "stream",
     "text": [
      "Lost World Kinotcha KINOTCHA\n",
      "Lost World Kinotcha LOST WORLD\n"
     ]
    },
    {
     "name": "stderr",
     "output_type": "stream",
     "text": [
      " 17%|█▋        | 96/575 [09:28<46:39,  5.84s/it]"
     ]
    },
    {
     "name": "stdout",
     "output_type": "stream",
     "text": [
      "Thunder Gulch Beautiful Pleasure BEAUTIFUL PLEASURE\n",
      "Thunder Gulch Beautiful Pleasure THUNDER GULCH\n"
     ]
    },
    {
     "name": "stderr",
     "output_type": "stream",
     "text": [
      " 17%|█▋        | 97/575 [09:33<46:08,  5.79s/it]"
     ]
    },
    {
     "name": "stdout",
     "output_type": "stream",
     "text": [
      "Monsun So Sedulous SO SEDULOUS\n",
      "Monsun So Sedulous MONSUN\n"
     ]
    },
    {
     "name": "stderr",
     "output_type": "stream",
     "text": [
      " 17%|█▋        | 98/575 [09:39<45:55,  5.78s/it]"
     ]
    },
    {
     "name": "stdout",
     "output_type": "stream",
     "text": [
      "Singspiel Fiddle Dee Dee DEE\n",
      "Singspiel Fiddle Dee Dee SINGSPIEL\n"
     ]
    },
    {
     "name": "stderr",
     "output_type": "stream",
     "text": [
      " 17%|█▋        | 99/575 [09:45<45:51,  5.78s/it]"
     ]
    },
    {
     "name": "stdout",
     "output_type": "stream",
     "text": [
      "Enrique Pearly Gate PEARLY GATE\n",
      "Enrique Pearly Gate ENRIQUE\n"
     ]
    },
    {
     "name": "stderr",
     "output_type": "stream",
     "text": [
      " 17%|█▋        | 100/575 [09:51<45:36,  5.76s/it]"
     ]
    },
    {
     "name": "stdout",
     "output_type": "stream",
     "text": [
      "Apple Tree Lady Burlington LADY BURLINGTON\n",
      "Apple Tree Lady Burlington APPLE TREE\n"
     ]
    },
    {
     "name": "stderr",
     "output_type": "stream",
     "text": [
      " 18%|█▊        | 101/575 [09:56<45:42,  5.79s/it]"
     ]
    },
    {
     "name": "stdout",
     "output_type": "stream",
     "text": [
      "Generous Peach Bloom GENEROUS\n"
     ]
    },
    {
     "name": "stderr",
     "output_type": "stream",
     "text": [
      " 18%|█▊        | 102/575 [10:02<45:52,  5.82s/it]"
     ]
    },
    {
     "name": "stdout",
     "output_type": "stream",
     "text": [
      "Dabistan Soy Cupid SOY CUPID\n",
      "Dabistan Soy Cupid DABISTAN\n"
     ]
    },
    {
     "name": "stderr",
     "output_type": "stream",
     "text": [
      " 18%|█▊        | 103/575 [10:09<47:14,  6.01s/it]"
     ]
    },
    {
     "name": "stdout",
     "output_type": "stream",
     "text": [
      "Mendocino Auld Lang Syne AULD LANG SYNE\n",
      "Mendocino Auld Lang Syne MENDOCINO\n"
     ]
    },
    {
     "name": "stderr",
     "output_type": "stream",
     "text": [
      " 18%|█▊        | 104/575 [10:15<48:47,  6.22s/it]"
     ]
    },
    {
     "name": "stdout",
     "output_type": "stream",
     "text": [
      "Polski Boy Kissnoia KISSNOIA\n",
      "Polski Boy Kissnoia POLSKI BOY\n"
     ]
    },
    {
     "name": "stderr",
     "output_type": "stream",
     "text": [
      " 18%|█▊        | 105/575 [10:22<50:35,  6.46s/it]"
     ]
    },
    {
     "name": "stdout",
     "output_type": "stream",
     "text": [
      "Charnwood Forest Nightdance NIGHTDANCE\n",
      "Charnwood Forest Nightdance CHARNWOOD FOREST\n"
     ]
    },
    {
     "name": "stderr",
     "output_type": "stream",
     "text": [
      " 18%|█▊        | 106/575 [10:29<50:55,  6.51s/it]"
     ]
    },
    {
     "name": "stdout",
     "output_type": "stream",
     "text": [
      "Lear Fan Sylph SYLPH\n"
     ]
    },
    {
     "name": "stderr",
     "output_type": "stream",
     "text": [
      " 19%|█▊        | 107/575 [10:36<51:13,  6.57s/it]"
     ]
    },
    {
     "name": "stdout",
     "output_type": "stream",
     "text": [
      "Toulon (GB) - Tor-Na-Grena (GB) TOULON\n"
     ]
    },
    {
     "name": "stderr",
     "output_type": "stream",
     "text": [
      " 19%|█▉        | 108/575 [10:42<49:34,  6.37s/it]"
     ]
    },
    {
     "name": "stdout",
     "output_type": "stream",
     "text": [
      "Gold Away Fatale FATALE\n",
      "Gold Away Fatale GOLD AWAY\n"
     ]
    },
    {
     "name": "stderr",
     "output_type": "stream",
     "text": [
      " 19%|█▉        | 109/575 [10:48<49:37,  6.39s/it]"
     ]
    },
    {
     "name": "stdout",
     "output_type": "stream",
     "text": [
      "Orpen Welsh Dawn WELSH DAWN\n",
      "Orpen Welsh Dawn ORPEN\n"
     ]
    },
    {
     "name": "stderr",
     "output_type": "stream",
     "text": [
      " 19%|█▉        | 110/575 [10:55<51:13,  6.61s/it]"
     ]
    },
    {
     "name": "stdout",
     "output_type": "stream",
     "text": [
      "Funambule Princesse Mimi PRINCESSE MIMI\n",
      "Funambule Princesse Mimi FUNAMBULE\n"
     ]
    },
    {
     "name": "stderr",
     "output_type": "stream",
     "text": [
      " 19%|█▉        | 111/575 [11:02<51:40,  6.68s/it]"
     ]
    },
    {
     "name": "stdout",
     "output_type": "stream",
     "text": [
      "Dance In The Dark Sugar Cookie DANCE IN THE DARK\n"
     ]
    },
    {
     "name": "stderr",
     "output_type": "stream",
     "text": [
      " 19%|█▉        | 112/575 [11:09<51:58,  6.74s/it]"
     ]
    },
    {
     "name": "stdout",
     "output_type": "stream",
     "text": [
      "Panoramic Diese D'Estruval DIESE D'ESTRUVAL\n",
      "Panoramic Diese D'Estruval PANORAMIC\n"
     ]
    },
    {
     "name": "stderr",
     "output_type": "stream",
     "text": [
      " 20%|█▉        | 113/575 [11:15<50:52,  6.61s/it]"
     ]
    },
    {
     "name": "stdout",
     "output_type": "stream",
     "text": [
      "Green Desert Cromac CROMAC\n",
      "Green Desert Cromac GREEN DESERT\n"
     ]
    },
    {
     "name": "stderr",
     "output_type": "stream",
     "text": [
      " 20%|█▉        | 114/575 [11:21<49:12,  6.41s/it]"
     ]
    },
    {
     "name": "stdout",
     "output_type": "stream",
     "text": [
      "Zafonic Peace Talk PEACE TALK\n",
      "Zafonic Peace Talk ZAFONIC\n"
     ]
    },
    {
     "name": "stderr",
     "output_type": "stream",
     "text": [
      " 20%|██        | 115/575 [11:27<48:44,  6.36s/it]"
     ]
    },
    {
     "name": "stdout",
     "output_type": "stream",
     "text": [
      "Distorted Humor Cindazanno DISTORTED HUMOR\n"
     ]
    },
    {
     "name": "stderr",
     "output_type": "stream",
     "text": [
      " 20%|██        | 116/575 [11:34<48:35,  6.35s/it]"
     ]
    },
    {
     "name": "stdout",
     "output_type": "stream",
     "text": [
      "Baryshnikov Lady Vivienne LADY VIVIENNE\n",
      "Baryshnikov Lady Vivienne BARYSHNIKOV\n"
     ]
    },
    {
     "name": "stderr",
     "output_type": "stream",
     "text": [
      " 20%|██        | 117/575 [11:40<48:54,  6.41s/it]"
     ]
    },
    {
     "name": "stdout",
     "output_type": "stream",
     "text": [
      "Vettori Villa Maria Pia VILLA MARIA PIA\n",
      "Vettori Villa Maria Pia VETTORI\n"
     ]
    },
    {
     "name": "stderr",
     "output_type": "stream",
     "text": [
      " 21%|██        | 118/575 [11:48<50:29,  6.63s/it]"
     ]
    },
    {
     "name": "stdout",
     "output_type": "stream",
     "text": [
      "Saint Ballado Goulash GOULASH\n",
      "Saint Ballado Goulash SAINT BALLADO\n"
     ]
    },
    {
     "name": "stderr",
     "output_type": "stream",
     "text": [
      " 21%|██        | 119/575 [11:54<50:17,  6.62s/it]"
     ]
    },
    {
     "name": "stdout",
     "output_type": "stream",
     "text": [
      "Freedom Cry Royalla ROYALLA\n",
      "Freedom Cry Royalla FREEDOM CRY\n"
     ]
    },
    {
     "name": "stderr",
     "output_type": "stream",
     "text": [
      " 21%|██        | 120/575 [12:01<50:25,  6.65s/it]"
     ]
    },
    {
     "name": "stdout",
     "output_type": "stream",
     "text": [
      "Cape Cross Upend UPEND\n",
      "Cape Cross Upend CAPE CROSS\n"
     ]
    },
    {
     "name": "stderr",
     "output_type": "stream",
     "text": [
      " 21%|██        | 121/575 [12:07<49:00,  6.48s/it]"
     ]
    },
    {
     "name": "stdout",
     "output_type": "stream",
     "text": [
      "Saint Preuil Daliana DALIANA\n",
      "Saint Preuil Daliana SAINT PREUIL\n"
     ]
    },
    {
     "name": "stderr",
     "output_type": "stream",
     "text": [
      " 21%|██        | 122/575 [12:14<51:20,  6.80s/it]"
     ]
    },
    {
     "name": "stdout",
     "output_type": "stream",
     "text": [
      "Will's Way Tippecanoe Creek WILL'S WAY\n"
     ]
    },
    {
     "name": "stderr",
     "output_type": "stream",
     "text": [
      " 21%|██▏       | 123/575 [12:21<51:45,  6.87s/it]"
     ]
    },
    {
     "name": "stdout",
     "output_type": "stream",
     "text": [
      "In The Wings (UK) / Petite-D-Argent (UK) IN THE WINGS\n"
     ]
    },
    {
     "name": "stderr",
     "output_type": "stream",
     "text": [
      " 22%|██▏       | 124/575 [12:28<51:52,  6.90s/it]"
     ]
    },
    {
     "name": "stdout",
     "output_type": "stream",
     "text": [
      "Noir Et Or Calamity CALAMITY\n"
     ]
    },
    {
     "name": "stderr",
     "output_type": "stream",
     "text": [
      " 22%|██▏       | 125/575 [12:35<49:53,  6.65s/it]"
     ]
    },
    {
     "name": "stdout",
     "output_type": "stream",
     "text": [
      "Admire Vega Greetings ADMIRE VEGA\n"
     ]
    },
    {
     "name": "stderr",
     "output_type": "stream",
     "text": [
      " 22%|██▏       | 126/575 [12:41<48:57,  6.54s/it]"
     ]
    },
    {
     "name": "stdout",
     "output_type": "stream",
     "text": [
      "Desert Prince Truly Bewitched TRULY BEWITCHED\n",
      "Desert Prince Truly Bewitched DESERT PRINCE\n"
     ]
    },
    {
     "name": "stderr",
     "output_type": "stream",
     "text": [
      " 22%|██▏       | 127/575 [12:47<47:18,  6.34s/it]"
     ]
    },
    {
     "name": "stdout",
     "output_type": "stream",
     "text": [
      "Kris S Set In Motion SET IN MOTION\n",
      "Kris S Set In Motion KRIS S.\n"
     ]
    },
    {
     "name": "stderr",
     "output_type": "stream",
     "text": [
      " 22%|██▏       | 128/575 [12:53<46:16,  6.21s/it]"
     ]
    },
    {
     "name": "stdout",
     "output_type": "stream",
     "text": [
      "Dr Devious Hymenee HYMENEE\n",
      "Dr Devious Hymenee DR DEVIOUS\n"
     ]
    },
    {
     "name": "stderr",
     "output_type": "stream",
     "text": [
      " 23%|██▎       | 130/575 [13:04<44:35,  6.01s/it]"
     ]
    },
    {
     "name": "stdout",
     "output_type": "stream",
     "text": [
      "Nashwan Gentle Dame NASHWAN\n"
     ]
    },
    {
     "name": "stderr",
     "output_type": "stream",
     "text": [
      " 23%|██▎       | 131/575 [13:10<44:07,  5.96s/it]"
     ]
    },
    {
     "name": "stdout",
     "output_type": "stream",
     "text": [
      "Le Triton Maria Lesa MARIA LESA\n",
      "Le Triton Maria Lesa LE TRITON\n"
     ]
    },
    {
     "name": "stderr",
     "output_type": "stream",
     "text": [
      " 23%|██▎       | 132/575 [13:16<43:45,  5.93s/it]"
     ]
    },
    {
     "name": "stdout",
     "output_type": "stream",
     "text": [
      "Dynaformer Lovely Martha DYNAFORMER\n"
     ]
    },
    {
     "name": "stderr",
     "output_type": "stream",
     "text": [
      " 23%|██▎       | 133/575 [13:22<43:21,  5.89s/it]"
     ]
    },
    {
     "name": "stdout",
     "output_type": "stream",
     "text": [
      "Theatrical Ruby Ransom THEATRICAL\n"
     ]
    },
    {
     "name": "stderr",
     "output_type": "stream",
     "text": [
      " 23%|██▎       | 134/575 [13:28<43:09,  5.87s/it]"
     ]
    },
    {
     "name": "stdout",
     "output_type": "stream",
     "text": [
      "A P Indy Brandy Rose A.P INDY\n"
     ]
    },
    {
     "name": "stderr",
     "output_type": "stream",
     "text": [
      " 23%|██▎       | 135/575 [13:33<42:56,  5.86s/it]"
     ]
    },
    {
     "name": "stdout",
     "output_type": "stream",
     "text": [
      "Dictator's Song Fresh Cream FRESH CREAM\n",
      "Dictator's Song Fresh Cream DICTATOR'S SONG\n"
     ]
    },
    {
     "name": "stderr",
     "output_type": "stream",
     "text": [
      " 24%|██▎       | 136/575 [13:39<42:44,  5.84s/it]"
     ]
    },
    {
     "name": "stdout",
     "output_type": "stream",
     "text": [
      "Dounba Tirade D'Estruval TIRADE D'ESTRUVAL\n",
      "Dounba Tirade D'Estruval DOUNBA\n"
     ]
    },
    {
     "name": "stderr",
     "output_type": "stream",
     "text": [
      " 24%|██▍       | 137/575 [13:45<42:31,  5.82s/it]"
     ]
    },
    {
     "name": "stdout",
     "output_type": "stream",
     "text": [
      "Spectrum L'Annee Folle L'ANNEE FOLLE\n",
      "Spectrum L'Annee Folle SPECTRUM\n"
     ]
    },
    {
     "name": "stderr",
     "output_type": "stream",
     "text": [
      " 24%|██▍       | 138/575 [13:51<42:24,  5.82s/it]"
     ]
    },
    {
     "name": "stdout",
     "output_type": "stream",
     "text": [
      "Dr Devious Ribot's Guest DR DEVIOUS\n"
     ]
    },
    {
     "name": "stderr",
     "output_type": "stream",
     "text": [
      " 24%|██▍       | 139/575 [13:57<42:23,  5.83s/it]"
     ]
    },
    {
     "name": "stdout",
     "output_type": "stream",
     "text": [
      "Xaar Spring Quest SPRING QUEST\n",
      "Xaar Spring Quest XAAR\n"
     ]
    },
    {
     "name": "stderr",
     "output_type": "stream",
     "text": [
      " 24%|██▍       | 140/575 [14:02<42:14,  5.83s/it]"
     ]
    },
    {
     "name": "stdout",
     "output_type": "stream",
     "text": [
      "Ragmar Fregate De Nourry FREGATE DE NOURRY\n",
      "Ragmar Fregate De Nourry RAGMAR\n"
     ]
    },
    {
     "name": "stderr",
     "output_type": "stream",
     "text": [
      " 25%|██▍       | 141/575 [14:08<42:20,  5.85s/it]"
     ]
    },
    {
     "name": "stdout",
     "output_type": "stream",
     "text": [
      "Efisio - Copy-Cat EFISIO\n"
     ]
    },
    {
     "name": "stderr",
     "output_type": "stream",
     "text": [
      " 25%|██▍       | 142/575 [14:14<42:06,  5.84s/it]"
     ]
    },
    {
     "name": "stdout",
     "output_type": "stream",
     "text": [
      "Video Rock Girl GIRL\n",
      "Video Rock Girl VIDEO ROCK\n"
     ]
    },
    {
     "name": "stderr",
     "output_type": "stream",
     "text": [
      " 25%|██▍       | 143/575 [14:20<41:58,  5.83s/it]"
     ]
    },
    {
     "name": "stdout",
     "output_type": "stream",
     "text": [
      "So Factual Ancient Secret ANCIENT SECRET\n",
      "So Factual Ancient Secret SO FACTUAL\n"
     ]
    },
    {
     "name": "stderr",
     "output_type": "stream",
     "text": [
      " 25%|██▌       | 144/575 [14:26<43:04,  6.00s/it]"
     ]
    },
    {
     "name": "stdout",
     "output_type": "stream",
     "text": [
      "Dream Well Moon Is Up MOON IS UP\n"
     ]
    },
    {
     "name": "stderr",
     "output_type": "stream",
     "text": [
      " 25%|██▌       | 145/575 [14:32<42:45,  5.97s/it]"
     ]
    },
    {
     "name": "stdout",
     "output_type": "stream",
     "text": [
      "Kingmambo Ring Of Music RING OF MUSIC\n"
     ]
    },
    {
     "name": "stderr",
     "output_type": "stream",
     "text": [
      " 26%|██▌       | 147/575 [14:44<41:38,  5.84s/it]"
     ]
    },
    {
     "name": "stdout",
     "output_type": "stream",
     "text": [
      "Luchiroverte Grace A Marie GRACE A MARIE\n",
      "Luchiroverte Grace A Marie LUCHIROVERTE\n"
     ]
    },
    {
     "name": "stderr",
     "output_type": "stream",
     "text": [
      " 26%|██▌       | 148/575 [14:50<41:23,  5.82s/it]"
     ]
    },
    {
     "name": "stdout",
     "output_type": "stream",
     "text": [
      "Century City//Mushroom Countess MUSHROOM COUNTESS\n",
      "Century City//Mushroom Countess CENTURY CITY\n"
     ]
    },
    {
     "name": "stderr",
     "output_type": "stream",
     "text": [
      " 26%|██▌       | 149/575 [14:55<41:13,  5.81s/it]"
     ]
    },
    {
     "name": "stdout",
     "output_type": "stream",
     "text": [
      "Linamix Reine De La Ciel REINE DE LA CIEL\n",
      "Linamix Reine De La Ciel LINAMIX\n"
     ]
    },
    {
     "name": "stderr",
     "output_type": "stream",
     "text": [
      " 26%|██▌       | 150/575 [15:01<41:20,  5.84s/it]"
     ]
    },
    {
     "name": "stdout",
     "output_type": "stream",
     "text": [
      "Grand Slam Dixieland Blues GRAND SLAM\n"
     ]
    },
    {
     "name": "stderr",
     "output_type": "stream",
     "text": [
      " 26%|██▋       | 151/575 [15:07<41:10,  5.83s/it]"
     ]
    },
    {
     "name": "stdout",
     "output_type": "stream",
     "text": [
      "Tot Ou Tard Barie TOT OU TARD\n"
     ]
    },
    {
     "name": "stderr",
     "output_type": "stream",
     "text": [
      " 26%|██▋       | 152/575 [15:13<40:57,  5.81s/it]"
     ]
    },
    {
     "name": "stdout",
     "output_type": "stream",
     "text": [
      "Indian Ridge Inchmurrin INDIAN RIDGE\n"
     ]
    },
    {
     "name": "stderr",
     "output_type": "stream",
     "text": [
      " 27%|██▋       | 153/575 [15:19<40:53,  5.81s/it]"
     ]
    },
    {
     "name": "stdout",
     "output_type": "stream",
     "text": [
      "Cricket Ball Maria Star STAR\n",
      "Cricket Ball Maria Star CRICKET BALL\n"
     ]
    },
    {
     "name": "stderr",
     "output_type": "stream",
     "text": [
      " 27%|██▋       | 154/575 [15:25<41:01,  5.85s/it]"
     ]
    },
    {
     "name": "stdout",
     "output_type": "stream",
     "text": [
      "Sin Kiang Solfast SOLFAST\n",
      "Sin Kiang Solfast SIN KIANG\n"
     ]
    },
    {
     "name": "stderr",
     "output_type": "stream",
     "text": [
      " 27%|██▋       | 155/575 [15:30<40:57,  5.85s/it]"
     ]
    },
    {
     "name": "stdout",
     "output_type": "stream",
     "text": [
      "Red Ransom Last Approach LAST APPROACH\n",
      "Red Ransom Last Approach RED RANSOM\n"
     ]
    },
    {
     "name": "stderr",
     "output_type": "stream",
     "text": [
      " 27%|██▋       | 156/575 [15:36<40:39,  5.82s/it]"
     ]
    },
    {
     "name": "stdout",
     "output_type": "stream",
     "text": [
      "Grand Lodge Goodwood Blizzard GOODWOOD BLIZZARD\n",
      "Grand Lodge Goodwood Blizzard GRAND LODGE\n"
     ]
    },
    {
     "name": "stderr",
     "output_type": "stream",
     "text": [
      " 27%|██▋       | 157/575 [15:42<40:18,  5.79s/it]"
     ]
    },
    {
     "name": "stdout",
     "output_type": "stream",
     "text": [
      "Bubble Gum Fellow Grace Rumor BUBBLE GUM FELLOW\n"
     ]
    },
    {
     "name": "stderr",
     "output_type": "stream",
     "text": [
      " 27%|██▋       | 158/575 [15:48<40:00,  5.76s/it]"
     ]
    },
    {
     "name": "stdout",
     "output_type": "stream",
     "text": [
      "Unfuwain Joyeuse Entree JOYEUSE ENTREE\n",
      "Unfuwain Joyeuse Entree UNFUWAIN\n"
     ]
    },
    {
     "name": "stderr",
     "output_type": "stream",
     "text": [
      " 28%|██▊       | 159/575 [15:53<40:06,  5.78s/it]"
     ]
    },
    {
     "name": "stdout",
     "output_type": "stream",
     "text": [
      "Red Ransom Moiava MOIAVA\n",
      "Red Ransom Moiava RED RANSOM\n"
     ]
    },
    {
     "name": "stderr",
     "output_type": "stream",
     "text": [
      " 28%|██▊       | 160/575 [15:59<40:06,  5.80s/it]"
     ]
    },
    {
     "name": "stdout",
     "output_type": "stream",
     "text": [
      "High Yield Zappeuse ZAPPEUSE\n",
      "High Yield Zappeuse HIGH YIELD\n"
     ]
    },
    {
     "name": "stderr",
     "output_type": "stream",
     "text": [
      " 28%|██▊       | 161/575 [16:05<40:02,  5.80s/it]"
     ]
    },
    {
     "name": "stdout",
     "output_type": "stream",
     "text": [
      "Imperial Ballet Echelle Musicale ECHELLE MUSICALE\n",
      "Imperial Ballet Echelle Musicale IMPERIAL BALLET\n"
     ]
    },
    {
     "name": "stderr",
     "output_type": "stream",
     "text": [
      " 28%|██▊       | 162/575 [16:11<39:37,  5.76s/it]"
     ]
    },
    {
     "name": "stdout",
     "output_type": "stream",
     "text": [
      "Trempolino Harbour Queen HARBOUR QUEEN\n",
      "Trempolino Harbour Queen TREMPOLINO\n"
     ]
    },
    {
     "name": "stderr",
     "output_type": "stream",
     "text": [
      " 28%|██▊       | 163/575 [16:17<39:49,  5.80s/it]"
     ]
    },
    {
     "name": "stdout",
     "output_type": "stream",
     "text": [
      "Timber Country Arduine ARDUINE\n",
      "Timber Country Arduine TIMBER COUNTRY\n"
     ]
    },
    {
     "name": "stderr",
     "output_type": "stream",
     "text": [
      " 29%|██▊       | 164/575 [16:23<40:03,  5.85s/it]"
     ]
    },
    {
     "name": "stdout",
     "output_type": "stream",
     "text": [
      "Golden Missile Incinerate GOLDEN MISSILE\n"
     ]
    },
    {
     "name": "stderr",
     "output_type": "stream",
     "text": [
      " 29%|██▊       | 165/575 [16:28<40:08,  5.87s/it]"
     ]
    },
    {
     "name": "stdout",
     "output_type": "stream",
     "text": [
      "Le Glorieux Asslana ASSLANA\n",
      "Le Glorieux Asslana LE GLORIEUX\n"
     ]
    },
    {
     "name": "stderr",
     "output_type": "stream",
     "text": [
      " 29%|██▉       | 166/575 [16:34<40:06,  5.88s/it]"
     ]
    },
    {
     "name": "stdout",
     "output_type": "stream",
     "text": [
      "Neverneyev La Stefania STEFANIA\n",
      "Neverneyev La Stefania NEVERNEYEV\n"
     ]
    },
    {
     "name": "stderr",
     "output_type": "stream",
     "text": [
      " 29%|██▉       | 167/575 [16:40<40:22,  5.94s/it]"
     ]
    },
    {
     "name": "stdout",
     "output_type": "stream",
     "text": [
      "Twining Midnight Oasis OASIS\n",
      "Twining Midnight Oasis TWINING\n"
     ]
    },
    {
     "name": "stderr",
     "output_type": "stream",
     "text": [
      " 29%|██▉       | 168/575 [16:46<40:08,  5.92s/it]"
     ]
    },
    {
     "name": "stdout",
     "output_type": "stream",
     "text": [
      "Polar Falcon Top Jem POLAR FALCON\n"
     ]
    },
    {
     "name": "stderr",
     "output_type": "stream",
     "text": [
      " 29%|██▉       | 169/575 [16:52<39:47,  5.88s/it]"
     ]
    },
    {
     "name": "stdout",
     "output_type": "stream",
     "text": [
      "Broadway Flyer Asa Paulini ASA PAULINI\n",
      "Broadway Flyer Asa Paulini BROADWAY FLYER\n"
     ]
    },
    {
     "name": "stderr",
     "output_type": "stream",
     "text": [
      " 30%|██▉       | 170/575 [16:58<39:38,  5.87s/it]"
     ]
    },
    {
     "name": "stdout",
     "output_type": "stream",
     "text": [
      "Saint Preuil Cindy Cad CINDY CAD\n",
      "Saint Preuil Cindy Cad SAINT PREUIL\n"
     ]
    },
    {
     "name": "stderr",
     "output_type": "stream",
     "text": [
      " 30%|██▉       | 171/575 [17:04<39:09,  5.82s/it]"
     ]
    },
    {
     "name": "stdout",
     "output_type": "stream",
     "text": [
      "Kingmambo Black Penny BLACK PENNY\n"
     ]
    },
    {
     "name": "stderr",
     "output_type": "stream",
     "text": [
      " 30%|██▉       | 172/575 [17:09<38:49,  5.78s/it]"
     ]
    },
    {
     "name": "stdout",
     "output_type": "stream",
     "text": [
      "Pistolet Bleu Luthinga LUTHINGA\n",
      "Pistolet Bleu Luthinga PISTOLET BLEU\n"
     ]
    },
    {
     "name": "stderr",
     "output_type": "stream",
     "text": [
      " 30%|███       | 173/575 [17:15<38:35,  5.76s/it]"
     ]
    },
    {
     "name": "stdout",
     "output_type": "stream",
     "text": [
      "Zieten Top Speed TOP SPEED\n",
      "Zieten Top Speed ZIETEN\n"
     ]
    },
    {
     "name": "stderr",
     "output_type": "stream",
     "text": [
      " 30%|███       | 174/575 [17:21<38:30,  5.76s/it]"
     ]
    },
    {
     "name": "stdout",
     "output_type": "stream",
     "text": [
      "Victory Note Dove's Nest DOVE'S NEST\n",
      "Victory Note Dove's Nest VICTORY NOTE\n"
     ]
    },
    {
     "name": "stderr",
     "output_type": "stream",
     "text": [
      " 30%|███       | 175/575 [17:27<38:25,  5.76s/it]"
     ]
    },
    {
     "name": "stdout",
     "output_type": "stream",
     "text": [
      "Anees Russian Flight ANEES\n"
     ]
    },
    {
     "name": "stderr",
     "output_type": "stream",
     "text": [
      " 31%|███       | 176/575 [17:32<38:31,  5.79s/it]"
     ]
    },
    {
     "name": "stdout",
     "output_type": "stream",
     "text": [
      "Gunboat Diplomacy Diane Du Forez GUNBOAT DIPLOMACY\n"
     ]
    },
    {
     "name": "stderr",
     "output_type": "stream",
     "text": [
      " 31%|███       | 177/575 [17:38<38:43,  5.84s/it]"
     ]
    },
    {
     "name": "stdout",
     "output_type": "stream",
     "text": [
      "Pistolet Bleu Kakira KAKIRA\n",
      "Pistolet Bleu Kakira PISTOLET BLEU\n"
     ]
    },
    {
     "name": "stderr",
     "output_type": "stream",
     "text": [
      " 31%|███       | 178/575 [17:44<38:37,  5.84s/it]"
     ]
    },
    {
     "name": "stdout",
     "output_type": "stream",
     "text": [
      "Kris Gracious Line GRACIOUS LINE\n",
      "Kris Gracious Line KRIS\n"
     ]
    },
    {
     "name": "stderr",
     "output_type": "stream",
     "text": [
      " 31%|███       | 179/575 [17:50<38:28,  5.83s/it]"
     ]
    },
    {
     "name": "stdout",
     "output_type": "stream",
     "text": [
      "Theatrical Corridora Slew THEATRICAL\n"
     ]
    },
    {
     "name": "stderr",
     "output_type": "stream",
     "text": [
      " 31%|███▏      | 180/575 [17:56<38:25,  5.84s/it]"
     ]
    },
    {
     "name": "stdout",
     "output_type": "stream",
     "text": [
      "Sunday Silence Biwa Heidi BIWA HEIDI\n",
      "Sunday Silence Biwa Heidi SUNDAY SILENCE\n"
     ]
    },
    {
     "name": "stderr",
     "output_type": "stream",
     "text": [
      " 32%|███▏      | 182/575 [18:08<38:22,  5.86s/it]"
     ]
    },
    {
     "name": "stdout",
     "output_type": "stream",
     "text": [
      "Wagon Master Classy Slewpy CLASSY SLEWPY\n",
      "Wagon Master Classy Slewpy WAGON MASTER\n"
     ]
    },
    {
     "name": "stderr",
     "output_type": "stream",
     "text": [
      " 32%|███▏      | 183/575 [18:13<38:03,  5.83s/it]"
     ]
    },
    {
     "name": "stdout",
     "output_type": "stream",
     "text": [
      "Smadoun Epidaure II EPIDAURE II\n",
      "Smadoun Epidaure II SMADOUN\n"
     ]
    },
    {
     "name": "stderr",
     "output_type": "stream",
     "text": [
      " 32%|███▏      | 184/575 [18:19<37:50,  5.81s/it]"
     ]
    },
    {
     "name": "stdout",
     "output_type": "stream",
     "text": [
      "Dynaformer The Bink DYNAFORMER\n"
     ]
    },
    {
     "name": "stderr",
     "output_type": "stream",
     "text": [
      " 32%|███▏      | 185/575 [18:25<37:47,  5.81s/it]"
     ]
    },
    {
     "name": "stdout",
     "output_type": "stream",
     "text": [
      "King's Theatre Zelda ZELDA\n",
      "King's Theatre Zelda KING'S THEATRE\n"
     ]
    },
    {
     "name": "stderr",
     "output_type": "stream",
     "text": [
      " 32%|███▏      | 186/575 [18:31<37:33,  5.79s/it]"
     ]
    },
    {
     "name": "stdout",
     "output_type": "stream",
     "text": [
      "Nikos Forest Hills FOREST HILLS\n",
      "Nikos Forest Hills NIKOS\n"
     ]
    },
    {
     "name": "stderr",
     "output_type": "stream",
     "text": [
      " 33%|███▎      | 187/575 [18:37<37:38,  5.82s/it]"
     ]
    },
    {
     "name": "stdout",
     "output_type": "stream",
     "text": [
      "Star Of Cozzene River Lass STAR OF COZZENE\n"
     ]
    },
    {
     "name": "stderr",
     "output_type": "stream",
     "text": [
      " 33%|███▎      | 188/575 [18:42<37:31,  5.82s/it]"
     ]
    },
    {
     "name": "stdout",
     "output_type": "stream",
     "text": [
      "Solid Illusion Dark Kay DARK KAY\n",
      "Solid Illusion Dark Kay SOLID ILLUSION\n"
     ]
    },
    {
     "name": "stderr",
     "output_type": "stream",
     "text": [
      " 33%|███▎      | 189/575 [18:48<37:23,  5.81s/it]"
     ]
    },
    {
     "name": "stdout",
     "output_type": "stream",
     "text": [
      "Sadler's Wells Magnificient Style MAGNIFICIENT STYLE\n",
      "Sadler's Wells Magnificient Style SADLER'S WELLS\n"
     ]
    },
    {
     "name": "stderr",
     "output_type": "stream",
     "text": [
      " 33%|███▎      | 190/575 [18:54<37:25,  5.83s/it]"
     ]
    },
    {
     "name": "stdout",
     "output_type": "stream",
     "text": [
      "Zinaad - Wassiliki - Wassiliki ZINAAD\n"
     ]
    },
    {
     "name": "stderr",
     "output_type": "stream",
     "text": [
      " 33%|███▎      | 191/575 [19:00<37:14,  5.82s/it]"
     ]
    },
    {
     "name": "stdout",
     "output_type": "stream",
     "text": [
      "Montjeu Out West OUT WEST\n",
      "Montjeu Out West MONTJEU\n"
     ]
    },
    {
     "name": "stderr",
     "output_type": "stream",
     "text": [
      " 33%|███▎      | 192/575 [19:06<37:08,  5.82s/it]"
     ]
    },
    {
     "name": "stdout",
     "output_type": "stream",
     "text": [
      "Sunday Silence Heed SUNDAY SILENCE\n"
     ]
    },
    {
     "name": "stderr",
     "output_type": "stream",
     "text": [
      " 34%|███▎      | 193/575 [19:12<36:59,  5.81s/it]"
     ]
    },
    {
     "name": "stdout",
     "output_type": "stream",
     "text": [
      "Soviet Star Flying Floozie SOVIET STAR\n"
     ]
    },
    {
     "name": "stderr",
     "output_type": "stream",
     "text": [
      " 34%|███▎      | 194/575 [19:17<37:05,  5.84s/it]"
     ]
    },
    {
     "name": "stdout",
     "output_type": "stream",
     "text": [
      "Mark of Esteem/L-way First FIRST\n",
      "Mark of Esteem/L-way First MARK OF ESTEEM\n"
     ]
    },
    {
     "name": "stderr",
     "output_type": "stream",
     "text": [
      " 34%|███▍      | 195/575 [19:23<37:11,  5.87s/it]"
     ]
    },
    {
     "name": "stdout",
     "output_type": "stream",
     "text": [
      "Trippi Fast Profit TRIPPI\n"
     ]
    },
    {
     "name": "stderr",
     "output_type": "stream",
     "text": [
      " 34%|███▍      | 196/575 [19:29<36:40,  5.81s/it]"
     ]
    },
    {
     "name": "stdout",
     "output_type": "stream",
     "text": [
      "Makbul Lady Roxanne LADY ROXANNE\n",
      "Makbul Lady Roxanne MAKBUL\n"
     ]
    },
    {
     "name": "stderr",
     "output_type": "stream",
     "text": [
      " 34%|███▍      | 197/575 [19:35<36:40,  5.82s/it]"
     ]
    },
    {
     "name": "stdout",
     "output_type": "stream",
     "text": [
      "Iris De La Brunie L'Embellie L'EMBELLIE\n",
      "Iris De La Brunie L'Embellie IRIS DE LA BRUNIE\n"
     ]
    },
    {
     "name": "stderr",
     "output_type": "stream",
     "text": [
      " 34%|███▍      | 198/575 [19:41<36:49,  5.86s/it]"
     ]
    },
    {
     "name": "stdout",
     "output_type": "stream",
     "text": [
      "Highest Honor Music Park MUSIC PARK\n",
      "Highest Honor Music Park HIGHEST HONOR\n"
     ]
    },
    {
     "name": "stderr",
     "output_type": "stream",
     "text": [
      " 35%|███▍      | 199/575 [19:47<36:33,  5.83s/it]"
     ]
    },
    {
     "name": "stdout",
     "output_type": "stream",
     "text": [
      "Green Desert Princesse Bilbao PRINCESSE BILBAO\n",
      "Green Desert Princesse Bilbao GREEN DESERT\n"
     ]
    },
    {
     "name": "stderr",
     "output_type": "stream",
     "text": [
      " 35%|███▍      | 200/575 [19:52<36:31,  5.84s/it]"
     ]
    },
    {
     "name": "stdout",
     "output_type": "stream",
     "text": [
      "Rubis De La No頭 Edea EDEA\n"
     ]
    },
    {
     "name": "stderr",
     "output_type": "stream",
     "text": [
      " 35%|███▍      | 201/575 [19:58<36:24,  5.84s/it]"
     ]
    },
    {
     "name": "stdout",
     "output_type": "stream",
     "text": [
      "Rochesson Sweet Jennifer SWEET JENNIFER\n",
      "Rochesson Sweet Jennifer ROCHESSON\n"
     ]
    },
    {
     "name": "stderr",
     "output_type": "stream",
     "text": [
      " 35%|███▌      | 202/575 [20:04<36:07,  5.81s/it]"
     ]
    },
    {
     "name": "stdout",
     "output_type": "stream",
     "text": [
      "Silvano - First Wings-First wings SILVANO\n"
     ]
    },
    {
     "name": "stderr",
     "output_type": "stream",
     "text": [
      " 35%|███▌      | 203/575 [20:10<35:47,  5.77s/it]"
     ]
    },
    {
     "name": "stdout",
     "output_type": "stream",
     "text": [
      "Esprit Du Nord Peau D'Or PEAU D'OR\n",
      "Esprit Du Nord Peau D'Or ESPRIT DU NORD\n"
     ]
    },
    {
     "name": "stderr",
     "output_type": "stream",
     "text": [
      " 35%|███▌      | 204/575 [20:16<35:44,  5.78s/it]"
     ]
    },
    {
     "name": "stdout",
     "output_type": "stream",
     "text": [
      "Septieme Ciel Mioura MIOURA\n",
      "Septieme Ciel Mioura SEPTIEME CIEL\n"
     ]
    },
    {
     "name": "stderr",
     "output_type": "stream",
     "text": [
      " 36%|███▌      | 205/575 [20:21<35:42,  5.79s/it]"
     ]
    },
    {
     "name": "stdout",
     "output_type": "stream",
     "text": [
      "Take Risks Verte Pampa VERTE PAMPA\n",
      "Take Risks Verte Pampa TAKE RISKS\n"
     ]
    },
    {
     "name": "stderr",
     "output_type": "stream",
     "text": [
      " 36%|███▌      | 206/575 [20:27<35:54,  5.84s/it]"
     ]
    },
    {
     "name": "stdout",
     "output_type": "stream",
     "text": [
      "Kadounor Kiss House KISS HOUSE\n",
      "Kadounor Kiss House KADOUNOR\n"
     ]
    },
    {
     "name": "stderr",
     "output_type": "stream",
     "text": [
      " 36%|███▌      | 207/575 [20:33<35:34,  5.80s/it]"
     ]
    },
    {
     "name": "stdout",
     "output_type": "stream",
     "text": [
      "Linamix Rose Quartz ROSE QUARTZ\n",
      "Linamix Rose Quartz LINAMIX\n"
     ]
    },
    {
     "name": "stderr",
     "output_type": "stream",
     "text": [
      " 36%|███▌      | 208/575 [20:39<35:25,  5.79s/it]"
     ]
    },
    {
     "name": "stdout",
     "output_type": "stream",
     "text": [
      "Fill My Hopes Pierre Stay PIERRE STAY\n",
      "Fill My Hopes Pierre Stay FILL MY HOPES\n"
     ]
    },
    {
     "name": "stderr",
     "output_type": "stream",
     "text": [
      " 36%|███▋      | 209/575 [20:45<35:15,  5.78s/it]"
     ]
    },
    {
     "name": "stdout",
     "output_type": "stream",
     "text": [
      "Darshaan Star Profile STAR PROFILE\n",
      "Darshaan Star Profile DARSHAAN\n"
     ]
    },
    {
     "name": "stderr",
     "output_type": "stream",
     "text": [
      " 37%|███▋      | 210/575 [20:50<35:31,  5.84s/it]"
     ]
    },
    {
     "name": "stdout",
     "output_type": "stream",
     "text": [
      "Sadler's Wells Hellenic HELLENIC\n",
      "Sadler's Wells Hellenic SADLER'S WELLS\n"
     ]
    },
    {
     "name": "stderr",
     "output_type": "stream",
     "text": [
      " 37%|███▋      | 211/575 [20:56<35:15,  5.81s/it]"
     ]
    },
    {
     "name": "stdout",
     "output_type": "stream",
     "text": [
      "Raintrap For Kicks FOR KICKS\n",
      "Raintrap For Kicks RAINTRAP\n"
     ]
    },
    {
     "name": "stderr",
     "output_type": "stream",
     "text": [
      " 37%|███▋      | 212/575 [21:02<35:13,  5.82s/it]"
     ]
    },
    {
     "name": "stdout",
     "output_type": "stream",
     "text": [
      "Evening World Pensee D'Amour EVENING WORLD\n"
     ]
    },
    {
     "name": "stderr",
     "output_type": "stream",
     "text": [
      " 37%|███▋      | 213/575 [21:08<34:59,  5.80s/it]"
     ]
    },
    {
     "name": "stdout",
     "output_type": "stream",
     "text": [
      "Silver Hawk Gazayil SILVER HAWK\n"
     ]
    },
    {
     "name": "stderr",
     "output_type": "stream",
     "text": [
      " 37%|███▋      | 214/575 [21:14<34:47,  5.78s/it]"
     ]
    },
    {
     "name": "stdout",
     "output_type": "stream",
     "text": [
      "Stravinsky Aldebaran Light STRAVINSKY\n"
     ]
    },
    {
     "name": "stderr",
     "output_type": "stream",
     "text": [
      " 37%|███▋      | 215/575 [21:19<34:50,  5.81s/it]"
     ]
    },
    {
     "name": "stdout",
     "output_type": "stream",
     "text": [
      "Green Tune Tkisam TKISAM\n",
      "Green Tune Tkisam GREEN TUNE\n"
     ]
    },
    {
     "name": "stderr",
     "output_type": "stream",
     "text": [
      " 38%|███▊      | 216/575 [21:25<34:45,  5.81s/it]"
     ]
    },
    {
     "name": "stdout",
     "output_type": "stream",
     "text": [
      "Peintre Celebre My Secret MY SECRET\n",
      "Peintre Celebre My Secret PEINTRE CELEBRE\n"
     ]
    },
    {
     "name": "stderr",
     "output_type": "stream",
     "text": [
      " 38%|███▊      | 217/575 [21:31<34:47,  5.83s/it]"
     ]
    },
    {
     "name": "stdout",
     "output_type": "stream",
     "text": [
      "Cyborg Miss Thann MISS THANN\n",
      "Cyborg Miss Thann CYBORG\n"
     ]
    },
    {
     "name": "stderr",
     "output_type": "stream",
     "text": [
      " 38%|███▊      | 218/575 [21:37<34:58,  5.88s/it]"
     ]
    },
    {
     "name": "stdout",
     "output_type": "stream",
     "text": [
      "Tiger Hill Evening Kiss EVENING KISS\n",
      "Tiger Hill Evening Kiss TIGER HILL\n"
     ]
    },
    {
     "name": "stderr",
     "output_type": "stream",
     "text": [
      " 38%|███▊      | 219/575 [21:43<34:44,  5.86s/it]"
     ]
    },
    {
     "name": "stdout",
     "output_type": "stream",
     "text": [
      "Aelan Hapi Romy De Baruthet ROMY DE BARUTHET\n",
      "Aelan Hapi Romy De Baruthet AELAN HAPI\n"
     ]
    },
    {
     "name": "stderr",
     "output_type": "stream",
     "text": [
      " 38%|███▊      | 220/575 [21:49<34:44,  5.87s/it]"
     ]
    },
    {
     "name": "stdout",
     "output_type": "stream",
     "text": [
      "Midyan Speakers Corner SPEAKERS CORNER\n",
      "Midyan Speakers Corner MIDYAN\n"
     ]
    },
    {
     "name": "stderr",
     "output_type": "stream",
     "text": [
      " 38%|███▊      | 221/575 [21:55<34:27,  5.84s/it]"
     ]
    },
    {
     "name": "stdout",
     "output_type": "stream",
     "text": [
      "Video Rock Miss Noir Et Or MISS NOIR ET OR\n",
      "Video Rock Miss Noir Et Or VIDEO ROCK\n"
     ]
    },
    {
     "name": "stderr",
     "output_type": "stream",
     "text": [
      " 39%|███▊      | 222/575 [22:00<34:19,  5.83s/it]"
     ]
    },
    {
     "name": "stdout",
     "output_type": "stream",
     "text": [
      "Cadeaux Genereux Prickwillow PRICKWILLOW\n",
      "Cadeaux Genereux Prickwillow CADEAUX GENEREUX\n"
     ]
    },
    {
     "name": "stderr",
     "output_type": "stream",
     "text": [
      " 39%|███▉      | 223/575 [22:06<33:59,  5.80s/it]"
     ]
    },
    {
     "name": "stdout",
     "output_type": "stream",
     "text": [
      "Singspiel Vale Of Truth VALE OF TRUTH\n",
      "Singspiel Vale Of Truth SINGSPIEL\n"
     ]
    },
    {
     "name": "stderr",
     "output_type": "stream",
     "text": [
      " 39%|███▉      | 224/575 [22:12<33:46,  5.77s/it]"
     ]
    },
    {
     "name": "stdout",
     "output_type": "stream",
     "text": [
      "Highest Honor Emblem EMBLEM\n",
      "Highest Honor Emblem HIGHEST HONOR\n"
     ]
    },
    {
     "name": "stderr",
     "output_type": "stream",
     "text": [
      " 39%|███▉      | 225/575 [22:18<34:44,  5.96s/it]"
     ]
    },
    {
     "name": "stdout",
     "output_type": "stream",
     "text": [
      "Loup Solitaire Glendale GLENDALE\n",
      "Loup Solitaire Glendale LOUP SOLITAIRE\n"
     ]
    },
    {
     "name": "stderr",
     "output_type": "stream",
     "text": [
      " 39%|███▉      | 226/575 [22:25<36:07,  6.21s/it]"
     ]
    },
    {
     "name": "stdout",
     "output_type": "stream",
     "text": [
      "Pivotal Persian Air PERSIAN AIR\n",
      "Pivotal Persian Air PIVOTAL\n"
     ]
    },
    {
     "name": "stderr",
     "output_type": "stream",
     "text": [
      " 39%|███▉      | 227/575 [22:31<35:59,  6.20s/it]"
     ]
    },
    {
     "name": "stdout",
     "output_type": "stream",
     "text": [
      "Poliglote Red Vintage RED VINTAGE\n",
      "Poliglote Red Vintage POLIGLOTE\n"
     ]
    },
    {
     "name": "stderr",
     "output_type": "stream",
     "text": [
      " 40%|███▉      | 228/575 [22:37<35:52,  6.20s/it]"
     ]
    },
    {
     "name": "stdout",
     "output_type": "stream",
     "text": [
      "Indian River Maracay MARACAY\n",
      "Indian River Maracay INDIAN RIVER\n"
     ]
    },
    {
     "name": "stderr",
     "output_type": "stream",
     "text": [
      " 40%|███▉      | 229/575 [22:44<35:37,  6.18s/it]"
     ]
    },
    {
     "name": "stdout",
     "output_type": "stream",
     "text": [
      "Catrail Kahuna Magic KAHUNA MAGIC\n",
      "Catrail Kahuna Magic CATRAIL\n"
     ]
    },
    {
     "name": "stderr",
     "output_type": "stream",
     "text": [
      " 40%|████      | 230/575 [22:50<35:35,  6.19s/it]"
     ]
    },
    {
     "name": "stdout",
     "output_type": "stream",
     "text": [
      "Anabaa Miss Mat MISS MAT\n",
      "Anabaa Miss Mat ANABAA\n"
     ]
    },
    {
     "name": "stderr",
     "output_type": "stream",
     "text": [
      " 40%|████      | 231/575 [22:56<35:14,  6.15s/it]"
     ]
    },
    {
     "name": "stdout",
     "output_type": "stream",
     "text": [
      "Northern Crystal Law Law LAW LAW\n",
      "Northern Crystal Law Law NORTHERN CRYSTAL\n"
     ]
    },
    {
     "name": "stderr",
     "output_type": "stream",
     "text": [
      " 40%|████      | 232/575 [23:02<34:37,  6.06s/it]"
     ]
    },
    {
     "name": "stdout",
     "output_type": "stream",
     "text": [
      "Cape Cross Palm Springs CAPE CROSS\n"
     ]
    },
    {
     "name": "stderr",
     "output_type": "stream",
     "text": [
      " 41%|████      | 233/575 [23:07<33:57,  5.96s/it]"
     ]
    },
    {
     "name": "stdout",
     "output_type": "stream",
     "text": [
      "Jag de Bellouet-Envoutante JAG DE BELLOUET*\n"
     ]
    },
    {
     "name": "stderr",
     "output_type": "stream",
     "text": [
      " 41%|████      | 234/575 [23:13<33:39,  5.92s/it]"
     ]
    },
    {
     "name": "stdout",
     "output_type": "stream",
     "text": [
      "Selkirk(USA) - Milly-M (GB) SELKIRK\n"
     ]
    },
    {
     "name": "stderr",
     "output_type": "stream",
     "text": [
      " 41%|████      | 235/575 [23:19<33:10,  5.86s/it]"
     ]
    },
    {
     "name": "stdout",
     "output_type": "stream",
     "text": [
      "Celtic Swing Ombre De Lune OMBRE DE LUNE\n",
      "Celtic Swing Ombre De Lune CELTIC SWING\n"
     ]
    },
    {
     "name": "stderr",
     "output_type": "stream",
     "text": [
      " 41%|████      | 236/575 [23:25<33:02,  5.85s/it]"
     ]
    },
    {
     "name": "stdout",
     "output_type": "stream",
     "text": [
      "Nombre Premier Feofee FEOFEE\n",
      "Nombre Premier Feofee NOMBRE PREMIER\n"
     ]
    },
    {
     "name": "stderr",
     "output_type": "stream",
     "text": [
      " 41%|████      | 237/575 [23:31<33:04,  5.87s/it]"
     ]
    },
    {
     "name": "stdout",
     "output_type": "stream",
     "text": [
      "Monsun/Bela-M MONSUN\n"
     ]
    },
    {
     "name": "stderr",
     "output_type": "stream",
     "text": [
      " 41%|████▏     | 238/575 [23:37<32:56,  5.86s/it]"
     ]
    },
    {
     "name": "stdout",
     "output_type": "stream",
     "text": [
      "Fuji Kiseki Vanilla Afleet AFLEET\n",
      "Fuji Kiseki Vanilla Afleet FUJI KISEKI\n"
     ]
    },
    {
     "name": "stderr",
     "output_type": "stream",
     "text": [
      " 42%|████▏     | 239/575 [23:42<32:54,  5.88s/it]"
     ]
    },
    {
     "name": "stdout",
     "output_type": "stream",
     "text": [
      "Good And Tough Genuine Concern GENUINE CONCERN\n",
      "Good And Tough Genuine Concern GOOD AND TOUGH\n"
     ]
    },
    {
     "name": "stderr",
     "output_type": "stream",
     "text": [
      " 42%|████▏     | 240/575 [23:48<32:35,  5.84s/it]"
     ]
    },
    {
     "name": "stdout",
     "output_type": "stream",
     "text": [
      "Singspiel Last Spin LAST SPIN\n",
      "Singspiel Last Spin SINGSPIEL\n"
     ]
    },
    {
     "name": "stderr",
     "output_type": "stream",
     "text": [
      " 42%|████▏     | 241/575 [23:54<32:09,  5.78s/it]"
     ]
    },
    {
     "name": "stdout",
     "output_type": "stream",
     "text": [
      "Burooj Renata Tebaldi BUROOJ\n"
     ]
    },
    {
     "name": "stderr",
     "output_type": "stream",
     "text": [
      " 42%|████▏     | 243/575 [24:05<31:52,  5.76s/it]"
     ]
    },
    {
     "name": "stdout",
     "output_type": "stream",
     "text": [
      "Blushing Flame Urtica V BLUSHING FLAME\n"
     ]
    },
    {
     "name": "stderr",
     "output_type": "stream",
     "text": [
      " 42%|████▏     | 244/575 [24:11<31:48,  5.77s/it]"
     ]
    },
    {
     "name": "stdout",
     "output_type": "stream",
     "text": [
      "Daylami Valley Quest VALLEY QUEST\n",
      "Daylami Valley Quest DAYLAMI\n"
     ]
    },
    {
     "name": "stderr",
     "output_type": "stream",
     "text": [
      " 43%|████▎     | 245/575 [24:17<31:39,  5.76s/it]"
     ]
    },
    {
     "name": "stdout",
     "output_type": "stream",
     "text": [
      "Kendor Wild Arum WILD ARUM\n",
      "Kendor Wild Arum KENDOR\n"
     ]
    },
    {
     "name": "stderr",
     "output_type": "stream",
     "text": [
      " 43%|████▎     | 246/575 [24:23<31:28,  5.74s/it]"
     ]
    },
    {
     "name": "stdout",
     "output_type": "stream",
     "text": [
      "Night Shift Godille GODILLE\n",
      "Night Shift Godille NIGHT SHIFT\n"
     ]
    },
    {
     "name": "stderr",
     "output_type": "stream",
     "text": [
      " 43%|████▎     | 247/575 [24:28<31:27,  5.76s/it]"
     ]
    },
    {
     "name": "stdout",
     "output_type": "stream",
     "text": [
      "Bahhare (usa) - Na-Ayim (IRE) BAHHARE\n"
     ]
    },
    {
     "name": "stderr",
     "output_type": "stream",
     "text": [
      " 43%|████▎     | 248/575 [24:34<31:18,  5.75s/it]"
     ]
    },
    {
     "name": "stdout",
     "output_type": "stream",
     "text": [
      "Panoramic Eau Les Mains EAU LES MAINS\n",
      "Panoramic Eau Les Mains PANORAMIC\n"
     ]
    },
    {
     "name": "stderr",
     "output_type": "stream",
     "text": [
      " 43%|████▎     | 249/575 [24:40<31:12,  5.75s/it]"
     ]
    },
    {
     "name": "stdout",
     "output_type": "stream",
     "text": [
      "Unfuwain Midway Lady UNFUWAIN\n"
     ]
    },
    {
     "name": "stderr",
     "output_type": "stream",
     "text": [
      " 44%|████▎     | 251/575 [24:51<31:12,  5.78s/it]"
     ]
    },
    {
     "name": "stdout",
     "output_type": "stream",
     "text": [
      "Seeking The Gold Our Country Place SEEKING THE GOLD\n"
     ]
    },
    {
     "name": "stderr",
     "output_type": "stream",
     "text": [
      " 44%|████▍     | 252/575 [24:57<31:18,  5.81s/it]"
     ]
    },
    {
     "name": "stdout",
     "output_type": "stream",
     "text": [
      "Turtle Island Millionetta TURTLE ISLAND\n"
     ]
    },
    {
     "name": "stderr",
     "output_type": "stream",
     "text": [
      " 44%|████▍     | 253/575 [25:03<31:10,  5.81s/it]"
     ]
    },
    {
     "name": "stdout",
     "output_type": "stream",
     "text": [
      "Lomitas Siberian's Image SIBERIAN'S IMAGE\n",
      "Lomitas Siberian's Image LOMITAS\n"
     ]
    },
    {
     "name": "stderr",
     "output_type": "stream",
     "text": [
      " 44%|████▍     | 254/575 [25:09<31:08,  5.82s/it]"
     ]
    },
    {
     "name": "stdout",
     "output_type": "stream",
     "text": [
      "Genereux Genie Blood And Thunder BLOOD AND THUNDER\n",
      "Genereux Genie Blood And Thunder GENEREUX GENIE\n"
     ]
    },
    {
     "name": "stderr",
     "output_type": "stream",
     "text": [
      " 44%|████▍     | 255/575 [25:15<30:59,  5.81s/it]"
     ]
    },
    {
     "name": "stdout",
     "output_type": "stream",
     "text": [
      "Coronado's Quest Love That Jazz CORONADO'S QUEST\n"
     ]
    },
    {
     "name": "stderr",
     "output_type": "stream",
     "text": [
      " 45%|████▍     | 256/575 [25:21<31:02,  5.84s/it]"
     ]
    },
    {
     "name": "stdout",
     "output_type": "stream",
     "text": [
      "Loup Solitaire Peggy Sue LOUP SOLITAIRE\n"
     ]
    },
    {
     "name": "stderr",
     "output_type": "stream",
     "text": [
      " 45%|████▍     | 257/575 [25:27<31:00,  5.85s/it]"
     ]
    },
    {
     "name": "stdout",
     "output_type": "stream",
     "text": [
      "Sri Pekan Drifa DRIFA\n",
      "Sri Pekan Drifa SRI PEKAN\n"
     ]
    },
    {
     "name": "stderr",
     "output_type": "stream",
     "text": [
      " 45%|████▍     | 258/575 [25:32<30:44,  5.82s/it]"
     ]
    },
    {
     "name": "stdout",
     "output_type": "stream",
     "text": [
      "On Guard Becebege BECEBEGE\n",
      "On Guard Becebege ON GUARD\n"
     ]
    },
    {
     "name": "stderr",
     "output_type": "stream",
     "text": [
      " 45%|████▌     | 259/575 [25:38<30:54,  5.87s/it]"
     ]
    },
    {
     "name": "stdout",
     "output_type": "stream",
     "text": [
      "Sadler's Wells Love For Ever LOVE FOR EVER\n",
      "Sadler's Wells Love For Ever SADLER'S WELLS\n"
     ]
    },
    {
     "name": "stderr",
     "output_type": "stream",
     "text": [
      " 45%|████▌     | 260/575 [25:44<30:34,  5.82s/it]"
     ]
    },
    {
     "name": "stdout",
     "output_type": "stream",
     "text": [
      "In Camera Nawarona IN CAMERA\n"
     ]
    },
    {
     "name": "stderr",
     "output_type": "stream",
     "text": [
      " 45%|████▌     | 261/575 [25:50<30:17,  5.79s/it]"
     ]
    },
    {
     "name": "stdout",
     "output_type": "stream",
     "text": [
      "Singspiel Red Carnival RED CARNIVAL\n",
      "Singspiel Red Carnival SINGSPIEL\n"
     ]
    },
    {
     "name": "stderr",
     "output_type": "stream",
     "text": [
      " 46%|████▌     | 262/575 [25:56<30:14,  5.80s/it]"
     ]
    },
    {
     "name": "stdout",
     "output_type": "stream",
     "text": [
      "Village Star Gerra VILLAGE STAR\n"
     ]
    },
    {
     "name": "stderr",
     "output_type": "stream",
     "text": [
      " 46%|████▌     | 263/575 [26:01<30:14,  5.82s/it]"
     ]
    },
    {
     "name": "stdout",
     "output_type": "stream",
     "text": [
      "Pivotal (GB) - Silca-Cisa (GB) PIVOTAL\n"
     ]
    },
    {
     "name": "stderr",
     "output_type": "stream",
     "text": [
      " 46%|████▌     | 264/575 [26:07<30:20,  5.85s/it]"
     ]
    },
    {
     "name": "stdout",
     "output_type": "stream",
     "text": [
      "Baroud D'Honneur Abalary ABALARY\n",
      "Baroud D'Honneur Abalary BAROUD D'HONNEUR\n"
     ]
    },
    {
     "name": "stderr",
     "output_type": "stream",
     "text": [
      " 46%|████▌     | 265/575 [26:13<30:12,  5.85s/it]"
     ]
    },
    {
     "name": "stdout",
     "output_type": "stream",
     "text": [
      "Green Tune La Popesse LA POPESSE\n",
      "Green Tune La Popesse GREEN TUNE\n"
     ]
    },
    {
     "name": "stderr",
     "output_type": "stream",
     "text": [
      " 46%|████▋     | 266/575 [26:19<30:21,  5.89s/it]"
     ]
    },
    {
     "name": "stdout",
     "output_type": "stream",
     "text": [
      "Miswaki Cherokee Damsel CHEROKEE DAMSEL\n",
      "Miswaki Cherokee Damsel MISWAKI\n"
     ]
    },
    {
     "name": "stderr",
     "output_type": "stream",
     "text": [
      " 46%|████▋     | 267/575 [26:25<30:20,  5.91s/it]"
     ]
    },
    {
     "name": "stdout",
     "output_type": "stream",
     "text": [
      "Johann Quatz Cutlass CUTLASS\n",
      "Johann Quatz Cutlass JOHANN QUATZ\n"
     ]
    },
    {
     "name": "stderr",
     "output_type": "stream",
     "text": [
      " 47%|████▋     | 268/575 [26:31<30:03,  5.88s/it]"
     ]
    },
    {
     "name": "stdout",
     "output_type": "stream",
     "text": [
      "Cadeaux Genereux Buckle BUCKLE\n",
      "Cadeaux Genereux Buckle CADEAUX GENEREUX\n"
     ]
    },
    {
     "name": "stderr",
     "output_type": "stream",
     "text": [
      " 47%|████▋     | 269/575 [26:37<29:51,  5.86s/it]"
     ]
    },
    {
     "name": "stdout",
     "output_type": "stream",
     "text": [
      "Kingmambo Very True VERY TRUE\n"
     ]
    },
    {
     "name": "stderr",
     "output_type": "stream",
     "text": [
      " 47%|████▋     | 270/575 [26:43<29:38,  5.83s/it]"
     ]
    },
    {
     "name": "stdout",
     "output_type": "stream",
     "text": [
      "Monsun Anna Of Kiev MONSUN\n"
     ]
    },
    {
     "name": "stderr",
     "output_type": "stream",
     "text": [
      " 47%|████▋     | 271/575 [26:48<29:25,  5.81s/it]"
     ]
    },
    {
     "name": "stdout",
     "output_type": "stream",
     "text": [
      "Nicolotte/Fernet-Branca NICOLOTTE\n"
     ]
    },
    {
     "name": "stderr",
     "output_type": "stream",
     "text": [
      " 47%|████▋     | 272/575 [26:54<29:11,  5.78s/it]"
     ]
    },
    {
     "name": "stdout",
     "output_type": "stream",
     "text": [
      "Hawkeye - ELA-DARLIN-MOU HAWKEYE\n"
     ]
    },
    {
     "name": "stderr",
     "output_type": "stream",
     "text": [
      " 47%|████▋     | 273/575 [27:00<29:06,  5.78s/it]"
     ]
    },
    {
     "name": "stdout",
     "output_type": "stream",
     "text": [
      "Gold Away Far Cry FAR CRY\n",
      "Gold Away Far Cry GOLD AWAY\n"
     ]
    },
    {
     "name": "stderr",
     "output_type": "stream",
     "text": [
      " 48%|████▊     | 274/575 [27:06<29:03,  5.79s/it]"
     ]
    },
    {
     "name": "stdout",
     "output_type": "stream",
     "text": [
      "Bakharoff Protective Custody PROTECTIVE CUSTODY\n",
      "Bakharoff Protective Custody BAKHAROFF\n"
     ]
    },
    {
     "name": "stderr",
     "output_type": "stream",
     "text": [
      " 48%|████▊     | 275/575 [27:12<29:35,  5.92s/it]"
     ]
    },
    {
     "name": "stdout",
     "output_type": "stream",
     "text": [
      "Fill My Hopes Vallee De Loire VALLEE DE LOIRE\n",
      "Fill My Hopes Vallee De Loire FILL MY HOPES\n"
     ]
    },
    {
     "name": "stderr",
     "output_type": "stream",
     "text": [
      " 48%|████▊     | 276/575 [27:18<29:15,  5.87s/it]"
     ]
    },
    {
     "name": "stdout",
     "output_type": "stream",
     "text": [
      "Dadarissime Deesse De Basile DEESSE DE BASILE\n",
      "Dadarissime Deesse De Basile DADARISSIME\n"
     ]
    },
    {
     "name": "stderr",
     "output_type": "stream",
     "text": [
      " 48%|████▊     | 277/575 [27:24<29:35,  5.96s/it]"
     ]
    },
    {
     "name": "stdout",
     "output_type": "stream",
     "text": [
      "Astair Black Charm BLACK CHARM\n",
      "Astair Black Charm ASTAIR\n"
     ]
    },
    {
     "name": "stderr",
     "output_type": "stream",
     "text": [
      " 48%|████▊     | 278/575 [27:30<29:19,  5.93s/it]"
     ]
    },
    {
     "name": "stdout",
     "output_type": "stream",
     "text": [
      "Turgeon La Mesange LA MESANGE\n",
      "Turgeon La Mesange TURGEON\n"
     ]
    },
    {
     "name": "stderr",
     "output_type": "stream",
     "text": [
      " 49%|████▊     | 279/575 [27:36<29:40,  6.02s/it]"
     ]
    },
    {
     "name": "stdout",
     "output_type": "stream",
     "text": [
      "Verglas No Passing Zone VERGLAS\n"
     ]
    },
    {
     "name": "stderr",
     "output_type": "stream",
     "text": [
      " 49%|████▊     | 280/575 [27:42<29:24,  5.98s/it]"
     ]
    },
    {
     "name": "stdout",
     "output_type": "stream",
     "text": [
      "Silvano - Song Of Hope-Song of hope SONG OF HOPE\n",
      "Silvano - Song Of Hope-Song of hope SILVANO\n"
     ]
    },
    {
     "name": "stderr",
     "output_type": "stream",
     "text": [
      " 49%|████▉     | 281/575 [27:48<29:04,  5.94s/it]"
     ]
    },
    {
     "name": "stdout",
     "output_type": "stream",
     "text": [
      "Tiger Hill Kittiwake KITTIWAKE\n",
      "Tiger Hill Kittiwake TIGER HILL\n"
     ]
    },
    {
     "name": "stderr",
     "output_type": "stream",
     "text": [
      " 49%|████▉     | 282/575 [27:54<29:11,  5.98s/it]"
     ]
    },
    {
     "name": "stdout",
     "output_type": "stream",
     "text": [
      "Discover D'Auteuil Legal Union LEGAL UNION\n",
      "Discover D'Auteuil Legal Union DISCOVER D'AUTEUIL\n"
     ]
    },
    {
     "name": "stderr",
     "output_type": "stream",
     "text": [
      " 49%|████▉     | 283/575 [28:00<29:04,  5.98s/it]"
     ]
    },
    {
     "name": "stdout",
     "output_type": "stream",
     "text": [
      "Darshaan Cape Grace CAPE GRACE\n",
      "Darshaan Cape Grace DARSHAAN\n"
     ]
    },
    {
     "name": "stderr",
     "output_type": "stream",
     "text": [
      " 50%|████▉     | 285/575 [28:11<28:14,  5.84s/it]"
     ]
    },
    {
     "name": "stdout",
     "output_type": "stream",
     "text": [
      "Dress Parade Fan Berry FAN BERRY\n",
      "Dress Parade Fan Berry DRESS PARADE\n"
     ]
    },
    {
     "name": "stderr",
     "output_type": "stream",
     "text": [
      " 50%|████▉     | 286/575 [28:17<28:14,  5.86s/it]"
     ]
    },
    {
     "name": "stdout",
     "output_type": "stream",
     "text": [
      "Cadoudal Ball Of Fire CADOUDAL\n"
     ]
    },
    {
     "name": "stderr",
     "output_type": "stream",
     "text": [
      " 50%|████▉     | 287/575 [28:23<28:25,  5.92s/it]"
     ]
    },
    {
     "name": "stdout",
     "output_type": "stream",
     "text": [
      "Blushing Flame Quickstep QUICKSTEP\n",
      "Blushing Flame Quickstep BLUSHING FLAME\n"
     ]
    },
    {
     "name": "stderr",
     "output_type": "stream",
     "text": [
      " 50%|█████     | 289/575 [28:35<28:13,  5.92s/it]"
     ]
    },
    {
     "name": "stdout",
     "output_type": "stream",
     "text": [
      "Saint Preuil Carmen De Chazot CARMEN DE CHAZOT\n",
      "Saint Preuil Carmen De Chazot SAINT PREUIL\n"
     ]
    },
    {
     "name": "stderr",
     "output_type": "stream",
     "text": [
      " 50%|█████     | 290/575 [28:41<28:33,  6.01s/it]"
     ]
    },
    {
     "name": "stdout",
     "output_type": "stream",
     "text": [
      "Fasliyev Society Queen FASLIYEV\n"
     ]
    },
    {
     "name": "stderr",
     "output_type": "stream",
     "text": [
      " 51%|█████     | 291/575 [28:47<28:30,  6.02s/it]"
     ]
    },
    {
     "name": "stdout",
     "output_type": "stream",
     "text": [
      "Kizitca Jolie Cheftaine JOLIE CHEFTAINE\n",
      "Kizitca Jolie Cheftaine KIZITCA\n"
     ]
    },
    {
     "name": "stderr",
     "output_type": "stream",
     "text": [
      " 51%|█████     | 292/575 [28:53<28:03,  5.95s/it]"
     ]
    },
    {
     "name": "stdout",
     "output_type": "stream",
     "text": [
      "Take Risks Banakill BANAKILL\n",
      "Take Risks Banakill TAKE RISKS\n"
     ]
    },
    {
     "name": "stderr",
     "output_type": "stream",
     "text": [
      " 51%|█████     | 293/575 [28:59<27:41,  5.89s/it]"
     ]
    },
    {
     "name": "stdout",
     "output_type": "stream",
     "text": [
      "Kendor Dame Edith DAME EDITH\n",
      "Kendor Dame Edith KENDOR\n"
     ]
    },
    {
     "name": "stderr",
     "output_type": "stream",
     "text": [
      " 51%|█████     | 294/575 [29:04<27:26,  5.86s/it]"
     ]
    },
    {
     "name": "stdout",
     "output_type": "stream",
     "text": [
      "Distant View Musicanti MUSICANTI\n",
      "Distant View Musicanti DISTANT VIEW\n"
     ]
    },
    {
     "name": "stderr",
     "output_type": "stream",
     "text": [
      " 51%|█████▏    | 295/575 [29:10<27:13,  5.83s/it]"
     ]
    },
    {
     "name": "stdout",
     "output_type": "stream",
     "text": [
      "Fabulous Don Dragora DRAGORA\n",
      "Fabulous Don Dragora FABULOUS DON\n"
     ]
    },
    {
     "name": "stderr",
     "output_type": "stream",
     "text": [
      " 51%|█████▏    | 296/575 [29:16<27:06,  5.83s/it]"
     ]
    },
    {
     "name": "stdout",
     "output_type": "stream",
     "text": [
      "Pivotal Welcome Home WELCOME HOME\n",
      "Pivotal Welcome Home PIVOTAL\n"
     ]
    },
    {
     "name": "stderr",
     "output_type": "stream",
     "text": [
      " 52%|█████▏    | 297/575 [29:22<26:59,  5.83s/it]"
     ]
    },
    {
     "name": "stdout",
     "output_type": "stream",
     "text": [
      "Zinaad - Wassiliki-Wassiliki ZINAAD\n"
     ]
    },
    {
     "name": "stderr",
     "output_type": "stream",
     "text": [
      " 52%|█████▏    | 298/575 [29:28<26:49,  5.81s/it]"
     ]
    },
    {
     "name": "stdout",
     "output_type": "stream",
     "text": [
      "Ashkalani Finir En Beaute FINIR EN BEAUTE\n",
      "Ashkalani Finir En Beaute ASHKALANI\n"
     ]
    },
    {
     "name": "stderr",
     "output_type": "stream",
     "text": [
      " 52%|█████▏    | 299/575 [29:33<26:40,  5.80s/it]"
     ]
    },
    {
     "name": "stdout",
     "output_type": "stream",
     "text": [
      "Giant's Causeway Vallee Des Reves GIANT\\'S CAUSEWAY\n"
     ]
    },
    {
     "name": "stderr",
     "output_type": "stream",
     "text": [
      " 52%|█████▏    | 301/575 [29:46<27:08,  5.94s/it]"
     ]
    },
    {
     "name": "stdout",
     "output_type": "stream",
     "text": [
      "Fly To The Stars Last Goddess LAST GODDESS\n",
      "Fly To The Stars Last Goddess FLY TO THE STARS\n"
     ]
    },
    {
     "name": "stderr",
     "output_type": "stream",
     "text": [
      " 53%|█████▎    | 302/575 [29:52<27:13,  5.98s/it]"
     ]
    },
    {
     "name": "stdout",
     "output_type": "stream",
     "text": [
      "Heritable Perle Noire Du Lac PERLE NOIRE DU LAC\n",
      "Heritable Perle Noire Du Lac HERITABLE\n"
     ]
    },
    {
     "name": "stderr",
     "output_type": "stream",
     "text": [
      " 53%|█████▎    | 303/575 [29:57<26:53,  5.93s/it]"
     ]
    },
    {
     "name": "stdout",
     "output_type": "stream",
     "text": [
      "Loup Solitaire Maousse MAOUSSE\n",
      "Loup Solitaire Maousse LOUP SOLITAIRE\n"
     ]
    },
    {
     "name": "stderr",
     "output_type": "stream",
     "text": [
      " 53%|█████▎    | 304/575 [30:03<26:33,  5.88s/it]"
     ]
    },
    {
     "name": "stdout",
     "output_type": "stream",
     "text": [
      "Sri Pekan Fresh Look FRESH LOOK\n",
      "Sri Pekan Fresh Look SRI PEKAN\n"
     ]
    },
    {
     "name": "stderr",
     "output_type": "stream",
     "text": [
      " 53%|█████▎    | 305/575 [30:09<26:18,  5.85s/it]"
     ]
    },
    {
     "name": "stdout",
     "output_type": "stream",
     "text": [
      "Crafty Prospector Persian Flute CRAFTY PROSPECTOR\n"
     ]
    },
    {
     "name": "stderr",
     "output_type": "stream",
     "text": [
      " 53%|█████▎    | 306/575 [30:15<26:23,  5.89s/it]"
     ]
    },
    {
     "name": "stdout",
     "output_type": "stream",
     "text": [
      "Giant's Causeway Freddie Frisson FREDDIE FRISSON\n",
      "Giant's Causeway Freddie Frisson GIANT\\'S CAUSEWAY\n"
     ]
    },
    {
     "name": "stderr",
     "output_type": "stream",
     "text": [
      " 53%|█████▎    | 307/575 [30:21<26:22,  5.91s/it]"
     ]
    },
    {
     "name": "stdout",
     "output_type": "stream",
     "text": [
      "Machiavellian Magna Graecia MAGNA GRAECIA\n",
      "Machiavellian Magna Graecia MACHIAVELLIAN\n"
     ]
    },
    {
     "name": "stderr",
     "output_type": "stream",
     "text": [
      " 54%|█████▎    | 308/575 [30:27<26:32,  5.96s/it]"
     ]
    },
    {
     "name": "stdout",
     "output_type": "stream",
     "text": [
      "Limnos Foolish Star FOOLISH STAR\n",
      "Limnos Foolish Star LIMNOS\n"
     ]
    },
    {
     "name": "stderr",
     "output_type": "stream",
     "text": [
      " 54%|█████▎    | 309/575 [30:33<26:12,  5.91s/it]"
     ]
    },
    {
     "name": "stdout",
     "output_type": "stream",
     "text": [
      "Miswaki Naskra Colors NASKRA COLORS\n",
      "Miswaki Naskra Colors MISWAKI\n"
     ]
    },
    {
     "name": "stderr",
     "output_type": "stream",
     "text": [
      " 54%|█████▍    | 310/575 [30:39<25:57,  5.88s/it]"
     ]
    },
    {
     "name": "stdout",
     "output_type": "stream",
     "text": [
      "Talybac Mille Flash MILLE FLASH\n",
      "Talybac Mille Flash TALYBAC\n"
     ]
    },
    {
     "name": "stderr",
     "output_type": "stream",
     "text": [
      " 54%|█████▍    | 311/575 [30:44<25:44,  5.85s/it]"
     ]
    },
    {
     "name": "stdout",
     "output_type": "stream",
     "text": [
      "Key Of Luck Disregard That DISREGARD THAT\n",
      "Key Of Luck Disregard That KEY OF LUCK\n"
     ]
    },
    {
     "name": "stderr",
     "output_type": "stream",
     "text": [
      " 54%|█████▍    | 313/575 [30:56<25:35,  5.86s/it]"
     ]
    },
    {
     "name": "stdout",
     "output_type": "stream",
     "text": [
      "Pivotal/Silca-Cisa CISA\n",
      "Pivotal/Silca-Cisa PIVOTAL\n"
     ]
    },
    {
     "name": "stderr",
     "output_type": "stream",
     "text": [
      " 55%|█████▍    | 315/575 [31:07<24:59,  5.77s/it]"
     ]
    },
    {
     "name": "stdout",
     "output_type": "stream",
     "text": [
      "Apeldoorn Tots Off TOTS OFF\n",
      "Apeldoorn Tots Off APELDOORN\n"
     ]
    },
    {
     "name": "stderr",
     "output_type": "stream",
     "text": [
      " 55%|█████▍    | 316/575 [31:13<24:53,  5.77s/it]"
     ]
    },
    {
     "name": "stdout",
     "output_type": "stream",
     "text": [
      "Highest Honor Girl Of France GIRL OF FRANCE\n",
      "Highest Honor Girl Of France HIGHEST HONOR\n"
     ]
    },
    {
     "name": "stderr",
     "output_type": "stream",
     "text": [
      " 55%|█████▌    | 317/575 [31:19<24:50,  5.78s/it]"
     ]
    },
    {
     "name": "stdout",
     "output_type": "stream",
     "text": [
      "Linamix Nuit Indienne NUIT INDIENNE\n",
      "Linamix Nuit Indienne LINAMIX\n"
     ]
    },
    {
     "name": "stderr",
     "output_type": "stream",
     "text": [
      " 55%|█████▌    | 318/575 [31:25<24:46,  5.78s/it]"
     ]
    },
    {
     "name": "stdout",
     "output_type": "stream",
     "text": [
      "Redback/Light-Flight REDBACK\n"
     ]
    },
    {
     "name": "stderr",
     "output_type": "stream",
     "text": [
      " 55%|█████▌    | 319/575 [31:31<24:53,  5.83s/it]"
     ]
    },
    {
     "name": "stdout",
     "output_type": "stream",
     "text": [
      "Groom Dancer Laurencia LAURENCIA\n",
      "Groom Dancer Laurencia GROOM DANCER\n"
     ]
    },
    {
     "name": "stderr",
     "output_type": "stream",
     "text": [
      " 56%|█████▌    | 320/575 [31:37<24:55,  5.86s/it]"
     ]
    },
    {
     "name": "stdout",
     "output_type": "stream",
     "text": [
      "Ganges Flying Missel FLYING MISSEL\n",
      "Ganges Flying Missel GANGES\n"
     ]
    },
    {
     "name": "stderr",
     "output_type": "stream",
     "text": [
      " 56%|█████▌    | 321/575 [31:43<24:55,  5.89s/it]"
     ]
    },
    {
     "name": "stdout",
     "output_type": "stream",
     "text": [
      "Cyborg Belle De Loir BELLE DE LOIR\n",
      "Cyborg Belle De Loir CYBORG\n"
     ]
    },
    {
     "name": "stderr",
     "output_type": "stream",
     "text": [
      " 56%|█████▌    | 322/575 [31:49<24:56,  5.92s/it]"
     ]
    },
    {
     "name": "stdout",
     "output_type": "stream",
     "text": [
      "Sadler's Wells Animatrice ANIMATRICE\n",
      "Sadler's Wells Animatrice SADLER'S WELLS\n"
     ]
    },
    {
     "name": "stderr",
     "output_type": "stream",
     "text": [
      " 56%|█████▌    | 323/575 [31:54<24:38,  5.87s/it]"
     ]
    },
    {
     "name": "stdout",
     "output_type": "stream",
     "text": [
      "Pivotal Heavenly Ray HEAVENLY RAY\n",
      "Pivotal Heavenly Ray PIVOTAL\n"
     ]
    },
    {
     "name": "stderr",
     "output_type": "stream",
     "text": [
      " 56%|█████▋    | 324/575 [32:01<24:49,  5.93s/it]"
     ]
    },
    {
     "name": "stdout",
     "output_type": "stream",
     "text": [
      "Green Tune Faintly FAINTLY\n",
      "Green Tune Faintly GREEN TUNE\n"
     ]
    },
    {
     "name": "stderr",
     "output_type": "stream",
     "text": [
      " 57%|█████▋    | 325/575 [32:07<25:44,  6.18s/it]"
     ]
    },
    {
     "name": "stdout",
     "output_type": "stream",
     "text": [
      "Septieme Ciel Kuddam KUDDAM\n",
      "Septieme Ciel Kuddam SEPTIEME CIEL\n"
     ]
    },
    {
     "name": "stderr",
     "output_type": "stream",
     "text": [
      " 57%|█████▋    | 326/575 [32:13<25:36,  6.17s/it]"
     ]
    },
    {
     "name": "stdout",
     "output_type": "stream",
     "text": [
      "Nashwan Moonlight's Box MOONLIGHT'S BOX\n",
      "Nashwan Moonlight's Box NASHWAN\n"
     ]
    },
    {
     "name": "stderr",
     "output_type": "stream",
     "text": [
      " 57%|█████▋    | 327/575 [32:20<26:11,  6.34s/it]"
     ]
    },
    {
     "name": "stdout",
     "output_type": "stream",
     "text": [
      "In The Wings My Mariam MY MARIAM\n",
      "In The Wings My Mariam IN THE WINGS\n"
     ]
    },
    {
     "name": "stderr",
     "output_type": "stream",
     "text": [
      " 57%|█████▋    | 328/575 [32:27<27:06,  6.58s/it]"
     ]
    },
    {
     "name": "stdout",
     "output_type": "stream",
     "text": [
      "Loup Solitaire Sarda SARDA\n",
      "Loup Solitaire Sarda LOUP SOLITAIRE\n"
     ]
    },
    {
     "name": "stderr",
     "output_type": "stream",
     "text": [
      " 57%|█████▋    | 329/575 [32:35<27:53,  6.80s/it]"
     ]
    },
    {
     "name": "stdout",
     "output_type": "stream",
     "text": [
      "Southern Halo Esnaola SOUTHERN HALO\n"
     ]
    },
    {
     "name": "stderr",
     "output_type": "stream",
     "text": [
      " 57%|█████▋    | 330/575 [32:41<27:50,  6.82s/it]"
     ]
    },
    {
     "name": "stdout",
     "output_type": "stream",
     "text": [
      "Sadler's Wells Sumoto SUMOTO\n",
      "Sadler's Wells Sumoto SADLER'S WELLS\n"
     ]
    },
    {
     "name": "stderr",
     "output_type": "stream",
     "text": [
      " 58%|█████▊    | 331/575 [32:47<26:43,  6.57s/it]"
     ]
    },
    {
     "name": "stdout",
     "output_type": "stream",
     "text": [
      "Poliglote Golden Rainbow GOLDEN RAINBOW\n",
      "Poliglote Golden Rainbow POLIGLOTE\n"
     ]
    },
    {
     "name": "stderr",
     "output_type": "stream",
     "text": [
      " 58%|█████▊    | 332/575 [32:53<25:55,  6.40s/it]"
     ]
    },
    {
     "name": "stdout",
     "output_type": "stream",
     "text": [
      "Giant's Causeway Hum Along GIANT\\'S CAUSEWAY\n"
     ]
    },
    {
     "name": "stderr",
     "output_type": "stream",
     "text": [
      " 58%|█████▊    | 333/575 [33:00<25:48,  6.40s/it]"
     ]
    },
    {
     "name": "stdout",
     "output_type": "stream",
     "text": [
      "Apple Tree Soie Moriniere SOIE MORINIERE\n",
      "Apple Tree Soie Moriniere APPLE TREE\n"
     ]
    },
    {
     "name": "stderr",
     "output_type": "stream",
     "text": [
      " 58%|█████▊    | 334/575 [33:06<25:17,  6.29s/it]"
     ]
    },
    {
     "name": "stdout",
     "output_type": "stream",
     "text": [
      "Night Shift Giola GIOLA\n",
      "Night Shift Giola NIGHT SHIFT\n"
     ]
    },
    {
     "name": "stderr",
     "output_type": "stream",
     "text": [
      " 58%|█████▊    | 335/575 [33:12<25:06,  6.28s/it]"
     ]
    },
    {
     "name": "stdout",
     "output_type": "stream",
     "text": [
      "Green Tune Luth D'Or LUTH D'OR\n",
      "Green Tune Luth D'Or GREEN TUNE\n"
     ]
    },
    {
     "name": "stderr",
     "output_type": "stream",
     "text": [
      " 58%|█████▊    | 336/575 [33:19<25:14,  6.34s/it]"
     ]
    },
    {
     "name": "stdout",
     "output_type": "stream",
     "text": [
      "Key Of Luck Sarifa SARIFA\n",
      "Key Of Luck Sarifa KEY OF LUCK\n"
     ]
    },
    {
     "name": "stderr",
     "output_type": "stream",
     "text": [
      " 59%|█████▊    | 337/575 [33:27<26:59,  6.81s/it]"
     ]
    },
    {
     "name": "stdout",
     "output_type": "stream",
     "text": [
      "Kaid Pous Lady Gyp LADY GYP\n",
      "Kaid Pous Lady Gyp KAID POUS\n"
     ]
    },
    {
     "name": "stderr",
     "output_type": "stream",
     "text": [
      " 59%|█████▉    | 338/575 [33:36<29:53,  7.57s/it]"
     ]
    },
    {
     "name": "stdout",
     "output_type": "stream",
     "text": [
      "Tiger Hill Iora IORA\n",
      "Tiger Hill Iora TIGER HILL\n"
     ]
    },
    {
     "name": "stderr",
     "output_type": "stream",
     "text": [
      " 59%|█████▉    | 339/575 [33:45<31:35,  8.03s/it]"
     ]
    },
    {
     "name": "stdout",
     "output_type": "stream",
     "text": [
      "In The Wings Poughkeepsie POUGHKEEPSIE\n",
      "In The Wings Poughkeepsie IN THE WINGS\n"
     ]
    },
    {
     "name": "stderr",
     "output_type": "stream",
     "text": [
      " 59%|█████▉    | 340/575 [33:54<32:39,  8.34s/it]"
     ]
    },
    {
     "name": "stdout",
     "output_type": "stream",
     "text": [
      "Catienus Hillary Step CATIENUS\n"
     ]
    },
    {
     "name": "stderr",
     "output_type": "stream",
     "text": [
      " 59%|█████▉    | 341/575 [34:04<33:59,  8.71s/it]"
     ]
    },
    {
     "name": "stdout",
     "output_type": "stream",
     "text": [
      "Sadler's Wells Dollar Bird SADLER'S WELLS\n"
     ]
    },
    {
     "name": "stderr",
     "output_type": "stream",
     "text": [
      " 59%|█████▉    | 342/575 [34:12<34:01,  8.76s/it]"
     ]
    },
    {
     "name": "stdout",
     "output_type": "stream",
     "text": [
      "Ramouncho April Star APRIL STAR\n",
      "Ramouncho April Star RAMOUNCHO\n"
     ]
    },
    {
     "name": "stderr",
     "output_type": "stream",
     "text": [
      " 60%|█████▉    | 343/575 [34:22<34:19,  8.88s/it]"
     ]
    },
    {
     "name": "stdout",
     "output_type": "stream",
     "text": [
      "Highest Honor Dear Marianne DEAR MARIANNE\n",
      "Highest Honor Dear Marianne HIGHEST HONOR\n"
     ]
    },
    {
     "name": "stderr",
     "output_type": "stream",
     "text": [
      " 60%|█████▉    | 344/575 [34:31<34:46,  9.03s/it]"
     ]
    },
    {
     "name": "stdout",
     "output_type": "stream",
     "text": [
      "Solid Illusion Long Whistle LONG WHISTLE\n",
      "Solid Illusion Long Whistle SOLID ILLUSION\n"
     ]
    },
    {
     "name": "stderr",
     "output_type": "stream",
     "text": [
      " 60%|██████    | 345/575 [34:40<34:34,  9.02s/it]"
     ]
    },
    {
     "name": "stdout",
     "output_type": "stream",
     "text": [
      "Assessor Enigma II ASSESSOR\n"
     ]
    },
    {
     "name": "stderr",
     "output_type": "stream",
     "text": [
      " 60%|██████    | 346/575 [34:49<34:34,  9.06s/it]"
     ]
    },
    {
     "name": "stdout",
     "output_type": "stream",
     "text": [
      "Giant's Causeway Helsinki HELSINKI\n",
      "Giant's Causeway Helsinki GIANT\\'S CAUSEWAY\n"
     ]
    },
    {
     "name": "stderr",
     "output_type": "stream",
     "text": [
      " 60%|██████    | 347/575 [34:58<34:33,  9.10s/it]"
     ]
    },
    {
     "name": "stdout",
     "output_type": "stream",
     "text": [
      "Docksider Pride Of Place PRIDE OF PLACE\n",
      "Docksider Pride Of Place DOCKSIDER\n"
     ]
    },
    {
     "name": "stderr",
     "output_type": "stream",
     "text": [
      " 61%|██████    | 348/575 [35:08<35:14,  9.31s/it]"
     ]
    },
    {
     "name": "stdout",
     "output_type": "stream",
     "text": [
      "Big Shuffle Karlshorst KARLSHORST\n",
      "Big Shuffle Karlshorst BIG SHUFFLE\n"
     ]
    },
    {
     "name": "stderr",
     "output_type": "stream",
     "text": [
      " 61%|██████    | 349/575 [35:17<35:01,  9.30s/it]"
     ]
    },
    {
     "name": "stdout",
     "output_type": "stream",
     "text": [
      "Danehill Silver Fun SILVER FUN\n",
      "Danehill Silver Fun DANEHILL\n"
     ]
    },
    {
     "name": "stderr",
     "output_type": "stream",
     "text": [
      " 61%|██████    | 350/575 [35:27<35:17,  9.41s/it]"
     ]
    },
    {
     "name": "stdout",
     "output_type": "stream",
     "text": [
      "Sunday Silence Slew O' Gems SUNDAY SILENCE\n"
     ]
    },
    {
     "name": "stderr",
     "output_type": "stream",
     "text": [
      " 61%|██████    | 351/575 [35:36<34:45,  9.31s/it]"
     ]
    },
    {
     "name": "stdout",
     "output_type": "stream",
     "text": [
      "Stormy Atlantic Bestsayes STORMY ATLANTIC\n"
     ]
    },
    {
     "name": "stderr",
     "output_type": "stream",
     "text": [
      " 61%|██████    | 352/575 [35:46<34:54,  9.39s/it]"
     ]
    },
    {
     "name": "stdout",
     "output_type": "stream",
     "text": [
      "Forest Wildcat Penniless Heiress FOREST WILDCAT\n"
     ]
    },
    {
     "name": "stderr",
     "output_type": "stream",
     "text": [
      " 61%|██████▏   | 353/575 [35:55<34:50,  9.42s/it]"
     ]
    },
    {
     "name": "stdout",
     "output_type": "stream",
     "text": [
      "Lemon Drop Kid Attractive Crown ATTRACTIVE CROWN\n",
      "Lemon Drop Kid Attractive Crown LEMON DROP KID\n"
     ]
    },
    {
     "name": "stderr",
     "output_type": "stream",
     "text": [
      " 62%|██████▏   | 354/575 [36:05<34:34,  9.39s/it]"
     ]
    },
    {
     "name": "stdout",
     "output_type": "stream",
     "text": [
      "Mizoram Heroine Lily HEROINE LILY\n",
      "Mizoram Heroine Lily MIZORAM\n"
     ]
    },
    {
     "name": "stderr",
     "output_type": "stream",
     "text": [
      " 62%|██████▏   | 355/575 [36:14<34:11,  9.33s/it]"
     ]
    },
    {
     "name": "stdout",
     "output_type": "stream",
     "text": [
      "Giant's Causeway Rusty Back GIANT\\'S CAUSEWAY\n"
     ]
    },
    {
     "name": "stderr",
     "output_type": "stream",
     "text": [
      " 62%|██████▏   | 356/575 [36:23<33:48,  9.26s/it]"
     ]
    },
    {
     "name": "stdout",
     "output_type": "stream",
     "text": [
      "Hector Protector Mona Em MONA EM\n",
      "Hector Protector Mona Em HECTOR PROTECTOR\n"
     ]
    },
    {
     "name": "stderr",
     "output_type": "stream",
     "text": [
      " 62%|██████▏   | 357/575 [36:32<33:52,  9.32s/it]"
     ]
    },
    {
     "name": "stdout",
     "output_type": "stream",
     "text": [
      "Dadarissime Upper Forms UPPER FORMS\n",
      "Dadarissime Upper Forms DADARISSIME\n"
     ]
    },
    {
     "name": "stderr",
     "output_type": "stream",
     "text": [
      " 62%|██████▏   | 358/575 [36:42<33:33,  9.28s/it]"
     ]
    },
    {
     "name": "stdout",
     "output_type": "stream",
     "text": [
      "Lost Soldier Cloud Break LOST SOLDIER\n"
     ]
    },
    {
     "name": "stderr",
     "output_type": "stream",
     "text": [
      " 62%|██████▏   | 359/575 [36:51<33:21,  9.27s/it]"
     ]
    },
    {
     "name": "stdout",
     "output_type": "stream",
     "text": [
      "Take Risks Claraway CLARAWAY\n",
      "Take Risks Claraway TAKE RISKS\n"
     ]
    },
    {
     "name": "stderr",
     "output_type": "stream",
     "text": [
      " 63%|██████▎   | 360/575 [37:00<33:03,  9.23s/it]"
     ]
    },
    {
     "name": "stdout",
     "output_type": "stream",
     "text": [
      "Alphabet Soup Melina Mou ALPHABET SOUP\n"
     ]
    },
    {
     "name": "stderr",
     "output_type": "stream",
     "text": [
      " 63%|██████▎   | 361/575 [37:09<32:34,  9.13s/it]"
     ]
    },
    {
     "name": "stdout",
     "output_type": "stream",
     "text": [
      "King Of Kings Berceau BERCEAU\n"
     ]
    },
    {
     "name": "stderr",
     "output_type": "stream",
     "text": [
      " 63%|██████▎   | 362/575 [37:18<32:11,  9.07s/it]"
     ]
    },
    {
     "name": "stdout",
     "output_type": "stream",
     "text": [
      "Linamix Windy Gulch WINDY GULCH\n",
      "Linamix Windy Gulch LINAMIX\n"
     ]
    },
    {
     "name": "stderr",
     "output_type": "stream",
     "text": [
      " 63%|██████▎   | 364/575 [37:37<32:32,  9.25s/it]"
     ]
    },
    {
     "name": "stdout",
     "output_type": "stream",
     "text": [
      "Sri Pekan Miss Alizier MISS ALIZIER\n",
      "Sri Pekan Miss Alizier SRI PEKAN\n"
     ]
    },
    {
     "name": "stderr",
     "output_type": "stream",
     "text": [
      " 63%|██████▎   | 365/575 [37:46<32:50,  9.38s/it]"
     ]
    },
    {
     "name": "stdout",
     "output_type": "stream",
     "text": [
      "Vettori Glen Falls GLEN FALLS\n",
      "Vettori Glen Falls VETTORI\n"
     ]
    },
    {
     "name": "stderr",
     "output_type": "stream",
     "text": [
      " 64%|██████▎   | 366/575 [37:56<33:12,  9.53s/it]"
     ]
    },
    {
     "name": "stdout",
     "output_type": "stream",
     "text": [
      "Grand Lodge Fragrant Hill FRAGRANT HILL\n",
      "Grand Lodge Fragrant Hill GRAND LODGE\n"
     ]
    },
    {
     "name": "stderr",
     "output_type": "stream",
     "text": [
      " 64%|██████▍   | 367/575 [38:06<32:48,  9.46s/it]"
     ]
    },
    {
     "name": "stdout",
     "output_type": "stream",
     "text": [
      "Marmato Facetie IV FACETIE IV\n",
      "Marmato Facetie IV MARMATO\n"
     ]
    },
    {
     "name": "stderr",
     "output_type": "stream",
     "text": [
      " 64%|██████▍   | 368/575 [38:15<32:25,  9.40s/it]"
     ]
    },
    {
     "name": "stdout",
     "output_type": "stream",
     "text": [
      "Royal Academy Galatrix ROYAL ACADEMY\n"
     ]
    },
    {
     "name": "stderr",
     "output_type": "stream",
     "text": [
      " 64%|██████▍   | 369/575 [38:24<32:29,  9.46s/it]"
     ]
    },
    {
     "name": "stdout",
     "output_type": "stream",
     "text": [
      "Mollicone Junior Venus De Boizel MOLLICONE JUNIOR\n"
     ]
    },
    {
     "name": "stderr",
     "output_type": "stream",
     "text": [
      " 64%|██████▍   | 370/575 [38:34<32:21,  9.47s/it]"
     ]
    },
    {
     "name": "stdout",
     "output_type": "stream",
     "text": [
      "Wild Rush To The Hunt WILD RUSH\n"
     ]
    },
    {
     "name": "stderr",
     "output_type": "stream",
     "text": [
      " 65%|██████▍   | 371/575 [38:43<32:05,  9.44s/it]"
     ]
    },
    {
     "name": "stdout",
     "output_type": "stream",
     "text": [
      "Marchand De Sable Lady Petronille LADY PETRONILLE\n",
      "Marchand De Sable Lady Petronille MARCHAND DE SABLE\n"
     ]
    },
    {
     "name": "stderr",
     "output_type": "stream",
     "text": [
      " 65%|██████▍   | 372/575 [38:53<32:08,  9.50s/it]"
     ]
    },
    {
     "name": "stdout",
     "output_type": "stream",
     "text": [
      "Dearling Tendresse D'Avril IV TENDRESSE D'AVRIL IV\n",
      "Dearling Tendresse D'Avril IV DEARLING\n"
     ]
    },
    {
     "name": "stderr",
     "output_type": "stream",
     "text": [
      " 65%|██████▍   | 373/575 [39:03<32:15,  9.58s/it]"
     ]
    },
    {
     "name": "stdout",
     "output_type": "stream",
     "text": [
      "Sleeping Car Soiree D'Ex SOIREE D'EX\n",
      "Sleeping Car Soiree D'Ex SLEEPING CAR\n"
     ]
    },
    {
     "name": "stderr",
     "output_type": "stream",
     "text": [
      " 65%|██████▌   | 374/575 [39:12<31:48,  9.50s/it]"
     ]
    },
    {
     "name": "stdout",
     "output_type": "stream",
     "text": [
      "Lights Out Circassie CIRCASSIE\n"
     ]
    },
    {
     "name": "stderr",
     "output_type": "stream",
     "text": [
      " 65%|██████▌   | 375/575 [39:21<31:36,  9.48s/it]"
     ]
    },
    {
     "name": "stdout",
     "output_type": "stream",
     "text": [
      "Prospector's Music Starr County PROSPECTOR'S MUSIC\n"
     ]
    },
    {
     "name": "stderr",
     "output_type": "stream",
     "text": [
      " 65%|██████▌   | 376/575 [39:31<31:13,  9.42s/it]"
     ]
    },
    {
     "name": "stdout",
     "output_type": "stream",
     "text": [
      "Spectrum Highland Gift HIGHLAND GIFT\n",
      "Spectrum Highland Gift SPECTRUM\n"
     ]
    },
    {
     "name": "stderr",
     "output_type": "stream",
     "text": [
      " 66%|██████▌   | 377/575 [39:40<30:53,  9.36s/it]"
     ]
    },
    {
     "name": "stdout",
     "output_type": "stream",
     "text": [
      "Alesso Tahis De Farges TAHIS DE FARGES\n",
      "Alesso Tahis De Farges ALESSO\n"
     ]
    },
    {
     "name": "stderr",
     "output_type": "stream",
     "text": [
      " 66%|██████▌   | 378/575 [39:49<30:50,  9.39s/it]"
     ]
    },
    {
     "name": "stdout",
     "output_type": "stream",
     "text": [
      "Mukaddamah Bint Al Balad BINT AL BALAD\n",
      "Mukaddamah Bint Al Balad MUKADDAMAH\n"
     ]
    },
    {
     "name": "stderr",
     "output_type": "stream",
     "text": [
      " 66%|██████▌   | 379/575 [39:59<30:48,  9.43s/it]"
     ]
    },
    {
     "name": "stdout",
     "output_type": "stream",
     "text": [
      "Pivotal Polish Descent POLISH DESCENT\n",
      "Pivotal Polish Descent PIVOTAL\n"
     ]
    },
    {
     "name": "stderr",
     "output_type": "stream",
     "text": [
      " 66%|██████▌   | 380/575 [40:08<30:47,  9.47s/it]"
     ]
    },
    {
     "name": "stdout",
     "output_type": "stream",
     "text": [
      "Desert King Tanzania TANZANIA\n",
      "Desert King Tanzania DESERT KING\n"
     ]
    },
    {
     "name": "stderr",
     "output_type": "stream",
     "text": [
      " 66%|██████▋   | 381/575 [40:18<30:46,  9.52s/it]"
     ]
    },
    {
     "name": "stdout",
     "output_type": "stream",
     "text": [
      "Machiavellian Time Saved TIME SAVED\n",
      "Machiavellian Time Saved MACHIAVELLIAN\n"
     ]
    },
    {
     "name": "stderr",
     "output_type": "stream",
     "text": [
      " 66%|██████▋   | 382/575 [40:27<30:24,  9.46s/it]"
     ]
    },
    {
     "name": "stdout",
     "output_type": "stream",
     "text": [
      "Poliglote Queen Margaret QUEEN MARGARET\n",
      "Poliglote Queen Margaret POLIGLOTE\n"
     ]
    },
    {
     "name": "stderr",
     "output_type": "stream",
     "text": [
      " 67%|██████▋   | 383/575 [40:37<30:02,  9.39s/it]"
     ]
    },
    {
     "name": "stdout",
     "output_type": "stream",
     "text": [
      "Sadler's Wells Crystal Spray SADLER'S WELLS\n"
     ]
    },
    {
     "name": "stderr",
     "output_type": "stream",
     "text": [
      " 67%|██████▋   | 384/575 [40:46<29:58,  9.41s/it]"
     ]
    },
    {
     "name": "stdout",
     "output_type": "stream",
     "text": [
      "Groom Dancer Marsoumeh MARSOUMEH\n",
      "Groom Dancer Marsoumeh GROOM DANCER\n"
     ]
    },
    {
     "name": "stderr",
     "output_type": "stream",
     "text": [
      " 67%|██████▋   | 385/575 [40:55<29:45,  9.40s/it]"
     ]
    },
    {
     "name": "stdout",
     "output_type": "stream",
     "text": [
      "Perugino Great Falls GREAT FALLS\n",
      "Perugino Great Falls PERUGINO\n"
     ]
    },
    {
     "name": "stderr",
     "output_type": "stream",
     "text": [
      " 67%|██████▋   | 386/575 [41:05<29:44,  9.44s/it]"
     ]
    },
    {
     "name": "stdout",
     "output_type": "stream",
     "text": [
      "Le Triton Chahacoua LE TRITON\n"
     ]
    },
    {
     "name": "stderr",
     "output_type": "stream",
     "text": [
      " 67%|██████▋   | 387/575 [41:15<29:49,  9.52s/it]"
     ]
    },
    {
     "name": "stdout",
     "output_type": "stream",
     "text": [
      "King Of Kings Shemaya SHEMAYA\n"
     ]
    },
    {
     "name": "stderr",
     "output_type": "stream",
     "text": [
      " 67%|██████▋   | 388/575 [41:24<29:46,  9.55s/it]"
     ]
    },
    {
     "name": "stdout",
     "output_type": "stream",
     "text": [
      "Linamix Shapely Scrapper SHAPELY SCRAPPER\n",
      "Linamix Shapely Scrapper LINAMIX\n"
     ]
    },
    {
     "name": "stderr",
     "output_type": "stream",
     "text": [
      " 68%|██████▊   | 389/575 [41:34<29:17,  9.45s/it]"
     ]
    },
    {
     "name": "stdout",
     "output_type": "stream",
     "text": [
      "Dear Doctor Princesse Music PRINCESSE MUSIC\n",
      "Dear Doctor Princesse Music DEAR DOCTOR\n"
     ]
    },
    {
     "name": "stderr",
     "output_type": "stream",
     "text": [
      " 68%|██████▊   | 390/575 [41:43<29:02,  9.42s/it]"
     ]
    },
    {
     "name": "stdout",
     "output_type": "stream",
     "text": [
      "Zayyani Lady Of Malville LADY OF MALVILLE\n",
      "Zayyani Lady Of Malville ZAYYANI\n"
     ]
    },
    {
     "name": "stderr",
     "output_type": "stream",
     "text": [
      " 68%|██████▊   | 391/575 [41:53<29:07,  9.50s/it]"
     ]
    },
    {
     "name": "stdout",
     "output_type": "stream",
     "text": [
      "Seattle Slew Turning Wheel TURNING WHEEL\n",
      "Seattle Slew Turning Wheel SEATTLE SLEW\n"
     ]
    },
    {
     "name": "stderr",
     "output_type": "stream",
     "text": [
      " 68%|██████▊   | 392/575 [42:02<28:48,  9.45s/it]"
     ]
    },
    {
     "name": "stdout",
     "output_type": "stream",
     "text": [
      "Kingsalsa Shinning War SHINNING WAR\n",
      "Kingsalsa Shinning War KINGSALSA\n"
     ]
    },
    {
     "name": "stderr",
     "output_type": "stream",
     "text": [
      " 68%|██████▊   | 393/575 [42:11<28:44,  9.47s/it]"
     ]
    },
    {
     "name": "stdout",
     "output_type": "stream",
     "text": [
      "Cadeaux Genereux Nuit Indienne NUIT INDIENNE\n",
      "Cadeaux Genereux Nuit Indienne CADEAUX GENEREUX\n"
     ]
    },
    {
     "name": "stderr",
     "output_type": "stream",
     "text": [
      " 69%|██████▊   | 394/575 [42:21<28:48,  9.55s/it]"
     ]
    },
    {
     "name": "stdout",
     "output_type": "stream",
     "text": [
      "Sultry Song Joiski's Star STAR\n",
      "Sultry Song Joiski's Star SULTRY SONG\n"
     ]
    },
    {
     "name": "stderr",
     "output_type": "stream",
     "text": [
      " 69%|██████▊   | 395/575 [42:31<28:34,  9.52s/it]"
     ]
    },
    {
     "name": "stdout",
     "output_type": "stream",
     "text": [
      "Linamix Broad And High BROAD AND HIGH\n",
      "Linamix Broad And High LINAMIX\n"
     ]
    },
    {
     "name": "stderr",
     "output_type": "stream",
     "text": [
      " 69%|██████▉   | 396/575 [42:41<28:52,  9.68s/it]"
     ]
    },
    {
     "name": "stdout",
     "output_type": "stream",
     "text": [
      "Danehill Dancer Dim Ofan DANEHILL DANCER\n"
     ]
    },
    {
     "name": "stderr",
     "output_type": "stream",
     "text": [
      " 69%|██████▉   | 397/575 [42:50<28:34,  9.63s/it]"
     ]
    },
    {
     "name": "stdout",
     "output_type": "stream",
     "text": [
      "Saint Ballado Quiet Dance SAINT BALLADO\n"
     ]
    },
    {
     "name": "stderr",
     "output_type": "stream",
     "text": [
      " 69%|██████▉   | 398/575 [42:59<28:00,  9.49s/it]"
     ]
    },
    {
     "name": "stdout",
     "output_type": "stream",
     "text": [
      "Blackfriars (AUS)-Caitie-eb (AUS) BLACKFRIARS\n"
     ]
    },
    {
     "name": "stderr",
     "output_type": "stream",
     "text": [
      " 69%|██████▉   | 399/575 [43:09<28:02,  9.56s/it]"
     ]
    },
    {
     "name": "stdout",
     "output_type": "stream",
     "text": [
      "Fusaichi Pegasus La Barberina FUSAICHI PEGASUS\n"
     ]
    },
    {
     "name": "stderr",
     "output_type": "stream",
     "text": [
      " 70%|██████▉   | 400/575 [43:21<29:33, 10.13s/it]"
     ]
    },
    {
     "name": "stdout",
     "output_type": "stream",
     "text": [
      "Ragmar Broceliande Fine BROCELIANDE FINE\n",
      "Ragmar Broceliande Fine RAGMAR\n"
     ]
    },
    {
     "name": "stderr",
     "output_type": "stream",
     "text": [
      " 70%|██████▉   | 401/575 [43:32<30:46, 10.61s/it]"
     ]
    },
    {
     "name": "stdout",
     "output_type": "stream",
     "text": [
      "Vettori Crystal Cavern VETTORI\n"
     ]
    },
    {
     "name": "stderr",
     "output_type": "stream",
     "text": [
      " 70%|██████▉   | 402/575 [43:43<30:44, 10.66s/it]"
     ]
    },
    {
     "name": "stdout",
     "output_type": "stream",
     "text": [
      "Gulch Magical Holiday GULCH\n"
     ]
    },
    {
     "name": "stderr",
     "output_type": "stream",
     "text": [
      " 70%|███████   | 403/575 [43:53<30:16, 10.56s/it]"
     ]
    },
    {
     "name": "stdout",
     "output_type": "stream",
     "text": [
      "Mujahid-Copy-Cat MUJAHID\n"
     ]
    },
    {
     "name": "stderr",
     "output_type": "stream",
     "text": [
      " 70%|███████   | 404/575 [44:03<29:32, 10.37s/it]"
     ]
    },
    {
     "name": "stdout",
     "output_type": "stream",
     "text": [
      "River Bay Loggia Bleue LOGGIA BLEUE\n",
      "River Bay Loggia Bleue RIVER BAY\n"
     ]
    },
    {
     "name": "stderr",
     "output_type": "stream",
     "text": [
      " 70%|███████   | 405/575 [44:13<28:38, 10.11s/it]"
     ]
    },
    {
     "name": "stdout",
     "output_type": "stream",
     "text": [
      "Loup Solitaire Otaiti OTAITI\n",
      "Loup Solitaire Otaiti LOUP SOLITAIRE\n"
     ]
    },
    {
     "name": "stderr",
     "output_type": "stream",
     "text": [
      " 71%|███████   | 407/575 [44:33<28:30, 10.18s/it]"
     ]
    },
    {
     "name": "stdout",
     "output_type": "stream",
     "text": [
      "Kendor Tropical Moon TROPICAL MOON\n",
      "Kendor Tropical Moon KENDOR\n"
     ]
    },
    {
     "name": "stderr",
     "output_type": "stream",
     "text": [
      " 71%|███████   | 408/575 [44:44<28:40, 10.30s/it]"
     ]
    },
    {
     "name": "stdout",
     "output_type": "stream",
     "text": [
      "Night Shift Asmara NIGHT SHIFT\n"
     ]
    },
    {
     "name": "stderr",
     "output_type": "stream",
     "text": [
      " 71%|███████   | 409/575 [44:53<27:55, 10.09s/it]"
     ]
    },
    {
     "name": "stdout",
     "output_type": "stream",
     "text": [
      "Unfuwain Delicieuse Lady DELICIEUSE LADY\n",
      "Unfuwain Delicieuse Lady UNFUWAIN\n"
     ]
    },
    {
     "name": "stderr",
     "output_type": "stream",
     "text": [
      " 71%|███████▏  | 411/575 [45:12<26:30,  9.70s/it]"
     ]
    },
    {
     "name": "stdout",
     "output_type": "stream",
     "text": [
      "Useful Laura De La Vire LAURA DE LA VIRE\n",
      "Useful Laura De La Vire USEFUL\n"
     ]
    },
    {
     "name": "stderr",
     "output_type": "stream",
     "text": [
      " 72%|███████▏  | 412/575 [45:22<26:26,  9.73s/it]"
     ]
    },
    {
     "name": "stdout",
     "output_type": "stream",
     "text": [
      "Lost World Haiya HAIYA\n",
      "Lost World Haiya LOST WORLD\n"
     ]
    },
    {
     "name": "stderr",
     "output_type": "stream",
     "text": [
      " 72%|███████▏  | 413/575 [45:31<26:06,  9.67s/it]"
     ]
    },
    {
     "name": "stdout",
     "output_type": "stream",
     "text": [
      "Roakarad Effet De Star EFFET DE STAR\n",
      "Roakarad Effet De Star ROAKARAD\n"
     ]
    },
    {
     "name": "stderr",
     "output_type": "stream",
     "text": [
      " 72%|███████▏  | 414/575 [45:41<25:43,  9.59s/it]"
     ]
    },
    {
     "name": "stdout",
     "output_type": "stream",
     "text": [
      "Poliglote Pearl River PEARL RIVER\n",
      "Poliglote Pearl River POLIGLOTE\n"
     ]
    },
    {
     "name": "stderr",
     "output_type": "stream",
     "text": [
      " 72%|███████▏  | 415/575 [45:50<25:28,  9.55s/it]"
     ]
    },
    {
     "name": "stdout",
     "output_type": "stream",
     "text": [
      "Arnaqueur Diana De Beaufai DIANA DE BEAUFAI\n",
      "Arnaqueur Diana De Beaufai ARNAQUEUR\n"
     ]
    },
    {
     "name": "stderr",
     "output_type": "stream",
     "text": [
      " 72%|███████▏  | 416/575 [46:00<25:16,  9.54s/it]"
     ]
    },
    {
     "name": "stdout",
     "output_type": "stream",
     "text": [
      "Jeune Homme Little Deep Water JEUNE HOMME\n"
     ]
    },
    {
     "name": "stderr",
     "output_type": "stream",
     "text": [
      " 73%|███████▎  | 417/575 [46:09<24:53,  9.45s/it]"
     ]
    },
    {
     "name": "stdout",
     "output_type": "stream",
     "text": [
      "Village Star Dany Flight VILLAGE STAR\n"
     ]
    },
    {
     "name": "stderr",
     "output_type": "stream",
     "text": [
      " 73%|███████▎  | 418/575 [46:19<25:05,  9.59s/it]"
     ]
    },
    {
     "name": "stdout",
     "output_type": "stream",
     "text": [
      "Giant's Causeway Colorsnap GIANT\\'S CAUSEWAY\n"
     ]
    },
    {
     "name": "stderr",
     "output_type": "stream",
     "text": [
      " 73%|███████▎  | 420/575 [46:38<24:42,  9.56s/it]"
     ]
    },
    {
     "name": "stdout",
     "output_type": "stream",
     "text": [
      "Dansili High And Low HIGH AND LOW\n",
      "Dansili High And Low DANSILI\n"
     ]
    },
    {
     "name": "stderr",
     "output_type": "stream",
     "text": [
      " 73%|███████▎  | 421/575 [46:48<24:28,  9.53s/it]"
     ]
    },
    {
     "name": "stdout",
     "output_type": "stream",
     "text": [
      "Gold Away Victory Mill VICTORY MILL\n",
      "Gold Away Victory Mill GOLD AWAY\n"
     ]
    },
    {
     "name": "stderr",
     "output_type": "stream",
     "text": [
      " 73%|███████▎  | 422/575 [46:57<24:20,  9.54s/it]"
     ]
    },
    {
     "name": "stdout",
     "output_type": "stream",
     "text": [
      "Sheyrann Bone Crasher BONE CRASHER\n",
      "Sheyrann Bone Crasher SHEYRANN\n"
     ]
    },
    {
     "name": "stderr",
     "output_type": "stream",
     "text": [
      " 74%|███████▎  | 423/575 [47:07<24:08,  9.53s/it]"
     ]
    },
    {
     "name": "stdout",
     "output_type": "stream",
     "text": [
      "Funny Baby Hispanie HISPANIE\n",
      "Funny Baby Hispanie FUNNY BABY\n"
     ]
    },
    {
     "name": "stderr",
     "output_type": "stream",
     "text": [
      " 74%|███████▎  | 424/575 [47:16<23:52,  9.49s/it]"
     ]
    },
    {
     "name": "stdout",
     "output_type": "stream",
     "text": [
      "Jimble Royal Blessing JIMBLE\n"
     ]
    },
    {
     "name": "stderr",
     "output_type": "stream",
     "text": [
      " 74%|███████▍  | 425/575 [47:26<23:50,  9.54s/it]"
     ]
    },
    {
     "name": "stdout",
     "output_type": "stream",
     "text": [
      "Northern Crystal Bright Idea BRIGHT IDEA\n",
      "Northern Crystal Bright Idea NORTHERN CRYSTAL\n"
     ]
    },
    {
     "name": "stderr",
     "output_type": "stream",
     "text": [
      " 74%|███████▍  | 426/575 [47:37<25:23, 10.23s/it]"
     ]
    },
    {
     "name": "stdout",
     "output_type": "stream",
     "text": [
      "Daggers Drawn Paganina PAGANINA\n",
      "Daggers Drawn Paganina DAGGERS DRAWN\n"
     ]
    },
    {
     "name": "stderr",
     "output_type": "stream",
     "text": [
      " 74%|███████▍  | 427/575 [47:52<28:23, 11.51s/it]"
     ]
    },
    {
     "name": "stdout",
     "output_type": "stream",
     "text": [
      "Murmure Ephese V EPHESE V\n",
      "Murmure Ephese V MURMURE\n"
     ]
    },
    {
     "name": "stderr",
     "output_type": "stream",
     "text": [
      " 74%|███████▍  | 428/575 [48:04<28:48, 11.76s/it]"
     ]
    },
    {
     "name": "stdout",
     "output_type": "stream",
     "text": [
      "Fragrant Mix Dona Sville FRAGRANT MIX\n"
     ]
    },
    {
     "name": "stderr",
     "output_type": "stream",
     "text": [
      " 75%|███████▍  | 429/575 [48:16<28:15, 11.61s/it]"
     ]
    },
    {
     "name": "stdout",
     "output_type": "stream",
     "text": [
      "Le Glorieux All Come True ALL COME TRUE\n",
      "Le Glorieux All Come True LE GLORIEUX\n"
     ]
    },
    {
     "name": "stderr",
     "output_type": "stream",
     "text": [
      " 75%|███████▍  | 430/575 [48:25<26:34, 11.00s/it]"
     ]
    },
    {
     "name": "stdout",
     "output_type": "stream",
     "text": [
      "King's Best Toujours Irish KING'S BEST\n"
     ]
    },
    {
     "name": "stderr",
     "output_type": "stream",
     "text": [
      " 75%|███████▍  | 431/575 [48:35<25:12, 10.50s/it]"
     ]
    },
    {
     "name": "stdout",
     "output_type": "stream",
     "text": [
      "City On A Hill - Ela-Darlin-Mou CITY ON A HILL\n"
     ]
    },
    {
     "name": "stderr",
     "output_type": "stream",
     "text": [
      " 75%|███████▌  | 432/575 [48:44<24:18, 10.20s/it]"
     ]
    },
    {
     "name": "stdout",
     "output_type": "stream",
     "text": [
      "Charnwood Forest Abstraction CHARNWOOD FOREST\n"
     ]
    },
    {
     "name": "stderr",
     "output_type": "stream",
     "text": [
      " 75%|███████▌  | 433/575 [48:54<23:38,  9.99s/it]"
     ]
    },
    {
     "name": "stdout",
     "output_type": "stream",
     "text": [
      "Raintrap Bal De Foire BAL DE FOIRE\n",
      "Raintrap Bal De Foire RAINTRAP\n"
     ]
    },
    {
     "name": "stderr",
     "output_type": "stream",
     "text": [
      " 75%|███████▌  | 434/575 [49:03<23:02,  9.81s/it]"
     ]
    },
    {
     "name": "stdout",
     "output_type": "stream",
     "text": [
      "Sadler's Wells Clear Issue CLEAR ISSUE\n",
      "Sadler's Wells Clear Issue SADLER'S WELLS\n"
     ]
    },
    {
     "name": "stderr",
     "output_type": "stream",
     "text": [
      " 76%|███████▌  | 435/575 [49:13<22:51,  9.79s/it]"
     ]
    },
    {
     "name": "stdout",
     "output_type": "stream",
     "text": [
      "Garde Royale Malis Creiomin GARDE ROYALE\n"
     ]
    },
    {
     "name": "stderr",
     "output_type": "stream",
     "text": [
      " 76%|███████▌  | 436/575 [49:24<23:25, 10.11s/it]"
     ]
    },
    {
     "name": "stdout",
     "output_type": "stream",
     "text": [
      "Linamix Labour Of Love LABOUR OF LOVE\n",
      "Linamix Labour Of Love LINAMIX\n"
     ]
    },
    {
     "name": "stderr",
     "output_type": "stream",
     "text": [
      " 76%|███████▌  | 437/575 [49:34<23:15, 10.12s/it]"
     ]
    },
    {
     "name": "stdout",
     "output_type": "stream",
     "text": [
      "General Holme Va Et Vient VA ET VIENT\n",
      "General Holme Va Et Vient GENERAL HOLME\n"
     ]
    },
    {
     "name": "stderr",
     "output_type": "stream",
     "text": [
      " 76%|███████▌  | 438/575 [49:44<23:29, 10.29s/it]"
     ]
    },
    {
     "name": "stdout",
     "output_type": "stream",
     "text": [
      "Lute Antique Gold Wind GOLD WIND\n",
      "Lute Antique Gold Wind LUTE ANTIQUE\n"
     ]
    },
    {
     "name": "stderr",
     "output_type": "stream",
     "text": [
      " 76%|███████▋  | 439/575 [49:54<23:05, 10.19s/it]"
     ]
    },
    {
     "name": "stdout",
     "output_type": "stream",
     "text": [
      "Sadler's Wells Urban Sea URBAN SEA\n",
      "Sadler's Wells Urban Sea SADLER'S WELLS\n"
     ]
    },
    {
     "name": "stderr",
     "output_type": "stream",
     "text": [
      " 77%|███████▋  | 441/575 [50:13<21:55,  9.82s/it]"
     ]
    },
    {
     "name": "stdout",
     "output_type": "stream",
     "text": [
      "Kingmambo Myth To Reality MYTH TO REALITY\n"
     ]
    },
    {
     "name": "stderr",
     "output_type": "stream",
     "text": [
      " 77%|███████▋  | 442/575 [50:23<21:51,  9.86s/it]"
     ]
    },
    {
     "name": "stdout",
     "output_type": "stream",
     "text": [
      "Classic Secret Ela Man Hee CLASSIC SECRET\n"
     ]
    },
    {
     "name": "stderr",
     "output_type": "stream",
     "text": [
      " 77%|███████▋  | 443/575 [50:34<22:30, 10.23s/it]"
     ]
    },
    {
     "name": "stdout",
     "output_type": "stream",
     "text": [
      "Nikos Marie Glitters MARIE GLITTERS\n",
      "Nikos Marie Glitters NIKOS\n"
     ]
    },
    {
     "name": "stderr",
     "output_type": "stream",
     "text": [
      " 77%|███████▋  | 444/575 [50:45<22:37, 10.36s/it]"
     ]
    },
    {
     "name": "stdout",
     "output_type": "stream",
     "text": [
      "El Prado Kitten's First KITTEN'S FIRST\n",
      "El Prado Kitten's First EL PRADO\n"
     ]
    },
    {
     "name": "stderr",
     "output_type": "stream",
     "text": [
      " 77%|███████▋  | 445/575 [50:55<21:59, 10.15s/it]"
     ]
    },
    {
     "name": "stdout",
     "output_type": "stream",
     "text": [
      "Attune Blanche Dame BLANCHE DAME\n",
      "Attune Blanche Dame ATTUNE\n"
     ]
    },
    {
     "name": "stderr",
     "output_type": "stream",
     "text": [
      " 78%|███████▊  | 446/575 [51:04<21:32, 10.02s/it]"
     ]
    },
    {
     "name": "stdout",
     "output_type": "stream",
     "text": [
      "Silver Hawk Ameriflora AMERIFLORA\n",
      "Silver Hawk Ameriflora SILVER HAWK\n"
     ]
    },
    {
     "name": "stderr",
     "output_type": "stream",
     "text": [
      " 78%|███████▊  | 447/575 [51:14<20:56,  9.82s/it]"
     ]
    },
    {
     "name": "stdout",
     "output_type": "stream",
     "text": [
      "April Night Stadia STADIA\n",
      "April Night Stadia APRIL NIGHT\n"
     ]
    },
    {
     "name": "stderr",
     "output_type": "stream",
     "text": [
      " 78%|███████▊  | 448/575 [51:23<20:28,  9.67s/it]"
     ]
    },
    {
     "name": "stdout",
     "output_type": "stream",
     "text": [
      "Keos Chic Native KEOS\n"
     ]
    },
    {
     "name": "stderr",
     "output_type": "stream",
     "text": [
      " 78%|███████▊  | 449/575 [51:32<20:11,  9.61s/it]"
     ]
    },
    {
     "name": "stdout",
     "output_type": "stream",
     "text": [
      "Sadler's Wells Rainbow Lake RAINBOW LAKE\n",
      "Sadler's Wells Rainbow Lake SADLER'S WELLS\n"
     ]
    },
    {
     "name": "stderr",
     "output_type": "stream",
     "text": [
      " 78%|███████▊  | 450/575 [51:42<19:50,  9.52s/it]"
     ]
    },
    {
     "name": "stdout",
     "output_type": "stream",
     "text": [
      "Limpid Miss Valenia VALENIA\n",
      "Limpid Miss Valenia LIMPID\n"
     ]
    },
    {
     "name": "stderr",
     "output_type": "stream",
     "text": [
      " 78%|███████▊  | 451/575 [51:51<19:43,  9.55s/it]"
     ]
    },
    {
     "name": "stdout",
     "output_type": "stream",
     "text": [
      "R B Chesne Karlypha KARLYPHA\n",
      "R B Chesne Karlypha R B CHESNE\n"
     ]
    },
    {
     "name": "stderr",
     "output_type": "stream",
     "text": [
      " 79%|███████▊  | 452/575 [52:01<19:31,  9.52s/it]"
     ]
    },
    {
     "name": "stdout",
     "output_type": "stream",
     "text": [
      "Mujahid - Copy-Cat MUJAHID\n"
     ]
    },
    {
     "name": "stderr",
     "output_type": "stream",
     "text": [
      " 79%|███████▉  | 453/575 [52:10<19:17,  9.49s/it]"
     ]
    },
    {
     "name": "stdout",
     "output_type": "stream",
     "text": [
      "Dr Fong Secret Wings DR FONG\n"
     ]
    },
    {
     "name": "stderr",
     "output_type": "stream",
     "text": [
      " 79%|███████▉  | 455/575 [52:29<18:55,  9.46s/it]"
     ]
    },
    {
     "name": "stdout",
     "output_type": "stream",
     "text": [
      "Video Rock Fee Du Moulin Mas FEE DU MOULIN MAS\n",
      "Video Rock Fee Du Moulin Mas VIDEO ROCK\n"
     ]
    },
    {
     "name": "stderr",
     "output_type": "stream",
     "text": [
      " 79%|███████▉  | 456/575 [52:39<18:48,  9.49s/it]"
     ]
    },
    {
     "name": "stdout",
     "output_type": "stream",
     "text": [
      "Desert Prince Urmia URMIA\n",
      "Desert Prince Urmia DESERT PRINCE\n"
     ]
    },
    {
     "name": "stderr",
     "output_type": "stream",
     "text": [
      " 79%|███████▉  | 457/575 [52:48<18:35,  9.45s/it]"
     ]
    },
    {
     "name": "stdout",
     "output_type": "stream",
     "text": [
      "Bahhare (USA) / Na-Ayim (IRE) BAHHARE\n"
     ]
    },
    {
     "name": "stderr",
     "output_type": "stream",
     "text": [
      " 80%|███████▉  | 458/575 [52:58<18:31,  9.50s/it]"
     ]
    },
    {
     "name": "stdout",
     "output_type": "stream",
     "text": [
      "Rock Of Gibraltar-Marlene-d ROCK OF GIBRALTAR\n"
     ]
    },
    {
     "name": "stderr",
     "output_type": "stream",
     "text": [
      " 80%|███████▉  | 459/575 [53:07<18:12,  9.42s/it]"
     ]
    },
    {
     "name": "stdout",
     "output_type": "stream",
     "text": [
      "Stephen Got Even Heat Lightning HEAT LIGHTNING\n",
      "Stephen Got Even Heat Lightning STEPHEN GOT EVEN\n"
     ]
    },
    {
     "name": "stderr",
     "output_type": "stream",
     "text": [
      " 80%|████████  | 460/575 [53:17<18:16,  9.54s/it]"
     ]
    },
    {
     "name": "stdout",
     "output_type": "stream",
     "text": [
      "Arnaqueur Corail D'Haguenet CORAIL D'HAGUENET\n",
      "Arnaqueur Corail D'Haguenet ARNAQUEUR\n"
     ]
    },
    {
     "name": "stderr",
     "output_type": "stream",
     "text": [
      " 80%|████████  | 461/575 [53:27<18:18,  9.63s/it]"
     ]
    },
    {
     "name": "stdout",
     "output_type": "stream",
     "text": [
      "Green Tune Love For Ever LOVE FOR EVER\n",
      "Green Tune Love For Ever GREEN TUNE\n"
     ]
    },
    {
     "name": "stderr",
     "output_type": "stream",
     "text": [
      " 80%|████████  | 462/575 [53:36<18:13,  9.68s/it]"
     ]
    },
    {
     "name": "stdout",
     "output_type": "stream",
     "text": [
      "Platini Anna Leone ANNA LEONE\n",
      "Platini Anna Leone PLATINI\n"
     ]
    },
    {
     "name": "stderr",
     "output_type": "stream",
     "text": [
      " 81%|████████  | 463/575 [53:46<17:54,  9.59s/it]"
     ]
    },
    {
     "name": "stdout",
     "output_type": "stream",
     "text": [
      "Tiger Hill Mysterious Land MYSTERIOUS LAND\n",
      "Tiger Hill Mysterious Land TIGER HILL\n"
     ]
    },
    {
     "name": "stderr",
     "output_type": "stream",
     "text": [
      " 81%|████████  | 464/575 [53:55<17:33,  9.49s/it]"
     ]
    },
    {
     "name": "stdout",
     "output_type": "stream",
     "text": [
      "Mansonnien Miss Madoura MISS MADOURA\n"
     ]
    },
    {
     "name": "stderr",
     "output_type": "stream",
     "text": [
      " 81%|████████  | 465/575 [54:05<17:38,  9.62s/it]"
     ]
    },
    {
     "name": "stdout",
     "output_type": "stream",
     "text": [
      "Polish Precedent Floripedes POLISH PRECEDENT\n"
     ]
    },
    {
     "name": "stderr",
     "output_type": "stream",
     "text": [
      " 81%|████████  | 466/575 [54:14<17:25,  9.59s/it]"
     ]
    },
    {
     "name": "stdout",
     "output_type": "stream",
     "text": [
      "Bateau Rouge Gianna Nannini GIANNA NANNINI\n",
      "Bateau Rouge Gianna Nannini BATEAU ROUGE\n"
     ]
    },
    {
     "name": "stderr",
     "output_type": "stream",
     "text": [
      " 81%|████████▏ | 468/575 [54:33<16:55,  9.49s/it]"
     ]
    },
    {
     "name": "stdout",
     "output_type": "stream",
     "text": [
      "Danehill Slipstream Queen SLIPSTREAM QUEEN\n",
      "Danehill Slipstream Queen DANEHILL\n"
     ]
    },
    {
     "name": "stderr",
     "output_type": "stream",
     "text": [
      " 82%|████████▏ | 469/575 [54:43<16:52,  9.55s/it]"
     ]
    },
    {
     "name": "stdout",
     "output_type": "stream",
     "text": [
      "Pistolet Bleu Eau De Nuit EAU DE NUIT\n",
      "Pistolet Bleu Eau De Nuit PISTOLET BLEU\n"
     ]
    },
    {
     "name": "stderr",
     "output_type": "stream",
     "text": [
      " 82%|████████▏ | 470/575 [54:53<16:44,  9.57s/it]"
     ]
    },
    {
     "name": "stdout",
     "output_type": "stream",
     "text": [
      "Saumarez Mepa Dancer SAUMAREZ\n"
     ]
    },
    {
     "name": "stderr",
     "output_type": "stream",
     "text": [
      " 82%|████████▏ | 471/575 [55:02<16:39,  9.61s/it]"
     ]
    },
    {
     "name": "stdout",
     "output_type": "stream",
     "text": [
      "Alhaarth Partie De Dames PARTIE DE DAMES\n",
      "Alhaarth Partie De Dames ALHAARTH\n"
     ]
    },
    {
     "name": "stderr",
     "output_type": "stream",
     "text": [
      " 82%|████████▏ | 472/575 [55:12<16:30,  9.62s/it]"
     ]
    },
    {
     "name": "stdout",
     "output_type": "stream",
     "text": [
      "Lahib Comme D'Habitude COMME D'HABITUDE\n"
     ]
    },
    {
     "name": "stderr",
     "output_type": "stream",
     "text": [
      " 82%|████████▏ | 473/575 [55:21<16:14,  9.55s/it]"
     ]
    },
    {
     "name": "stdout",
     "output_type": "stream",
     "text": [
      "Timber Country Sanchez TIMBER COUNTRY\n"
     ]
    },
    {
     "name": "stderr",
     "output_type": "stream",
     "text": [
      " 82%|████████▏ | 474/575 [55:31<15:58,  9.49s/it]"
     ]
    },
    {
     "name": "stdout",
     "output_type": "stream",
     "text": [
      "Keos Garde Toi GARDE TOI\n",
      "Keos Garde Toi KEOS\n"
     ]
    },
    {
     "name": "stderr",
     "output_type": "stream",
     "text": [
      " 83%|████████▎ | 475/575 [55:40<15:50,  9.51s/it]"
     ]
    },
    {
     "name": "stdout",
     "output_type": "stream",
     "text": [
      "Halling African Peace HALLING\n"
     ]
    },
    {
     "name": "stderr",
     "output_type": "stream",
     "text": [
      " 83%|████████▎ | 476/575 [55:50<15:38,  9.48s/it]"
     ]
    },
    {
     "name": "stdout",
     "output_type": "stream",
     "text": [
      "Dolphin Street Silicon Bavaria SILICON BAVARIA\n",
      "Dolphin Street Silicon Bavaria DOLPHIN STREET\n"
     ]
    },
    {
     "name": "stderr",
     "output_type": "stream",
     "text": [
      " 83%|████████▎ | 478/575 [56:09<15:42,  9.72s/it]"
     ]
    },
    {
     "name": "stdout",
     "output_type": "stream",
     "text": [
      "Mad Tax Tiepiola MAD TAX\n"
     ]
    },
    {
     "name": "stderr",
     "output_type": "stream",
     "text": [
      " 83%|████████▎ | 479/575 [56:19<15:34,  9.73s/it]"
     ]
    },
    {
     "name": "stdout",
     "output_type": "stream",
     "text": [
      "Medaaly Joy Of Life JOY OF LIFE\n",
      "Medaaly Joy Of Life MEDAALY\n"
     ]
    },
    {
     "name": "stderr",
     "output_type": "stream",
     "text": [
      " 83%|████████▎ | 480/575 [56:29<15:16,  9.65s/it]"
     ]
    },
    {
     "name": "stdout",
     "output_type": "stream",
     "text": [
      "Gold Away Doucelisa DOUCELISA\n",
      "Gold Away Doucelisa GOLD AWAY\n"
     ]
    },
    {
     "name": "stderr",
     "output_type": "stream",
     "text": [
      " 84%|████████▎ | 481/575 [56:38<15:03,  9.61s/it]"
     ]
    },
    {
     "name": "stdout",
     "output_type": "stream",
     "text": [
      "Dashing Blade Leontine DASHING BLADE\n"
     ]
    },
    {
     "name": "stderr",
     "output_type": "stream",
     "text": [
      " 84%|████████▍ | 482/575 [56:48<14:51,  9.59s/it]"
     ]
    },
    {
     "name": "stdout",
     "output_type": "stream",
     "text": [
      "Sadler's Wells Moon Cactus MOON CACTUS\n",
      "Sadler's Wells Moon Cactus SADLER'S WELLS\n"
     ]
    },
    {
     "name": "stderr",
     "output_type": "stream",
     "text": [
      " 84%|████████▍ | 483/575 [56:57<14:44,  9.61s/it]"
     ]
    },
    {
     "name": "stdout",
     "output_type": "stream",
     "text": [
      "Pivotal Miss Penton MISS PENTON\n",
      "Pivotal Miss Penton PIVOTAL\n"
     ]
    },
    {
     "name": "stderr",
     "output_type": "stream",
     "text": [
      " 84%|████████▍ | 484/575 [57:07<14:25,  9.51s/it]"
     ]
    },
    {
     "name": "stdout",
     "output_type": "stream",
     "text": [
      "Lord Of Men Hairly HAIRLY\n",
      "Lord Of Men Hairly LORD OF MEN\n"
     ]
    },
    {
     "name": "stderr",
     "output_type": "stream",
     "text": [
      " 84%|████████▍ | 485/575 [57:16<14:14,  9.49s/it]"
     ]
    },
    {
     "name": "stdout",
     "output_type": "stream",
     "text": [
      "Itsabrahma/Il-X ITSABRAHMA\n"
     ]
    },
    {
     "name": "stderr",
     "output_type": "stream",
     "text": [
      " 85%|████████▍ | 486/575 [57:25<13:54,  9.38s/it]"
     ]
    },
    {
     "name": "stdout",
     "output_type": "stream",
     "text": [
      "Hernando Summer Night SUMMER NIGHT\n",
      "Hernando Summer Night HERNANDO\n"
     ]
    },
    {
     "name": "stderr",
     "output_type": "stream",
     "text": [
      " 85%|████████▍ | 487/575 [57:35<13:53,  9.47s/it]"
     ]
    },
    {
     "name": "stdout",
     "output_type": "stream",
     "text": [
      "Desert Prince She Bat DESERT PRINCE\n"
     ]
    },
    {
     "name": "stderr",
     "output_type": "stream",
     "text": [
      " 85%|████████▍ | 488/575 [57:45<13:48,  9.53s/it]"
     ]
    },
    {
     "name": "stdout",
     "output_type": "stream",
     "text": [
      "Theatrical Journey Of Hope THEATRICAL\n"
     ]
    },
    {
     "name": "stderr",
     "output_type": "stream",
     "text": [
      " 85%|████████▌ | 489/575 [57:54<13:38,  9.52s/it]"
     ]
    },
    {
     "name": "stdout",
     "output_type": "stream",
     "text": [
      "Diktat/Heaven-Liegh-Grey DIKTAT\n"
     ]
    },
    {
     "name": "stderr",
     "output_type": "stream",
     "text": [
      " 85%|████████▌ | 490/575 [58:04<13:30,  9.53s/it]"
     ]
    },
    {
     "name": "stdout",
     "output_type": "stream",
     "text": [
      "Lord Of Men Nimes NIMES\n",
      "Lord Of Men Nimes LORD OF MEN\n"
     ]
    },
    {
     "name": "stderr",
     "output_type": "stream",
     "text": [
      " 85%|████████▌ | 491/575 [58:13<13:23,  9.56s/it]"
     ]
    },
    {
     "name": "stdout",
     "output_type": "stream",
     "text": [
      "Halling Play With Me PLAY WITH ME\n",
      "Halling Play With Me HALLING\n"
     ]
    },
    {
     "name": "stderr",
     "output_type": "stream",
     "text": [
      " 86%|████████▌ | 492/575 [58:23<13:14,  9.57s/it]"
     ]
    },
    {
     "name": "stdout",
     "output_type": "stream",
     "text": [
      "Septieme Ciel Gentian Blue GENTIAN BLUE\n",
      "Septieme Ciel Gentian Blue SEPTIEME CIEL\n"
     ]
    },
    {
     "name": "stderr",
     "output_type": "stream",
     "text": [
      " 86%|████████▌ | 493/575 [58:32<13:04,  9.56s/it]"
     ]
    },
    {
     "name": "stdout",
     "output_type": "stream",
     "text": [
      "Loup Solitaire Volupte VOLUPTE\n",
      "Loup Solitaire Volupte LOUP SOLITAIRE\n"
     ]
    },
    {
     "name": "stderr",
     "output_type": "stream",
     "text": [
      " 86%|████████▌ | 494/575 [58:42<12:56,  9.59s/it]"
     ]
    },
    {
     "name": "stdout",
     "output_type": "stream",
     "text": [
      "King's Best Oiseau De Feu OISEAU DE FEU\n",
      "King's Best Oiseau De Feu KING'S BEST\n"
     ]
    },
    {
     "name": "stderr",
     "output_type": "stream",
     "text": [
      " 86%|████████▌ | 495/575 [58:53<13:13,  9.92s/it]"
     ]
    },
    {
     "name": "stdout",
     "output_type": "stream",
     "text": [
      "Acambaro Siberian's Image SIBERIAN'S IMAGE\n",
      "Acambaro Siberian's Image ACAMBARO\n"
     ]
    },
    {
     "name": "stderr",
     "output_type": "stream",
     "text": [
      " 86%|████████▋ | 496/575 [59:09<15:40, 11.91s/it]"
     ]
    },
    {
     "name": "stdout",
     "output_type": "stream",
     "text": [
      "Brier Creek Fortune V FORTUNE V\n",
      "Brier Creek Fortune V BRIER CREEK\n"
     ]
    },
    {
     "name": "stderr",
     "output_type": "stream",
     "text": [
      " 86%|████████▋ | 497/575 [59:27<17:45, 13.66s/it]"
     ]
    },
    {
     "name": "stdout",
     "output_type": "stream",
     "text": [
      "Spectrum Her Ladyship HER LADYSHIP\n",
      "Spectrum Her Ladyship SPECTRUM\n"
     ]
    },
    {
     "name": "stderr",
     "output_type": "stream",
     "text": [
      " 87%|████████▋ | 498/575 [59:43<18:27, 14.38s/it]"
     ]
    },
    {
     "name": "stdout",
     "output_type": "stream",
     "text": [
      "Lute Antique Katchassa KATCHASSA\n",
      "Lute Antique Katchassa LUTE ANTIQUE\n"
     ]
    },
    {
     "name": "stderr",
     "output_type": "stream",
     "text": [
      " 87%|████████▋ | 499/575 [59:57<18:12, 14.37s/it]"
     ]
    },
    {
     "name": "stdout",
     "output_type": "stream",
     "text": [
      "Candy Stripes Dissemble DISSEMBLE\n",
      "Candy Stripes Dissemble CANDY STRIPES\n"
     ]
    },
    {
     "name": "stderr",
     "output_type": "stream",
     "text": [
      " 87%|████████▋ | 500/575 [1:00:08<16:38, 13.31s/it]"
     ]
    },
    {
     "name": "stdout",
     "output_type": "stream",
     "text": [
      "Nureyev Far Across NUREYEV\n"
     ]
    },
    {
     "name": "stderr",
     "output_type": "stream",
     "text": [
      " 87%|████████▋ | 501/575 [1:00:18<15:02, 12.20s/it]"
     ]
    },
    {
     "name": "stdout",
     "output_type": "stream",
     "text": [
      "Lost World Bouchra BOUCHRA\n",
      "Lost World Bouchra LOST WORLD\n"
     ]
    },
    {
     "name": "stderr",
     "output_type": "stream",
     "text": [
      " 87%|████████▋ | 502/575 [1:00:28<14:13, 11.69s/it]"
     ]
    },
    {
     "name": "stdout",
     "output_type": "stream",
     "text": [
      "Rahy Fantastic Look RAHY\n"
     ]
    },
    {
     "name": "stderr",
     "output_type": "stream",
     "text": [
      " 87%|████████▋ | 503/575 [1:00:39<13:36, 11.34s/it]"
     ]
    },
    {
     "name": "stdout",
     "output_type": "stream",
     "text": [
      "Starborough Maid Of Honor MAID OF HONOR\n",
      "Starborough Maid Of Honor STARBOROUGH\n"
     ]
    },
    {
     "name": "stderr",
     "output_type": "stream",
     "text": [
      " 88%|████████▊ | 504/575 [1:00:50<13:30, 11.42s/it]"
     ]
    },
    {
     "name": "stdout",
     "output_type": "stream",
     "text": [
      "Solar One Lashing Waves LASHING WAVES\n",
      "Solar One Lashing Waves SOLAR ONE\n"
     ]
    },
    {
     "name": "stderr",
     "output_type": "stream",
     "text": [
      " 88%|████████▊ | 505/575 [1:01:01<13:09, 11.28s/it]"
     ]
    },
    {
     "name": "stdout",
     "output_type": "stream",
     "text": [
      "Calling Collect Marathelie MARATHELIE\n",
      "Calling Collect Marathelie CALLING COLLECT\n"
     ]
    },
    {
     "name": "stderr",
     "output_type": "stream",
     "text": [
      " 88%|████████▊ | 506/575 [1:01:11<12:20, 10.73s/it]"
     ]
    },
    {
     "name": "stdout",
     "output_type": "stream",
     "text": [
      "Danehill/Marlene-D DANEHILL\n"
     ]
    },
    {
     "name": "stderr",
     "output_type": "stream",
     "text": [
      " 88%|████████▊ | 507/575 [1:01:20<11:45, 10.38s/it]"
     ]
    },
    {
     "name": "stdout",
     "output_type": "stream",
     "text": [
      "Marchand De Sable Lady Harisson LADY HARISSON\n",
      "Marchand De Sable Lady Harisson MARCHAND DE SABLE\n"
     ]
    },
    {
     "name": "stderr",
     "output_type": "stream",
     "text": [
      " 88%|████████▊ | 508/575 [1:01:30<11:21, 10.17s/it]"
     ]
    },
    {
     "name": "stdout",
     "output_type": "stream",
     "text": [
      "Monsun La Lyra LA LYRA\n",
      "Monsun La Lyra MONSUN\n"
     ]
    },
    {
     "name": "stderr",
     "output_type": "stream",
     "text": [
      " 89%|████████▊ | 509/575 [1:01:40<11:01, 10.03s/it]"
     ]
    },
    {
     "name": "stdout",
     "output_type": "stream",
     "text": [
      "Cadeaux Genereux Red Rabbit RED RABBIT\n",
      "Cadeaux Genereux Red Rabbit CADEAUX GENEREUX\n"
     ]
    },
    {
     "name": "stderr",
     "output_type": "stream",
     "text": [
      " 89%|████████▊ | 510/575 [1:01:49<10:43,  9.90s/it]"
     ]
    },
    {
     "name": "stdout",
     "output_type": "stream",
     "text": [
      "Montjeu Millennium Dash DASH\n",
      "Montjeu Millennium Dash MONTJEU\n"
     ]
    },
    {
     "name": "stderr",
     "output_type": "stream",
     "text": [
      " 89%|████████▉ | 511/575 [1:02:00<10:43, 10.06s/it]"
     ]
    },
    {
     "name": "stdout",
     "output_type": "stream",
     "text": [
      "Hernando La Dolores LA DOLORES\n",
      "Hernando La Dolores HERNANDO\n"
     ]
    },
    {
     "name": "stderr",
     "output_type": "stream",
     "text": [
      " 89%|████████▉ | 512/575 [1:02:09<10:22,  9.88s/it]"
     ]
    },
    {
     "name": "stdout",
     "output_type": "stream",
     "text": [
      "Rainbow Reef Zayana Rose ZAYANA ROSE\n",
      "Rainbow Reef Zayana Rose RAINBOW REEF\n"
     ]
    },
    {
     "name": "stderr",
     "output_type": "stream",
     "text": [
      " 89%|████████▉ | 513/575 [1:02:19<10:07,  9.81s/it]"
     ]
    },
    {
     "name": "stdout",
     "output_type": "stream",
     "text": [
      "Vaguely Pleasant Vitrolles VITROLLES\n",
      "Vaguely Pleasant Vitrolles VAGUELY PLEASANT\n"
     ]
    },
    {
     "name": "stderr",
     "output_type": "stream",
     "text": [
      " 89%|████████▉ | 514/575 [1:02:28<09:47,  9.64s/it]"
     ]
    },
    {
     "name": "stdout",
     "output_type": "stream",
     "text": [
      "Johan Cruyff - Fireglow - Fireglow FIREGLOW\n",
      "Johan Cruyff - Fireglow - Fireglow JOHAN CRUYFF\n"
     ]
    },
    {
     "name": "stderr",
     "output_type": "stream",
     "text": [
      " 90%|████████▉ | 515/575 [1:02:38<09:33,  9.55s/it]"
     ]
    },
    {
     "name": "stdout",
     "output_type": "stream",
     "text": [
      "Le Balafre La Lauter LA LAUTER\n",
      "Le Balafre La Lauter LE BALAFRE\n"
     ]
    },
    {
     "name": "stderr",
     "output_type": "stream",
     "text": [
      " 90%|████████▉ | 516/575 [1:02:47<09:26,  9.60s/it]"
     ]
    },
    {
     "name": "stdout",
     "output_type": "stream",
     "text": [
      "Anabaa Value For Money VALUE FOR MONEY\n",
      "Anabaa Value For Money ANABAA\n"
     ]
    },
    {
     "name": "stderr",
     "output_type": "stream",
     "text": [
      " 90%|████████▉ | 517/575 [1:02:57<09:17,  9.61s/it]"
     ]
    },
    {
     "name": "stdout",
     "output_type": "stream",
     "text": [
      "Celtic Swing Miss Germany MISS GERMANY\n",
      "Celtic Swing Miss Germany CELTIC SWING\n"
     ]
    },
    {
     "name": "stderr",
     "output_type": "stream",
     "text": [
      " 90%|█████████ | 518/575 [1:03:06<09:05,  9.56s/it]"
     ]
    },
    {
     "name": "stdout",
     "output_type": "stream",
     "text": [
      "Red Ransom Zarkiya RED RANSOM\n"
     ]
    },
    {
     "name": "stderr",
     "output_type": "stream",
     "text": [
      " 90%|█████████ | 519/575 [1:03:16<08:50,  9.47s/it]"
     ]
    },
    {
     "name": "stdout",
     "output_type": "stream",
     "text": [
      "Village Jasper/Lc-Judy Pat VILLAGE JASPER\n"
     ]
    },
    {
     "name": "stderr",
     "output_type": "stream",
     "text": [
      " 90%|█████████ | 520/575 [1:03:25<08:40,  9.46s/it]"
     ]
    },
    {
     "name": "stdout",
     "output_type": "stream",
     "text": [
      "Anshan-Glory-glory ANSHAN\n"
     ]
    },
    {
     "name": "stderr",
     "output_type": "stream",
     "text": [
      " 91%|█████████ | 521/575 [1:03:34<08:30,  9.45s/it]"
     ]
    },
    {
     "name": "stdout",
     "output_type": "stream",
     "text": [
      "Overbury Four Thyme OVERBURY\n"
     ]
    },
    {
     "name": "stderr",
     "output_type": "stream",
     "text": [
      " 91%|█████████ | 522/575 [1:03:44<08:19,  9.42s/it]"
     ]
    },
    {
     "name": "stdout",
     "output_type": "stream",
     "text": [
      "B.w.t.magic* (FI)-Rose-mary Aspen (FI) B.W.T.MAGIC*\n"
     ]
    },
    {
     "name": "stderr",
     "output_type": "stream",
     "text": [
      " 91%|█████████ | 523/575 [1:03:53<08:05,  9.34s/it]"
     ]
    },
    {
     "name": "stdout",
     "output_type": "stream",
     "text": [
      "Keos La Combattante LA COMBATTANTE\n",
      "Keos La Combattante KEOS\n"
     ]
    },
    {
     "name": "stderr",
     "output_type": "stream",
     "text": [
      " 91%|█████████ | 524/575 [1:04:02<07:55,  9.33s/it]"
     ]
    },
    {
     "name": "stdout",
     "output_type": "stream",
     "text": [
      "River Smile Longway LONGWAY\n",
      "River Smile Longway RIVER SMILE\n"
     ]
    },
    {
     "name": "stderr",
     "output_type": "stream",
     "text": [
      " 91%|█████████▏| 525/575 [1:04:13<08:02,  9.65s/it]"
     ]
    },
    {
     "name": "stdout",
     "output_type": "stream",
     "text": [
      "Lute Antique First Union LUTE ANTIQUE\n"
     ]
    },
    {
     "name": "stderr",
     "output_type": "stream",
     "text": [
      " 91%|█████████▏| 526/575 [1:04:23<07:57,  9.75s/it]"
     ]
    },
    {
     "name": "stdout",
     "output_type": "stream",
     "text": [
      "Le Triton Sol Y Luz SOL Y LUZ\n",
      "Le Triton Sol Y Luz LE TRITON\n"
     ]
    },
    {
     "name": "stderr",
     "output_type": "stream",
     "text": [
      " 92%|█████████▏| 527/575 [1:04:32<07:46,  9.72s/it]"
     ]
    },
    {
     "name": "stdout",
     "output_type": "stream",
     "text": [
      "Polar Falcon Aim For The Top TOP\n",
      "Polar Falcon Aim For The Top POLAR FALCON\n"
     ]
    },
    {
     "name": "stderr",
     "output_type": "stream",
     "text": [
      " 92%|█████████▏| 528/575 [1:04:42<07:32,  9.63s/it]"
     ]
    },
    {
     "name": "stdout",
     "output_type": "stream",
     "text": [
      "Sunday Silence Kitten Tricks SUNDAY SILENCE\n"
     ]
    },
    {
     "name": "stderr",
     "output_type": "stream",
     "text": [
      " 92%|█████████▏| 529/575 [1:04:51<07:19,  9.55s/it]"
     ]
    },
    {
     "name": "stdout",
     "output_type": "stream",
     "text": [
      "Lomitas Saas Fee SAAS FEE\n",
      "Lomitas Saas Fee LOMITAS\n"
     ]
    },
    {
     "name": "stderr",
     "output_type": "stream",
     "text": [
      " 92%|█████████▏| 530/575 [1:05:01<07:11,  9.58s/it]"
     ]
    },
    {
     "name": "stdout",
     "output_type": "stream",
     "text": [
      "Botanic Lady Parker LADY PARKER\n",
      "Botanic Lady Parker BOTANIC\n"
     ]
    },
    {
     "name": "stderr",
     "output_type": "stream",
     "text": [
      " 92%|█████████▏| 531/575 [1:05:10<06:58,  9.50s/it]"
     ]
    },
    {
     "name": "stdout",
     "output_type": "stream",
     "text": [
      "Bateau Rouge Sara Bouna SARA BOUNA\n",
      "Bateau Rouge Sara Bouna BATEAU ROUGE\n"
     ]
    },
    {
     "name": "stderr",
     "output_type": "stream",
     "text": [
      " 93%|█████████▎| 532/575 [1:05:19<06:47,  9.47s/it]"
     ]
    },
    {
     "name": "stdout",
     "output_type": "stream",
     "text": [
      "Humool - LA-SAYIDA HUMOOL\n"
     ]
    },
    {
     "name": "stderr",
     "output_type": "stream",
     "text": [
      " 93%|█████████▎| 533/575 [1:05:29<06:41,  9.57s/it]"
     ]
    },
    {
     "name": "stdout",
     "output_type": "stream",
     "text": [
      "Passing Sale Reine Des Plages REINE DES PLAGES\n",
      "Passing Sale Reine Des Plages PASSING SALE\n"
     ]
    },
    {
     "name": "stderr",
     "output_type": "stream",
     "text": [
      " 93%|█████████▎| 534/575 [1:05:41<06:58, 10.20s/it]"
     ]
    },
    {
     "name": "stdout",
     "output_type": "stream",
     "text": [
      "Double Bed Northern Place NORTHERN PLACE\n",
      "Double Bed Northern Place DOUBLE BED\n"
     ]
    },
    {
     "name": "stderr",
     "output_type": "stream",
     "text": [
      " 93%|█████████▎| 535/575 [1:05:52<06:57, 10.43s/it]"
     ]
    },
    {
     "name": "stdout",
     "output_type": "stream",
     "text": [
      "Sadler's Wells Borgia BORGIA\n",
      "Sadler's Wells Borgia SADLER'S WELLS\n"
     ]
    },
    {
     "name": "stderr",
     "output_type": "stream",
     "text": [
      " 93%|█████████▎| 536/575 [1:06:02<06:43, 10.35s/it]"
     ]
    },
    {
     "name": "stdout",
     "output_type": "stream",
     "text": [
      "Giant's Causeway Astorg ASTORG\n",
      "Giant's Causeway Astorg GIANT\\'S CAUSEWAY\n"
     ]
    },
    {
     "name": "stderr",
     "output_type": "stream",
     "text": [
      " 93%|█████████▎| 537/575 [1:06:12<06:28, 10.21s/it]"
     ]
    },
    {
     "name": "stdout",
     "output_type": "stream",
     "text": [
      "Michel Georges Ecossaise II ECOSSAISE II\n",
      "Michel Georges Ecossaise II MICHEL GEORGES\n"
     ]
    },
    {
     "name": "stderr",
     "output_type": "stream",
     "text": [
      " 94%|█████████▎| 539/575 [1:06:32<06:04, 10.12s/it]"
     ]
    },
    {
     "name": "stdout",
     "output_type": "stream",
     "text": [
      "Sillery La Bucaille LA BUCAILLE\n",
      "Sillery La Bucaille SILLERY\n"
     ]
    },
    {
     "name": "stderr",
     "output_type": "stream",
     "text": [
      " 94%|█████████▍| 540/575 [1:06:42<05:55, 10.15s/it]"
     ]
    },
    {
     "name": "stdout",
     "output_type": "stream",
     "text": [
      "Unfuwain Ard Na Sighe UNFUWAIN\n"
     ]
    },
    {
     "name": "stderr",
     "output_type": "stream",
     "text": [
      " 94%|█████████▍| 541/575 [1:06:52<05:42, 10.07s/it]"
     ]
    },
    {
     "name": "stdout",
     "output_type": "stream",
     "text": [
      "Tel Quel Cerigo CERIGO\n",
      "Tel Quel Cerigo TEL QUEL\n"
     ]
    },
    {
     "name": "stderr",
     "output_type": "stream",
     "text": [
      " 94%|█████████▍| 542/575 [1:07:02<05:28,  9.97s/it]"
     ]
    },
    {
     "name": "stdout",
     "output_type": "stream",
     "text": [
      "Real Artist-D/Na's Hope REAL ARTIST\n"
     ]
    },
    {
     "name": "stderr",
     "output_type": "stream",
     "text": [
      " 94%|█████████▍| 543/575 [1:07:11<05:12,  9.78s/it]"
     ]
    },
    {
     "name": "stdout",
     "output_type": "stream",
     "text": [
      "Apple Tree L'Apparition L'APPARITION\n",
      "Apple Tree L'Apparition APPLE TREE\n"
     ]
    },
    {
     "name": "stderr",
     "output_type": "stream",
     "text": [
      " 95%|█████████▍| 544/575 [1:07:21<04:58,  9.64s/it]"
     ]
    },
    {
     "name": "stdout",
     "output_type": "stream",
     "text": [
      "Mendocino Juliet Story JULIET STORY\n",
      "Mendocino Juliet Story MENDOCINO\n"
     ]
    },
    {
     "name": "stderr",
     "output_type": "stream",
     "text": [
      " 95%|█████████▍| 545/575 [1:07:30<04:49,  9.65s/it]"
     ]
    },
    {
     "name": "stdout",
     "output_type": "stream",
     "text": [
      "Desert Style Silver Echo ECHO\n",
      "Desert Style Silver Echo DESERT STYLE\n"
     ]
    },
    {
     "name": "stderr",
     "output_type": "stream",
     "text": [
      " 95%|█████████▍| 546/575 [1:07:40<04:42,  9.74s/it]"
     ]
    },
    {
     "name": "stdout",
     "output_type": "stream",
     "text": [
      "Grand Lodge Tresor Russe TRESOR RUSSE\n",
      "Grand Lodge Tresor Russe GRAND LODGE\n"
     ]
    },
    {
     "name": "stderr",
     "output_type": "stream",
     "text": [
      " 95%|█████████▌| 547/575 [1:07:50<04:32,  9.74s/it]"
     ]
    },
    {
     "name": "stdout",
     "output_type": "stream",
     "text": [
      "Chef De Clan Antoniola ANTONIOLA\n",
      "Chef De Clan Antoniola CHEF DE CLAN\n"
     ]
    },
    {
     "name": "stderr",
     "output_type": "stream",
     "text": [
      " 95%|█████████▌| 548/575 [1:08:00<04:22,  9.72s/it]"
     ]
    },
    {
     "name": "stdout",
     "output_type": "stream",
     "text": [
      "Silver Hawk Isla Del Rey SILVER HAWK\n"
     ]
    },
    {
     "name": "stderr",
     "output_type": "stream",
     "text": [
      " 95%|█████████▌| 549/575 [1:08:09<04:10,  9.62s/it]"
     ]
    },
    {
     "name": "stdout",
     "output_type": "stream",
     "text": [
      "Blackfriars (AUS) - Caitie-eb (AUS) BLACKFRIARS\n"
     ]
    },
    {
     "name": "stderr",
     "output_type": "stream",
     "text": [
      " 96%|█████████▌| 550/575 [1:08:18<03:58,  9.55s/it]"
     ]
    },
    {
     "name": "stdout",
     "output_type": "stream",
     "text": [
      "Sunday Silence Oenothera SUNDAY SILENCE\n"
     ]
    },
    {
     "name": "stderr",
     "output_type": "stream",
     "text": [
      " 96%|█████████▌| 551/575 [1:08:28<03:49,  9.58s/it]"
     ]
    },
    {
     "name": "stdout",
     "output_type": "stream",
     "text": [
      "Hernando Love Letters LOVE LETTERS\n",
      "Hernando Love Letters HERNANDO\n"
     ]
    },
    {
     "name": "stderr",
     "output_type": "stream",
     "text": [
      " 96%|█████████▌| 552/575 [1:08:38<03:41,  9.64s/it]"
     ]
    },
    {
     "name": "stdout",
     "output_type": "stream",
     "text": [
      "Highest Honor Newness NEWNESS\n",
      "Highest Honor Newness HIGHEST HONOR\n"
     ]
    },
    {
     "name": "stderr",
     "output_type": "stream",
     "text": [
      " 96%|█████████▌| 553/575 [1:08:48<03:36,  9.86s/it]"
     ]
    },
    {
     "name": "stdout",
     "output_type": "stream",
     "text": [
      "Green Tune Advantage ADVANTAGE\n",
      "Green Tune Advantage GREEN TUNE\n"
     ]
    },
    {
     "name": "stderr",
     "output_type": "stream",
     "text": [
      " 96%|█████████▋| 554/575 [1:08:58<03:26,  9.82s/it]"
     ]
    },
    {
     "name": "stdout",
     "output_type": "stream",
     "text": [
      "Pistolet Bleu Violet Desir VIOLET DESIR\n",
      "Pistolet Bleu Violet Desir PISTOLET BLEU\n"
     ]
    },
    {
     "name": "stderr",
     "output_type": "stream",
     "text": [
      " 97%|█████████▋| 555/575 [1:09:08<03:16,  9.80s/it]"
     ]
    },
    {
     "name": "stdout",
     "output_type": "stream",
     "text": [
      "Barathea Grecian Bride GRECIAN BRIDE\n",
      "Barathea Grecian Bride BARATHEA\n"
     ]
    },
    {
     "name": "stderr",
     "output_type": "stream",
     "text": [
      " 97%|█████████▋| 556/575 [1:09:17<03:05,  9.77s/it]"
     ]
    },
    {
     "name": "stdout",
     "output_type": "stream",
     "text": [
      "Two Punch Avie's Lady TWO PUNCH\n"
     ]
    },
    {
     "name": "stderr",
     "output_type": "stream",
     "text": [
      " 97%|█████████▋| 557/575 [1:09:27<02:55,  9.78s/it]"
     ]
    },
    {
     "name": "stdout",
     "output_type": "stream",
     "text": [
      "Urban Ocean Passe Du Diable PASSE DU DIABLE\n",
      "Urban Ocean Passe Du Diable URBAN OCEAN\n"
     ]
    },
    {
     "name": "stderr",
     "output_type": "stream",
     "text": [
      " 97%|█████████▋| 558/575 [1:09:36<02:43,  9.61s/it]"
     ]
    },
    {
     "name": "stdout",
     "output_type": "stream",
     "text": [
      "Sagamix Come Along COME ALONG\n",
      "Sagamix Come Along SAGAMIX\n"
     ]
    },
    {
     "name": "stderr",
     "output_type": "stream",
     "text": [
      " 97%|█████████▋| 559/575 [1:09:46<02:33,  9.58s/it]"
     ]
    },
    {
     "name": "stdout",
     "output_type": "stream",
     "text": [
      "Bahamian Bounty Star STAR\n",
      "Bahamian Bounty Star BAHAMIAN BOUNTY\n"
     ]
    },
    {
     "name": "stderr",
     "output_type": "stream",
     "text": [
      " 97%|█████████▋| 560/575 [1:09:55<02:22,  9.51s/it]"
     ]
    },
    {
     "name": "stdout",
     "output_type": "stream",
     "text": [
      "Robellino Isadora Duncan ISADORA DUNCAN\n",
      "Robellino Isadora Duncan ROBELLINO\n"
     ]
    },
    {
     "name": "stderr",
     "output_type": "stream",
     "text": [
      " 98%|█████████▊| 561/575 [1:10:05<02:13,  9.52s/it]"
     ]
    },
    {
     "name": "stdout",
     "output_type": "stream",
     "text": [
      "Dom Alco Elegie De Valtat ELEGIE DE VALTAT\n",
      "Dom Alco Elegie De Valtat DOM ALCO\n"
     ]
    },
    {
     "name": "stderr",
     "output_type": "stream",
     "text": [
      " 98%|█████████▊| 562/575 [1:10:15<02:06,  9.73s/it]"
     ]
    },
    {
     "name": "stdout",
     "output_type": "stream",
     "text": [
      "Alzao-Ela-aristokratissa ALZAO\n"
     ]
    },
    {
     "name": "stderr",
     "output_type": "stream",
     "text": [
      " 98%|█████████▊| 563/575 [1:10:26<02:01, 10.17s/it]"
     ]
    },
    {
     "name": "stdout",
     "output_type": "stream",
     "text": [
      "Desert Prince Raincloud RAINCLOUD\n",
      "Desert Prince Raincloud DESERT PRINCE\n"
     ]
    },
    {
     "name": "stderr",
     "output_type": "stream",
     "text": [
      " 98%|█████████▊| 564/575 [1:10:36<01:49,  9.95s/it]"
     ]
    },
    {
     "name": "stdout",
     "output_type": "stream",
     "text": [
      "Waky Nao Katharina KATHARINA\n",
      "Waky Nao Katharina WAKY NAO\n"
     ]
    },
    {
     "name": "stderr",
     "output_type": "stream",
     "text": [
      " 98%|█████████▊| 565/575 [1:10:45<01:38,  9.80s/it]"
     ]
    },
    {
     "name": "stdout",
     "output_type": "stream",
     "text": [
      "Hernando Atlantic Blue ATLANTIC BLUE\n",
      "Hernando Atlantic Blue HERNANDO\n"
     ]
    },
    {
     "name": "stderr",
     "output_type": "stream",
     "text": [
      " 98%|█████████▊| 566/575 [1:10:55<01:27,  9.71s/it]"
     ]
    },
    {
     "name": "stdout",
     "output_type": "stream",
     "text": [
      "Desert King Moonsilk DESERT KING\n"
     ]
    },
    {
     "name": "stderr",
     "output_type": "stream",
     "text": [
      " 99%|█████████▊| 567/575 [1:11:04<01:18,  9.75s/it]"
     ]
    },
    {
     "name": "stdout",
     "output_type": "stream",
     "text": [
      "Double Bed Anatoxine ANATOXINE\n",
      "Double Bed Anatoxine DOUBLE BED\n"
     ]
    },
    {
     "name": "stderr",
     "output_type": "stream",
     "text": [
      " 99%|█████████▉| 568/575 [1:11:14<01:07,  9.70s/it]"
     ]
    },
    {
     "name": "stdout",
     "output_type": "stream",
     "text": [
      "Go Between Birsheba BIRSHEBA\n"
     ]
    },
    {
     "name": "stderr",
     "output_type": "stream",
     "text": [
      " 99%|█████████▉| 569/575 [1:11:25<01:00, 10.09s/it]"
     ]
    },
    {
     "name": "stdout",
     "output_type": "stream",
     "text": [
      "Nashwan Regal Opinion REGAL OPINION\n",
      "Nashwan Regal Opinion NASHWAN\n"
     ]
    },
    {
     "name": "stderr",
     "output_type": "stream",
     "text": [
      " 99%|█████████▉| 570/575 [1:11:35<00:50, 10.02s/it]"
     ]
    },
    {
     "name": "stdout",
     "output_type": "stream",
     "text": [
      "El Prado Sweet As Honey HONEY\n",
      "El Prado Sweet As Honey EL PRADO\n"
     ]
    },
    {
     "name": "stderr",
     "output_type": "stream",
     "text": [
      " 99%|█████████▉| 571/575 [1:11:45<00:40, 10.14s/it]"
     ]
    },
    {
     "name": "stdout",
     "output_type": "stream",
     "text": [
      "Dixie Union Ryn RYN\n",
      "Dixie Union Ryn DIXIE UNION\n"
     ]
    },
    {
     "name": "stderr",
     "output_type": "stream",
     "text": [
      " 99%|█████████▉| 572/575 [1:11:55<00:29,  9.96s/it]"
     ]
    },
    {
     "name": "stdout",
     "output_type": "stream",
     "text": [
      "Elusive Quality Time For Jazz TIME FOR JAZZ\n",
      "Elusive Quality Time For Jazz ELUSIVE QUALITY\n"
     ]
    },
    {
     "name": "stderr",
     "output_type": "stream",
     "text": [
      "100%|█████████▉| 573/575 [1:12:04<00:19,  9.88s/it]"
     ]
    },
    {
     "name": "stdout",
     "output_type": "stream",
     "text": [
      "Murmure Blade Des Garennes BLADE DES GARENNES\n",
      "Murmure Blade Des Garennes MURMURE\n"
     ]
    },
    {
     "name": "stderr",
     "output_type": "stream",
     "text": [
      "100%|█████████▉| 574/575 [1:12:14<00:09,  9.76s/it]"
     ]
    },
    {
     "name": "stdout",
     "output_type": "stream",
     "text": [
      "Perrault Clyde Des Mottes CLYDE DES MOTTES\n",
      "Perrault Clyde Des Mottes PERRAULT\n"
     ]
    },
    {
     "name": "stderr",
     "output_type": "stream",
     "text": [
      "100%|██████████| 575/575 [1:12:23<00:00,  7.55s/it]"
     ]
    },
    {
     "name": "stdout",
     "output_type": "stream",
     "text": [
      "Kingmambo Legend Maker LEGEND MAKER\n"
     ]
    },
    {
     "name": "stderr",
     "output_type": "stream",
     "text": [
      "\n"
     ]
    }
   ],
   "source": [
    "# Trying to find existing horse_name in parent_names\n",
    "\n",
    "parent_name_mapping ={}\n",
    "for parent_name in tqdm.tqdm(not_understood_parent_names, total=len(not_understood_parent_names)):\n",
    "    matching_mother_names =[]\n",
    "    matching_father_names=[]\n",
    "    for horse_name in horse_names:\n",
    "        if \"(\" in horse_name:\n",
    "            continue\n",
    "        if re.search(fr\"\\b{horse_name.upper()}$\", parent_name.upper()):\n",
    "            matching_mother_names.append(horse_name)\n",
    "        if re.search(fr\"^{horse_name.upper()}\\b\", parent_name.upper()):\n",
    "            matching_father_names.append(horse_name)\n",
    "    matched_mother_name = None\n",
    "    if matching_mother_names:\n",
    "        matched_mother_name=max(matching_mother_names, key=len)\n",
    "    matched_father_name =None\n",
    "    if matching_father_names:\n",
    "        matching_father_names= max(matching_father_names, key=len)\n",
    "        \n",
    "    if (len(matched_mother_name or \"\") + len(matching_father_names or \"\"))>=len(parent_name):\n",
    "        print(f\"Error with {parent_names}\")\n",
    "        continue\n",
    "    if matched_mother_name and matched_father_name:\n",
    "        \n",
    "        continue\n",
    "        \n",
    "    if matched_mother_name and matched_father_name is None:\n",
    "        \n"
   ]
  },
  {
   "cell_type": "code",
   "execution_count": 22,
   "metadata": {},
   "outputs": [],
   "source": [
    "with create_sqlalchemy_session() as db_session:\n",
    "    horse=db_session.query(Horse).filter(Horse.name==\"SARLIYA\").one()"
   ]
  },
  {
   "cell_type": "code",
   "execution_count": 24,
   "metadata": {},
   "outputs": [
    {
     "data": {
      "text/plain": [
       "False"
      ]
     },
     "execution_count": 24,
     "metadata": {},
     "output_type": "execute_result"
    }
   ],
   "source": [
    "horse.is_born_male"
   ]
  },
  {
   "cell_type": "code",
   "execution_count": null,
   "metadata": {},
   "outputs": [],
   "source": [
    "# Looking at ngram"
   ]
  },
  {
   "cell_type": "code",
   "execution_count": 28,
   "metadata": {},
   "outputs": [
    {
     "ename": "ModuleNotFoundError",
     "evalue": "No module named 'nltk'",
     "output_type": "error",
     "traceback": [
      "\u001b[0;31m---------------------------------------------------------------------------\u001b[0m",
      "\u001b[0;31mModuleNotFoundError\u001b[0m                       Traceback (most recent call last)",
      "\u001b[0;32m<ipython-input-28-ab9a0399ac30>\u001b[0m in \u001b[0;36m<module>\u001b[0;34m\u001b[0m\n\u001b[1;32m      1\u001b[0m \u001b[0;32mfrom\u001b[0m \u001b[0mcollections\u001b[0m \u001b[0;32mimport\u001b[0m \u001b[0mCounter\u001b[0m\u001b[0;34m\u001b[0m\u001b[0;34m\u001b[0m\u001b[0m\n\u001b[0;32m----> 2\u001b[0;31m \u001b[0;32mfrom\u001b[0m \u001b[0mnltk\u001b[0m \u001b[0;32mimport\u001b[0m \u001b[0mngrams\u001b[0m\u001b[0;34m\u001b[0m\u001b[0;34m\u001b[0m\u001b[0m\n\u001b[0m",
      "\u001b[0;31mModuleNotFoundError\u001b[0m: No module named 'nltk'"
     ]
    }
   ],
   "source": [
    "from collections import Counter"
   ]
  },
  {
   "cell_type": "code",
   "execution_count": 29,
   "metadata": {},
   "outputs": [],
   "source": [
    "# https://stackoverflow.com/questions/42373747/is-there-a-more-efficient-way-to-find-most-common-n-grams\n",
    "def ngrams(text, n=2):\n",
    "     return zip(*[text[i:] for i in range(n)])"
   ]
  },
  {
   "cell_type": "code",
   "execution_count": 48,
   "metadata": {},
   "outputs": [
    {
     "name": "stderr",
     "output_type": "stream",
     "text": [
      "100%|██████████| 526/526 [00:00<00:00, 133555.54it/s]\n",
      "100%|██████████| 526/526 [00:00<00:00, 90281.29it/s]\n",
      "100%|██████████| 526/526 [00:00<00:00, 142768.65it/s]\n",
      "100%|██████████| 526/526 [00:00<00:00, 132967.93it/s]\n",
      "100%|██████████| 526/526 [00:00<00:00, 52621.38it/s]\n",
      "100%|██████████| 526/526 [00:00<00:00, 78959.38it/s]\n",
      "100%|██████████| 526/526 [00:00<00:00, 41309.26it/s]"
     ]
    },
    {
     "name": "stdout",
     "output_type": "stream",
     "text": [
      "10 0\n",
      "9 0\n",
      "8 0\n",
      "7 1\n",
      "6 1\n",
      "5 1\n",
      "4 2\n"
     ]
    },
    {
     "name": "stderr",
     "output_type": "stream",
     "text": [
      "\n"
     ]
    }
   ],
   "source": [
    "for N_GRAM in range(10,3,-1):\n",
    "    ngram_counts=Counter()\n",
    "    for parent_name in tqdm.tqdm(not_understood_parent_names,total=len(not_understood_parent_names)) :\n",
    "        ngram_counts += Counter(ngrams(parent_name.split(), N_GRAM))\n",
    "    print(N_GRAM, max(ngram_counts.values()) if ngram_counts else 0)\n",
    "\n",
    "    "
   ]
  },
  {
   "cell_type": "code",
   "execution_count": 49,
   "metadata": {},
   "outputs": [
    {
     "data": {
      "text/plain": [
       "[(('Marchand', 'De', 'Sable', 'Lady'), 2),\n",
       " (('Lute', 'Antique', 'Gold', 'Wind'), 1),\n",
       " (('Green', 'Desert', 'Princesse', 'Bilbao'), 1),\n",
       " (('De', 'Sable', 'Lady', 'Petronille'), 1),\n",
       " (('Solid', 'Illusion', 'Dark', 'Kay'), 1),\n",
       " (('Jeune', 'Homme', 'Little', 'Deep'), 1),\n",
       " (('Homme', 'Little', 'Deep', 'Water'), 1),\n",
       " (('Lord', 'Of', 'Men', 'Nimes'), 1),\n",
       " (('Linamix', 'Broad', 'And', 'High'), 1),\n",
       " (('Cricket', 'Ball', 'Maria', 'Star'), 1)]"
      ]
     },
     "execution_count": 49,
     "metadata": {},
     "output_type": "execute_result"
    }
   ],
   "source": [
    "ngram_counts.most_common(10)"
   ]
  },
  {
   "cell_type": "code",
   "execution_count": 12,
   "metadata": {},
   "outputs": [],
   "source": [
    "from collections import namedtuple\n",
    "from typing import List\n",
    "\n",
    "MusicEvent = namedtuple(\"MusicEvent\", [\"rank\", \"race_type\", \"year\"])\n",
    "\n",
    "\n",
    "def parse_unibet_music(current_year:int, ) ->List[MusicEvent]:\n",
    "\n",
    "    music_events:List[MusicEvent]=[]\n",
    "    events=re.findall(r\"(([ATRDN]|\\d)([a-z]))|(\\((\\d{1,2})\\))\", runner.music)\n",
    "    for event in events:\n",
    "        race_event, rank, race_type, _, year = event\n",
    "        if year:\n",
    "            assert not race_event\n",
    "            next_current_year = int(f'20{year}')\n",
    "            # We read music from left to right to go backward in time\n",
    "            assert next_current_year < current_year\n",
    "            current_year=next_current_year\n",
    "            continue\n",
    "        assert not year\n",
    "        music_events.append(MusicEvent(rank=rank, race_type=race_type, year=current_year))\n",
    "        \n",
    "    return music_events\n",
    "    "
   ]
  },
  {
   "cell_type": "code",
   "execution_count": 13,
   "metadata": {},
   "outputs": [
    {
     "ename": "NameError",
     "evalue": "name 'music_events' is not defined",
     "output_type": "error",
     "traceback": [
      "\u001b[0;31m\u001b[0m",
      "\u001b[0;31mNameError\u001b[0mTraceback (most recent call last)",
      "\u001b[0;32m<ipython-input-13-a654f15f46ff>\u001b[0m in \u001b[0;36m<module>\u001b[0;34m\u001b[0m\n\u001b[0;32m----> 1\u001b[0;31m \u001b[0mmusic_events\u001b[0m\u001b[0;34m\u001b[0m\u001b[0;34m\u001b[0m\u001b[0m\n\u001b[0m",
      "\u001b[0;31mNameError\u001b[0m: name 'music_events' is not defined"
     ]
    }
   ],
   "source": [
    "music_events"
   ]
  },
  {
   "cell_type": "code",
   "execution_count": null,
   "metadata": {},
   "outputs": [],
   "source": [
    "runner.music"
   ]
  },
  {
   "cell_type": "code",
   "execution_count": null,
   "metadata": {},
   "outputs": [],
   "source": [
    "race_type"
   ]
  },
  {
   "cell_type": "code",
   "execution_count": null,
   "metadata": {},
   "outputs": [],
   "source": [
    "_"
   ]
  },
  {
   "cell_type": "code",
   "execution_count": null,
   "metadata": {},
   "outputs": [],
   "source": [
    "year"
   ]
  },
  {
   "cell_type": "code",
   "execution_count": null,
   "metadata": {},
   "outputs": [],
   "source": [
    "race_type"
   ]
  },
  {
   "cell_type": "code",
   "execution_count": 1,
   "metadata": {},
   "outputs": [],
   "source": [
    "# Appendix"
   ]
  },
  {
   "cell_type": "code",
   "execution_count": 2,
   "metadata": {},
   "outputs": [
    {
     "name": "stderr",
     "output_type": "stream",
     "text": [
      "5660days [16:58,  5.56days/s]                        \n"
     ]
    }
   ],
   "source": [
    "import logging\n",
    "from collections import Counter\n",
    "import datetime as dt\n",
    "from typing import Optional, Generator\n",
    "from constants import UNIBET_MIN_DATE\n",
    "from tqdm import tqdm\n",
    "import os \n",
    "import json\n",
    "\n",
    "logger = logging.getLogger(__name__)\n",
    "UNIBET_DATA_PATH = \"./data/Unibet\"\n",
    "\n",
    "coats=Counter()\n",
    "coats_info = Counter()\n",
    "co_coats=Counter()\n",
    "def date_countdown_generator(\n",
    "    start_date: dt.date, end_date: Optional[dt.date]\n",
    ") -> Generator[dt.date, None, None]:\n",
    "    end_date = end_date or dt.date.today()\n",
    "    current_date = start_date\n",
    "    while current_date <= end_date:\n",
    "        yield current_date\n",
    "        current_date += dt.timedelta(days=1)\n",
    "        \n",
    "\n",
    "for date in tqdm(\n",
    "    date_countdown_generator(\n",
    "        start_date=UNIBET_MIN_DATE,\n",
    "        end_date=dt.date.today() - dt.timedelta(days=1),\n",
    "    ),\n",
    "    total=(dt.date.today() - dt.timedelta(days=1) - UNIBET_MIN_DATE).days,\n",
    "    unit=\"days\",\n",
    "):\n",
    "    if not date.isoformat() in os.listdir(UNIBET_DATA_PATH):\n",
    "        logger.info(\"Could not find folder for date: %s\", date.isoformat())\n",
    "        continue\n",
    "    day_folder_path = os.path.join(UNIBET_DATA_PATH, date.isoformat())\n",
    "    if \"programme.json\" not in os.listdir(day_folder_path):\n",
    "        logger.info(\n",
    "            \"Could not find programme.json for date: %s\", date.isoformat()\n",
    "        )\n",
    "        continue\n",
    "\n",
    "    with open(os.path.join(day_folder_path, \"programme.json\"), \"r\") as fp:\n",
    "        programme = json.load(fp=fp)\n",
    "    if \"data\" not in programme:\n",
    "        logger.info(\"Can not import programme of %s\", date.isoformat())\n",
    "        continue\n",
    "\n",
    "    horse_shows_dict = programme[\"data\"]\n",
    "    for horse_show_dict in horse_shows_dict:\n",
    "\n",
    "        if horse_show_dict.get(\"races\"):\n",
    "\n",
    "            for race_dict in horse_show_dict[\"races\"]:\n",
    "                race_path = os.path.join(\n",
    "                    day_folder_path,\n",
    "                    f\"R{horse_show_dict['rank']}_C\" f\"{race_dict['rank']}.json\",\n",
    "                )\n",
    "                with open(race_path, \"r\") as fp:\n",
    "                    complete_race_dict = json.load(fp=fp)\n",
    "\n",
    "                current_race_dict = complete_race_dict\n",
    "                if complete_race_dict.get(\"note\") == \"server error, no json\":\n",
    "                    # Can not use complete_race\n",
    "                    current_race_dict = race_dict\n",
    "\n",
    "                for runner_dict in current_race_dict[\"runners\"]:\n",
    "                    coat=runner_dict[\"details\"].get(\"coat\") if runner_dict.get(\"details\") else None\n",
    "                    coats[coat]+=1\n",
    "                    \n",
    "                    runner_statistics_path = os.path.join(\n",
    "                                day_folder_path,\n",
    "                                f\"R{horse_show_dict['rank']}_\"\n",
    "                                f\"C{race_dict['rank']}_\"\n",
    "                                f\"RN{runner_dict['rank']}.json\",\n",
    "                            )\n",
    "                    with open(runner_statistics_path, \"r\") as fp:\n",
    "                        runner_stats = json.load(fp=fp)\n",
    "                        \n",
    "                    runner_stats_info: Optional[dict] = runner_stats.get(\"fiche\", {}).get(\"infos_generales\")\n",
    "                    coat_info=runner_stats_info.get(\"robe\") if runner_stats_info else None\n",
    "                    coats_info[coat_info]+=1\n",
    "                    \n",
    "                    co_coats[(coat, coat_info)]+=1"
   ]
  },
  {
   "cell_type": "code",
   "execution_count": 3,
   "metadata": {
    "scrolled": true
   },
   "outputs": [
    {
     "data": {
      "text/plain": [
       "Counter({'GR': 6809,\n",
       "         'B. Fonce': 189960,\n",
       "         'AL': 12396,\n",
       "         'B': 33435,\n",
       "         'BF': 6965,\n",
       "         'B.': 1385065,\n",
       "         'Al.': 475192,\n",
       "         'Noi.P': 3342,\n",
       "         'Noir': 114033,\n",
       "         'Al. B': 823,\n",
       "         'Bb.': 4774,\n",
       "         'B. Fo': 5158,\n",
       "         '': 379327,\n",
       "         'B. Clair': 5836,\n",
       "         'Al. Fonce': 6189,\n",
       "         'Noi.Pan': 683,\n",
       "         'BB': 4370,\n",
       "         'Gr.': 91924,\n",
       "         'RO': 292,\n",
       "         'AB': 986,\n",
       "         'AC': 48,\n",
       "         'BC': 128,\n",
       "         'GF': 291,\n",
       "         'NO': 438,\n",
       "         'B. Ce': 22,\n",
       "         'Al. F': 438,\n",
       "         None: 3579,\n",
       "         'Bb. Fonce': 326,\n",
       "         'Bb. F': 216,\n",
       "         'Al. Brule': 244,\n",
       "         'Al. Cuivre': 23,\n",
       "         'Al. C': 151,\n",
       "         'Bay': 414,\n",
       "         'AF': 452,\n",
       "         'Rouan': 2530,\n",
       "         'B. Rubican': 36580,\n",
       "         'Al. Rub.': 47,\n",
       "         'Brown': 15152,\n",
       "         'B. Fonc': 20,\n",
       "         'BM': 79,\n",
       "         'Al. Cr.Lav': 25,\n",
       "         'Al': 10,\n",
       "         'AM': 50,\n",
       "         'Chestnut': 98,\n",
       "         'B. Cl': 253,\n",
       "         'B. Foncé': 503,\n",
       "         'AR': 13,\n",
       "         'Al. Aub.': 9,\n",
       "         'Louve': 15,\n",
       "         'Al. R': 54,\n",
       "         'Aub.': 14,\n",
       "         'AU': 58,\n",
       "         'bai': 1,\n",
       "         'Choco': 31,\n",
       "         'Black': 67,\n",
       "         'BR': 20,\n",
       "         'Bai P': 8,\n",
       "         'G.': 3,\n",
       "         'B. B.': 3,\n",
       "         'Bai': 3,\n",
       "         'B. Cerise': 2,\n",
       "         'Chocolat': 4,\n",
       "         'bb.': 6,\n",
       "         'B.b': 269,\n",
       "         'AL.': 1,\n",
       "         'Gray': 50,\n",
       "         'Noi.': 1,\n",
       "         'ALZ': 1,\n",
       "         'BBF': 2,\n",
       "         'N': 1,\n",
       "         'N.': 2,\n",
       "         'R.': 1,\n",
       "         'Bf.': 2,\n",
       "         'SM': 1,\n",
       "         'B. Ru': 4,\n",
       "         'Bb. Foncé': 3,\n",
       "         'B.Foncé': 1,\n",
       "         '4': 1,\n",
       "         'B.d': 3,\n",
       "         ' B.': 1,\n",
       "         ' Al.': 5,\n",
       "         'Ro.': 3,\n",
       "         'B.b.': 2,\n",
       "         'Palomino': 5,\n",
       "         'Al. Clair': 1})"
      ]
     },
     "execution_count": 3,
     "metadata": {},
     "output_type": "execute_result"
    }
   ],
   "source": [
    "coats"
   ]
  },
  {
   "cell_type": "code",
   "execution_count": 4,
   "metadata": {
    "scrolled": true
   },
   "outputs": [
    {
     "data": {
      "text/plain": [
       "Counter({'GR': 21926,\n",
       "         'BF': 20836,\n",
       "         'AL': 34468,\n",
       "         'B': 109000,\n",
       "         None: 207618,\n",
       "         'Al.': 26889,\n",
       "         'B.': 464628,\n",
       "         'B. Fo': 13078,\n",
       "         'B. FONCE': 53073,\n",
       "         'Noi.P': 8486,\n",
       "         'Noir': 3410,\n",
       "         'B. FO': 7343,\n",
       "         'Al. B': 1984,\n",
       "         'Bb.': 1829,\n",
       "         'Bb. F': 996,\n",
       "         'B. Cl': 582,\n",
       "         'B. Ru': 55,\n",
       "         'AL.': 264221,\n",
       "         'NOI.P': 5957,\n",
       "         'Al. F': 793,\n",
       "         'NOI.PAN': 70887,\n",
       "         'BB': 13196,\n",
       "         'RO': 1098,\n",
       "         'AB': 2725,\n",
       "         'Bai': 54056,\n",
       "         'AC': 96,\n",
       "         'NO': 1163,\n",
       "         'B. Ce': 44,\n",
       "         'NOIR': 17009,\n",
       "         'Al. C': 416,\n",
       "         'B. CLAIR': 1767,\n",
       "         'BC': 512,\n",
       "         'AF': 777,\n",
       "         'GF': 976,\n",
       "         'Gr': 5251,\n",
       "         'Al': 18952,\n",
       "         'B. CR': 725,\n",
       "         'Al. R': 166,\n",
       "         '': 905897,\n",
       "         'Gr.': 202,\n",
       "         'Rouan': 68,\n",
       "         'b': 24293,\n",
       "         'AM': 162,\n",
       "         'AL. F': 648,\n",
       "         'AR': 13,\n",
       "         'AL. B': 873,\n",
       "         'BB.': 190,\n",
       "         'Al. A': 8,\n",
       "         'AT': 21,\n",
       "         'Louve': 14,\n",
       "         'Brown': 1666,\n",
       "         'BM': 273,\n",
       "         'BR': 6258,\n",
       "         'Aub.': 44,\n",
       "         'AU': 98,\n",
       "         'Choco': 45,\n",
       "         'AL. FONCE': 6393,\n",
       "         'CHOCOLAT': 241,\n",
       "         'AL. BRULE': 16100,\n",
       "         'Bai P': 8,\n",
       "         'AL. P': 75,\n",
       "         'B. CL': 268,\n",
       "         'BB. F': 178,\n",
       "         'CHOCO': 69,\n",
       "         'Bl': 43,\n",
       "         'BB. FONCE': 552,\n",
       "         'GC': 42,\n",
       "         'ch': 204,\n",
       "         'AUB.': 161,\n",
       "         1998: 3,\n",
       "         'SM': 1,\n",
       "         'AL. C': 80,\n",
       "         'BAI': 324178,\n",
       "         'AL. CR.LAV': 1252,\n",
       "         'ROUAN': 698,\n",
       "         'br': 1122,\n",
       "         'gr': 855,\n",
       "         'A.': 14,\n",
       "         'PALOMINO': 40,\n",
       "         'S': 2030,\n",
       "         'Bai M': 10,\n",
       "         'BRF': 926,\n",
       "         'AA': 2,\n",
       "         'bo': 4,\n",
       "         'b/br': 114,\n",
       "         'GR.': 137,\n",
       "         'ro': 11,\n",
       "         'bai': 7,\n",
       "         's': 2,\n",
       "         'BAI FONCE': 44947,\n",
       "         'AL.MELANGE': 34,\n",
       "         'Gris': 8,\n",
       "         'AL. CU': 644,\n",
       "         'BAI B': 4,\n",
       "         'GR. F': 1,\n",
       "         'BBF': 870,\n",
       "         'N': 722,\n",
       "         'Bay': 14,\n",
       "         'BAI CLAIR': 2492,\n",
       "         'bbr': 5,\n",
       "         'MO': 37,\n",
       "         'ALZ': 2603,\n",
       "         'BAI CR': 973,\n",
       "         'bay': 1545,\n",
       "         'AL. PIE': 6,\n",
       "         'G': 132,\n",
       "         'brown': 390,\n",
       "         'chestnut': 407,\n",
       "         'BAYBROWN': 25,\n",
       "         'grey-brown': 20,\n",
       "         'grey': 105,\n",
       "         'AUBERE': 41,\n",
       "         'BAY': 236,\n",
       "         'marron': 1,\n",
       "         'BAI PIE': 20,\n",
       "         'b/gr': 2,\n",
       "         'BAI.': 71,\n",
       "         'AL.MEL.': 78,\n",
       "         'White': 1,\n",
       "         'GREY': 25,\n",
       "         'ISABELLE': 50,\n",
       "         'black': 14,\n",
       "         'CHESTNUT': 49,\n",
       "         'br/gr': 3,\n",
       "         'RG': 62,\n",
       "         'T': 62,\n",
       "         'BG': 3,\n",
       "         'dkb/br': 1,\n",
       "         'grey-chest': 4,\n",
       "         'grey-blk': 8,\n",
       "         'GREYROAN': 2,\n",
       "         'BLANC': 10,\n",
       "         'dkb': 2,\n",
       "         'bl/br': 3,\n",
       "         'GRIS': 21,\n",
       "         'Bai C': 2,\n",
       "         'B/BR': 1,\n",
       "         'GB': 1,\n",
       "         'BROWNGREY': 1,\n",
       "         'grey-bay': 8})"
      ]
     },
     "execution_count": 4,
     "metadata": {},
     "output_type": "execute_result"
    }
   ],
   "source": [
    "coats_info"
   ]
  },
  {
   "cell_type": "code",
   "execution_count": 5,
   "metadata": {
    "scrolled": true
   },
   "outputs": [
    {
     "data": {
      "text/plain": [
       "Counter({('GR', 'GR'): 5958,\n",
       "         ('B. Fonce', 'BF'): 14024,\n",
       "         ('AL', 'AL'): 10809,\n",
       "         ('B', 'B'): 29005,\n",
       "         ('BF', 'BF'): 6208,\n",
       "         ('B.', 'B'): 76700,\n",
       "         ('B', None): 4171,\n",
       "         ('Al.', 'Al.'): 26601,\n",
       "         ('B.', 'B.'): 461073,\n",
       "         ('Al.', 'B.'): 106,\n",
       "         ('AL', 'B. Fo'): 24,\n",
       "         ('B. Fonce', 'B. FONCE'): 52374,\n",
       "         ('Noi.P', 'Noi.P'): 3203,\n",
       "         ('Noir', 'Noir'): 3275,\n",
       "         ('B. Fonce', 'B. FO'): 7204,\n",
       "         ('Al. B', 'Al. B'): 772,\n",
       "         ('Bb.', 'Bb.'): 1410,\n",
       "         ('B. Fo', 'B. Fo'): 4873,\n",
       "         ('Bb.', 'Bb. F'): 46,\n",
       "         ('B.', None): 92134,\n",
       "         ('', 'B.'): 2213,\n",
       "         ('B. Fonce', 'B. Fo'): 7766,\n",
       "         ('B. Clair', 'B. Cl'): 64,\n",
       "         ('', 'B. Ru'): 18,\n",
       "         ('Al.', 'AL.'): 263288,\n",
       "         ('Noir', 'NOI.P'): 5909,\n",
       "         ('Noir', 'Noi.P'): 4566,\n",
       "         ('Al. Fonce', 'Al. F'): 54,\n",
       "         ('Noi.Pan', 'Noi.P'): 650,\n",
       "         ('Noir', 'NOI.PAN'): 70597,\n",
       "         ('BB', 'BB'): 3773,\n",
       "         ('Gr.', 'GR'): 15271,\n",
       "         ('Al.', 'AL'): 22713,\n",
       "         ('RO', 'RO'): 251,\n",
       "         ('AL', None): 1426,\n",
       "         ('', 'GR'): 262,\n",
       "         ('AB', 'AB'): 888,\n",
       "         ('GR', None): 783,\n",
       "         ('B.', 'Bai'): 48354,\n",
       "         ('BB', None): 549,\n",
       "         ('AC', 'AC'): 40,\n",
       "         ('Noir', 'NO'): 754,\n",
       "         ('', None): 41348,\n",
       "         ('B.', 'Bb.'): 367,\n",
       "         ('Al.', None): 28857,\n",
       "         ('BF', None): 695,\n",
       "         ('B. Fonce', None): 14496,\n",
       "         ('Gr.', None): 9602,\n",
       "         ('BC', None): 10,\n",
       "         ('GF', None): 30,\n",
       "         ('NO', None): 36,\n",
       "         ('Gr.', 'Al.'): 35,\n",
       "         ('B. Ce', 'B. Ce'): 22,\n",
       "         ('Noir', 'NOIR'): 16917,\n",
       "         ('Al. F', 'Al. F'): 429,\n",
       "         ('Al.', 'Al. B'): 974,\n",
       "         (None, 'B.'): 1112,\n",
       "         (None, 'B. Cl'): 1,\n",
       "         (None, 'Noi.P'): 5,\n",
       "         (None, 'B. FO'): 1,\n",
       "         (None, 'Al.'): 6,\n",
       "         ('B. Fo', None): 207,\n",
       "         ('Bb. Fonce', 'Bb. F'): 293,\n",
       "         ('Bb. F', 'Bb. F'): 200,\n",
       "         ('Al. Brule', 'Al. B'): 236,\n",
       "         ('Al. Cuivre', None): 3,\n",
       "         ('Noi.Pan', None): 29,\n",
       "         ('Al. C', 'Al. C'): 146,\n",
       "         ('', 'B. CLAIR'): 530,\n",
       "         ('AB', None): 85,\n",
       "         ('Bay', 'B'): 356,\n",
       "         ('B.', 'AL'): 292,\n",
       "         ('', 'BC'): 361,\n",
       "         ('', 'AF'): 294,\n",
       "         ('NO', 'NO'): 394,\n",
       "         ('B.', 'BB'): 8697,\n",
       "         ('', 'BF'): 203,\n",
       "         ('AF', 'AF'): 405,\n",
       "         ('AF', 'B.'): 2,\n",
       "         ('BC', 'BC'): 118,\n",
       "         ('GF', 'GF'): 260,\n",
       "         ('GR', 'Gr'): 10,\n",
       "         ('Rouan', 'RO'): 795,\n",
       "         ('Al.', 'Al'): 17214,\n",
       "         ('Al.', 'NO'): 7,\n",
       "         ('', 'AL'): 343,\n",
       "         ('Noir', None): 3536,\n",
       "         ('B.', 'B. CR'): 721,\n",
       "         ('', 'B. Fo'): 207,\n",
       "         ('B. Rubican', 'B. Ru'): 33,\n",
       "         ('Gr.', 'GF'): 702,\n",
       "         ('B.', 'BF'): 192,\n",
       "         ('Bb.', 'BF'): 13,\n",
       "         ('Al. Rub.', 'Al. R'): 46,\n",
       "         ('AC', None): 8,\n",
       "         ('Bb.', None): 3184,\n",
       "         ('Brown', None): 1520,\n",
       "         ('Bay', None): 37,\n",
       "         ('B. Fonc', 'B. Fo'): 20,\n",
       "         ('Al.', 'Al. R'): 46,\n",
       "         ('Noi.P', 'NOI.P'): 40,\n",
       "         ('Al.', ''): 88650,\n",
       "         ('', 'Al. F'): 296,\n",
       "         ('Bb.', 'GR'): 3,\n",
       "         ('Al.', 'AB'): 1773,\n",
       "         ('Al.', 'BB'): 62,\n",
       "         ('', 'Bb. F'): 33,\n",
       "         ('', 'Gr.'): 2,\n",
       "         ('B. Fonce', 'Bb. F'): 418,\n",
       "         ('Bb.', 'B'): 20,\n",
       "         ('AF', None): 36,\n",
       "         ('Al.', 'B'): 510,\n",
       "         ('Gr.', 'Gr.'): 200,\n",
       "         ('B.', 'GR'): 161,\n",
       "         ('B', 'AL'): 37,\n",
       "         ('AL', 'B'): 44,\n",
       "         ('', 'B. Cl'): 235,\n",
       "         ('Rouan', 'Rouan'): 68,\n",
       "         ('B. Fonce', 'Bb.'): 17,\n",
       "         ('BM', 'GR'): 7,\n",
       "         ('BB', 'Noir'): 10,\n",
       "         ('B.', 'b'): 23583,\n",
       "         ('Al. Cuivre', 'Al. C'): 20,\n",
       "         ('Al. Cr.Lav', 'Al. C'): 25,\n",
       "         ('Gr.', 'Gr'): 4638,\n",
       "         ('Bb.', 'BB'): 26,\n",
       "         ('Al', None): 8,\n",
       "         ('AM', 'AM'): 33,\n",
       "         ('B.', 'Al.'): 59,\n",
       "         ('Chestnut', 'AF'): 4,\n",
       "         ('', 'B'): 1382,\n",
       "         ('Bb.', 'AL'): 3,\n",
       "         ('', 'BB'): 155,\n",
       "         ('B. Cl', 'B. Cl'): 238,\n",
       "         ('B.', ''): 345137,\n",
       "         (None, 'B. Fo'): 5,\n",
       "         ('', 'AL. F'): 647,\n",
       "         ('', 'Al.'): 150,\n",
       "         ('B. Foncé', 'BF'): 13,\n",
       "         ('Al.', 'Al. F'): 13,\n",
       "         ('Al.', 'Al. C'): 30,\n",
       "         ('AR', 'AR'): 13,\n",
       "         ('', 'Noi.P'): 47,\n",
       "         ('Al.', 'AL. B'): 866,\n",
       "         ('Al.', 'BF'): 34,\n",
       "         ('B. Fonce', 'GR'): 34,\n",
       "         ('B.', 'BB.'): 180,\n",
       "         ('Bb. Fonce', ''): 8,\n",
       "         ('Rouan', None): 182,\n",
       "         ('Al.', 'GR'): 88,\n",
       "         ('Bay', 'BC'): 20,\n",
       "         ('', 'Noir'): 86,\n",
       "         ('Al. Aub.', 'Al. A'): 8,\n",
       "         ('Noi.P', None): 95,\n",
       "         ('Al.', 'AT'): 21,\n",
       "         ('Louve', 'Louve'): 14,\n",
       "         ('B. Fonce', 'Brown'): 175,\n",
       "         (None, 'AL.'): 462,\n",
       "         ('B.', 'B. Fo'): 100,\n",
       "         ('BF', 'b'): 15,\n",
       "         ('BM', 'BM'): 60,\n",
       "         ('B. Fonce', ''): 53097,\n",
       "         ('B. Rubican', 'BR'): 5905,\n",
       "         ('Al. R', 'Al. R'): 52,\n",
       "         ('Aub.', 'Aub.'): 14,\n",
       "         ('Al.', 'AF'): 4,\n",
       "         ('Al.', 'Aub.'): 30,\n",
       "         ('B.', 'RO'): 12,\n",
       "         ('Al. Fonce', None): 201,\n",
       "         ('AU', 'AU'): 53,\n",
       "         ('Al.', 'AM'): 128,\n",
       "         ('B', 'B. Cl'): 22,\n",
       "         ('Brown', 'BB'): 122,\n",
       "         ('GR', 'Al.'): 19,\n",
       "         ('Al. Brule', None): 8,\n",
       "         ('B.', 'B. Cl'): 14,\n",
       "         ('bai', None): 1,\n",
       "         ('B. Cl', None): 13,\n",
       "         ('Choco', 'Choco'): 30,\n",
       "         ('Gr.', 'AL'): 68,\n",
       "         ('Chestnut', None): 5,\n",
       "         ('B', 'Al.'): 13,\n",
       "         ('', 'AL. FONCE'): 1154,\n",
       "         ('Brown', 'CHOCOLAT'): 241,\n",
       "         ('Black', 'BF'): 64,\n",
       "         ('B. Fo', 'B'): 2,\n",
       "         ('AL', 'Al'): 54,\n",
       "         ('BR', 'BR'): 16,\n",
       "         ('', 'AC'): 49,\n",
       "         ('Al.', 'AL. BRULE'): 16030,\n",
       "         ('', 'Bb.'): 32,\n",
       "         ('B', 'Bai'): 75,\n",
       "         ('Al. B', None): 42,\n",
       "         ('AL', 'Bb.'): 3,\n",
       "         ('AU', None): 5,\n",
       "         ('RO', None): 40,\n",
       "         ('B. Foncé', None): 411,\n",
       "         ('Bb. Fonce', None): 25,\n",
       "         ('Bai P', 'Bai P'): 8,\n",
       "         ('Brown', 'GR'): 3,\n",
       "         ('B. Fo', 'BF'): 5,\n",
       "         ('Al.', 'AL. P'): 74,\n",
       "         ('', ''): 311406,\n",
       "         ('B. Fo', ''): 55,\n",
       "         ('B. Foncé', 'B. Fo'): 75,\n",
       "         ('B. Fonce', 'AL'): 40,\n",
       "         ('AM', None): 11,\n",
       "         ('Al.', 'B. Fo'): 4,\n",
       "         ('BM', None): 12,\n",
       "         ('BF', 'Al.'): 2,\n",
       "         ('B. Foncé', 'BB'): 1,\n",
       "         ('Al. F', None): 9,\n",
       "         ('Chestnut', 'AL'): 81,\n",
       "         ('B. Clair', None): 187,\n",
       "         ('Al. Rub.', None): 1,\n",
       "         ('', 'B. CL'): 268,\n",
       "         ('G.', None): 3,\n",
       "         ('Bb. F', None): 14,\n",
       "         ('BF', ''): 6,\n",
       "         ('', 'Al. R'): 22,\n",
       "         ('B. B.', None): 3,\n",
       "         ('B.', 'Bb. F'): 4,\n",
       "         ('Noir', 'B'): 14,\n",
       "         ('NO', 'GR'): 7,\n",
       "         ('Bai', None): 1,\n",
       "         ('B', 'AB'): 5,\n",
       "         ('B.', 'Noir'): 38,\n",
       "         ('BR', None): 4,\n",
       "         ('B. Cerise', 'B. Ce'): 2,\n",
       "         ('', 'Bai'): 4867,\n",
       "         ('', 'BB.'): 8,\n",
       "         ('Bai', ''): 2,\n",
       "         ('Bb.', ''): 53,\n",
       "         ('Gr.', ''): 59543,\n",
       "         ('Chocolat', 'Choco'): 4,\n",
       "         ('Noi.Pan', 'NOI.P'): 4,\n",
       "         ('B. Fonce', 'BB. F'): 129,\n",
       "         ('B. Fo', 'B. FO'): 11,\n",
       "         ('B. Fonce', 'B.'): 59,\n",
       "         ('', 'BB. F'): 47,\n",
       "         ('B.', 'BM'): 205,\n",
       "         ('B.', 'Noi.P'): 4,\n",
       "         ('B. Fo', 'B.'): 2,\n",
       "         ('', 'B. FO'): 119,\n",
       "         ('bb.', None): 6,\n",
       "         ('Brown', 'CHOCO'): 68,\n",
       "         ('B. Rubican', None): 3145,\n",
       "         ('Al. R', None): 2,\n",
       "         ('B.b', None): 264,\n",
       "         ('', 'B. FONCE'): 470,\n",
       "         ('Brown', 'Choco'): 11,\n",
       "         ('AL.', None): 1,\n",
       "         ('B. Fonce', 'Bai'): 346,\n",
       "         ('B. Cl', ''): 1,\n",
       "         ('Gray', 'GR'): 40,\n",
       "         ('B', 'GR'): 21,\n",
       "         ('Gr.', 'Bl'): 12,\n",
       "         ('', 'BB. FONCE'): 76,\n",
       "         ('Al. C', None): 5,\n",
       "         ('Gray', None): 4,\n",
       "         ('B. Fonce', 'BB'): 91,\n",
       "         ('', 'Al. C'): 195,\n",
       "         ('B. Cl', 'B'): 1,\n",
       "         ('Gr.', 'GC'): 42,\n",
       "         ('B. Fonce', 'B'): 349,\n",
       "         ('Noir', ''): 7338,\n",
       "         ('', 'NOIR'): 41,\n",
       "         ('B', ''): 59,\n",
       "         ('Al. Aub.', None): 1,\n",
       "         ('B.', 'B. Ce'): 20,\n",
       "         ('B. Fonce', 'BB. FONCE'): 462,\n",
       "         ('Noi.', None): 1,\n",
       "         ('Al.', 'AU'): 36,\n",
       "         ('Gray', 'GF'): 4,\n",
       "         ('BF', 'GR'): 8,\n",
       "         ('B.', 'BC'): 2,\n",
       "         ('Al. B', 'BB'): 4,\n",
       "         ('Bb.', 'B. Cl'): 4,\n",
       "         ('B.', 'AL.'): 215,\n",
       "         ('ALZ', None): 1,\n",
       "         ('BBF', None): 2,\n",
       "         ('N', None): 1,\n",
       "         ('AL', 'ch'): 7,\n",
       "         ('Rouan', 'GR'): 9,\n",
       "         ('', 'AL.'): 237,\n",
       "         ('B.', 'BB. FONCE'): 12,\n",
       "         ('Louve', None): 1,\n",
       "         ('AF', 'Noi.P'): 9,\n",
       "         ('', 'NO'): 5,\n",
       "         ('Al', 'AL'): 2,\n",
       "         ('N.', None): 2,\n",
       "         ('Brown', 'B'): 19,\n",
       "         ('R.', None): 1,\n",
       "         ('Al.', 'AUB.'): 161,\n",
       "         ('B.', 'Al. F'): 1,\n",
       "         ('Bb.', 'Noi.P'): 1,\n",
       "         ('Bf.', None): 2,\n",
       "         ('B. Fonce', 'Al.'): 3,\n",
       "         ('', 1998): 3,\n",
       "         ('BB', ''): 8,\n",
       "         ('AM', 'AU'): 6,\n",
       "         ('B.', 'BR'): 214,\n",
       "         ('SM', 'SM'): 1,\n",
       "         ('Al. Fonce', 'AL. FONCE'): 5224,\n",
       "         ('Al.', 'B. Cl'): 3,\n",
       "         ('GR', 'BF'): 5,\n",
       "         ('AL', 'BF'): 4,\n",
       "         ('GR', 'AL'): 13,\n",
       "         ('BB', 'AL'): 4,\n",
       "         ('AB', 'AF'): 1,\n",
       "         ('BF', 'B'): 18,\n",
       "         ('BB', 'B'): 19,\n",
       "         ('BB', 'GR'): 4,\n",
       "         ('BB', 'AF'): 1,\n",
       "         ('Gr.', 'B'): 308,\n",
       "         ('B.', 'AB'): 5,\n",
       "         ('B', 'BF'): 17,\n",
       "         ('AL', 'GR'): 7,\n",
       "         ('BF', 'AL'): 5,\n",
       "         ('BF', 'NO'): 1,\n",
       "         ('GR', 'AB'): 1,\n",
       "         ('AB', 'BB'): 2,\n",
       "         ('GR', 'B'): 10,\n",
       "         ('AL', 'BB'): 3,\n",
       "         ('B', 'BB'): 9,\n",
       "         ('GR', 'BB'): 3,\n",
       "         ('Gr.', 'BF'): 14,\n",
       "         ('Gray', 'B'): 2,\n",
       "         ('Brown', 'RO'): 1,\n",
       "         ('Gr.', 'BB'): 23,\n",
       "         ('Bay', 'GR'): 1,\n",
       "         ('B', 'GF'): 1,\n",
       "         ('NO', 'BF'): 1,\n",
       "         ('GR', 'RO'): 1,\n",
       "         ('GF', 'B'): 1,\n",
       "         ('Al.', 'AL. C'): 78,\n",
       "         ('B. Ru', 'B. Ru'): 4,\n",
       "         ('Al. B', 'AL. B'): 2,\n",
       "         ('B.', 'Al. B'): 2,\n",
       "         ('Bb. Foncé', None): 3,\n",
       "         ('B.', 'BAI'): 323655,\n",
       "         ('Al.', 'AL. CR.LAV'): 1237,\n",
       "         ('Black', None): 3,\n",
       "         ('B.Foncé', None): 1,\n",
       "         ('AB', 'GR'): 3,\n",
       "         ('Al.', 'Bai'): 234,\n",
       "         ('B.', 'Al'): 225,\n",
       "         ('Bb.', 'B. Fo'): 4,\n",
       "         ('Rouan', 'ROUAN'): 685,\n",
       "         ('Choco', None): 1,\n",
       "         ('', 'AB'): 22,\n",
       "         ('', 'Al'): 1271,\n",
       "         ('Al.', 'ch'): 73,\n",
       "         ('B.', 'Brown'): 195,\n",
       "         ('Gr.', 'Bai'): 61,\n",
       "         ('B. Foncé', 'B'): 1,\n",
       "         ('Bb.', 'Bl'): 1,\n",
       "         ('BB', 'Bai'): 1,\n",
       "         ('Noi.P', 'B.'): 3,\n",
       "         ('Al.', 'BB. FONCE'): 1,\n",
       "         ('', 'NOI.P'): 1,\n",
       "         ('B. Fonce', 'AL.'): 9,\n",
       "         ('Noir', 'B.'): 27,\n",
       "         ('B.', 'AL. P'): 1,\n",
       "         ('Noir', 'B. FONCE'): 2,\n",
       "         ('Al.', 'NOI.PAN'): 8,\n",
       "         ('Al. B', 'B.'): 1,\n",
       "         ('Al.', 'B. FO'): 3,\n",
       "         ('Al.', 'NOI.P'): 1,\n",
       "         ('B.', 'B. FONCE'): 31,\n",
       "         ('B.', 'NOI.PAN'): 38,\n",
       "         ('Noir', 'B. FO'): 1,\n",
       "         ('B. Fo', 'AL.'): 2,\n",
       "         ('Al.', 'Noir'): 1,\n",
       "         ('Noi.P', 'Al.'): 1,\n",
       "         ('B. Fo', 'NOI.PAN'): 1,\n",
       "         ('Chestnut', 'AC'): 7,\n",
       "         ('Bb.', 'Al'): 1,\n",
       "         ('AL', ''): 13,\n",
       "         ('GR', ''): 6,\n",
       "         ('BF', 'Bl'): 1,\n",
       "         ('B.', 'br'): 119,\n",
       "         ('Brown', ''): 11642,\n",
       "         ('Bb.', 'B. FO'): 2,\n",
       "         ('Noir', 'AL.'): 4,\n",
       "         ('B.', 'NOIR'): 9,\n",
       "         ('B.', 'gr'): 14,\n",
       "         ('', 'A.'): 4,\n",
       "         ('B. Fonce', 'CHOCO'): 1,\n",
       "         ('', 'PALOMINO'): 38,\n",
       "         ('B.b', ''): 4,\n",
       "         ('Bb.', 'Bai'): 1,\n",
       "         ('4', ''): 1,\n",
       "         ('Al.', 'S'): 1684,\n",
       "         ('AB', ''): 5,\n",
       "         ('Bb.', 'ch'): 1,\n",
       "         ('Bb.', 'b'): 1,\n",
       "         ('Brown', 'Bai'): 19,\n",
       "         ('B. Rubican', 'AB'): 20,\n",
       "         ('BF', 'Bai'): 6,\n",
       "         ('B. Foncé', ''): 1,\n",
       "         ('B.b', 'B'): 1,\n",
       "         ('Rouan', 'B'): 6,\n",
       "         ('B.d', None): 3,\n",
       "         ('B. Rubican', ''): 25440,\n",
       "         ('B. Foncé', 'GR'): 1,\n",
       "         ('RO', 'B'): 1,\n",
       "         ('B.', 'GF'): 3,\n",
       "         ('Chestnut', 'B'): 1,\n",
       "         ('', 'BR'): 90,\n",
       "         ('', 'Bai M'): 10,\n",
       "         ('B. Fonce', 'AB'): 2,\n",
       "         ('BB', 'BF'): 1,\n",
       "         ('Brown', 'BF'): 2,\n",
       "         ('Al.', 'RO'): 2,\n",
       "         ('Al.', 'B. FONCE'): 11,\n",
       "         (' B.', None): 1,\n",
       "         (' Al.', None): 5,\n",
       "         ('AL', 'AB'): 1,\n",
       "         ('AB', 'AL'): 1,\n",
       "         ('AB', 'B'): 1,\n",
       "         ('Al.', 'Noi.P'): 1,\n",
       "         ('Al. B', ''): 2,\n",
       "         ('Ro.', None): 3,\n",
       "         ('Al. Fonce', 'AF'): 66,\n",
       "         ('B.', 'BRF'): 24,\n",
       "         ('', 'BM'): 7,\n",
       "         ('', 'b'): 614,\n",
       "         ('', 'Brown'): 448,\n",
       "         ('Bb. F', 'BB. F'): 2,\n",
       "         ('B.b.', None): 2,\n",
       "         ('B.', 'AL. F'): 1,\n",
       "         ('B. Fonce', 'BRF'): 768,\n",
       "         ('AL', 'Brown'): 1,\n",
       "         ('B.', 'ch'): 11,\n",
       "         ('Gr.', 'Brown'): 5,\n",
       "         ('B.', 'Gr'): 93,\n",
       "         ('', 'Gr'): 457,\n",
       "         ('', 'GF'): 6,\n",
       "         ('B. Clair', 'B. CLAIR'): 1191,\n",
       "         ('B. Clair', 'BC'): 11,\n",
       "         ('B.', 'AL. BRULE'): 27,\n",
       "         ('Gr.', 'Al'): 13,\n",
       "         ('Al.', 'b'): 54,\n",
       "         ('Al.', 'br'): 2,\n",
       "         ('Al.', 'Brown'): 6,\n",
       "         ('B. Fonce', 'AL. B'): 1,\n",
       "         ('Brown', 'Brown'): 453,\n",
       "         ('', 'AA'): 2,\n",
       "         ('', 'RO'): 2,\n",
       "         ('B. Rubican', 'B'): 59,\n",
       "         ('Noir', 'AL'): 1,\n",
       "         ('Noir', 'BF'): 2,\n",
       "         ('B.', 'NO'): 1,\n",
       "         ('Gr.', 'AU'): 1,\n",
       "         ('', 'AU'): 1,\n",
       "         ('B. Fonce', 'AU'): 1,\n",
       "         ('B. Fonce', 'AF'): 1,\n",
       "         ('Gr.', 'b'): 15,\n",
       "         ('', 'gr'): 34,\n",
       "         ('Brown', 'AL'): 1,\n",
       "         ('Brown', 'Al'): 161,\n",
       "         ('B. Rubican', 'Brown'): 377,\n",
       "         ('Brown', 'b'): 1,\n",
       "         ('B. Rubican', 'Al'): 8,\n",
       "         ('Al.', 'Gr'): 22,\n",
       "         ('B.', 'S'): 22,\n",
       "         ('', 'bo'): 3,\n",
       "         ('', 'br'): 50,\n",
       "         ('', 'ch'): 111,\n",
       "         ('', 'S'): 76,\n",
       "         ('', 'b/br'): 86,\n",
       "         ('B. Fonce', 'Al'): 2,\n",
       "         ('B.', 'B. FO'): 2,\n",
       "         ('Gr.', 'gr'): 806,\n",
       "         ('Gr.', 'GR.'): 137,\n",
       "         ('', 'BRF'): 123,\n",
       "         ('Noir', 'Bai'): 8,\n",
       "         ('Al.', 'NOIR'): 3,\n",
       "         ('B.', 'NOI.P'): 2,\n",
       "         ('', 'AL. C'): 2,\n",
       "         ('Al.', 'bo'): 1,\n",
       "         ('B. Rubican', 'Bai'): 60,\n",
       "         ('', 'Bl'): 3,\n",
       "         ('', 'ro'): 1,\n",
       "         ('Rouan', ''): 738,\n",
       "         ('B.', 'ROUAN'): 10,\n",
       "         ('B.', 'bai'): 7,\n",
       "         ('Rouan', 'Gr'): 9,\n",
       "         ('', 's'): 2,\n",
       "         ('B. Rubican', 'BB'): 130,\n",
       "         ('', 'AL. B'): 4,\n",
       "         ('Noir', 'Gr'): 9,\n",
       "         ('B. Fonce', 'BAI FONCE'): 37732,\n",
       "         ('B. Rubican', 'br'): 902,\n",
       "         ('Al.', 'AL.MELANGE'): 34,\n",
       "         ('', 'Gris'): 8,\n",
       "         ('', 'AL. CU'): 279,\n",
       "         ('B.', 'BAI B'): 4,\n",
       "         ('B. Clair', ''): 961,\n",
       "         ('Brown', 'B. FONCE'): 1,\n",
       "         ('B. Fonce', 'b'): 3,\n",
       "         ('', 'GR. F'): 1,\n",
       "         ('', 'BAI FONCE'): 6813,\n",
       "         ('B. Fonce', 'Gr'): 7,\n",
       "         ('', 'NOI.PAN'): 106,\n",
       "         ('Al.', 'B. CLAIR'): 40,\n",
       "         ('', 'BBF'): 450,\n",
       "         ('Gr.', 'BR'): 7,\n",
       "         ('B. Fonce', 'NOI.PAN'): 3,\n",
       "         ('B.', 'AL. FONCE'): 1,\n",
       "         ('Al.', 'AL. CU'): 365,\n",
       "         ('', 'ROUAN'): 3,\n",
       "         ('Al.', 'BAI FONCE'): 232,\n",
       "         ('B. Rubican', 'B.'): 29,\n",
       "         ('Noir', 'Brown'): 5,\n",
       "         ('Noir', 'N'): 722,\n",
       "         ('', 'Bay'): 14,\n",
       "         ('Brown', 'S'): 239,\n",
       "         ('Al. Fonce', ''): 619,\n",
       "         ('Al.', 'BR'): 14,\n",
       "         ('Gr.', 'BRF'): 2,\n",
       "         ('', 'AL. BRULE'): 12,\n",
       "         ('B. Clair', 'BAI CLAIR'): 2491,\n",
       "         ('', 'AL. CR.LAV'): 10,\n",
       "         ('B. Rubican', 'b'): 3,\n",
       "         ('Rouan', 'Bai'): 2,\n",
       "         ('B. Rubican', 'Gr'): 2,\n",
       "         ('', 'bbr'): 5,\n",
       "         ('Gr.', 'ch'): 1,\n",
       "         (None, ''): 1099,\n",
       "         (None, 'B'): 170,\n",
       "         (None, 'BB'): 16,\n",
       "         (None, 'BF'): 34,\n",
       "         (None, 'b'): 4,\n",
       "         (None, 'B. FONCE'): 182,\n",
       "         (None, 'NOIR'): 39,\n",
       "         (None, 'NOI.PAN'): 130,\n",
       "         (None, 'AL. FONCE'): 14,\n",
       "         (None, 'AL. CR.LAV'): 5,\n",
       "         (None, None): 93,\n",
       "         (None, 'B. CLAIR'): 6,\n",
       "         (None, 'Bai'): 22,\n",
       "         (None, 'AL'): 46,\n",
       "         (None, 'GR'): 35,\n",
       "         (None, 'AB'): 8,\n",
       "         (None, 'AM'): 1,\n",
       "         (None, 'Gr'): 4,\n",
       "         (None, 'BR'): 2,\n",
       "         (None, 'BAI'): 31,\n",
       "         (None, 'AL. BRULE'): 30,\n",
       "         (None, 'BB. FONCE'): 1,\n",
       "         (None, 'Al'): 3,\n",
       "         (None, 'br'): 1,\n",
       "         (None, 'AF'): 1,\n",
       "         (None, 'RO'): 1,\n",
       "         (None, 'BAI FONCE'): 2,\n",
       "         (None, 'BB.'): 2,\n",
       "         (None, 'B. CR'): 2,\n",
       "         (None, 'NO'): 1,\n",
       "         (None, 'BM'): 1,\n",
       "         (None, 'Brown'): 1,\n",
       "         ('Gr.', 'MO'): 21,\n",
       "         ('B.', 'b/br'): 19,\n",
       "         ('Gr.', 'br'): 3,\n",
       "         ('Al.', 'ALZ'): 2571,\n",
       "         ('Al.', 'b/br'): 2,\n",
       "         ('', 'BAI CR'): 53,\n",
       "         ('B. Fonce', 'BBF'): 266,\n",
       "         ('Al.', 'gr'): 1,\n",
       "         ('B. Fonce', 'BR'): 10,\n",
       "         ('Al.', 'A.'): 10,\n",
       "         ('B. Clair', 'BAI CR'): 920,\n",
       "         ('', 'BAI'): 92,\n",
       "         ('Rouan', 'Bl'): 18,\n",
       "         ('B.', 'bay'): 1528,\n",
       "         ('Al.', 'AL. PIE'): 6,\n",
       "         ('Gr.', 'G'): 125,\n",
       "         ('', 'brown'): 1,\n",
       "         ('B. Rubican', 'b/br'): 7,\n",
       "         ('B. Fonce', 'br'): 34,\n",
       "         ('Al.', 'BRF'): 2,\n",
       "         ('Al.', 'chestnut'): 56,\n",
       "         ('Noir', 'Bl'): 8,\n",
       "         ('B.', 'BAYBROWN'): 25,\n",
       "         ('B. Rubican', 'AL'): 9,\n",
       "         ('B. Rubican', 'BRF'): 7,\n",
       "         ('B. Rubican', 'GR'): 3,\n",
       "         ('B. Rubican', 'BAI'): 304,\n",
       "         ('B. Rubican', 'B. FONCE'): 2,\n",
       "         ('Al.', 'grey-brown'): 1,\n",
       "         ('B. Rubican', 'NOI.PAN'): 3,\n",
       "         ('B. Clair', 'NOI.PAN'): 1,\n",
       "         ('Noir', 'B. Cl'): 1,\n",
       "         ('Brown', 'chestnut'): 332,\n",
       "         ('Al.', 'BAI'): 51,\n",
       "         ('Palomino', ''): 2,\n",
       "         ('B.', 'BAI FONCE'): 104,\n",
       "         ('Noir', 'BAI'): 2,\n",
       "         ('Palomino', None): 1,\n",
       "         ('Gr.', 'AL.'): 1,\n",
       "         ('Gr.', 'B.'): 1,\n",
       "         ('Gr.', 'Bb. F'): 1,\n",
       "         ('Gr.', 'grey'): 92,\n",
       "         ('Brown', 'br'): 11,\n",
       "         ('', 'AUBERE'): 41,\n",
       "         ('Rouan', 'ro'): 10,\n",
       "         ('B. Fonce', 'B. CR'): 1,\n",
       "         ('B.', 'BAY'): 236,\n",
       "         ('', 'marron'): 1,\n",
       "         ('B.', 'BAI PIE'): 20,\n",
       "         ('Al.', 'B. CR'): 1,\n",
       "         ('Noir', 'Bb. F'): 1,\n",
       "         ('B. Rubican', 'AL.'): 3,\n",
       "         ('', 'b/gr'): 2,\n",
       "         ('B. Rubican', 'brown'): 59,\n",
       "         ('', 'chestnut'): 19,\n",
       "         ('B.', 'BAI.'): 71,\n",
       "         ('Gr.', 'S'): 8,\n",
       "         ('Noir', 'MO'): 6,\n",
       "         ('B. Rubican', 'bay'): 12,\n",
       "         ('Noir', 'BB'): 79,\n",
       "         ('Noir', 'BAI FONCE'): 20,\n",
       "         ('B. Rubican', 'BAI FONCE'): 44,\n",
       "         ('B. Fonce', 'BAI'): 33,\n",
       "         ('', 'AL.MEL.'): 78,\n",
       "         ('', 'White'): 1,\n",
       "         ('Gr.', 'GREY'): 25,\n",
       "         ('Noir', 'ISABELLE'): 50,\n",
       "         ('B.', 'black'): 2,\n",
       "         ('Al.', 'CHESTNUT'): 44,\n",
       "         ('Noir', 'BBF'): 137,\n",
       "         ('B.', 'MO'): 8,\n",
       "         ('Brown', 'brown'): 295,\n",
       "         ('B. Rubican', 'br/gr'): 2,\n",
       "         ('Noir', 'S'): 1,\n",
       "         ('Gr.', 'RG'): 53,\n",
       "         ('B.', 'brown'): 35,\n",
       "         ('Gr.', 'RO'): 4,\n",
       "         ('Noir', 'RO'): 28,\n",
       "         ('Al. Clair', ''): 1,\n",
       "         ('Al.', 'T'): 14,\n",
       "         ('Rouan', 'RG'): 8,\n",
       "         ('B. Rubican', 'BG'): 3,\n",
       "         ('Al. Fonce', 'ALZ'): 25,\n",
       "         ('', 'dkb/br'): 1,\n",
       "         ('', 'bay'): 5,\n",
       "         ('Gr.', 'grey-chest'): 4,\n",
       "         ('', 'MO'): 2,\n",
       "         ('B.', 'grey-blk'): 3,\n",
       "         ('Palomino', 'PALOMINO'): 2,\n",
       "         ('Gr.', 'GREYROAN'): 2,\n",
       "         ('B.', 'BBF'): 10,\n",
       "         ('B.', 'grey'): 5,\n",
       "         ('Brown', 'CHESTNUT'): 5,\n",
       "         ('', 'BLANC'): 10,\n",
       "         ('', 'BAI CLAIR'): 1,\n",
       "         ('B. Fonce', 'dkb'): 1,\n",
       "         ('B. Clair', 'BAI'): 10,\n",
       "         ('Gr.', 'grey-brown'): 19,\n",
       "         ('Noir', 'bl/br'): 3,\n",
       "         ('Noir', 'black'): 10,\n",
       "         ('Gr.', 'T'): 26,\n",
       "         ('', 'T'): 17,\n",
       "         ('B.', 'T'): 1,\n",
       "         ('B. Rubican', 'G'): 1,\n",
       "         ('B.', 'G'): 2,\n",
       "         ('Brown', 'T'): 4,\n",
       "         ('', 'G'): 4,\n",
       "         ('Gr.', 'GRIS'): 21,\n",
       "         ('B. Rubican', 'black'): 2,\n",
       "         ('', 'ALZ'): 7,\n",
       "         ('B. Fonce', 'AL. BRULE'): 1,\n",
       "         ('', 'dkb'): 1,\n",
       "         ('', 'Bai C'): 2,\n",
       "         ('Brown', 'br/gr'): 1,\n",
       "         ('B.', 'B/BR'): 1,\n",
       "         ('B.', 'GB'): 1,\n",
       "         ('B. Rubican', 'BROWNGREY'): 1,\n",
       "         ('Gr.', 'grey-bay'): 8,\n",
       "         ('', 'grey'): 8,\n",
       "         ('', 'grey-blk'): 1,\n",
       "         ('Gr.', 'grey-blk'): 4,\n",
       "         ('B. Rubican', 'BBF'): 4,\n",
       "         ('B.', 'RG'): 1,\n",
       "         ('B. Rubican', 'RO'): 1,\n",
       "         ('Al.', 'BBF'): 3})"
      ]
     },
     "execution_count": 5,
     "metadata": {},
     "output_type": "execute_result"
    }
   ],
   "source": [
    "co_coats"
   ]
  },
  {
   "cell_type": "code",
   "execution_count": 13,
   "metadata": {
    "scrolled": true
   },
   "outputs": [
    {
     "data": {
      "text/plain": [
       "['',\n",
       " 'Bai C',\n",
       " 'AC',\n",
       " 'BAI B',\n",
       " 'BG',\n",
       " 'grey-bay',\n",
       " 'B. Clair',\n",
       " 'BF',\n",
       " 'NOIR',\n",
       " 'B. CR',\n",
       " 'A.',\n",
       " 'ROUAN',\n",
       " 'b/br',\n",
       " 'AL.MELANGE',\n",
       " 'B.Foncé',\n",
       " 'CHOCOLAT',\n",
       " 'BR',\n",
       " 'AL.MEL.',\n",
       " 'bb.',\n",
       " 'B',\n",
       " 'Noi.P',\n",
       " 'AL. BRULE',\n",
       " 'NO',\n",
       " 'AR',\n",
       " 'AL',\n",
       " 'BAI',\n",
       " 'AA',\n",
       " 'AL. B',\n",
       " 'AF',\n",
       " 'BAI FONCE',\n",
       " 'Noi.',\n",
       " 'GR.',\n",
       " 'BM',\n",
       " 'GC',\n",
       " 'gr',\n",
       " 'B. Fonce',\n",
       " 'Al. R',\n",
       " 'Bay',\n",
       " 'B.d',\n",
       " 'Bai P',\n",
       " 'Palomino',\n",
       " 'R.',\n",
       " 'Al. C',\n",
       " 'B. Cerise',\n",
       " 'AL. F',\n",
       " 'dkb/br',\n",
       " 'grey-blk',\n",
       " 'BB. F',\n",
       " 'AU',\n",
       " 'GREYROAN',\n",
       " 'CHOCO',\n",
       " 'Chestnut',\n",
       " 'Al. B',\n",
       " 'Noi.Pan',\n",
       " ' Al.',\n",
       " 'br',\n",
       " 'Brown',\n",
       " 'AB',\n",
       " 'AL. CU',\n",
       " 'B. CL',\n",
       " 'Louve',\n",
       " 'SM',\n",
       " 'bai',\n",
       " 'AL. P',\n",
       " 'marron',\n",
       " 's',\n",
       " 'GRIS',\n",
       " None,\n",
       " 'G.',\n",
       " 'N.',\n",
       " 'Bb. Fonce',\n",
       " 'Chocolat',\n",
       " 'Bb.',\n",
       " 'B. Fo',\n",
       " 'AM',\n",
       " 'PALOMINO',\n",
       " 'Gris',\n",
       " 'Al. Clair',\n",
       " 'Bl',\n",
       " 'Choco',\n",
       " 'grey-chest',\n",
       " 'Bai',\n",
       " 'grey-brown',\n",
       " 'B.',\n",
       " 'ro',\n",
       " 'B. Foncé',\n",
       " 'BAI CLAIR',\n",
       " 'B. Ru',\n",
       " 'Al. Aub.',\n",
       " 'Al. Rub.',\n",
       " 'AUB.',\n",
       " 'b/gr',\n",
       " ' B.',\n",
       " 'Gray',\n",
       " 'BAYBROWN',\n",
       " 'brown',\n",
       " 'GR. F',\n",
       " 'MO',\n",
       " 'NOI.P',\n",
       " 'AL. C',\n",
       " 'Bf.',\n",
       " 'RG',\n",
       " 'BBF',\n",
       " 'ALZ',\n",
       " 'GREY',\n",
       " 'BB. FONCE',\n",
       " 'Al. A',\n",
       " 'bbr',\n",
       " 'Bb. Foncé',\n",
       " 'Gr',\n",
       " 'B.b',\n",
       " 'White',\n",
       " 'bl/br',\n",
       " 'BRF',\n",
       " 'B. CLAIR',\n",
       " 'BAI CR',\n",
       " 'CHESTNUT',\n",
       " 'AL.',\n",
       " 'RO',\n",
       " 'B. Fonc',\n",
       " 'BAI.',\n",
       " 'b',\n",
       " 'B/BR',\n",
       " 'bo',\n",
       " 'Al. Cr.Lav',\n",
       " 'AT',\n",
       " 'Bai M',\n",
       " 'BB.',\n",
       " 'BC',\n",
       " 'GB',\n",
       " 'Black',\n",
       " 'chestnut',\n",
       " 'N',\n",
       " 'T',\n",
       " 'Al. F',\n",
       " 'ISABELLE',\n",
       " 'grey',\n",
       " 'GF',\n",
       " 'Aub.',\n",
       " 'Noir',\n",
       " 'BB',\n",
       " 'Rouan',\n",
       " 'Al',\n",
       " 'B. FONCE',\n",
       " 'Gr.',\n",
       " 'NOI.PAN',\n",
       " 'AL. FONCE',\n",
       " 'Al. Cuivre',\n",
       " 'ch',\n",
       " 'BAY',\n",
       " 'AL. CR.LAV',\n",
       " 'AUBERE',\n",
       " 1998,\n",
       " 'Al. Brule',\n",
       " 'B.b.',\n",
       " 'G',\n",
       " 'BROWNGREY',\n",
       " 'Ro.',\n",
       " 'BLANC',\n",
       " 'GR',\n",
       " 'BAI PIE',\n",
       " 'Al.',\n",
       " 'Bb. F',\n",
       " 'bay',\n",
       " '4',\n",
       " 'B. Rubican',\n",
       " 'B. B.',\n",
       " 'S',\n",
       " 'Al. Fonce',\n",
       " 'black',\n",
       " 'br/gr',\n",
       " 'B. FO',\n",
       " 'B. Cl',\n",
       " 'AL. PIE',\n",
       " 'B. Ce',\n",
       " 'dkb']"
      ]
     },
     "execution_count": 13,
     "metadata": {},
     "output_type": "execute_result"
    }
   ],
   "source": [
    "list(set(coats.keys()).union(set(coats_info.keys())))"
   ]
  },
  {
   "cell_type": "code",
   "execution_count": 14,
   "metadata": {},
   "outputs": [
    {
     "name": "stderr",
     "output_type": "stream",
     "text": [
      "5660days [17:19,  5.45days/s]                        \n"
     ]
    }
   ],
   "source": [
    "import logging\n",
    "from collections import Counter\n",
    "import datetime as dt\n",
    "from typing import Optional, Generator\n",
    "from constants import UNIBET_MIN_DATE\n",
    "from tqdm import tqdm\n",
    "import os \n",
    "import json\n",
    "\n",
    "logger = logging.getLogger(__name__)\n",
    "UNIBET_DATA_PATH = \"./data/Unibet\"\n",
    "\n",
    "stakes_equal = Counter()\n",
    "different_stakes=[]\n",
    "def date_countdown_generator(\n",
    "    start_date: dt.date, end_date: Optional[dt.date]\n",
    ") -> Generator[dt.date, None, None]:\n",
    "    end_date = end_date or dt.date.today()\n",
    "    current_date = start_date\n",
    "    while current_date <= end_date:\n",
    "        yield current_date\n",
    "        current_date += dt.timedelta(days=1)\n",
    "        \n",
    "\n",
    "for date in tqdm(\n",
    "    date_countdown_generator(\n",
    "        start_date=UNIBET_MIN_DATE,\n",
    "        end_date=dt.date.today() - dt.timedelta(days=1),\n",
    "    ),\n",
    "    total=(dt.date.today() - dt.timedelta(days=1) - UNIBET_MIN_DATE).days,\n",
    "    unit=\"days\",\n",
    "):\n",
    "    if not date.isoformat() in os.listdir(UNIBET_DATA_PATH):\n",
    "        logger.info(\"Could not find folder for date: %s\", date.isoformat())\n",
    "        continue\n",
    "    day_folder_path = os.path.join(UNIBET_DATA_PATH, date.isoformat())\n",
    "    if \"programme.json\" not in os.listdir(day_folder_path):\n",
    "        logger.info(\n",
    "            \"Could not find programme.json for date: %s\", date.isoformat()\n",
    "        )\n",
    "        continue\n",
    "\n",
    "    with open(os.path.join(day_folder_path, \"programme.json\"), \"r\") as fp:\n",
    "        programme = json.load(fp=fp)\n",
    "    if \"data\" not in programme:\n",
    "        logger.info(\"Can not import programme of %s\", date.isoformat())\n",
    "        continue\n",
    "\n",
    "    horse_shows_dict = programme[\"data\"]\n",
    "    for horse_show_dict in horse_shows_dict:\n",
    "\n",
    "        if horse_show_dict.get(\"races\"):\n",
    "\n",
    "            for race_dict in horse_show_dict[\"races\"]:\n",
    "                race_path = os.path.join(\n",
    "                    day_folder_path,\n",
    "                    f\"R{horse_show_dict['rank']}_C\" f\"{race_dict['rank']}.json\",\n",
    "                )\n",
    "                with open(race_path, \"r\") as fp:\n",
    "                    complete_race_dict = json.load(fp=fp)\n",
    "\n",
    "                current_race_dict = complete_race_dict\n",
    "                if complete_race_dict.get(\"note\") == \"server error, no json\":\n",
    "                    # Can not use complete_race\n",
    "                    current_race_dict = race_dict\n",
    "\n",
    "                for runner_dict in current_race_dict[\"runners\"]:\n",
    "                    stake=runner_dict[\"details\"].get(\"stakes\") if runner_dict.get(\"details\") else None\n",
    "\n",
    "                    \n",
    "                    runner_statistics_path = os.path.join(\n",
    "                                day_folder_path,\n",
    "                                f\"R{horse_show_dict['rank']}_\"\n",
    "                                f\"C{race_dict['rank']}_\"\n",
    "                                f\"RN{runner_dict['rank']}.json\",\n",
    "                            )\n",
    "                    with open(runner_statistics_path, \"r\") as fp:\n",
    "                        runner_stats = json.load(fp=fp)\n",
    "                        \n",
    "                    runner_stats_info: Optional[dict] = runner_stats.get(\"fiche\", {}).get(\"infos_generales\")\n",
    "                    stake_info=runner_stats_info.get(\"gain\") if runner_stats_info else None\n",
    "                    stakes_equal[stake==stake_info]+=1\n",
    "                    if stake!= stake_info:\n",
    "                        different_stakes.append((stake, stake_info,date.isoformat(), horse_show_dict['rank'], race_dict['rank'], runner_dict['rank']))"
   ]
  },
  {
   "cell_type": "code",
   "execution_count": 15,
   "metadata": {},
   "outputs": [
    {
     "data": {
      "text/plain": [
       "Counter({False: 2286852, True: 503495})"
      ]
     },
     "execution_count": 15,
     "metadata": {},
     "output_type": "execute_result"
    }
   ],
   "source": [
    "stakes_equal"
   ]
  },
  {
   "cell_type": "code",
   "execution_count": null,
   "metadata": {
    "scrolled": true
   },
   "outputs": [],
   "source": [
    "different_stakes"
   ]
  },
  {
   "cell_type": "code",
   "execution_count": 125,
   "metadata": {},
   "outputs": [
    {
     "name": "stderr",
     "output_type": "stream",
     "text": [
      "5665days [17:26,  5.41days/s]                        \n"
     ]
    }
   ],
   "source": [
    "import logging\n",
    "from collections import Counter\n",
    "import datetime as dt\n",
    "from typing import Optional, Generator\n",
    "from constants import UNIBET_MIN_DATE\n",
    "from tqdm import tqdm\n",
    "import os \n",
    "import json\n",
    "from scripts.generate_unibet import _extract_name_country\n",
    "\n",
    "logger = logging.getLogger(__name__)\n",
    "UNIBET_DATA_PATH = \"./data/Unibet\"\n",
    "\n",
    "equal_names = Counter()\n",
    "different_names=[]\n",
    "def date_countdown_generator(\n",
    "    start_date: dt.date, end_date: Optional[dt.date]\n",
    ") -> Generator[dt.date, None, None]:\n",
    "    end_date = end_date or dt.date.today()\n",
    "    current_date = start_date\n",
    "    while current_date <= end_date:\n",
    "        yield current_date\n",
    "        current_date += dt.timedelta(days=1)\n",
    "        \n",
    "\n",
    "for date in tqdm(\n",
    "    date_countdown_generator(\n",
    "        start_date=UNIBET_MIN_DATE,\n",
    "        end_date=dt.date.today() - dt.timedelta(days=1),\n",
    "    ),\n",
    "    total=(dt.date.today() - dt.timedelta(days=1) - UNIBET_MIN_DATE).days,\n",
    "    unit=\"days\",\n",
    "):\n",
    "    if not date.isoformat() in os.listdir(UNIBET_DATA_PATH):\n",
    "        logger.info(\"Could not find folder for date: %s\", date.isoformat())\n",
    "        continue\n",
    "    day_folder_path = os.path.join(UNIBET_DATA_PATH, date.isoformat())\n",
    "    if \"programme.json\" not in os.listdir(day_folder_path):\n",
    "        logger.info(\n",
    "            \"Could not find programme.json for date: %s\", date.isoformat()\n",
    "        )\n",
    "        continue\n",
    "\n",
    "    with open(os.path.join(day_folder_path, \"programme.json\"), \"r\") as fp:\n",
    "        programme = json.load(fp=fp)\n",
    "    if \"data\" not in programme:\n",
    "        logger.info(\"Can not import programme of %s\", date.isoformat())\n",
    "        continue\n",
    "\n",
    "    horse_shows_dict = programme[\"data\"]\n",
    "    for horse_show_dict in horse_shows_dict:\n",
    "\n",
    "        if horse_show_dict.get(\"races\"):\n",
    "\n",
    "            for race_dict in horse_show_dict[\"races\"]:\n",
    "                race_path = os.path.join(\n",
    "                    day_folder_path,\n",
    "                    f\"R{horse_show_dict['rank']}_C\" f\"{race_dict['rank']}.json\",\n",
    "                )\n",
    "                with open(race_path, \"r\") as fp:\n",
    "                    complete_race_dict = json.load(fp=fp)\n",
    "\n",
    "                current_race_dict = complete_race_dict\n",
    "                if complete_race_dict.get(\"note\") == \"server error, no json\":\n",
    "                    # Can not use complete_race\n",
    "                    current_race_dict = race_dict\n",
    "\n",
    "                for runner_dict in current_race_dict[\"runners\"]:\n",
    "                    name=_extract_name_country(runner_dict[\"name\"])[0]\n",
    "\n",
    "                    \n",
    "                    runner_statistics_path = os.path.join(\n",
    "                                day_folder_path,\n",
    "                                f\"R{horse_show_dict['rank']}_\"\n",
    "                                f\"C{race_dict['rank']}_\"\n",
    "                                f\"RN{runner_dict['rank']}.json\",\n",
    "                            )\n",
    "                    with open(runner_statistics_path, \"r\") as fp:\n",
    "                        runner_stats = json.load(fp=fp)\n",
    "                        \n",
    "                    runner_stats_info: Optional[dict] = runner_stats.get(\"fiche\", {}).get(\"infos_generales\")\n",
    "                    name_info=runner_stats_info.get(\"nom\") if runner_stats_info else None\n",
    "                    name_info=_extract_name_country(name_info)[0]\n",
    "                    equal_names[name==name_info]+=1\n",
    "                    if name!=name_info:\n",
    "                        different_names.append((name, name_info,date.isoformat(), horse_show_dict['rank'], race_dict['rank'], runner_dict['rank']))"
   ]
  },
  {
   "cell_type": "code",
   "execution_count": 126,
   "metadata": {},
   "outputs": [
    {
     "data": {
      "text/plain": [
       "Counter({True: 2564253, False: 226094})"
      ]
     },
     "execution_count": 126,
     "metadata": {},
     "output_type": "execute_result"
    }
   ],
   "source": [
    "equal_names"
   ]
  },
  {
   "cell_type": "code",
   "execution_count": 128,
   "metadata": {},
   "outputs": [
    {
     "data": {
      "text/plain": [
       "[('IKURO JIEL', None, '2020-11-21', 8, 1, 8),\n",
       " ('ECLAIR LUDOIS', None, '2020-11-21', 8, 2, 10),\n",
       " ('DIANE DU NORD', None, '2020-11-21', 8, 2, 14),\n",
       " ('EPONA DU PASSAGE', None, '2020-11-21', 8, 6, 15),\n",
       " ('DESTINO DODVILLE', None, '2020-11-21', 8, 7, 10)]"
      ]
     },
     "execution_count": 128,
     "metadata": {},
     "output_type": "execute_result"
    }
   ],
   "source": [
    "different_names[-5:]"
   ]
  },
  {
   "cell_type": "code",
   "execution_count": 131,
   "metadata": {},
   "outputs": [],
   "source": [
    "different_names_not_null_info_name = [dfn for dfn in different_names if dfn[1] is not None]"
   ]
  },
  {
   "cell_type": "code",
   "execution_count": 133,
   "metadata": {},
   "outputs": [
    {
     "data": {
      "text/plain": [
       "18426"
      ]
     },
     "execution_count": 133,
     "metadata": {},
     "output_type": "execute_result"
    }
   ],
   "source": [
    "len(different_names_not_null_info_name)"
   ]
  },
  {
   "cell_type": "code",
   "execution_count": 135,
   "metadata": {},
   "outputs": [
    {
     "data": {
      "text/plain": [
       "[('SUPER REGALONA', 'WONDER GOLLY', '2020-10-30', 7, 3, 10),\n",
       " ('ADRIANKA', 'BABY GOLD', '2020-10-30', 7, 3, 11),\n",
       " ('COMO UNA NINA', 'CAPACITA', '2020-10-30', 7, 3, 12),\n",
       " ('ESCOLTADORA', 'LARA CROFT', '2020-10-30', 7, 4, 1),\n",
       " ('DALE FLORA', 'CONTENIDA', '2020-10-30', 7, 4, 3),\n",
       " ('GALICADA STREAPS', 'MANDALA', '2020-10-30', 7, 4, 4),\n",
       " ('GRACIAS POR VENIR', 'MILKYWAY', '2020-10-30', 7, 4, 5),\n",
       " ('LA FLOR DE ORO', 'QUE COQUETA', '2020-10-30', 7, 4, 6),\n",
       " ('EASY CHARITY', 'DICHELLE', '2020-10-30', 7, 4, 7),\n",
       " ('WINDSTOÃF', 'WINDSTOÆ', '2020-11-01', 2, 5, 7),\n",
       " ('LIEBLING E  D4', 'LIEBLING', '2020-11-04', 5, 8, 5),\n",
       " ('GLAÇADA', 'GLAǁDA', '2020-11-08', 6, 5, 8),\n",
       " ('SEÃ\\x91ORITA ROBERTA', 'SENORITA ROBERTA', '2020-11-13', 8, 8, 5),\n",
       " ('MALIKADO', 'EL GRAN CARATA SANT', '2020-11-13', 8, 11, 8),\n",
       " ('HÜBSCH TF', 'H܂SCH TF', '2020-11-14', 5, 7, 2),\n",
       " ('GLAÇADA', 'GLAǁDA', '2020-11-15', 2, 6, 14),\n",
       " ('NADA MÃIS', 'NADA MÉS', '2020-11-15', 3, 6, 2),\n",
       " ('JR WALKER E', 'JR WALKER', '2020-11-18', 5, 6, 4),\n",
       " ('LIEBLING E', 'LIEBLING', '2020-11-18', 5, 6, 11),\n",
       " (\"IDEALE D\\\\'ODYSSEE\", \"IDEALE D'ODYSSEE\", '2020-11-21', 8, 1, 2)]"
      ]
     },
     "execution_count": 135,
     "metadata": {},
     "output_type": "execute_result"
    }
   ],
   "source": [
    "different_names_not_null_info_name[-20:]"
   ]
  },
  {
   "cell_type": "code",
   "execution_count": 138,
   "metadata": {},
   "outputs": [],
   "source": [
    "#  ('LA FLOR DE ORO', 'QUE COQUETA', '2020-10-30', 7, 4, 6),\n",
    "\n",
    "from Levenshtein import distance\n"
   ]
  },
  {
   "cell_type": "code",
   "execution_count": 139,
   "metadata": {},
   "outputs": [
    {
     "data": {
      "text/plain": [
       "12"
      ]
     },
     "execution_count": 139,
     "metadata": {},
     "output_type": "execute_result"
    }
   ],
   "source": [
    "distance('LA FLOR DE ORO','QUE COQUETA')"
   ]
  },
  {
   "cell_type": "code",
   "execution_count": 140,
   "metadata": {},
   "outputs": [
    {
     "data": {
      "text/plain": [
       "2"
      ]
     },
     "execution_count": 140,
     "metadata": {},
     "output_type": "execute_result"
    }
   ],
   "source": [
    "distance('HÜBSCH TF', 'H܂SCH TF')"
   ]
  },
  {
   "cell_type": "code",
   "execution_count": 141,
   "metadata": {},
   "outputs": [
    {
     "data": {
      "text/plain": [
       "2"
      ]
     },
     "execution_count": 141,
     "metadata": {},
     "output_type": "execute_result"
    }
   ],
   "source": [
    "distance('JR WALKER E', 'JR WALKER')"
   ]
  },
  {
   "cell_type": "code",
   "execution_count": 143,
   "metadata": {},
   "outputs": [
    {
     "data": {
      "text/plain": [
       "2"
      ]
     },
     "execution_count": 143,
     "metadata": {},
     "output_type": "execute_result"
    }
   ],
   "source": [
    "distance('WINDSTOÃF', 'WINDSTOÆ')"
   ]
  },
  {
   "cell_type": "code",
   "execution_count": null,
   "metadata": {},
   "outputs": [],
   "source": []
  }
 ],
 "metadata": {
  "kernelspec": {
   "display_name": "Python 3",
   "language": "python",
   "name": "python3"
  },
  "language_info": {
   "codemirror_mode": {
    "name": "ipython",
    "version": 3
   },
   "file_extension": ".py",
   "mimetype": "text/x-python",
   "name": "python",
   "nbconvert_exporter": "python",
   "pygments_lexer": "ipython3",
   "version": "3.7.9"
  }
 },
 "nbformat": 4,
 "nbformat_minor": 4
}
