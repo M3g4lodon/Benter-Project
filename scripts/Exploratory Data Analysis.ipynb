{
 "cells": [
  {
   "cell_type": "code",
   "execution_count": 1,
   "metadata": {},
   "outputs": [
    {
     "name": "stdout",
     "output_type": "stream",
     "text": [
      "/home/mathieu/Mindsay/mathieu/Benter-Project\n"
     ]
    }
   ],
   "source": [
    "#%cd C:/Users/Mathieu/Desktop/Projets/Benter\n",
    "%cd /home/mathieu/Mindsay/mathieu/Benter-Project"
   ]
  },
  {
   "cell_type": "code",
   "execution_count": 2,
   "metadata": {},
   "outputs": [],
   "source": [
    "# comapre old with current featured data\n",
    "%matplotlib inline\n",
    "    \n",
    "import pandas as pd\n",
    "import numpy as np\n",
    "from tqdm import tqdm\n",
    "import seaborn as sns\n",
    "\n",
    "from utils import import_data\n",
    "from utils import preprocess\n",
    "from constants import SOURCE_PMU\n",
    "\n",
    "sns.set(style=\"ticks\", context=\"talk\")"
   ]
  },
  {
   "cell_type": "code",
   "execution_count": null,
   "metadata": {},
   "outputs": [],
   "source": [
    "race_horse_df = import_data.load_featured_data(source=SOURCE_PMU)\n",
    "x = preprocess.preprocess(race_horse_df=race_horse_df, source=SOURCE_PMU)"
   ]
  },
  {
   "cell_type": "code",
   "execution_count": 61,
   "metadata": {},
   "outputs": [],
   "source": [
    "race_df=race_horse_df.groupby('race_id')['placeCorde'].agg('mean').to_frame()"
   ]
  },
  {
   "cell_type": "code",
   "execution_count": 62,
   "metadata": {},
   "outputs": [],
   "source": [
    "race_df['n_horses']=race_horse_df.groupby('race_id')['n_horses'].agg('first')"
   ]
  },
  {
   "cell_type": "code",
   "execution_count": 63,
   "metadata": {},
   "outputs": [
    {
     "data": {
      "text/html": [
       "<div>\n",
       "<style scoped>\n",
       "    .dataframe tbody tr th:only-of-type {\n",
       "        vertical-align: middle;\n",
       "    }\n",
       "\n",
       "    .dataframe tbody tr th {\n",
       "        vertical-align: top;\n",
       "    }\n",
       "\n",
       "    .dataframe thead th {\n",
       "        text-align: right;\n",
       "    }\n",
       "</style>\n",
       "<table border=\"1\" class=\"dataframe\">\n",
       "  <thead>\n",
       "    <tr style=\"text-align: right;\">\n",
       "      <th></th>\n",
       "      <th>placeCorde</th>\n",
       "      <th>n_horses</th>\n",
       "    </tr>\n",
       "    <tr>\n",
       "      <th>race_id</th>\n",
       "      <th></th>\n",
       "      <th></th>\n",
       "    </tr>\n",
       "  </thead>\n",
       "  <tbody>\n",
       "    <tr>\n",
       "      <th>0</th>\n",
       "      <td>8.5</td>\n",
       "      <td>16</td>\n",
       "    </tr>\n",
       "    <tr>\n",
       "      <th>1</th>\n",
       "      <td>7.0</td>\n",
       "      <td>13</td>\n",
       "    </tr>\n",
       "    <tr>\n",
       "      <th>2</th>\n",
       "      <td>NaN</td>\n",
       "      <td>10</td>\n",
       "    </tr>\n",
       "    <tr>\n",
       "      <th>3</th>\n",
       "      <td>NaN</td>\n",
       "      <td>7</td>\n",
       "    </tr>\n",
       "    <tr>\n",
       "      <th>4</th>\n",
       "      <td>8.5</td>\n",
       "      <td>16</td>\n",
       "    </tr>\n",
       "    <tr>\n",
       "      <th>...</th>\n",
       "      <td>...</td>\n",
       "      <td>...</td>\n",
       "    </tr>\n",
       "    <tr>\n",
       "      <th>117500</th>\n",
       "      <td>7.5</td>\n",
       "      <td>13</td>\n",
       "    </tr>\n",
       "    <tr>\n",
       "      <th>117501</th>\n",
       "      <td>8.0</td>\n",
       "      <td>11</td>\n",
       "    </tr>\n",
       "    <tr>\n",
       "      <th>117502</th>\n",
       "      <td>7.5</td>\n",
       "      <td>10</td>\n",
       "    </tr>\n",
       "    <tr>\n",
       "      <th>117503</th>\n",
       "      <td>9.0</td>\n",
       "      <td>16</td>\n",
       "    </tr>\n",
       "    <tr>\n",
       "      <th>117504</th>\n",
       "      <td>8.0</td>\n",
       "      <td>13</td>\n",
       "    </tr>\n",
       "  </tbody>\n",
       "</table>\n",
       "<p>117505 rows × 2 columns</p>\n",
       "</div>"
      ],
      "text/plain": [
       "         placeCorde  n_horses\n",
       "race_id                      \n",
       "0               8.5        16\n",
       "1               7.0        13\n",
       "2               NaN        10\n",
       "3               NaN         7\n",
       "4               8.5        16\n",
       "...             ...       ...\n",
       "117500          7.5        13\n",
       "117501          8.0        11\n",
       "117502          7.5        10\n",
       "117503          9.0        16\n",
       "117504          8.0        13\n",
       "\n",
       "[117505 rows x 2 columns]"
      ]
     },
     "execution_count": 63,
     "metadata": {},
     "output_type": "execute_result"
    }
   ],
   "source": [
    "race_df"
   ]
  },
  {
   "cell_type": "code",
   "execution_count": 43,
   "metadata": {},
   "outputs": [
    {
     "data": {
      "text/plain": [
       "False    1414069\n",
       "True       45270\n",
       "Name: indicateurInedit, dtype: int64"
      ]
     },
     "execution_count": 43,
     "metadata": {},
     "output_type": "execute_result"
    }
   ],
   "source": [
    "race_horse_df['indicateurInedit'].value_counts(dropna=False)"
   ]
  },
  {
   "cell_type": "code",
   "execution_count": 45,
   "metadata": {},
   "outputs": [
    {
     "data": {
      "text/plain": [
       "HONGRES     651433\n",
       "FEMELLES    557856\n",
       "MALES       250050\n",
       "Name: horse_sex, dtype: int64"
      ]
     },
     "execution_count": 45,
     "metadata": {},
     "output_type": "execute_result"
    }
   ],
   "source": [
    "race_horse_df['horse_sex'].value_counts(dropna=False)"
   ]
  },
  {
   "cell_type": "code",
   "execution_count": 37,
   "metadata": {},
   "outputs": [
    {
     "data": {
      "text/plain": [
       "NaN           1202002\n",
       "HERBE          153335\n",
       "GAZON           91070\n",
       "POUZZOLANE       9987\n",
       "SABLE            2907\n",
       "DIRT               38\n",
       "Name: course_track_type, dtype: int64"
      ]
     },
     "execution_count": 37,
     "metadata": {},
     "output_type": "execute_result"
    }
   ],
   "source": [
    "race_horse_df['course_track_type'].value_counts(dropna=False)"
   ]
  },
  {
   "cell_type": "code",
   "execution_count": 36,
   "metadata": {},
   "outputs": [
    {
     "data": {
      "text/plain": [
       "NaN                      849412\n",
       "TROIS_ANS                148696\n",
       "QUATRE_ANS_ET_PLUS       137884\n",
       "TROIS_ANS_ET_PLUS        102474\n",
       "CINQ_ANS_ET_PLUS          73196\n",
       "QUATRE_ANS                64055\n",
       "DEUX_ANS                  45802\n",
       "DEUX_ANS_ET_PLUS          12516\n",
       "CINQ_ANS                   8871\n",
       "QUATRE_CINQ_ANS            8707\n",
       "SIX_ANS_ET_PLUS            3038\n",
       "CINQ_SIX_ANS               2028\n",
       "DEUX_ET_TROIS_ANS           977\n",
       "TROIS_QUATRE_CINQ_ANS       807\n",
       "INCONNU                     366\n",
       "QUATE_CINQ_SIX_ANS          332\n",
       "SIX_ANS                     125\n",
       "DEUX_TROIS_QUATRE_ANS        53\n",
       "Name: course_condition_age, dtype: int64"
      ]
     },
     "execution_count": 36,
     "metadata": {},
     "output_type": "execute_result"
    }
   ],
   "source": [
    "race_horse_df['course_condition_age'].value_counts(dropna=False)"
   ]
  },
  {
   "cell_type": "code",
   "execution_count": 27,
   "metadata": {},
   "outputs": [
    {
     "data": {
      "text/plain": [
       "TOUS_CHEVAUX           1064272\n",
       "FEMELLES                215079\n",
       "MALES_ET_HONGRES        166432\n",
       "FEMELLES_ET_MALES         8528\n",
       "MALES                     4944\n",
       "FEMELLES_ET_HONGRES         70\n",
       "HONGRES                     14\n",
       "Name: course_condition_sexe, dtype: int64"
      ]
     },
     "execution_count": 27,
     "metadata": {},
     "output_type": "execute_result"
    }
   ],
   "source": [
    "race_horse_df['course_condition_sexe'].value_counts(dropna=False)"
   ]
  },
  {
   "cell_type": "code",
   "execution_count": 29,
   "metadata": {},
   "outputs": [
    {
     "data": {
      "text/plain": [
       "NaN      1340526\n",
       "545.0       6488\n",
       "565.0       6353\n",
       "555.0       6278\n",
       "640.0       6244\n",
       "          ...   \n",
       "57.0           1\n",
       "632.0          1\n",
       "633.0          1\n",
       "55.0           1\n",
       "511.0          1\n",
       "Name: poidsConditionMonte, Length: 151, dtype: int64"
      ]
     },
     "execution_count": 29,
     "metadata": {},
     "output_type": "execute_result"
    }
   ],
   "source": [
    "race_horse_df['poidsConditionMonte'].value_counts(dropna=False)"
   ]
  },
  {
   "cell_type": "code",
   "execution_count": 35,
   "metadata": {},
   "outputs": [
    {
     "data": {
      "text/plain": [
       "NaN     1178113\n",
       "31.0       7085\n",
       "28.0       6676\n",
       "30.0       6576\n",
       "29.0       6477\n",
       "         ...   \n",
       "2.0           5\n",
       "82.5          3\n",
       "86.0          3\n",
       "78.5          3\n",
       "81.5          1\n",
       "Name: handicap_value, Length: 167, dtype: int64"
      ]
     },
     "execution_count": 35,
     "metadata": {},
     "output_type": "execute_result"
    }
   ],
   "source": [
    "race_horse_df['handicap_value'].value_counts(dropna=False)"
   ]
  },
  {
   "cell_type": "code",
   "execution_count": 32,
   "metadata": {},
   "outputs": [
    {
     "data": {
      "text/plain": [
       "SANS_OEILLERES             1165444\n",
       "NaN                         154930\n",
       "OEILLERES_CLASSIQUE          77370\n",
       "OEILLERES_AUSTRALIENNES      61595\n",
       "Name: blinkers, dtype: int64"
      ]
     },
     "execution_count": 32,
     "metadata": {},
     "output_type": "execute_result"
    }
   ],
   "source": [
    "race_horse_df['blinkers'].value_counts(dropna=False)"
   ]
  },
  {
   "cell_type": "code",
   "execution_count": 33,
   "metadata": {},
   "outputs": [
    {
     "data": {
      "text/plain": [
       "NaN    1395724\n",
       "A        53442\n",
       "B         8796\n",
       "C         1063\n",
       "0          184\n",
       "D          116\n",
       "E           13\n",
       "0.0          1\n",
       "Name: ecurie, dtype: int64"
      ]
     },
     "execution_count": 33,
     "metadata": {},
     "output_type": "execute_result"
    }
   ],
   "source": [
    "race_horse_df['ecurie'].value_counts(dropna=False)"
   ]
  },
  {
   "cell_type": "code",
   "execution_count": 34,
   "metadata": {},
   "outputs": [
    {
     "data": {
      "text/plain": [
       "NaN                               1174348\n",
       "DEFERRE_ANTERIEURS_POSTERIEURS     174584\n",
       "DEFERRE_POSTERIEURS                 75685\n",
       "DEFERRE_ANTERIEURS                  34267\n",
       "REFERRE_ANTERIEURS_POSTERIEURS        455\n",
       "Name: unshod, dtype: int64"
      ]
     },
     "execution_count": 34,
     "metadata": {},
     "output_type": "execute_result"
    }
   ],
   "source": [
    "race_horse_df['unshod'].value_counts(dropna=False)"
   ]
  },
  {
   "cell_type": "code",
   "execution_count": 23,
   "metadata": {},
   "outputs": [
    {
     "data": {
      "text/plain": [
       "METRE    1459339\n",
       "Name: course_distance_unit, dtype: int64"
      ]
     },
     "execution_count": 23,
     "metadata": {},
     "output_type": "execute_result"
    }
   ],
   "source": [
    "race_horse_df['course_distance_unit'].value_counts(dropna=False)"
   ]
  },
  {
   "cell_type": "code",
   "execution_count": 22,
   "metadata": {},
   "outputs": [
    {
     "data": {
      "text/plain": [
       "TROT     849368\n",
       "GALOP    609971\n",
       "Name: allure, dtype: int64"
      ]
     },
     "execution_count": 22,
     "metadata": {},
     "output_type": "execute_result"
    }
   ],
   "source": [
    "race_horse_df['allure'].value_counts(dropna=False)"
   ]
  },
  {
   "cell_type": "code",
   "execution_count": 21,
   "metadata": {},
   "outputs": [
    {
     "data": {
      "text/plain": [
       "CORDE_GAUCHE    670257\n",
       "CORDE_DROITE    581389\n",
       "NaN             207693\n",
       "Name: course_corde, dtype: int64"
      ]
     },
     "execution_count": 21,
     "metadata": {},
     "output_type": "execute_result"
    }
   ],
   "source": [
    "race_horse_df['course_corde'].value_counts(dropna=False)"
   ]
  },
  {
   "cell_type": "code",
   "execution_count": 25,
   "metadata": {},
   "outputs": [
    {
     "data": {
      "text/plain": [
       "ATTELE          736872\n",
       "PLAT            495516\n",
       "MONTE           112496\n",
       "HAIE             67527\n",
       "STEEPLECHASE     40776\n",
       "CROSS             6152\n",
       "Name: course_discipline, dtype: int64"
      ]
     },
     "execution_count": 25,
     "metadata": {},
     "output_type": "execute_result"
    }
   ],
   "source": [
    "race_horse_df['course_discipline'].value_counts(dropna=False)"
   ]
  },
  {
   "cell_type": "code",
   "execution_count": 26,
   "metadata": {},
   "outputs": [
    {
     "data": {
      "text/plain": [
       "TROT_ATTELE    736872\n",
       "PLAT           495516\n",
       "OBSTACLE       114455\n",
       "TROT_MONTE     112496\n",
       "Name: course_specialite, dtype: int64"
      ]
     },
     "execution_count": 26,
     "metadata": {},
     "output_type": "execute_result"
    }
   ],
   "source": [
    "race_horse_df['course_specialite'].value_counts(dropna=False)"
   ]
  },
  {
   "cell_type": "code",
   "execution_count": 19,
   "metadata": {},
   "outputs": [
    {
     "data": {
      "text/plain": [
       "1448688      NaN\n",
       "394225       NaN\n",
       "835251       NaN\n",
       "317891     600.0\n",
       "1277615    550.0\n",
       "1059874    580.0\n",
       "337637       NaN\n",
       "366851       NaN\n",
       "333375     555.0\n",
       "942867     520.0\n",
       "Name: handicap_weight, dtype: float64"
      ]
     },
     "execution_count": 19,
     "metadata": {},
     "output_type": "execute_result"
    }
   ],
   "source": [
    "race_horse_df['handicap_weight'].sample(10)"
   ]
  },
  {
   "cell_type": "markdown",
   "metadata": {},
   "source": [
    "### Extract features\n",
    "\n",
    "DONE v1\n",
    "\n",
    "    win rate horse, jockey, trainer\n",
    "    mean place horse, jockey, trainer\n",
    "    horse_age, horse_sex\n",
    "    horse race\n",
    "    pregnant\n",
    "    breeder\n",
    "    unshod\n",
    "    corde\n",
    "    parcours\n",
    "    blinker\n",
    "    handicap\n",
    "    gains en cours, carrière, année précédente, \n",
    "    enjeu de la course (pool prize, winner prize)\n",
    "    weight, actual weights\n",
    "    driver\n",
    "    race_type\n",
    "    état du sol (type sol, penetrometre)\n",
    "    duration since last race -> performance.json (remaining to compute timedelta between last_race and date)\n",
    "    \n",
    "\n",
    "TODO\n",
    "\n",
    "    ecuries\n",
    "From programme\n",
    "\n",
    "    numéro course jockey dans la journée\n",
    "    nombre de course courus par le jockey dans la journée\n",
    "    \n",
    "From past races\n",
    "\n",
    "    expérience: nombre de course du cheval/horse/trainer dans l'historique\n",
    "    inédit pour cheval (or in partipants), jockey,trainer\n",
    "    new race type for horse, jockey, trainer\n",
    "    number of days since last race (horse  from perforamnce.json)\n",
    "    last race position    \n",
    "    previous horse speed\n",
    "    mean speed (bins?)\n",
    "    max speed (bins?)\n",
    "    elo ranking horse, jockey, trainer (from historic)\n",
    "    max elo ranking father/mother/father_mother\n",
    "    track draw advatage from historic \n",
    "    already race together horse+driver\n",
    "    \n",
    "directly in course\n",
    "\n",
    "    \n",
    "in participants\n",
    "    \n",
    "\n"
   ]
  },
  {
   "cell_type": "code",
   "execution_count": 17,
   "metadata": {},
   "outputs": [
    {
     "data": {
      "text/plain": [
       "4     347731\n",
       "3     290980\n",
       "5     262594\n",
       "6     187223\n",
       "7     138325\n",
       "8      93448\n",
       "2      53517\n",
       "9      52931\n",
       "10     22012\n",
       "11      6645\n",
       "12      2640\n",
       "13       955\n",
       "14       277\n",
       "15        46\n",
       "0          8\n",
       "1          4\n",
       "16         2\n",
       "60         1\n",
       "Name: age, dtype: int64"
      ]
     },
     "execution_count": 17,
     "metadata": {},
     "output_type": "execute_result"
    }
   ],
   "source": [
    "race_horse_df['age'].value_counts()"
   ]
  },
  {
   "cell_type": "code",
   "execution_count": 27,
   "metadata": {},
   "outputs": [
    {
     "data": {
      "text/plain": [
       "HONGRES     651433\n",
       "FEMELLES    557856\n",
       "MALES       250050\n",
       "Name: horse_sex, dtype: int64"
      ]
     },
     "execution_count": 27,
     "metadata": {},
     "output_type": "execute_result"
    }
   ],
   "source": [
    "race_horse_df.horse_sex.value_counts()"
   ]
  },
  {
   "cell_type": "code",
   "execution_count": 38,
   "metadata": {},
   "outputs": [
    {
     "data": {
      "text/plain": [
       "0                NaN\n",
       "1                NaN\n",
       "2                NaN\n",
       "3                NaN\n",
       "4                NaN\n",
       "             ...    \n",
       "1459334    11.287279\n",
       "1459335    10.745055\n",
       "1459336    11.985426\n",
       "1459337    11.935575\n",
       "1459338    10.742897\n",
       "Name: gainsCarriere, Length: 1459339, dtype: float64"
      ]
     },
     "execution_count": 38,
     "metadata": {},
     "output_type": "execute_result"
    }
   ],
   "source": [
    "race_horse_df.gainsCarriere.apply(np.log)"
   ]
  },
  {
   "cell_type": "code",
   "execution_count": 42,
   "metadata": {},
   "outputs": [
    {
     "data": {
      "image/png": "[encoded data removed]",
      "text/plain": [
       "<matplotlib.figure.Figure at 0x1b967fcf550>"
      ]
     },
     "metadata": {},
     "output_type": "display_data"
    }
   ],
   "source": [
    "sns.distplot((race_horse_df.gainsCarriere/100).apply(np.log10).replace([np.inf, -np.inf], np.nan));"
   ]
  },
  {
   "cell_type": "code",
   "execution_count": 44,
   "metadata": {},
   "outputs": [
    {
     "data": {
      "text/plain": [
       "0.07424525761320708"
      ]
     },
     "execution_count": 44,
     "metadata": {},
     "output_type": "execute_result"
    }
   ],
   "source": [
    "(race_horse_df.gainsCarriere==0).mean()"
   ]
  },
  {
   "cell_type": "code",
   "execution_count": 41,
   "metadata": {},
   "outputs": [
    {
     "data": {
      "text/plain": [
       "0.15526961178999532"
      ]
     },
     "execution_count": 41,
     "metadata": {},
     "output_type": "execute_result"
    }
   ],
   "source": [
    "race_horse_df.gainsCarriere.isna().mean()"
   ]
  }
 ],
 "metadata": {
  "kernelspec": {
   "display_name": "Python 3",
   "language": "python",
   "name": "python3"
  },
  "language_info": {
   "codemirror_mode": {
    "name": "ipython",
    "version": 3
   },
   "file_extension": ".py",
   "mimetype": "text/x-python",
   "name": "python",
   "nbconvert_exporter": "python",
   "pygments_lexer": "ipython3",
   "version": "3.7.9"
  }
 },
 "nbformat": 4,
 "nbformat_minor": 4
}
