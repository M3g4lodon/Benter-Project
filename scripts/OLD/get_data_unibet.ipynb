{
 "cells": [
  {
   "cell_type": "code",
   "execution_count": 1,
   "metadata": {},
   "outputs": [
    {
     "name": "stdout",
     "output_type": "stream",
     "text": [
      "/home/mathieu/Prose/Mathieu/Benter-Project\n"
     ]
    }
   ],
   "source": [
    "#%cd C:/Users/Mathieu/Desktop/Projets/Benter\n",
    "%cd /home/mathieu/Prose/Mathieu/Benter-Project"
   ]
  },
  {
   "cell_type": "code",
   "execution_count": 2,
   "metadata": {},
   "outputs": [],
   "source": [
    "from models.horse import Horse\n",
    "from models.runner import Runner\n",
    "from models.race import Race\n",
    "from database.setup import create_sqlalchemy_session\n",
    "import pandas as pd\n",
    "import tqdm\n",
    "import random\n",
    "import re\n",
    "from tabulate import tabulate\n",
    "import os\n",
    "import json\n",
    "import datetime as dt\n",
    "from typing import List\n",
    "import sqlalchemy as sa\n",
    "from collections import Counter\n",
    "from  sqlalchemy.sql.expression import func\n",
    "import numpy as np\n",
    "\n",
    "from utils.music import parse_music, parse_unibet_music, MusicRank\n",
    "from utils.logger import setup_logger\n",
    "from constants import UnibetHorseSex\n",
    "\n",
    "BATCH_SIZE = int(1e2)\n",
    "UNIBET_DATA_PATH = \"./data/Unibet\"\n",
    "with create_sqlalchemy_session() as db_session:\n",
    "    horse=db_session.query(Horse).first()\n",
    "    \n",
    "logger = setup_logger(__name__)"
   ]
  },
  {
   "cell_type": "code",
   "execution_count": 18,
   "metadata": {},
   "outputs": [],
   "source": [
    "def get_feature_for_runners(runner_ids: List[int], db_session)->dict:\n",
    "    \n",
    "    horse_query = f\"\"\"\n",
    "    select\n",
    "\tr.id,\n",
    "\traces.date,\n",
    "\tr.music,\n",
    "\trunners_with_history.n_horse_previous_races,\n",
    "\trunners_with_history.n_horse_previous_positions,\n",
    "\trunners_with_history.average_horse_position,\n",
    "\trunners_with_history.average_horse_top_1,\n",
    "\trunners_with_history.average_horse_top_3\n",
    "from\n",
    "\trunners r\n",
    "join races on\n",
    "\tr.race_id = races.id\n",
    "left join(\n",
    "\tselect\n",
    "\t\tr.id,\n",
    "\t\tcount(previous_horse_runners.id) as n_horse_previous_races,\n",
    "\t\tcount(cast( previous_horse_runners.\"position\" as integer)) as n_horse_previous_positions,\n",
    "\t\tAVG(cast( previous_horse_runners.\"position\" as integer)) as average_horse_position,\n",
    "\t\tAVG(cast(previous_horse_runners.top_1 as integer)) as average_horse_top_1,\n",
    "\t\tAVG(cast(previous_horse_runners.top_3 as integer)) as average_horse_top_3\n",
    "\tfrom\n",
    "\t\trunners r\n",
    "\tjoin races on\n",
    "\t\traces.id = r.race_id\n",
    "\tjoin (\n",
    "\t\tselect\n",
    "\t\t\tr1.*,\n",
    "\t\t\tcast(r1.\"position\" as integer)= 1 as top_1,\n",
    "\t\t\tcast(r1.\"position\" as integer)<= 3 as top_3\n",
    "\t\tfrom\n",
    "\t\t\trunners r1) previous_horse_runners on\n",
    "\t\tprevious_horse_runners.horse_id = r.horse_id\n",
    "\tjoin races previous_horse_races on\n",
    "\t\tprevious_horse_races.id = previous_horse_runners.race_id\n",
    "\twhere\n",
    "\t\tprevious_horse_races.date < races.date\n",
    "\t\tand r.id in ({','.join(str(runner_id) for runner_id in runner_ids)})\n",
    "\tgroup by\n",
    "\t\tr.id,\n",
    "\t\traces.date) runners_with_history on\n",
    "\trunners_with_history.id = r.id\n",
    "where\n",
    "\tr.id in ({','.join(str(runner_id) for runner_id in runner_ids)})\n",
    "    \"\"\"\n",
    "    \n",
    "    df_features =  pd.DataFrame(db_session.execute(horse_query).fetchall(), \n",
    "                        columns=['runner_id','race_date', 'music', 'n_horse_previous_races', 'n_horse_previous_positions',\n",
    "                                 'average_horse_position','average_horse_top_1', 'average_horse_top_3'])\n",
    "    df_features.set_index('runner_id', inplace=True)\n",
    "    \n",
    "    \n",
    "    \n",
    "    for entity_name in ['jockey', 'trainer', 'owner']:\n",
    "        query = f\"\"\"\n",
    "select\n",
    "\tr.id,\n",
    "    r.{entity_name}_id,\n",
    "\trunners_with_history.n_{entity_name}_previous_races,\n",
    "\trunners_with_history.n_{entity_name}_previous_positions,\n",
    "\trunners_with_history.average_{entity_name}_position,\n",
    "\trunners_with_history.average_{entity_name}_top_1,\n",
    "\trunners_with_history.average_{entity_name}_top_3\n",
    "from\n",
    "\trunners r\n",
    "join races on\n",
    "\tr.race_id = races.id\n",
    "left join(\n",
    "        select\n",
    "            r.id,\n",
    "            r.{entity_name}_id,\n",
    "            count(previous_{entity_name}_runners.id) as n_{entity_name}_previous_races,\n",
    "            count(cast( previous_{entity_name}_runners.\"position\" as integer)) as n_{entity_name}_previous_positions,\n",
    "            AVG(cast( previous_{entity_name}_runners.\"position\" as integer)) as average_{entity_name}_position,\n",
    "            AVG(cast(previous_{entity_name}_runners.top_1 as integer)) as average_{entity_name}_top_1,\n",
    "            AVG(cast(previous_{entity_name}_runners.top_3 as integer)) as average_{entity_name}_top_3\n",
    "        from\n",
    "            runners r\n",
    "        join races on\n",
    "            races.id = r.race_id\n",
    "        join (select r1.*, cast(r1.\"position\" as integer)=1  as top_1, cast(r1.\"position\" as integer)<=3  as top_3 from runners r1) previous_{entity_name}_runners on\n",
    "            previous_{entity_name}_runners.{entity_name}_id = r.{entity_name}_id \n",
    "        join races previous_{entity_name}_races on\n",
    "            previous_{entity_name}_races.id = previous_{entity_name}_runners.race_id\n",
    "        where\n",
    "            previous_{entity_name}_races.date < races.date\n",
    "            and r.id in ({','.join(str(runner_id) for runner_id in runner_ids)})\n",
    "        group by r.id) runners_with_history on\n",
    "\trunners_with_history.id = r.id\n",
    "where\n",
    "\tr.id in ({','.join(str(runner_id) for runner_id in runner_ids)})\"\"\"\n",
    "        df_feature_sub = pd.DataFrame(db_session.execute(query).fetchall(), \n",
    "                                      columns=['runner_id', f'{entity_name}_id', f'n_{entity_name}_previous_races', \n",
    "                                               f'n_{entity_name}_previous_positions', f'average_{entity_name}_position',\n",
    "                                              f'average_{entity_name}_top_1', f'average_{entity_name}_top_3'])\n",
    "        df_feature_sub.set_index('runner_id', inplace=True)\n",
    "        df_features=df_features.join(df_feature_sub, on='runner_id')\n",
    "    df_features.fillna(value=np.nan, inplace=True)\n",
    "    return df_features\n",
    "                                  \n",
    "       "
   ]
  },
  {
   "cell_type": "code",
   "execution_count": 19,
   "metadata": {},
   "outputs": [],
   "source": [
    "with create_sqlalchemy_session() as db_session:\n",
    "    runner_ids = [r[0] for r in db_session.query(Runner.id).all()]"
   ]
  },
  {
   "cell_type": "code",
   "execution_count": 20,
   "metadata": {},
   "outputs": [
    {
     "data": {
      "text/plain": [
       "[2, 3, 4, 5, 6, 7, 8, 9, 10, 11]"
      ]
     },
     "execution_count": 20,
     "metadata": {},
     "output_type": "execute_result"
    }
   ],
   "source": [
    "runner_ids[:10]"
   ]
  },
  {
   "cell_type": "code",
   "execution_count": 21,
   "metadata": {},
   "outputs": [],
   "source": [
    "with create_sqlalchemy_session() as db_session:\n",
    "    df_features=get_feature_for_runners(runner_ids=runner_ids[:100], db_session=db_session)\n",
    "   "
   ]
  },
  {
   "cell_type": "code",
   "execution_count": 22,
   "metadata": {},
   "outputs": [
    {
     "data": {
      "text/plain": [
       "(100, 25)"
      ]
     },
     "execution_count": 22,
     "metadata": {},
     "output_type": "execute_result"
    }
   ],
   "source": [
    "df_features.shape"
   ]
  },
  {
   "cell_type": "code",
   "execution_count": null,
   "metadata": {},
   "outputs": [],
   "source": []
  },
  {
   "cell_type": "markdown",
   "metadata": {},
   "source": [
    "def fusion_horse_feature(row):\n",
    "    parsed_music=parse_unibet_music(row.race_date.year, row.music)\n",
    "\n",
    "    mean_place, win_ratio =np.nan, np.nan\n",
    "    if parsed_music and len(parsed_music.events) > row.n_horse_previous_races:\n",
    "        mean_place =np.mean([event.rank.value for event in parsed_music.events if isinstance(event.rank.value, int) and event.rank != MusicRank.TENTH_AND_BELOW])\n",
    "        win_ratio=np.mean([event.rank == MusicRank.FIRST for event in parsed_music.events])\n",
    "\n",
    "    elif row.n_horse_previous_races:\n",
    "        mean_place = row.average_horse_position\n",
    "        win_ratio=row.average_horse_top_1\n",
    "\n",
    "    return pd.Series({'mean_horse_place': mean_place, 'average_horse_top_1':win_ratio})"
   ]
  },
  {
   "cell_type": "code",
   "execution_count": null,
   "metadata": {},
   "outputs": [],
   "source": []
  },
  {
   "cell_type": "code",
   "execution_count": 27,
   "metadata": {},
   "outputs": [
    {
     "ename": "AttributeError",
     "evalue": "'Series' object has no attribute 'average_horse_top_1'",
     "output_type": "error",
     "traceback": [
      "\u001b[0;31m---------------------------------------------------------------------------\u001b[0m",
      "\u001b[0;31mAttributeError\u001b[0m                            Traceback (most recent call last)",
      "\u001b[0;32m<ipython-input-27-ec3a17dd11fa>\u001b[0m in \u001b[0;36m<module>\u001b[0;34m\u001b[0m\n\u001b[0;32m----> 1\u001b[0;31m \u001b[0mdf_features\u001b[0m\u001b[0;34m=\u001b[0m\u001b[0mpd\u001b[0m\u001b[0;34m.\u001b[0m\u001b[0mmerge\u001b[0m\u001b[0;34m(\u001b[0m\u001b[0mdf_features\u001b[0m\u001b[0;34m,\u001b[0m \u001b[0mdf_features\u001b[0m\u001b[0;34m.\u001b[0m\u001b[0mapply\u001b[0m\u001b[0;34m(\u001b[0m\u001b[0mfusion_horse_feature\u001b[0m\u001b[0;34m,\u001b[0m \u001b[0maxis\u001b[0m\u001b[0;34m=\u001b[0m\u001b[0;36m1\u001b[0m\u001b[0;34m)\u001b[0m\u001b[0;34m,\u001b[0m\u001b[0mleft_index\u001b[0m\u001b[0;34m=\u001b[0m\u001b[0;32mTrue\u001b[0m\u001b[0;34m,\u001b[0m \u001b[0mright_index\u001b[0m\u001b[0;34m=\u001b[0m\u001b[0;32mTrue\u001b[0m\u001b[0;34m)\u001b[0m\u001b[0;34m\u001b[0m\u001b[0;34m\u001b[0m\u001b[0m\n\u001b[0m",
      "\u001b[0;32m~/.pyenv/versions/3.7.9/envs/benter-project_venv/lib/python3.7/site-packages/pandas/core/frame.py\u001b[0m in \u001b[0;36mapply\u001b[0;34m(self, func, axis, raw, result_type, args, **kwds)\u001b[0m\n\u001b[1;32m   7550\u001b[0m             \u001b[0mkwds\u001b[0m\u001b[0;34m=\u001b[0m\u001b[0mkwds\u001b[0m\u001b[0;34m,\u001b[0m\u001b[0;34m\u001b[0m\u001b[0;34m\u001b[0m\u001b[0m\n\u001b[1;32m   7551\u001b[0m         )\n\u001b[0;32m-> 7552\u001b[0;31m         \u001b[0;32mreturn\u001b[0m \u001b[0mop\u001b[0m\u001b[0;34m.\u001b[0m\u001b[0mget_result\u001b[0m\u001b[0;34m(\u001b[0m\u001b[0;34m)\u001b[0m\u001b[0;34m\u001b[0m\u001b[0;34m\u001b[0m\u001b[0m\n\u001b[0m\u001b[1;32m   7553\u001b[0m \u001b[0;34m\u001b[0m\u001b[0m\n\u001b[1;32m   7554\u001b[0m     \u001b[0;32mdef\u001b[0m \u001b[0mapplymap\u001b[0m\u001b[0;34m(\u001b[0m\u001b[0mself\u001b[0m\u001b[0;34m,\u001b[0m \u001b[0mfunc\u001b[0m\u001b[0;34m)\u001b[0m \u001b[0;34m->\u001b[0m \u001b[0;34m\"DataFrame\"\u001b[0m\u001b[0;34m:\u001b[0m\u001b[0;34m\u001b[0m\u001b[0;34m\u001b[0m\u001b[0m\n",
      "\u001b[0;32m~/.pyenv/versions/3.7.9/envs/benter-project_venv/lib/python3.7/site-packages/pandas/core/apply.py\u001b[0m in \u001b[0;36mget_result\u001b[0;34m(self)\u001b[0m\n\u001b[1;32m    183\u001b[0m             \u001b[0;32mreturn\u001b[0m \u001b[0mself\u001b[0m\u001b[0;34m.\u001b[0m\u001b[0mapply_raw\u001b[0m\u001b[0;34m(\u001b[0m\u001b[0;34m)\u001b[0m\u001b[0;34m\u001b[0m\u001b[0;34m\u001b[0m\u001b[0m\n\u001b[1;32m    184\u001b[0m \u001b[0;34m\u001b[0m\u001b[0m\n\u001b[0;32m--> 185\u001b[0;31m         \u001b[0;32mreturn\u001b[0m \u001b[0mself\u001b[0m\u001b[0;34m.\u001b[0m\u001b[0mapply_standard\u001b[0m\u001b[0;34m(\u001b[0m\u001b[0;34m)\u001b[0m\u001b[0;34m\u001b[0m\u001b[0;34m\u001b[0m\u001b[0m\n\u001b[0m\u001b[1;32m    186\u001b[0m \u001b[0;34m\u001b[0m\u001b[0m\n\u001b[1;32m    187\u001b[0m     \u001b[0;32mdef\u001b[0m \u001b[0mapply_empty_result\u001b[0m\u001b[0;34m(\u001b[0m\u001b[0mself\u001b[0m\u001b[0;34m)\u001b[0m\u001b[0;34m:\u001b[0m\u001b[0;34m\u001b[0m\u001b[0;34m\u001b[0m\u001b[0m\n",
      "\u001b[0;32m~/.pyenv/versions/3.7.9/envs/benter-project_venv/lib/python3.7/site-packages/pandas/core/apply.py\u001b[0m in \u001b[0;36mapply_standard\u001b[0;34m(self)\u001b[0m\n\u001b[1;32m    274\u001b[0m \u001b[0;34m\u001b[0m\u001b[0m\n\u001b[1;32m    275\u001b[0m     \u001b[0;32mdef\u001b[0m \u001b[0mapply_standard\u001b[0m\u001b[0;34m(\u001b[0m\u001b[0mself\u001b[0m\u001b[0;34m)\u001b[0m\u001b[0;34m:\u001b[0m\u001b[0;34m\u001b[0m\u001b[0;34m\u001b[0m\u001b[0m\n\u001b[0;32m--> 276\u001b[0;31m         \u001b[0mresults\u001b[0m\u001b[0;34m,\u001b[0m \u001b[0mres_index\u001b[0m \u001b[0;34m=\u001b[0m \u001b[0mself\u001b[0m\u001b[0;34m.\u001b[0m\u001b[0mapply_series_generator\u001b[0m\u001b[0;34m(\u001b[0m\u001b[0;34m)\u001b[0m\u001b[0;34m\u001b[0m\u001b[0;34m\u001b[0m\u001b[0m\n\u001b[0m\u001b[1;32m    277\u001b[0m \u001b[0;34m\u001b[0m\u001b[0m\n\u001b[1;32m    278\u001b[0m         \u001b[0;31m# wrap results\u001b[0m\u001b[0;34m\u001b[0m\u001b[0;34m\u001b[0m\u001b[0;34m\u001b[0m\u001b[0m\n",
      "\u001b[0;32m~/.pyenv/versions/3.7.9/envs/benter-project_venv/lib/python3.7/site-packages/pandas/core/apply.py\u001b[0m in \u001b[0;36mapply_series_generator\u001b[0;34m(self)\u001b[0m\n\u001b[1;32m    303\u001b[0m                 \u001b[0;32mfor\u001b[0m \u001b[0mi\u001b[0m\u001b[0;34m,\u001b[0m \u001b[0mv\u001b[0m \u001b[0;32min\u001b[0m \u001b[0menumerate\u001b[0m\u001b[0;34m(\u001b[0m\u001b[0mseries_gen\u001b[0m\u001b[0;34m)\u001b[0m\u001b[0;34m:\u001b[0m\u001b[0;34m\u001b[0m\u001b[0;34m\u001b[0m\u001b[0m\n\u001b[1;32m    304\u001b[0m                     \u001b[0;31m# ignore SettingWithCopy here in case the user mutates\u001b[0m\u001b[0;34m\u001b[0m\u001b[0;34m\u001b[0m\u001b[0;34m\u001b[0m\u001b[0m\n\u001b[0;32m--> 305\u001b[0;31m                     \u001b[0mresults\u001b[0m\u001b[0;34m[\u001b[0m\u001b[0mi\u001b[0m\u001b[0;34m]\u001b[0m \u001b[0;34m=\u001b[0m \u001b[0mself\u001b[0m\u001b[0;34m.\u001b[0m\u001b[0mf\u001b[0m\u001b[0;34m(\u001b[0m\u001b[0mv\u001b[0m\u001b[0;34m)\u001b[0m\u001b[0;34m\u001b[0m\u001b[0;34m\u001b[0m\u001b[0m\n\u001b[0m\u001b[1;32m    306\u001b[0m                     \u001b[0;32mif\u001b[0m \u001b[0misinstance\u001b[0m\u001b[0;34m(\u001b[0m\u001b[0mresults\u001b[0m\u001b[0;34m[\u001b[0m\u001b[0mi\u001b[0m\u001b[0;34m]\u001b[0m\u001b[0;34m,\u001b[0m \u001b[0mABCSeries\u001b[0m\u001b[0;34m)\u001b[0m\u001b[0;34m:\u001b[0m\u001b[0;34m\u001b[0m\u001b[0;34m\u001b[0m\u001b[0m\n\u001b[1;32m    307\u001b[0m                         \u001b[0;31m# If we have a view on v, we need to make a copy because\u001b[0m\u001b[0;34m\u001b[0m\u001b[0;34m\u001b[0m\u001b[0;34m\u001b[0m\u001b[0m\n",
      "\u001b[0;32m<ipython-input-26-f61d4f64adfd>\u001b[0m in \u001b[0;36mfusion_horse_feature\u001b[0;34m(row)\u001b[0m\n\u001b[1;32m      9\u001b[0m     \u001b[0;32melif\u001b[0m \u001b[0mrow\u001b[0m\u001b[0;34m.\u001b[0m\u001b[0mn_horse_previous_races\u001b[0m\u001b[0;34m:\u001b[0m\u001b[0;34m\u001b[0m\u001b[0;34m\u001b[0m\u001b[0m\n\u001b[1;32m     10\u001b[0m         \u001b[0mmean_place\u001b[0m \u001b[0;34m=\u001b[0m \u001b[0mrow\u001b[0m\u001b[0;34m.\u001b[0m\u001b[0maverage_horse_position\u001b[0m\u001b[0;34m\u001b[0m\u001b[0;34m\u001b[0m\u001b[0m\n\u001b[0;32m---> 11\u001b[0;31m         \u001b[0mwin_ratio\u001b[0m\u001b[0;34m=\u001b[0m\u001b[0mrow\u001b[0m\u001b[0;34m.\u001b[0m\u001b[0maverage_horse_top_1\u001b[0m\u001b[0;34m\u001b[0m\u001b[0;34m\u001b[0m\u001b[0m\n\u001b[0m\u001b[1;32m     12\u001b[0m \u001b[0;34m\u001b[0m\u001b[0m\n\u001b[1;32m     13\u001b[0m     \u001b[0;32mreturn\u001b[0m \u001b[0mpd\u001b[0m\u001b[0;34m.\u001b[0m\u001b[0mSeries\u001b[0m\u001b[0;34m(\u001b[0m\u001b[0;34m{\u001b[0m\u001b[0;34m'mean_horse_place'\u001b[0m\u001b[0;34m:\u001b[0m \u001b[0mmean_place\u001b[0m\u001b[0;34m,\u001b[0m \u001b[0;34m'average_horse_top_1'\u001b[0m\u001b[0;34m:\u001b[0m\u001b[0mwin_ratio\u001b[0m\u001b[0;34m}\u001b[0m\u001b[0;34m)\u001b[0m\u001b[0;34m\u001b[0m\u001b[0;34m\u001b[0m\u001b[0m\n",
      "\u001b[0;32m~/.pyenv/versions/3.7.9/envs/benter-project_venv/lib/python3.7/site-packages/pandas/core/generic.py\u001b[0m in \u001b[0;36m__getattr__\u001b[0;34m(self, name)\u001b[0m\n\u001b[1;32m   5139\u001b[0m             \u001b[0;32mif\u001b[0m \u001b[0mself\u001b[0m\u001b[0;34m.\u001b[0m\u001b[0m_info_axis\u001b[0m\u001b[0;34m.\u001b[0m\u001b[0m_can_hold_identifiers_and_holds_name\u001b[0m\u001b[0;34m(\u001b[0m\u001b[0mname\u001b[0m\u001b[0;34m)\u001b[0m\u001b[0;34m:\u001b[0m\u001b[0;34m\u001b[0m\u001b[0;34m\u001b[0m\u001b[0m\n\u001b[1;32m   5140\u001b[0m                 \u001b[0;32mreturn\u001b[0m \u001b[0mself\u001b[0m\u001b[0;34m[\u001b[0m\u001b[0mname\u001b[0m\u001b[0;34m]\u001b[0m\u001b[0;34m\u001b[0m\u001b[0;34m\u001b[0m\u001b[0m\n\u001b[0;32m-> 5141\u001b[0;31m             \u001b[0;32mreturn\u001b[0m \u001b[0mobject\u001b[0m\u001b[0;34m.\u001b[0m\u001b[0m__getattribute__\u001b[0m\u001b[0;34m(\u001b[0m\u001b[0mself\u001b[0m\u001b[0;34m,\u001b[0m \u001b[0mname\u001b[0m\u001b[0;34m)\u001b[0m\u001b[0;34m\u001b[0m\u001b[0;34m\u001b[0m\u001b[0m\n\u001b[0m\u001b[1;32m   5142\u001b[0m \u001b[0;34m\u001b[0m\u001b[0m\n\u001b[1;32m   5143\u001b[0m     \u001b[0;32mdef\u001b[0m \u001b[0m__setattr__\u001b[0m\u001b[0;34m(\u001b[0m\u001b[0mself\u001b[0m\u001b[0;34m,\u001b[0m \u001b[0mname\u001b[0m\u001b[0;34m:\u001b[0m \u001b[0mstr\u001b[0m\u001b[0;34m,\u001b[0m \u001b[0mvalue\u001b[0m\u001b[0;34m)\u001b[0m \u001b[0;34m->\u001b[0m \u001b[0;32mNone\u001b[0m\u001b[0;34m:\u001b[0m\u001b[0;34m\u001b[0m\u001b[0;34m\u001b[0m\u001b[0m\n",
      "\u001b[0;31mAttributeError\u001b[0m: 'Series' object has no attribute 'average_horse_top_1'"
     ]
    }
   ],
   "source": [
    "df_features=pd.merge(df_features, df_features.apply(fusion_horse_feature, axis=1),left_index=True, right_index=True)"
   ]
  },
  {
   "cell_type": "code",
   "execution_count": 28,
   "metadata": {},
   "outputs": [
    {
     "ename": "AttributeError",
     "evalue": "'Series' object has no attribute 'average_horse_top_1'",
     "output_type": "error",
     "traceback": [
      "\u001b[0;31m---------------------------------------------------------------------------\u001b[0m",
      "\u001b[0;31mAttributeError\u001b[0m                            Traceback (most recent call last)",
      "\u001b[0;32m<ipython-input-28-8bf744ad60f9>\u001b[0m in \u001b[0;36m<module>\u001b[0;34m\u001b[0m\n\u001b[1;32m      1\u001b[0m \u001b[0;32mfor\u001b[0m \u001b[0mindex\u001b[0m\u001b[0;34m,\u001b[0m \u001b[0mrow\u001b[0m \u001b[0;32min\u001b[0m \u001b[0mdf_features\u001b[0m\u001b[0;34m.\u001b[0m\u001b[0miterrows\u001b[0m\u001b[0;34m(\u001b[0m\u001b[0;34m)\u001b[0m\u001b[0;34m:\u001b[0m\u001b[0;34m\u001b[0m\u001b[0;34m\u001b[0m\u001b[0m\n\u001b[0;32m----> 2\u001b[0;31m     \u001b[0mprint\u001b[0m\u001b[0;34m(\u001b[0m\u001b[0mindex\u001b[0m\u001b[0;34m,\u001b[0m \u001b[0mfusion_horse_feature\u001b[0m\u001b[0;34m(\u001b[0m\u001b[0mrow\u001b[0m\u001b[0;34m)\u001b[0m\u001b[0;34m)\u001b[0m\u001b[0;34m\u001b[0m\u001b[0;34m\u001b[0m\u001b[0m\n\u001b[0m",
      "\u001b[0;32m<ipython-input-26-f61d4f64adfd>\u001b[0m in \u001b[0;36mfusion_horse_feature\u001b[0;34m(row)\u001b[0m\n\u001b[1;32m      9\u001b[0m     \u001b[0;32melif\u001b[0m \u001b[0mrow\u001b[0m\u001b[0;34m.\u001b[0m\u001b[0mn_horse_previous_races\u001b[0m\u001b[0;34m:\u001b[0m\u001b[0;34m\u001b[0m\u001b[0;34m\u001b[0m\u001b[0m\n\u001b[1;32m     10\u001b[0m         \u001b[0mmean_place\u001b[0m \u001b[0;34m=\u001b[0m \u001b[0mrow\u001b[0m\u001b[0;34m.\u001b[0m\u001b[0maverage_horse_position\u001b[0m\u001b[0;34m\u001b[0m\u001b[0;34m\u001b[0m\u001b[0m\n\u001b[0;32m---> 11\u001b[0;31m         \u001b[0mwin_ratio\u001b[0m\u001b[0;34m=\u001b[0m\u001b[0mrow\u001b[0m\u001b[0;34m.\u001b[0m\u001b[0maverage_horse_top_1\u001b[0m\u001b[0;34m\u001b[0m\u001b[0;34m\u001b[0m\u001b[0m\n\u001b[0m\u001b[1;32m     12\u001b[0m \u001b[0;34m\u001b[0m\u001b[0m\n\u001b[1;32m     13\u001b[0m     \u001b[0;32mreturn\u001b[0m \u001b[0mpd\u001b[0m\u001b[0;34m.\u001b[0m\u001b[0mSeries\u001b[0m\u001b[0;34m(\u001b[0m\u001b[0;34m{\u001b[0m\u001b[0;34m'mean_horse_place'\u001b[0m\u001b[0;34m:\u001b[0m \u001b[0mmean_place\u001b[0m\u001b[0;34m,\u001b[0m \u001b[0;34m'average_horse_top_1'\u001b[0m\u001b[0;34m:\u001b[0m\u001b[0mwin_ratio\u001b[0m\u001b[0;34m}\u001b[0m\u001b[0;34m)\u001b[0m\u001b[0;34m\u001b[0m\u001b[0;34m\u001b[0m\u001b[0m\n",
      "\u001b[0;32m~/.pyenv/versions/3.7.9/envs/benter-project_venv/lib/python3.7/site-packages/pandas/core/generic.py\u001b[0m in \u001b[0;36m__getattr__\u001b[0;34m(self, name)\u001b[0m\n\u001b[1;32m   5139\u001b[0m             \u001b[0;32mif\u001b[0m \u001b[0mself\u001b[0m\u001b[0;34m.\u001b[0m\u001b[0m_info_axis\u001b[0m\u001b[0;34m.\u001b[0m\u001b[0m_can_hold_identifiers_and_holds_name\u001b[0m\u001b[0;34m(\u001b[0m\u001b[0mname\u001b[0m\u001b[0;34m)\u001b[0m\u001b[0;34m:\u001b[0m\u001b[0;34m\u001b[0m\u001b[0;34m\u001b[0m\u001b[0m\n\u001b[1;32m   5140\u001b[0m                 \u001b[0;32mreturn\u001b[0m \u001b[0mself\u001b[0m\u001b[0;34m[\u001b[0m\u001b[0mname\u001b[0m\u001b[0;34m]\u001b[0m\u001b[0;34m\u001b[0m\u001b[0;34m\u001b[0m\u001b[0m\n\u001b[0;32m-> 5141\u001b[0;31m             \u001b[0;32mreturn\u001b[0m \u001b[0mobject\u001b[0m\u001b[0;34m.\u001b[0m\u001b[0m__getattribute__\u001b[0m\u001b[0;34m(\u001b[0m\u001b[0mself\u001b[0m\u001b[0;34m,\u001b[0m \u001b[0mname\u001b[0m\u001b[0;34m)\u001b[0m\u001b[0;34m\u001b[0m\u001b[0;34m\u001b[0m\u001b[0m\n\u001b[0m\u001b[1;32m   5142\u001b[0m \u001b[0;34m\u001b[0m\u001b[0m\n\u001b[1;32m   5143\u001b[0m     \u001b[0;32mdef\u001b[0m \u001b[0m__setattr__\u001b[0m\u001b[0;34m(\u001b[0m\u001b[0mself\u001b[0m\u001b[0;34m,\u001b[0m \u001b[0mname\u001b[0m\u001b[0;34m:\u001b[0m \u001b[0mstr\u001b[0m\u001b[0;34m,\u001b[0m \u001b[0mvalue\u001b[0m\u001b[0;34m)\u001b[0m \u001b[0;34m->\u001b[0m \u001b[0;32mNone\u001b[0m\u001b[0;34m:\u001b[0m\u001b[0;34m\u001b[0m\u001b[0;34m\u001b[0m\u001b[0m\n",
      "\u001b[0;31mAttributeError\u001b[0m: 'Series' object has no attribute 'average_horse_top_1'"
     ]
    }
   ],
   "source": [
    "for index, row in df_features.iterrows():\n",
    "    print(index, fusion_horse_feature(row))"
   ]
  },
  {
   "cell_type": "code",
   "execution_count": 29,
   "metadata": {},
   "outputs": [
    {
     "data": {
      "text/plain": [
       "race_date                                      2005-06-18\n",
       "music                           6o 1o (04) 4o 2o 1o 1o 3o\n",
       "n_horse_previous_races                                NaN\n",
       "n_horse_previous_positions                            NaN\n",
       "average_horse_position                                NaN\n",
       "average_horse_top_1_x                                 NaN\n",
       "average_horse_top_3                                   NaN\n",
       "jockey_id                                               3\n",
       "n_jockey_previous_races                               NaN\n",
       "n_jockey_previous_positions                           NaN\n",
       "average_jockey_position                               NaN\n",
       "average_jockey_top_1                                  NaN\n",
       "average_jockey_top_3                                  NaN\n",
       "trainer_id                                              2\n",
       "n_trainer_previous_races                              NaN\n",
       "n_trainer_previous_positions                          NaN\n",
       "average_trainer_position                              NaN\n",
       "average_trainer_top_1                                 NaN\n",
       "average_trainer_top_3                                 NaN\n",
       "owner_id                                                1\n",
       "n_owner_previous_races                                NaN\n",
       "n_owner_previous_positions                            NaN\n",
       "average_owner_position                                NaN\n",
       "average_owner_top_1                                   NaN\n",
       "average_owner_top_3                                   NaN\n",
       "mean_horse_place                                      NaN\n",
       "average_horse_top_1_y                                 NaN\n",
       "Name: 2, dtype: object"
      ]
     },
     "execution_count": 29,
     "metadata": {},
     "output_type": "execute_result"
    }
   ],
   "source": [
    "row"
   ]
  },
  {
   "cell_type": "code",
   "execution_count": 25,
   "metadata": {},
   "outputs": [
    {
     "data": {
      "text/plain": [
       "(100, 27)"
      ]
     },
     "execution_count": 25,
     "metadata": {},
     "output_type": "execute_result"
    }
   ],
   "source": [
    "df_features.shape"
   ]
  },
  {
   "cell_type": "code",
   "execution_count": null,
   "metadata": {},
   "outputs": [],
   "source": [
    "# Appendix"
   ]
  },
  {
   "cell_type": "code",
   "execution_count": null,
   "metadata": {},
   "outputs": [],
   "source": [
    "def get_feature_for_runner(runner: Runner)->dict:\n",
    "    previous_horse_runners = [r for r in runner.horse.runners if r.race.date < runner.race.date]\n",
    "    previous_jockey_runners = [r for r in runner.jockey_entity.runners_as_jockey if r.race.date < runner.race.date]\n",
    "    previous_trainer_runners = [r for r in runner.trainer_entity.runners_as_trainer if r.race.date < runner.race.date]\n",
    "    \n",
    "    parsed_music=parse_unibet_music(runner.race.date.year, runner.music)\n",
    "\n",
    "    mean_place, win_ratio =None, None\n",
    "    if parsed_music and len(parsed_music.events) > len(previous_horse_runners):\n",
    "        mean_place =np.mean([event.rank.value for event in parsed_music.events if isinstance(event.rank.value, int) and event.rank != MusicRank.TENTH_AND_BELOW])\n",
    "        win_ratio=np.mean([event.rank == MusicRank.FIRST for event in parsed_music.events])\n",
    "    \n",
    "    elif previous_horse_runners:\n",
    "        mean_place = np.mean([int(r.position) for r in previous_horse_runners if r.position and r.position.isnumeric() and int(r.position)!=0])\n",
    "        win_ratio=np.mean([r.position=='1' for r in previous_horse_runners])\n",
    "        \n",
    "    jockey_mean_position, jockey_win_ratio = None, None\n",
    "    if previous_jockey_runners:\n",
    "        jockey_mean_position = np.mean([int(r.position) for r in previous_jockey_runners if r.position and r.position.isnumeric() and int(r.position)!=0])\n",
    "        jockey_win_ratio=np.mean([r.position=='1' for r in previous_jockey_runners])\n",
    "    \n",
    "    trainer_mean_position, trainer_win_ratio =  None, None\n",
    "    if previous_trainer_runners:\n",
    "        trainer_mean_position = np.mean([int(r.position) for r in previous_trainer_runners if r.position and r.position.isnumeric() and int(r.position)!=0])\n",
    "        trainer_win_ratio=np.mean([r.position=='1' for r in previous_trainer_runners])\n",
    "        \n",
    "    return {'mean_place':mean_place, 'win_ratio':win_ratio, 'jockey_mean_position':jockey_mean_position, 'jockey_win_ratio': jockey_win_ratio,\n",
    "           'trainer_mean_position':trainer_mean_position,'trainer_win_ratio':trainer_win_ratio}"
   ]
  },
  {
   "cell_type": "code",
   "execution_count": null,
   "metadata": {},
   "outputs": [],
   "source": [
    "with create_sqlalchemy_session() as db_session:\n",
    "    for r in race.runners:\n",
    "        runner =db_session.query(Runner).filter(Runner.id==r.id).one()\n",
    "\n",
    "        previous_horse_runners = [r for r in runner.horse.runners if r.race.date < runner.race.date]\n",
    "\n",
    "        parsed_music=parse_unibet_music(runner.race.date.year, runner.music)\n",
    "\n",
    "        if len(parsed_music.events) > len(previous_horse_runners):\n",
    "            mean_place =np.mean([event.rank.value for event in parsed_music.events if isinstance(event.rank.value, int) and event.rank != MusicRank.TENTH_AND_BELOW])\n",
    "            win_ratio=np.mean([event.rank == MusicRank.FIRST for event in parsed_music.events])\n",
    "\n",
    "        else:\n",
    "            mean_place = np.mean([int(r.position) for r in previous_horse_runners if r.position.isnumeric() and int(r.position)!=0])\n",
    "            win_ratio=np.mean([r.position=='1' for r in previous_horse_runners])\n",
    "\n",
    "        print({'mean_place':mean_place, 'win_ratio':win_ratio})"
   ]
  },
  {
   "cell_type": "code",
   "execution_count": null,
   "metadata": {
    "scrolled": true
   },
   "outputs": [],
   "source": [
    "N_HORSES_RACE =16\n",
    "with create_sqlalchemy_session() as db_session:\n",
    "    race_ids =db_session.execute(f\"\"\"select race_id \n",
    "from (\n",
    "select r.race_id, count(1) as \"n_horses\"\n",
    "from runners r\n",
    "group by r.race_id ) as race_n_horses\n",
    "where race_n_horses.n_horses={N_HORSES_RACE}\"\"\").fetchall()\n",
    "    \n",
    "    race_ids = [race_id[0] for race_id in race_ids]\n",
    "    \n",
    "    "
   ]
  },
  {
   "cell_type": "code",
   "execution_count": null,
   "metadata": {},
   "outputs": [],
   "source": [
    "\n"
   ]
  }
 ],
 "metadata": {
  "kernelspec": {
   "display_name": "Python 3",
   "language": "python",
   "name": "python3"
  },
  "language_info": {
   "codemirror_mode": {
    "name": "ipython",
    "version": 3
   },
   "file_extension": ".py",
   "mimetype": "text/x-python",
   "name": "python",
   "nbconvert_exporter": "python",
   "pygments_lexer": "ipython3",
   "version": "3.7.9"
  }
 },
 "nbformat": 4,
 "nbformat_minor": 4
}
