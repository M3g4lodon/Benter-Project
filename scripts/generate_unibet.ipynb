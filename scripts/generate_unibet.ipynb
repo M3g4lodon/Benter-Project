{
 "cells": [
  {
   "cell_type": "code",
   "execution_count": 1,
   "metadata": {},
   "outputs": [
    {
     "name": "stdout",
     "output_type": "stream",
     "text": [
      "/home/mathieu/Mindsay/mathieu/Benter-Project\n"
     ]
    }
   ],
   "source": [
    "#%cd C:/Users/Mathieu/Desktop/Projets/Benter\n",
    "%cd /home/mathieu/Mindsay/mathieu/Benter-Project"
   ]
  },
  {
   "cell_type": "code",
   "execution_count": 2,
   "metadata": {},
   "outputs": [],
   "source": [
    "from typing import Generator, Optional\n",
    "\n",
    "import datetime as dt\n",
    "import os\n",
    "import json\n",
    "\n",
    "from constants import UNIBET_MIN_DATE"
   ]
  },
  {
   "cell_type": "code",
   "execution_count": null,
   "metadata": {},
   "outputs": [],
   "source": [
    "# Found in JS unibet code\n",
    "l = { INITIAL: { statusCode: 0 }, UPCOMING: { statusText: \"NOT_STARTED\", statusCSS: \"RACE_UPCOMING\", statusMessage: \"\", statusCode: 1 }, STARTED: { statusText: \"STARTED\", statusCSS: \"RACE_STARTED\", statusMessage: \"Les chevaux sont partis\", statusCode: 2 }, FINISHED: { statusText: \"FINISHED_OFFICIAL\", statusCSS: \"RACE_FINISHED\", statusMessage: \"Course terminée\", statusMessageLong: \"La course est terminée\", statusCode: 6 }, PROVISIONAL: { statusText: \"FINISHED_PROVISIONAL\", statusCSS: \"RACE_FINISHED\", statusMessage: \"Course terminée\", statusMessageLong: \"La course est terminée\", inquiryStatus: 8, inquiryStatusBis: 10, statusCodeFrom: 7, statusCodeTo: 10 }, CANCELLED: { statusCSS: \"RACE_CANCELLED\", statusText: \"CANCELLED\", statusMessage: \"Course anulée\", statusCode: 11 } },\n",
    "u = { meetings: \"meetings\", upcoming: \"upcoming\" },\n",
    "d = { rates: \"rates\", results: \"results\", betrunners: \"betrunners\" },\n",
    "p = { SIMPLE: { name: \"Simple\", index: \"SIMPLE\", categoryName: \"S\", css: \"bet-simple\", field: !1, minRunners: a[1], help: \"Mise de base: 1€<br>Trouvez le 1er cheval à l’arrivée gagnant ou placé.\" }, JUMELE: { name: \"Jumelé\", index: \"JUMELE\", categoryName: \"J\", css: \"bet-jumele\", field: !0, minRunners: a[3], help: \"Mise de base: 1€<br>Trouvez les 2 premiers chevaux à l’arrivée dans l’ordre ou le désordre.\" } },\n",
    "f = { WINNER: \"WINNER\", PLACED: \"PLACED\", REDUIT: \"REDUIT\", TOTAL: \"TOTAL\" },\n",
    "m = { WINNER_PLACED: \"WINNER_PLACED\", WINNER: \"WINNER\", PLACED: \"PLACED\", DEFAULT: \"DEFAULT\" },\n",
    "h = { 1: { category: \"SIMPLE\", categoryName: \"S<sup>G</sup>\", formula: \"WINNER\", name: \"Simple Gagnant\", css: \"bet-simple-gagnant\", field: !1, help: \"Mise de base: 1€<br>Trouvez le 1er cheval de l’arrivée.\", type: 1 }, 2: { category: \"SIMPLE\", categoryName: \"S<sup>P</sup>\", formula: \"PLACED\", name: \"Simple Placé\", css: \"bet-simple-place\", field: !1, help: \"Mise de base: 1€<br>Trouvez 1 cheval parmi les 3 premiers sur les courses de 8 chevaux et plus OU 1 cheval parmi les 2 premiers sur les courses de 4 à 7 chevaux.\", type: 2 }, 3: { category: \"JUMELE\", categoryName: \"J<sup>G</sup>\", formula: \"WINNER\", name: \"Jumelé Gagnant\", css: \"bet-jumele-gagnant\", field: !0, help: \"Mise de base: 1€<br>Trouvez les 2 premiers chevaux dans l’ordre ou le désordre.\", type: 3 }, 4: { category: \"JUMELE_ORDRE\", categoryName: \"J<sup>or</sup>\", formula: \"DEFAULT\", name: \"Jumelé Ordre\", css: \"bet-jumele-ordre\", field: !0, order: !0, help: \"Mise de base: 1€<br>Trouvez les 2 premiers chevaux dans l’ordre.\", type: 4 }, 5: { category: \"JUMELE\", categoryName: \"J<sup>P</sup>\", formula: \"PLACED\", name: \"Jumelé Placé\", css: \"bet-jumele-place\", field: !0, help: \"Mise de base: 1€<br>Trouvez 2 chevaux parmi les 3 premiers à l’arrivée.\", type: 5 }, 6: { category: \"TRIO\", categoryName: \"T\", formula: \"DEFAULT\", name: \"Trio\", css: \"bet-trio\", field: !0, help: \"Mise de base: 1€<br>Trouvez les 3 premiers chevaux.\", type: 6 }, 7: { category: \"LEBOULET\", categoryName: \"B\", formula: \"DEFAULT\", name: \"Le Boulet\", css: \"bet-boulet\", field: !1, help: \"Mise de base: 1€<br>Trouvez le cheval qui arrive à la 4ème place.\", type: 7 }, 8: { category: \"QUADRI\", categoryName: \"Q\", formula: \"DEFAULT\", name: \"Quadri\", css: \"bet-quadri\", field: !0, miseMin: .5, help: \"Mise de base: 0.50€<br>Trouvez les 4 premiers chevaux, dans l’ordre ou le désordre.\", type: 8 }, 11: { category: \"TRIO_ORDRE\", categoryName: \"T<sup>or</sup>\", formula: \"DEFAULT\", name: \"Trio Ordre\", css: \"bet-trio-ordre\", field: !0, order: !0, help: \"Mise de base: 1€<br>Trouvez les 3 premiers chevaux dans l'ordre.\", type: 11 }, 12: { category: \"5SUR5\", categoryName: \"5/5\", formula: \"DEFAULT\", name: \"5 sur 5\", css: \"bet-5-5\", field: !0, miseMin: .5, help: \"Mise de base: 0.50€<br>Trouvez les 5 premiers chevaux, dans l’ordre ou le désordre.\", type: 12 }, 13: { category: \"2SUR4\", categoryName: \"2/4\", formula: \"DEFAULT\", name: \"2 / 4\", css: \"bet-2-4\", field: !0, help: \"Mise de base: 1€<br>Trouvez 2 chevaux parmi les 4 premiers à l’arrivée.\", type: 13 }, 29: { category: \"DEUZIO\", categoryName: \"Dz\", formula: \"DEFAULT\", name: \"Le Deuzio\", css: \"bet-deuzio\", help: \"Mise de base: 1€<br>Trouvez le cheval qui arrive à la 2ème place.\", type: 29 }, 15: { category: \"MIX4\", formula: \"DEFAULT\", name: \"Mix 4\", css: \"bet-mix4\", field: !0, miseMin: 1.5, help: \"Mise de base : 1.50€<br>Mixez dans un même betslip: un Quadri + des Trios + des Jumelés Gagnants.\", type: 15 }, 16: { category: \"MIX5\", formula: \"DEFAULT\", name: \"Mix 5\", css: \"bet-mix5\", field: !0, miseMin: 2, help: \"Mise de base: 2€<br>Mixez dans un même betslip: un 5 sur 5 + des Quadris + des Trios.\", type: 16 }, 31: { category: \"MIXS\", formula: \"DEFAULT\", name: \"Mix S\", css: \"bet-mixs\", miseMin: 3, help: \"Mise de base: 3€<br>Mixez dans un même betslip: un Simple Gagnant + un Simple Placé + un Deuzio + un Boulet\", type: 31 }, 32: { category: \"JUMELE\", categoryName: \"J\", formula: \"WINNER_PLACED\", name: \"Jumelé GP\", css: \"bet-jumele-gagnantplace\", field: !0, help: \"-\", type: 32 }, 33: { category: \"SIMPLE\", categoryName: \"S\", formula: \"WINNER_PLACED\", name: \"Simple GP\", css: \"bet-simple-gagnantplace\", help: \"-\", type: 33 } };"
   ]
  },
  {
   "cell_type": "code",
   "execution_count": 3,
   "metadata": {},
   "outputs": [],
   "source": [
    "# to check with previous races: https://www.unibet.fr/zones/turf/statistiques.json?raceId=244793&runnerRank=7\n",
    "\n",
    "class UnibetBetTRateType:\n",
    "    simple_gagnant=1\n",
    "    simple_place=2\n",
    "    jumele_gagnant=3\n",
    "    jumele_ordre=4\n",
    "    jumele_place=5\n",
    "    trio=6\n",
    "    boulet=7\n",
    "    quadri=8\n",
    "    trio_ordre=11\n",
    "    two_on_four = 13\n",
    "    deuzio=29\n",
    "    \n",
    "    \n",
    "class UnibetProbableType:\n",
    "    morning_simple_gagnant_odds=5 #\"matin cote\" on simple_gagnant\n",
    "    final_simple_gagnant_odds=6 # \"cote directe\" or \"rapport_final\" on simple_gagnant\n",
    "    morning_simple_place_odds=7 # \"matin cote\" on simple_place\n",
    "    final_simple_place_odds=8 # \"cote directe\" or \"rapport_final\" on simple_place\n",
    "    unknown_probable_type3=9\n",
    "    final_deuzio_odds=13 # \"rapport_final\" on deuzio"
   ]
  },
  {
   "cell_type": "code",
   "execution_count": 4,
   "metadata": {},
   "outputs": [],
   "source": [
    "UNIBET_DATA_PATH=\"./data/Unibet\""
   ]
  },
  {
   "cell_type": "code",
   "execution_count": 5,
   "metadata": {},
   "outputs": [],
   "source": [
    "def date_countdown_generator(start_date:dt.date, end_date:Optional[dt.date])->Generator[dt.date, None, None]:\n",
    "    end_date=end_date or dt.date.today()\n",
    "    current_date= start_date\n",
    "    while current_date <=end_date:\n",
    "        yield current_date\n",
    "        current_date+=dt.timedelta(days=1)"
   ]
  },
  {
   "cell_type": "code",
   "execution_count": 6,
   "metadata": {},
   "outputs": [],
   "source": [
    "seen_runner_id =set()\n",
    "def process_race(race:dict, complete_race:dict)->None:\n",
    "    if complete_race.get('note')=='server error, no json':\n",
    "        # Can not use complete_race\n",
    "        return None\n",
    "    race_name=race['name']\n",
    "    assert complete_race['name']==race['name']\n",
    "    \n",
    "    race_datetime=dt.datetime.fromtimestamp(complete_race['starttime']/1000)\n",
    "    if race_datetime.year <2020:\n",
    "        return None\n",
    "        \n",
    "    if complete_race['betCounter'] is not None:\n",
    "        print(complete_race['betCounter'], complete_race['friendlyUrl'])\n",
    "        \n",
    "    pronostic = complete_race['details']['pronostic']\n",
    "    "
   ]
  },
  {
   "cell_type": "code",
   "execution_count": 7,
   "metadata": {},
   "outputs": [],
   "source": [
    "def process_horse_show(horse_show:dict)->None:\n",
    "    horse_show_datetime=dt.datetime.fromtimestamp(horse_show['date']/1000)\n",
    "    unibet_n_horse_show=horse_show['rank']\n",
    "    horse_show_ground=horse_show['ground']\n",
    "    horse_show_place = horse_show['place']\n",
    "    horse_show_country = horse_show['country']\n",
    "    \n"
   ]
  },
  {
   "cell_type": "code",
   "execution_count": 8,
   "metadata": {},
   "outputs": [],
   "source": [
    "for date in date_countdown_generator(start_date=dt.date(2020,1,1), end_date=dt.date(2020,5,1)):\n",
    "    day_folder_path=os.path.join(UNIBET_DATA_PATH, date.isoformat())\n",
    "    if \"programme.json\" in os.listdir(day_folder_path):\n",
    "        with open(os.path.join(day_folder_path, \"programme.json\"), 'r') as fp:\n",
    "            programme=json.load(fp=fp)\n",
    "        if 'data' not in programme:\n",
    "            print(f'Can not import programme of {date.isoformat()}')\n",
    "            continue\n",
    "            \n",
    "        horse_shows=programme['data']\n",
    "        for horse_show in horse_shows:\n",
    "            process_horse_show(horse_show=horse_show)\n",
    "            \n",
    "            if horse_show.get('races'):\n",
    "                \n",
    "                for race in horse_show['races']:\n",
    "                    race_path = os.path.join(day_folder_path, f\"R{horse_show['rank']}_C{race['rank']}.json\")\n",
    "                    with open(race_path, 'r') as fp:\n",
    "                        complete_race=json.load(fp=fp)\n",
    "                    process_race(race=race, complete_race=complete_race)"
   ]
  },
  {
   "cell_type": "code",
   "execution_count": 9,
   "metadata": {},
   "outputs": [
    {
     "data": {
      "text/plain": [
       "{3078277,\n",
       " 3078278,\n",
       " 3078279,\n",
       " 3078280,\n",
       " 3078281,\n",
       " 3078282,\n",
       " 3078283,\n",
       " 3078284,\n",
       " 3078285,\n",
       " 3078286,\n",
       " 3078287}"
      ]
     },
     "execution_count": 9,
     "metadata": {},
     "output_type": "execute_result"
    }
   ],
   "source": [
    "{runner['zeturfId'] for runner in complete_race['runners']}\n"
   ]
  },
  {
   "cell_type": "code",
   "execution_count": 10,
   "metadata": {},
   "outputs": [
    {
     "data": {
      "text/plain": [
       "dict_keys(['get_url', 'query_date', 'zeturfId', 'meetingId', 'starttime', 'date', 'type', 'name', 'rank', 'conditions', 'stake', 'arjelLevel', 'distance', 'betCounter', 'friendlyUrl', 'runners', 'details', 'results'])"
      ]
     },
     "execution_count": 10,
     "metadata": {},
     "output_type": "execute_result"
    }
   ],
   "source": [
    "complete_race.keys()"
   ]
  },
  {
   "cell_type": "code",
   "execution_count": 21,
   "metadata": {},
   "outputs": [
    {
     "data": {
      "text/plain": [
       "'/turf/race/01-05-2020-R7-C8-gulfstream-park-starter-optional-claiming.html'"
      ]
     },
     "execution_count": 21,
     "metadata": {},
     "output_type": "execute_result"
    }
   ],
   "source": [
    "complete_race['friendlyUrl']"
   ]
  },
  {
   "cell_type": "code",
   "execution_count": 12,
   "metadata": {},
   "outputs": [
    {
     "data": {
      "text/plain": [
       "dict_keys(['zeturfId', 'betList', 'pronostic', 'pronosticList', 'raceDuration', 'betState', 'photos', 'raceBetStatus', 'probables', 'rates'])"
      ]
     },
     "execution_count": 12,
     "metadata": {},
     "output_type": "execute_result"
    }
   ],
   "source": [
    "complete_race['details'].keys()"
   ]
  },
  {
   "cell_type": "code",
   "execution_count": 17,
   "metadata": {},
   "outputs": [
    {
     "data": {
      "text/plain": [
       "dict_keys(['5', '6', '7', '8', '9', '13'])"
      ]
     },
     "execution_count": 17,
     "metadata": {},
     "output_type": "execute_result"
    }
   ],
   "source": [
    "complete_race['details']['probables'].keys()"
   ]
  },
  {
   "cell_type": "code",
   "execution_count": 18,
   "metadata": {},
   "outputs": [
    {
     "data": {
      "text/plain": [
       "[{'type': '1', 'combination': '4', 'rate': '3.8'},\n",
       " {'type': '2', 'combination': '4', 'rate': '1.10'},\n",
       " {'type': '2', 'combination': '1', 'rate': '1.10'},\n",
       " {'type': '2', 'combination': '5', 'rate': '1.9'},\n",
       " {'type': '3', 'combination': '4-1', 'rate': '3.1'},\n",
       " {'type': '5', 'combination': '4-1', 'rate': '1.8'},\n",
       " {'type': '5', 'combination': '4-5', 'rate': '4.9'},\n",
       " {'type': '5', 'combination': '1-5', 'rate': '4.2'},\n",
       " {'type': '4', 'combination': '4-1', 'rate': '7.9'},\n",
       " {'type': '6', 'combination': '4-1-5', 'rate': '12.0'},\n",
       " {'type': '11', 'combination': '4-1-5', 'rate': '38.5'},\n",
       " {'type': '13', 'combination': '4-1', 'rate': '1.10'},\n",
       " {'type': '13', 'combination': '4-5', 'rate': '1.10'},\n",
       " {'type': '13', 'combination': '4-2', 'rate': '1.10'},\n",
       " {'type': '13', 'combination': '1-5', 'rate': '1.10'},\n",
       " {'type': '13', 'combination': '1-2', 'rate': '1.10'},\n",
       " {'type': '13', 'combination': '5-2', 'rate': '1.10'},\n",
       " {'type': '8', 'combination': '4-1-5-2', 'rate': '6.1'},\n",
       " {'type': '29', 'combination': '1', 'rate': '5.4'},\n",
       " {'type': '7', 'combination': '2', 'rate': '7.5'}]"
      ]
     },
     "execution_count": 18,
     "metadata": {},
     "output_type": "execute_result"
    }
   ],
   "source": [
    "complete_race['details']['rates']"
   ]
  },
  {
   "cell_type": "code",
   "execution_count": 20,
   "metadata": {},
   "outputs": [
    {
     "data": {
      "text/plain": [
       "[{'rank': 1,\n",
       "  'number': 1,\n",
       "  'name': 'DALARNA (US)',\n",
       "  'comment': None,\n",
       "  'long_comment': None},\n",
       " {'rank': 2,\n",
       "  'number': 4,\n",
       "  'name': 'HIGH NOON RIDER (US)',\n",
       "  'comment': None,\n",
       "  'long_comment': None},\n",
       " {'rank': 3,\n",
       "  'number': 2,\n",
       "  'name': 'FLOWMOTION (US)',\n",
       "  'comment': None,\n",
       "  'long_comment': None},\n",
       " {'rank': 4,\n",
       "  'number': 10,\n",
       "  'name': 'JAKARTA (US)',\n",
       "  'comment': None,\n",
       "  'long_comment': None},\n",
       " {'rank': 5,\n",
       "  'number': 3,\n",
       "  'name': 'CELEBRATION (GB)',\n",
       "  'comment': None,\n",
       "  'long_comment': None},\n",
       " {'rank': 6,\n",
       "  'number': 7,\n",
       "  'name': 'TIL THE END (US)',\n",
       "  'comment': None,\n",
       "  'long_comment': None}]"
      ]
     },
     "execution_count": 20,
     "metadata": {},
     "output_type": "execute_result"
    }
   ],
   "source": [
    "complete_race['details']['pronosticList']"
   ]
  },
  {
   "cell_type": "code",
   "execution_count": 13,
   "metadata": {},
   "outputs": [
    {
     "data": {
      "text/plain": [
       "[{'type': 1,\n",
       "  'rate': 86.5,\n",
       "  'max': 450,\n",
       "  'open': False,\n",
       "  'status': 16,\n",
       "  'isolated': 0,\n",
       "  'betstatus': 'PAID'},\n",
       " {'type': 2,\n",
       "  'rate': 82.0,\n",
       "  'max': 450,\n",
       "  'open': False,\n",
       "  'status': 16,\n",
       "  'isolated': 0,\n",
       "  'betstatus': 'PAID'},\n",
       " {'type': 3,\n",
       "  'rate': 75.0,\n",
       "  'max': 50,\n",
       "  'open': False,\n",
       "  'status': 16,\n",
       "  'isolated': 0,\n",
       "  'betstatus': 'PAID'},\n",
       " {'type': 5,\n",
       "  'rate': 75.0,\n",
       "  'max': 50,\n",
       "  'open': False,\n",
       "  'status': 16,\n",
       "  'isolated': 0,\n",
       "  'betstatus': 'PAID'},\n",
       " {'type': 4,\n",
       "  'rate': 74.0,\n",
       "  'max': 50,\n",
       "  'open': False,\n",
       "  'status': 16,\n",
       "  'isolated': 0,\n",
       "  'betstatus': 'PAID'},\n",
       " {'type': 6,\n",
       "  'rate': 70.0,\n",
       "  'max': 50,\n",
       "  'open': False,\n",
       "  'status': 16,\n",
       "  'isolated': 0,\n",
       "  'betstatus': 'PAID'},\n",
       " {'type': 11,\n",
       "  'rate': 70.0,\n",
       "  'max': 50,\n",
       "  'open': False,\n",
       "  'status': 16,\n",
       "  'isolated': 0,\n",
       "  'betstatus': 'PAID'},\n",
       " {'type': 13,\n",
       "  'rate': 75.0,\n",
       "  'max': 50,\n",
       "  'open': False,\n",
       "  'status': 16,\n",
       "  'isolated': 0,\n",
       "  'betstatus': 'PAID'},\n",
       " {'type': 8,\n",
       "  'rate': 70.0,\n",
       "  'max': 50,\n",
       "  'open': False,\n",
       "  'status': 16,\n",
       "  'isolated': 0,\n",
       "  'betstatus': 'PAID'},\n",
       " {'type': 29,\n",
       "  'rate': 80.0,\n",
       "  'max': 100,\n",
       "  'open': False,\n",
       "  'status': 16,\n",
       "  'isolated': 0,\n",
       "  'betstatus': 'PAID'},\n",
       " {'type': 7,\n",
       "  'rate': 80.0,\n",
       "  'max': 100,\n",
       "  'open': False,\n",
       "  'status': 16,\n",
       "  'isolated': 0,\n",
       "  'betstatus': 'PAID'}]"
      ]
     },
     "execution_count": 13,
     "metadata": {},
     "output_type": "execute_result"
    }
   ],
   "source": [
    "complete_race['details']['betList']"
   ]
  },
  {
   "cell_type": "code",
   "execution_count": 52,
   "metadata": {},
   "outputs": [
    {
     "data": {
      "text/plain": [
       "{'zeturfId': 252428,\n",
       " 'status': 6,\n",
       " 'positions': [{'position': 1, 'numbers': [4]},\n",
       "  {'position': 2, 'numbers': [1]},\n",
       "  {'position': 3, 'numbers': [5]},\n",
       "  {'position': 4, 'numbers': [2]},\n",
       "  {'position': 5, 'numbers': [6]}],\n",
       " 'liveComments': []}"
      ]
     },
     "execution_count": 52,
     "metadata": {},
     "output_type": "execute_result"
    }
   ],
   "source": [
    "complete_race['results']"
   ]
  },
  {
   "cell_type": "code",
   "execution_count": 47,
   "metadata": {},
   "outputs": [
    {
     "data": {
      "text/plain": [
       "138"
      ]
     },
     "execution_count": 47,
     "metadata": {},
     "output_type": "execute_result"
    }
   ],
   "source": [
    "race['meetingId']"
   ]
  },
  {
   "cell_type": "code",
   "execution_count": 48,
   "metadata": {},
   "outputs": [
    {
     "data": {
      "text/plain": [
       "{'get_url': 'https://www.unibet.fr/zones/turf/race.json?raceId=1003',\n",
       " 'query_date': '2020-04-30T22:12:42.465135',\n",
       " 'note': 'server error, no json'}"
      ]
     },
     "execution_count": 48,
     "metadata": {},
     "output_type": "execute_result"
    }
   ],
   "source": [
    "complete_race"
   ]
  },
  {
   "cell_type": "code",
   "execution_count": 28,
   "metadata": {},
   "outputs": [
    {
     "data": {
      "text/plain": [
       "dict_keys(['zeturfId', 'meetingId', 'starttime', 'date', 'type', 'name', 'rank', 'conditions', 'stake', 'arjelLevel', 'distance', 'betCounter', 'friendlyUrl', 'runners', 'details', 'results'])"
      ]
     },
     "execution_count": 28,
     "metadata": {},
     "output_type": "execute_result"
    }
   ],
   "source": [
    "race.keys()"
   ]
  },
  {
   "cell_type": "code",
   "execution_count": 42,
   "metadata": {},
   "outputs": [
    {
     "data": {
      "text/plain": [
       "{'zeturfId': 2109,\n",
       " 'status': 6,\n",
       " 'positions': [{'position': 1, 'numbers': [15]},\n",
       "  {'position': 2, 'numbers': [4]},\n",
       "  {'position': 3, 'numbers': [8]},\n",
       "  {'position': 4, 'numbers': [6]},\n",
       "  {'position': 5, 'numbers': [12]},\n",
       "  {'position': 6, 'numbers': [14]},\n",
       "  {'position': 7, 'numbers': [13]}],\n",
       " 'liveComments': []}"
      ]
     },
     "execution_count": 42,
     "metadata": {},
     "output_type": "execute_result"
    }
   ],
   "source": [
    "race['results']"
   ]
  },
  {
   "cell_type": "code",
   "execution_count": 41,
   "metadata": {},
   "outputs": [],
   "source": [
    "race['betCounter']"
   ]
  },
  {
   "cell_type": "code",
   "execution_count": 34,
   "metadata": {},
   "outputs": [
    {
     "data": {
      "text/plain": [
       "321"
      ]
     },
     "execution_count": 34,
     "metadata": {},
     "output_type": "execute_result"
    }
   ],
   "source": [
    "print(race['meetingId'])"
   ]
  },
  {
   "cell_type": "code",
   "execution_count": 36,
   "metadata": {},
   "outputs": [
    {
     "data": {
      "text/plain": [
       "'2005-08-22'"
      ]
     },
     "execution_count": 36,
     "metadata": {},
     "output_type": "execute_result"
    }
   ],
   "source": [
    "race['date']"
   ]
  },
  {
   "cell_type": "code",
   "execution_count": 29,
   "metadata": {},
   "outputs": [
    {
     "data": {
      "text/plain": [
       "\"Départ à l'Autostart - Pour poulains entiers et hongres de 4 ans, n'ayant pas gagné 49.000 &euro; - Grande piste\""
      ]
     },
     "execution_count": 29,
     "metadata": {},
     "output_type": "execute_result"
    }
   ],
   "source": [
    "race['conditions']"
   ]
  },
  {
   "cell_type": "code",
   "execution_count": 32,
   "metadata": {},
   "outputs": [
    {
     "data": {
      "text/plain": [
       "datetime.datetime(2005, 8, 22, 13, 50)"
      ]
     },
     "execution_count": 32,
     "metadata": {},
     "output_type": "execute_result"
    }
   ],
   "source": [
    "dt.datetime.fromtimestamp(race['starttime']/1000)"
   ]
  },
  {
   "cell_type": "code",
   "execution_count": 35,
   "metadata": {},
   "outputs": [
    {
     "data": {
      "text/plain": [
       "{'zeturfId': 2109,\n",
       " 'betList': [{'type': 1,\n",
       "   'rate': 95.0,\n",
       "   'max': 250,\n",
       "   'open': False,\n",
       "   'status': 16,\n",
       "   'isolated': 0,\n",
       "   'betstatus': 'PAID'},\n",
       "  {'type': 2,\n",
       "   'rate': 80.0,\n",
       "   'max': 250,\n",
       "   'open': False,\n",
       "   'status': 16,\n",
       "   'isolated': 0,\n",
       "   'betstatus': 'PAID'},\n",
       "  {'type': 3,\n",
       "   'rate': 80.0,\n",
       "   'max': 30,\n",
       "   'open': False,\n",
       "   'status': 16,\n",
       "   'isolated': 0,\n",
       "   'betstatus': 'PAID'},\n",
       "  {'type': 5,\n",
       "   'rate': 80.0,\n",
       "   'max': 30,\n",
       "   'open': False,\n",
       "   'status': 16,\n",
       "   'isolated': 0,\n",
       "   'betstatus': 'PAID'},\n",
       "  {'type': 6,\n",
       "   'rate': 80.0,\n",
       "   'max': 30,\n",
       "   'open': False,\n",
       "   'status': 16,\n",
       "   'isolated': 0,\n",
       "   'betstatus': 'PAID'}],\n",
       " 'pronostic': None,\n",
       " 'pronosticList': None,\n",
       " 'raceDuration': '2\\'33\"97',\n",
       " 'betState': 16,\n",
       " 'photos': None,\n",
       " 'raceBetStatus': 'PAID',\n",
       " 'probables': None,\n",
       " 'rates': None}"
      ]
     },
     "execution_count": 35,
     "metadata": {},
     "output_type": "execute_result"
    }
   ],
   "source": [
    "race['details']"
   ]
  },
  {
   "cell_type": "code",
   "execution_count": 43,
   "metadata": {},
   "outputs": [
    {
     "data": {
      "text/plain": [
       "1"
      ]
     },
     "execution_count": 43,
     "metadata": {},
     "output_type": "execute_result"
    }
   ],
   "source": [
    "horse_show['rank']"
   ]
  },
  {
   "cell_type": "code",
   "execution_count": 44,
   "metadata": {},
   "outputs": [
    {
     "data": {
      "text/plain": [
       "1"
      ]
     },
     "execution_count": 44,
     "metadata": {},
     "output_type": "execute_result"
    }
   ],
   "source": [
    "race['rank']"
   ]
  },
  {
   "cell_type": "code",
   "execution_count": 47,
   "metadata": {},
   "outputs": [],
   "source": []
  },
  {
   "cell_type": "code",
   "execution_count": 48,
   "metadata": {},
   "outputs": [],
   "source": [
    "with open(race_path, 'r') as fp:\n",
    "    complete_race=json.load(fp=fp)"
   ]
  },
  {
   "cell_type": "code",
   "execution_count": 53,
   "metadata": {
    "scrolled": true
   },
   "outputs": [],
   "source": [
    "del complete_race['get_url'], complete_race['query_date']"
   ]
  },
  {
   "cell_type": "code",
   "execution_count": 51,
   "metadata": {
    "scrolled": true
   },
   "outputs": [
    {
     "data": {
      "text/plain": [
       "{'zeturfId': 2109,\n",
       " 'meetingId': 321,\n",
       " 'starttime': 1124711400000,\n",
       " 'date': '2005-08-22',\n",
       " 'type': 'Attelé',\n",
       " 'name': 'Prix de Jussey',\n",
       " 'rank': 1,\n",
       " 'conditions': \"Départ à l'Autostart - Pour poulains entiers et hongres de 4 ans, n'ayant pas gagné 49.000 &euro; - Grande piste\",\n",
       " 'stake': 36000,\n",
       " 'arjelLevel': '2',\n",
       " 'distance': 2100,\n",
       " 'betCounter': None,\n",
       " 'friendlyUrl': '/turf/race/22-08-2005-R1-C1-vincennes-prix-de-jussey.html',\n",
       " 'runners': [{'zeturfId': 27037,\n",
       "   'raceId': 2109,\n",
       "   'rank': 16,\n",
       "   'name': 'NEVER DE LIVET (FR)',\n",
       "   'jockey': 'Verbeeck J.',\n",
       "   'weight': 0,\n",
       "   'distance': 2100,\n",
       "   'status': '40',\n",
       "   'team': 0,\n",
       "   'draw': 0,\n",
       "   'blinkers': '0',\n",
       "   'shoes': '',\n",
       "   'position': '0',\n",
       "   'silk': None,\n",
       "   'betcounter': 0,\n",
       "   'details': None},\n",
       "  {'zeturfId': 27038,\n",
       "   'raceId': 2109,\n",
       "   'rank': 15,\n",
       "   'name': 'NENUPHAR (FR)',\n",
       "   'jockey': 'Levesque P.',\n",
       "   'weight': 0,\n",
       "   'distance': 2100,\n",
       "   'status': '40',\n",
       "   'team': 0,\n",
       "   'draw': 0,\n",
       "   'blinkers': '0',\n",
       "   'shoes': '4',\n",
       "   'position': '1',\n",
       "   'silk': None,\n",
       "   'betcounter': 0,\n",
       "   'details': None},\n",
       "  {'zeturfId': 27039,\n",
       "   'raceId': 2109,\n",
       "   'rank': 14,\n",
       "   'name': 'NO COMMENTARY (FR)',\n",
       "   'jockey': 'Nivard F.',\n",
       "   'weight': 0,\n",
       "   'distance': 2100,\n",
       "   'status': '40',\n",
       "   'team': 0,\n",
       "   'draw': 0,\n",
       "   'blinkers': '0',\n",
       "   'shoes': '',\n",
       "   'position': '6',\n",
       "   'silk': None,\n",
       "   'betcounter': 0,\n",
       "   'details': None},\n",
       "  {'zeturfId': 27040,\n",
       "   'raceId': 2109,\n",
       "   'rank': 13,\n",
       "   'name': 'NEW HOPE (FR)',\n",
       "   'jockey': 'Piton B.',\n",
       "   'weight': 0,\n",
       "   'distance': 2100,\n",
       "   'status': '40',\n",
       "   'team': 0,\n",
       "   'draw': 0,\n",
       "   'blinkers': '0',\n",
       "   'shoes': '4',\n",
       "   'position': '7',\n",
       "   'silk': None,\n",
       "   'betcounter': 0,\n",
       "   'details': None},\n",
       "  {'zeturfId': 27041,\n",
       "   'raceId': 2109,\n",
       "   'rank': 12,\n",
       "   'name': 'NOBLE ANGEVIN (FR)',\n",
       "   'jockey': 'Mary J. Ph.',\n",
       "   'weight': 0,\n",
       "   'distance': 2100,\n",
       "   'status': '40',\n",
       "   'team': 0,\n",
       "   'draw': 0,\n",
       "   'blinkers': '0',\n",
       "   'shoes': '',\n",
       "   'position': '5',\n",
       "   'silk': None,\n",
       "   'betcounter': 0,\n",
       "   'details': None},\n",
       "  {'zeturfId': 27042,\n",
       "   'raceId': 2109,\n",
       "   'rank': 11,\n",
       "   'name': 'NESS MARCEAUX (FR)',\n",
       "   'jockey': 'Masschaele Ph.',\n",
       "   'weight': 0,\n",
       "   'distance': 2100,\n",
       "   'status': '40',\n",
       "   'team': 1,\n",
       "   'draw': 0,\n",
       "   'blinkers': '0',\n",
       "   'shoes': '',\n",
       "   'position': '0',\n",
       "   'silk': None,\n",
       "   'betcounter': 0,\n",
       "   'details': None},\n",
       "  {'zeturfId': 27043,\n",
       "   'raceId': 2109,\n",
       "   'rank': 10,\n",
       "   'name': 'NOVELINO (FR)',\n",
       "   'jockey': 'Locqueneux D.',\n",
       "   'weight': 0,\n",
       "   'distance': 2100,\n",
       "   'status': '40',\n",
       "   'team': 0,\n",
       "   'draw': 0,\n",
       "   'blinkers': '0',\n",
       "   'shoes': '',\n",
       "   'position': '0',\n",
       "   'silk': None,\n",
       "   'betcounter': 0,\n",
       "   'details': None},\n",
       "  {'zeturfId': 27044,\n",
       "   'raceId': 2109,\n",
       "   'rank': 9,\n",
       "   'name': \"NICCOLO D'AMOUR (FR)\",\n",
       "   'jockey': 'Laurent A.',\n",
       "   'weight': 0,\n",
       "   'distance': 2100,\n",
       "   'status': '40',\n",
       "   'team': 1,\n",
       "   'draw': 0,\n",
       "   'blinkers': '0',\n",
       "   'shoes': '4',\n",
       "   'position': '0',\n",
       "   'silk': None,\n",
       "   'betcounter': 0,\n",
       "   'details': None},\n",
       "  {'zeturfId': 27045,\n",
       "   'raceId': 2109,\n",
       "   'rank': 8,\n",
       "   'name': 'NIARPAN (FR)',\n",
       "   'jockey': 'Bazire J. M.',\n",
       "   'weight': 0,\n",
       "   'distance': 2100,\n",
       "   'status': '40',\n",
       "   'team': 0,\n",
       "   'draw': 0,\n",
       "   'blinkers': '0',\n",
       "   'shoes': '',\n",
       "   'position': '3',\n",
       "   'silk': None,\n",
       "   'betcounter': 0,\n",
       "   'details': None},\n",
       "  {'zeturfId': 27046,\n",
       "   'raceId': 2109,\n",
       "   'rank': 7,\n",
       "   'name': 'NEW LOOK DE CANISY (FR)',\n",
       "   'jockey': 'Lenoir M.',\n",
       "   'weight': 0,\n",
       "   'distance': 2100,\n",
       "   'status': '42',\n",
       "   'team': 0,\n",
       "   'draw': 0,\n",
       "   'blinkers': '0',\n",
       "   'shoes': '',\n",
       "   'position': '0',\n",
       "   'silk': None,\n",
       "   'betcounter': 0,\n",
       "   'details': None},\n",
       "  {'zeturfId': 27047,\n",
       "   'raceId': 2109,\n",
       "   'rank': 6,\n",
       "   'name': 'NITBY (FR)',\n",
       "   'jockey': 'Nordin U.',\n",
       "   'weight': 0,\n",
       "   'distance': 2100,\n",
       "   'status': '40',\n",
       "   'team': 0,\n",
       "   'draw': 0,\n",
       "   'blinkers': '0',\n",
       "   'shoes': 'A',\n",
       "   'position': '4',\n",
       "   'silk': None,\n",
       "   'betcounter': 0,\n",
       "   'details': None},\n",
       "  {'zeturfId': 27048,\n",
       "   'raceId': 2109,\n",
       "   'rank': 5,\n",
       "   'name': \"NICO D'AUSSY (FR)\",\n",
       "   'jockey': 'Marie B.',\n",
       "   'weight': 0,\n",
       "   'distance': 2100,\n",
       "   'status': '40',\n",
       "   'team': 0,\n",
       "   'draw': 0,\n",
       "   'blinkers': '0',\n",
       "   'shoes': '4',\n",
       "   'position': '0',\n",
       "   'silk': None,\n",
       "   'betcounter': 0,\n",
       "   'details': None},\n",
       "  {'zeturfId': 27049,\n",
       "   'raceId': 2109,\n",
       "   'rank': 4,\n",
       "   'name': 'NEOPS RIVELLIERE (FR)',\n",
       "   'jockey': 'Daugeard Ph.',\n",
       "   'weight': 0,\n",
       "   'distance': 2100,\n",
       "   'status': '40',\n",
       "   'team': 0,\n",
       "   'draw': 0,\n",
       "   'blinkers': '0',\n",
       "   'shoes': '',\n",
       "   'position': '2',\n",
       "   'silk': '0057_201109130_0412.gif',\n",
       "   'betcounter': 0,\n",
       "   'details': None},\n",
       "  {'zeturfId': 27050,\n",
       "   'raceId': 2109,\n",
       "   'rank': 3,\n",
       "   'name': 'NEW PISTOL (FR)',\n",
       "   'jockey': 'Roussel F.',\n",
       "   'weight': 0,\n",
       "   'distance': 2100,\n",
       "   'status': '40',\n",
       "   'team': 0,\n",
       "   'draw': 0,\n",
       "   'blinkers': '0',\n",
       "   'shoes': 'A',\n",
       "   'position': '0',\n",
       "   'silk': None,\n",
       "   'betcounter': 0,\n",
       "   'details': None},\n",
       "  {'zeturfId': 27051,\n",
       "   'raceId': 2109,\n",
       "   'rank': 2,\n",
       "   'name': 'NICE MORNING (FR)',\n",
       "   'jockey': 'Gilbert Martens',\n",
       "   'weight': 0,\n",
       "   'distance': 2100,\n",
       "   'status': '40',\n",
       "   'team': 0,\n",
       "   'draw': 0,\n",
       "   'blinkers': '0',\n",
       "   'shoes': '',\n",
       "   'position': '0',\n",
       "   'silk': None,\n",
       "   'betcounter': 0,\n",
       "   'details': None},\n",
       "  {'zeturfId': 27052,\n",
       "   'raceId': 2109,\n",
       "   'rank': 1,\n",
       "   'name': 'NUMERO PRIVE (FR)',\n",
       "   'jockey': 'Lannoo G.',\n",
       "   'weight': 0,\n",
       "   'distance': 2100,\n",
       "   'status': '40',\n",
       "   'team': 0,\n",
       "   'draw': 0,\n",
       "   'blinkers': '0',\n",
       "   'shoes': '',\n",
       "   'position': '0',\n",
       "   'silk': None,\n",
       "   'betcounter': 0,\n",
       "   'details': None}],\n",
       " 'details': {'zeturfId': 2109,\n",
       "  'betList': [{'type': 1,\n",
       "    'rate': 95.0,\n",
       "    'max': 250,\n",
       "    'open': False,\n",
       "    'status': 16,\n",
       "    'isolated': 0,\n",
       "    'betstatus': 'PAID'},\n",
       "   {'type': 2,\n",
       "    'rate': 80.0,\n",
       "    'max': 250,\n",
       "    'open': False,\n",
       "    'status': 16,\n",
       "    'isolated': 0,\n",
       "    'betstatus': 'PAID'},\n",
       "   {'type': 3,\n",
       "    'rate': 80.0,\n",
       "    'max': 30,\n",
       "    'open': False,\n",
       "    'status': 16,\n",
       "    'isolated': 0,\n",
       "    'betstatus': 'PAID'},\n",
       "   {'type': 5,\n",
       "    'rate': 80.0,\n",
       "    'max': 30,\n",
       "    'open': False,\n",
       "    'status': 16,\n",
       "    'isolated': 0,\n",
       "    'betstatus': 'PAID'},\n",
       "   {'type': 6,\n",
       "    'rate': 80.0,\n",
       "    'max': 30,\n",
       "    'open': False,\n",
       "    'status': 16,\n",
       "    'isolated': 0,\n",
       "    'betstatus': 'PAID'}],\n",
       "  'pronostic': None,\n",
       "  'pronosticList': None,\n",
       "  'raceDuration': '2\\'33\"97',\n",
       "  'betState': 16,\n",
       "  'photos': None,\n",
       "  'raceBetStatus': 'PAID',\n",
       "  'probables': None,\n",
       "  'rates': None},\n",
       " 'results': {'zeturfId': 2109,\n",
       "  'status': 6,\n",
       "  'positions': [{'position': 1, 'numbers': [15]},\n",
       "   {'position': 2, 'numbers': [4]},\n",
       "   {'position': 3, 'numbers': [8]},\n",
       "   {'position': 4, 'numbers': [6]},\n",
       "   {'position': 5, 'numbers': [12]},\n",
       "   {'position': 6, 'numbers': [14]},\n",
       "   {'position': 7, 'numbers': [13]}],\n",
       "  'liveComments': []}}"
      ]
     },
     "execution_count": 51,
     "metadata": {},
     "output_type": "execute_result"
    }
   ],
   "source": [
    "race"
   ]
  },
  {
   "cell_type": "code",
   "execution_count": 57,
   "metadata": {},
   "outputs": [
    {
     "data": {
      "text/plain": [
       "dict_keys(['zeturfId', 'meetingId', 'starttime', 'date', 'type', 'name', 'rank', 'conditions', 'stake', 'arjelLevel', 'distance', 'betCounter', 'friendlyUrl', 'runners', 'details', 'results'])"
      ]
     },
     "execution_count": 57,
     "metadata": {},
     "output_type": "execute_result"
    }
   ],
   "source": [
    "complete_race.keys()"
   ]
  },
  {
   "cell_type": "code",
   "execution_count": 58,
   "metadata": {},
   "outputs": [
    {
     "data": {
      "text/plain": [
       "dict_keys(['zeturfId', 'meetingId', 'starttime', 'date', 'type', 'name', 'rank', 'conditions', 'stake', 'arjelLevel', 'distance', 'betCounter', 'friendlyUrl', 'runners', 'details', 'results'])"
      ]
     },
     "execution_count": 58,
     "metadata": {},
     "output_type": "execute_result"
    }
   ],
   "source": [
    "race.keys()"
   ]
  },
  {
   "cell_type": "code",
   "execution_count": 60,
   "metadata": {},
   "outputs": [
    {
     "name": "stdout",
     "output_type": "stream",
     "text": [
      "14\n"
     ]
    }
   ],
   "source": [
    "shared_items = {k: complete_race[k] for k in complete_race if k in race and complete_race[k] == race[k]}\n",
    "print(len(shared_items))"
   ]
  },
  {
   "cell_type": "code",
   "execution_count": 61,
   "metadata": {},
   "outputs": [
    {
     "data": {
      "text/plain": [
       "16"
      ]
     },
     "execution_count": 61,
     "metadata": {},
     "output_type": "execute_result"
    }
   ],
   "source": [
    "len(race)"
   ]
  },
  {
   "cell_type": "code",
   "execution_count": 63,
   "metadata": {},
   "outputs": [],
   "source": [
    "difference_items = {k for k in complete_race if k in race and complete_race[k] != race[k]}"
   ]
  },
  {
   "cell_type": "code",
   "execution_count": 64,
   "metadata": {},
   "outputs": [
    {
     "data": {
      "text/plain": [
       "{'details', 'runners'}"
      ]
     },
     "execution_count": 64,
     "metadata": {},
     "output_type": "execute_result"
    }
   ],
   "source": [
    "difference_items"
   ]
  },
  {
   "cell_type": "code",
   "execution_count": 75,
   "metadata": {
    "scrolled": true
   },
   "outputs": [
    {
     "data": {
      "text/plain": [
       "[{'zeturfId': 27052,\n",
       "  'raceId': 2109,\n",
       "  'rank': 1,\n",
       "  'name': 'NUMERO PRIVE (FR)',\n",
       "  'jockey': 'Lannoo G.',\n",
       "  'weight': 0,\n",
       "  'distance': 2100,\n",
       "  'status': '40',\n",
       "  'team': 0,\n",
       "  'draw': 0,\n",
       "  'blinkers': '0',\n",
       "  'shoes': '',\n",
       "  'position': '0',\n",
       "  'silk': None,\n",
       "  'betcounter': 0,\n",
       "  'details': {'zeturfId': 27052,\n",
       "   'stakes': 41950,\n",
       "   'musique': '1a 5a 3a 5a 1a 5a (04) 0a',\n",
       "   'sex': 'M',\n",
       "   'age': '6',\n",
       "   'owner': 'M Bernard Marie Dubois',\n",
       "   'trainer': 'Hojka B.',\n",
       "   'coat': 'B.',\n",
       "   'origins': \"Cygnus d'Odyssee-Hollywood Melody\",\n",
       "   'comment': \"Vient de remporter sa course à Enghien sur un parcours de vitesse. Se heurte à une opposition plus relevée. Pas hors d'affaire pour les places à l'issue d'un parcours caché.\",\n",
       "   'time': None,\n",
       "   'reduction': None,\n",
       "   'length': None}},\n",
       " {'zeturfId': 27051,\n",
       "  'raceId': 2109,\n",
       "  'rank': 2,\n",
       "  'name': 'NICE MORNING (FR)',\n",
       "  'jockey': 'Gilbert Martens',\n",
       "  'weight': 0,\n",
       "  'distance': 2100,\n",
       "  'status': '40',\n",
       "  'team': 0,\n",
       "  'draw': 0,\n",
       "  'blinkers': '0',\n",
       "  'shoes': '',\n",
       "  'position': '0',\n",
       "  'silk': None,\n",
       "  'betcounter': 0,\n",
       "  'details': {'zeturfId': 27051,\n",
       "   'stakes': 47705,\n",
       "   'musique': '9a 6a 4a (04) 4a 7a 4a 4a',\n",
       "   'sex': 'M',\n",
       "   'age': '7',\n",
       "   'owner': 'M Guido Van Helleputte',\n",
       "   'trainer': 'Van Helleputte G.',\n",
       "   'coat': 'Noi.P',\n",
       "   'origins': 'Eclat de la Crau-Reinata du Pont',\n",
       "   'comment': 'Très prometteur en début de carrière, a connu des problèmes de santé consécutifs a une chute dans les aires de départ sur cet hippodrome. Revient progressivement au mieux. Outsider des plus séduisants.',\n",
       "   'time': None,\n",
       "   'reduction': None,\n",
       "   'length': None}},\n",
       " {'zeturfId': 27050,\n",
       "  'raceId': 2109,\n",
       "  'rank': 3,\n",
       "  'name': 'NEW PISTOL (FR)',\n",
       "  'jockey': 'Roussel F.',\n",
       "  'weight': 0,\n",
       "  'distance': 2100,\n",
       "  'status': '40',\n",
       "  'team': 0,\n",
       "  'draw': 0,\n",
       "  'blinkers': '0',\n",
       "  'shoes': 'A',\n",
       "  'position': '0',\n",
       "  'silk': None,\n",
       "  'betcounter': 0,\n",
       "  'details': {'zeturfId': 27050,\n",
       "   'stakes': 48930,\n",
       "   'musique': '4m 4m Dm Da 1m 1m Dm 3m',\n",
       "   'sex': 'H',\n",
       "   'age': '7',\n",
       "   'owner': 'M Jean Michel Elbeze',\n",
       "   'trainer': 'Larue D.',\n",
       "   'coat': 'B.',\n",
       "   'origins': 'Corot-April Pearl',\n",
       "   'comment': \"Spécialisé au trot monté, n'a jamais brillé à l'attelé. Se prépare pour un futur engagement dans sa discipline de prédilection. Pas impossible toutefois pour une petite place, en raison de son bon numéro derrière la voiture.\",\n",
       "   'time': None,\n",
       "   'reduction': None,\n",
       "   'length': None}},\n",
       " {'zeturfId': 27049,\n",
       "  'raceId': 2109,\n",
       "  'rank': 4,\n",
       "  'name': 'NEOPS RIVELLIERE (FR)',\n",
       "  'jockey': 'Daugeard Ph.',\n",
       "  'weight': 0,\n",
       "  'distance': 2100,\n",
       "  'status': '40',\n",
       "  'team': 0,\n",
       "  'draw': 0,\n",
       "  'blinkers': '0',\n",
       "  'shoes': '',\n",
       "  'position': '2',\n",
       "  'silk': '0057_201109130_0412.gif',\n",
       "  'betcounter': 0,\n",
       "  'details': {'zeturfId': 27049,\n",
       "   'stakes': 44440,\n",
       "   'musique': 'Dm 1a 7a Da 9a 1a (04) 3a',\n",
       "   'sex': 'H',\n",
       "   'age': '10',\n",
       "   'owner': 'M Dominique Raffini',\n",
       "   'trainer': 'Cinier S.',\n",
       "   'coat': 'B.',\n",
       "   'origins': 'Classic Rodney-heloa Rivelliere',\n",
       "   'comment': \"Mis au repos pendant le printemps, n'a pas tardé à trouver sa course cet été, s'imposant brillamment dans une épreuve de vitesse à Enghien. Lauréat sur le parcours cet hiver, est bien placé derrière la voiture. Choix prioritaire pour les places.\",\n",
       "   'time': '2\\'34\"08',\n",
       "   'reduction': '1\\'13\"40',\n",
       "   'length': None}},\n",
       " {'zeturfId': 27048,\n",
       "  'raceId': 2109,\n",
       "  'rank': 5,\n",
       "  'name': \"NICO D'AUSSY (FR)\",\n",
       "  'jockey': 'Marie B.',\n",
       "  'weight': 0,\n",
       "  'distance': 2100,\n",
       "  'status': '40',\n",
       "  'team': 0,\n",
       "  'draw': 0,\n",
       "  'blinkers': '0',\n",
       "  'shoes': '4',\n",
       "  'position': '0',\n",
       "  'silk': None,\n",
       "  'betcounter': 0,\n",
       "  'details': {'zeturfId': 27048,\n",
       "   'stakes': 43560,\n",
       "   'musique': '1a 7m 9m 2m Da Da 4a Da',\n",
       "   'sex': 'H',\n",
       "   'age': '9',\n",
       "   'owner': 'M Jean Letuve',\n",
       "   'trainer': 'Marie B.',\n",
       "   'coat': 'B.',\n",
       "   'origins': \"Fortuna Fant-diane D'Aussy\",\n",
       "   'comment': \"Dur à canaliser ce sujet doté de beaucoup de vitesse s'est essayé sans grande réussite au monté cet été. Récent lauréat sur l'herbe du Touquet, il revient sur son meilleur parcours en grande forme. Sage, sa place est à l'arrivée.\",\n",
       "   'time': None,\n",
       "   'reduction': None,\n",
       "   'length': None}},\n",
       " {'zeturfId': 27047,\n",
       "  'raceId': 2109,\n",
       "  'rank': 6,\n",
       "  'name': 'NITBY (FR)',\n",
       "  'jockey': 'Nordin U.',\n",
       "  'weight': 0,\n",
       "  'distance': 2100,\n",
       "  'status': '40',\n",
       "  'team': 0,\n",
       "  'draw': 0,\n",
       "  'blinkers': '0',\n",
       "  'shoes': 'A',\n",
       "  'position': '4',\n",
       "  'silk': None,\n",
       "  'betcounter': 0,\n",
       "  'details': {'zeturfId': 27047,\n",
       "   'stakes': 46530,\n",
       "   'musique': 'Dm 7a 0a 6a 8a 0a Da 1a',\n",
       "   'sex': 'M',\n",
       "   'age': '7',\n",
       "   'owner': 'Ecurie Malarturf',\n",
       "   'trainer': 'Bethouart J.',\n",
       "   'coat': 'Noi.P',\n",
       "   'origins': \"Fan Quick-Topaze d'Ombree\",\n",
       "   'comment': \"Vient de rejoindre les boxes d'Ulf Nordin. Cheval courageux sans grand changement de vitesse, il avait gagné sa course lors du dernier meeting d'hiver sous la poigne d'un Jos Verbeeck euphorique. Difficile d'y croire contre une telle opposition.\",\n",
       "   'time': '2\\'34\"98',\n",
       "   'reduction': '1\\'13\"80',\n",
       "   'length': None}},\n",
       " {'zeturfId': 27046,\n",
       "  'raceId': 2109,\n",
       "  'rank': 7,\n",
       "  'name': 'NEW LOOK DE CANISY (FR)',\n",
       "  'jockey': 'Lenoir M.',\n",
       "  'weight': 0,\n",
       "  'distance': 2100,\n",
       "  'status': '42',\n",
       "  'team': 0,\n",
       "  'draw': 0,\n",
       "  'blinkers': '0',\n",
       "  'shoes': '',\n",
       "  'position': '0',\n",
       "  'silk': None,\n",
       "  'betcounter': 0,\n",
       "  'details': {'zeturfId': 27046,\n",
       "   'stakes': 46780,\n",
       "   'musique': '2a 9a Da 8a Da 4a 4a Da',\n",
       "   'sex': 'H',\n",
       "   'age': '8',\n",
       "   'owner': 'M Daniel Barrier',\n",
       "   'trainer': 'Barrier D.',\n",
       "   'coat': 'Al.',\n",
       "   'origins': 'Cedre du Vivier-Amandola',\n",
       "   'comment': 'Non Partant',\n",
       "   'time': None,\n",
       "   'reduction': None,\n",
       "   'length': None}},\n",
       " {'zeturfId': 27045,\n",
       "  'raceId': 2109,\n",
       "  'rank': 8,\n",
       "  'name': 'NIARPAN (FR)',\n",
       "  'jockey': 'Bazire J. M.',\n",
       "  'weight': 0,\n",
       "  'distance': 2100,\n",
       "  'status': '40',\n",
       "  'team': 0,\n",
       "  'draw': 0,\n",
       "  'blinkers': '0',\n",
       "  'shoes': '',\n",
       "  'position': '3',\n",
       "  'silk': None,\n",
       "  'betcounter': 0,\n",
       "  'details': {'zeturfId': 27045,\n",
       "   'stakes': 41990,\n",
       "   'musique': '4a 8a 3a (04) 9a 2a 3a 7a',\n",
       "   'sex': 'M',\n",
       "   'age': '8',\n",
       "   'owner': 'M Jean Pierre Moutault',\n",
       "   'trainer': 'Lecellier P.',\n",
       "   'coat': 'B.',\n",
       "   'origins': 'Blue Dream-Rame',\n",
       "   'comment': \"Dominé lors de son unique sortie du meeting hivernal dans un lot de qualité, n'a pas tardé a revenir en forme après un break de quelques mois. Récent quatrième sur un parcours de vitesse, va béneficier du renfort de JMB. Chance régulière.\",\n",
       "   'time': '2\\'34\"62',\n",
       "   'reduction': '1\\'13\"60',\n",
       "   'length': None}},\n",
       " {'zeturfId': 27044,\n",
       "  'raceId': 2109,\n",
       "  'rank': 9,\n",
       "  'name': \"NICCOLO D'AMOUR (FR)\",\n",
       "  'jockey': 'Laurent A.',\n",
       "  'weight': 0,\n",
       "  'distance': 2100,\n",
       "  'status': '40',\n",
       "  'team': 1,\n",
       "  'draw': 0,\n",
       "  'blinkers': '0',\n",
       "  'shoes': '4',\n",
       "  'position': '0',\n",
       "  'silk': None,\n",
       "  'betcounter': 0,\n",
       "  'details': {'zeturfId': 27044,\n",
       "   'stakes': 42400,\n",
       "   'musique': '1a Da 4a 0a 9a 4a 8a (04)',\n",
       "   'sex': 'H',\n",
       "   'age': '8',\n",
       "   'owner': 'M Salvatore Marino',\n",
       "   'trainer': 'Gaillard F.',\n",
       "   'coat': 'B.',\n",
       "   'origins': 'Pilobolus-Havane de la Motte',\n",
       "   'comment': \"Vient d'être acquis à réclamer suite à son récent facile succès dans cette catégorie. Désormais sous la responsabilité d'Alain Laurent, il pourrait bien marcher sur les traces d'un certain <b>Litchi</b>. Notre coup de poker.\",\n",
       "   'time': None,\n",
       "   'reduction': None,\n",
       "   'length': None}},\n",
       " {'zeturfId': 27043,\n",
       "  'raceId': 2109,\n",
       "  'rank': 10,\n",
       "  'name': 'NOVELINO (FR)',\n",
       "  'jockey': 'Locqueneux D.',\n",
       "  'weight': 0,\n",
       "  'distance': 2100,\n",
       "  'status': '40',\n",
       "  'team': 0,\n",
       "  'draw': 0,\n",
       "  'blinkers': '0',\n",
       "  'shoes': '',\n",
       "  'position': '0',\n",
       "  'silk': None,\n",
       "  'betcounter': 0,\n",
       "  'details': {'zeturfId': 27043,\n",
       "   'stakes': 35400,\n",
       "   'musique': '3a 1a 1a Da Da 6a 9a (04)',\n",
       "   'sex': 'M',\n",
       "   'age': '6',\n",
       "   'owner': 'M Richard Cohen',\n",
       "   'trainer': 'Blandin F.',\n",
       "   'coat': 'B.',\n",
       "   'origins': 'Goetmals Wood-Velinotte',\n",
       "   'comment': \"Sujet doué, n'a pas encore les gains en rapport avec sa qualité par manque de sagesse. Pas revu en piste depuis 2 mois, on attendra un peu avant de lui accorder un large crédit. Méfiance toutefois, car son entraînement est en grande forme.\",\n",
       "   'time': None,\n",
       "   'reduction': None,\n",
       "   'length': None}},\n",
       " {'zeturfId': 27042,\n",
       "  'raceId': 2109,\n",
       "  'rank': 11,\n",
       "  'name': 'NESS MARCEAUX (FR)',\n",
       "  'jockey': 'Masschaele Ph.',\n",
       "  'weight': 0,\n",
       "  'distance': 2100,\n",
       "  'status': '40',\n",
       "  'team': 1,\n",
       "  'draw': 0,\n",
       "  'blinkers': '0',\n",
       "  'shoes': '',\n",
       "  'position': '0',\n",
       "  'silk': None,\n",
       "  'betcounter': 0,\n",
       "  'details': {'zeturfId': 27042,\n",
       "   'stakes': 36980,\n",
       "   'musique': '9a 4a 2a 7a 8a 6a 2a 0a',\n",
       "   'sex': 'M',\n",
       "   'age': '11',\n",
       "   'owner': 'Mme V. Henry',\n",
       "   'trainer': 'Bovay Ma.',\n",
       "   'coat': 'B.',\n",
       "   'origins': 'Coktail Jet - Goodness',\n",
       "   'comment': \"Sujet véloce, avait offert une belle réplique à Nico D'Aussy sur un parcours réduit pendant le dernier meeting hivernal. N'a pas de marge à ce niveau. Son entraîneur lui ayant préféré <b>Niccolo D'Amour</b> on se contentera de le regarder courir.\",\n",
       "   'time': None,\n",
       "   'reduction': None,\n",
       "   'length': None}},\n",
       " {'zeturfId': 27041,\n",
       "  'raceId': 2109,\n",
       "  'rank': 12,\n",
       "  'name': 'NOBLE ANGEVIN (FR)',\n",
       "  'jockey': 'Mary J. Ph.',\n",
       "  'weight': 0,\n",
       "  'distance': 2100,\n",
       "  'status': '40',\n",
       "  'team': 0,\n",
       "  'draw': 0,\n",
       "  'blinkers': '0',\n",
       "  'shoes': '',\n",
       "  'position': '5',\n",
       "  'silk': None,\n",
       "  'betcounter': 0,\n",
       "  'details': {'zeturfId': 27041,\n",
       "   'stakes': 31680,\n",
       "   'musique': '8a 6a Da Da 5a 9a 4a Da',\n",
       "   'sex': 'H',\n",
       "   'age': '9',\n",
       "   'owner': 'M Jean Paul Dabouis',\n",
       "   'trainer': 'Dabouis J.P.',\n",
       "   'coat': 'B.',\n",
       "   'origins': 'Hello Jo-cette Angevine',\n",
       "   'comment': \"Encore très susceptible, n'est pourtant pas dénué de qualité, comme en atteste son succès lors du dernier meeting hivernal. Les amateurs d'outsiders spéculatifs se pencheront sur son cas.\",\n",
       "   'time': '2\\'35\"01',\n",
       "   'reduction': '1\\'13\"80',\n",
       "   'length': None}},\n",
       " {'zeturfId': 27040,\n",
       "  'raceId': 2109,\n",
       "  'rank': 13,\n",
       "  'name': 'NEW HOPE (FR)',\n",
       "  'jockey': 'Piton B.',\n",
       "  'weight': 0,\n",
       "  'distance': 2100,\n",
       "  'status': '40',\n",
       "  'team': 0,\n",
       "  'draw': 0,\n",
       "  'blinkers': '0',\n",
       "  'shoes': '4',\n",
       "  'position': '7',\n",
       "  'silk': None,\n",
       "  'betcounter': 0,\n",
       "  'details': {'zeturfId': 27040,\n",
       "   'stakes': 36160,\n",
       "   'musique': '0a Da 3a 8a 0a 1a (04) 0a',\n",
       "   'sex': 'H',\n",
       "   'age': '8',\n",
       "   'owner': 'M Jacques Sainsardos',\n",
       "   'trainer': 'Sainsardos J.',\n",
       "   'coat': 'B. Fonce',\n",
       "   'origins': 'Ganymede-Elue des Arts',\n",
       "   'comment': \"Sait faire preuve de bravoure dans ses jours fastes, mais reste inconstant. Vient d'être nettement dominé pour sa rentrée à Enghien. Aura pour lui son aptitude au parcours, sur lequel il compte une victoire cet hiver. On attendra toutefois de le revoir.\",\n",
       "   'time': '2\\'35\"29',\n",
       "   'reduction': '1\\'14\"00',\n",
       "   'length': None}},\n",
       " {'zeturfId': 27039,\n",
       "  'raceId': 2109,\n",
       "  'rank': 14,\n",
       "  'name': 'NO COMMENTARY (FR)',\n",
       "  'jockey': 'Nivard F.',\n",
       "  'weight': 0,\n",
       "  'distance': 2100,\n",
       "  'status': '40',\n",
       "  'team': 0,\n",
       "  'draw': 0,\n",
       "  'blinkers': '0',\n",
       "  'shoes': '',\n",
       "  'position': '6',\n",
       "  'silk': None,\n",
       "  'betcounter': 0,\n",
       "  'details': {'zeturfId': 27039,\n",
       "   'stakes': 35240,\n",
       "   'musique': '3a 1a 7a 2a 1a 5a (04) 4m',\n",
       "   'sex': 'H',\n",
       "   'age': '9',\n",
       "   'owner': 'Mme Marie France Ventura',\n",
       "   'trainer': 'Martens G.',\n",
       "   'coat': 'B.',\n",
       "   'origins': 'Coktail Jet-chrifa Du Douetil',\n",
       "   'comment': \"Facile lauréat en début d'été à Enghien sur un parcours de vitesse, semble avoir montré ses limites en dernier lieu derrière <b>Néops Rivellière</b>. Retrouvant Franck Nivard, il peut toutefois compléter la bonne combinaison.\",\n",
       "   'time': '2\\'35\"15',\n",
       "   'reduction': '1\\'13\"90',\n",
       "   'length': None}},\n",
       " {'zeturfId': 27038,\n",
       "  'raceId': 2109,\n",
       "  'rank': 15,\n",
       "  'name': 'NENUPHAR (FR)',\n",
       "  'jockey': 'Levesque P.',\n",
       "  'weight': 0,\n",
       "  'distance': 2100,\n",
       "  'status': '40',\n",
       "  'team': 0,\n",
       "  'draw': 0,\n",
       "  'blinkers': '0',\n",
       "  'shoes': '4',\n",
       "  'position': '1',\n",
       "  'silk': None,\n",
       "  'betcounter': 0,\n",
       "  'details': {'zeturfId': 27038,\n",
       "   'stakes': 35250,\n",
       "   'musique': 'Da 1a Da 1a 0a (04) 3a 9a',\n",
       "   'sex': 'H',\n",
       "   'age': '9',\n",
       "   'owner': 'M Michel Gozlan',\n",
       "   'trainer': 'Ernault S.',\n",
       "   'coat': 'B.',\n",
       "   'origins': 'Sebrazac-belgrade',\n",
       "   'comment': \"Bien né, se montre encore parfois susceptible mais possède de gros moyens. Récent lauréat à Enghien, ce sujet ménagé n'aura qu'à se montrer sage pour jouer un tout premier role dans cette épreuve. Notre favori.\",\n",
       "   'time': '2\\'33\"97',\n",
       "   'reduction': '1\\'13\"30',\n",
       "   'length': None}},\n",
       " {'zeturfId': 27037,\n",
       "  'raceId': 2109,\n",
       "  'rank': 16,\n",
       "  'name': 'NEVER DE LIVET (FR)',\n",
       "  'jockey': 'Verbeeck J.',\n",
       "  'weight': 0,\n",
       "  'distance': 2100,\n",
       "  'status': '40',\n",
       "  'team': 0,\n",
       "  'draw': 0,\n",
       "  'blinkers': '0',\n",
       "  'shoes': '',\n",
       "  'position': '0',\n",
       "  'silk': None,\n",
       "  'betcounter': 0,\n",
       "  'details': {'zeturfId': 27037,\n",
       "   'stakes': 35870,\n",
       "   'musique': '5a 8a 2a Dm 3a (04) 2a Da',\n",
       "   'sex': 'H',\n",
       "   'age': '9',\n",
       "   'owner': 'Mlle Caroline Cheradame',\n",
       "   'trainer': 'Cheradame Mlle C.',\n",
       "   'coat': 'Al.',\n",
       "   'origins': 'Carpe Diem-vassia Pellois',\n",
       "   'comment': \"Possède un brin de qualité, mais risque encore de manquer  de compétition à ce niveau, venant juste d'effectuer sa rentrée sur l'herbe de Carentan. Malgré le talent de son driver, on se contentera de le regarder courir.\",\n",
       "   'time': None,\n",
       "   'reduction': None,\n",
       "   'length': None}}]"
      ]
     },
     "execution_count": 75,
     "metadata": {},
     "output_type": "execute_result"
    }
   ],
   "source": [
    "complete_race['runners']"
   ]
  },
  {
   "cell_type": "code",
   "execution_count": 69,
   "metadata": {},
   "outputs": [
    {
     "data": {
      "text/plain": [
       "dict_keys(['zeturfId', 'raceId', 'rank', 'name', 'jockey', 'weight', 'distance', 'status', 'team', 'draw', 'blinkers', 'shoes', 'position', 'silk', 'betcounter', 'details'])"
      ]
     },
     "execution_count": 69,
     "metadata": {},
     "output_type": "execute_result"
    }
   ],
   "source": [
    "race['runners'][0].keys()"
   ]
  },
  {
   "cell_type": "code",
   "execution_count": 70,
   "metadata": {},
   "outputs": [
    {
     "data": {
      "text/plain": [
       "{'details', 'jockey', 'name', 'rank', 'zeturfId'}"
      ]
     },
     "execution_count": 70,
     "metadata": {},
     "output_type": "execute_result"
    }
   ],
   "source": [
    "x=complete_race['runners'][0]\n",
    "y=race['runners'][0]\n",
    "{k for k in x if k in y and x[k] != y[k]}"
   ]
  },
  {
   "cell_type": "code",
   "execution_count": 78,
   "metadata": {},
   "outputs": [
    {
     "data": {
      "text/plain": [
       "{'zeturfId': 27037,\n",
       " 'raceId': 2109,\n",
       " 'rank': 16,\n",
       " 'name': 'NEVER DE LIVET (FR)',\n",
       " 'jockey': 'Verbeeck J.',\n",
       " 'weight': 0,\n",
       " 'distance': 2100,\n",
       " 'status': '40',\n",
       " 'team': 0,\n",
       " 'draw': 0,\n",
       " 'blinkers': '0',\n",
       " 'shoes': '',\n",
       " 'position': '0',\n",
       " 'silk': None,\n",
       " 'betcounter': 0,\n",
       " 'details': None}"
      ]
     },
     "execution_count": 78,
     "metadata": {},
     "output_type": "execute_result"
    }
   ],
   "source": [
    "race['runners'][0]"
   ]
  },
  {
   "cell_type": "code",
   "execution_count": 76,
   "metadata": {},
   "outputs": [
    {
     "name": "stdout",
     "output_type": "stream",
     "text": [
      "0 NUMERO PRIVE (FR)\n",
      "1 NICE MORNING (FR)\n",
      "2 NEW PISTOL (FR)\n",
      "3 NEOPS RIVELLIERE (FR)\n",
      "4 NICO D'AUSSY (FR)\n",
      "5 NITBY (FR)\n",
      "6 NEW LOOK DE CANISY (FR)\n",
      "7 NIARPAN (FR)\n",
      "8 NICCOLO D'AMOUR (FR)\n",
      "9 NOVELINO (FR)\n",
      "10 NESS MARCEAUX (FR)\n",
      "11 NOBLE ANGEVIN (FR)\n",
      "12 NEW HOPE (FR)\n",
      "13 NO COMMENTARY (FR)\n",
      "14 NENUPHAR (FR)\n",
      "15 NEVER DE LIVET (FR)\n"
     ]
    }
   ],
   "source": [
    "for i, runner in enumerate(complete_race['runners']):\n",
    "    print(i, runner['name'])"
   ]
  },
  {
   "cell_type": "code",
   "execution_count": 79,
   "metadata": {},
   "outputs": [
    {
     "data": {
      "text/plain": [
       "{'zeturfId': 27037,\n",
       " 'raceId': 2109,\n",
       " 'rank': 16,\n",
       " 'name': 'NEVER DE LIVET (FR)',\n",
       " 'jockey': 'Verbeeck J.',\n",
       " 'weight': 0,\n",
       " 'distance': 2100,\n",
       " 'status': '40',\n",
       " 'team': 0,\n",
       " 'draw': 0,\n",
       " 'blinkers': '0',\n",
       " 'shoes': '',\n",
       " 'position': '0',\n",
       " 'silk': None,\n",
       " 'betcounter': 0,\n",
       " 'details': {'zeturfId': 27037,\n",
       "  'stakes': 35870,\n",
       "  'musique': '5a 8a 2a Dm 3a (04) 2a Da',\n",
       "  'sex': 'H',\n",
       "  'age': '9',\n",
       "  'owner': 'Mlle Caroline Cheradame',\n",
       "  'trainer': 'Cheradame Mlle C.',\n",
       "  'coat': 'Al.',\n",
       "  'origins': 'Carpe Diem-vassia Pellois',\n",
       "  'comment': \"Possède un brin de qualité, mais risque encore de manquer  de compétition à ce niveau, venant juste d'effectuer sa rentrée sur l'herbe de Carentan. Malgré le talent de son driver, on se contentera de le regarder courir.\",\n",
       "  'time': None,\n",
       "  'reduction': None,\n",
       "  'length': None}}"
      ]
     },
     "execution_count": 79,
     "metadata": {},
     "output_type": "execute_result"
    }
   ],
   "source": [
    "complete_race['runners'][15]"
   ]
  },
  {
   "cell_type": "code",
   "execution_count": 81,
   "metadata": {},
   "outputs": [
    {
     "data": {
      "text/plain": [
       "{'zeturfId': 2109,\n",
       " 'status': 6,\n",
       " 'positions': [{'position': 1, 'numbers': [15]},\n",
       "  {'position': 2, 'numbers': [4]},\n",
       "  {'position': 3, 'numbers': [8]},\n",
       "  {'position': 4, 'numbers': [6]},\n",
       "  {'position': 5, 'numbers': [12]},\n",
       "  {'position': 6, 'numbers': [14]},\n",
       "  {'position': 7, 'numbers': [13]}],\n",
       " 'liveComments': []}"
      ]
     },
     "execution_count": 81,
     "metadata": {},
     "output_type": "execute_result"
    }
   ],
   "source": [
    "complete_race['results']"
   ]
  },
  {
   "cell_type": "code",
   "execution_count": 82,
   "metadata": {},
   "outputs": [
    {
     "name": "stdout",
     "output_type": "stream",
     "text": [
      "1\n",
      "2\n",
      "3\n",
      "4\n",
      "5\n",
      "6\n",
      "7\n",
      "8\n",
      "9\n",
      "10\n",
      "11\n",
      "12\n",
      "13\n",
      "14\n",
      "15\n",
      "16\n"
     ]
    }
   ],
   "source": [
    "for runner in complete_race['runners']:\n",
    "    print(runner['rank'])"
   ]
  },
  {
   "cell_type": "code",
   "execution_count": null,
   "metadata": {},
   "outputs": [],
   "source": []
  }
 ],
 "metadata": {
  "kernelspec": {
   "display_name": "Python 3",
   "language": "python",
   "name": "python3"
  },
  "language_info": {
   "codemirror_mode": {
    "name": "ipython",
    "version": 3
   },
   "file_extension": ".py",
   "mimetype": "text/x-python",
   "name": "python",
   "nbconvert_exporter": "python",
   "pygments_lexer": "ipython3",
   "version": "3.7.4"
  }
 },
 "nbformat": 4,
 "nbformat_minor": 4
}
