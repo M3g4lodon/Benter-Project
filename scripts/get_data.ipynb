{
 "cells": [
  {
   "cell_type": "code",
   "execution_count": 1,
   "metadata": {},
   "outputs": [
    {
     "name": "stdout",
     "output_type": "stream",
     "text": [
      "C:\\Users\\Mathieu\\Desktop\\Projets\\Benter\n"
     ]
    }
   ],
   "source": [
    "%cd C:/Users/Mathieu/Desktop/Projets/Benter"
   ]
  },
  {
   "cell_type": "code",
   "execution_count": 2,
   "metadata": {},
   "outputs": [],
   "source": [
    "# comapre old with current featured data\n",
    "%matplotlib inline\n",
    "    \n",
    "import pandas as pd\n",
    "import numpy as np\n",
    "from tqdm import tqdm\n",
    "import seaborn as sns\n",
    "\n",
    "from utils import import_data\n",
    "from utils import preprocess\n",
    "from constants import SOURCE_PMU\n",
    "\n",
    "sns.set(style=\"ticks\", context=\"talk\")"
   ]
  },
  {
   "cell_type": "code",
   "execution_count": 3,
   "metadata": {},
   "outputs": [
    {
     "name": "stderr",
     "output_type": "stream",
     "text": [
      "C:\\Users\\Mathieu\\Anaconda3\\envs\\deeplearning\\lib\\site-packages\\IPython\\core\\interactiveshell.py:2850: DtypeWarning: Columns (35,46,47,61,62,63,64,87) have mixed types.Specify dtype option on import or set low_memory=False.\n",
      "  if self.run_code(code, result):\n"
     ]
    }
   ],
   "source": [
    "race_horse_df = import_data.load_featured_data(source=SOURCE_PMU)"
   ]
  },
  {
   "cell_type": "code",
   "execution_count": 6,
   "metadata": {},
   "outputs": [
    {
     "name": "stdout",
     "output_type": "stream",
     "text": [
      "Wall time: 18.3 s\n"
     ]
    },
    {
     "data": {
      "text/plain": [
       "80250"
      ]
     },
     "execution_count": 6,
     "metadata": {},
     "output_type": "execute_result"
    }
   ],
   "source": [
    "%%time\n",
    "import_data.get_n_races(source=\"PMU\", on_split=\"train\", remove_nan_previous_stakes=False)"
   ]
  },
  {
   "cell_type": "code",
   "execution_count": 7,
   "metadata": {},
   "outputs": [
    {
     "name": "stdout",
     "output_type": "stream",
     "text": [
      "Wall time: 40.2 s\n"
     ]
    },
    {
     "data": {
      "text/plain": [
       "9485"
      ]
     },
     "execution_count": 7,
     "metadata": {},
     "output_type": "execute_result"
    }
   ],
   "source": [
    "%%time\n",
    "import_data.get_n_races(source=\"PMU\", on_split=\"train\", remove_nan_previous_stakes=True)"
   ]
  },
  {
   "cell_type": "code",
   "execution_count": 6,
   "metadata": {},
   "outputs": [],
   "source": [
    "rh_df=race_horse_df"
   ]
  },
  {
   "cell_type": "code",
   "execution_count": 9,
   "metadata": {},
   "outputs": [
    {
     "name": "stderr",
     "output_type": "stream",
     "text": [
      "100%|██████████████████████████████████████████████████████████████████████████████████████████████████████████████████████████████████████████████████████████████████████████████████████████████████| 18/18 [10:33<00:00, 35.22s/it]\n"
     ]
    },
    {
     "name": "stdout",
     "output_type": "stream",
     "text": [
      "Wall time: 10min 34s\n"
     ]
    }
   ],
   "source": [
    "%%time\n",
    "for n_horses in tqdm(range(2, 20)):\n",
    "\n",
    "    n_horse_per_race = rh_df.groupby(\"race_id\")[\"n_horses\"].first()\n",
    "    n_horse_per_race_id = n_horse_per_race[n_horse_per_race == n_horses].index\n",
    "\n",
    "    x = []\n",
    "    y = []\n",
    "    odds = []\n",
    "    for race_id in n_horse_per_race_id:\n",
    "        race_df = rh_df[rh_df.race_id == race_id]"
   ]
  },
  {
   "cell_type": "code",
   "execution_count": 16,
   "metadata": {},
   "outputs": [
    {
     "name": "stderr",
     "output_type": "stream",
     "text": [
      "100%|██████████████████████████████████████████████████████████████████████████████████████████████████████████████████████████████████████████████████████████████████████████████████████████████████| 18/18 [01:25<00:00,  4.77s/it]\n"
     ]
    },
    {
     "name": "stdout",
     "output_type": "stream",
     "text": [
      "Wall time: 1min 25s\n"
     ]
    }
   ],
   "source": [
    "%%time\n",
    "for n_horses in tqdm(range(2, 20)):\n",
    "    x = []\n",
    "    y = []\n",
    "    odds = []\n",
    "    for race_id, race_df in rh_df[rh_df['n_horses'] == n_horses].groupby('race_id'):\n",
    "        continue"
   ]
  },
  {
   "cell_type": "code",
   "execution_count": 18,
   "metadata": {
    "scrolled": true
   },
   "outputs": [
    {
     "name": "stdout",
     "output_type": "stream",
     "text": [
      "11367            horse_name  horse_number  horse_age horse_sex horse_race  \\\n",
      "142740  CAPTAIN CHRIS             1          9   HONGRES   PUR-SANG   \n",
      "142741       AL FEROF             2          8   HONGRES   PUR-SANG   \n",
      "142742   FRENCH OPERA             3         10   HONGRES   PUR-SANG   \n",
      "\n",
      "             statut  placeCorde                       owner_name  \\\n",
      "142740  NON_PARTANT         NaN            MRS DIANA L. WHATELEY   \n",
      "142741      PARTANT         NaN                      MR J. HALES   \n",
      "142742      PARTANT         NaN  MRS JUDY WILSON & MARTIN LANDAU   \n",
      "\n",
      "           trainer_name      jockey_name  ...  n_horses  pari_mutuel_proba  \\\n",
      "142740     PHILIP HOBBS  RICHARD JOHNSON  ...         2                NaN   \n",
      "142741    PAUL NICHOLLS      DARYL JACOB  ...         2                NaN   \n",
      "142742  NICKY HENDERSON   ANDREW TINKLER  ...         2                NaN   \n",
      "\n",
      "        odds win_ratio  mean_place  jockey_win_rate  jockey_mean_place  \\\n",
      "142740   NaN      0.00        3.50         0.000000               4.70   \n",
      "142741   NaN      0.25        2.75         0.083333               4.75   \n",
      "142742   NaN      0.00        4.75         0.000000               5.00   \n",
      "\n",
      "       trainer_win_rate trainer_mean_place  duration_since_last_race  \n",
      "142740         0.000000           3.714286                  213 days  \n",
      "142741         0.172414           3.724138                  371 days  \n",
      "142742         0.238095           3.595238                  210 days  \n",
      "\n",
      "[3 rows x 88 columns]\n",
      "12313                horse_name  horse_number  horse_age horse_sex horse_race  \\\n",
      "155529  APACHE STRONGHOLD             1          5   HONGRES   PUR-SANG   \n",
      "155530            AZORIAN             2          5   HONGRES   PUR-SANG   \n",
      "155531         BRIAR HILL             3          5   HONGRES   PUR-SANG   \n",
      "155532          VERY WOOD             4          4   HONGRES   PUR-SANG   \n",
      "\n",
      "             statut  placeCorde              owner_name  trainer_name  \\\n",
      "155529  NON_PARTANT         NaN       MRS PATRICIA HUNT    NOEL MEADE   \n",
      "155530      PARTANT         NaN  GIGGINSTOWN HOUSE STUD  EOIN GRIFFIN   \n",
      "155531      PARTANT         NaN            ANDREA WYLIE  W.P. MULLINS   \n",
      "155532  NON_PARTANT         NaN  GIGGINSTOWN HOUSE STUD    NOEL MEADE   \n",
      "\n",
      "         jockey_name  ...  n_horses  pari_mutuel_proba  odds win_ratio  \\\n",
      "155529   P. CARBERRY  ...         2                NaN   NaN       0.5   \n",
      "155530  D.N. RUSSELL  ...         2                NaN   NaN       0.5   \n",
      "155531      R. WALSH  ...         2                NaN   NaN       1.0   \n",
      "155532   B.J. COOPER  ...         2                NaN   NaN       0.5   \n",
      "\n",
      "        mean_place  jockey_win_rate  jockey_mean_place trainer_win_rate  \\\n",
      "155529        2.00         0.500000           2.000000         0.111111   \n",
      "155530        1.50         0.210526           2.684211              NaN   \n",
      "155531        1.00         0.400000           2.222222         0.285714   \n",
      "155532        2.25         0.222222           3.000000         0.111111   \n",
      "\n",
      "       trainer_mean_place  duration_since_last_race  \n",
      "155529           2.888889                       NaT  \n",
      "155530                NaN                       NaT  \n",
      "155531           2.489796                       NaT  \n",
      "155532           2.888889                       NaT  \n",
      "\n",
      "[4 rows x 88 columns]\n",
      "16729                horse_name  horse_number  horse_age horse_sex horse_race  \\\n",
      "213486  HAPPYDOINGNOTHING             1          3   HONGRES   PUR-SANG   \n",
      "213487         SPEEDFIEND             2          3     MALES   PUR-SANG   \n",
      "\n",
      "         statut  placeCorde               owner_name       trainer_name  \\\n",
      "213486  PARTANT         2.0            MR P. D. WEST  CHRISTINE DUNNETT   \n",
      "213487  PARTANT         1.0  NEWTOWN ANNER STUD FARM       NOEL QUINLAN   \n",
      "\n",
      "           jockey_name  ...  n_horses  pari_mutuel_proba  odds win_ratio  \\\n",
      "213486  ADAM BESCHIZZA  ...         2                NaN   NaN       0.0   \n",
      "213487      ADAM KIRBY  ...         2                NaN   NaN       0.0   \n",
      "\n",
      "        mean_place  jockey_win_rate  jockey_mean_place trainer_win_rate  \\\n",
      "213486         5.0         0.333333           2.333333              NaN   \n",
      "213487         3.0         0.230769           3.538462              0.2   \n",
      "\n",
      "       trainer_mean_place  duration_since_last_race  \n",
      "213486                NaN                       NaT  \n",
      "213487                2.8                       NaT  \n",
      "\n",
      "[2 rows x 88 columns]\n",
      "81655                horse_name  horse_number  horse_age horse_sex horse_race  \\\n",
      "1022739        SACRED ACT             1          7   HONGRES   PUR-SANG   \n",
      "1022740  PRINCESS DE LUNE             2          4  FEMELLES   PUR-SANG   \n",
      "1022741      ELITE TREATY             3          4   HONGRES   PUR-SANG   \n",
      "\n",
      "              statut  placeCorde                        owner_name  \\\n",
      "1022739      PARTANT         3.0  MR KULBIR SOHI,MR B.ROBERTS & MR   \n",
      "1022740      PARTANT         2.0  KANIZ BLOODSTOCK INVESTMENTS LTD   \n",
      "1022741  NON_PARTANT         1.0                    MR A P GRIFFIN   \n",
      "\n",
      "          trainer_name      jockey_name  ...  n_horses  pari_mutuel_proba  \\\n",
      "1022739   MICHAEL BELL    CAMERON NOBLE  ...         2           0.559055   \n",
      "1022740  ARCHIE WATSON  EDWARD GREATREX  ...         2           0.440945   \n",
      "1022741   GAY KELLEWAY     HOLLIE DOYLE  ...         2                NaN   \n",
      "\n",
      "             odds win_ratio  mean_place  jockey_win_rate  jockey_mean_place  \\\n",
      "1022739  1.788732  0.000000    3.250000         0.000000           6.736842   \n",
      "1022740  2.267857  0.333333    5.666667         0.055556           3.722222   \n",
      "1022741       NaN  0.000000    5.000000         0.115385           4.192308   \n",
      "\n",
      "        trainer_win_rate trainer_mean_place  duration_since_last_race  \n",
      "1022739         0.152542           4.525424                   19 days  \n",
      "1022740         0.000000           5.266667                  117 days  \n",
      "1022741         0.076923           5.423077                   17 days  \n",
      "\n",
      "[3 rows x 88 columns]\n",
      "109716             horse_name  horse_number  horse_age horse_sex horse_race  \\\n",
      "1362708        WICHITA             1          2     MALES   PUR-SANG   \n",
      "1362709          ALSON             2          2     MALES   PUR-SANG   \n",
      "1362710         ARMORY             3          2     MALES   PUR-SANG   \n",
      "1362711  LADY PENELOPE             4          2  FEMELLES   PUR-SANG   \n",
      "\n",
      "              statut  placeCorde                 owner_name trainer_name  \\\n",
      "1362708  NON_PARTANT         3.0  D.SMITH/MME J.MAGNIER/M.T   AP.O'BRIEN   \n",
      "1362709      PARTANT         4.0        GESTUT SCHLENDERHAN  JP.CARVALHO   \n",
      "1362710      PARTANT         2.0  MME J. MAGNIER/M.TABOR/D.   AP.O'BRIEN   \n",
      "1362711  NON_PARTANT         1.0  PHOENIX THOROUGHBRED LIMI   JP.O'BRIEN   \n",
      "\n",
      "          jockey_name  ...  n_horses  pari_mutuel_proba      odds win_ratio  \\\n",
      "1362708  JA.HEFFERNAN  ...         2                NaN       NaN       0.5   \n",
      "1362709     L.DETTORI  ...         2           0.485609  2.059271       0.6   \n",
      "1362710     D.O'BRIEN  ...         2           0.514391  1.944046       0.5   \n",
      "1362711      S.CROSSE  ...         2                NaN       NaN       0.2   \n",
      "\n",
      "         mean_place  jockey_win_rate  jockey_mean_place trainer_win_rate  \\\n",
      "1362708    1.750000         0.047619           7.047619         0.072289   \n",
      "1362709    1.800000         0.229730           4.441441         0.116883   \n",
      "1362710    1.833333         0.000000           4.863636         0.072289   \n",
      "1362711    2.400000              NaN                NaN         0.000000   \n",
      "\n",
      "        trainer_mean_place  duration_since_last_race  \n",
      "1362708           6.343373                   15 days  \n",
      "1362709           5.207792                   21 days  \n",
      "1362710           6.343373                   21 days  \n",
      "1362711           4.000000                   15 days  \n",
      "\n",
      "[4 rows x 88 columns]\n"
     ]
    }
   ],
   "source": [
    "n_horses=2\n",
    "n_horse_per_race = rh_df.groupby(\"race_id\")[\"n_horses\"].first()\n",
    "n_horse_per_race_id = n_horse_per_race[n_horse_per_race == n_horses].index\n",
    "\n",
    "x = []\n",
    "y = []\n",
    "odds = []\n",
    "for race_id in n_horse_per_race_id:\n",
    "    race_df = rh_df[rh_df.race_id == race_id]\n",
    "    print(race_id, race_df)"
   ]
  },
  {
   "cell_type": "code",
   "execution_count": 19,
   "metadata": {},
   "outputs": [
    {
     "name": "stdout",
     "output_type": "stream",
     "text": [
      "11367            horse_name  horse_number  horse_age horse_sex horse_race  \\\n",
      "142740  CAPTAIN CHRIS             1          9   HONGRES   PUR-SANG   \n",
      "142741       AL FEROF             2          8   HONGRES   PUR-SANG   \n",
      "142742   FRENCH OPERA             3         10   HONGRES   PUR-SANG   \n",
      "\n",
      "             statut  placeCorde                       owner_name  \\\n",
      "142740  NON_PARTANT         NaN            MRS DIANA L. WHATELEY   \n",
      "142741      PARTANT         NaN                      MR J. HALES   \n",
      "142742      PARTANT         NaN  MRS JUDY WILSON & MARTIN LANDAU   \n",
      "\n",
      "           trainer_name      jockey_name  ...  n_horses  pari_mutuel_proba  \\\n",
      "142740     PHILIP HOBBS  RICHARD JOHNSON  ...         2                NaN   \n",
      "142741    PAUL NICHOLLS      DARYL JACOB  ...         2                NaN   \n",
      "142742  NICKY HENDERSON   ANDREW TINKLER  ...         2                NaN   \n",
      "\n",
      "        odds win_ratio  mean_place  jockey_win_rate  jockey_mean_place  \\\n",
      "142740   NaN      0.00        3.50         0.000000               4.70   \n",
      "142741   NaN      0.25        2.75         0.083333               4.75   \n",
      "142742   NaN      0.00        4.75         0.000000               5.00   \n",
      "\n",
      "       trainer_win_rate trainer_mean_place  duration_since_last_race  \n",
      "142740         0.000000           3.714286                  213 days  \n",
      "142741         0.172414           3.724138                  371 days  \n",
      "142742         0.238095           3.595238                  210 days  \n",
      "\n",
      "[3 rows x 88 columns]\n",
      "12313                horse_name  horse_number  horse_age horse_sex horse_race  \\\n",
      "155529  APACHE STRONGHOLD             1          5   HONGRES   PUR-SANG   \n",
      "155530            AZORIAN             2          5   HONGRES   PUR-SANG   \n",
      "155531         BRIAR HILL             3          5   HONGRES   PUR-SANG   \n",
      "155532          VERY WOOD             4          4   HONGRES   PUR-SANG   \n",
      "\n",
      "             statut  placeCorde              owner_name  trainer_name  \\\n",
      "155529  NON_PARTANT         NaN       MRS PATRICIA HUNT    NOEL MEADE   \n",
      "155530      PARTANT         NaN  GIGGINSTOWN HOUSE STUD  EOIN GRIFFIN   \n",
      "155531      PARTANT         NaN            ANDREA WYLIE  W.P. MULLINS   \n",
      "155532  NON_PARTANT         NaN  GIGGINSTOWN HOUSE STUD    NOEL MEADE   \n",
      "\n",
      "         jockey_name  ...  n_horses  pari_mutuel_proba  odds win_ratio  \\\n",
      "155529   P. CARBERRY  ...         2                NaN   NaN       0.5   \n",
      "155530  D.N. RUSSELL  ...         2                NaN   NaN       0.5   \n",
      "155531      R. WALSH  ...         2                NaN   NaN       1.0   \n",
      "155532   B.J. COOPER  ...         2                NaN   NaN       0.5   \n",
      "\n",
      "        mean_place  jockey_win_rate  jockey_mean_place trainer_win_rate  \\\n",
      "155529        2.00         0.500000           2.000000         0.111111   \n",
      "155530        1.50         0.210526           2.684211              NaN   \n",
      "155531        1.00         0.400000           2.222222         0.285714   \n",
      "155532        2.25         0.222222           3.000000         0.111111   \n",
      "\n",
      "       trainer_mean_place  duration_since_last_race  \n",
      "155529           2.888889                       NaT  \n",
      "155530                NaN                       NaT  \n",
      "155531           2.489796                       NaT  \n",
      "155532           2.888889                       NaT  \n",
      "\n",
      "[4 rows x 88 columns]\n",
      "16729                horse_name  horse_number  horse_age horse_sex horse_race  \\\n",
      "213486  HAPPYDOINGNOTHING             1          3   HONGRES   PUR-SANG   \n",
      "213487         SPEEDFIEND             2          3     MALES   PUR-SANG   \n",
      "\n",
      "         statut  placeCorde               owner_name       trainer_name  \\\n",
      "213486  PARTANT         2.0            MR P. D. WEST  CHRISTINE DUNNETT   \n",
      "213487  PARTANT         1.0  NEWTOWN ANNER STUD FARM       NOEL QUINLAN   \n",
      "\n",
      "           jockey_name  ...  n_horses  pari_mutuel_proba  odds win_ratio  \\\n",
      "213486  ADAM BESCHIZZA  ...         2                NaN   NaN       0.0   \n",
      "213487      ADAM KIRBY  ...         2                NaN   NaN       0.0   \n",
      "\n",
      "        mean_place  jockey_win_rate  jockey_mean_place trainer_win_rate  \\\n",
      "213486         5.0         0.333333           2.333333              NaN   \n",
      "213487         3.0         0.230769           3.538462              0.2   \n",
      "\n",
      "       trainer_mean_place  duration_since_last_race  \n",
      "213486                NaN                       NaT  \n",
      "213487                2.8                       NaT  \n",
      "\n",
      "[2 rows x 88 columns]\n",
      "81655                horse_name  horse_number  horse_age horse_sex horse_race  \\\n",
      "1022739        SACRED ACT             1          7   HONGRES   PUR-SANG   \n",
      "1022740  PRINCESS DE LUNE             2          4  FEMELLES   PUR-SANG   \n",
      "1022741      ELITE TREATY             3          4   HONGRES   PUR-SANG   \n",
      "\n",
      "              statut  placeCorde                        owner_name  \\\n",
      "1022739      PARTANT         3.0  MR KULBIR SOHI,MR B.ROBERTS & MR   \n",
      "1022740      PARTANT         2.0  KANIZ BLOODSTOCK INVESTMENTS LTD   \n",
      "1022741  NON_PARTANT         1.0                    MR A P GRIFFIN   \n",
      "\n",
      "          trainer_name      jockey_name  ...  n_horses  pari_mutuel_proba  \\\n",
      "1022739   MICHAEL BELL    CAMERON NOBLE  ...         2           0.559055   \n",
      "1022740  ARCHIE WATSON  EDWARD GREATREX  ...         2           0.440945   \n",
      "1022741   GAY KELLEWAY     HOLLIE DOYLE  ...         2                NaN   \n",
      "\n",
      "             odds win_ratio  mean_place  jockey_win_rate  jockey_mean_place  \\\n",
      "1022739  1.788732  0.000000    3.250000         0.000000           6.736842   \n",
      "1022740  2.267857  0.333333    5.666667         0.055556           3.722222   \n",
      "1022741       NaN  0.000000    5.000000         0.115385           4.192308   \n",
      "\n",
      "        trainer_win_rate trainer_mean_place  duration_since_last_race  \n",
      "1022739         0.152542           4.525424                   19 days  \n",
      "1022740         0.000000           5.266667                  117 days  \n",
      "1022741         0.076923           5.423077                   17 days  \n",
      "\n",
      "[3 rows x 88 columns]\n",
      "109716             horse_name  horse_number  horse_age horse_sex horse_race  \\\n",
      "1362708        WICHITA             1          2     MALES   PUR-SANG   \n",
      "1362709          ALSON             2          2     MALES   PUR-SANG   \n",
      "1362710         ARMORY             3          2     MALES   PUR-SANG   \n",
      "1362711  LADY PENELOPE             4          2  FEMELLES   PUR-SANG   \n",
      "\n",
      "              statut  placeCorde                 owner_name trainer_name  \\\n",
      "1362708  NON_PARTANT         3.0  D.SMITH/MME J.MAGNIER/M.T   AP.O'BRIEN   \n",
      "1362709      PARTANT         4.0        GESTUT SCHLENDERHAN  JP.CARVALHO   \n",
      "1362710      PARTANT         2.0  MME J. MAGNIER/M.TABOR/D.   AP.O'BRIEN   \n",
      "1362711  NON_PARTANT         1.0  PHOENIX THOROUGHBRED LIMI   JP.O'BRIEN   \n",
      "\n",
      "          jockey_name  ...  n_horses  pari_mutuel_proba      odds win_ratio  \\\n",
      "1362708  JA.HEFFERNAN  ...         2                NaN       NaN       0.5   \n",
      "1362709     L.DETTORI  ...         2           0.485609  2.059271       0.6   \n",
      "1362710     D.O'BRIEN  ...         2           0.514391  1.944046       0.5   \n",
      "1362711      S.CROSSE  ...         2                NaN       NaN       0.2   \n",
      "\n",
      "         mean_place  jockey_win_rate  jockey_mean_place trainer_win_rate  \\\n",
      "1362708    1.750000         0.047619           7.047619         0.072289   \n",
      "1362709    1.800000         0.229730           4.441441         0.116883   \n",
      "1362710    1.833333         0.000000           4.863636         0.072289   \n",
      "1362711    2.400000              NaN                NaN         0.000000   \n",
      "\n",
      "        trainer_mean_place  duration_since_last_race  \n",
      "1362708           6.343373                   15 days  \n",
      "1362709           5.207792                   21 days  \n",
      "1362710           6.343373                   21 days  \n",
      "1362711           4.000000                   15 days  \n",
      "\n",
      "[4 rows x 88 columns]\n"
     ]
    }
   ],
   "source": [
    "for race_id, race_df in rh_df[rh_df['n_horses'] == n_horses].groupby('race_id'):\n",
    "    print(race_id, race_df)"
   ]
  },
  {
   "cell_type": "code",
   "execution_count": 4,
   "metadata": {},
   "outputs": [
    {
     "name": "stderr",
     "output_type": "stream",
     "text": [
      "C:\\Users\\Mathieu\\Anaconda3\\envs\\deeplearning\\lib\\site-packages\\pandas\\core\\frame.py:2963: SettingWithCopyWarning: \n",
      "A value is trying to be set on a copy of a slice from a DataFrame.\n",
      "Try using .loc[row_indexer,col_indexer] = value instead\n",
      "\n",
      "See the caveats in the documentation: https://pandas.pydata.org/pandas-docs/stable/user_guide/indexing.html#returning-a-view-versus-a-copy\n",
      "  self[k1] = value[k2]\n",
      "C:\\Users\\Mathieu\\Desktop\\Projets\\Benter\\utils\\preprocess.py:108: SettingWithCopyWarning: \n",
      "A value is trying to be set on a copy of a slice from a DataFrame.\n",
      "Try using .loc[row_indexer,col_indexer] = value instead\n",
      "\n",
      "See the caveats in the documentation: https://pandas.pydata.org/pandas-docs/stable/user_guide/indexing.html#returning-a-view-versus-a-copy\n",
      "  ) / standard_scaler_parameters[numerical_feature][\"std\"]\n",
      "C:\\Users\\Mathieu\\Desktop\\Projets\\Benter\\utils\\preprocess.py:109: SettingWithCopyWarning: \n",
      "A value is trying to be set on a copy of a slice from a DataFrame.\n",
      "Try using .loc[row_indexer,col_indexer] = value instead\n",
      "\n",
      "See the caveats in the documentation: https://pandas.pydata.org/pandas-docs/stable/user_guide/indexing.html#returning-a-view-versus-a-copy\n",
      "  features_df[numerical_feature] = features_df[numerical_feature].fillna(0)\n",
      "C:\\Users\\Mathieu\\Desktop\\Projets\\Benter\\utils\\preprocess.py:113: SettingWithCopyWarning: \n",
      "A value is trying to be set on a copy of a slice from a DataFrame.\n",
      "Try using .loc[row_indexer,col_indexer] = value instead\n",
      "\n",
      "See the caveats in the documentation: https://pandas.pydata.org/pandas-docs/stable/user_guide/indexing.html#returning-a-view-versus-a-copy\n",
      "  features_df[f\"{ohe_feature}_{value}\"] = features_df[ohe_feature] == value\n",
      "C:\\Users\\Mathieu\\Anaconda3\\envs\\deeplearning\\lib\\site-packages\\pandas\\core\\frame.py:3997: SettingWithCopyWarning: \n",
      "A value is trying to be set on a copy of a slice from a DataFrame\n",
      "\n",
      "See the caveats in the documentation: https://pandas.pydata.org/pandas-docs/stable/user_guide/indexing.html#returning-a-view-versus-a-copy\n",
      "  errors=errors,\n",
      "C:\\Users\\Mathieu\\Desktop\\Projets\\Benter\\utils\\preprocess.py:118: SettingWithCopyWarning: \n",
      "A value is trying to be set on a copy of a slice from a DataFrame.\n",
      "Try using .loc[row_indexer,col_indexer] = value instead\n",
      "\n",
      "See the caveats in the documentation: https://pandas.pydata.org/pandas-docs/stable/user_guide/indexing.html#returning-a-view-versus-a-copy\n",
      "  [\"DEFERRE_ANTERIEURS_POSTERIEURS\", \"DEFERRE_ANTERIEURS\"]\n",
      "C:\\Users\\Mathieu\\Desktop\\Projets\\Benter\\utils\\preprocess.py:121: SettingWithCopyWarning: \n",
      "A value is trying to be set on a copy of a slice from a DataFrame.\n",
      "Try using .loc[row_indexer,col_indexer] = value instead\n",
      "\n",
      "See the caveats in the documentation: https://pandas.pydata.org/pandas-docs/stable/user_guide/indexing.html#returning-a-view-versus-a-copy\n",
      "  [\"DEFERRE_ANTERIEURS_POSTERIEURS\", \"DEFERRE_POSTERIEURS\"]\n"
     ]
    },
    {
     "ename": "TypeError",
     "evalue": "ufunc 'isnan' not supported for the input types, and the inputs could not be safely coerced to any supported types according to the casting rule ''safe''",
     "output_type": "error",
     "traceback": [
      "\u001b[1;31m---------------------------------------------------------------------------\u001b[0m",
      "\u001b[1;31mTypeError\u001b[0m                                 Traceback (most recent call last)",
      "\u001b[1;32m<ipython-input-4-dbb297151092>\u001b[0m in \u001b[0;36m<module>\u001b[1;34m()\u001b[0m\n\u001b[0;32m      1\u001b[0m \u001b[0mx_race\u001b[0m \u001b[1;33m=\u001b[0m \u001b[0mpreprocess\u001b[0m\u001b[1;33m.\u001b[0m\u001b[0mpreprocess\u001b[0m\u001b[1;33m(\u001b[0m\u001b[0mrace_horse_df\u001b[0m\u001b[1;33m=\u001b[0m\u001b[0mrace_horse_df\u001b[0m\u001b[1;33m[\u001b[0m\u001b[0mrace_horse_df\u001b[0m\u001b[1;33m.\u001b[0m\u001b[0mrace_id\u001b[0m\u001b[1;33m==\u001b[0m\u001b[1;36m1\u001b[0m\u001b[1;33m]\u001b[0m\u001b[1;33m,\u001b[0m \u001b[0msource\u001b[0m\u001b[1;33m=\u001b[0m\u001b[0mSOURCE_PMU\u001b[0m\u001b[1;33m)\u001b[0m\u001b[1;33m\u001b[0m\u001b[0m\n\u001b[0;32m      2\u001b[0m \u001b[1;33m\u001b[0m\u001b[0m\n\u001b[1;32m----> 3\u001b[1;33m \u001b[1;32mif\u001b[0m \u001b[0mnp\u001b[0m\u001b[1;33m.\u001b[0m\u001b[0misnan\u001b[0m\u001b[1;33m(\u001b[0m\u001b[0mx_race\u001b[0m\u001b[1;33m.\u001b[0m\u001b[0mvalues\u001b[0m\u001b[1;33m)\u001b[0m\u001b[1;33m.\u001b[0m\u001b[0mmean\u001b[0m\u001b[1;33m(\u001b[0m\u001b[1;33m)\u001b[0m \u001b[1;33m>\u001b[0m \u001b[0mMAX_NAN_PROP\u001b[0m\u001b[1;33m:\u001b[0m\u001b[1;33m\u001b[0m\u001b[0m\n\u001b[0m\u001b[0;32m      4\u001b[0m     \u001b[0mprint\u001b[0m\u001b[1;33m(\u001b[0m\u001b[1;32mNone\u001b[0m\u001b[1;33m,\u001b[0m \u001b[1;32mNone\u001b[0m\u001b[1;33m,\u001b[0m \u001b[1;32mNone\u001b[0m\u001b[1;33m)\u001b[0m\u001b[1;33m\u001b[0m\u001b[0m\n",
      "\u001b[1;31mTypeError\u001b[0m: ufunc 'isnan' not supported for the input types, and the inputs could not be safely coerced to any supported types according to the casting rule ''safe''"
     ]
    }
   ],
   "source": [
    "x_race = preprocess.preprocess(race_horse_df=race_horse_df[race_horse_df.race_id==1], source=SOURCE_PMU)\n",
    "\n",
    "if np.isnan(x_race.values).mean() > MAX_NAN_PROP:\n",
    "    print(None, None, None)"
   ]
  },
  {
   "cell_type": "code",
   "execution_count": 16,
   "metadata": {},
   "outputs": [
    {
     "data": {
      "text/plain": [
       "(13, 49)"
      ]
     },
     "execution_count": 16,
     "metadata": {},
     "output_type": "execute_result"
    }
   ],
   "source": [
    "x_race.shape"
   ]
  },
  {
   "cell_type": "code",
   "execution_count": 15,
   "metadata": {},
   "outputs": [
    {
     "data": {
      "text/plain": [
       "NaN                               23064433\n",
       "DEFERRE_ANTERIEURS_POSTERIEURS      174584\n",
       "DEFERRE_POSTERIEURS                  75685\n",
       "DEFERRE_ANTERIEURS                   34267\n",
       "REFERRE_ANTERIEURS_POSTERIEURS         455\n",
       "Name: unshod, dtype: int64"
      ]
     },
     "execution_count": 15,
     "metadata": {},
     "output_type": "execute_result"
    }
   ],
   "source": [
    "features_df.unshod.value_counts(dropna=False)race_horse_df"
   ]
  },
  {
   "cell_type": "code",
   "execution_count": 13,
   "metadata": {},
   "outputs": [
    {
     "data": {
      "text/plain": [
       "NaN           23092087\n",
       "HERBE           153335\n",
       "GAZON            91070\n",
       "POUZZOLANE        9987\n",
       "SABLE             2907\n",
       "DIRT                38\n",
       "Name: course_track_type, dtype: int64"
      ]
     },
     "execution_count": 13,
     "metadata": {},
     "output_type": "execute_result"
    }
   ],
   "source": [
    "features_df.course_track_type.value_counts(dropna=False)"
   ]
  },
  {
   "cell_type": "code",
   "execution_count": 61,
   "metadata": {},
   "outputs": [],
   "source": [
    "race_df=race_horse_df.groupby('race_id')['placeCorde'].agg('mean').to_frame()"
   ]
  },
  {
   "cell_type": "code",
   "execution_count": 62,
   "metadata": {},
   "outputs": [],
   "source": [
    "race_df['n_horses']=race_horse_df.groupby('race_id')['n_horses'].agg('first')"
   ]
  },
  {
   "cell_type": "code",
   "execution_count": 63,
   "metadata": {},
   "outputs": [
    {
     "data": {
      "text/html": [
       "<div>\n",
       "<style scoped>\n",
       "    .dataframe tbody tr th:only-of-type {\n",
       "        vertical-align: middle;\n",
       "    }\n",
       "\n",
       "    .dataframe tbody tr th {\n",
       "        vertical-align: top;\n",
       "    }\n",
       "\n",
       "    .dataframe thead th {\n",
       "        text-align: right;\n",
       "    }\n",
       "</style>\n",
       "<table border=\"1\" class=\"dataframe\">\n",
       "  <thead>\n",
       "    <tr style=\"text-align: right;\">\n",
       "      <th></th>\n",
       "      <th>placeCorde</th>\n",
       "      <th>n_horses</th>\n",
       "    </tr>\n",
       "    <tr>\n",
       "      <th>race_id</th>\n",
       "      <th></th>\n",
       "      <th></th>\n",
       "    </tr>\n",
       "  </thead>\n",
       "  <tbody>\n",
       "    <tr>\n",
       "      <th>0</th>\n",
       "      <td>8.5</td>\n",
       "      <td>16</td>\n",
       "    </tr>\n",
       "    <tr>\n",
       "      <th>1</th>\n",
       "      <td>7.0</td>\n",
       "      <td>13</td>\n",
       "    </tr>\n",
       "    <tr>\n",
       "      <th>2</th>\n",
       "      <td>NaN</td>\n",
       "      <td>10</td>\n",
       "    </tr>\n",
       "    <tr>\n",
       "      <th>3</th>\n",
       "      <td>NaN</td>\n",
       "      <td>7</td>\n",
       "    </tr>\n",
       "    <tr>\n",
       "      <th>4</th>\n",
       "      <td>8.5</td>\n",
       "      <td>16</td>\n",
       "    </tr>\n",
       "    <tr>\n",
       "      <th>...</th>\n",
       "      <td>...</td>\n",
       "      <td>...</td>\n",
       "    </tr>\n",
       "    <tr>\n",
       "      <th>117500</th>\n",
       "      <td>7.5</td>\n",
       "      <td>13</td>\n",
       "    </tr>\n",
       "    <tr>\n",
       "      <th>117501</th>\n",
       "      <td>8.0</td>\n",
       "      <td>11</td>\n",
       "    </tr>\n",
       "    <tr>\n",
       "      <th>117502</th>\n",
       "      <td>7.5</td>\n",
       "      <td>10</td>\n",
       "    </tr>\n",
       "    <tr>\n",
       "      <th>117503</th>\n",
       "      <td>9.0</td>\n",
       "      <td>16</td>\n",
       "    </tr>\n",
       "    <tr>\n",
       "      <th>117504</th>\n",
       "      <td>8.0</td>\n",
       "      <td>13</td>\n",
       "    </tr>\n",
       "  </tbody>\n",
       "</table>\n",
       "<p>117505 rows × 2 columns</p>\n",
       "</div>"
      ],
      "text/plain": [
       "         placeCorde  n_horses\n",
       "race_id                      \n",
       "0               8.5        16\n",
       "1               7.0        13\n",
       "2               NaN        10\n",
       "3               NaN         7\n",
       "4               8.5        16\n",
       "...             ...       ...\n",
       "117500          7.5        13\n",
       "117501          8.0        11\n",
       "117502          7.5        10\n",
       "117503          9.0        16\n",
       "117504          8.0        13\n",
       "\n",
       "[117505 rows x 2 columns]"
      ]
     },
     "execution_count": 63,
     "metadata": {},
     "output_type": "execute_result"
    }
   ],
   "source": [
    "race_df"
   ]
  },
  {
   "cell_type": "code",
   "execution_count": 43,
   "metadata": {},
   "outputs": [
    {
     "data": {
      "text/plain": [
       "False    1414069\n",
       "True       45270\n",
       "Name: indicateurInedit, dtype: int64"
      ]
     },
     "execution_count": 43,
     "metadata": {},
     "output_type": "execute_result"
    }
   ],
   "source": [
    "race_horse_df['indicateurInedit'].value_counts(dropna=False)"
   ]
  },
  {
   "cell_type": "code",
   "execution_count": 45,
   "metadata": {},
   "outputs": [
    {
     "data": {
      "text/plain": [
       "HONGRES     651433\n",
       "FEMELLES    557856\n",
       "MALES       250050\n",
       "Name: horse_sex, dtype: int64"
      ]
     },
     "execution_count": 45,
     "metadata": {},
     "output_type": "execute_result"
    }
   ],
   "source": [
    "race_horse_df['horse_sex'].value_counts(dropna=False)"
   ]
  },
  {
   "cell_type": "code",
   "execution_count": 37,
   "metadata": {},
   "outputs": [
    {
     "data": {
      "text/plain": [
       "NaN           1202002\n",
       "HERBE          153335\n",
       "GAZON           91070\n",
       "POUZZOLANE       9987\n",
       "SABLE            2907\n",
       "DIRT               38\n",
       "Name: course_track_type, dtype: int64"
      ]
     },
     "execution_count": 37,
     "metadata": {},
     "output_type": "execute_result"
    }
   ],
   "source": [
    "race_horse_df['course_track_type'].value_counts(dropna=False)"
   ]
  },
  {
   "cell_type": "code",
   "execution_count": 36,
   "metadata": {},
   "outputs": [
    {
     "data": {
      "text/plain": [
       "NaN                      849412\n",
       "TROIS_ANS                148696\n",
       "QUATRE_ANS_ET_PLUS       137884\n",
       "TROIS_ANS_ET_PLUS        102474\n",
       "CINQ_ANS_ET_PLUS          73196\n",
       "QUATRE_ANS                64055\n",
       "DEUX_ANS                  45802\n",
       "DEUX_ANS_ET_PLUS          12516\n",
       "CINQ_ANS                   8871\n",
       "QUATRE_CINQ_ANS            8707\n",
       "SIX_ANS_ET_PLUS            3038\n",
       "CINQ_SIX_ANS               2028\n",
       "DEUX_ET_TROIS_ANS           977\n",
       "TROIS_QUATRE_CINQ_ANS       807\n",
       "INCONNU                     366\n",
       "QUATE_CINQ_SIX_ANS          332\n",
       "SIX_ANS                     125\n",
       "DEUX_TROIS_QUATRE_ANS        53\n",
       "Name: course_condition_age, dtype: int64"
      ]
     },
     "execution_count": 36,
     "metadata": {},
     "output_type": "execute_result"
    }
   ],
   "source": [
    "race_horse_df['course_condition_age'].value_counts(dropna=False)"
   ]
  },
  {
   "cell_type": "code",
   "execution_count": 27,
   "metadata": {},
   "outputs": [
    {
     "data": {
      "text/plain": [
       "TOUS_CHEVAUX           1064272\n",
       "FEMELLES                215079\n",
       "MALES_ET_HONGRES        166432\n",
       "FEMELLES_ET_MALES         8528\n",
       "MALES                     4944\n",
       "FEMELLES_ET_HONGRES         70\n",
       "HONGRES                     14\n",
       "Name: course_condition_sexe, dtype: int64"
      ]
     },
     "execution_count": 27,
     "metadata": {},
     "output_type": "execute_result"
    }
   ],
   "source": [
    "race_horse_df['course_condition_sexe'].value_counts(dropna=False)"
   ]
  },
  {
   "cell_type": "code",
   "execution_count": 29,
   "metadata": {},
   "outputs": [
    {
     "data": {
      "text/plain": [
       "NaN      1340526\n",
       "545.0       6488\n",
       "565.0       6353\n",
       "555.0       6278\n",
       "640.0       6244\n",
       "          ...   \n",
       "57.0           1\n",
       "632.0          1\n",
       "633.0          1\n",
       "55.0           1\n",
       "511.0          1\n",
       "Name: poidsConditionMonte, Length: 151, dtype: int64"
      ]
     },
     "execution_count": 29,
     "metadata": {},
     "output_type": "execute_result"
    }
   ],
   "source": [
    "race_horse_df['poidsConditionMonte'].value_counts(dropna=False)"
   ]
  },
  {
   "cell_type": "code",
   "execution_count": 35,
   "metadata": {},
   "outputs": [
    {
     "data": {
      "text/plain": [
       "NaN     1178113\n",
       "31.0       7085\n",
       "28.0       6676\n",
       "30.0       6576\n",
       "29.0       6477\n",
       "         ...   \n",
       "2.0           5\n",
       "82.5          3\n",
       "86.0          3\n",
       "78.5          3\n",
       "81.5          1\n",
       "Name: handicap_value, Length: 167, dtype: int64"
      ]
     },
     "execution_count": 35,
     "metadata": {},
     "output_type": "execute_result"
    }
   ],
   "source": [
    "race_horse_df['handicap_value'].value_counts(dropna=False)"
   ]
  },
  {
   "cell_type": "code",
   "execution_count": 32,
   "metadata": {},
   "outputs": [
    {
     "data": {
      "text/plain": [
       "SANS_OEILLERES             1165444\n",
       "NaN                         154930\n",
       "OEILLERES_CLASSIQUE          77370\n",
       "OEILLERES_AUSTRALIENNES      61595\n",
       "Name: blinkers, dtype: int64"
      ]
     },
     "execution_count": 32,
     "metadata": {},
     "output_type": "execute_result"
    }
   ],
   "source": [
    "race_horse_df['blinkers'].value_counts(dropna=False)"
   ]
  },
  {
   "cell_type": "code",
   "execution_count": 33,
   "metadata": {},
   "outputs": [
    {
     "data": {
      "text/plain": [
       "NaN    1395724\n",
       "A        53442\n",
       "B         8796\n",
       "C         1063\n",
       "0          184\n",
       "D          116\n",
       "E           13\n",
       "0.0          1\n",
       "Name: ecurie, dtype: int64"
      ]
     },
     "execution_count": 33,
     "metadata": {},
     "output_type": "execute_result"
    }
   ],
   "source": [
    "race_horse_df['ecurie'].value_counts(dropna=False)"
   ]
  },
  {
   "cell_type": "code",
   "execution_count": 34,
   "metadata": {},
   "outputs": [
    {
     "data": {
      "text/plain": [
       "NaN                               1174348\n",
       "DEFERRE_ANTERIEURS_POSTERIEURS     174584\n",
       "DEFERRE_POSTERIEURS                 75685\n",
       "DEFERRE_ANTERIEURS                  34267\n",
       "REFERRE_ANTERIEURS_POSTERIEURS        455\n",
       "Name: unshod, dtype: int64"
      ]
     },
     "execution_count": 34,
     "metadata": {},
     "output_type": "execute_result"
    }
   ],
   "source": [
    "race_horse_df['unshod'].value_counts(dropna=False)"
   ]
  },
  {
   "cell_type": "code",
   "execution_count": 23,
   "metadata": {},
   "outputs": [
    {
     "data": {
      "text/plain": [
       "METRE    1459339\n",
       "Name: course_distance_unit, dtype: int64"
      ]
     },
     "execution_count": 23,
     "metadata": {},
     "output_type": "execute_result"
    }
   ],
   "source": [
    "race_horse_df['course_distance_unit'].value_counts(dropna=False)"
   ]
  },
  {
   "cell_type": "code",
   "execution_count": 22,
   "metadata": {},
   "outputs": [
    {
     "data": {
      "text/plain": [
       "TROT     849368\n",
       "GALOP    609971\n",
       "Name: allure, dtype: int64"
      ]
     },
     "execution_count": 22,
     "metadata": {},
     "output_type": "execute_result"
    }
   ],
   "source": [
    "race_horse_df['allure'].value_counts(dropna=False)"
   ]
  },
  {
   "cell_type": "code",
   "execution_count": 21,
   "metadata": {},
   "outputs": [
    {
     "data": {
      "text/plain": [
       "CORDE_GAUCHE    670257\n",
       "CORDE_DROITE    581389\n",
       "NaN             207693\n",
       "Name: course_corde, dtype: int64"
      ]
     },
     "execution_count": 21,
     "metadata": {},
     "output_type": "execute_result"
    }
   ],
   "source": [
    "race_horse_df['course_corde'].value_counts(dropna=False)"
   ]
  },
  {
   "cell_type": "code",
   "execution_count": 25,
   "metadata": {},
   "outputs": [
    {
     "data": {
      "text/plain": [
       "ATTELE          736872\n",
       "PLAT            495516\n",
       "MONTE           112496\n",
       "HAIE             67527\n",
       "STEEPLECHASE     40776\n",
       "CROSS             6152\n",
       "Name: course_discipline, dtype: int64"
      ]
     },
     "execution_count": 25,
     "metadata": {},
     "output_type": "execute_result"
    }
   ],
   "source": [
    "race_horse_df['course_discipline'].value_counts(dropna=False)"
   ]
  },
  {
   "cell_type": "code",
   "execution_count": 26,
   "metadata": {},
   "outputs": [
    {
     "data": {
      "text/plain": [
       "TROT_ATTELE    736872\n",
       "PLAT           495516\n",
       "OBSTACLE       114455\n",
       "TROT_MONTE     112496\n",
       "Name: course_specialite, dtype: int64"
      ]
     },
     "execution_count": 26,
     "metadata": {},
     "output_type": "execute_result"
    }
   ],
   "source": [
    "race_horse_df['course_specialite'].value_counts(dropna=False)"
   ]
  },
  {
   "cell_type": "code",
   "execution_count": 19,
   "metadata": {},
   "outputs": [
    {
     "data": {
      "text/plain": [
       "1448688      NaN\n",
       "394225       NaN\n",
       "835251       NaN\n",
       "317891     600.0\n",
       "1277615    550.0\n",
       "1059874    580.0\n",
       "337637       NaN\n",
       "366851       NaN\n",
       "333375     555.0\n",
       "942867     520.0\n",
       "Name: handicap_weight, dtype: float64"
      ]
     },
     "execution_count": 19,
     "metadata": {},
     "output_type": "execute_result"
    }
   ],
   "source": [
    "race_horse_df['handicap_weight'].sample(10)"
   ]
  },
  {
   "cell_type": "markdown",
   "metadata": {},
   "source": [
    "### Extract features\n",
    "\n",
    "DONE v1\n",
    "\n",
    "    win rate horse, jockey, trainer\n",
    "    mean place horse, jockey, trainer\n",
    "    horse_age, horse_sex\n",
    "    horse race\n",
    "    pregnant\n",
    "    breeder\n",
    "    unshod\n",
    "    corde\n",
    "    parcours\n",
    "    blinker\n",
    "    handicap\n",
    "    gains en cours, carrière, année précédente, \n",
    "    enjeu de la course (pool prize, winner prize)\n",
    "    weight, actual weights\n",
    "    driver\n",
    "    race_type\n",
    "    état du sol (type sol, penetrometre)\n",
    "    duration since last race -> performance.json (remaining to compute timedelta between last_race and date)\n",
    "    \n",
    "\n",
    "TODO\n",
    "\n",
    "    ecuries\n",
    "From programme\n",
    "\n",
    "    numéro course jockey dans la journée\n",
    "    nombre de course courus par le jockey dans la journée\n",
    "    \n",
    "From past races\n",
    "\n",
    "    expérience: nombre de course du cheval/horse/trainer dans l'historique\n",
    "    inédit pour cheval (or in partipants), jockey,trainer\n",
    "    new race type for horse, jockey, trainer\n",
    "    number of days since last race (horse  from perforamnce.json)\n",
    "    last race position    \n",
    "    previous horse speed\n",
    "    mean speed (bins?)\n",
    "    max speed (bins?)\n",
    "    elo ranking horse, jockey, trainer (from historic)\n",
    "    max elo ranking father/mother/father_mother\n",
    "    track draw advatage from historic \n",
    "    already race together horse+driver\n",
    "    \n",
    "directly in course\n",
    "\n",
    "    \n",
    "in participants\n",
    "    \n",
    "\n"
   ]
  },
  {
   "cell_type": "code",
   "execution_count": 17,
   "metadata": {},
   "outputs": [
    {
     "data": {
      "text/plain": [
       "4     347731\n",
       "3     290980\n",
       "5     262594\n",
       "6     187223\n",
       "7     138325\n",
       "8      93448\n",
       "2      53517\n",
       "9      52931\n",
       "10     22012\n",
       "11      6645\n",
       "12      2640\n",
       "13       955\n",
       "14       277\n",
       "15        46\n",
       "0          8\n",
       "1          4\n",
       "16         2\n",
       "60         1\n",
       "Name: age, dtype: int64"
      ]
     },
     "execution_count": 17,
     "metadata": {},
     "output_type": "execute_result"
    }
   ],
   "source": [
    "race_horse_df['age'].value_counts()"
   ]
  },
  {
   "cell_type": "code",
   "execution_count": 27,
   "metadata": {},
   "outputs": [
    {
     "data": {
      "text/plain": [
       "HONGRES     651433\n",
       "FEMELLES    557856\n",
       "MALES       250050\n",
       "Name: horse_sex, dtype: int64"
      ]
     },
     "execution_count": 27,
     "metadata": {},
     "output_type": "execute_result"
    }
   ],
   "source": [
    "race_horse_df.horse_sex.value_counts()"
   ]
  },
  {
   "cell_type": "code",
   "execution_count": 38,
   "metadata": {},
   "outputs": [
    {
     "data": {
      "text/plain": [
       "0                NaN\n",
       "1                NaN\n",
       "2                NaN\n",
       "3                NaN\n",
       "4                NaN\n",
       "             ...    \n",
       "1459334    11.287279\n",
       "1459335    10.745055\n",
       "1459336    11.985426\n",
       "1459337    11.935575\n",
       "1459338    10.742897\n",
       "Name: gainsCarriere, Length: 1459339, dtype: float64"
      ]
     },
     "execution_count": 38,
     "metadata": {},
     "output_type": "execute_result"
    }
   ],
   "source": [
    "race_horse_df.gainsCarriere.apply(np.log)"
   ]
  },
  {
   "cell_type": "code",
   "execution_count": 42,
   "metadata": {},
   "outputs": [
    {
     "data": {
      "image/png": "[encoded data removed]",
      "text/plain": [
       "<matplotlib.figure.Figure at 0x1b967fcf550>"
      ]
     },
     "metadata": {},
     "output_type": "display_data"
    }
   ],
   "source": [
    "sns.distplot((race_horse_df.gainsCarriere/100).apply(np.log10).replace([np.inf, -np.inf], np.nan));"
   ]
  },
  {
   "cell_type": "code",
   "execution_count": 44,
   "metadata": {},
   "outputs": [
    {
     "data": {
      "text/plain": [
       "0.07424525761320708"
      ]
     },
     "execution_count": 44,
     "metadata": {},
     "output_type": "execute_result"
    }
   ],
   "source": [
    "(race_horse_df.gainsCarriere==0).mean()"
   ]
  },
  {
   "cell_type": "code",
   "execution_count": 41,
   "metadata": {},
   "outputs": [
    {
     "data": {
      "text/plain": [
       "0.15526961178999532"
      ]
     },
     "execution_count": 41,
     "metadata": {},
     "output_type": "execute_result"
    }
   ],
   "source": [
    "race_horse_df.gainsCarriere.isna().mean()"
   ]
  },
  {
   "cell_type": "code",
   "execution_count": 93,
   "metadata": {},
   "outputs": [
    {
     "name": "stdout",
     "output_type": "stream",
     "text": [
      "                                                                     1138429\n",
      "horse_name                                                ECLAIR DES BRIERES\n",
      "horse_number                                                               1\n",
      "age                                                                        4\n",
      "horse_sex                                                            HONGRES\n",
      "race                                                                PUR-SANG\n",
      "statut                                                               PARTANT\n",
      "placeCorde                                                               NaN\n",
      "owner                                                               D.LEPAGE\n",
      "trainer                                                            S.FOUCHER\n",
      "jockey                                                           E. METIVIER\n",
      "driverChange                                                           False\n",
      "tauxReclamation                                                          NaN\n",
      "indicateurInedit                                                       False\n",
      "musique                                               Ts1h5s5s5s8s(17)5s2hTs\n",
      "n_run_races                                                               13\n",
      "n_won_races                                                                2\n",
      "n_placed_races                                                             6\n",
      "father_horse_name                                                   Sandwaki\n",
      "mother_horse_name                                              Gagne du peze\n",
      "horse_place                                                                5\n",
      "jumentPleine                                                           False\n",
      "engagement                                                             False\n",
      "supplement                                                                 0\n",
      "handicapDistance                                                         NaN\n",
      "poidsConditionMonteChange                                              False\n",
      "tempsObtenu                                                              NaN\n",
      "reductionKilometrique                                                    NaN\n",
      "allure                                                                 GALOP\n",
      "n_reunion                                                                  1\n",
      "n_course                                                                   8\n",
      "date                                                              2018-08-20\n",
      "race_datetime                                      2018-08-20 17:30:00+02:00\n",
      "in_incident                                                            False\n",
      "incident_type                                                            NaN\n",
      "totalEnjeu                                                             65500\n",
      "true_total_enjeu                                                        True\n",
      "reunion_nature                                                        DIURNE\n",
      "reunion_audience                                                    NATIONAL\n",
      "reunion_pays                                                             FRA\n",
      "course_statut                                                     FIN_COURSE\n",
      "course_discipline                                                       HAIE\n",
      "course_specialite                                                   OBSTACLE\n",
      "condition_sexe                                                  TOUS_CHEVAUX\n",
      "course_corde                                                             NaN\n",
      "course_hippodrome                                                        CHB\n",
      "incident                                                                 NaN\n",
      "handicapPoids                                                            700\n",
      "father_mother_horse_name                                           Spartacus\n",
      "poidsConditionMonte                                                      670\n",
      "oeilleres                                                     SANS_OEILLERES\n",
      "ecurie                                                                   NaN\n",
      "deferre                                                                  NaN\n",
      "eleveur                                                       MR ERIC SAILLY\n",
      "urlCasaque                 https://turfinfo.pmucdn.fr/casaques/20082018/R...\n",
      "gainsCarriere                                                     2.7765e+06\n",
      "gainsVictoires                                                     1.104e+06\n",
      "gainsPlace                                                        1.6725e+06\n",
      "gainsAnneeEnCours                                                     822000\n",
      "gainsAnneePrecedente                                              1.9545e+06\n",
      "nombrePlacesSecond                                                         2\n",
      "nombrePlacesTroisieme                                                      0\n",
      "handicapValeur                                                            56\n",
      "horse_id                                                              112081\n",
      "father_horse_id                                                       178833\n",
      "mother_horse_id                                                       234251\n",
      "father_mother_horse_id                                                108649\n",
      "race_id                                                                91257\n",
      "n_horses                                                                  11\n",
      "pari_mutuel_proba                                                  0.0524504\n",
      "odds                                                                 19.0656\n",
      "win_ratio                                                           0.111111\n",
      "mean_place                                                           4.42857\n",
      "jockey_win_rate                                                          NaN\n",
      "jockey_mean_place                                                        NaN\n",
      "trainer_win_rate                                                    0.168611\n",
      "trainer_mean_place                                                    4.2895\n"
     ]
    }
   ],
   "source": [
    "\n",
    "with pd.option_context('display.max_rows', None, 'display.max_columns', None):  # more options can be specified also\n",
    "    print(race_horse_df[race_horse_df['handicapValeur'].notna()].sample(1).T)"
   ]
  },
  {
   "cell_type": "code",
   "execution_count": 101,
   "metadata": {},
   "outputs": [
    {
     "data": {
      "text/plain": [
       "dict_keys(['cached', 'arriveeDefinitive', 'departImminent', 'timezoneOffset', 'numReunion', 'numOrdre', 'numExterne', 'heureDepart', 'libelle', 'libelleCourt', 'montantPrix', 'parcours', 'distance', 'distanceUnit', 'corde', 'discipline', 'specialite', 'categorieParticularite', 'conditionAge', 'conditionSexe', 'nombreDeclaresPartants', 'grandPrixNationalTrot', 'numSocieteMere', 'pariMultiCourses', 'pariSpecial', 'montantTotalOffert', 'montantOffert1er', 'montantOffert2eme', 'montantOffert3eme', 'montantOffert4eme', 'montantOffert5eme', 'conditions', 'numCourseDedoublee', 'paris', 'typePiste', 'statut', 'categorieStatut', 'dureeCourse', 'participants', 'ecuries', 'penetrometre', 'rapportsDefinitifsDisponibles', 'isArriveeDefinitive', 'isDepartImminent', 'isDepartAJPlusUn', 'cagnottes', 'pronosticsExpires', 'replayDisponible', 'hippodrome', 'epcPourTousParis', 'courseTrackee', 'formuleChampLibreIndisponible', 'ordreArrivee', 'hasEParis'])"
      ]
     },
     "execution_count": 101,
     "metadata": {},
     "output_type": "execute_result"
    }
   ],
   "source": [
    "utils.load_json('./data/PMU/2018-08-20/programme.json')['programme']['reunions'][0]['courses'][0].keys()"
   ]
  },
  {
   "cell_type": "code",
   "execution_count": 114,
   "metadata": {},
   "outputs": [
    {
     "data": {
      "text/plain": [
       "10"
      ]
     },
     "execution_count": 114,
     "metadata": {},
     "output_type": "execute_result"
    }
   ],
   "source": [
    "len(utils.load_json('./data/PMU/2018-08-20/R1_C8_performance.json')['participants'][0]['coursesCourues'])"
   ]
  },
  {
   "cell_type": "code",
   "execution_count": 64,
   "metadata": {},
   "outputs": [
    {
     "data": {
      "text/plain": [
       "['age',\n",
       " 'allure',\n",
       " 'condition_sexe',\n",
       " 'course_corde',\n",
       " 'course_discipline',\n",
       " 'course_hippodrome',\n",
       " 'course_specialite',\n",
       " 'course_statut',\n",
       " 'date',\n",
       " 'deferre',\n",
       " 'driverChange',\n",
       " 'ecurie',\n",
       " 'eleveur',\n",
       " 'engagement',\n",
       " 'father_horse_id',\n",
       " 'father_horse_name',\n",
       " 'father_mother_horse_id',\n",
       " 'father_mother_horse_name',\n",
       " 'gainsAnneeEnCours',\n",
       " 'gainsAnneePrecedente',\n",
       " 'gainsCarriere',\n",
       " 'gainsPlace',\n",
       " 'gainsVictoires',\n",
       " 'handicapDistance',\n",
       " 'handicapPoids',\n",
       " 'handicapValeur',\n",
       " 'horse_id',\n",
       " 'horse_name',\n",
       " 'horse_number',\n",
       " 'horse_place',\n",
       " 'horse_sex',\n",
       " 'in_incident',\n",
       " 'incident',\n",
       " 'incident_type',\n",
       " 'indicateurInedit',\n",
       " 'jockey',\n",
       " 'jockey_mean_place',\n",
       " 'jockey_win_rate',\n",
       " 'jumentPleine',\n",
       " 'mean_place',\n",
       " 'mother_horse_id',\n",
       " 'mother_horse_name',\n",
       " 'musique',\n",
       " 'n_course',\n",
       " 'n_horses',\n",
       " 'n_placed_races',\n",
       " 'n_reunion',\n",
       " 'n_run_races',\n",
       " 'n_won_races',\n",
       " 'nombrePlacesSecond',\n",
       " 'nombrePlacesTroisieme',\n",
       " 'odds',\n",
       " 'oeilleres',\n",
       " 'owner',\n",
       " 'pari_mutuel_proba',\n",
       " 'placeCorde',\n",
       " 'poidsConditionMonte',\n",
       " 'poidsConditionMonteChange',\n",
       " 'race',\n",
       " 'race_datetime',\n",
       " 'race_id',\n",
       " 'reductionKilometrique',\n",
       " 'reunion_audience',\n",
       " 'reunion_nature',\n",
       " 'reunion_pays',\n",
       " 'statut',\n",
       " 'supplement',\n",
       " 'tauxReclamation',\n",
       " 'tempsObtenu',\n",
       " 'totalEnjeu',\n",
       " 'trainer',\n",
       " 'trainer_mean_place',\n",
       " 'trainer_win_rate',\n",
       " 'true_total_enjeu',\n",
       " 'urlCasaque',\n",
       " 'win_ratio']"
      ]
     },
     "execution_count": 64,
     "metadata": {},
     "output_type": "execute_result"
    }
   ],
   "source": [
    "sorted(race_horse_df.columns)"
   ]
  },
  {
   "cell_type": "code",
   "execution_count": 54,
   "metadata": {},
   "outputs": [
    {
     "data": {
      "text/plain": [
       "DEFERRE_ANTERIEURS_POSTERIEURS    170904\n",
       "DEFERRE_POSTERIEURS                73933\n",
       "DEFERRE_ANTERIEURS                 33394\n",
       "REFERRE_ANTERIEURS_POSTERIEURS       446\n",
       "Name: deferre, dtype: int64"
      ]
     },
     "execution_count": 54,
     "metadata": {},
     "output_type": "execute_result"
    }
   ],
   "source": [
    "race_horse_df[race_horse_df['statut']=='PARTANT']['deferre'].value_counts()"
   ]
  },
  {
   "cell_type": "code",
   "execution_count": 58,
   "metadata": {},
   "outputs": [
    {
     "data": {
      "text/plain": [
       "1415119                               NaN\n",
       "1155945                               NaN\n",
       "140478                                NaN\n",
       "1011206                               NaN\n",
       "301207                                NaN\n",
       "1093830    DEFERRE_ANTERIEURS_POSTERIEURS\n",
       "1082228                               NaN\n",
       "642203                                NaN\n",
       "399080                                NaN\n",
       "1192854                               NaN\n",
       "Name: deferre, dtype: object"
      ]
     },
     "execution_count": 58,
     "metadata": {},
     "output_type": "execute_result"
    }
   ],
   "source": [
    "race_horse_df[race_horse_df['statut']=='PARTANT']['deferre'].sample(10)"
   ]
  },
  {
   "cell_type": "code",
   "execution_count": 57,
   "metadata": {},
   "outputs": [
    {
     "data": {
      "text/html": [
       "<div>\n",
       "<style scoped>\n",
       "    .dataframe tbody tr th:only-of-type {\n",
       "        vertical-align: middle;\n",
       "    }\n",
       "\n",
       "    .dataframe tbody tr th {\n",
       "        vertical-align: top;\n",
       "    }\n",
       "\n",
       "    .dataframe thead th {\n",
       "        text-align: right;\n",
       "    }\n",
       "</style>\n",
       "<table border=\"1\" class=\"dataframe\">\n",
       "  <thead>\n",
       "    <tr style=\"text-align: right;\">\n",
       "      <th></th>\n",
       "      <th>date</th>\n",
       "      <th>n_reunion</th>\n",
       "      <th>n_course</th>\n",
       "      <th>horse_number</th>\n",
       "    </tr>\n",
       "  </thead>\n",
       "  <tbody>\n",
       "    <tr>\n",
       "      <th>1441661</th>\n",
       "      <td>2020-03-24</td>\n",
       "      <td>1</td>\n",
       "      <td>7</td>\n",
       "      <td>3</td>\n",
       "    </tr>\n",
       "  </tbody>\n",
       "</table>\n",
       "</div>"
      ],
      "text/plain": [
       "               date  n_reunion  n_course  horse_number\n",
       "1441661  2020-03-24          1         7             3"
      ]
     },
     "execution_count": 57,
     "metadata": {},
     "output_type": "execute_result"
    }
   ],
   "source": [
    "race_horse_df[race_horse_df['deferre']==\"REFERRE_ANTERIEURS_POSTERIEURS\"].sample(1)[[\"date\", \"n_reunion\", \"n_course\", \"horse_number\"]]"
   ]
  },
  {
   "cell_type": "code",
   "execution_count": 67,
   "metadata": {},
   "outputs": [],
   "source": [
    "import utils\n",
    "programme_json=utils.load_json('data/PMU/2020-03-05/programme.json')['programme']"
   ]
  },
  {
   "cell_type": "code",
   "execution_count": 94,
   "metadata": {},
   "outputs": [
    {
     "data": {
      "text/plain": [
       "{'arriveeDefinitive': True,\n",
       " 'cached': False,\n",
       " 'cagnottes': [],\n",
       " 'categorieParticularite': 'INCONNU',\n",
       " 'categorieStatut': 'ARRIVEE',\n",
       " 'conditionSexe': 'FEMELLES',\n",
       " 'conditions': \"PRIX DE BIEVILLE Course  8 Course D 32.000. - Attelé, femelles. - 2.450 mètres. 14.400, 8.000, 4.480, 2.560, 1.600, 640, 320. Pour juments de 4 et 5 ans, n'ayant pas gagné 75.000.\",\n",
       " 'corde': 'CORDE_DROITE',\n",
       " 'courseTrackee': False,\n",
       " 'departImminent': False,\n",
       " 'discipline': 'ATTELE',\n",
       " 'distance': 2450,\n",
       " 'distanceUnit': 'METRE',\n",
       " 'dureeCourse': 178120,\n",
       " 'ecuries': [],\n",
       " 'epcPourTousParis': True,\n",
       " 'formuleChampLibreIndisponible': False,\n",
       " 'grandPrixNationalTrot': False,\n",
       " 'hasEParis': True,\n",
       " 'heureDepart': 1583412600000,\n",
       " 'hippodrome': {'codeHippodrome': 'CAE',\n",
       "  'libelleCourt': 'CAEN',\n",
       "  'libelleLong': 'HIPPODROME DE CAEN'},\n",
       " 'incidents': [{'numeroParticipants': [3, 5, 13],\n",
       "   'type': 'DISQUALIFIE_POUR_ALLURE_IRREGULIERE'}],\n",
       " 'isArriveeDefinitive': True,\n",
       " 'isDepartAJPlusUn': False,\n",
       " 'isDepartImminent': False,\n",
       " 'libelle': 'PRIX DE BIEVILLE',\n",
       " 'libelleCourt': 'DE BIEVILLE',\n",
       " 'montantOffert1er': 14400,\n",
       " 'montantOffert2eme': 8000,\n",
       " 'montantOffert3eme': 4480,\n",
       " 'montantOffert4eme': 2560,\n",
       " 'montantOffert5eme': 1600,\n",
       " 'montantPrix': 32000,\n",
       " 'montantTotalOffert': 32000,\n",
       " 'nombreDeclaresPartants': 16,\n",
       " 'numCourseDedoublee': 0,\n",
       " 'numExterne': 1,\n",
       " 'numOrdre': 1,\n",
       " 'numReunion': 1,\n",
       " 'numSocieteMere': 140008,\n",
       " 'ordreArrivee': [[10],\n",
       "  [8],\n",
       "  [6],\n",
       "  [2],\n",
       "  [12],\n",
       "  [16],\n",
       "  [11],\n",
       "  [14],\n",
       "  [4],\n",
       "  [15],\n",
       "  [7],\n",
       "  [9],\n",
       "  [1]],\n",
       " 'parcours': '',\n",
       " 'pariMultiCourses': False,\n",
       " 'pariSpecial': False,\n",
       " 'paris': [{'audience': 'NATIONAL',\n",
       "   'codePari': 'SIMPLE_GAGNANT',\n",
       "   'combine': False,\n",
       "   'complement': False,\n",
       "   'enVente': False,\n",
       "   'infosJackpot': {'miseBase': 200, 'tauxContribution': 25},\n",
       "   'miseBase': 150,\n",
       "   'nbChevauxReglementaire': 1,\n",
       "   'ordre': False,\n",
       "   'reportable': True,\n",
       "   'spotAutorise': False,\n",
       "   'typePari': 'SIMPLE_GAGNANT'},\n",
       "  {'audience': 'NATIONAL',\n",
       "   'codePari': 'E_SIMPLE_GAGNANT',\n",
       "   'combine': False,\n",
       "   'complement': False,\n",
       "   'enVente': False,\n",
       "   'infosJackpot': {'miseBase': 200, 'tauxContribution': 25},\n",
       "   'miseBase': 150,\n",
       "   'nbChevauxReglementaire': 1,\n",
       "   'ordre': False,\n",
       "   'reportable': True,\n",
       "   'spotAutorise': False,\n",
       "   'typePari': 'E_SIMPLE_GAGNANT'},\n",
       "  {'audience': 'NATIONAL',\n",
       "   'codePari': 'SIMPLE_PLACE',\n",
       "   'combine': False,\n",
       "   'complement': False,\n",
       "   'enVente': False,\n",
       "   'infosJackpot': {'miseBase': 200, 'tauxContribution': 25},\n",
       "   'miseBase': 150,\n",
       "   'nbChevauxReglementaire': 1,\n",
       "   'ordre': False,\n",
       "   'reportable': True,\n",
       "   'spotAutorise': False,\n",
       "   'typePari': 'SIMPLE_PLACE'},\n",
       "  {'audience': 'NATIONAL',\n",
       "   'codePari': 'E_SIMPLE_PLACE',\n",
       "   'combine': False,\n",
       "   'complement': False,\n",
       "   'enVente': False,\n",
       "   'infosJackpot': {'miseBase': 200, 'tauxContribution': 25},\n",
       "   'miseBase': 150,\n",
       "   'nbChevauxReglementaire': 1,\n",
       "   'ordre': False,\n",
       "   'reportable': True,\n",
       "   'spotAutorise': False,\n",
       "   'typePari': 'E_SIMPLE_PLACE'},\n",
       "  {'codePari': 'REPORT_PLUS',\n",
       "   'combine': False,\n",
       "   'complement': False,\n",
       "   'enVente': False,\n",
       "   'nbChevauxReglementaire': 1,\n",
       "   'ordre': False,\n",
       "   'reportable': False,\n",
       "   'spotAutorise': False,\n",
       "   'typePari': 'REPORT_PLUS'},\n",
       "  {'codePari': 'E_REPORT_PLUS',\n",
       "   'combine': False,\n",
       "   'complement': False,\n",
       "   'enVente': False,\n",
       "   'nbChevauxReglementaire': 1,\n",
       "   'ordre': False,\n",
       "   'reportable': False,\n",
       "   'spotAutorise': False,\n",
       "   'typePari': 'E_REPORT_PLUS'},\n",
       "  {'audience': 'NATIONAL',\n",
       "   'codePari': 'COUPLE_GAGNANT',\n",
       "   'combine': True,\n",
       "   'complement': True,\n",
       "   'enVente': False,\n",
       "   'miseBase': 150,\n",
       "   'nbChevauxReglementaire': 2,\n",
       "   'ordre': False,\n",
       "   'reportable': True,\n",
       "   'spotAutorise': True,\n",
       "   'typePari': 'COUPLE_GAGNANT',\n",
       "   'valeursFlexiAutorisees': [50]},\n",
       "  {'audience': 'NATIONAL',\n",
       "   'codePari': 'E_COUPLE_GAGNANT',\n",
       "   'combine': True,\n",
       "   'complement': True,\n",
       "   'enVente': False,\n",
       "   'miseBase': 150,\n",
       "   'nbChevauxReglementaire': 2,\n",
       "   'ordre': False,\n",
       "   'reportable': True,\n",
       "   'spotAutorise': True,\n",
       "   'typePari': 'E_COUPLE_GAGNANT',\n",
       "   'valeursFlexiAutorisees': [50]},\n",
       "  {'audience': 'NATIONAL',\n",
       "   'codePari': 'COUPLE_PLACE',\n",
       "   'combine': True,\n",
       "   'complement': True,\n",
       "   'enVente': False,\n",
       "   'miseBase': 150,\n",
       "   'nbChevauxReglementaire': 2,\n",
       "   'ordre': False,\n",
       "   'reportable': True,\n",
       "   'spotAutorise': True,\n",
       "   'typePari': 'COUPLE_PLACE',\n",
       "   'valeursFlexiAutorisees': [50]},\n",
       "  {'audience': 'NATIONAL',\n",
       "   'codePari': 'E_COUPLE_PLACE',\n",
       "   'combine': True,\n",
       "   'complement': True,\n",
       "   'enVente': False,\n",
       "   'miseBase': 150,\n",
       "   'nbChevauxReglementaire': 2,\n",
       "   'ordre': False,\n",
       "   'reportable': True,\n",
       "   'spotAutorise': True,\n",
       "   'typePari': 'E_COUPLE_PLACE',\n",
       "   'valeursFlexiAutorisees': [50]},\n",
       "  {'audience': 'NATIONAL',\n",
       "   'codePari': 'DEUX_SUR_QUATRE',\n",
       "   'combine': True,\n",
       "   'complement': True,\n",
       "   'enVente': False,\n",
       "   'infosJackpot': {'miseBase': 400, 'tauxContribution': 25},\n",
       "   'miseBase': 300,\n",
       "   'nbChevauxReglementaire': 2,\n",
       "   'ordre': False,\n",
       "   'reportable': True,\n",
       "   'spotAutorise': True,\n",
       "   'typePari': 'DEUX_SUR_QUATRE',\n",
       "   'valeursFlexiAutorisees': [25, 50]},\n",
       "  {'audience': 'NATIONAL',\n",
       "   'codePari': 'E_DEUX_SUR_QUATRE',\n",
       "   'combine': True,\n",
       "   'complement': True,\n",
       "   'enVente': False,\n",
       "   'infosJackpot': {'miseBase': 400, 'tauxContribution': 25},\n",
       "   'miseBase': 300,\n",
       "   'nbChevauxReglementaire': 2,\n",
       "   'ordre': False,\n",
       "   'reportable': True,\n",
       "   'spotAutorise': True,\n",
       "   'typePari': 'E_DEUX_SUR_QUATRE',\n",
       "   'valeursFlexiAutorisees': [25, 50]},\n",
       "  {'audience': 'NATIONAL',\n",
       "   'codePari': 'MULTI',\n",
       "   'combine': True,\n",
       "   'complement': False,\n",
       "   'enVente': False,\n",
       "   'miseBase': 300,\n",
       "   'nbChevauxReglementaire': 4,\n",
       "   'ordre': False,\n",
       "   'reportable': False,\n",
       "   'spotAutorise': True,\n",
       "   'typePari': 'MULTI',\n",
       "   'valeursFlexiAutorisees': [25, 50],\n",
       "   'valeursRisqueAutorisees': [4, 5, 6, 7]},\n",
       "  {'audience': 'NATIONAL',\n",
       "   'codePari': 'E_MULTI',\n",
       "   'combine': True,\n",
       "   'complement': False,\n",
       "   'enVente': False,\n",
       "   'miseBase': 300,\n",
       "   'nbChevauxReglementaire': 4,\n",
       "   'ordre': False,\n",
       "   'reportable': False,\n",
       "   'spotAutorise': True,\n",
       "   'typePari': 'E_MULTI',\n",
       "   'valeursFlexiAutorisees': [25, 50],\n",
       "   'valeursRisqueAutorisees': [4, 5, 6, 7]},\n",
       "  {'audience': 'NATIONAL',\n",
       "   'codePari': 'TIERCE',\n",
       "   'combine': True,\n",
       "   'complement': True,\n",
       "   'enVente': False,\n",
       "   'miseBase': 100,\n",
       "   'nbChevauxReglementaire': 3,\n",
       "   'ordre': True,\n",
       "   'reportable': False,\n",
       "   'spotAutorise': True,\n",
       "   'typePari': 'TIERCE',\n",
       "   'valeursFlexiAutorisees': [50]},\n",
       "  {'audience': 'NATIONAL',\n",
       "   'codePari': 'E_TIERCE',\n",
       "   'combine': True,\n",
       "   'complement': True,\n",
       "   'enVente': False,\n",
       "   'miseBase': 100,\n",
       "   'nbChevauxReglementaire': 3,\n",
       "   'ordre': True,\n",
       "   'reportable': False,\n",
       "   'spotAutorise': True,\n",
       "   'typePari': 'E_TIERCE',\n",
       "   'valeursFlexiAutorisees': [50]},\n",
       "  {'audience': 'NATIONAL',\n",
       "   'codePari': 'QUARTE_PLUS',\n",
       "   'combine': True,\n",
       "   'complement': True,\n",
       "   'enVente': False,\n",
       "   'miseBase': 130,\n",
       "   'nbChevauxReglementaire': 4,\n",
       "   'ordre': True,\n",
       "   'reportable': False,\n",
       "   'spotAutorise': True,\n",
       "   'typePari': 'QUARTE_PLUS',\n",
       "   'valeursFlexiAutorisees': [50]},\n",
       "  {'audience': 'NATIONAL',\n",
       "   'codePari': 'E_QUARTE_PLUS',\n",
       "   'combine': True,\n",
       "   'complement': True,\n",
       "   'enVente': False,\n",
       "   'miseBase': 130,\n",
       "   'nbChevauxReglementaire': 4,\n",
       "   'ordre': True,\n",
       "   'reportable': False,\n",
       "   'spotAutorise': True,\n",
       "   'typePari': 'E_QUARTE_PLUS',\n",
       "   'valeursFlexiAutorisees': [50]},\n",
       "  {'audience': 'NATIONAL',\n",
       "   'codePari': 'QUINTE_PLUS',\n",
       "   'combine': True,\n",
       "   'complement': True,\n",
       "   'enVente': False,\n",
       "   'miseBase': 200,\n",
       "   'nbChevauxReglementaire': 5,\n",
       "   'nouveauQuinte': True,\n",
       "   'ordre': True,\n",
       "   'reportable': False,\n",
       "   'spotAutorise': True,\n",
       "   'typePari': 'QUINTE_PLUS',\n",
       "   'valeursFlexiAutorisees': [25, 50]},\n",
       "  {'audience': 'NATIONAL',\n",
       "   'codePari': 'E_QUINTE_PLUS',\n",
       "   'combine': True,\n",
       "   'complement': True,\n",
       "   'enVente': False,\n",
       "   'miseBase': 200,\n",
       "   'nbChevauxReglementaire': 5,\n",
       "   'nouveauQuinte': True,\n",
       "   'ordre': True,\n",
       "   'reportable': False,\n",
       "   'spotAutorise': True,\n",
       "   'typePari': 'E_QUINTE_PLUS',\n",
       "   'valeursFlexiAutorisees': [25, 50]},\n",
       "  {'audience': 'NATIONAL',\n",
       "   'codePari': 'TIC_TROIS',\n",
       "   'combine': False,\n",
       "   'complement': False,\n",
       "   'enVente': False,\n",
       "   'miseBase': 430,\n",
       "   'nbChevauxReglementaire': 5,\n",
       "   'ordre': True,\n",
       "   'reportable': False,\n",
       "   'spotAutorise': False,\n",
       "   'typePari': 'TIC_TROIS'},\n",
       "  {'audience': 'NATIONAL',\n",
       "   'codePari': 'E_TIC_TROIS',\n",
       "   'combine': False,\n",
       "   'complement': False,\n",
       "   'enVente': False,\n",
       "   'miseBase': 430,\n",
       "   'nbChevauxReglementaire': 5,\n",
       "   'ordre': True,\n",
       "   'reportable': False,\n",
       "   'spotAutorise': False,\n",
       "   'typePari': 'E_TIC_TROIS'}],\n",
       " 'participants': [],\n",
       " 'pronosticsExpires': True,\n",
       " 'rapportsDefinitifsDisponibles': True,\n",
       " 'replayDisponible': True,\n",
       " 'specialite': 'TROT_ATTELE',\n",
       " 'statut': 'FIN_COURSE',\n",
       " 'timezoneOffset': 3600000}"
      ]
     },
     "execution_count": 94,
     "metadata": {},
     "output_type": "execute_result"
    }
   ],
   "source": [
    "programme_json['reunions'][0]['courses'][0]"
   ]
  },
  {
   "cell_type": "code",
   "execution_count": 80,
   "metadata": {},
   "outputs": [],
   "source": [
    "participants_json=utils.load_json('data/PMU/2020-03-05/R1_C1_participants.json')['participants']"
   ]
  },
  {
   "cell_type": "code",
   "execution_count": 82,
   "metadata": {
    "scrolled": true
   },
   "outputs": [
    {
     "data": {
      "text/plain": [
       "{'age': 4,\n",
       " 'allure': 'TROT',\n",
       " 'dernierRapportDirect': {'dateRapport': 1583412683000,\n",
       "  'favoris': False,\n",
       "  'grossePrise': False,\n",
       "  'indicateurTendance': ' ',\n",
       "  'nombreIndicateurTendance': 0.0,\n",
       "  'numPmu1': 1,\n",
       "  'permutation': 1,\n",
       "  'rapport': 68.0,\n",
       "  'typePari': 'SIMPLE_GAGNANT',\n",
       "  'typeRapport': 'DIRECT'},\n",
       " 'dernierRapportReference': {'dateRapport': 1583410805000,\n",
       "  'favoris': False,\n",
       "  'grossePrise': False,\n",
       "  'indicateurTendance': '-',\n",
       "  'nombreIndicateurTendance': -0.85,\n",
       "  'numPmu1': 1,\n",
       "  'permutation': 1,\n",
       "  'rapport': 46.0,\n",
       "  'typePari': 'SIMPLE_GAGNANT',\n",
       "  'typeRapport': 'REFERENCE'},\n",
       " 'driver': 'CH. THIERRY',\n",
       " 'driverChange': False,\n",
       " 'eleveur': 'Ecurie de BLARY',\n",
       " 'engagement': False,\n",
       " 'entraineur': 'S. GUARATO',\n",
       " 'gainsParticipant': {'gainsAnneeEnCours': 0,\n",
       "  'gainsAnneePrecedente': 3515000,\n",
       "  'gainsCarriere': 5007000,\n",
       "  'gainsPlace': 4422000,\n",
       "  'gainsVictoires': 585000},\n",
       " 'handicapDistance': 2450,\n",
       " 'indicateurInedit': False,\n",
       " 'jumentPleine': False,\n",
       " 'musique': '(19)8aDa7a3a4a2a2a3a',\n",
       " 'nom': 'GONDOLE DE BLARY',\n",
       " 'nomMere': 'Ines de blary',\n",
       " 'nomPere': 'Sam bourbon',\n",
       " 'nombreCourses': 14,\n",
       " 'nombrePlaces': 10,\n",
       " 'nombrePlacesSecond': 3,\n",
       " 'nombrePlacesTroisieme': 2,\n",
       " 'nombreVictoires': 1,\n",
       " 'numPmu': 1,\n",
       " 'oeilleres': 'SANS_OEILLERES',\n",
       " 'ordreArrivee': 13,\n",
       " 'poidsConditionMonteChange': False,\n",
       " 'proprietaire': 'Ecurie Sébastien GUARATO',\n",
       " 'race': 'TROTTEUR FRANCAIS',\n",
       " 'reductionKilometrique': 74500,\n",
       " 'robe': {'code': '020', 'libelleCourt': 'BAI', 'libelleLong': 'BAI'},\n",
       " 'sexe': 'FEMELLES',\n",
       " 'statut': 'PARTANT',\n",
       " 'supplement': 0,\n",
       " 'tempsObtenu': 182450,\n",
       " 'urlCasaque': 'https://turfinfo.pmucdn.fr/casaques/05032020/R1/C1/P1.png'}"
      ]
     },
     "execution_count": 82,
     "metadata": {},
     "output_type": "execute_result"
    }
   ],
   "source": [
    "participants_json[0]"
   ]
  },
  {
   "cell_type": "code",
   "execution_count": 116,
   "metadata": {},
   "outputs": [],
   "source": [
    "performance_json=utils.load_json('data/PMU/2020-03-05/R1_C1_performance.json')"
   ]
  },
  {
   "cell_type": "code",
   "execution_count": 119,
   "metadata": {},
   "outputs": [
    {
     "data": {
      "text/plain": [
       "dict_keys(['numPmu', 'nomCheval', 'coursesCourues'])"
      ]
     },
     "execution_count": 119,
     "metadata": {},
     "output_type": "execute_result"
    }
   ],
   "source": [
    "performance_json['participants'][0].keys()"
   ]
  },
  {
   "cell_type": "code",
   "execution_count": null,
   "metadata": {
    "scrolled": true
   },
   "outputs": [],
   "source": [
    "\n",
    "\n",
    "from constants import PMU_DATA_DIR\n",
    "import os\n",
    "import json\n",
    "import utils\n",
    "import re\n",
    "from tqdm import tqdm\n",
    "import datetime as dt\n",
    "from typing import Optional\n",
    "\n",
    "def get_penetrometer_value(course: dict) -> Optional[float]:\n",
    "    if \"penetrometre\" not in course:\n",
    "        return None\n",
    "    if \"valeurMesure\" not in course[\"penetrometre\"]:\n",
    "        return None\n",
    "    penetrometer_value: str = course[\"penetrometre\"][\"valeurMesure\"]\n",
    "    penetrometer_value = penetrometer_value.replace(\",\", \".\")\n",
    "    return float(penetrometer_value)\n",
    "\n",
    "stop=False\n",
    "\n",
    "for date in tqdm(\n",
    "    iterable=os.listdir(PMU_DATA_DIR), desc=\"Loading races per date\", unit=\"day\"\n",
    "):\n",
    "    if date == \".ipynb_checkpoints\":\n",
    "        continue\n",
    "\n",
    "    assert re.match(r\"\\d{4}-\\d{2}-\\d{2}\", date)\n",
    "\n",
    "    folder_path = os.path.join(PMU_DATA_DIR, date)\n",
    "\n",
    "    programme_json = utils.load_json(\n",
    "        filename=os.path.join(folder_path, \"programme.json\")\n",
    "    )\n",
    "\n",
    "    if (\n",
    "        programme_json is None\n",
    "        or \"programme\" not in programme_json\n",
    "        or \"reunions\" not in programme_json[\"programme\"]\n",
    "    ):\n",
    "        continue\n",
    "\n",
    "    for reunion in programme_json[\"programme\"][\"reunions\"]:\n",
    "        for course in reunion[\"courses\"]:\n",
    "            if course[\"statut\"] in [\n",
    "                \"COURSE_ANNULEE\",\n",
    "                \"PROGRAMMEE\",\n",
    "                \"ARRIVEE_PROVISOIRE\",\n",
    "                \"COURSE_ANNULEE\",\n",
    "                \"DEPART_CONFIRME\",\n",
    "                \"DEPART_DANS_TROIS_MINUTES\",\n",
    "            ]:\n",
    "                continue\n",
    "            assert course[\"statut\"] in [\n",
    "                \"FIN_COURSE\",\n",
    "                \"ARRIVEE_DEFINITIVE\",\n",
    "                \"ARRIVEE_DEFINITIVE_COMPLETE\",\n",
    "                \"COURSE_ARRETEE\",\n",
    "            ], course[\"statut\"]\n",
    "            r_i = course[\"numReunion\"]\n",
    "            c_i = course[\"numOrdre\"]\n",
    "            \n",
    "            penetrometer_value = get_penetrometer_value(course)\n",
    "            if penetrometer_value:\n",
    "                print(penetrometer_value)"
   ]
  },
  {
   "cell_type": "code",
   "execution_count": 41,
   "metadata": {},
   "outputs": [],
   "source": [
    "penetrometer_value"
   ]
  },
  {
   "cell_type": "code",
   "execution_count": 5,
   "metadata": {
    "scrolled": true
   },
   "outputs": [
    {
     "name": "stderr",
     "output_type": "stream",
     "text": [
      "Loading races per date:   9%|██████████████▌                                                                                                                                                       | 233/2654 [00:22<03:58, 10.14day/s]"
     ]
    }
   ],
   "source": [
    "from constants import PMU_DATA_DIR\n",
    "import os\n",
    "import json\n",
    "import utils\n",
    "import re\n",
    "from tqdm import tqdm\n",
    "import datetime as dt\n",
    "\n",
    "stop=False\n",
    "\n",
    "for date in tqdm(\n",
    "    iterable=os.listdir(PMU_DATA_DIR), desc=\"Loading races per date\", unit=\"day\"\n",
    "):\n",
    "    if date == \".ipynb_checkpoints\":\n",
    "        continue\n",
    "\n",
    "    assert re.match(r\"\\d{4}-\\d{2}-\\d{2}\", date)\n",
    "\n",
    "    folder_path = os.path.join(PMU_DATA_DIR, date)\n",
    "\n",
    "    programme_json = utils.load_json(\n",
    "        filename=os.path.join(folder_path, \"programme.json\")\n",
    "    )\n",
    "\n",
    "    if (\n",
    "        programme_json is None\n",
    "        or \"programme\" not in programme_json\n",
    "        or \"reunions\" not in programme_json[\"programme\"]\n",
    "    ):\n",
    "        continue\n",
    "\n",
    "    for reunion in programme_json[\"programme\"][\"reunions\"]:\n",
    "        for course in reunion[\"courses\"]:\n",
    "            if course[\"statut\"] in [\n",
    "                \"COURSE_ANNULEE\",\n",
    "                \"PROGRAMMEE\",\n",
    "                \"ARRIVEE_PROVISOIRE\",\n",
    "                \"COURSE_ANNULEE\",\n",
    "                \"DEPART_CONFIRME\",\n",
    "                \"DEPART_DANS_TROIS_MINUTES\",\n",
    "            ]:\n",
    "                continue\n",
    "            assert course[\"statut\"] in [\n",
    "                \"FIN_COURSE\",\n",
    "                \"ARRIVEE_DEFINITIVE\",\n",
    "                \"ARRIVEE_DEFINITIVE_COMPLETE\",\n",
    "                \"COURSE_ARRETEE\",\n",
    "            ], course[\"statut\"]\n",
    "            r_i = course[\"numReunion\"]\n",
    "            c_i = course[\"numOrdre\"]\n",
    "            \n",
    "            performance_json = utils.load_json(filename=os.path.join(folder_path, f\"R{r_i}_C{c_i}_performance.json\"))\n",
    "            participants_ = utils.load_json(\n",
    "                filename=os.path.join(\n",
    "                    folder_path, f\"R{r_i}_C{c_i}_participants.json\"\n",
    "                )\n",
    "            )\n",
    "            if participants_ is None or \"participants\" not in participants_:\n",
    "                continue\n",
    "            participants_ = participants_[\"participants\"]\n",
    "            participants = [\n",
    "                {k: v for k, v in part.items() if not isinstance(v, dict)}\n",
    "                for part in participants_\n",
    "            ]\n",
    "            last_race_date = get_last_race_date(performance_json=performance_json, participants=participants)\n",
    "            if last_race_date is not None:\n",
    "                stop = True\n",
    "            \n",
    "            if stop:\n",
    "                break\n",
    "        \n",
    "        if stop:\n",
    "            break\n",
    "    if stop:\n",
    "        break"
   ]
  },
  {
   "cell_type": "code",
   "execution_count": 6,
   "metadata": {},
   "outputs": [
    {
     "data": {
      "text/plain": [
       "{1: datetime.date(2013, 8, 30),\n",
       " 3: datetime.date(2013, 10, 6),\n",
       " 4: datetime.date(2013, 9, 26),\n",
       " 5: datetime.date(2013, 9, 20)}"
      ]
     },
     "execution_count": 6,
     "metadata": {},
     "output_type": "execute_result"
    }
   ],
   "source": [
    "last_race_date"
   ]
  },
  {
   "cell_type": "code",
   "execution_count": 2,
   "metadata": {},
   "outputs": [],
   "source": [
    "def get_num_from_name(horse_name, participants):\n",
    "    horse_ = [part for part in participants if part['nom']==horse_name]\n",
    "    if len(horse_)!=1:\n",
    "        return None\n",
    "    horse=horse_[0]\n",
    "    if 'numPmu' not in horse:\n",
    "        return None\n",
    "    return horse['numPmu']"
   ]
  },
  {
   "cell_type": "code",
   "execution_count": 3,
   "metadata": {},
   "outputs": [],
   "source": [
    "def get_last_race_date(performance_json, participants=None):\n",
    "\n",
    "    if 'participants' not in performance_json:\n",
    "        return None\n",
    "            \n",
    "    res={}\n",
    "    for perf in performance_json['participants']:\n",
    "        if 'coursesCourues' not in perf:\n",
    "            continue\n",
    "        if 'numPmu' not in perf:\n",
    "            if 'nomCheval' not in perf:\n",
    "                continue\n",
    "            num_pmu = get_num_from_name(horse_name=perf['nomCheval'], participants=participants)\n",
    "\n",
    "        else:\n",
    "            num_pmu = perf['numPmu']\n",
    "        if num_pmu is None:\n",
    "             continue\n",
    "            \n",
    "        if not perf['coursesCourues']:\n",
    "            continue\n",
    "        dates = [course['date'] for course in perf['coursesCourues'] if 'date' in course]\n",
    "        if not dates:\n",
    "            continue\n",
    "        max_date =max(dates)\n",
    "        \n",
    "        res[num_pmu]=dt.date.fromtimestamp(max_date/1000)\n",
    "    if not res:\n",
    "        return None\n",
    "    return res\n",
    "    "
   ]
  },
  {
   "cell_type": "code",
   "execution_count": null,
   "metadata": {},
   "outputs": [],
   "source": []
  },
  {
   "cell_type": "code",
   "execution_count": 29,
   "metadata": {
    "scrolled": true
   },
   "outputs": [
    {
     "data": {
      "text/plain": [
       "[{'date': 1377813600000,\n",
       "  'discipline': 'PLAT',\n",
       "  'distance': 1200,\n",
       "  'hippodrome': 'FONTAINEBLEAU',\n",
       "  'nbParticipants': 10,\n",
       "  'nomPrix': 'HERICY S/SEINE',\n",
       "  'participants': [{'corde': 10,\n",
       "    'itsHim': True,\n",
       "    'nomCheval': 'KIRAM',\n",
       "    'nomJockey': 'CP.LEMAIRE',\n",
       "    'numPmu': 1,\n",
       "    'oeillere': 'SANS_OEILLERES',\n",
       "    'place': {'place': 1, 'statusArrivee': 'PLACE'},\n",
       "    'poidsJockey': 58.0},\n",
       "   {'corde': 3,\n",
       "    'distanceAvecPrecedent': {'knownValue': 'ENCOLURE'},\n",
       "    'itsHim': False,\n",
       "    'nomCheval': 'OROMO',\n",
       "    'nomJockey': 'C.SOUMILLON',\n",
       "    'numPmu': 2,\n",
       "    'oeillere': 'SANS_OEILLERES',\n",
       "    'place': {'place': 2, 'statusArrivee': 'PLACE'},\n",
       "    'poidsJockey': 58.0},\n",
       "   {'corde': 7,\n",
       "    'distanceAvecPrecedent': {'knownValue': 'TROIS_LONGUEURS'},\n",
       "    'itsHim': False,\n",
       "    'nomCheval': \"SIXTINE'S LUCKY\",\n",
       "    'nomJockey': 'M.GUYON',\n",
       "    'numPmu': 4,\n",
       "    'oeillere': 'SANS_OEILLERES',\n",
       "    'place': {'place': 3, 'statusArrivee': 'PLACE'},\n",
       "    'poidsJockey': 56.5},\n",
       "   {'corde': 8,\n",
       "    'distanceAvecPrecedent': {'knownValue': 'TROIS_LONGUEURS'},\n",
       "    'itsHim': False,\n",
       "    'nomCheval': 'AHOUVA',\n",
       "    'nomJockey': 'A.CRASTUS',\n",
       "    'numPmu': 8,\n",
       "    'oeillere': 'OEILLERES_AUSTRALIENNES',\n",
       "    'place': {'place': 3, 'statusArrivee': 'PLACE'},\n",
       "    'poidsJockey': 56.5},\n",
       "   {'corde': 1,\n",
       "    'distanceAvecPrecedent': {'knownValue': 'ENCOLURE'},\n",
       "    'itsHim': False,\n",
       "    'nomCheval': 'YUKI',\n",
       "    'nomJockey': 'PC.BOUDOT',\n",
       "    'numPmu': 5,\n",
       "    'oeillere': 'SANS_OEILLERES',\n",
       "    'place': {'place': 5, 'statusArrivee': 'PLACE'},\n",
       "    'poidsJockey': 56.5}],\n",
       "  'tempsDuPremier': 7020,\n",
       "  'timezoneOffset': 7200000},\n",
       " {'date': 1375308000000,\n",
       "  'discipline': 'PLAT',\n",
       "  'distance': 1200,\n",
       "  'etatTerrain': 'souple',\n",
       "  'hippodrome': 'DEAUVILLE',\n",
       "  'nbParticipants': 6,\n",
       "  'nomPrix': 'DE TANCARVILLE',\n",
       "  'participants': [{'corde': 6,\n",
       "    'itsHim': False,\n",
       "    'nomCheval': 'DECATHLETE',\n",
       "    'nomJockey': 'M.GUYON',\n",
       "    'numPmu': 3,\n",
       "    'oeillere': 'SANS_OEILLERES',\n",
       "    'place': {'place': 1, 'statusArrivee': 'PLACE'},\n",
       "    'poidsJockey': 58.0},\n",
       "   {'corde': 2,\n",
       "    'distanceAvecPrecedent': {'knownValue': 'TROIS_LONGUEURS'},\n",
       "    'itsHim': True,\n",
       "    'nomCheval': 'KIRAM',\n",
       "    'nomJockey': 'CP.LEMAIRE',\n",
       "    'numPmu': 1,\n",
       "    'oeillere': 'SANS_OEILLERES',\n",
       "    'place': {'place': 2, 'statusArrivee': 'PLACE'},\n",
       "    'poidsJockey': 58.0},\n",
       "   {'corde': 4,\n",
       "    'distanceAvecPrecedent': {'knownValue': 'CINQ_QUARTS_DE_LONGUEUR'},\n",
       "    'itsHim': False,\n",
       "    'nomCheval': 'KIFAAH',\n",
       "    'nomJockey': 'C.SOUMILLON',\n",
       "    'numPmu': 2,\n",
       "    'oeillere': 'SANS_OEILLERES',\n",
       "    'place': {'place': 3, 'statusArrivee': 'PLACE'},\n",
       "    'poidsJockey': 58.0},\n",
       "   {'corde': 3,\n",
       "    'distanceAvecPrecedent': {'knownValue': 'TROIS_LONGUEURS_ET_DEMIE'},\n",
       "    'itsHim': False,\n",
       "    'nomCheval': 'SINGAPORE SPUR',\n",
       "    'nomJockey': 'F.VERON',\n",
       "    'numPmu': 4,\n",
       "    'oeillere': 'SANS_OEILLERES',\n",
       "    'place': {'place': 4, 'statusArrivee': 'PLACE'},\n",
       "    'poidsJockey': 58.0},\n",
       "   {'corde': 5,\n",
       "    'distanceAvecPrecedent': {'knownValue': 'ENCOLURE'},\n",
       "    'itsHim': False,\n",
       "    'nomCheval': 'KALMOUK',\n",
       "    'nomJockey': 'U.RISPOLI',\n",
       "    'numPmu': 5,\n",
       "    'oeillere': 'SANS_OEILLERES',\n",
       "    'place': {'place': 5, 'statusArrivee': 'PLACE'},\n",
       "    'poidsJockey': 58.0}],\n",
       "  'tempsDuPremier': 7125,\n",
       "  'timezoneOffset': 7200000}]"
      ]
     },
     "execution_count": 29,
     "metadata": {},
     "output_type": "execute_result"
    }
   ],
   "source": [
    "performance_json['participants'][0]['coursesCourues']"
   ]
  },
  {
   "cell_type": "code",
   "execution_count": 19,
   "metadata": {},
   "outputs": [],
   "source": [
    "participants=utils.load_json(filename=os.path.join(folder_path, f\"R{r_i}_C{c_i}_participants.json\"))['participants']"
   ]
  },
  {
   "cell_type": "code",
   "execution_count": 27,
   "metadata": {},
   "outputs": [
    {
     "data": {
      "text/plain": [
       "1"
      ]
     },
     "execution_count": 27,
     "metadata": {},
     "output_type": "execute_result"
    }
   ],
   "source": [
    "get_num_from_name(horse_name=performance_json['participants'][0]['nomCheval'], participants=participants)"
   ]
  },
  {
   "cell_type": "markdown",
   "metadata": {},
   "source": [
    "# Appendix"
   ]
  },
  {
   "cell_type": "markdown",
   "metadata": {},
   "source": [
    "## Split by horse"
   ]
  },
  {
   "cell_type": "code",
   "execution_count": 105,
   "metadata": {},
   "outputs": [],
   "source": [
    "np.random.seed(42)\n",
    "selected_horse_ids=np.random.choice(a=old_featured_data.horse_id.unique(), size=int(0.001*old_featured_data.horse_id.nunique()), replace=False)"
   ]
  },
  {
   "cell_type": "code",
   "execution_count": 106,
   "metadata": {},
   "outputs": [],
   "source": [
    "selected_races =old_featured_data[old_featured_data['horse_id'].isin(selected_horse_ids)|\n",
    "                  old_featured_data['father_horse_id'].isin(selected_horse_ids)|\n",
    "                  old_featured_data['mother_horse_id'].isin(selected_horse_ids)|\n",
    "                  old_featured_data['father_mother_horse_id'].isin(selected_horse_ids)\n",
    "                 ]['race_id'].unique()"
   ]
  },
  {
   "cell_type": "code",
   "execution_count": 107,
   "metadata": {},
   "outputs": [
    {
     "data": {
      "text/plain": [
       "0.012238684107571144"
      ]
     },
     "execution_count": 107,
     "metadata": {},
     "output_type": "execute_result"
    }
   ],
   "source": [
    "len(selected_races)/old_featured_data['race_id'].nunique()"
   ]
  },
  {
   "cell_type": "markdown",
   "metadata": {},
   "source": [
    "## looking at clusters of horses"
   ]
  },
  {
   "cell_type": "code",
   "execution_count": 6,
   "metadata": {
    "scrolled": true
   },
   "outputs": [
    {
     "name": "stderr",
     "output_type": "stream",
     "text": [
      "100%|██████████████████████████████████████████████████████████████████████████████████████████████████████████████████████████████████████████████████████████████████████████████████████████| 117578/117578 [59:26<00:00, 32.96it/s]\n"
     ]
    }
   ],
   "source": [
    "clusters=[]\n",
    "for race_id in tqdm(old_featured_data['race_id'].unique(), total=old_featured_data['race_id'].nunique()):\n",
    "    race_horse_ids = frozenset(old_featured_data[old_featured_data['race_id']==race_id]['horse_id'])\n",
    "    intersected_clusters = [set_ for set_ in clusters if race_horse_ids.intersection(set_)]\n",
    "    non_intersected_clusters = [set_ for set_ in clusters if not race_horse_ids.intersection(set_)]\n",
    "    if intersected_clusters:\n",
    "        unioned_cluster=race_horse_ids.union(frozenset({horse_id for set_ in intersected_clusters for horse_id in set_}))\n",
    "        clusters = [unioned_cluster]\n",
    "        clusters.extend(non_intersected_clusters)\n",
    "    else:\n",
    "        clusters.append(race_horse_ids)"
   ]
  },
  {
   "cell_type": "code",
   "execution_count": 8,
   "metadata": {},
   "outputs": [
    {
     "name": "stdout",
     "output_type": "stream",
     "text": [
      "128 clusters\n",
      "cluster: 0 size 161905\n",
      "cluster: 1 size 32\n",
      "cluster: 2 size 20\n",
      "cluster: 3 size 15\n",
      "cluster: 4 size 27\n",
      "cluster: 5 size 14\n",
      "cluster: 6 size 23\n",
      "cluster: 7 size 18\n",
      "cluster: 8 size 20\n",
      "cluster: 9 size 13\n",
      "cluster: 10 size 10\n",
      "cluster: 11 size 16\n",
      "cluster: 12 size 20\n",
      "cluster: 13 size 12\n",
      "cluster: 14 size 43\n",
      "cluster: 15 size 16\n",
      "cluster: 16 size 19\n",
      "cluster: 17 size 4\n",
      "cluster: 18 size 10\n",
      "cluster: 19 size 9\n",
      "cluster: 20 size 6\n",
      "cluster: 21 size 8\n",
      "cluster: 22 size 11\n",
      "cluster: 23 size 5\n",
      "cluster: 24 size 11\n",
      "cluster: 25 size 8\n",
      "cluster: 26 size 5\n",
      "cluster: 27 size 7\n",
      "cluster: 28 size 7\n",
      "cluster: 29 size 13\n",
      "cluster: 30 size 10\n",
      "cluster: 31 size 11\n",
      "cluster: 32 size 15\n",
      "cluster: 33 size 14\n",
      "cluster: 34 size 7\n",
      "cluster: 35 size 8\n",
      "cluster: 36 size 6\n",
      "cluster: 37 size 21\n",
      "cluster: 38 size 9\n",
      "cluster: 39 size 14\n",
      "cluster: 40 size 12\n",
      "cluster: 41 size 15\n",
      "cluster: 42 size 8\n",
      "cluster: 43 size 11\n",
      "cluster: 44 size 8\n",
      "cluster: 45 size 6\n",
      "cluster: 46 size 11\n",
      "cluster: 47 size 16\n",
      "cluster: 48 size 11\n",
      "cluster: 49 size 12\n",
      "cluster: 50 size 8\n",
      "cluster: 51 size 10\n",
      "cluster: 52 size 7\n",
      "cluster: 53 size 7\n",
      "cluster: 54 size 9\n",
      "cluster: 55 size 13\n",
      "cluster: 56 size 14\n",
      "cluster: 57 size 14\n",
      "cluster: 58 size 10\n",
      "cluster: 59 size 8\n",
      "cluster: 60 size 12\n",
      "cluster: 61 size 8\n",
      "cluster: 62 size 6\n",
      "cluster: 63 size 6\n",
      "cluster: 64 size 9\n",
      "cluster: 65 size 13\n",
      "cluster: 66 size 11\n",
      "cluster: 67 size 10\n",
      "cluster: 68 size 6\n",
      "cluster: 69 size 6\n",
      "cluster: 70 size 7\n",
      "cluster: 71 size 6\n",
      "cluster: 72 size 10\n",
      "cluster: 73 size 14\n",
      "cluster: 74 size 18\n",
      "cluster: 75 size 9\n",
      "cluster: 76 size 6\n",
      "cluster: 77 size 6\n",
      "cluster: 78 size 6\n",
      "cluster: 79 size 7\n",
      "cluster: 80 size 6\n",
      "cluster: 81 size 6\n",
      "cluster: 82 size 15\n",
      "cluster: 83 size 6\n",
      "cluster: 84 size 5\n",
      "cluster: 85 size 10\n",
      "cluster: 86 size 9\n",
      "cluster: 87 size 3\n",
      "cluster: 88 size 8\n",
      "cluster: 89 size 9\n",
      "cluster: 90 size 11\n",
      "cluster: 91 size 10\n",
      "cluster: 92 size 8\n",
      "cluster: 93 size 10\n",
      "cluster: 94 size 8\n",
      "cluster: 95 size 10\n",
      "cluster: 96 size 12\n",
      "cluster: 97 size 6\n",
      "cluster: 98 size 8\n",
      "cluster: 99 size 19\n",
      "cluster: 100 size 14\n",
      "cluster: 101 size 12\n",
      "cluster: 102 size 6\n",
      "cluster: 103 size 9\n",
      "cluster: 104 size 10\n",
      "cluster: 105 size 10\n",
      "cluster: 106 size 8\n",
      "cluster: 107 size 11\n",
      "cluster: 108 size 8\n",
      "cluster: 109 size 8\n",
      "cluster: 110 size 14\n",
      "cluster: 111 size 10\n",
      "cluster: 112 size 13\n",
      "cluster: 113 size 14\n",
      "cluster: 114 size 11\n",
      "cluster: 115 size 10\n",
      "cluster: 116 size 8\n",
      "cluster: 117 size 6\n",
      "cluster: 118 size 12\n",
      "cluster: 119 size 11\n",
      "cluster: 120 size 10\n",
      "cluster: 121 size 9\n",
      "cluster: 122 size 12\n",
      "cluster: 123 size 12\n",
      "cluster: 124 size 12\n",
      "cluster: 125 size 12\n",
      "cluster: 126 size 6\n",
      "cluster: 127 size 8\n"
     ]
    }
   ],
   "source": [
    "print(len(clusters), \"clusters\")\n",
    "for i,set_ in enumerate(clusters):\n",
    "    print( \"cluster:\", i, \"size\", len(set_))"
   ]
  },
  {
   "cell_type": "markdown",
   "metadata": {},
   "source": [
    "## Tentative Multiprocessed Aggregate PMU data"
   ]
  },
  {
   "cell_type": "code",
   "execution_count": null,
   "metadata": {
    "scrolled": true
   },
   "outputs": [],
   "source": [
    "%%time\n",
    "\n",
    "from multiprocessing import Pool\n",
    "\n",
    "def get_race_horse_features(\n",
    "    rh_serie: pd.Series, jockey_history: pd.DataFrame, trainer_history: pd.DataFrame\n",
    "):\n",
    "    parsed_music = parse_music(music=rh_serie.musique)\n",
    "\n",
    "    win_rate = parsed_music.win_rate\n",
    "\n",
    "    if \"n_run_races\" in rh_serie and \"n_won_races\" in rh_serie:\n",
    "        win_rate = (\n",
    "            None\n",
    "            if rh_serie[\"n_run_races\"] == 0.0\n",
    "            else rh_serie[\"n_won_races\"] / rh_serie[\"n_run_races\"]\n",
    "        )\n",
    "\n",
    "    previous_jockey_races = jockey_history[\n",
    "        jockey_history.race_datetime < rh_serie.race_datetime\n",
    "    ]\n",
    "    jockey_win_rate = (previous_jockey_races.horse_place == 1).mean()\n",
    "    jockey_mean_place = previous_jockey_races.horse_place.mean()\n",
    "\n",
    "    previous_trainer_races = trainer_history[\n",
    "        trainer_history.race_datetime < rh_serie.race_datetime\n",
    "    ]\n",
    "    trainer_win_rate = (previous_trainer_races.horse_place == 1).mean()\n",
    "    trainer_mean_place = previous_trainer_races.horse_place.mean()\n",
    "\n",
    "    return {\n",
    "        \"win_ratio\": win_rate,\n",
    "        \"mean_place\": parsed_music.mean_place,\n",
    "        \"jockey_win_rate\": jockey_win_rate,\n",
    "        \"jockey_mean_place\": jockey_mean_place,\n",
    "        \"trainer_win_rate\": trainer_win_rate,\n",
    "        \"trainer_mean_place\": trainer_mean_place,\n",
    "    }\n",
    "\n",
    "@functools.lru_cache(maxsize=None)\n",
    "def get_jockey_history(jockey_name: str) -> pd.DataFrame:\n",
    "    return race_horse_df[race_horse_df[\"jockey\"] == jockey_name][\n",
    "        [\"race_datetime\", \"horse_place\"]\n",
    "    ].dropna(axis=0)\n",
    "\n",
    "@functools.lru_cache(maxsize=None)\n",
    "def get_trainer_history(trainer_name: str) -> pd.DataFrame:\n",
    "    return race_horse_df[race_horse_df[\"trainer\"] == trainer_name][\n",
    "        [\"race_datetime\", \"horse_place\"]\n",
    "    ].dropna(axis=0)\n",
    "\n",
    "def _get_feature_record(t)->dict:\n",
    "    index, rh_serie = t\n",
    "    features_dict = get_race_horse_features(\n",
    "        rh_serie=rh_serie,\n",
    "        jockey_history=get_jockey_history(jockey_name=rh_serie.jockey),\n",
    "        trainer_history=get_trainer_history(trainer_name=rh_serie.trainer),\n",
    "    )\n",
    "    features_dict.update({\"Index\": index})\n",
    "    return features_dict\n",
    "\n",
    "\"\"\"pbar = tqdm(total=len(race_horse_df), leave=False)\n",
    "\n",
    "def pbar_callback(*a):\n",
    "    pbar.update()\n",
    "\"\"\"\n",
    "with Pool() as p:\n",
    "    records = p.map(func=_get_feature_record, iterable=race_horse_df[:100].iterrows())\n",
    "\n",
    "#res = race_horse_df.join(pd.DataFrame(records).set_index(\"Index\"))\n"
   ]
  },
  {
   "cell_type": "markdown",
   "metadata": {},
   "source": [
    "### Get dick keys"
   ]
  },
  {
   "cell_type": "code",
   "execution_count": null,
   "metadata": {
    "scrolled": true
   },
   "outputs": [],
   "source": [
    "dict_keys = set()\n",
    "\n",
    "for date in tqdm(os.listdir(PMU_DATA_DIR)):\n",
    "    if date == \".ipynb_checkpoints\":\n",
    "        continue\n",
    "\n",
    "    assert re.match(r\"\\d{4}-\\d{2}-\\d{2}\", date)\n",
    "\n",
    "    folder_path = os.path.join(PMU_DATA_DIR, date)\n",
    "\n",
    "    programme_json = utils.load_json(\n",
    "        filename=os.path.join(folder_path, \"programme.json\")\n",
    "    )\n",
    "\n",
    "    if (\n",
    "        \"programme\" not in programme_json\n",
    "        or \"reunions\" not in programme_json[\"programme\"]\n",
    "    ):\n",
    "        continue\n",
    "    participants = None\n",
    "\n",
    "    for reunion in programme_json[\"programme\"][\"reunions\"]:\n",
    "        for course in reunion[\"courses\"]:\n",
    "            r_i = course[\"numReunion\"]\n",
    "            c_i = course[\"numOrdre\"]\n",
    "\n",
    "\n",
    "            participants_ = utils.load_json(\n",
    "                filename=os.path.join(\n",
    "                    folder_path, f\"R{r_i}_C{c_i}_participants.json\"\n",
    "                )\n",
    "            )\n",
    "            if \"participants\" not in participants_:\n",
    "                continue\n",
    "            dict_keys |= {k for part in participants_['participants'] for k, v in part.items()if isinstance(v, dict)}\n",
    "dict_keys"
   ]
  },
  {
   "cell_type": "code",
   "execution_count": null,
   "metadata": {},
   "outputs": [],
   "source": [
    "### Incident types"
   ]
  },
  {
   "cell_type": "code",
   "execution_count": null,
   "metadata": {
    "scrolled": true
   },
   "outputs": [],
   "source": [
    "incident_types =set()\n",
    "\n",
    "for date in tqdm(os.listdir(PMU_DATA_DIR)):\n",
    "    if date == '.ipynb_checkpoints':\n",
    "        continue\n",
    "    if date == '2013-02-20':\n",
    "        continue\n",
    "\n",
    "    assert re.match(r'\\d{4}-\\d{2}-\\d{2}', date)\n",
    "    \n",
    "    folder_path = os.path.join(PMU_DATA_DIR, date)\n",
    "        \n",
    "    programme_json = utils.load_json(filename=os.path.join(folder_path, \"programme.json\"))\n",
    "        \n",
    "    if 'programme' not in programme_json or not 'reunions' in programme_json['programme']:\n",
    "        continue\n",
    "    participants=None\n",
    "    \n",
    "    for reunion in programme_json['programme']['reunions']:\n",
    "        for course in reunion['courses']:\n",
    "            if 'incidents' in course:\n",
    "                for pari in course['incidents']:\n",
    "                    incident_types.add(pari['type'])\n",
    "\n",
    "incident_types"
   ]
  },
  {
   "cell_type": "markdown",
   "metadata": {},
   "source": [
    "### lot of values"
   ]
  },
  {
   "cell_type": "code",
   "execution_count": 48,
   "metadata": {
    "scrolled": true
   },
   "outputs": [
    {
     "name": "stderr",
     "output_type": "stream",
     "text": [
      "\n",
      "  0%|                                                                                                                                                                                                         | 0/2635 [00:00<?, ?it/s]\n",
      "  1%|█▍                                                                                                                                                                                             | 20/2635 [00:00<00:13, 192.82it/s]\n",
      "  1%|██▏                                                                                                                                                                                             | 30/2635 [00:00<00:28, 91.43it/s]\n",
      "  2%|███▌                                                                                                                                                                                           | 50/2635 [00:00<00:22, 116.16it/s]\n",
      "  3%|█████▏                                                                                                                                                                                         | 71/2635 [00:00<00:19, 133.16it/s]\n",
      "  3%|██████▌                                                                                                                                                                                        | 90/2635 [00:00<00:18, 141.31it/s]\n",
      "  4%|████████▏                                                                                                                                                                                     | 113/2635 [00:00<00:16, 152.64it/s]\n",
      "  5%|█████████▊                                                                                                                                                                                    | 136/2635 [00:00<00:15, 161.43it/s]\n",
      "  6%|███████████▍                                                                                                                                                                                  | 158/2635 [00:00<00:14, 166.81it/s]\n",
      "  7%|████████████▊                                                                                                                                                                                 | 178/2635 [00:01<00:15, 162.74it/s]\n",
      "  8%|██████████████▎                                                                                                                                                                               | 199/2635 [00:01<00:14, 166.23it/s]\n",
      "  8%|███████████████▋                                                                                                                                                                              | 218/2635 [00:01<00:14, 167.69it/s]\n",
      "  9%|█████████████████                                                                                                                                                                             | 237/2635 [00:01<00:14, 168.21it/s]\n",
      " 10%|██████████████████▌                                                                                                                                                                           | 257/2635 [00:01<00:14, 169.67it/s]\n",
      " 10%|███████████████████▉                                                                                                                                                                          | 276/2635 [00:01<00:13, 170.96it/s]\n",
      " 11%|█████████████████████▎                                                                                                                                                                        | 295/2635 [00:01<00:13, 168.56it/s]\n",
      " 12%|██████████████████████▊                                                                                                                                                                       | 316/2635 [00:01<00:13, 170.64it/s]\n",
      " 13%|████████████████████████▏                                                                                                                                                                     | 335/2635 [00:01<00:13, 170.27it/s]\n",
      " 13%|█████████████████████████▌                                                                                                                                                                    | 354/2635 [00:02<00:13, 171.00it/s]\n",
      " 14%|███████████████████████████                                                                                                                                                                   | 375/2635 [00:02<00:13, 172.66it/s]\n",
      " 15%|████████████████████████████▍                                                                                                                                                                 | 394/2635 [00:02<00:13, 171.00it/s]\n",
      " 16%|█████████████████████████████▋                                                                                                                                                                | 412/2635 [00:02<00:13, 167.28it/s]\n",
      " 16%|███████████████████████████████                                                                                                                                                               | 430/2635 [00:02<00:13, 167.47it/s]\n",
      " 17%|████████████████████████████████▏                                                                                                                                                             | 447/2635 [00:02<00:13, 167.35it/s]\n",
      " 18%|█████████████████████████████████▋                                                                                                                                                            | 467/2635 [00:02<00:12, 168.20it/s]\n",
      " 18%|███████████████████████████████████                                                                                                                                                           | 487/2635 [00:02<00:12, 169.15it/s]\n",
      " 19%|████████████████████████████████████▍                                                                                                                                                         | 506/2635 [00:02<00:12, 169.81it/s]\n",
      " 20%|█████████████████████████████████████▊                                                                                                                                                        | 525/2635 [00:03<00:12, 168.46it/s]\n",
      " 21%|███████████████████████████████████████▏                                                                                                                                                      | 544/2635 [00:03<00:12, 168.98it/s]\n",
      " 21%|████████████████████████████████████████▋                                                                                                                                                     | 564/2635 [00:03<00:12, 169.68it/s]\n",
      " 22%|█████████████████████████████████████████▉                                                                                                                                                    | 582/2635 [00:03<00:12, 169.20it/s]\n",
      " 23%|███████████████████████████████████████████▍                                                                                                                                                  | 602/2635 [00:03<00:11, 169.99it/s]\n",
      " 24%|████████████████████████████████████████████▊                                                                                                                                                 | 621/2635 [00:03<00:11, 168.61it/s]\n",
      " 24%|██████████████████████████████████████████████                                                                                                                                                | 638/2635 [00:03<00:11, 168.51it/s]\n",
      " 25%|███████████████████████████████████████████████▎                                                                                                                                              | 657/2635 [00:03<00:11, 168.81it/s]\n",
      " 26%|████████████████████████████████████████████████▉                                                                                                                                             | 678/2635 [00:03<00:11, 169.69it/s]\n",
      " 26%|██████████████████████████████████████████████████▎                                                                                                                                           | 697/2635 [00:04<00:11, 170.15it/s]\n",
      " 27%|███████████████████████████████████████████████████▋                                                                                                                                          | 717/2635 [00:04<00:11, 170.67it/s]\n",
      " 28%|█████████████████████████████████████████████████████                                                                                                                                         | 736/2635 [00:04<00:11, 170.77it/s]\n",
      " 29%|██████████████████████████████████████████████████████▍                                                                                                                                       | 755/2635 [00:04<00:11, 169.48it/s]\n",
      " 29%|███████████████████████████████████████████████████████▉                                                                                                                                      | 775/2635 [00:04<00:10, 170.01it/s]\n",
      " 30%|█████████████████████████████████████████████████████████▏                                                                                                                                    | 793/2635 [00:04<00:10, 169.33it/s]\n",
      " 31%|██████████████████████████████████████████████████████████▍                                                                                                                                   | 810/2635 [00:04<00:10, 168.62it/s]\n",
      " 31%|███████████████████████████████████████████████████████████▌                                                                                                                                  | 826/2635 [00:04<00:10, 168.24it/s]\n",
      " 32%|████████████████████████████████████████████████████████████▋                                                                                                                                 | 842/2635 [00:05<00:10, 168.02it/s]\n",
      " 33%|█████████████████████████████████████████████████████████████▉                                                                                                                                | 859/2635 [00:05<00:10, 168.00it/s]\n",
      " 33%|███████████████████████████████████████████████████████████████                                                                                                                               | 875/2635 [00:05<00:10, 165.80it/s]\n",
      " 34%|████████████████████████████████████████████████████████████████▏                                                                                                                             | 890/2635 [00:05<00:10, 165.39it/s]\n",
      " 34%|█████████████████████████████████████████████████████████████████▎                                                                                                                            | 905/2635 [00:05<00:10, 164.97it/s]\n",
      " 35%|██████████████████████████████████████████████████████████████████▎                                                                                                                           | 920/2635 [00:05<00:10, 164.35it/s]\n",
      " 36%|███████████████████████████████████████████████████████████████████▌                                                                                                                          | 937/2635 [00:05<00:10, 164.47it/s]\n",
      " 36%|█████████████████████████████████████████████████████████████████████                                                                                                                         | 957/2635 [00:05<00:10, 164.91it/s]\n",
      " 37%|██████████████████████████████████████████████████████████████████████▏                                                                                                                       | 974/2635 [00:05<00:10, 164.66it/s]\n",
      " 38%|███████████████████████████████████████████████████████████████████████▍                                                                                                                      | 990/2635 [00:06<00:10, 163.45it/s]\n",
      " 38%|████████████████████████████████████████████████████████████████████████▏                                                                                                                    | 1007/2635 [00:06<00:09, 163.43it/s]\n",
      " 39%|█████████████████████████████████████████████████████████████████████████▌                                                                                                                   | 1025/2635 [00:06<00:09, 163.65it/s]\n",
      " 40%|██████████████████████████████████████████████████████████████████████████▋                                                                                                                  | 1041/2635 [00:06<00:09, 162.99it/s]\n",
      " 40%|███████████████████████████████████████████████████████████████████████████▋                                                                                                                 | 1056/2635 [00:06<00:09, 162.27it/s]\n",
      " 41%|████████████████████████████████████████████████████████████████████████████▊                                                                                                                | 1071/2635 [00:06<00:09, 160.33it/s]\n",
      " 41%|█████████████████████████████████████████████████████████████████████████████▊                                                                                                               | 1084/2635 [00:06<00:09, 159.54it/s]\n",
      " 42%|██████████████████████████████████████████████████████████████████████████████▋                                                                                                              | 1097/2635 [00:06<00:09, 158.91it/s]\n",
      " 42%|███████████████████████████████████████████████████████████████████████████████▌                                                                                                             | 1110/2635 [00:07<00:09, 157.74it/s]\n",
      " 43%|████████████████████████████████████████████████████████████████████████████████▍                                                                                                            | 1122/2635 [00:07<00:09, 155.81it/s]\n",
      " 43%|█████████████████████████████████████████████████████████████████████████████████▎                                                                                                           | 1134/2635 [00:07<00:09, 155.21it/s]\n",
      " 44%|██████████████████████████████████████████████████████████████████████████████████▎                                                                                                          | 1147/2635 [00:07<00:09, 154.85it/s]\n",
      " 44%|███████████████████████████████████████████████████████████████████████████████████▎                                                                                                         | 1162/2635 [00:07<00:09, 154.71it/s]\n",
      " 45%|████████████████████████████████████████████████████████████████████████████████████▎                                                                                                        | 1175/2635 [00:07<00:09, 153.15it/s]\n",
      " 45%|█████████████████████████████████████████████████████████████████████████████████████                                                                                                        | 1186/2635 [00:07<00:09, 152.46it/s]\n",
      " 45%|█████████████████████████████████████████████████████████████████████████████████████▊                                                                                                       | 1197/2635 [00:07<00:09, 151.87it/s]\n",
      " 46%|██████████████████████████████████████████████████████████████████████████████████████▋                                                                                                      | 1209/2635 [00:07<00:09, 151.38it/s]\n",
      " 46%|███████████████████████████████████████████████████████████████████████████████████████▌                                                                                                     | 1220/2635 [00:08<00:09, 150.69it/s]\n",
      " 47%|████████████████████████████████████████████████████████████████████████████████████████▎                                                                                                    | 1231/2635 [00:08<00:09, 149.41it/s]\n",
      " 47%|█████████████████████████████████████████████████████████████████████████████████████████▏                                                                                                   | 1244/2635 [00:08<00:09, 149.04it/s]\n",
      " 48%|██████████████████████████████████████████████████████████████████████████████████████████                                                                                                   | 1255/2635 [00:08<00:09, 148.52it/s]\n",
      " 48%|██████████████████████████████████████████████████████████████████████████████████████████▊                                                                                                  | 1266/2635 [00:08<00:09, 147.74it/s]\n",
      " 48%|███████████████████████████████████████████████████████████████████████████████████████████▌                                                                                                 | 1277/2635 [00:08<00:09, 147.13it/s]\n",
      " 49%|████████████████████████████████████████████████████████████████████████████████████████████▍                                                                                                | 1288/2635 [00:08<00:09, 145.77it/s]\n",
      " 49%|█████████████████████████████████████████████████████████████████████████████████████████████▏                                                                                               | 1299/2635 [00:08<00:09, 145.22it/s]\n",
      " 50%|██████████████████████████████████████████████████████████████████████████████████████████████                                                                                               | 1312/2635 [00:09<00:09, 145.00it/s]\n",
      " 50%|██████████████████████████████████████████████████████████████████████████████████████████████▉                                                                                              | 1324/2635 [00:09<00:09, 144.70it/s]\n",
      " 51%|███████████████████████████████████████████████████████████████████████████████████████████████▊                                                                                             | 1335/2635 [00:09<00:09, 143.06it/s]\n",
      " 51%|████████████████████████████████████████████████████████████████████████████████████████████████▍                                                                                            | 1345/2635 [00:09<00:09, 142.56it/s]\n",
      " 51%|█████████████████████████████████████████████████████████████████████████████████████████████████▏                                                                                           | 1355/2635 [00:09<00:09, 141.94it/s]\n",
      " 52%|█████████████████████████████████████████████████████████████████████████████████████████████████▉                                                                                           | 1365/2635 [00:09<00:08, 141.23it/s]\n",
      " 52%|██████████████████████████████████████████████████████████████████████████████████████████████████▋                                                                                          | 1376/2635 [00:09<00:08, 140.85it/s]\n",
      " 53%|███████████████████████████████████████████████████████████████████████████████████████████████████▍                                                                                         | 1386/2635 [00:09<00:08, 139.51it/s]\n",
      " 53%|████████████████████████████████████████████████████████████████████████████████████████████████████                                                                                         | 1395/2635 [00:10<00:08, 138.99it/s]\n",
      " 53%|████████████████████████████████████████████████████████████████████████████████████████████████████▊                                                                                        | 1406/2635 [00:10<00:08, 138.69it/s]\n",
      " 54%|█████████████████████████████████████████████████████████████████████████████████████████████████████▋                                                                                       | 1418/2635 [00:10<00:08, 138.41it/s]\n",
      " 54%|██████████████████████████████████████████████████████████████████████████████████████████████████████▌                                                                                      | 1430/2635 [00:10<00:08, 138.17it/s]\n",
      " 55%|███████████████████████████████████████████████████████████████████████████████████████████████████████▎                                                                                     | 1441/2635 [00:10<00:08, 137.15it/s]\n",
      " 55%|████████████████████████████████████████████████████████████████████████████████████████████████████████▏                                                                                    | 1453/2635 [00:10<00:08, 136.97it/s]\n",
      " 56%|█████████████████████████████████████████████████████████████████████████████████████████████████████████▏                                                                                   | 1466/2635 [00:10<00:08, 136.83it/s]\n",
      " 56%|██████████████████████████████████████████████████████████████████████████████████████████████████████████                                                                                   | 1478/2635 [00:10<00:08, 136.67it/s]\n",
      " 57%|██████████████████████████████████████████████████████████████████████████████████████████████████████████▊                                                                                  | 1490/2635 [00:10<00:08, 136.43it/s]\n",
      " 57%|███████████████████████████████████████████████████████████████████████████████████████████████████████████▋                                                                                 | 1502/2635 [00:11<00:08, 135.81it/s]\n",
      " 57%|████████████████████████████████████████████████████████████████████████████████████████████████████████████▋                                                                                | 1515/2635 [00:11<00:08, 135.72it/s]\n",
      " 58%|█████████████████████████████████████████████████████████████████████████████████████████████████████████████▌                                                                               | 1527/2635 [00:11<00:08, 135.52it/s]\n",
      " 58%|██████████████████████████████████████████████████████████████████████████████████████████████████████████████▍                                                                              | 1539/2635 [00:11<00:08, 135.28it/s]\n",
      " 59%|███████████████████████████████████████████████████████████████████████████████████████████████████████████████▏                                                                             | 1551/2635 [00:11<00:08, 134.35it/s]\n",
      " 59%|████████████████████████████████████████████████████████████████████████████████████████████████████████████████                                                                             | 1562/2635 [00:11<00:08, 133.88it/s]\n",
      " 60%|████████████████████████████████████████████████████████████████████████████████████████████████████████████████▊                                                                            | 1572/2635 [00:11<00:07, 133.42it/s]\n",
      " 60%|█████████████████████████████████████████████████████████████████████████████████████████████████████████████████▍                                                                           | 1582/2635 [00:11<00:07, 132.99it/s]\n",
      " 60%|██████████████████████████████████████████████████████████████████████████████████████████████████████████████████▏                                                                          | 1592/2635 [00:12<00:07, 132.18it/s]\n",
      " 61%|██████████████████████████████████████████████████████████████████████████████████████████████████████████████████▉                                                                          | 1603/2635 [00:12<00:07, 131.99it/s]\n",
      " 61%|███████████████████████████████████████████████████████████████████████████████████████████████████████████████████▊                                                                         | 1615/2635 [00:12<00:07, 131.76it/s]\n",
      " 62%|████████████████████████████████████████████████████████████████████████████████████████████████████████████████████▋                                                                        | 1626/2635 [00:12<00:07, 131.54it/s]\n",
      " 62%|█████████████████████████████████████████████████████████████████████████████████████████████████████████████████████▎                                                                       | 1636/2635 [00:12<00:07, 130.91it/s]\n",
      " 63%|██████████████████████████████████████████████████████████████████████████████████████████████████████████████████████▏                                                                      | 1648/2635 [00:12<00:07, 130.79it/s]\n",
      " 63%|██████████████████████████████████████████████████████████████████████████████████████████████████████████████████████▉                                                                      | 1658/2635 [00:12<00:07, 130.52it/s]\n",
      " 63%|███████████████████████████████████████████████████████████████████████████████████████████████████████████████████████▋                                                                     | 1669/2635 [00:12<00:07, 130.31it/s]\n",
      " 64%|████████████████████████████████████████████████████████████████████████████████████████████████████████████████████████▌                                                                    | 1680/2635 [00:12<00:07, 130.13it/s]\n",
      " 64%|█████████████████████████████████████████████████████████████████████████████████████████████████████████████████████████▎                                                                   | 1691/2635 [00:13<00:07, 129.60it/s]\n",
      " 65%|██████████████████████████████████████████████████████████████████████████████████████████████████████████████████████████                                                                   | 1702/2635 [00:13<00:07, 129.39it/s]\n",
      " 65%|██████████████████████████████████████████████████████████████████████████████████████████████████████████████████████████▉                                                                  | 1714/2635 [00:13<00:07, 129.23it/s]\n",
      " 65%|███████████████████████████████████████████████████████████████████████████████████████████████████████████████████████████▋                                                                 | 1725/2635 [00:13<00:07, 129.06it/s]\n",
      " 66%|████████████████████████████████████████████████████████████████████████████████████████████████████████████████████████████▌                                                                | 1736/2635 [00:13<00:07, 128.21it/s]\n",
      " 66%|█████████████████████████████████████████████████████████████████████████████████████████████████████████████████████████████▍                                                               | 1748/2635 [00:13<00:06, 128.11it/s]\n",
      " 67%|██████████████████████████████████████████████████████████████████████████████████████████████████████████████████████████████▏                                                              | 1760/2635 [00:13<00:06, 128.03it/s]\n",
      " 67%|███████████████████████████████████████████████████████████████████████████████████████████████████████████████████████████████                                                              | 1771/2635 [00:13<00:06, 127.32it/s]\n",
      " 68%|████████████████████████████████████████████████████████████████████████████████████████████████████████████████████████████████                                                             | 1785/2635 [00:14<00:06, 127.35it/s]\n",
      " 68%|████████████████████████████████████████████████████████████████████████████████████████████████████████████████████████████████▉                                                            | 1797/2635 [00:14<00:06, 127.28it/s]\n",
      " 69%|█████████████████████████████████████████████████████████████████████████████████████████████████████████████████████████████████▊                                                           | 1809/2635 [00:14<00:06, 127.22it/s]\n",
      " 69%|██████████████████████████████████████████████████████████████████████████████████████████████████████████████████████████████████▌                                                          | 1821/2635 [00:14<00:06, 126.80it/s]\n",
      " 70%|███████████████████████████████████████████████████████████████████████████████████████████████████████████████████████████████████▍                                                         | 1833/2635 [00:14<00:06, 126.72it/s]\n",
      " 70%|████████████████████████████████████████████████████████████████████████████████████████████████████████████████████████████████████▍                                                        | 1846/2635 [00:14<00:06, 126.69it/s]\n",
      " 71%|█████████████████████████████████████████████████████████████████████████████████████████████████████████████████████████████████████▎                                                       | 1858/2635 [00:14<00:06, 126.62it/s]\n",
      " 71%|██████████████████████████████████████████████████████████████████████████████████████████████████████████████████████████████████████▏                                                      | 1870/2635 [00:14<00:06, 125.97it/s]\n",
      " 71%|██████████████████████████████████████████████████████████████████████████████████████████████████████████████████████████████████████▉                                                      | 1882/2635 [00:14<00:05, 125.87it/s]\n",
      " 72%|███████████████████████████████████████████████████████████████████████████████████████████████████████████████████████████████████████▊                                                     | 1894/2635 [00:15<00:05, 125.76it/s]\n",
      " 72%|████████████████████████████████████████████████████████████████████████████████████████████████████████████████████████████████████████▋                                                    | 1905/2635 [00:15<00:05, 125.19it/s]\n",
      " 73%|█████████████████████████████████████████████████████████████████████████████████████████████████████████████████████████████████████████▎                                                   | 1915/2635 [00:15<00:05, 124.37it/s]\n",
      " 73%|██████████████████████████████████████████████████████████████████████████████████████████████████████████████████████████████████████████                                                   | 1924/2635 [00:15<00:05, 124.05it/s]\n",
      " 73%|██████████████████████████████████████████████████████████████████████████████████████████████████████████████████████████████████████████▋                                                  | 1933/2635 [00:15<00:05, 123.79it/s]\n",
      " 74%|███████████████████████████████████████████████████████████████████████████████████████████████████████████████████████████████████████████▎                                                 | 1942/2635 [00:15<00:05, 123.46it/s]\n",
      " 74%|███████████████████████████████████████████████████████████████████████████████████████████████████████████████████████████████████████████▉                                                 | 1951/2635 [00:15<00:05, 122.79it/s]\n",
      " 74%|████████████████████████████████████████████████████████████████████████████████████████████████████████████████████████████████████████████▋                                                | 1961/2635 [00:15<00:05, 122.61it/s]\n",
      " 75%|█████████████████████████████████████████████████████████████████████████████████████████████████████████████████████████████████████████████▌                                               | 1973/2635 [00:16<00:05, 122.56it/s]\n",
      " 75%|██████████████████████████████████████████████████████████████████████████████████████████████████████████████████████████████████████████████▏                                              | 1983/2635 [00:16<00:05, 122.39it/s]\n",
      " 76%|██████████████████████████████████████████████████████████████████████████████████████████████████████████████████████████████████████████████▉                                              | 1993/2635 [00:16<00:05, 121.86it/s]\n",
      " 76%|███████████████████████████████████████████████████████████████████████████████████████████████████████████████████████████████████████████████▋                                             | 2004/2635 [00:16<00:05, 121.74it/s]\n",
      " 77%|████████████████████████████████████████████████████████████████████████████████████████████████████████████████████████████████████████████████▋                                            | 2017/2635 [00:16<00:05, 121.74it/s]\n",
      " 77%|█████████████████████████████████████████████████████████████████████████████████████████████████████████████████████████████████████████████████▌                                           | 2029/2635 [00:16<00:04, 121.66it/s]\n",
      " 77%|██████████████████████████████████████████████████████████████████████████████████████████████████████████████████████████████████████████████████▎                                          | 2040/2635 [00:16<00:04, 121.17it/s]\n",
      " 78%|███████████████████████████████████████████████████████████████████████████████████████████████████████████████████████████████████████████████████▏                                         | 2052/2635 [00:16<00:04, 121.15it/s]\n",
      " 78%|████████████████████████████████████████████████████████████████████████████████████████████████████████████████████████████████████████████████████                                         | 2064/2635 [00:17<00:04, 121.08it/s]\n",
      " 79%|████████████████████████████████████████████████████████████████████████████████████████████████████████████████████████████████████████████████████▊                                        | 2075/2635 [00:17<00:04, 120.58it/s]\n",
      " 79%|█████████████████████████████████████████████████████████████████████████████████████████████████████████████████████████████████████████████████████▌                                       | 2085/2635 [00:17<00:04, 120.35it/s]\n",
      " 80%|██████████████████████████████████████████████████████████████████████████████████████████████████████████████████████████████████████████████████████▍                                      | 2097/2635 [00:17<00:04, 120.31it/s]\n",
      " 80%|███████████████████████████████████████████████████████████████████████████████████████████████████████████████████████████████████████████████████████▏                                     | 2107/2635 [00:17<00:04, 120.14it/s]\n",
      " 80%|███████████████████████████████████████████████████████████████████████████████████████████████████████████████████████████████████████████████████████▊                                     | 2117/2635 [00:17<00:04, 119.79it/s]\n",
      " 81%|████████████████████████████████████████████████████████████████████████████████████████████████████████████████████████████████████████████████████████▋                                    | 2129/2635 [00:17<00:04, 119.77it/s]\n",
      " 81%|█████████████████████████████████████████████████████████████████████████████████████████████████████████████████████████████████████████████████████████▋                                   | 2143/2635 [00:17<00:04, 119.88it/s]\n",
      " 82%|██████████████████████████████████████████████████████████████████████████████████████████████████████████████████████████████████████████████████████████▊                                  | 2159/2635 [00:17<00:03, 120.08it/s]\n",
      " 82%|███████████████████████████████████████████████████████████████████████████████████████████████████████████████████████████████████████████████████████████▊                                 | 2172/2635 [00:18<00:03, 119.88it/s]\n",
      " 83%|████████████████████████████████████████████████████████████████████████████████████████████████████████████████████████████████████████████████████████████▊                                | 2186/2635 [00:18<00:03, 119.95it/s]\n",
      " 84%|██████████████████████████████████████████████████████████████████████████████████████████████████████████████████████████████████████████████████████████████                               | 2203/2635 [00:18<00:03, 120.20it/s]\n",
      " 84%|███████████████████████████████████████████████████████████████████████████████████████████████████████████████████████████████████████████████████████████████                              | 2217/2635 [00:18<00:03, 120.30it/s]\n",
      " 85%|████████████████████████████████████████████████████████████████████████████████████████████████████████████████████████████████████████████████████████████████                             | 2232/2635 [00:18<00:03, 120.44it/s]\n",
      " 85%|█████████████████████████████████████████████████████████████████████████████████████████████████████████████████████████████████████████████████████████████████                            | 2246/2635 [00:18<00:03, 120.16it/s]\n",
      " 86%|██████████████████████████████████████████████████████████████████████████████████████████████████████████████████████████████████████████████████████████████████▏                          | 2261/2635 [00:18<00:03, 120.28it/s]\n",
      " 86%|███████████████████████████████████████████████████████████████████████████████████████████████████████████████████████████████████████████████████████████████████▏                         | 2275/2635 [00:18<00:02, 120.37it/s]\n",
      " 87%|████████████████████████████████████████████████████████████████████████████████████████████████████████████████████████████████████████████████████████████████████▏                        | 2289/2635 [00:19<00:02, 120.42it/s]\n",
      " 87%|█████████████████████████████████████████████████████████████████████████████████████████████████████████████████████████████████████████████████████████████████████▎                       | 2304/2635 [00:19<00:02, 120.56it/s]\n",
      " 88%|██████████████████████████████████████████████████████████████████████████████████████████████████████████████████████████████████████████████████████████████████████▎                      | 2318/2635 [00:19<00:02, 120.33it/s]\n",
      " 88%|███████████████████████████████████████████████████████████████████████████████████████████████████████████████████████████████████████████████████████████████████████▏                     | 2331/2635 [00:19<00:02, 120.38it/s]\n",
      " 89%|████████████████████████████████████████████████████████████████████████████████████████████████████████████████████████████████████████████████████████████████████████▏                    | 2345/2635 [00:19<00:02, 120.45it/s]\n",
      " 89%|█████████████████████████████████████████████████████████████████████████████████████████████████████████████████████████████████████████████████████████████████████████▏                   | 2358/2635 [00:19<00:02, 120.43it/s]\n",
      " 90%|██████████████████████████████████████████████████████████████████████████████████████████████████████████████████████████████████████████████████████████████████████████                   | 2371/2635 [00:19<00:02, 120.26it/s]\n",
      " 90%|██████████████████████████████████████████████████████████████████████████████████████████████████████████████████████████████████████████████████████████████████████████▉                  | 2383/2635 [00:19<00:02, 119.78it/s]\n",
      " 91%|███████████████████████████████████████████████████████████████████████████████████████████████████████████████████████████████████████████████████████████████████████████▊                 | 2395/2635 [00:19<00:02, 119.78it/s]\n",
      " 91%|████████████████████████████████████████████████████████████████████████████████████████████████████████████████████████████████████████████████████████████████████████████▋                | 2408/2635 [00:20<00:01, 119.82it/s]\n",
      " 92%|█████████████████████████████████████████████████████████████████████████████████████████████████████████████████████████████████████████████████████████████████████████████▋               | 2422/2635 [00:20<00:01, 119.91it/s]\n",
      " 92%|██████████████████████████████████████████████████████████████████████████████████████████████████████████████████████████████████████████████████████████████████████████████▋              | 2435/2635 [00:20<00:01, 119.95it/s]\n",
      " 93%|███████████████████████████████████████████████████████████████████████████████████████████████████████████████████████████████████████████████████████████████████████████████▌             | 2448/2635 [00:20<00:01, 119.94it/s]\n",
      " 93%|████████████████████████████████████████████████████████████████████████████████████████████████████████████████████████████████████████████████████████████████████████████████▌            | 2461/2635 [00:20<00:01, 119.72it/s]\n",
      " 94%|█████████████████████████████████████████████████████████████████████████████████████████████████████████████████████████████████████████████████████████████████████████████████▌           | 2475/2635 [00:20<00:01, 119.80it/s]\n",
      " 94%|██████████████████████████████████████████████████████████████████████████████████████████████████████████████████████████████████████████████████████████████████████████████████▌          | 2489/2635 [00:20<00:01, 119.87it/s]\n",
      " 95%|███████████████████████████████████████████████████████████████████████████████████████████████████████████████████████████████████████████████████████████████████████████████████▌         | 2504/2635 [00:20<00:01, 120.00it/s]\n",
      " 96%|████████████████████████████████████████████████████████████████████████████████████████████████████████████████████████████████████████████████████████████████████████████████████▊        | 2520/2635 [00:20<00:00, 120.17it/s]\n",
      " 96%|█████████████████████████████████████████████████████████████████████████████████████████████████████████████████████████████████████████████████████████████████████████████████████▊       | 2534/2635 [00:21<00:00, 119.99it/s]\n",
      " 97%|██████████████████████████████████████████████████████████████████████████████████████████████████████████████████████████████████████████████████████████████████████████████████████▋      | 2547/2635 [00:21<00:00, 119.98it/s]\n",
      " 97%|███████████████████████████████████████████████████████████████████████████████████████████████████████████████████████████████████████████████████████████████████████████████████████▋     | 2561/2635 [00:21<00:00, 120.05it/s]\n",
      " 98%|████████████████████████████████████████████████████████████████████████████████████████████████████████████████████████████████████████████████████████████████████████████████████████▌    | 2574/2635 [00:21<00:00, 120.03it/s]\n",
      " 98%|█████████████████████████████████████████████████████████████████████████████████████████████████████████████████████████████████████████████████████████████████████████████████████████▌   | 2587/2635 [00:21<00:00, 119.78it/s]\n",
      " 99%|██████████████████████████████████████████████████████████████████████████████████████████████████████████████████████████████████████████████████████████████████████████████████████████▉  | 2606/2635 [00:21<00:00, 120.09it/s]\n",
      "100%|████████████████████████████████████████████████████████████████████████████████████████████████████████████████████████████████████████████████████████████████████████████████████████████▏| 2624/2635 [00:21<00:00, 120.34it/s]\n",
      "100%|█████████████████████████████████████████████████████████████████████████████████████████████████████████████████████████████████████████████████████████████████████████████████████████████| 2635/2635 [00:21<00:00, 120.50it/s]"
     ]
    }
   ],
   "source": [
    "from tqdm import tqdm\n",
    "from collections import Counter\n",
    "import os\n",
    "from constants import PMU_DATA_DIR\n",
    "import re\n",
    "import utils\n",
    "\n",
    "status=set()\n",
    "status_counter = Counter()\n",
    "reunion_nature=Counter()\n",
    "reunion_audience =Counter()\n",
    "reunion_pays = Counter()\n",
    "course_hippodrome= Counter()\n",
    "course_discipline= Counter()\n",
    "course_specialite = Counter()\n",
    "course_condition_sexe = Counter()\n",
    "course_corde = Counter()\n",
    "\n",
    "for date in tqdm(os.listdir(PMU_DATA_DIR)):\n",
    "    if date == \".ipynb_checkpoints\":\n",
    "        continue\n",
    "    assert re.match(r\"\\d{4}-\\d{2}-\\d{2}\", date)\n",
    "\n",
    "    folder_path = os.path.join(PMU_DATA_DIR, date)\n",
    "\n",
    "    programme_json = utils.load_json(\n",
    "    filename=os.path.join(folder_path, \"programme.json\")\n",
    "    )\n",
    "\n",
    "    if (\n",
    "        programme_json is None or\n",
    "    \"programme\" not in programme_json\n",
    "    or \"reunions\" not in programme_json[\"programme\"]\n",
    "    ):\n",
    "   \n",
    "        continue\n",
    "    \n",
    "    # TODO check course statut TERMINEE or ROUGE_a\n",
    "    for reunion in programme_json[\"programme\"][\"reunions\"]:\n",
    "        reunion_nature[reunion['nature']]+=1\n",
    "        reunion_audience[reunion['audience']]+=1\n",
    "        reunion_pays[reunion['pays']['code']]+=1\n",
    "        \n",
    "        for course in reunion[\"courses\"]:\n",
    "            status.add(course['statut'])\n",
    "            status_counter[course['statut']]+=1\n",
    "            course_discipline[course['discipline']]+=1\n",
    "            course_specialite[course['specialite']]+=1\n",
    "            course_condition_sexe[course['conditionSexe']]+=1\n",
    "            if 'corde' in course:\n",
    "                course_corde[course['corde']]+=1\n",
    "            if 'hippodrome' in course:\n",
    "                course_hippodrome[course['hippodrome']['codeHippodrome']]+=1\n",
    "    "
   ]
  },
  {
   "cell_type": "code",
   "execution_count": 9,
   "metadata": {
    "scrolled": true
   },
   "outputs": [
    {
     "data": {
      "text/plain": [
       "{'ARRIVEE_DEFINITIVE',\n",
       " 'ARRIVEE_DEFINITIVE_COMPLETE',\n",
       " 'ARRIVEE_PROVISOIRE',\n",
       " 'COURSE_ANNULEE',\n",
       " 'COURSE_ARRETEE',\n",
       " 'DEPART_CONFIRME',\n",
       " 'DEPART_DANS_TROIS_MINUTES',\n",
       " 'FIN_COURSE',\n",
       " 'PROGRAMMEE'}"
      ]
     },
     "execution_count": 9,
     "metadata": {},
     "output_type": "execute_result"
    },
    {
     "name": "stderr",
     "output_type": "stream",
     "text": [
      " 99%|████████████████████████████████████████████████████████████████████████████████████████████████████████████████████████████████████████████████████████████████████████████████████████████▉ | 2620/2635 [00:40<00:00, 65.34it/s]"
     ]
    }
   ],
   "source": [
    "status"
   ]
  },
  {
   "cell_type": "code",
   "execution_count": 49,
   "metadata": {},
   "outputs": [
    {
     "data": {
      "text/plain": [
       "Counter({'ARRIVEE_DEFINITIVE': 23,\n",
       "         'ARRIVEE_DEFINITIVE_COMPLETE': 7545,\n",
       "         'ARRIVEE_PROVISOIRE': 7,\n",
       "         'COURSE_ANNULEE': 686,\n",
       "         'COURSE_ARRETEE': 6,\n",
       "         'DEPART_CONFIRME': 2,\n",
       "         'DEPART_DANS_TROIS_MINUTES': 2,\n",
       "         'FIN_COURSE': 109931,\n",
       "         'PROGRAMMEE': 12})"
      ]
     },
     "execution_count": 49,
     "metadata": {},
     "output_type": "execute_result"
    }
   ],
   "source": [
    "status_counter"
   ]
  },
  {
   "cell_type": "code",
   "execution_count": 50,
   "metadata": {},
   "outputs": [
    {
     "data": {
      "text/plain": [
       "Counter({'DIURNE': 10662, 'NOCTURNE': 1597, 'SEMINOCTURNE': 5022})"
      ]
     },
     "execution_count": 50,
     "metadata": {},
     "output_type": "execute_result"
    }
   ],
   "source": [
    "reunion_nature"
   ]
  },
  {
   "cell_type": "code",
   "execution_count": 51,
   "metadata": {},
   "outputs": [
    {
     "data": {
      "text/plain": [
       "Counter({'LOCAL': 1265, 'NATIONAL': 14354, 'REGIONAL': 1662})"
      ]
     },
     "execution_count": 51,
     "metadata": {},
     "output_type": "execute_result"
    }
   ],
   "source": [
    "reunion_audience"
   ]
  },
  {
   "cell_type": "code",
   "execution_count": 52,
   "metadata": {},
   "outputs": [
    {
     "data": {
      "text/plain": [
       "Counter({'ALLEMAGNE': 734,\n",
       "         'AUTRICHE': 143,\n",
       "         'Afrique du Sud': 482,\n",
       "         'Argentine': 58,\n",
       "         'Australie': 223,\n",
       "         'Belgique': 420,\n",
       "         'Brésil': 14,\n",
       "         'Chili': 300,\n",
       "         'Chine': 57,\n",
       "         'Corée, République': 7,\n",
       "         'Danemark': 14,\n",
       "         'Emirats arabes unis': 117,\n",
       "         'Espagne': 290,\n",
       "         'Etats-Unis': 205,\n",
       "         'FRANCE': 12228,\n",
       "         'Finlande': 25,\n",
       "         'Indetermine': 78,\n",
       "         'Irlande': 144,\n",
       "         'Italie': 26,\n",
       "         'Japon': 7,\n",
       "         'Malte': 9,\n",
       "         'Maroc': 27,\n",
       "         'Maurice': 2,\n",
       "         'NOUVELLE CALEDONIE': 2,\n",
       "         'Norvège': 93,\n",
       "         'Nouvelle-Zélande': 3,\n",
       "         'Pays-Bas': 226,\n",
       "         'Pérou': 26,\n",
       "         'Qatar': 1,\n",
       "         'Royaume-Uni': 586,\n",
       "         'SUISSE': 322,\n",
       "         'Singapour': 126,\n",
       "         'Suède': 164,\n",
       "         'Tchèque, République': 7,\n",
       "         'Turquie': 2,\n",
       "         'Uruguay': 113})"
      ]
     },
     "execution_count": 52,
     "metadata": {},
     "output_type": "execute_result"
    }
   ],
   "source": [
    "reunion_pays"
   ]
  },
  {
   "cell_type": "code",
   "execution_count": 53,
   "metadata": {},
   "outputs": [
    {
     "data": {
      "text/plain": [
       "Counter({'ATTELE': 54168,\n",
       "         'CROSS': 670,\n",
       "         'HAIE': 6136,\n",
       "         'MONTE': 8436,\n",
       "         'PLAT': 44539,\n",
       "         'STEEPLECHASE': 4265})"
      ]
     },
     "execution_count": 53,
     "metadata": {},
     "output_type": "execute_result"
    }
   ],
   "source": [
    "course_discipline"
   ]
  },
  {
   "cell_type": "code",
   "execution_count": 54,
   "metadata": {},
   "outputs": [
    {
     "data": {
      "text/plain": [
       "Counter({'OBSTACLE': 11071,\n",
       "         'PLAT': 44539,\n",
       "         'TROT_ATTELE': 54168,\n",
       "         'TROT_MONTE': 8436})"
      ]
     },
     "execution_count": 54,
     "metadata": {},
     "output_type": "execute_result"
    }
   ],
   "source": [
    "course_specialite"
   ]
  },
  {
   "cell_type": "code",
   "execution_count": 55,
   "metadata": {},
   "outputs": [
    {
     "data": {
      "text/plain": [
       "Counter({'FEMELLES': 17021,\n",
       "         'FEMELLES_ET_HONGRES': 7,\n",
       "         'FEMELLES_ET_MALES': 786,\n",
       "         'HONGRES': 1,\n",
       "         'MALES': 476,\n",
       "         'MALES_ET_HONGRES': 12880,\n",
       "         'TOUS_CHEVAUX': 87043})"
      ]
     },
     "execution_count": 55,
     "metadata": {},
     "output_type": "execute_result"
    }
   ],
   "source": [
    "course_condition_sexe"
   ]
  },
  {
   "cell_type": "code",
   "execution_count": 56,
   "metadata": {},
   "outputs": [
    {
     "data": {
      "text/plain": [
       "Counter({'CORDE_DROITE': 46173, 'CORDE_GAUCHE': 52991})"
      ]
     },
     "execution_count": 56,
     "metadata": {},
     "output_type": "execute_result"
    }
   ],
   "source": [
    "course_corde"
   ]
  },
  {
   "cell_type": "code",
   "execution_count": 57,
   "metadata": {
    "scrolled": true
   },
   "outputs": [
    {
     "data": {
      "text/plain": [
       "Counter({'AALBORG': 29,\n",
       "         'ABY GOTEBORG': 112,\n",
       "         'ADDINGTON': 2,\n",
       "         'AGEN LA GARENNE': 1393,\n",
       "         'AGON-COUTAINVILLE': 13,\n",
       "         'AINTREE': 72,\n",
       "         'AIX LES BAINS': 549,\n",
       "         'AJACCIO': 13,\n",
       "         'ALBANY AUSTRALIE': 8,\n",
       "         'ALENCON': 25,\n",
       "         'ALEXANDRA PARK': 3,\n",
       "         'AMAL SUÈDE': 8,\n",
       "         'AMIENS': 1386,\n",
       "         'ANGERS': 1123,\n",
       "         'ANGOULEME': 33,\n",
       "         'AQUEDUCT': 36,\n",
       "         'ARGENTAN': 1088,\n",
       "         'ARJANG (SUEDE)': 21,\n",
       "         'ARLINGTON': 4,\n",
       "         'ARRAS': 12,\n",
       "         'ASCOT': 232,\n",
       "         'AUCH': 14,\n",
       "         'AUTEUIL': 2182,\n",
       "         'AUTEUIL MIDI': 3,\n",
       "         'AVENCHES': 1658,\n",
       "         'AVENCHES SOIR': 17,\n",
       "         'AVIGNON': 85,\n",
       "         'AXEVALLA': 50,\n",
       "         'AYR': 19,\n",
       "         'BAD DOBERAN': 29,\n",
       "         'BAD HARZBURG': 65,\n",
       "         'BADEN-BADEN': 165,\n",
       "         'BADEN-VIENNE': 135,\n",
       "         'BALLARAT': 17,\n",
       "         'BATH': 12,\n",
       "         'BEAUMONT DE LOMAGNE': 865,\n",
       "         'BELMONT PARK': 31,\n",
       "         'BENDIGO': 31,\n",
       "         'BERGEN NORVÈGE': 6,\n",
       "         'BERGSAKER': 59,\n",
       "         'BERNAY': 31,\n",
       "         'BEVERLEY': 13,\n",
       "         'BIARRITZ': 13,\n",
       "         'BILLUND DANEMARK': 7,\n",
       "         'BIRI NORVEGE': 6,\n",
       "         'BJERKE': 277,\n",
       "         'BLAIN-BOUVRON': 4,\n",
       "         'BODEN': 28,\n",
       "         'BOLLENE': 14,\n",
       "         'BOLLNAS SUÈDE': 19,\n",
       "         'BOLOGNE': 2,\n",
       "         'BORELY': 1979,\n",
       "         'BREHAL': 15,\n",
       "         'BREME': 49,\n",
       "         'BRIGHTON': 12,\n",
       "         'BRO PARK': 30,\n",
       "         'BUNBURY AUSTRALIE': 13,\n",
       "         'CABOURG': 1745,\n",
       "         'CAEN': 1644,\n",
       "         'CAGNES MIDI': 29,\n",
       "         'CAGNES/MER': 4343,\n",
       "         'CAPANNELLE (ROME)': 8,\n",
       "         'CARENTAN': 18,\n",
       "         'CARLISLE': 8,\n",
       "         'CARPENTRAS': 84,\n",
       "         'CARTMEL': 4,\n",
       "         'CASABLANCA': 143,\n",
       "         'CASTERA-VERDUZAN': 32,\n",
       "         'CASTILLONNES': 16,\n",
       "         'CATTERICK': 4,\n",
       "         'CAVAILLON': 613,\n",
       "         'CHALLANS': 16,\n",
       "         'CHAMP DE MARS': 1200,\n",
       "         'CHANTILLY': 2669,\n",
       "         'CHANTILLY MIDI': 6,\n",
       "         'CHARTRES': 650,\n",
       "         'CHATEAUBRIANT': 773,\n",
       "         'CHATEAUROUX': 2,\n",
       "         'CHATELAILLON': 436,\n",
       "         'CHATILLON/CHALARONNE': 60,\n",
       "         'CHELMSFORD': 315,\n",
       "         'CHELTENHAM': 178,\n",
       "         'CHEPSTOW': 15,\n",
       "         'CHERBOURG': 491,\n",
       "         'CHESTER': 4,\n",
       "         'CHILE': 632,\n",
       "         'CHOLET': 503,\n",
       "         'CHURCHILL DOWNS': 15,\n",
       "         'CLAIREFONTAINE': 1110,\n",
       "         'CLAIRWOOD': 16,\n",
       "         'CLONMEL': 7,\n",
       "         'COLOGNE': 217,\n",
       "         'COMPIEGNE': 1461,\n",
       "         'CONCEPCION': 164,\n",
       "         'COPENHAGUE': 7,\n",
       "         'CORDEMAIS': 381,\n",
       "         'CORK': 3,\n",
       "         'CORLAY': 7,\n",
       "         'CRANBOURNE': 70,\n",
       "         'CRAON': 497,\n",
       "         'CURRAGH': 141,\n",
       "         'DANNERO SUÈDE': 18,\n",
       "         'DAX': 692,\n",
       "         'DEAUVILLE': 2662,\n",
       "         'DEAUVILLE MIDI': 14,\n",
       "         'DEL MAR': 15,\n",
       "         'DIEPPE': 699,\n",
       "         'DINSLAKEN': 72,\n",
       "         'DIVONNE LES BAINS': 212,\n",
       "         'DOHA': 5,\n",
       "         'DONCASTER': 34,\n",
       "         'DORTMUND': 503,\n",
       "         'DOWN ROYAL': 3,\n",
       "         'DRESDE': 69,\n",
       "         'DUINDIGT': 40,\n",
       "         'DUNDALK': 24,\n",
       "         'DURBANVILLE': 20,\n",
       "         'DURTAL': 74,\n",
       "         'DUSSELDORF': 97,\n",
       "         'EAUZE': 15,\n",
       "         'EBREICHSDORF': 136,\n",
       "         'ECHUCA': 4,\n",
       "         'ECOMMOY': 31,\n",
       "         'ENGHIEN': 2675,\n",
       "         'ENGHIEN MIDI': 3,\n",
       "         'EPSOM DOWNS': 34,\n",
       "         'ERBRAY': 9,\n",
       "         'ESKILSTUNA': 62,\n",
       "         'EVREUX': 67,\n",
       "         'EXETER': 4,\n",
       "         'FAIRVIEW': 493,\n",
       "         'FAIRYHOUSE': 33,\n",
       "         'FARJESTAD SUÈDE': 51,\n",
       "         'FEURS': 528,\n",
       "         'FLAMINGO PARK': 44,\n",
       "         'FONTAINEBLEAU': 1222,\n",
       "         'FORUS (STAVANGER)': 12,\n",
       "         'FOUGERES': 11,\n",
       "         'FRANKFURT': 8,\n",
       "         'FRAUENFELD': 84,\n",
       "         'GALWAY': 6,\n",
       "         'GAVEA': 97,\n",
       "         'GAVLE': 32,\n",
       "         'GEELONG': 4,\n",
       "         'GELSENKIRCHEN': 432,\n",
       "         'GERALDTON AUSTRALIE': 12,\n",
       "         'GOODWOOD': 81,\n",
       "         'GOWRAN PARK': 4,\n",
       "         'GRAIGNES': 1498,\n",
       "         'GRENADE SUR GARONNE': 13,\n",
       "         'GREYVILLE': 400,\n",
       "         'GUADELOUPE': 16,\n",
       "         'GULFSTREAM PARK': 201,\n",
       "         'HAGMYREN SUÈDE': 33,\n",
       "         'HALMSTAD': 45,\n",
       "         'HAMBOURG': 178,\n",
       "         'HAMBOURG HORN': 170,\n",
       "         'HANOVRE': 55,\n",
       "         'HAPPY VALLEY': 738,\n",
       "         'HARSTAD NORVEGE': 6,\n",
       "         'HAYDOCK': 9,\n",
       "         'HEXHAM': 7,\n",
       "         'HOBART': 1,\n",
       "         'HOPPEGARTEN': 107,\n",
       "         'HORN TROT': 8,\n",
       "         'HYERES': 1082,\n",
       "         'ISLE SUR SORGUE': 32,\n",
       "         'JAGERSRO(MALMOE)': 128,\n",
       "         'JARLSBERG': 67,\n",
       "         'JULLIANGES': 5,\n",
       "         'KALGOORLIE AUSTRALIE': 4,\n",
       "         'KARLOVY VARY': 5,\n",
       "         'KARLSHORST': 132,\n",
       "         'KEENELAND': 15,\n",
       "         'KELSO': 8,\n",
       "         'KEMPTON PARK': 295,\n",
       "         'KENILWORTH': 291,\n",
       "         'KILMORE': 9,\n",
       "         'KOUVOLA': 6,\n",
       "         'KREFELD': 58,\n",
       "         'KRIEAU (VIENNE)': 580,\n",
       "         'KUURNE': 93,\n",
       "         'LA CAPELLE': 1124,\n",
       "         'LA CEPIERE': 2726,\n",
       "         'LA CLAYETTE': 3,\n",
       "         'LA GACILLY': 11,\n",
       "         'LA PLATA': 74,\n",
       "         'LA ROCHE-POSAY': 24,\n",
       "         'LA TESTE': 897,\n",
       "         'LANDIVISIAU': 8,\n",
       "         'LANGON-LIBOURNE': 80,\n",
       "         'LAON': 12,\n",
       "         'LAS PIEDRAS': 257,\n",
       "         'LAUNCESTON': 301,\n",
       "         'LAVAL': 1457,\n",
       "         'LE BOUSCAT': 1747,\n",
       "         'LE CROISE LAROCHE': 1724,\n",
       "         \"LE LION D'ANGERS\": 654,\n",
       "         'LE MANS': 463,\n",
       "         'LE MONT SAINT MICHEL': 455,\n",
       "         'LE PIN AU HARAS': 10,\n",
       "         'LE TOUQUET': 74,\n",
       "         'LEANGEN NORVEGE': 12,\n",
       "         'LEICESTER': 12,\n",
       "         'LEIPZIG': 10,\n",
       "         'LEOPARDSTOWN': 62,\n",
       "         'LES SABLES D OLONNE': 1058,\n",
       "         'LIGNIERES': 66,\n",
       "         'LIMA': 141,\n",
       "         'LIMERICK': 4,\n",
       "         'LINGFIELD PARK': 34,\n",
       "         'LISIEUX': 557,\n",
       "         'LOUDEAC': 13,\n",
       "         'LYON LA SOIE': 1590,\n",
       "         'LYON-PARILLY': 2234,\n",
       "         'MACHECOUL': 42,\n",
       "         'MACON-CLUNY': 47,\n",
       "         'MAGDEBURG': 21,\n",
       "         'MAIA BASSA (MERANO)': 4,\n",
       "         'MAISONS-LAFFITTE': 1376,\n",
       "         'MANNHEIM': 10,\n",
       "         'MANTORP SUÈDE': 29,\n",
       "         'MARIENDORF': 328,\n",
       "         'MARONAS': 448,\n",
       "         'MARSA': 31,\n",
       "         'MARTINIQUE': 106,\n",
       "         'MAUQUENCHY': 1075,\n",
       "         'MAURE DE BRETAGNE': 464,\n",
       "         'MEADOWLANDS (USA)': 53,\n",
       "         'MELTON': 198,\n",
       "         'MENANGLE': 6,\n",
       "         'MESLAY DU MAINE': 615,\n",
       "         'MEYDAN (E.A.U)': 788,\n",
       "         'MIKKELI ( FINLANDE)': 7,\n",
       "         'MOMARKEN NORVEGE': 6,\n",
       "         'MONCHENGLADBACH': 82,\n",
       "         'MONS (GHLIN)': 2367,\n",
       "         'MONT DE MARSAN': 590,\n",
       "         'MONTAUBAN': 15,\n",
       "         'MONTIER EN DER': 20,\n",
       "         'MONTLUCON': 22,\n",
       "         'MOONEE VALLEY': 7,\n",
       "         'MORLAIX': 23,\n",
       "         'MOST': 15,\n",
       "         'MOULINS': 521,\n",
       "         'MULHEIM': 111,\n",
       "         'MUNICH-DAGLFING': 203,\n",
       "         'MUNICH-RIEM': 46,\n",
       "         'MUSSELBURGH': 2,\n",
       "         'NAAS': 16,\n",
       "         'NANCY-BRABOIS': 783,\n",
       "         'NANTES': 1618,\n",
       "         'NAPLES': 12,\n",
       "         'NAVAN': 8,\n",
       "         'NEUSS': 382,\n",
       "         'NEWBURY': 31,\n",
       "         'NEWCASTLE': 62,\n",
       "         'NEWMARKET': 123,\n",
       "         'NEWMARKET JULY': 53,\n",
       "         'NEWTON ABBOT': 2,\n",
       "         'NIMES': 124,\n",
       "         'NIORT': 25,\n",
       "         'NORT SUR ERDRE': 22,\n",
       "         'NOTTINGHAM': 8,\n",
       "         'NOUMEA': 6,\n",
       "         'ODENSE': 8,\n",
       "         'ORAISON': 47,\n",
       "         'OREBRO SUÈDE': 31,\n",
       "         'OSLO': 1,\n",
       "         'OSTENDE': 185,\n",
       "         'OSTERSUND(SUEDE)': 36,\n",
       "         'PAKENHAM AUSTRALIE': 32,\n",
       "         'PARAY LE MONIAL': 77,\n",
       "         'PARDUBICE': 1,\n",
       "         'PAU': 1552,\n",
       "         'PERTH (GB)': 6,\n",
       "         'PERTH ASCOT': 51,\n",
       "         'PIMLICO': 32,\n",
       "         'PINJARRA AUSTRALIE': 14,\n",
       "         'PISE': 1,\n",
       "         'POMPADOUR': 26,\n",
       "         'PONT DE VIVAUX': 2231,\n",
       "         'PONTCHATEAU': 553,\n",
       "         'PORNICHET': 1541,\n",
       "         'PRAGUE': 10,\n",
       "         'PRUNELLI': 17,\n",
       "         'PUNCHESTOWN': 114,\n",
       "         'ParisLongchamp': 1188,\n",
       "         'RAMBOUILLET': 391,\n",
       "         'RANDWICK': 14,\n",
       "         'RATTVIK SUÈDE': 21,\n",
       "         'REDCAR': 2,\n",
       "         'REDCLIFF': 3,\n",
       "         'REIMS': 742,\n",
       "         'ROMME': 21,\n",
       "         'ROSCOMMON': 8,\n",
       "         'ROYAN': 49,\n",
       "         'SAARBRUCKEN': 6,\n",
       "         'SABLE SUR SARTHE': 30,\n",
       "         'SAINT BRIEUC': 556,\n",
       "         'SAINT GALMIER': 821,\n",
       "         'SAINT MALO': 778,\n",
       "         'SAINT MORITZ': 8,\n",
       "         'SAINT-CLOUD': 1664,\n",
       "         'SALISBURY': 11,\n",
       "         'SALON DE PROVENCE': 552,\n",
       "         'SAN ISIDRO': 294,\n",
       "         'SAN SEBASTIAN': 227,\n",
       "         'SAN SIRO (MILAN)': 3,\n",
       "         'SANDOWN PARK': 39,\n",
       "         'SANTA ANITA': 60,\n",
       "         'SANTIAGO': 557,\n",
       "         'SARATOGA': 24,\n",
       "         'SCOTTSVILLE': 42,\n",
       "         'SEGRE': 34,\n",
       "         'SEINAJOKI': 3,\n",
       "         'SENONNES POUANCE': 62,\n",
       "         'SEOUL': 17,\n",
       "         'SHA TIN (HONG KONG)': 218,\n",
       "         'SHEPPARTON': 12,\n",
       "         'SINGAPOUR': 586,\n",
       "         'SKIVE DANEMARK': 8,\n",
       "         'SOLVALLA': 200,\n",
       "         'SON PARDO': 1447,\n",
       "         'SOUTHWELL': 22,\n",
       "         'ST JEAN DE MONTS': 14,\n",
       "         'ST OMER': 11,\n",
       "         'STRASBOURG': 892,\n",
       "         'STRAUBING': 206,\n",
       "         'SUNSHINE COAST': 11,\n",
       "         'TAMPA-BAY USA': 62,\n",
       "         'TARBES': 286,\n",
       "         'TAUNTON': 7,\n",
       "         'TIPPERARY': 7,\n",
       "         'TOKYO': 7,\n",
       "         'TONGRES': 60,\n",
       "         'TOOWOOMBA': 6,\n",
       "         'TOURS': 24,\n",
       "         'TURFFONTEIN': 201,\n",
       "         'TURIN': 5,\n",
       "         'UMAKER SUÈDE': 42,\n",
       "         'VAAL': 488,\n",
       "         'VAGGERYD SUÈDE': 20,\n",
       "         'VALPARAISO': 610,\n",
       "         'VANNES': 11,\n",
       "         'VELIEFENDI': 4,\n",
       "         'VERMO (HELSINKI)': 11,\n",
       "         'VICHY': 2129,\n",
       "         'VICHY SOIR': 43,\n",
       "         'VILLENEUVE SUR LOT': 12,\n",
       "         'VILLEREAL': 14,\n",
       "         'VINCENNES': 8887,\n",
       "         'VIRE': 623,\n",
       "         'VISBYSUÈDE': 9,\n",
       "         'VITRE': 14,\n",
       "         'VITTEL': 63,\n",
       "         'WAREGEM': 45,\n",
       "         'WARWICK': 7,\n",
       "         'WILL ROGER DOWNS USA': 28,\n",
       "         'WINDSOR': 94,\n",
       "         'WISSEMBOURG': 29,\n",
       "         'WOLVEGA': 1421,\n",
       "         'WOLVERHAMPTON': 171,\n",
       "         'WORCESTER': 2,\n",
       "         'YARMOUTH': 22,\n",
       "         'YONKERS': 650,\n",
       "         'YORK': 85,\n",
       "         'ZONZA': 16,\n",
       "         'ZURICH': 32})"
      ]
     },
     "execution_count": 57,
     "metadata": {},
     "output_type": "execute_result"
    }
   ],
   "source": [
    "course_hippodrome"
   ]
  },
  {
   "cell_type": "markdown",
   "metadata": {},
   "source": [
    "### Get one race"
   ]
  },
  {
   "cell_type": "code",
   "execution_count": 12,
   "metadata": {},
   "outputs": [
    {
     "name": "stderr",
     "output_type": "stream",
     "text": [
      "\n",
      "  0%|                                                                                                                                                                                                         | 0/2635 [00:00<?, ?it/s]\n"
     ]
    }
   ],
   "source": [
    "for date in tqdm(os.listdir(PMU_DATA_DIR)):\n",
    "    if date == \".ipynb_checkpoints\":\n",
    "        continue\n",
    "    assert re.match(r\"\\d{4}-\\d{2}-\\d{2}\", date)\n",
    "\n",
    "    folder_path = os.path.join(PMU_DATA_DIR, date)\n",
    "\n",
    "    programme_json = utils.load_json(\n",
    "    filename=os.path.join(folder_path, \"programme.json\")\n",
    "    )\n",
    "\n",
    "    if (\n",
    "        programme_json is None or\n",
    "    \"programme\" not in programme_json\n",
    "    or \"reunions\" not in programme_json[\"programme\"]\n",
    "    ):\n",
    "   \n",
    "        continue\n",
    "    \n",
    "    # TODO check course statut TERMINEE or ROUGE_a\n",
    "    for reunion in programme_json[\"programme\"][\"reunions\"]:\n",
    "        for course in reunion[\"courses\"]:\n",
    "            \n",
    "            break\n",
    "        break\n",
    "    break"
   ]
  },
  {
   "cell_type": "code",
   "execution_count": 13,
   "metadata": {},
   "outputs": [
    {
     "data": {
      "text/plain": [
       "{'arriveeDefinitive': True,\n",
       " 'cached': False,\n",
       " 'cagnottes': [],\n",
       " 'categorieParticularite': 'A_RECLAMER_AUTOSTART',\n",
       " 'categorieStatut': 'ARRIVEE',\n",
       " 'conditionSexe': 'TOUS_CHEVAUX',\n",
       " 'conditions': 'PRIX DE SANARY-SUR-MER Course  1 Course R Course \"A RECLAMER\" DÃ©part Ã\\xa0 l\\'Autostart 20.000. - AttelÃ©. - 2.150 mÃ¨tres. 10.000, 5.000, 2.600, 1.200, 600, 400, 200. Pour 8, 9 et 10 ans (R, Q et P), Ã\\xa0 rÃ©clamer pour 20.000.',\n",
       " 'corde': 'CORDE_GAUCHE',\n",
       " 'courseTrackee': False,\n",
       " 'departImminent': False,\n",
       " 'discipline': 'ATTELE',\n",
       " 'distance': 2150,\n",
       " 'distanceUnit': 'METRE',\n",
       " 'dureeCourse': 162660,\n",
       " 'ecuries': [],\n",
       " 'epcPourTousParis': True,\n",
       " 'formuleChampLibreIndisponible': True,\n",
       " 'grandPrixNationalTrot': False,\n",
       " 'hasEParis': False,\n",
       " 'heureDepart': 1361376600000,\n",
       " 'hippodrome': {'codeHippodrome': 'ENG',\n",
       "  'libelleCourt': 'ENGHIEN',\n",
       "  'libelleLong': \"HIPPODROME D'ENGHIEN SOISY\"},\n",
       " 'incidents': [{'numeroParticipants': [3],\n",
       "   'type': 'DISQUALIFIE_POUR_ALLURE_IRREGULIERE'}],\n",
       " 'isArriveeDefinitive': True,\n",
       " 'isDepartAJPlusUn': False,\n",
       " 'isDepartImminent': False,\n",
       " 'libelle': 'PRIX DE SANARY-SUR-MER',\n",
       " 'libelleCourt': 'SANARY / MER',\n",
       " 'montantOffert1er': 10000,\n",
       " 'montantOffert2eme': 5000,\n",
       " 'montantOffert3eme': 2600,\n",
       " 'montantOffert4eme': 1200,\n",
       " 'montantOffert5eme': 600,\n",
       " 'montantPrix': 20000,\n",
       " 'montantTotalOffert': 20000,\n",
       " 'nombreDeclaresPartants': 16,\n",
       " 'numCourseDedoublee': 0,\n",
       " 'numExterne': 1,\n",
       " 'numOrdre': 1,\n",
       " 'numReunion': 3,\n",
       " 'numSocieteMere': 0,\n",
       " 'ordreArrivee': [[4], [5], [11], [8], [12]],\n",
       " 'parcours': '',\n",
       " 'pariMultiCourses': False,\n",
       " 'pariSpecial': False,\n",
       " 'paris': [{'audience': 'NATIONAL',\n",
       "   'codePari': 'SIMPLE_GAGNANT',\n",
       "   'combine': False,\n",
       "   'complement': False,\n",
       "   'enVente': False,\n",
       "   'miseBase': 150,\n",
       "   'nbChevauxReglementaire': 1,\n",
       "   'ordre': False,\n",
       "   'reportable': False,\n",
       "   'spotAutorise': False,\n",
       "   'typePari': 'SIMPLE_GAGNANT'},\n",
       "  {'audience': 'NATIONAL',\n",
       "   'codePari': 'SIMPLE_PLACE',\n",
       "   'combine': False,\n",
       "   'complement': False,\n",
       "   'enVente': False,\n",
       "   'miseBase': 150,\n",
       "   'nbChevauxReglementaire': 1,\n",
       "   'ordre': False,\n",
       "   'reportable': False,\n",
       "   'spotAutorise': False,\n",
       "   'typePari': 'SIMPLE_PLACE'},\n",
       "  {'audience': 'NATIONAL',\n",
       "   'codePari': 'COUPLE_GAGNANT',\n",
       "   'combine': True,\n",
       "   'complement': True,\n",
       "   'enVente': False,\n",
       "   'miseBase': 150,\n",
       "   'nbChevauxReglementaire': 2,\n",
       "   'ordre': False,\n",
       "   'reportable': False,\n",
       "   'spotAutorise': True,\n",
       "   'typePari': 'COUPLE_GAGNANT',\n",
       "   'valeursFlexiAutorisees': [50]},\n",
       "  {'audience': 'NATIONAL',\n",
       "   'codePari': 'COUPLE_PLACE',\n",
       "   'combine': True,\n",
       "   'complement': True,\n",
       "   'enVente': False,\n",
       "   'miseBase': 150,\n",
       "   'nbChevauxReglementaire': 2,\n",
       "   'ordre': False,\n",
       "   'reportable': False,\n",
       "   'spotAutorise': True,\n",
       "   'typePari': 'COUPLE_PLACE',\n",
       "   'valeursFlexiAutorisees': [50]},\n",
       "  {'audience': 'NATIONAL',\n",
       "   'codePari': 'COUPLE_ORDRE',\n",
       "   'combine': True,\n",
       "   'complement': True,\n",
       "   'enVente': False,\n",
       "   'miseBase': 150,\n",
       "   'nbChevauxReglementaire': 2,\n",
       "   'ordre': True,\n",
       "   'reportable': False,\n",
       "   'spotAutorise': True,\n",
       "   'typePari': 'COUPLE_ORDRE',\n",
       "   'valeursFlexiAutorisees': [50]},\n",
       "  {'audience': 'NATIONAL',\n",
       "   'codePari': 'TRIO',\n",
       "   'combine': True,\n",
       "   'complement': True,\n",
       "   'enVente': False,\n",
       "   'miseBase': 150,\n",
       "   'nbChevauxReglementaire': 3,\n",
       "   'ordre': False,\n",
       "   'reportable': False,\n",
       "   'spotAutorise': True,\n",
       "   'typePari': 'TRIO',\n",
       "   'valeursFlexiAutorisees': [50]},\n",
       "  {'audience': 'NATIONAL',\n",
       "   'codePari': 'TRIO_ORDRE',\n",
       "   'combine': True,\n",
       "   'complement': True,\n",
       "   'enVente': False,\n",
       "   'miseBase': 150,\n",
       "   'nbChevauxReglementaire': 3,\n",
       "   'ordre': True,\n",
       "   'reportable': False,\n",
       "   'spotAutorise': True,\n",
       "   'typePari': 'TRIO_ORDRE',\n",
       "   'valeursFlexiAutorisees': [50]},\n",
       "  {'audience': 'NATIONAL',\n",
       "   'codePari': 'DEUX_SUR_QUATRE',\n",
       "   'combine': True,\n",
       "   'complement': True,\n",
       "   'enVente': False,\n",
       "   'miseBase': 300,\n",
       "   'nbChevauxReglementaire': 2,\n",
       "   'ordre': False,\n",
       "   'reportable': False,\n",
       "   'spotAutorise': True,\n",
       "   'typePari': 'DEUX_SUR_QUATRE',\n",
       "   'valeursFlexiAutorisees': [50]},\n",
       "  {'audience': 'NATIONAL',\n",
       "   'codePari': 'MULTI',\n",
       "   'combine': True,\n",
       "   'complement': False,\n",
       "   'enVente': False,\n",
       "   'miseBase': 300,\n",
       "   'nbChevauxReglementaire': 4,\n",
       "   'ordre': False,\n",
       "   'reportable': False,\n",
       "   'spotAutorise': True,\n",
       "   'typePari': 'MULTI',\n",
       "   'valeursFlexiAutorisees': [50],\n",
       "   'valeursRisqueAutorisees': [4, 5, 6, 7]}],\n",
       " 'participants': [],\n",
       " 'pronosticsExpires': True,\n",
       " 'rapportsDefinitifsDisponibles': True,\n",
       " 'replayDisponible': False,\n",
       " 'specialite': 'TROT_ATTELE',\n",
       " 'statut': 'FIN_COURSE',\n",
       " 'timezoneOffset': 3600000}"
      ]
     },
     "execution_count": 13,
     "metadata": {},
     "output_type": "execute_result"
    }
   ],
   "source": [
    "course"
   ]
  },
  {
   "cell_type": "code",
   "execution_count": 16,
   "metadata": {},
   "outputs": [
    {
     "data": {
      "text/plain": [
       "dict_keys(['cached', 'timezoneOffset', 'dateReunion', 'numOfficiel', 'numOfficielReunionPrecedente', 'numOfficielReunionSuivante', 'numExterne', 'nature', 'hippodrome', 'pays', 'courses', 'audience', 'statut', 'disciplinesMere', 'specialites', 'derniereReunion', 'parisEvenement', 'offresInternet', 'cagnottes'])"
      ]
     },
     "execution_count": 16,
     "metadata": {},
     "output_type": "execute_result"
    }
   ],
   "source": [
    "reunion.keys()"
   ]
  },
  {
   "cell_type": "code",
   "execution_count": 18,
   "metadata": {},
   "outputs": [
    {
     "data": {
      "text/plain": [
       "{'code': 'FRA', 'libelle': 'FRANCE'}"
      ]
     },
     "execution_count": 18,
     "metadata": {},
     "output_type": "execute_result"
    }
   ],
   "source": [
    "reunion['pays']"
   ]
  },
  {
   "cell_type": "code",
   "execution_count": 19,
   "metadata": {},
   "outputs": [
    {
     "data": {
      "text/plain": [
       "'TERMINEE'"
      ]
     },
     "execution_count": 19,
     "metadata": {},
     "output_type": "execute_result"
    }
   ],
   "source": [
    "reunion['statut']"
   ]
  },
  {
   "cell_type": "code",
   "execution_count": 20,
   "metadata": {},
   "outputs": [
    {
     "data": {
      "text/plain": [
       "'SEMINOCTURNE'"
      ]
     },
     "execution_count": 20,
     "metadata": {},
     "output_type": "execute_result"
    }
   ],
   "source": [
    "reunion['nature']"
   ]
  },
  {
   "cell_type": "code",
   "execution_count": 21,
   "metadata": {},
   "outputs": [
    {
     "data": {
      "text/plain": [
       "'NATIONAL'"
      ]
     },
     "execution_count": 21,
     "metadata": {},
     "output_type": "execute_result"
    }
   ],
   "source": [
    "reunion['audience']"
   ]
  },
  {
   "cell_type": "code",
   "execution_count": 22,
   "metadata": {},
   "outputs": [
    {
     "data": {
      "text/plain": [
       "[]"
      ]
     },
     "execution_count": 22,
     "metadata": {},
     "output_type": "execute_result"
    }
   ],
   "source": [
    "reunion['cagnottes']"
   ]
  },
  {
   "cell_type": "code",
   "execution_count": 23,
   "metadata": {},
   "outputs": [
    {
     "data": {
      "text/plain": [
       "['TROT_ATTELE', 'TROT_MONTE']"
      ]
     },
     "execution_count": 23,
     "metadata": {},
     "output_type": "execute_result"
    }
   ],
   "source": [
    "reunion['specialites']"
   ]
  },
  {
   "cell_type": "code",
   "execution_count": 37,
   "metadata": {},
   "outputs": [
    {
     "data": {
      "text/plain": [
       "dict_keys(['cached', 'timezoneOffset', 'dateReunion', 'numOfficiel', 'numOfficielReunionPrecedente', 'numOfficielReunionSuivante', 'numExterne', 'nature', 'pays', 'courses', 'audience', 'statut', 'disciplinesMere', 'specialites', 'derniereReunion', 'parisEvenement', 'offresInternet', 'cagnottes'])"
      ]
     },
     "execution_count": 37,
     "metadata": {},
     "output_type": "execute_result"
    }
   ],
   "source": [
    "reunion.keys()"
   ]
  },
  {
   "cell_type": "code",
   "execution_count": 38,
   "metadata": {},
   "outputs": [
    {
     "data": {
      "text/plain": [
       "6"
      ]
     },
     "execution_count": 38,
     "metadata": {},
     "output_type": "execute_result"
    }
   ],
   "source": [
    "reunion['numOfficiel']"
   ]
  },
  {
   "cell_type": "code",
   "execution_count": 24,
   "metadata": {},
   "outputs": [
    {
     "data": {
      "text/plain": [
       "dict_keys(['cached', 'arriveeDefinitive', 'departImminent', 'timezoneOffset', 'numReunion', 'numOrdre', 'numExterne', 'heureDepart', 'libelle', 'libelleCourt', 'montantPrix', 'parcours', 'distance', 'distanceUnit', 'corde', 'discipline', 'specialite', 'categorieParticularite', 'conditionSexe', 'nombreDeclaresPartants', 'grandPrixNationalTrot', 'numSocieteMere', 'pariMultiCourses', 'pariSpecial', 'montantTotalOffert', 'montantOffert1er', 'montantOffert2eme', 'montantOffert3eme', 'montantOffert4eme', 'montantOffert5eme', 'conditions', 'numCourseDedoublee', 'paris', 'statut', 'categorieStatut', 'dureeCourse', 'participants', 'ecuries', 'incidents', 'rapportsDefinitifsDisponibles', 'isArriveeDefinitive', 'isDepartImminent', 'isDepartAJPlusUn', 'cagnottes', 'pronosticsExpires', 'replayDisponible', 'hippodrome', 'epcPourTousParis', 'courseTrackee', 'formuleChampLibreIndisponible', 'ordreArrivee', 'hasEParis'])"
      ]
     },
     "execution_count": 24,
     "metadata": {},
     "output_type": "execute_result"
    }
   ],
   "source": [
    "course.keys()"
   ]
  },
  {
   "cell_type": "code",
   "execution_count": 25,
   "metadata": {},
   "outputs": [
    {
     "data": {
      "text/plain": [
       "'CORDE_GAUCHE'"
      ]
     },
     "execution_count": 25,
     "metadata": {},
     "output_type": "execute_result"
    }
   ],
   "source": [
    "course['corde']"
   ]
  },
  {
   "cell_type": "code",
   "execution_count": 26,
   "metadata": {},
   "outputs": [
    {
     "data": {
      "text/plain": [
       "''"
      ]
     },
     "execution_count": 26,
     "metadata": {},
     "output_type": "execute_result"
    }
   ],
   "source": [
    "course['parcours']"
   ]
  },
  {
   "cell_type": "code",
   "execution_count": 27,
   "metadata": {},
   "outputs": [
    {
     "data": {
      "text/plain": [
       "'ATTELE'"
      ]
     },
     "execution_count": 27,
     "metadata": {},
     "output_type": "execute_result"
    }
   ],
   "source": [
    "course['discipline']"
   ]
  },
  {
   "cell_type": "code",
   "execution_count": 28,
   "metadata": {},
   "outputs": [
    {
     "data": {
      "text/plain": [
       "'TROT_ATTELE'"
      ]
     },
     "execution_count": 28,
     "metadata": {},
     "output_type": "execute_result"
    }
   ],
   "source": [
    "course['specialite']"
   ]
  },
  {
   "cell_type": "code",
   "execution_count": 39,
   "metadata": {},
   "outputs": [
    {
     "data": {
      "text/plain": [
       "'TOUS_CHEVAUX'"
      ]
     },
     "execution_count": 39,
     "metadata": {},
     "output_type": "execute_result"
    }
   ],
   "source": [
    "course['conditionSexe']"
   ]
  },
  {
   "cell_type": "code",
   "execution_count": 40,
   "metadata": {},
   "outputs": [
    {
     "data": {
      "text/plain": [
       "'Pour pur sang males, hongres et femelles de trois ans et plus.'"
      ]
     },
     "execution_count": 40,
     "metadata": {},
     "output_type": "execute_result"
    }
   ],
   "source": [
    "course['conditions']"
   ]
  },
  {
   "cell_type": "code",
   "execution_count": 43,
   "metadata": {},
   "outputs": [
    {
     "ename": "KeyError",
     "evalue": "'hippodrome'",
     "output_type": "error",
     "traceback": [
      "\u001b[1;31m---------------------------------------------------------------------------\u001b[0m",
      "\u001b[1;31mKeyError\u001b[0m                                  Traceback (most recent call last)",
      "\u001b[1;32m<ipython-input-43-05ad58b16aa3>\u001b[0m in \u001b[0;36m<module>\u001b[1;34m()\u001b[0m\n\u001b[1;32m----> 1\u001b[1;33m \u001b[0mcourse\u001b[0m\u001b[1;33m[\u001b[0m\u001b[1;34m'hippodrome'\u001b[0m\u001b[1;33m]\u001b[0m\u001b[1;33m\u001b[0m\u001b[0m\n\u001b[0m",
      "\u001b[1;31mKeyError\u001b[0m: 'hippodrome'"
     ]
    }
   ],
   "source": [
    "course['hippodrome']"
   ]
  },
  {
   "cell_type": "code",
   "execution_count": null,
   "metadata": {},
   "outputs": [],
   "source": []
  }
 ],
 "metadata": {
  "kernelspec": {
   "display_name": "Python 3",
   "language": "python",
   "name": "python3"
  },
  "language_info": {
   "codemirror_mode": {
    "name": "ipython",
    "version": 3
   },
   "file_extension": ".py",
   "mimetype": "text/x-python",
   "name": "python",
   "nbconvert_exporter": "python",
   "pygments_lexer": "ipython3",
   "version": "3.6.4"
  }
 },
 "nbformat": 4,
 "nbformat_minor": 4
}
