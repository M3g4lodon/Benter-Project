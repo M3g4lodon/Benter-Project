{
 "cells": [
  {
   "cell_type": "code",
   "execution_count": 13,
   "metadata": {},
   "outputs": [
    {
     "name": "stdout",
     "output_type": "stream",
     "text": [
      "C:\\Users\\Mathieu\\Desktop\\Projets\\Benter\n"
     ]
    }
   ],
   "source": [
    "%cd C:/Users/Mathieu/Desktop/Projets/Benter"
   ]
  },
  {
   "cell_type": "code",
   "execution_count": 14,
   "metadata": {},
   "outputs": [],
   "source": [
    "import datetime as dt\n",
    "import numpy as np\n",
    "import pandas as pd\n",
    "\n",
    "from scripts.scrape_pmu_data import get_pmu_api_url, execute_get_query\n",
    "from scripts.generate_pmu_data import get_num_pmu_enjeu, convert_queried_data_to_race_horse_df\n",
    "\n",
    "from utils import features\n",
    "from utils import import_data\n",
    "from utils import model as utils_model\n",
    "from utils import wagering_stategy\n",
    "from constants import PMU_BETTINGS"
   ]
  },
  {
   "cell_type": "code",
   "execution_count": 15,
   "metadata": {},
   "outputs": [],
   "source": [
    "TIMEZONE = 'Europe/Paris'\n",
    "import pytz\n",
    "tz = pytz.timezone('Europe/Paris')"
   ]
  },
  {
   "cell_type": "code",
   "execution_count": 16,
   "metadata": {},
   "outputs": [],
   "source": [
    "date= dt.date.today()\n",
    "#date = date - dt.timedelta(days=1)\n",
    "code_pari = \"E_SIMPLE_GAGNANT\"\n",
    "capital_fraction=0.01"
   ]
  },
  {
   "cell_type": "code",
   "execution_count": 17,
   "metadata": {},
   "outputs": [],
   "source": [
    "def get_num_pmu_citation_enjeu(citations: dict, pari_type: str):\n",
    "    if \"listeCitations\" not in citations:\n",
    "        return None\n",
    "    citations_ = [citation for citation in citations['listeCitations'] if citation['typePari']==code_pari]\n",
    "    assert len(citations_) <= 1\n",
    "    if not citations_:\n",
    "        return None\n",
    "    citation = citations_[0]\n",
    "    if \"participants\" not in citation:\n",
    "        return None\n",
    "\n",
    "    return {\n",
    "        part['numPmu']: part['citations'][0]['enjeu']\n",
    "        for part in citation['participants']\n",
    "    }"
   ]
  },
  {
   "cell_type": "code",
   "execution_count": 18,
   "metadata": {},
   "outputs": [],
   "source": [
    "programme = execute_get_query(url=get_pmu_api_url(url_name=\"PROGRAMME\", date=date))"
   ]
  },
  {
   "cell_type": "code",
   "execution_count": 19,
   "metadata": {},
   "outputs": [],
   "source": [
    "historical_race_horse_df = import_data.load_featured_data(source=\"PMU\")\n",
    "\n",
    "utils_model.load_shared_layers(trainable=False)\n",
    "_,_,_,median_na_feature_filler=import_data.get_splitted_featured_data(source='PMU')\n",
    "track_take = [betting for betting in PMU_BETTINGS if betting.name == code_pari][0][\n",
    "        1\n",
    "    ]"
   ]
  },
  {
   "cell_type": "code",
   "execution_count": 38,
   "metadata": {},
   "outputs": [
    {
     "name": "stdout",
     "output_type": "stream",
     "text": [
      "Time to next race: 0:01:15.562255, date 2020-04-27, R7 C5\n"
     ]
    },
    {
     "name": "stderr",
     "output_type": "stream",
     "text": [
      " 42%|█████████████████████████████████████████████████████████████████████████████████▎                                                                                                                 | 5/12 [00:01<00:01,  4.00it/s]C:\\Users\\Mathieu\\Anaconda3\\envs\\deeplearning\\lib\\site-packages\\numpy\\core\\fromnumeric.py:3335: RuntimeWarning: Mean of empty slice.\n",
      "  out=out, **kwargs)\n",
      "C:\\Users\\Mathieu\\Anaconda3\\envs\\deeplearning\\lib\\site-packages\\numpy\\core\\_methods.py:161: RuntimeWarning: invalid value encountered in double_scalars\n",
      "  ret = ret.dtype.type(ret / rcount)\n",
      "100%|██████████████████████████████████████████████████████████████████████████████████████████████████████████████████████████████████████████████████████████████████████████████████████████████████| 12/12 [00:02<00:00,  4.80it/s]\n"
     ]
    },
    {
     "name": "stdout",
     "output_type": "stream",
     "text": [
      "                     horse_name  betting\n",
      "horse_number                            \n",
      "1                    LOS SUENOS     0.00\n",
      "2                       MIZONEY     0.00\n",
      "3               MAYDAY'S PARADE     0.00\n",
      "4                   SEBASTIANNA     0.00\n",
      "5                  SO SO SAUCEY     0.00\n",
      "6                LUCKY LIZA ANN     0.01\n",
      "7             GOSPEL TRUMPY ANN     0.00\n",
      "8                   LANDRY KYLE     0.00\n",
      "9                CHIRON ECLIPSE     0.00\n",
      "10                RAT A TAT TAT     0.00\n",
      "11              POSSE GONE WILD     0.00\n",
      "12            PULPIT'S PRINCESS     0.00\n",
      "Wall time: 6.94 s\n"
     ]
    }
   ],
   "source": [
    "%%time\n",
    "\n",
    "dt_now = tz.localize(dt.datetime.now())\n",
    "\n",
    "race_times = {}\n",
    "for reunion in programme['programme']['reunions']:\n",
    "    for course in reunion['courses']:\n",
    "        race_times[(date, course[\"numReunion\"], course[\"numOrdre\"])]=dt.datetime.fromtimestamp(\n",
    "                    course[\"heureDepart\"] / 1000,\n",
    "                    tz=dt.timezone(dt.timedelta(milliseconds=course[\"timezoneOffset\"])),\n",
    "                )-dt_now\n",
    "\n",
    "coming_races = {(date, r_i, c_i):time_to_race for (date, r_i, c_i), time_to_race in race_times.items() if time_to_race.total_seconds()>0}\n",
    "next_date, r_i, c_i = min(coming_races, key=coming_races.get)\n",
    "print(f\"Time to next race: {coming_races[(next_date, r_i, c_i)]}, date {date}, R{r_i} C{c_i}\")\n",
    "\n",
    "courses_ = [course for reunion in programme['programme']['reunions'] for course in reunion['courses'] if course[\"numReunion\"]==r_i and course[\"numOrdre\"]==c_i]\n",
    "assert len(courses_)==1\n",
    "course=courses_[0]\n",
    "\n",
    "course_race_datetime = dt.datetime.fromtimestamp(\n",
    "    course[\"heureDepart\"] / 1000,\n",
    "    tz=dt.timezone(dt.timedelta(milliseconds=course[\"timezoneOffset\"])),\n",
    ")\n",
    "\n",
    "participants_ = execute_get_query(url=get_pmu_api_url(url_name=\"PARTICIPANTS\", date=date, r_i=r_i, c_i=c_i))\n",
    "assert \"participants\" in participants_\n",
    "\n",
    "participants_ = participants_[\"participants\"]\n",
    "participants = [\n",
    "    {k: v for k, v in part.items() if not isinstance(v, dict)}\n",
    "    for part in participants_\n",
    "]\n",
    "course_incidents = course[\"incidents\"] if \"incidents\" in course else []\n",
    "incident_nums = {\n",
    "    num_part\n",
    "    for incident in course_incidents\n",
    "    for num_part in incident[\"numeroParticipants\"]\n",
    "}\n",
    "\n",
    "combinaisons =  execute_get_query(url=get_pmu_api_url(url_name=\"COMBINAISONS\", date=date, r_i=r_i, c_i=c_i)+\"?specialisation=INTERNET\")\n",
    "citations =  execute_get_query(url=get_pmu_api_url(url_name=\"CITATIONS\", date=date, r_i=r_i, c_i=c_i)+\"?specialisation=INTERNET\")\n",
    "num_pmu_enjeu = get_num_pmu_enjeu(\n",
    "    combinaisons=combinaisons, pari_type=\"E_SIMPLE_GAGNANT\"\n",
    ")\n",
    "\n",
    "num_pmu_citation_enjeu =get_num_pmu_citation_enjeu(citations=citations, pari_type=\"E_SIMPLE_GAGNANT\")\n",
    "\n",
    "for part, part_ in zip(participants, participants_):\n",
    "    # Other dict key found {'commentaireApresCourse',\n",
    "    #  'dernierRapportDirect',\n",
    "    #  'dernierRapportReference',\n",
    "    #  'distanceChevalPrecedent',\n",
    "    #  'gainsParticipant', # added here\n",
    "    #  'robe'}\n",
    "    if \"gainsParticipant\" in part_:\n",
    "        part.update(part_[\"gainsParticipant\"])\n",
    "    part[\"n_reunion\"] = r_i\n",
    "    part[\"n_course\"] = c_i\n",
    "    part[\"date\"] = date\n",
    "    part[\"race_datetime\"] = course_race_datetime\n",
    "    part[\"in_incident\"] = part[\"numPmu\"] in incident_nums\n",
    "    part[\"incident_type\"] = (\n",
    "        None\n",
    "        if part[\"numPmu\"] not in incident_nums\n",
    "        else [\n",
    "            incident[\"type\"]\n",
    "            for incident in course_incidents\n",
    "            if part[\"numPmu\"] in incident[\"numeroParticipants\"]\n",
    "        ][0]\n",
    "    )\n",
    "    part[\"totalEnjeu\"] = (\n",
    "        None\n",
    "        if num_pmu_citation_enjeu is None\n",
    "        else num_pmu_citation_enjeu.get(part[\"numPmu\"], None)\n",
    "    )\n",
    "\n",
    "race_df = pd.DataFrame.from_records(participants)\n",
    "\n",
    "race_df = convert_queried_data_to_race_horse_df(queried_race_horse_df=race_df, historical_race_horse_df=historical_race_horse_df)\n",
    "\n",
    "race_df=features.append_features(race_horse_df=race_df, historical_race_horse_df=historical_race_horse_df)\n",
    "race_df=race_df[race_df['statut']!=\"NON_PARTANT\"]\n",
    "\n",
    "race_df['horse_place']=np.nan\n",
    "\n",
    "x_race, y_race, odds_race = import_data.extract_x_y_odds(race_df=race_df, y_format='first_position', median_na_feature_filler=median_na_feature_filler, ignore_y=True)\n",
    "bettings = wagering_stategy.race_betting_best_expected_return(x_race=x_race, odds_race=odds_race, track_take=track_take, capital_fraction=capital_fraction)\n",
    "\n",
    "race_df['betting']=bettings\n",
    "\n",
    "print(race_df[['horse_number','horse_name','betting']].set_index('horse_number'))"
   ]
  },
  {
   "cell_type": "code",
   "execution_count": 35,
   "metadata": {},
   "outputs": [
    {
     "data": {
      "text/html": [
       "<div>\n",
       "<style scoped>\n",
       "    .dataframe tbody tr th:only-of-type {\n",
       "        vertical-align: middle;\n",
       "    }\n",
       "\n",
       "    .dataframe tbody tr th {\n",
       "        vertical-align: top;\n",
       "    }\n",
       "\n",
       "    .dataframe thead th {\n",
       "        text-align: right;\n",
       "    }\n",
       "</style>\n",
       "<table border=\"1\" class=\"dataframe\">\n",
       "  <thead>\n",
       "    <tr style=\"text-align: right;\">\n",
       "      <th></th>\n",
       "      <th>horse_name</th>\n",
       "      <th>statut</th>\n",
       "      <th>totalEnjeu</th>\n",
       "      <th>betting</th>\n",
       "    </tr>\n",
       "    <tr>\n",
       "      <th>horse_number</th>\n",
       "      <th></th>\n",
       "      <th></th>\n",
       "      <th></th>\n",
       "      <th></th>\n",
       "    </tr>\n",
       "  </thead>\n",
       "  <tbody>\n",
       "    <tr>\n",
       "      <th>1</th>\n",
       "      <td>LOS SUENOS</td>\n",
       "      <td>PARTANT</td>\n",
       "      <td>46215</td>\n",
       "      <td>0.00</td>\n",
       "    </tr>\n",
       "    <tr>\n",
       "      <th>2</th>\n",
       "      <td>MIZONEY</td>\n",
       "      <td>PARTANT</td>\n",
       "      <td>23220</td>\n",
       "      <td>0.00</td>\n",
       "    </tr>\n",
       "    <tr>\n",
       "      <th>3</th>\n",
       "      <td>MAYDAY'S PARADE</td>\n",
       "      <td>PARTANT</td>\n",
       "      <td>15850</td>\n",
       "      <td>0.00</td>\n",
       "    </tr>\n",
       "    <tr>\n",
       "      <th>4</th>\n",
       "      <td>SEBASTIANNA</td>\n",
       "      <td>PARTANT</td>\n",
       "      <td>17030</td>\n",
       "      <td>0.00</td>\n",
       "    </tr>\n",
       "    <tr>\n",
       "      <th>5</th>\n",
       "      <td>SO SO SAUCEY</td>\n",
       "      <td>PARTANT</td>\n",
       "      <td>11190</td>\n",
       "      <td>0.00</td>\n",
       "    </tr>\n",
       "    <tr>\n",
       "      <th>6</th>\n",
       "      <td>LUCKY LIZA ANN</td>\n",
       "      <td>PARTANT</td>\n",
       "      <td>12825</td>\n",
       "      <td>0.01</td>\n",
       "    </tr>\n",
       "    <tr>\n",
       "      <th>7</th>\n",
       "      <td>GOSPEL TRUMPY ANN</td>\n",
       "      <td>PARTANT</td>\n",
       "      <td>11625</td>\n",
       "      <td>0.00</td>\n",
       "    </tr>\n",
       "    <tr>\n",
       "      <th>8</th>\n",
       "      <td>LANDRY KYLE</td>\n",
       "      <td>PARTANT</td>\n",
       "      <td>55890</td>\n",
       "      <td>0.00</td>\n",
       "    </tr>\n",
       "    <tr>\n",
       "      <th>9</th>\n",
       "      <td>CHIRON ECLIPSE</td>\n",
       "      <td>PARTANT</td>\n",
       "      <td>28450</td>\n",
       "      <td>0.00</td>\n",
       "    </tr>\n",
       "    <tr>\n",
       "      <th>10</th>\n",
       "      <td>RAT A TAT TAT</td>\n",
       "      <td>PARTANT</td>\n",
       "      <td>10275</td>\n",
       "      <td>0.00</td>\n",
       "    </tr>\n",
       "    <tr>\n",
       "      <th>11</th>\n",
       "      <td>POSSE GONE WILD</td>\n",
       "      <td>PARTANT</td>\n",
       "      <td>39080</td>\n",
       "      <td>0.00</td>\n",
       "    </tr>\n",
       "    <tr>\n",
       "      <th>12</th>\n",
       "      <td>PULPIT'S PRINCESS</td>\n",
       "      <td>PARTANT</td>\n",
       "      <td>6950</td>\n",
       "      <td>0.00</td>\n",
       "    </tr>\n",
       "  </tbody>\n",
       "</table>\n",
       "</div>"
      ],
      "text/plain": [
       "                     horse_name   statut  totalEnjeu  betting\n",
       "horse_number                                                 \n",
       "1                    LOS SUENOS  PARTANT       46215     0.00\n",
       "2                       MIZONEY  PARTANT       23220     0.00\n",
       "3               MAYDAY'S PARADE  PARTANT       15850     0.00\n",
       "4                   SEBASTIANNA  PARTANT       17030     0.00\n",
       "5                  SO SO SAUCEY  PARTANT       11190     0.00\n",
       "6                LUCKY LIZA ANN  PARTANT       12825     0.01\n",
       "7             GOSPEL TRUMPY ANN  PARTANT       11625     0.00\n",
       "8                   LANDRY KYLE  PARTANT       55890     0.00\n",
       "9                CHIRON ECLIPSE  PARTANT       28450     0.00\n",
       "10                RAT A TAT TAT  PARTANT       10275     0.00\n",
       "11              POSSE GONE WILD  PARTANT       39080     0.00\n",
       "12            PULPIT'S PRINCESS  PARTANT        6950     0.00"
      ]
     },
     "execution_count": 35,
     "metadata": {},
     "output_type": "execute_result"
    }
   ],
   "source": [
    "race_df[['horse_name', 'horse_number', 'statut', 'totalEnjeu', 'betting']].set_index('horse_number')"
   ]
  },
  {
   "cell_type": "code",
   "execution_count": 25,
   "metadata": {},
   "outputs": [
    {
     "data": {
      "text/plain": [
       "{1: 29095, 2: 91965, 3: 36720, 4: 152780, 5: 221993, 6: 20740, 7: 121795}"
      ]
     },
     "execution_count": 25,
     "metadata": {},
     "output_type": "execute_result"
    }
   ],
   "source": [
    "num_pmu_enjeu"
   ]
  },
  {
   "cell_type": "code",
   "execution_count": 26,
   "metadata": {},
   "outputs": [
    {
     "data": {
      "text/plain": [
       "{1: 29095, 2: 91965, 3: 36720, 4: 152780, 5: 221993, 6: 20740, 7: 121795}"
      ]
     },
     "execution_count": 26,
     "metadata": {},
     "output_type": "execute_result"
    }
   ],
   "source": [
    "num_pmu_citation_enjeu"
   ]
  },
  {
   "cell_type": "code",
   "execution_count": 64,
   "metadata": {},
   "outputs": [],
   "source": [
    "STATUS = set()\n",
    "for reunion in programme['programme']['reunions']:\n",
    "    for course in reunion['courses']:\n",
    "        STATUS.add(course['statut'])"
   ]
  },
  {
   "cell_type": "code",
   "execution_count": 65,
   "metadata": {},
   "outputs": [
    {
     "data": {
      "text/plain": [
       "{'FIN_COURSE', 'PROGRAMMEE', 'ROUGE_AUX_PARTANTS'}"
      ]
     },
     "execution_count": 65,
     "metadata": {},
     "output_type": "execute_result"
    }
   ],
   "source": [
    "STATUS"
   ]
  },
  {
   "cell_type": "code",
   "execution_count": 31,
   "metadata": {},
   "outputs": [
    {
     "data": {
      "text/plain": [
       "1587933060000"
      ]
     },
     "execution_count": 31,
     "metadata": {},
     "output_type": "execute_result"
    }
   ],
   "source": [
    "course['heureDepart']"
   ]
  },
  {
   "cell_type": "code",
   "execution_count": 9,
   "metadata": {},
   "outputs": [],
   "source": [
    "course_datetime = dt.datetime.fromtimestamp(\n",
    "                    course[\"heureDepart\"] / 1000,\n",
    "                    tz=dt.timezone(dt.timedelta(milliseconds=course[\"timezoneOffset\"])),\n",
    "                )"
   ]
  },
  {
   "cell_type": "code",
   "execution_count": 45,
   "metadata": {},
   "outputs": [],
   "source": [
    "race_times = {}\n",
    "for reunion in programme['programme']['reunions']:\n",
    "    for course in reunion['courses']:\n",
    "        race_times[(date, course[\"numReunion\"], course[\"numOrdre\"])]=dt.datetime.fromtimestamp(\n",
    "                    course[\"heureDepart\"] / 1000,\n",
    "                    tz=dt.timezone(dt.timedelta(milliseconds=course[\"timezoneOffset\"])),\n",
    "                )-dt_now\n",
    "\n",
    "coming_races = {(date, r_i, c_i):time_to_race for (date, r_i, c_i), time_to_race in race_times.items() if time_to_race.total_seconds()>0}\n",
    "next_date, next_r_i, next_c_i = min(coming_races, key=coming_races.get)"
   ]
  },
  {
   "cell_type": "code",
   "execution_count": 37,
   "metadata": {},
   "outputs": [],
   "source": [
    "a=(dt.datetime.fromtimestamp(\n",
    "                    course[\"heureDepart\"] / 1000,\n",
    "                    tz=dt.timezone(dt.timedelta(milliseconds=course[\"timezoneOffset\"])),\n",
    "                )-dt_now)\n"
   ]
  },
  {
   "cell_type": "code",
   "execution_count": 40,
   "metadata": {},
   "outputs": [
    {
     "data": {
      "text/plain": [
       "21379.181815"
      ]
     },
     "execution_count": 40,
     "metadata": {},
     "output_type": "execute_result"
    }
   ],
   "source": [
    "a.total_seconds()"
   ]
  },
  {
   "cell_type": "code",
   "execution_count": 21,
   "metadata": {},
   "outputs": [
    {
     "data": {
      "text/plain": [
       "datetime.timedelta(0, 10081, 737748)"
      ]
     },
     "execution_count": 21,
     "metadata": {},
     "output_type": "execute_result"
    }
   ],
   "source": [
    "-list(race_times.values())[0]"
   ]
  },
  {
   "cell_type": "code",
   "execution_count": 22,
   "metadata": {},
   "outputs": [
    {
     "data": {
      "text/plain": [
       "datetime.datetime(2020, 4, 26, 13, 45, tzinfo=datetime.timezone(datetime.timedelta(0, 7200)))"
      ]
     },
     "execution_count": 22,
     "metadata": {},
     "output_type": "execute_result"
    }
   ],
   "source": [
    "list(race_times.values())[0]"
   ]
  },
  {
   "cell_type": "code",
   "execution_count": null,
   "metadata": {},
   "outputs": [],
   "source": [
    "# Exploring my winning race R1C11 27/04/2020 à 21h49"
   ]
  },
  {
   "cell_type": "code",
   "execution_count": 39,
   "metadata": {},
   "outputs": [
    {
     "data": {
      "text/plain": [
       "datetime.date(2020, 4, 27)"
      ]
     },
     "execution_count": 39,
     "metadata": {},
     "output_type": "execute_result"
    }
   ],
   "source": [
    "date"
   ]
  },
  {
   "cell_type": "code",
   "execution_count": 41,
   "metadata": {},
   "outputs": [],
   "source": [
    "r_i=1\n",
    "c_i=11"
   ]
  },
  {
   "cell_type": "code",
   "execution_count": 42,
   "metadata": {},
   "outputs": [
    {
     "name": "stderr",
     "output_type": "stream",
     "text": [
      "100%|██████████████████████████████████████████████████████████████████████████████████████████████████████████████████████████████████████████████████████████████████████████████████████████████████| 11/11 [00:02<00:00,  4.53it/s]\n"
     ]
    },
    {
     "name": "stdout",
     "output_type": "stream",
     "text": [
      "                    horse_name  betting\n",
      "horse_number                           \n",
      "1              MUSIC'S CLASSIC     0.00\n",
      "2                  RED CROSSER     0.00\n",
      "3                AGNES LIXARVE     0.00\n",
      "4                    EASY COPI     0.00\n",
      "5              LIVI ON THE RUN     0.00\n",
      "6             KING SIR RAYMOND     0.00\n",
      "7             STEPPING FERRARI     0.00\n",
      "8               GLOBAL WILDCAT     0.01\n",
      "9                 WISS ZORNITA     0.00\n",
      "10              ST NO MORE WAR     0.00\n",
      "11                 MIDAS METAN     0.00\n"
     ]
    }
   ],
   "source": [
    "courses_ = [course for reunion in programme['programme']['reunions'] for course in reunion['courses'] if course[\"numReunion\"]==r_i and course[\"numOrdre\"]==c_i]\n",
    "assert len(courses_)==1\n",
    "course=courses_[0]\n",
    "\n",
    "course_race_datetime = dt.datetime.fromtimestamp(\n",
    "    course[\"heureDepart\"] / 1000,\n",
    "    tz=dt.timezone(dt.timedelta(milliseconds=course[\"timezoneOffset\"])),\n",
    ")\n",
    "\n",
    "participants_ = execute_get_query(url=get_pmu_api_url(url_name=\"PARTICIPANTS\", date=date, r_i=r_i, c_i=c_i))\n",
    "assert \"participants\" in participants_\n",
    "\n",
    "participants_ = participants_[\"participants\"]\n",
    "participants = [\n",
    "    {k: v for k, v in part.items() if not isinstance(v, dict)}\n",
    "    for part in participants_\n",
    "]\n",
    "course_incidents = course[\"incidents\"] if \"incidents\" in course else []\n",
    "incident_nums = {\n",
    "    num_part\n",
    "    for incident in course_incidents\n",
    "    for num_part in incident[\"numeroParticipants\"]\n",
    "}\n",
    "\n",
    "combinaisons =  execute_get_query(url=get_pmu_api_url(url_name=\"COMBINAISONS\", date=date, r_i=r_i, c_i=c_i)+\"?specialisation=INTERNET\")\n",
    "citations =  execute_get_query(url=get_pmu_api_url(url_name=\"CITATIONS\", date=date, r_i=r_i, c_i=c_i)+\"?specialisation=INTERNET\")\n",
    "num_pmu_enjeu = get_num_pmu_enjeu(\n",
    "    combinaisons=combinaisons, pari_type=\"E_SIMPLE_GAGNANT\"\n",
    ")\n",
    "\n",
    "num_pmu_citation_enjeu =get_num_pmu_citation_enjeu(citations=citations, pari_type=\"E_SIMPLE_GAGNANT\")\n",
    "\n",
    "for part, part_ in zip(participants, participants_):\n",
    "    # Other dict key found {'commentaireApresCourse',\n",
    "    #  'dernierRapportDirect',\n",
    "    #  'dernierRapportReference',\n",
    "    #  'distanceChevalPrecedent',\n",
    "    #  'gainsParticipant', # added here\n",
    "    #  'robe'}\n",
    "    if \"gainsParticipant\" in part_:\n",
    "        part.update(part_[\"gainsParticipant\"])\n",
    "    part[\"n_reunion\"] = r_i\n",
    "    part[\"n_course\"] = c_i\n",
    "    part[\"date\"] = date\n",
    "    part[\"race_datetime\"] = course_race_datetime\n",
    "    part[\"in_incident\"] = part[\"numPmu\"] in incident_nums\n",
    "    part[\"incident_type\"] = (\n",
    "        None\n",
    "        if part[\"numPmu\"] not in incident_nums\n",
    "        else [\n",
    "            incident[\"type\"]\n",
    "            for incident in course_incidents\n",
    "            if part[\"numPmu\"] in incident[\"numeroParticipants\"]\n",
    "        ][0]\n",
    "    )\n",
    "    part[\"totalEnjeu\"] = (\n",
    "        None\n",
    "        if num_pmu_citation_enjeu is None\n",
    "        else num_pmu_citation_enjeu.get(part[\"numPmu\"], None)\n",
    "    )\n",
    "\n",
    "race_df = pd.DataFrame.from_records(participants)\n",
    "\n",
    "race_df = convert_queried_data_to_race_horse_df(queried_race_horse_df=race_df, historical_race_horse_df=historical_race_horse_df)\n",
    "\n",
    "race_df=features.append_features(race_horse_df=race_df, historical_race_horse_df=historical_race_horse_df)\n",
    "race_df=race_df[race_df['statut']!=\"NON_PARTANT\"]\n",
    "\n",
    "race_df['horse_place']=np.nan\n",
    "\n",
    "x_race, y_race, odds_race = import_data.extract_x_y_odds(race_df=race_df, y_format='first_position', median_na_feature_filler=median_na_feature_filler, ignore_y=True)\n",
    "bettings = wagering_stategy.race_betting_best_expected_return(x_race=x_race, odds_race=odds_race, track_take=track_take, capital_fraction=capital_fraction)\n",
    "\n",
    "race_df['betting']=bettings\n",
    "\n",
    "print(race_df[['horse_number','horse_name','betting']].set_index('horse_number'))"
   ]
  },
  {
   "cell_type": "code",
   "execution_count": 43,
   "metadata": {},
   "outputs": [
    {
     "data": {
      "text/plain": [
       "array([17.12823498, 67.50344097, 21.85392328,  9.84436038,  4.47357373,\n",
       "       22.84924143,  4.48653308, 40.37382586, 58.18129278,  6.31288678,\n",
       "       11.24710033])"
      ]
     },
     "execution_count": 43,
     "metadata": {},
     "output_type": "execute_result"
    }
   ],
   "source": [
    "odds_race"
   ]
  },
  {
   "cell_type": "code",
   "execution_count": 52,
   "metadata": {},
   "outputs": [],
   "source": [
    "n_horses = x_race.shape[0]\n",
    "\n",
    "model = utils_model.create_model(n_horses=n_horses, y_format=\"probabilities\")\n",
    "y_hat_race = model.predict(x=np.expand_dims(x_race, axis=0))[0, :]\n",
    "\n",
    "expected_return_race = y_hat_race * odds_race * (1 - track_take)\n",
    "\n",
    "race_df['y_hat']=y_hat_race\n",
    "race_df['expected_return']=expected_return_race"
   ]
  },
  {
   "cell_type": "code",
   "execution_count": 53,
   "metadata": {},
   "outputs": [
    {
     "data": {
      "text/plain": [
       "0     0.972621\n",
       "1     1.544366\n",
       "2     2.591441\n",
       "3     1.001817\n",
       "4     0.655754\n",
       "5     1.273744\n",
       "6     0.472859\n",
       "7     2.728590\n",
       "8     1.203117\n",
       "9     0.103905\n",
       "10    1.670707\n",
       "Name: expected_return, dtype: float64"
      ]
     },
     "execution_count": 53,
     "metadata": {},
     "output_type": "execute_result"
    }
   ],
   "source": [
    "race_df['expected_return']"
   ]
  },
  {
   "cell_type": "code",
   "execution_count": 60,
   "metadata": {},
   "outputs": [
    {
     "data": {
      "text/html": [
       "<div>\n",
       "<style scoped>\n",
       "    .dataframe tbody tr th:only-of-type {\n",
       "        vertical-align: middle;\n",
       "    }\n",
       "\n",
       "    .dataframe tbody tr th {\n",
       "        vertical-align: top;\n",
       "    }\n",
       "\n",
       "    .dataframe thead th {\n",
       "        text-align: right;\n",
       "    }\n",
       "</style>\n",
       "<table border=\"1\" class=\"dataframe\">\n",
       "  <thead>\n",
       "    <tr style=\"text-align: right;\">\n",
       "      <th></th>\n",
       "      <th>horse_name</th>\n",
       "      <th>totalEnjeu</th>\n",
       "      <th>odds</th>\n",
       "      <th>y_hat</th>\n",
       "      <th>expected_return</th>\n",
       "    </tr>\n",
       "    <tr>\n",
       "      <th>horse_number</th>\n",
       "      <th></th>\n",
       "      <th></th>\n",
       "      <th></th>\n",
       "      <th></th>\n",
       "      <th></th>\n",
       "    </tr>\n",
       "  </thead>\n",
       "  <tbody>\n",
       "    <tr>\n",
       "      <th>1</th>\n",
       "      <td>MUSIC'S CLASSIC</td>\n",
       "      <td>44668</td>\n",
       "      <td>17.128235</td>\n",
       "      <td>0.065952</td>\n",
       "      <td>0.972621</td>\n",
       "    </tr>\n",
       "    <tr>\n",
       "      <th>2</th>\n",
       "      <td>RED CROSSER</td>\n",
       "      <td>11334</td>\n",
       "      <td>67.503441</td>\n",
       "      <td>0.026572</td>\n",
       "      <td>1.544366</td>\n",
       "    </tr>\n",
       "    <tr>\n",
       "      <th>3</th>\n",
       "      <td>AGNES LIXARVE</td>\n",
       "      <td>35009</td>\n",
       "      <td>21.853923</td>\n",
       "      <td>0.137724</td>\n",
       "      <td>2.591441</td>\n",
       "    </tr>\n",
       "    <tr>\n",
       "      <th>4</th>\n",
       "      <td>EASY COPI</td>\n",
       "      <td>77718</td>\n",
       "      <td>9.844360</td>\n",
       "      <td>0.118195</td>\n",
       "      <td>1.001817</td>\n",
       "    </tr>\n",
       "    <tr>\n",
       "      <th>5</th>\n",
       "      <td>LIVI ON THE RUN</td>\n",
       "      <td>171023</td>\n",
       "      <td>4.473574</td>\n",
       "      <td>0.170248</td>\n",
       "      <td>0.655754</td>\n",
       "    </tr>\n",
       "    <tr>\n",
       "      <th>6</th>\n",
       "      <td>KING SIR RAYMOND</td>\n",
       "      <td>33484</td>\n",
       "      <td>22.849241</td>\n",
       "      <td>0.064745</td>\n",
       "      <td>1.273744</td>\n",
       "    </tr>\n",
       "    <tr>\n",
       "      <th>7</th>\n",
       "      <td>STEPPING FERRARI</td>\n",
       "      <td>170529</td>\n",
       "      <td>4.486533</td>\n",
       "      <td>0.122410</td>\n",
       "      <td>0.472859</td>\n",
       "    </tr>\n",
       "    <tr>\n",
       "      <th>8</th>\n",
       "      <td>GLOBAL WILDCAT</td>\n",
       "      <td>18950</td>\n",
       "      <td>40.373826</td>\n",
       "      <td>0.078494</td>\n",
       "      <td>2.728590</td>\n",
       "    </tr>\n",
       "    <tr>\n",
       "      <th>9</th>\n",
       "      <td>WISS ZORNITA</td>\n",
       "      <td>13150</td>\n",
       "      <td>58.181293</td>\n",
       "      <td>0.024017</td>\n",
       "      <td>1.203117</td>\n",
       "    </tr>\n",
       "    <tr>\n",
       "      <th>10</th>\n",
       "      <td>ST NO MORE WAR</td>\n",
       "      <td>121194</td>\n",
       "      <td>6.312887</td>\n",
       "      <td>0.019116</td>\n",
       "      <td>0.103905</td>\n",
       "    </tr>\n",
       "    <tr>\n",
       "      <th>11</th>\n",
       "      <td>MIDAS METAN</td>\n",
       "      <td>68025</td>\n",
       "      <td>11.247100</td>\n",
       "      <td>0.172527</td>\n",
       "      <td>1.670707</td>\n",
       "    </tr>\n",
       "  </tbody>\n",
       "</table>\n",
       "</div>"
      ],
      "text/plain": [
       "                    horse_name  totalEnjeu       odds     y_hat  \\\n",
       "horse_number                                                      \n",
       "1              MUSIC'S CLASSIC       44668  17.128235  0.065952   \n",
       "2                  RED CROSSER       11334  67.503441  0.026572   \n",
       "3                AGNES LIXARVE       35009  21.853923  0.137724   \n",
       "4                    EASY COPI       77718   9.844360  0.118195   \n",
       "5              LIVI ON THE RUN      171023   4.473574  0.170248   \n",
       "6             KING SIR RAYMOND       33484  22.849241  0.064745   \n",
       "7             STEPPING FERRARI      170529   4.486533  0.122410   \n",
       "8               GLOBAL WILDCAT       18950  40.373826  0.078494   \n",
       "9                 WISS ZORNITA       13150  58.181293  0.024017   \n",
       "10              ST NO MORE WAR      121194   6.312887  0.019116   \n",
       "11                 MIDAS METAN       68025  11.247100  0.172527   \n",
       "\n",
       "              expected_return  \n",
       "horse_number                   \n",
       "1                    0.972621  \n",
       "2                    1.544366  \n",
       "3                    2.591441  \n",
       "4                    1.001817  \n",
       "5                    0.655754  \n",
       "6                    1.273744  \n",
       "7                    0.472859  \n",
       "8                    2.728590  \n",
       "9                    1.203117  \n",
       "10                   0.103905  \n",
       "11                   1.670707  "
      ]
     },
     "execution_count": 60,
     "metadata": {},
     "output_type": "execute_result"
    }
   ],
   "source": [
    "df=race_df[['horse_number', 'horse_name', 'totalEnjeu', 'odds', 'y_hat', 'expected_return']].set_index('horse_number')\n",
    "df"
   ]
  },
  {
   "cell_type": "code",
   "execution_count": 57,
   "metadata": {},
   "outputs": [],
   "source": [
    "actual_gain=2820\n",
    "betting=150 # on horse 3"
   ]
  },
  {
   "cell_type": "code",
   "execution_count": 64,
   "metadata": {},
   "outputs": [
    {
     "data": {
      "text/plain": [
       "2822.434191207975"
      ]
     },
     "execution_count": 64,
     "metadata": {},
     "output_type": "execute_result"
    }
   ],
   "source": [
    "df.loc[3].odds*betting*(1-track_take) \n",
    "# They are matching !!"
   ]
  },
  {
   "cell_type": "code",
   "execution_count": 67,
   "metadata": {},
   "outputs": [],
   "source": [
    "programme =execute_get_query(url=get_pmu_api_url(url_name=\"PROGRAMME\", date=dt.date(2020, 4,27)))\n",
    "r_i=1\n",
    "c_i=11"
   ]
  },
  {
   "cell_type": "code",
   "execution_count": 68,
   "metadata": {},
   "outputs": [],
   "source": [
    "courses_ = [\n",
    "    course\n",
    "    for reunion in programme[\"programme\"][\"reunions\"]\n",
    "    for course in reunion[\"courses\"]\n",
    "    if course[\"numReunion\"] == r_i and course[\"numOrdre\"] == c_i\n",
    "]\n",
    "assert len(courses_) == 1\n",
    "course = courses_[0]"
   ]
  },
  {
   "cell_type": "code",
   "execution_count": 69,
   "metadata": {},
   "outputs": [
    {
     "data": {
      "text/plain": [
       "'FIN_COURSE'"
      ]
     },
     "execution_count": 69,
     "metadata": {},
     "output_type": "execute_result"
    }
   ],
   "source": [
    "course['statut']"
   ]
  },
  {
   "cell_type": "code",
   "execution_count": 72,
   "metadata": {},
   "outputs": [],
   "source": [
    "citations_inter = execute_get_query(\n",
    "        url=get_pmu_api_url(url_name=\"CITATIONS\", date=date, r_i=r_i, c_i=c_i)\n",
    "        + \"?specialisation=INTERNET\"\n",
    "    )"
   ]
  },
  {
   "cell_type": "code",
   "execution_count": 73,
   "metadata": {},
   "outputs": [],
   "source": [
    "citations = execute_get_query(\n",
    "        url=get_pmu_api_url(url_name=\"CITATIONS\", date=date, r_i=r_i, c_i=c_i)\n",
    "    )"
   ]
  },
  {
   "cell_type": "code",
   "execution_count": 80,
   "metadata": {},
   "outputs": [
    {
     "data": {
      "text/plain": [
       "['E_COUPLE_GAGNANT',\n",
       " 'E_TRIO',\n",
       " 'E_COUPLE_PLACE',\n",
       " 'E_DEUX_SUR_QUATRE',\n",
       " 'E_SIMPLE_PLACE',\n",
       " 'E_SIMPLE_GAGNANT',\n",
       " 'E_MINI_MULTI']"
      ]
     },
     "execution_count": 80,
     "metadata": {},
     "output_type": "execute_result"
    }
   ],
   "source": [
    "[citation['typePari'] for citation in citations_inter['listeCitations']]"
   ]
  },
  {
   "cell_type": "code",
   "execution_count": 81,
   "metadata": {},
   "outputs": [
    {
     "ename": "KeyError",
     "evalue": "'listeCitations'",
     "output_type": "error",
     "traceback": [
      "\u001b[1;31m---------------------------------------------------------------------------\u001b[0m",
      "\u001b[1;31mKeyError\u001b[0m                                  Traceback (most recent call last)",
      "\u001b[1;32m<ipython-input-81-c1c678053376>\u001b[0m in \u001b[0;36m<module>\u001b[1;34m()\u001b[0m\n\u001b[1;32m----> 1\u001b[1;33m \u001b[1;33m[\u001b[0m\u001b[0mcitation\u001b[0m\u001b[1;33m[\u001b[0m\u001b[1;34m'typePari'\u001b[0m\u001b[1;33m]\u001b[0m \u001b[1;32mfor\u001b[0m \u001b[0mcitation\u001b[0m \u001b[1;32min\u001b[0m \u001b[0mcitations\u001b[0m\u001b[1;33m[\u001b[0m\u001b[1;34m'listeCitations'\u001b[0m\u001b[1;33m]\u001b[0m\u001b[1;33m]\u001b[0m\u001b[1;33m\u001b[0m\u001b[0m\n\u001b[0m",
      "\u001b[1;31mKeyError\u001b[0m: 'listeCitations'"
     ]
    }
   ],
   "source": [
    "[citation['typePari'] for citation in citations['listeCitations']]"
   ]
  },
  {
   "cell_type": "code",
   "execution_count": 82,
   "metadata": {},
   "outputs": [
    {
     "data": {
      "text/plain": [
       "{'get_url': 'https://online.turfinfo.api.pmu.fr/rest/client/1/programme/27042020/R1/C11/citations',\n",
       " 'note': 'no content',\n",
       " 'query_date': '2020-04-29T06:34:24.245028'}"
      ]
     },
     "execution_count": 82,
     "metadata": {},
     "output_type": "execute_result"
    }
   ],
   "source": [
    "citations"
   ]
  },
  {
   "cell_type": "code",
   "execution_count": 86,
   "metadata": {},
   "outputs": [
    {
     "data": {
      "text/plain": [
       "dict_keys(['cached', 'arriveeDefinitive', 'departImminent', 'timezoneOffset', 'numReunion', 'numOrdre', 'numExterne', 'heureDepart', 'libelle', 'libelleCourt', 'montantPrix', 'parcours', 'distance', 'distanceUnit', 'discipline', 'specialite', 'categorieParticularite', 'conditionSexe', 'nombreDeclaresPartants', 'grandPrixNationalTrot', 'numSocieteMere', 'pariMultiCourses', 'pariSpecial', 'montantTotalOffert', 'montantOffert1er', 'montantOffert2eme', 'montantOffert3eme', 'montantOffert4eme', 'montantOffert5eme', 'conditions', 'numCourseDedoublee', 'paris', 'statut', 'categorieStatut', 'dureeCourse', 'participants', 'ecuries', 'rapportsDefinitifsDisponibles', 'isArriveeDefinitive', 'isDepartImminent', 'isDepartAJPlusUn', 'cagnottes', 'pronosticsExpires', 'replayDisponible', 'hippodrome', 'epcPourTousParis', 'courseTrackee', 'formuleChampLibreIndisponible', 'hasEParis', 'ordreArrivee'])"
      ]
     },
     "execution_count": 86,
     "metadata": {},
     "output_type": "execute_result"
    }
   ],
   "source": [
    "course.keys()"
   ]
  },
  {
   "cell_type": "code",
   "execution_count": 91,
   "metadata": {},
   "outputs": [
    {
     "data": {
      "text/plain": [
       "datetime.date(2020, 4, 27)"
      ]
     },
     "execution_count": 91,
     "metadata": {},
     "output_type": "execute_result"
    }
   ],
   "source": [
    "dt.date.fromtimestamp(1587938400000/1000)"
   ]
  },
  {
   "cell_type": "code",
   "execution_count": 92,
   "metadata": {},
   "outputs": [
    {
     "data": {
      "text/plain": [
       "1587938400000"
      ]
     },
     "execution_count": 92,
     "metadata": {},
     "output_type": "execute_result"
    }
   ],
   "source": [
    "programme['programme']['date']"
   ]
  },
  {
   "cell_type": "code",
   "execution_count": 105,
   "metadata": {},
   "outputs": [
    {
     "data": {
      "text/plain": [
       "<Response [403]>"
      ]
     },
     "execution_count": 105,
     "metadata": {},
     "output_type": "execute_result"
    }
   ],
   "source": [
    "import requests\n",
    "\n",
    "date=dt.date.today()\n",
    "r_i=1\n",
    "c_i=1\n",
    "requests.get(f\"https://online.turfinfo.api.pmu.fr/rest/client/1/programme/{date.strftime('%d%m%Y')}/R{r_i}/C{c_i}/citations?specialisation=OFFLINE\")"
   ]
  },
  {
   "cell_type": "code",
   "execution_count": null,
   "metadata": {},
   "outputs": [],
   "source": []
  },
  {
   "cell_type": "code",
   "execution_count": null,
   "metadata": {},
   "outputs": [],
   "source": []
  }
 ],
 "metadata": {
  "kernelspec": {
   "display_name": "Python 3",
   "language": "python",
   "name": "python3"
  },
  "language_info": {
   "codemirror_mode": {
    "name": "ipython",
    "version": 3
   },
   "file_extension": ".py",
   "mimetype": "text/x-python",
   "name": "python",
   "nbconvert_exporter": "python",
   "pygments_lexer": "ipython3",
   "version": "3.6.4"
  }
 },
 "nbformat": 4,
 "nbformat_minor": 4
}
