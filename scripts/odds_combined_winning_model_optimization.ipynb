{
 "cells": [
  {
   "cell_type": "code",
   "execution_count": 1,
   "metadata": {},
   "outputs": [
    {
     "name": "stdout",
     "output_type": "stream",
     "text": [
      "/home/mathieu/Prose/Mathieu/Benter-Project\n"
     ]
    }
   ],
   "source": [
    "%cd /home/mathieu/Prose/Mathieu/Benter-Project"
   ]
  },
  {
   "cell_type": "code",
   "execution_count": 2,
   "metadata": {},
   "outputs": [],
   "source": [
    "%matplotlib inline\n",
    "\n",
    "import datetime as dt\n",
    "import pandas as pd\n",
    "import seaborn as sns\n",
    "import numpy as np\n",
    "from tqdm.notebook import tqdm\n",
    "import re\n",
    "from itertools import combinations\n",
    "import tensorflow as tf\n",
    "import functools\n",
    "import itertools\n",
    "from scipy.stats import rankdata\n",
    "import scipy\n",
    "import json\n",
    "\n",
    "from utils import import_data\n",
    "from winning_validation import errors\n",
    "from winning_validation import r_squared\n",
    "from winning_horse_models import sklearn\n",
    "from winning_horse_models.logistic_regression import LogisticRegressionModel\n",
    "from winning_horse_models.xgboost import XGBoostWinningModel\n",
    "from winning_horse_models.lgbm import LGBMWinningModel\n",
    "from training_procedures import sequential_training, flattened_training\n",
    "from constants import Sources\n",
    "from utils import preprocess\n",
    "from winning_horse_models.baselines import RandomModel\n",
    "from joblib import Parallel, delayed\n",
    "\n",
    "from database.setup import create_sqlalchemy_session\n",
    "from models.race import Race\n",
    "from models.runner import Runner"
   ]
  },
  {
   "cell_type": "code",
   "execution_count": 3,
   "metadata": {},
   "outputs": [],
   "source": [
    "SOURCE = Sources.UNIBET\n",
    "N_FEATURES = preprocess.get_n_preprocessed_feature_columns(source=SOURCE)"
   ]
  },
  {
   "cell_type": "code",
   "execution_count": 5,
   "metadata": {},
   "outputs": [],
   "source": [
    "sequential_sgd_regression = LogisticRegressionModel.load_model(prefix=\"48_col_\")"
   ]
  },
  {
   "cell_type": "code",
   "execution_count": 5,
   "metadata": {},
   "outputs": [],
   "source": [
    "alpha, beta = 0.5, 0.5"
   ]
  },
  {
   "cell_type": "code",
   "execution_count": 6,
   "metadata": {},
   "outputs": [],
   "source": [
    "def _combine_odds_winning_model(model_proba, odds, alpha, beta):\n",
    "    return alpha*np.log(model_proba)+beta*np.log(odds)"
   ]
  },
  {
   "cell_type": "code",
   "execution_count": 7,
   "metadata": {},
   "outputs": [],
   "source": [
    "def compute_combined_r_squared(alpha_beta, source, winning_model, same_races_support, verbose):\n",
    "    alpha, beta =alpha_beta\n",
    "    min_horse, max_horse = import_data.get_min_max_horse(source=source)\n",
    "\n",
    "\n",
    "    np.random.seed(42)\n",
    "    r_squared_num, r_squared_deno=0,0\n",
    "    for n_horses in range(max(1, min_horse), max_horse + 1):\n",
    "        x_race, rank_race, race_dfs = import_data.get_races_per_horse_number(\n",
    "            source=source,\n",
    "            n_horses=n_horses,\n",
    "            on_split=\"val\",\n",
    "            x_format=\"sequential_per_horse\",\n",
    "            y_format=\"rank\",\n",
    "            extra_features_func=None,\n",
    "        )\n",
    "\n",
    "        if x_race.size == 0:\n",
    "            continue\n",
    "        odds_race = np.stack(\n",
    "            arrays=[race_df[\"odds\"].values for race_df in race_dfs], axis=0\n",
    "        )\n",
    "\n",
    "        model_prediction = winning_model.predict(x=x_race)\n",
    "        race_odds_notna_index = np.logical_not(np.isnan(odds_race)).all(axis=1)\n",
    "        pari_mutual_proba = (1 / odds_race)[race_odds_notna_index]\n",
    "        rank_race_ = rank_race\n",
    "\n",
    "        if same_races_support:\n",
    "            model_prediction = model_prediction[race_odds_notna_index]\n",
    "            rank_race_ = rank_race_[race_odds_notna_index]\n",
    "\n",
    "        # Ignore dead heat finish\n",
    "        model_prediction = model_prediction[(rank_race_==1).sum(axis=1)==1, :]\n",
    "        pari_mutual_proba = pari_mutual_proba[(rank_race_==1).sum(axis=1)==1, :]\n",
    "        rank_race_=rank_race_[(rank_race_==1).sum(axis=1)==1, :]\n",
    "\n",
    "        n_races = len(rank_race_)\n",
    "        combined_winning_horse_proba=np.exp(alpha*np.log(model_prediction[rank_race_==1])+beta*np.log(pari_mutual_proba[rank_race_==1]))\n",
    "        combined_winning_horse_proba/=np.exp(alpha*np.log(model_prediction)+beta*np.log(pari_mutual_proba)).sum(axis=1)\n",
    "        r_squared_num_n_horses = np.log(combined_winning_horse_proba).sum()\n",
    "        r_squared_deno_n_horses =-n_races* np.log(n_horses)\n",
    "        if verbose:\n",
    "            print(f'On {n_horses} horses, odds winning combined R²: {1-r_squared_num_n_horses/r_squared_deno_n_horses:.3}')\n",
    "        r_squared_num+=r_squared_num_n_horses\n",
    "        r_squared_deno+= r_squared_deno_n_horses\n",
    "\n",
    "    return alpha, beta, 1-r_squared_num/r_squared_deno"
   ]
  },
  {
   "cell_type": "code",
   "execution_count": 8,
   "metadata": {},
   "outputs": [
    {
     "data": {
      "application/vnd.jupyter.widget-view+json": {
       "model_id": "b39f990719224f77a3c0ad8c9e698864",
       "version_major": 2,
       "version_minor": 0
      },
      "text/plain": [
       "HBox(children=(HTML(value=''), FloatProgress(value=0.0, max=441.0), HTML(value='')))"
      ]
     },
     "metadata": {},
     "output_type": "display_data"
    },
    {
     "name": "stderr",
     "output_type": "stream",
     "text": [
      "/home/mathieu/.pyenv/versions/3.7.9/envs/benter-project_venv/lib/python3.7/site-packages/joblib/externals/loky/process_executor.py:691: UserWarning: A worker stopped while some jobs were given to the executor. This can be caused by a too short worker timeout or by a memory leak.\n",
      "  \"timeout or by a memory leak.\", UserWarning\n"
     ]
    },
    {
     "name": "stdout",
     "output_type": "stream",
     "text": [
      "\n"
     ]
    }
   ],
   "source": [
    "simulate = functools.partial(compute_combined_r_squared, source=SOURCE, winning_model=sequential_sgd_regression, same_races_support=True, verbose=False)\n",
    "grid=list(itertools.product(range(-1, 11, 1), repeat=2))\n",
    "simulation_results=Parallel(n_jobs=-2)(delayed(simulate)(ab) for ab in tqdm(grid, total=len(grid)))"
   ]
  },
  {
   "cell_type": "code",
   "execution_count": 22,
   "metadata": {},
   "outputs": [
    {
     "data": {
      "text/plain": [
       "[(0, 1, 0.18560668139504388),\n",
       " (1, 1, 0.15320517668224265),\n",
       " (-1, 1, 0.09400939359923899),\n",
       " (1, 0, 0.08930949575158098),\n",
       " (-1, 2, 0.08300052212338005),\n",
       " (0, 2, 0.07865300017542931),\n",
       " (2, 0, 0.050999214963541206),\n",
       " (2, 1, 0.043444325811888285),\n",
       " (1, 2, 0.00010602870425668875),\n",
       " (0, 0, 0.0)]"
      ]
     },
     "execution_count": 22,
     "metadata": {},
     "output_type": "execute_result"
    }
   ],
   "source": [
    "sorted(simulation_results, key=lambda sim:sim[2], reverse=True)[:10]"
   ]
  },
  {
   "cell_type": "code",
   "execution_count": 24,
   "metadata": {},
   "outputs": [
    {
     "data": {
      "application/vnd.jupyter.widget-view+json": {
       "model_id": "0815f548c78e49249dc32399743f7007",
       "version_major": 2,
       "version_minor": 0
      },
      "text/plain": [
       "HBox(children=(HTML(value=''), FloatProgress(value=0.0, max=441.0), HTML(value='')))"
      ]
     },
     "metadata": {},
     "output_type": "display_data"
    },
    {
     "name": "stdout",
     "output_type": "stream",
     "text": [
      "\n"
     ]
    }
   ],
   "source": [
    "simulate = functools.partial(compute_combined_r_squared, source=SOURCE, winning_model=sequential_sgd_regression, same_races_support=True, verbose=False)\n",
    "grid=list(itertools.product(np.arange(-1, 1.1, 0.1), repeat=2))\n",
    "simulation_results=Parallel(n_jobs=-1)(delayed(simulate)(ab) for ab in tqdm(grid, total=len(grid)))"
   ]
  },
  {
   "cell_type": "code",
   "execution_count": 25,
   "metadata": {},
   "outputs": [
    {
     "data": {
      "text/plain": [
       "[(0.2999999999999998, 0.8999999999999995, 0.187842263347205),\n",
       " (0.19999999999999973, 0.8999999999999995, 0.18770267440215915),\n",
       " (0.19999999999999973, 0.9999999999999996, 0.1874103284906503),\n",
       " (0.09999999999999964, 0.9999999999999996, 0.18710246826501153),\n",
       " (0.3999999999999997, 0.8999999999999995, 0.18683793355333234),\n",
       " (0.2999999999999998, 0.9999999999999996, 0.18658281533248577),\n",
       " (0.09999999999999964, 0.8999999999999995, 0.18636600591831454),\n",
       " (0.2999999999999998, 0.7999999999999996, 0.18620527165376322),\n",
       " (0.3999999999999997, 0.7999999999999996, 0.18620202941583397),\n",
       " (-2.220446049250313e-16, 0.9999999999999996, 0.18560668139504388)]"
      ]
     },
     "execution_count": 25,
     "metadata": {},
     "output_type": "execute_result"
    }
   ],
   "source": [
    "sorted(simulation_results, key=lambda sim:sim[2], reverse=True)[:10]"
   ]
  },
  {
   "cell_type": "code",
   "execution_count": 4,
   "metadata": {},
   "outputs": [],
   "source": [
    "# Best result for 0.3 0.9\n",
    "from winning_horse_models import OddsCombinedWinningModel"
   ]
  },
  {
   "cell_type": "code",
   "execution_count": 6,
   "metadata": {},
   "outputs": [],
   "source": [
    "combined_model = OddsCombinedWinningModel(alpha=0.3, beta=0.8, winning_model=LogisticRegressionModel.load_model(prefix=\"48_col_\"))"
   ]
  },
  {
   "cell_type": "code",
   "execution_count": 7,
   "metadata": {},
   "outputs": [
    {
     "data": {
      "text/plain": [
       "<winning_horse_models.OddsCombinedWinningModel at 0x7ff8741cacd0>"
      ]
     },
     "execution_count": 7,
     "metadata": {},
     "output_type": "execute_result"
    }
   ],
   "source": [
    "combined_model "
   ]
  },
  {
   "cell_type": "code",
   "execution_count": null,
   "metadata": {},
   "outputs": [],
   "source": []
  }
 ],
 "metadata": {
  "kernelspec": {
   "display_name": "Python 3",
   "language": "python",
   "name": "python3"
  },
  "language_info": {
   "codemirror_mode": {
    "name": "ipython",
    "version": 3
   },
   "file_extension": ".py",
   "mimetype": "text/x-python",
   "name": "python",
   "nbconvert_exporter": "python",
   "pygments_lexer": "ipython3",
   "version": "3.7.9"
  }
 },
 "nbformat": 4,
 "nbformat_minor": 4
}
