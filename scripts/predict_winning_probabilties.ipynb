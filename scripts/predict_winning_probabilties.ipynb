{
 "cells": [
  {
   "cell_type": "code",
   "execution_count": 1,
   "metadata": {},
   "outputs": [
    {
     "name": "stdout",
     "output_type": "stream",
     "text": [
      "C:\\Users\\Mathieu\\Desktop\\Projets\\Benter\n"
     ]
    }
   ],
   "source": [
    "%cd C:/Users/Mathieu/Desktop/Projets/Benter"
   ]
  },
  {
   "cell_type": "markdown",
   "metadata": {},
   "source": [
    "# Train \n",
    "\n",
    "- predict the best horse in a given race\n",
    "\n",
    "\n",
    "### TODO\n",
    "- try to predict a given distribution according to ranks, instead of the first one\n",
    "- try to predict best among all combinaisons"
   ]
  },
  {
   "cell_type": "code",
   "execution_count": 2,
   "metadata": {},
   "outputs": [
    {
     "name": "stderr",
     "output_type": "stream",
     "text": [
      "C:\\Users\\Mathieu\\Anaconda3\\envs\\deeplearning\\lib\\site-packages\\tensorflow\\python\\framework\\dtypes.py:526: FutureWarning: Passing (type, 1) or '1type' as a synonym of type is deprecated; in a future version of numpy, it will be understood as (type, (1,)) / '(1,)type'.\n",
      "  _np_qint8 = np.dtype([(\"qint8\", np.int8, 1)])\n",
      "C:\\Users\\Mathieu\\Anaconda3\\envs\\deeplearning\\lib\\site-packages\\tensorflow\\python\\framework\\dtypes.py:527: FutureWarning: Passing (type, 1) or '1type' as a synonym of type is deprecated; in a future version of numpy, it will be understood as (type, (1,)) / '(1,)type'.\n",
      "  _np_quint8 = np.dtype([(\"quint8\", np.uint8, 1)])\n",
      "C:\\Users\\Mathieu\\Anaconda3\\envs\\deeplearning\\lib\\site-packages\\tensorflow\\python\\framework\\dtypes.py:528: FutureWarning: Passing (type, 1) or '1type' as a synonym of type is deprecated; in a future version of numpy, it will be understood as (type, (1,)) / '(1,)type'.\n",
      "  _np_qint16 = np.dtype([(\"qint16\", np.int16, 1)])\n",
      "C:\\Users\\Mathieu\\Anaconda3\\envs\\deeplearning\\lib\\site-packages\\tensorflow\\python\\framework\\dtypes.py:529: FutureWarning: Passing (type, 1) or '1type' as a synonym of type is deprecated; in a future version of numpy, it will be understood as (type, (1,)) / '(1,)type'.\n",
      "  _np_quint16 = np.dtype([(\"quint16\", np.uint16, 1)])\n",
      "C:\\Users\\Mathieu\\Anaconda3\\envs\\deeplearning\\lib\\site-packages\\tensorflow\\python\\framework\\dtypes.py:530: FutureWarning: Passing (type, 1) or '1type' as a synonym of type is deprecated; in a future version of numpy, it will be understood as (type, (1,)) / '(1,)type'.\n",
      "  _np_qint32 = np.dtype([(\"qint32\", np.int32, 1)])\n",
      "C:\\Users\\Mathieu\\Anaconda3\\envs\\deeplearning\\lib\\site-packages\\tensorflow\\python\\framework\\dtypes.py:535: FutureWarning: Passing (type, 1) or '1type' as a synonym of type is deprecated; in a future version of numpy, it will be understood as (type, (1,)) / '(1,)type'.\n",
      "  np_resource = np.dtype([(\"resource\", np.ubyte, 1)])\n",
      "C:\\Users\\Mathieu\\Anaconda3\\envs\\deeplearning\\lib\\site-packages\\h5py\\__init__.py:36: FutureWarning: Conversion of the second argument of issubdtype from `float` to `np.floating` is deprecated. In future, it will be treated as `np.float64 == np.dtype(float).type`.\n",
      "  from ._conv import register_converters as _register_converters\n",
      "C:\\Users\\Mathieu\\Anaconda3\\envs\\deeplearning\\lib\\site-packages\\joblib\\memory.py:734: DtypeWarning: Columns (35,46,47,61,62,63,64,87) have mixed types.Specify dtype option on import or set low_memory=False.\n",
      "  output = self.func(*args, **kwargs)\n"
     ]
    }
   ],
   "source": [
    "%matplotlib inline\n",
    "\n",
    "import datetime as dt\n",
    "import pandas as pd\n",
    "import seaborn as sns\n",
    "import numpy as np\n",
    "from tqdm import tqdm\n",
    "import re\n",
    "from itertools import combinations\n",
    "import tensorflow as tf\n",
    "import functools\n",
    "from scipy.stats import rankdata\n",
    "import scipy\n",
    "import json\n",
    "\n",
    "from utils import import_data\n",
    "from utils import winning_validation\n",
    "from machine_learning.sklearn import KNNModel\n",
    "from machine_learning.logistic_regression import LogisticRegressionModel\n",
    "from machine_learning import training_procedures"
   ]
  },
  {
   "cell_type": "code",
   "execution_count": null,
   "metadata": {},
   "outputs": [],
   "source": [
    "SOURCE = \"PMU\""
   ]
  },
  {
   "cell_type": "code",
   "execution_count": null,
   "metadata": {
    "scrolled": true
   },
   "outputs": [
    {
     "name": "stdout",
     "output_type": "stream",
     "text": [
      "Epoch 0\n"
     ]
    },
    {
     "name": "stderr",
     "output_type": "stream",
     "text": [
      "C:\\Users\\Mathieu\\Anaconda3\\envs\\deeplearning\\lib\\site-packages\\pandas\\core\\frame.py:2963: SettingWithCopyWarning: \n",
      "A value is trying to be set on a copy of a slice from a DataFrame.\n",
      "Try using .loc[row_indexer,col_indexer] = value instead\n",
      "\n",
      "See the caveats in the documentation: https://pandas.pydata.org/pandas-docs/stable/user_guide/indexing.html#returning-a-view-versus-a-copy\n",
      "  self[k1] = value[k2]\n",
      "C:\\Users\\Mathieu\\Desktop\\Projets\\Benter\\utils\\preprocess.py:124: SettingWithCopyWarning: \n",
      "A value is trying to be set on a copy of a slice from a DataFrame.\n",
      "Try using .loc[row_indexer,col_indexer] = value instead\n",
      "\n",
      "See the caveats in the documentation: https://pandas.pydata.org/pandas-docs/stable/user_guide/indexing.html#returning-a-view-versus-a-copy\n",
      "  ) / standard_scaler_parameters[numerical_feature][\"std\"]\n",
      "C:\\Users\\Mathieu\\Desktop\\Projets\\Benter\\utils\\preprocess.py:125: SettingWithCopyWarning: \n",
      "A value is trying to be set on a copy of a slice from a DataFrame.\n",
      "Try using .loc[row_indexer,col_indexer] = value instead\n",
      "\n",
      "See the caveats in the documentation: https://pandas.pydata.org/pandas-docs/stable/user_guide/indexing.html#returning-a-view-versus-a-copy\n",
      "  features_df[numerical_feature] = features_df[numerical_feature].fillna(0)\n",
      "C:\\Users\\Mathieu\\Desktop\\Projets\\Benter\\utils\\preprocess.py:129: SettingWithCopyWarning: \n",
      "A value is trying to be set on a copy of a slice from a DataFrame.\n",
      "Try using .loc[row_indexer,col_indexer] = value instead\n",
      "\n",
      "See the caveats in the documentation: https://pandas.pydata.org/pandas-docs/stable/user_guide/indexing.html#returning-a-view-versus-a-copy\n",
      "  features_df[f\"{ohe_feature}_{value}\"] = features_df[ohe_feature] == value\n",
      "C:\\Users\\Mathieu\\Anaconda3\\envs\\deeplearning\\lib\\site-packages\\pandas\\core\\frame.py:3997: SettingWithCopyWarning: \n",
      "A value is trying to be set on a copy of a slice from a DataFrame\n",
      "\n",
      "See the caveats in the documentation: https://pandas.pydata.org/pandas-docs/stable/user_guide/indexing.html#returning-a-view-versus-a-copy\n",
      "  errors=errors,\n",
      "C:\\Users\\Mathieu\\Desktop\\Projets\\Benter\\utils\\preprocess.py:134: SettingWithCopyWarning: \n",
      "A value is trying to be set on a copy of a slice from a DataFrame.\n",
      "Try using .loc[row_indexer,col_indexer] = value instead\n",
      "\n",
      "See the caveats in the documentation: https://pandas.pydata.org/pandas-docs/stable/user_guide/indexing.html#returning-a-view-versus-a-copy\n",
      "  [\"DEFERRE_ANTERIEURS_POSTERIEURS\", \"DEFERRE_ANTERIEURS\"]\n",
      "C:\\Users\\Mathieu\\Desktop\\Projets\\Benter\\utils\\preprocess.py:137: SettingWithCopyWarning: \n",
      "A value is trying to be set on a copy of a slice from a DataFrame.\n",
      "Try using .loc[row_indexer,col_indexer] = value instead\n",
      "\n",
      "See the caveats in the documentation: https://pandas.pydata.org/pandas-docs/stable/user_guide/indexing.html#returning-a-view-versus-a-copy\n",
      "  [\"DEFERRE_ANTERIEURS_POSTERIEURS\", \"DEFERRE_POSTERIEURS\"]\n"
     ]
    },
    {
     "name": "stdout",
     "output_type": "stream",
     "text": [
      "WARNING:tensorflow:From C:\\Users\\Mathieu\\Anaconda3\\envs\\deeplearning\\lib\\site-packages\\tensorflow\\python\\ops\\resource_variable_ops.py:435: colocate_with (from tensorflow.python.framework.ops) is deprecated and will be removed in a future version.\n",
      "Instructions for updating:\n",
      "Colocations handled automatically by placer.\n",
      "Train on 3 samples, validate on 1 samples\n",
      "WARNING:tensorflow:From C:\\Users\\Mathieu\\Anaconda3\\envs\\deeplearning\\lib\\site-packages\\tensorflow\\python\\ops\\math_ops.py:3066: to_int32 (from tensorflow.python.ops.math_ops) is deprecated and will be removed in a future version.\n",
      "Instructions for updating:\n",
      "Use tf.cast instead.\n",
      "3/3 [==============================] - 0s 82ms/sample - loss: 0.8871 - categorical_accuracy: 0.3333 - categorical_crossentropy: 0.8871 - val_loss: 1.1714 - val_categorical_accuracy: 0.0000e+00 - val_categorical_crossentropy: 1.1714\n",
      "Training for 2 horses (3 races, val 1 races): loss per horse: 0.444, val loss per horse: 0.586 Train Accuracy: 33.3%, Val Accuracy: 0.0%\n",
      "\n",
      "Train on 29 samples, validate on 9 samples\n",
      "29/29 [==============================] - 0s 7ms/sample - loss: 1.1613 - categorical_accuracy: 0.3793 - categorical_crossentropy: 1.1613 - val_loss: 1.3144 - val_categorical_accuracy: 0.2222 - val_categorical_crossentropy: 1.3144\n",
      "Training for 3 horses (29 races, val 9 races): loss per horse: 0.387, val loss per horse: 0.438 Train Accuracy: 37.9%, Val Accuracy: 22.2%\n",
      "\n",
      "Train on 271 samples, validate on 77 samples\n",
      "271/271 [==============================] - ETA: 1s - loss: 1.6398 - categorical_accuracy: 0.2500 - categorical_crossentropy: 1.639 - 0s 959us/sample - loss: 1.5309 - categorical_accuracy: 0.2768 - categorical_crossentropy: 1.5309 - val_loss: 1.4864 - val_categorical_accuracy: 0.2468 - val_categorical_crossentropy: 1.4864\n",
      "Training for 4 horses (271 races, val 77 races): loss per horse: 0.383, val loss per horse: 0.372 Train Accuracy: 27.7%, Val Accuracy: 24.7%\n",
      "\n"
     ]
    }
   ],
   "source": [
    "%%time\n",
    "sequential_sgd_regression = LogisticRegressionModel()\n",
    "sequential_sgd_regression=training_procedures.train_on_each_horse_with_epochs(source=SOURCE, winning_model=sequential_sgd_regression, n_epochs=10, verbose=True)"
   ]
  },
  {
   "cell_type": "code",
   "execution_count": null,
   "metadata": {},
   "outputs": [],
   "source": [
    "sequential_sgd_regression.save_model()"
   ]
  },
  {
   "cell_type": "code",
   "execution_count": null,
   "metadata": {},
   "outputs": [],
   "source": [
    "sequential_sgd_regression = LogisticRegressionModel.load_model(trainable=False)"
   ]
  },
  {
   "cell_type": "code",
   "execution_count": null,
   "metadata": {},
   "outputs": [],
   "source": [
    "exact_top_5 = winning_proba_validation.compute_validation_error(source=SOURCE, k=5,winning_model=sequential_sgd_regression, validation_method=winning_proba_validation.exact_top_k)"
   ]
  },
  {
   "cell_type": "code",
   "execution_count": 8,
   "metadata": {},
   "outputs": [
    {
     "name": "stdout",
     "output_type": "stream",
     "text": [
      "For races w/ 5 horses, 354 races in val, top 5 w/o order: 100.000% (Random: 100.000%, Odds 100.000%)\n",
      "For races w/ 6 horses, 829 races in val, top 5 w/o order: 30.639% (Random: 16.164%, Odds 22.557%)\n",
      "For races w/ 7 horses, 1488 races in val, top 5 w/o order: 13.844% (Random: 4.032%, Odds 7.258%)\n",
      "For races w/ 8 horses, 1910 races in val, top 5 w/o order: 5.340% (Random: 1.780%, Odds 2.565%)\n",
      "For races w/ 9 horses, 2066 races in val, top 5 w/o order: 3.049% (Random: 1.065%, Odds 1.646%)\n",
      "For races w/ 10 horses, 2452 races in val, top 5 w/o order: 1.876% (Random: 0.367%, Odds 0.653%)\n",
      "For races w/ 11 horses, 2267 races in val, top 5 w/o order: 1.500% (Random: 0.353%, Odds 0.618%)\n",
      "For races w/ 12 horses, 2738 races in val, top 5 w/o order: 1.096% (Random: 0.110%, Odds 0.292%)\n",
      "For races w/ 13 horses, 2202 races in val, top 5 w/o order: 0.545% (Random: 0.136%, Odds 0.182%)\n",
      "For races w/ 14 horses, 2445 races in val, top 5 w/o order: 0.368% (Random: 0.164%, Odds 0.164%)\n",
      "For races w/ 15 horses, 1978 races in val, top 5 w/o order: 0.404% (Random: 0.101%, Odds 0.051%)\n",
      "For races w/ 16 horses, 2378 races in val, top 5 w/o order: 0.210% (Random: 0.000%, Odds 0.126%)\n",
      "For races w/ 17 horses, 612 races in val, top 5 w/o order: 0.327% (Random: 0.000%, Odds 0.000%)\n",
      "For races w/ 18 horses, 757 races in val, top 5 w/o order: 0.132% (Random: 0.000%, Odds 0.000%)\n",
      "For races w/ 19 horses, 44 races in val, top 5 w/o order: 0.000% (Random: 0.000%, Odds 0.000%)\n",
      "For races w/ 20 horses, 33 races in val, top 5 w/o order: 0.000% (Random: 0.000%, Odds 0.000%)\n",
      "For races w/ 21 horses, 5 races in val, top 5 w/o order: 0.000% (Random: 0.000%, Odds 0.000%)\n",
      "For races w/ 22 horses, 7 races in val, top 5 w/o order: 0.000% (Random: 0.000%, Odds 0.000%)\n",
      "For races w/ 23 horses, 6 races in val, top 5 w/o order: 0.000% (Random: 0.000%, Odds 0.000%)\n",
      "For races w/ 24 horses, 6 races in val, top 5 w/o order: 0.000% (Random: 0.000%, Odds 0.000%)\n"
     ]
    }
   ],
   "source": [
    "winning_proba_validation.compute_validation_error(source=SOURCE, k=5, winning_model=sequential_sgd_regression,validation_method=winning_proba_validation.same_top_k)"
   ]
  },
  {
   "cell_type": "code",
   "execution_count": 9,
   "metadata": {},
   "outputs": [
    {
     "name": "stdout",
     "output_type": "stream",
     "text": [
      "For races w/ 5 horses, 354 races in val, precision at rank 5: 100.000% (Random: 100.000%, Odds 100.000%)\n",
      "For races w/ 6 horses, 829 races in val, precision at rank 5: 86.128% (Random: 83.233%, Odds 84.511%)\n",
      "For races w/ 7 horses, 1488 races in val, precision at rank 5: 77.312% (Random: 71.142%, Odds 73.427%)\n",
      "For races w/ 8 horses, 1910 races in val, precision at rank 5: 69.319% (Random: 62.618%, Odds 64.126%)\n",
      "For races w/ 9 horses, 2066 races in val, precision at rank 5: 64.395% (Random: 54.985%, Odds 57.957%)\n",
      "For races w/ 10 horses, 2452 races in val, precision at rank 5: 59.437% (Random: 50.481%, Odds 51.362%)\n",
      "For races w/ 11 horses, 2267 races in val, precision at rank 5: 54.760% (Random: 45.673%, Odds 47.234%)\n",
      "For races w/ 12 horses, 2738 races in val, precision at rank 5: 52.162% (Random: 41.424%, Odds 42.564%)\n",
      "For races w/ 13 horses, 2202 races in val, precision at rank 5: 49.164% (Random: 38.292%, Odds 38.919%)\n",
      "For races w/ 14 horses, 2445 races in val, precision at rank 5: 46.699% (Random: 35.828%, Odds 36.278%)\n",
      "For races w/ 15 horses, 1978 races in val, precision at rank 5: 44.934% (Random: 33.721%, Odds 33.620%)\n",
      "For races w/ 16 horses, 2378 races in val, precision at rank 5: 42.548% (Random: 30.908%, Odds 32.187%)\n",
      "For races w/ 17 horses, 612 races in val, precision at rank 5: 42.059% (Random: 29.869%, Odds 28.399%)\n",
      "For races w/ 18 horses, 757 races in val, precision at rank 5: 39.815% (Random: 28.243%, Odds 27.635%)\n",
      "For races w/ 19 horses, 44 races in val, precision at rank 5: 37.273% (Random: 24.091%, Odds 26.818%)\n",
      "For races w/ 20 horses, 33 races in val, precision at rank 5: 37.576% (Random: 23.030%, Odds 27.273%)\n",
      "For races w/ 21 horses, 5 races in val, precision at rank 5: 24.000% (Random: 28.000%, Odds 16.000%)\n",
      "For races w/ 22 horses, 7 races in val, precision at rank 5: 28.571% (Random: 17.143%, Odds 25.714%)\n",
      "For races w/ 23 horses, 6 races in val, precision at rank 5: 26.667% (Random: 26.667%, Odds 33.333%)\n",
      "For races w/ 24 horses, 6 races in val, precision at rank 5: 33.333% (Random: 16.667%, Odds 13.333%)\n"
     ]
    }
   ],
   "source": [
    "winning_proba_validation.compute_validation_error(source=SOURCE, k=5, winning_model=sequential_sgd_regression,validation_method=winning_proba_validation.precision_at_k)"
   ]
  },
  {
   "cell_type": "code",
   "execution_count": 6,
   "metadata": {},
   "outputs": [
    {
     "name": "stderr",
     "output_type": "stream",
     "text": [
      "C:\\Users\\Mathieu\\Anaconda3\\envs\\deeplearning\\lib\\site-packages\\ipykernel_launcher.py:1: DtypeWarning: Columns (50,51,52,53) have mixed types.Specify dtype option on import or set low_memory=False.\n",
      "  \"\"\"Entry point for launching an IPython kernel.\n"
     ]
    },
    {
     "name": "stdout",
     "output_type": "stream",
     "text": [
      "Comparing on same races w/ 5 horses with odds 0 races (354 races in total)\n"
     ]
    },
    {
     "name": "stderr",
     "output_type": "stream",
     "text": [
      "C:\\Users\\Mathieu\\Desktop\\Projets\\Benter\\utils\\winning_validation.py:197: RuntimeWarning: Mean of empty slice.\n",
      "  f\"Mean Predicted probas of actual race result: {predicted_probas.mean():.3%} \"\n",
      "C:\\Users\\Mathieu\\Anaconda3\\envs\\deeplearning\\lib\\site-packages\\numpy\\core\\_methods.py:161: RuntimeWarning: invalid value encountered in double_scalars\n",
      "  ret = ret.dtype.type(ret / rcount)\n"
     ]
    },
    {
     "name": "stdout",
     "output_type": "stream",
     "text": [
      "Mean Predicted probas of actual race result: nan% (Random: nan%, Odds: nan%)\n",
      "\n",
      "Comparing on same races w/ 6 horses with odds 0 races (829 races in total)\n",
      "Mean Predicted probas of actual race result: nan% (Random: nan%, Odds: nan%)\n",
      "\n",
      "Comparing on same races w/ 7 horses with odds 0 races (1488 races in total)\n",
      "Mean Predicted probas of actual race result: nan% (Random: nan%, Odds: nan%)\n",
      "\n",
      "Comparing on same races w/ 8 horses with odds 0 races (1910 races in total)\n",
      "Mean Predicted probas of actual race result: nan% (Random: nan%, Odds: nan%)\n",
      "\n",
      "Comparing on same races w/ 9 horses with odds 1605 races (2066 races in total)\n",
      "Mean Predicted probas of actual race result: 0.020% (Random: 0.007%, Odds: 0.051%)\n",
      "\n",
      "Comparing on same races w/ 10 horses with odds 1883 races (2452 races in total)\n",
      "Mean Predicted probas of actual race result: 0.010% (Random: 0.003%, Odds: 0.030%)\n",
      "\n",
      "Comparing on same races w/ 11 horses with odds 1794 races (2267 races in total)\n",
      "Mean Predicted probas of actual race result: 0.005% (Random: 0.002%, Odds: 0.017%)\n",
      "\n",
      "Comparing on same races w/ 12 horses with odds 2058 races (2738 races in total)\n",
      "Mean Predicted probas of actual race result: 0.003% (Random: 0.001%, Odds: 0.011%)\n",
      "\n",
      "Comparing on same races w/ 13 horses with odds 1367 races (2202 races in total)\n",
      "Mean Predicted probas of actual race result: 0.002% (Random: 0.001%, Odds: 0.010%)\n",
      "\n",
      "Comparing on same races w/ 14 horses with odds 1504 races (2445 races in total)\n",
      "Mean Predicted probas of actual race result: 0.001% (Random: 0.000%, Odds: 0.007%)\n",
      "\n",
      "Comparing on same races w/ 15 horses with odds 1253 races (1978 races in total)\n",
      "Mean Predicted probas of actual race result: 0.001% (Random: 0.000%, Odds: 0.006%)\n",
      "\n",
      "Comparing on same races w/ 16 horses with odds 1533 races (2378 races in total)\n",
      "Mean Predicted probas of actual race result: 0.001% (Random: 0.000%, Odds: 0.004%)\n",
      "\n",
      "Comparing on same races w/ 17 horses with odds 371 races (612 races in total)\n",
      "Mean Predicted probas of actual race result: 0.001% (Random: 0.000%, Odds: 0.004%)\n",
      "\n",
      "Comparing on same races w/ 18 horses with odds 489 races (757 races in total)\n",
      "Mean Predicted probas of actual race result: 0.000% (Random: 0.000%, Odds: 0.003%)\n",
      "\n",
      "Comparing on same races w/ 19 horses with odds 29 races (44 races in total)\n",
      "Mean Predicted probas of actual race result: 0.000% (Random: 0.000%, Odds: 0.002%)\n",
      "\n",
      "Comparing on same races w/ 20 horses with odds 23 races (33 races in total)\n",
      "Mean Predicted probas of actual race result: 0.000% (Random: 0.000%, Odds: 0.001%)\n",
      "\n",
      "Comparing on same races w/ 21 horses with odds 3 races (5 races in total)\n",
      "Mean Predicted probas of actual race result: 0.000% (Random: 0.000%, Odds: 0.000%)\n",
      "\n",
      "Comparing on same races w/ 22 horses with odds 2 races (7 races in total)\n",
      "Mean Predicted probas of actual race result: 0.000% (Random: 0.000%, Odds: 0.002%)\n",
      "\n",
      "Comparing on same races w/ 23 horses with odds 1 races (6 races in total)\n",
      "Mean Predicted probas of actual race result: 0.000% (Random: 0.000%, Odds: 0.000%)\n",
      "\n",
      "Comparing on same races w/ 24 horses with odds 4 races (6 races in total)\n",
      "Mean Predicted probas of actual race result: 0.000% (Random: 0.000%, Odds: 0.000%)\n",
      "\n"
     ]
    }
   ],
   "source": [
    "winning_validation.compute_predicted_proba_on_actual_races(source=SOURCE, k=5,winning_model=sequential_sgd_regression, same_races_support=True)"
   ]
  },
  {
   "cell_type": "code",
   "execution_count": 8,
   "metadata": {},
   "outputs": [],
   "source": [
    "n_horses=5\n",
    "source=SOURCE\n",
    "\n",
    "x_race, rank_race, odds_race = import_data.get_races_per_horse_number(\n",
    "            y_format=\"rank\",\n",
    "            x_format=\"sequential_per_horse\",\n",
    "            n_horses=n_horses,\n",
    "            on_split=\"val\",\n",
    "            source=source,\n",
    "        )"
   ]
  },
  {
   "cell_type": "code",
   "execution_count": 10,
   "metadata": {},
   "outputs": [],
   "source": [
    "\n",
    "race_horse_df = import_data.load_featured_data(source=\"PMU\")"
   ]
  },
  {
   "cell_type": "code",
   "execution_count": 14,
   "metadata": {},
   "outputs": [],
   "source": [
    "sum_per_race = race_horse_df.groupby(\"race_id\")[\"totalEnjeu\"].sum()\n",
    "\n",
    "race_horse_df[\"pari_mutuel_proba\"] = race_horse_df[\"totalEnjeu\"] / race_horse_df[\n",
    "    \"race_id\"\n",
    "].map(sum_per_race)"
   ]
  },
  {
   "cell_type": "code",
   "execution_count": 17,
   "metadata": {},
   "outputs": [
    {
     "data": {
      "text/plain": [
       "0         NaN\n",
       "1         NaN\n",
       "2         NaN\n",
       "3         NaN\n",
       "4         NaN\n",
       "           ..\n",
       "1459334   NaN\n",
       "1459335   NaN\n",
       "1459336   NaN\n",
       "1459337   NaN\n",
       "1459338   NaN\n",
       "Name: totalEnjeu, Length: 1459339, dtype: float64"
      ]
     },
     "execution_count": 17,
     "metadata": {},
     "output_type": "execute_result"
    }
   ],
   "source": [
    "race_horse_df[\"totalEnjeu\"]"
   ]
  },
  {
   "cell_type": "code",
   "execution_count": 6,
   "metadata": {},
   "outputs": [
    {
     "name": "stderr",
     "output_type": "stream",
     "text": [
      "C:\\Users\\Mathieu\\Anaconda3\\envs\\deeplearning\\lib\\site-packages\\ipykernel_launcher.py:3: DtypeWarning: Columns (50,51,52,53) have mixed types.Specify dtype option on import or set low_memory=False.\n",
      "  This is separate from the ipykernel package so we can avoid doing imports until\n"
     ]
    },
    {
     "ename": "ValueError",
     "evalue": "Expected n_neighbors <= n_samples,  but n_samples = 3, n_neighbors = 5",
     "output_type": "error",
     "traceback": [
      "\u001b[1;31m---------------------------------------------------------------------------\u001b[0m",
      "\u001b[1;31mValueError\u001b[0m                                Traceback (most recent call last)",
      "\u001b[1;32m<timed exec>\u001b[0m in \u001b[0;36m<module>\u001b[1;34m()\u001b[0m\n",
      "\u001b[1;32m~\\Desktop\\Projets\\Benter\\machine_learning\\training_procedures.py\u001b[0m in \u001b[0;36mtrain_per_horse\u001b[1;34m(source, winning_model, verbose)\u001b[0m\n\u001b[0;32m     60\u001b[0m \u001b[1;33m\u001b[0m\u001b[0m\n\u001b[0;32m     61\u001b[0m             loss_per_horse = (\n\u001b[1;32m---> 62\u001b[1;33m                 \u001b[0mmetrics\u001b[0m\u001b[1;33m.\u001b[0m\u001b[0mlog_loss\u001b[0m\u001b[1;33m(\u001b[0m\u001b[0my_true\u001b[0m\u001b[1;33m=\u001b[0m\u001b[0m_one_hot_encode\u001b[0m\u001b[1;33m(\u001b[0m\u001b[0my\u001b[0m\u001b[1;33m)\u001b[0m\u001b[1;33m,\u001b[0m \u001b[0my_pred\u001b[0m\u001b[1;33m=\u001b[0m\u001b[0mmodel\u001b[0m\u001b[1;33m.\u001b[0m\u001b[0mpredict_proba\u001b[0m\u001b[1;33m(\u001b[0m\u001b[0mX\u001b[0m\u001b[1;33m=\u001b[0m\u001b[0mx\u001b[0m\u001b[1;33m)\u001b[0m\u001b[1;33m)\u001b[0m \u001b[1;33m/\u001b[0m \u001b[0mn_horses\u001b[0m\u001b[1;33m\u001b[0m\u001b[0m\n\u001b[0m\u001b[0;32m     63\u001b[0m             )\n\u001b[0;32m     64\u001b[0m             \u001b[0maccuracy\u001b[0m \u001b[1;33m=\u001b[0m \u001b[0mmetrics\u001b[0m\u001b[1;33m.\u001b[0m\u001b[0maccuracy_score\u001b[0m\u001b[1;33m(\u001b[0m\u001b[0my_true\u001b[0m\u001b[1;33m=\u001b[0m\u001b[0my\u001b[0m\u001b[1;33m,\u001b[0m \u001b[0my_pred\u001b[0m\u001b[1;33m=\u001b[0m\u001b[0mmodel\u001b[0m\u001b[1;33m.\u001b[0m\u001b[0mpredict\u001b[0m\u001b[1;33m(\u001b[0m\u001b[0mX\u001b[0m\u001b[1;33m=\u001b[0m\u001b[0mx\u001b[0m\u001b[1;33m)\u001b[0m\u001b[1;33m)\u001b[0m\u001b[1;33m\u001b[0m\u001b[0m\n",
      "\u001b[1;32m~\\Anaconda3\\envs\\deeplearning\\lib\\site-packages\\sklearn\\neighbors\\_classification.py\u001b[0m in \u001b[0;36mpredict_proba\u001b[1;34m(self, X)\u001b[0m\n\u001b[0;32m    215\u001b[0m         \u001b[0mX\u001b[0m \u001b[1;33m=\u001b[0m \u001b[0mcheck_array\u001b[0m\u001b[1;33m(\u001b[0m\u001b[0mX\u001b[0m\u001b[1;33m,\u001b[0m \u001b[0maccept_sparse\u001b[0m\u001b[1;33m=\u001b[0m\u001b[1;34m'csr'\u001b[0m\u001b[1;33m)\u001b[0m\u001b[1;33m\u001b[0m\u001b[0m\n\u001b[0;32m    216\u001b[0m \u001b[1;33m\u001b[0m\u001b[0m\n\u001b[1;32m--> 217\u001b[1;33m         \u001b[0mneigh_dist\u001b[0m\u001b[1;33m,\u001b[0m \u001b[0mneigh_ind\u001b[0m \u001b[1;33m=\u001b[0m \u001b[0mself\u001b[0m\u001b[1;33m.\u001b[0m\u001b[0mkneighbors\u001b[0m\u001b[1;33m(\u001b[0m\u001b[0mX\u001b[0m\u001b[1;33m)\u001b[0m\u001b[1;33m\u001b[0m\u001b[0m\n\u001b[0m\u001b[0;32m    218\u001b[0m \u001b[1;33m\u001b[0m\u001b[0m\n\u001b[0;32m    219\u001b[0m         \u001b[0mclasses_\u001b[0m \u001b[1;33m=\u001b[0m \u001b[0mself\u001b[0m\u001b[1;33m.\u001b[0m\u001b[0mclasses_\u001b[0m\u001b[1;33m\u001b[0m\u001b[0m\n",
      "\u001b[1;32m~\\Anaconda3\\envs\\deeplearning\\lib\\site-packages\\sklearn\\neighbors\\_base.py\u001b[0m in \u001b[0;36mkneighbors\u001b[1;34m(self, X, n_neighbors, return_distance)\u001b[0m\n\u001b[0;32m    615\u001b[0m                 \u001b[1;34m\"Expected n_neighbors <= n_samples, \"\u001b[0m\u001b[1;33m\u001b[0m\u001b[0m\n\u001b[0;32m    616\u001b[0m                 \u001b[1;34m\" but n_samples = %d, n_neighbors = %d\"\u001b[0m \u001b[1;33m%\u001b[0m\u001b[1;33m\u001b[0m\u001b[0m\n\u001b[1;32m--> 617\u001b[1;33m                 \u001b[1;33m(\u001b[0m\u001b[0mn_samples_fit\u001b[0m\u001b[1;33m,\u001b[0m \u001b[0mn_neighbors\u001b[0m\u001b[1;33m)\u001b[0m\u001b[1;33m\u001b[0m\u001b[0m\n\u001b[0m\u001b[0;32m    618\u001b[0m             )\n\u001b[0;32m    619\u001b[0m \u001b[1;33m\u001b[0m\u001b[0m\n",
      "\u001b[1;31mValueError\u001b[0m: Expected n_neighbors <= n_samples,  but n_samples = 3, n_neighbors = 5"
     ]
    }
   ],
   "source": [
    "%%time\n",
    "#knn_winning_model = KNNModel()\n",
    "\n",
    "#knn_winning_model = training_procedures.train_per_horse(source=SOURCE, winning_model=knn_winning_model, verbose=True)\n"
   ]
  },
  {
   "cell_type": "code",
   "execution_count": null,
   "metadata": {},
   "outputs": [],
   "source": [
    "knn_winning_model = KNNModel.loa"
   ]
  },
  {
   "cell_type": "code",
   "execution_count": 6,
   "metadata": {},
   "outputs": [],
   "source": [
    "#knn_winning_model.save_model()"
   ]
  },
  {
   "cell_type": "code",
   "execution_count": 7,
   "metadata": {},
   "outputs": [
    {
     "ename": "TypeError",
     "evalue": "predict() got an unexpected keyword argument 'x'",
     "output_type": "error",
     "traceback": [
      "\u001b[1;31m---------------------------------------------------------------------------\u001b[0m",
      "\u001b[1;31mTypeError\u001b[0m                                 Traceback (most recent call last)",
      "\u001b[1;32m<ipython-input-7-f9e3d866349a>\u001b[0m in \u001b[0;36m<module>\u001b[1;34m()\u001b[0m\n\u001b[1;32m----> 1\u001b[1;33m \u001b[0mwinning_proba_validation\u001b[0m\u001b[1;33m.\u001b[0m\u001b[0mcompute_validation_error\u001b[0m\u001b[1;33m(\u001b[0m\u001b[0msource\u001b[0m\u001b[1;33m=\u001b[0m\u001b[0mSOURCE\u001b[0m\u001b[1;33m,\u001b[0m \u001b[0mk\u001b[0m\u001b[1;33m=\u001b[0m\u001b[1;36m5\u001b[0m\u001b[1;33m,\u001b[0m\u001b[0mwinning_model\u001b[0m\u001b[1;33m=\u001b[0m\u001b[0mknn_winning_model\u001b[0m\u001b[1;33m,\u001b[0m \u001b[0mvalidation_method\u001b[0m\u001b[1;33m=\u001b[0m\u001b[0mwinning_proba_validation\u001b[0m\u001b[1;33m.\u001b[0m\u001b[0mexact_top_k\u001b[0m\u001b[1;33m)\u001b[0m\u001b[1;33m\u001b[0m\u001b[0m\n\u001b[0m",
      "\u001b[1;32m~\\Desktop\\Projets\\Benter\\utils\\winning_proba_validation.py\u001b[0m in \u001b[0;36mcompute_validation_error\u001b[1;34m(source, k, validation_method, winning_model)\u001b[0m\n\u001b[0;32m     75\u001b[0m         \u001b[0mrandom_model\u001b[0m \u001b[1;33m=\u001b[0m \u001b[0mRandomModel\u001b[0m\u001b[1;33m(\u001b[0m\u001b[1;33m)\u001b[0m\u001b[1;33m.\u001b[0m\u001b[0mget_n_horses_model\u001b[0m\u001b[1;33m(\u001b[0m\u001b[0mn_horses\u001b[0m\u001b[1;33m=\u001b[0m\u001b[0mn_horses\u001b[0m\u001b[1;33m)\u001b[0m\u001b[1;33m\u001b[0m\u001b[0m\n\u001b[0;32m     76\u001b[0m \u001b[1;33m\u001b[0m\u001b[0m\n\u001b[1;32m---> 77\u001b[1;33m         \u001b[0my_hat\u001b[0m \u001b[1;33m=\u001b[0m \u001b[0mmodel\u001b[0m\u001b[1;33m.\u001b[0m\u001b[0mpredict\u001b[0m\u001b[1;33m(\u001b[0m\u001b[0mx\u001b[0m\u001b[1;33m=\u001b[0m\u001b[0mx_race\u001b[0m\u001b[1;33m)\u001b[0m\u001b[1;33m\u001b[0m\u001b[0m\n\u001b[0m\u001b[0;32m     78\u001b[0m         \u001b[0my_random\u001b[0m \u001b[1;33m=\u001b[0m \u001b[0mrandom_model\u001b[0m\u001b[1;33m.\u001b[0m\u001b[0mpredict\u001b[0m\u001b[1;33m(\u001b[0m\u001b[0mx\u001b[0m\u001b[1;33m=\u001b[0m\u001b[0mx_race\u001b[0m\u001b[1;33m)\u001b[0m\u001b[1;33m\u001b[0m\u001b[0m\n\u001b[0;32m     79\u001b[0m \u001b[1;33m\u001b[0m\u001b[0m\n",
      "\u001b[1;31mTypeError\u001b[0m: predict() got an unexpected keyword argument 'x'"
     ]
    }
   ],
   "source": [
    "winning_proba_validation.compute_validation_error(source=SOURCE, k=5,winning_model=knn_winning_model, validation_method=winning_proba_validation.exact_top_k)"
   ]
  },
  {
   "cell_type": "code",
   "execution_count": null,
   "metadata": {},
   "outputs": [],
   "source": [
    "winning_proba_validation.compute_validation_error(source=SOURCE, k=5, winning_model=knn_winning_model,validation_method=winning_proba_validation.same_top_k)"
   ]
  },
  {
   "cell_type": "code",
   "execution_count": null,
   "metadata": {},
   "outputs": [],
   "source": [
    "winning_proba_validation.compute_validation_error(source=SOURCE, k=5, winning_model=knn_winning_model,validation_method=winning_proba_validation.precision_at_k)"
   ]
  },
  {
   "cell_type": "code",
   "execution_count": null,
   "metadata": {},
   "outputs": [],
   "source": [
    "winning_proba_validation.compute_predicted_proba_on_actual_races(source=SOURCE, k=5,winning_model=knn_winning_model, same_support=True)"
   ]
  },
  {
   "cell_type": "code",
   "execution_count": null,
   "metadata": {},
   "outputs": [],
   "source": []
  }
 ],
 "metadata": {
  "kernelspec": {
   "display_name": "Python 3",
   "language": "python",
   "name": "python3"
  },
  "language_info": {
   "codemirror_mode": {
    "name": "ipython",
    "version": 3
   },
   "file_extension": ".py",
   "mimetype": "text/x-python",
   "name": "python",
   "nbconvert_exporter": "python",
   "pygments_lexer": "ipython3",
   "version": "3.6.4"
  }
 },
 "nbformat": 4,
 "nbformat_minor": 4
}
