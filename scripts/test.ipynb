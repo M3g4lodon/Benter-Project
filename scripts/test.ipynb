{
 "cells": [
  {
   "cell_type": "code",
   "execution_count": 1,
   "metadata": {},
   "outputs": [
    {
     "name": "stdout",
     "output_type": "stream",
     "text": [
      "C:\\Users\\Mathieu\\Desktop\\Projets\\Benter\n"
     ]
    }
   ],
   "source": [
    "%cd C:/Users/Mathieu/Desktop/Projets/Benter"
   ]
  },
  {
   "cell_type": "code",
   "execution_count": 16,
   "metadata": {},
   "outputs": [
    {
     "name": "stderr",
     "output_type": "stream",
     "text": [
      "C:\\Users\\Mathieu\\Anaconda3\\envs\\deeplearning\\lib\\site-packages\\tensorflow\\python\\framework\\dtypes.py:526: FutureWarning: Passing (type, 1) or '1type' as a synonym of type is deprecated; in a future version of numpy, it will be understood as (type, (1,)) / '(1,)type'.\n",
      "  _np_qint8 = np.dtype([(\"qint8\", np.int8, 1)])\n",
      "C:\\Users\\Mathieu\\Anaconda3\\envs\\deeplearning\\lib\\site-packages\\tensorflow\\python\\framework\\dtypes.py:527: FutureWarning: Passing (type, 1) or '1type' as a synonym of type is deprecated; in a future version of numpy, it will be understood as (type, (1,)) / '(1,)type'.\n",
      "  _np_quint8 = np.dtype([(\"quint8\", np.uint8, 1)])\n",
      "C:\\Users\\Mathieu\\Anaconda3\\envs\\deeplearning\\lib\\site-packages\\tensorflow\\python\\framework\\dtypes.py:528: FutureWarning: Passing (type, 1) or '1type' as a synonym of type is deprecated; in a future version of numpy, it will be understood as (type, (1,)) / '(1,)type'.\n",
      "  _np_qint16 = np.dtype([(\"qint16\", np.int16, 1)])\n",
      "C:\\Users\\Mathieu\\Anaconda3\\envs\\deeplearning\\lib\\site-packages\\tensorflow\\python\\framework\\dtypes.py:529: FutureWarning: Passing (type, 1) or '1type' as a synonym of type is deprecated; in a future version of numpy, it will be understood as (type, (1,)) / '(1,)type'.\n",
      "  _np_quint16 = np.dtype([(\"quint16\", np.uint16, 1)])\n",
      "C:\\Users\\Mathieu\\Anaconda3\\envs\\deeplearning\\lib\\site-packages\\tensorflow\\python\\framework\\dtypes.py:530: FutureWarning: Passing (type, 1) or '1type' as a synonym of type is deprecated; in a future version of numpy, it will be understood as (type, (1,)) / '(1,)type'.\n",
      "  _np_qint32 = np.dtype([(\"qint32\", np.int32, 1)])\n",
      "C:\\Users\\Mathieu\\Anaconda3\\envs\\deeplearning\\lib\\site-packages\\tensorflow\\python\\framework\\dtypes.py:535: FutureWarning: Passing (type, 1) or '1type' as a synonym of type is deprecated; in a future version of numpy, it will be understood as (type, (1,)) / '(1,)type'.\n",
      "  np_resource = np.dtype([(\"resource\", np.ubyte, 1)])\n",
      "C:\\Users\\Mathieu\\Anaconda3\\envs\\deeplearning\\lib\\site-packages\\h5py\\__init__.py:36: FutureWarning: Conversion of the second argument of issubdtype from `float` to `np.floating` is deprecated. In future, it will be treated as `np.float64 == np.dtype(float).type`.\n",
      "  from ._conv import register_converters as _register_converters\n"
     ]
    },
    {
     "name": "stdout",
     "output_type": "stream",
     "text": [
      "WARNING:tensorflow:From C:\\Users\\Mathieu\\Anaconda3\\envs\\deeplearning\\lib\\site-packages\\tensorflow\\python\\ops\\resource_variable_ops.py:435: colocate_with (from tensorflow.python.framework.ops) is deprecated and will be removed in a future version.\n",
      "Instructions for updating:\n",
      "Colocations handled automatically by placer.\n"
     ]
    }
   ],
   "source": [
    "import numpy as np\n",
    "from tqdm import tqdm\n",
    "\n",
    "from utils import import_data\n",
    "from constants import PMU_BETTINGS\n",
    "from winning_horse_models.logistic_regression import LogisticRegressionModel\n",
    "\n",
    "initial_capital =10000\n",
    "source=\"PMU\"\n",
    "code_pari=\"E_SIMPLE_GAGNANT\"\n",
    "winning_model = LogisticRegressionModel.load_model(trainable=False)"
   ]
  },
  {
   "cell_type": "code",
   "execution_count": 11,
   "metadata": {},
   "outputs": [
    {
     "name": "stderr",
     "output_type": "stream",
     "text": [
      "  0%|                                                                                                                                                                                                        | 0/11929 [00:00<?, ?it/s]C:\\Users\\Mathieu\\Anaconda3\\envs\\deeplearning\\lib\\site-packages\\pandas\\core\\frame.py:2963: SettingWithCopyWarning: \n",
      "A value is trying to be set on a copy of a slice from a DataFrame.\n",
      "Try using .loc[row_indexer,col_indexer] = value instead\n",
      "\n",
      "See the caveats in the documentation: https://pandas.pydata.org/pandas-docs/stable/user_guide/indexing.html#returning-a-view-versus-a-copy\n",
      "  self[k1] = value[k2]\n",
      "C:\\Users\\Mathieu\\Desktop\\Projets\\Benter\\utils\\preprocess.py:124: SettingWithCopyWarning: \n",
      "A value is trying to be set on a copy of a slice from a DataFrame.\n",
      "Try using .loc[row_indexer,col_indexer] = value instead\n",
      "\n",
      "See the caveats in the documentation: https://pandas.pydata.org/pandas-docs/stable/user_guide/indexing.html#returning-a-view-versus-a-copy\n",
      "  ) / standard_scaler_parameters[numerical_feature][\"std\"]\n",
      "C:\\Users\\Mathieu\\Desktop\\Projets\\Benter\\utils\\preprocess.py:125: SettingWithCopyWarning: \n",
      "A value is trying to be set on a copy of a slice from a DataFrame.\n",
      "Try using .loc[row_indexer,col_indexer] = value instead\n",
      "\n",
      "See the caveats in the documentation: https://pandas.pydata.org/pandas-docs/stable/user_guide/indexing.html#returning-a-view-versus-a-copy\n",
      "  features_df[numerical_feature] = features_df[numerical_feature].fillna(0)\n",
      "C:\\Users\\Mathieu\\Desktop\\Projets\\Benter\\utils\\preprocess.py:129: SettingWithCopyWarning: \n",
      "A value is trying to be set on a copy of a slice from a DataFrame.\n",
      "Try using .loc[row_indexer,col_indexer] = value instead\n",
      "\n",
      "See the caveats in the documentation: https://pandas.pydata.org/pandas-docs/stable/user_guide/indexing.html#returning-a-view-versus-a-copy\n",
      "  features_df[f\"{ohe_feature}_{value}\"] = features_df[ohe_feature] == value\n",
      "C:\\Users\\Mathieu\\Anaconda3\\envs\\deeplearning\\lib\\site-packages\\pandas\\core\\frame.py:3997: SettingWithCopyWarning: \n",
      "A value is trying to be set on a copy of a slice from a DataFrame\n",
      "\n",
      "See the caveats in the documentation: https://pandas.pydata.org/pandas-docs/stable/user_guide/indexing.html#returning-a-view-versus-a-copy\n",
      "  errors=errors,\n",
      "C:\\Users\\Mathieu\\Desktop\\Projets\\Benter\\utils\\preprocess.py:134: SettingWithCopyWarning: \n",
      "A value is trying to be set on a copy of a slice from a DataFrame.\n",
      "Try using .loc[row_indexer,col_indexer] = value instead\n",
      "\n",
      "See the caveats in the documentation: https://pandas.pydata.org/pandas-docs/stable/user_guide/indexing.html#returning-a-view-versus-a-copy\n",
      "  [\"DEFERRE_ANTERIEURS_POSTERIEURS\", \"DEFERRE_ANTERIEURS\"]\n",
      "C:\\Users\\Mathieu\\Desktop\\Projets\\Benter\\utils\\preprocess.py:137: SettingWithCopyWarning: \n",
      "A value is trying to be set on a copy of a slice from a DataFrame.\n",
      "Try using .loc[row_indexer,col_indexer] = value instead\n",
      "\n",
      "See the caveats in the documentation: https://pandas.pydata.org/pandas-docs/stable/user_guide/indexing.html#returning-a-view-versus-a-copy\n",
      "  [\"DEFERRE_ANTERIEURS_POSTERIEURS\", \"DEFERRE_POSTERIEURS\"]\n"
     ]
    }
   ],
   "source": [
    "track_take = [betting for betting in PMU_BETTINGS if betting.name == code_pari][0][\n",
    "    1\n",
    "]\n",
    "np.random.seed(42)\n",
    "capital_value = initial_capital\n",
    "records = []\n",
    "n_races = import_data.get_n_races(\n",
    "    source=source, on_split=\"val\", remove_nan_previous_stakes=True\n",
    ")\n",
    "for x_race, y_race, race_df in tqdm(\n",
    "    import_data.get_dataset_races(\n",
    "        source=source,\n",
    "        on_split=\"val\",\n",
    "        y_format=\"rank\",\n",
    "        x_format=\"sequential_per_horse\",\n",
    "        remove_nan_previous_stakes=True,\n",
    "    ),\n",
    "    leave=False,\n",
    "    total=n_races,\n",
    "):\n",
    "    break"
   ]
  },
  {
   "cell_type": "code",
   "execution_count": 25,
   "metadata": {},
   "outputs": [],
   "source": [
    "\n",
    "from utils.expected_return import get_race_expected_return\n",
    "previous_stakes=race_df['totalEnjeu']\n",
    "from constants import PMU_MINIMUM_BET_SIZE\n",
    "capital_fraction=1.0"
   ]
  },
  {
   "cell_type": "code",
   "execution_count": 35,
   "metadata": {},
   "outputs": [],
   "source": [
    "_minimum_winning_probabilities = 0.0\n",
    "_expected_return_threshold=150"
   ]
  },
  {
   "cell_type": "code",
   "execution_count": 39,
   "metadata": {},
   "outputs": [
    {
     "name": "stdout",
     "output_type": "stream",
     "text": [
      "1005238    0.040968\n",
      "1005239   -0.030264\n",
      "1005240   -0.027660\n",
      "1005241   -0.047795\n",
      "1005242    0.093418\n",
      "1005243    0.093115\n",
      "1005244    0.005635\n",
      "Name: totalEnjeu, dtype: float64\n",
      "[0. 0. 0. 0. 0. 0. 0.]\n",
      "1005238    0.0\n",
      "1005239    0.0\n",
      "1005240    0.0\n",
      "1005241    0.0\n",
      "1005242    1.0\n",
      "1005243    0.0\n",
      "1005244    0.0\n",
      "Name: totalEnjeu, dtype: float64\n"
     ]
    }
   ],
   "source": [
    "n_horses = x_race.shape[0]\n",
    "\n",
    "y_hat_race = winning_model.predict(x=np.expand_dims(x_race, axis=0))[0, :]\n",
    "y_hat_race = np.where(\n",
    "    y_hat_race > _minimum_winning_probabilities, y_hat_race, np.zeros((n_horses,))\n",
    ")\n",
    "\n",
    "expected_return_race = get_race_expected_return(\n",
    "    y_hat_race=y_hat_race,\n",
    "    track_take=track_take,\n",
    "    previous_stakes=previous_stakes,\n",
    "    race_bet=PMU_MINIMUM_BET_SIZE * np.ones((n_horses,)),\n",
    ")/PMU_MINIMUM_BET_SIZE/n_horses\n",
    "print(expected_return_race)\n",
    "max_expected_return = expected_return_race.max()\n",
    "\n",
    "if max_expected_return <= _expected_return_threshold:\n",
    "    print(np.zeros_like(y_hat_race))\n",
    "\n",
    "betting = expected_return_race == max_expected_return\n",
    "assert betting.sum()\n",
    "betting = betting / betting.sum()\n",
    "betting = betting * capital_fraction\n",
    "print(betting)"
   ]
  },
  {
   "cell_type": "code",
   "execution_count": 40,
   "metadata": {},
   "outputs": [
    {
     "data": {
      "text/plain": [
       "0.09341775762463145"
      ]
     },
     "execution_count": 40,
     "metadata": {},
     "output_type": "execute_result"
    }
   ],
   "source": [
    "expected_return_race.max()\n"
   ]
  },
  {
   "cell_type": "code",
   "execution_count": 41,
   "metadata": {},
   "outputs": [
    {
     "data": {
      "text/plain": [
       "1005238    0.040968\n",
       "1005239   -0.030264\n",
       "1005240   -0.027660\n",
       "1005241   -0.047795\n",
       "1005242    0.093418\n",
       "1005243    0.093115\n",
       "1005244    0.005635\n",
       "Name: totalEnjeu, dtype: float64"
      ]
     },
     "execution_count": 41,
     "metadata": {},
     "output_type": "execute_result"
    }
   ],
   "source": [
    "expected_return_race"
   ]
  },
  {
   "cell_type": "code",
   "execution_count": 46,
   "metadata": {},
   "outputs": [
    {
     "data": {
      "text/plain": [
       "131850.0"
      ]
     },
     "execution_count": 46,
     "metadata": {},
     "output_type": "execute_result"
    }
   ],
   "source": [
    "previous_stakes.sum()"
   ]
  },
  {
   "cell_type": "code",
   "execution_count": 48,
   "metadata": {},
   "outputs": [
    {
     "data": {
      "text/plain": [
       "1050"
      ]
     },
     "execution_count": 48,
     "metadata": {},
     "output_type": "execute_result"
    }
   ],
   "source": [
    "PMU_MINIMUM_BET_SIZE*n_horses"
   ]
  },
  {
   "cell_type": "code",
   "execution_count": 52,
   "metadata": {},
   "outputs": [],
   "source": [
    "race_bet =np.ones((n_horses,))*PMU_MINIMUM_BET_SIZE"
   ]
  },
  {
   "cell_type": "code",
   "execution_count": 62,
   "metadata": {},
   "outputs": [],
   "source": [
    "odds=(\n",
    "        race_bet\n",
    "        / (previous_stakes + race_bet)\n",
    "        * (1 - track_take)\n",
    "        * (previous_stakes.sum())\n",
    "    )"
   ]
  },
  {
   "cell_type": "code",
   "execution_count": 63,
   "metadata": {},
   "outputs": [
    {
     "data": {
      "text/plain": [
       "1005238    188.040280\n",
       "1005239    105.904467\n",
       "1005240    115.170429\n",
       "1005241     66.732460\n",
       "1005242    188.006495\n",
       "1005243    216.654535\n",
       "1005244    145.109936\n",
       "Name: totalEnjeu, dtype: float64"
      ]
     },
     "execution_count": 63,
     "metadata": {},
     "output_type": "execute_result"
    }
   ],
   "source": [
    "y_hat_race*odds"
   ]
  },
  {
   "cell_type": "code",
   "execution_count": 64,
   "metadata": {},
   "outputs": [
    {
     "data": {
      "text/plain": [
       "array([-146.52154092, -138.52543831, -145.13033666, -117.4487561 ,\n",
       "        -91.41505659, -120.60961872, -140.3492555 ])"
      ]
     },
     "execution_count": 64,
     "metadata": {},
     "output_type": "execute_result"
    }
   ],
   "source": [
    "-race_bet*(1-y_hat_race)"
   ]
  },
  {
   "cell_type": "code",
   "execution_count": 65,
   "metadata": {},
   "outputs": [
    {
     "data": {
      "text/plain": [
       "1005238    41.518739\n",
       "1005239   -32.620971\n",
       "1005240   -29.959907\n",
       "1005241   -50.716296\n",
       "1005242    96.591438\n",
       "1005243    96.044917\n",
       "1005244     4.760681\n",
       "Name: totalEnjeu, dtype: float64"
      ]
     },
     "execution_count": 65,
     "metadata": {},
     "output_type": "execute_result"
    }
   ],
   "source": [
    "y_hat_race*odds-race_bet*(1-y_hat_race)"
   ]
  },
  {
   "cell_type": "code",
   "execution_count": 68,
   "metadata": {},
   "outputs": [
    {
     "data": {
      "text/plain": [
       "1005238    0.276792\n",
       "1005239   -0.217473\n",
       "1005240   -0.199733\n",
       "1005241   -0.338109\n",
       "1005242    0.643943\n",
       "1005243    0.640299\n",
       "1005244    0.031738\n",
       "Name: totalEnjeu, dtype: float64"
      ]
     },
     "execution_count": 68,
     "metadata": {},
     "output_type": "execute_result"
    }
   ],
   "source": [
    "(y_hat_race*odds-race_bet*(1-y_hat_race))/PMU_MINIMUM_BET_SIZE"
   ]
  },
  {
   "cell_type": "code",
   "execution_count": 60,
   "metadata": {},
   "outputs": [
    {
     "data": {
      "text/plain": [
       "1005238    43.016216\n",
       "1005239   -31.777591\n",
       "1005240   -29.042737\n",
       "1005241   -50.184866\n",
       "1005242    98.088646\n",
       "1005243    97.770266\n",
       "1005244     5.916278\n",
       "Name: totalEnjeu, dtype: float64"
      ]
     },
     "execution_count": 60,
     "metadata": {},
     "output_type": "execute_result"
    }
   ],
   "source": [
    "get_race_expected_return(\n",
    "    y_hat_race=y_hat_race,\n",
    "    track_take=track_take,\n",
    "    previous_stakes=previous_stakes,\n",
    "    race_bet=PMU_MINIMUM_BET_SIZE * np.ones((n_horses,)),\n",
    ")"
   ]
  },
  {
   "cell_type": "code",
   "execution_count": 67,
   "metadata": {},
   "outputs": [
    {
     "data": {
      "text/plain": [
       "1005238    0.286775\n",
       "1005239   -0.211851\n",
       "1005240   -0.193618\n",
       "1005241   -0.334566\n",
       "1005242    0.653924\n",
       "1005243    0.651802\n",
       "1005244    0.039442\n",
       "Name: totalEnjeu, dtype: float64"
      ]
     },
     "execution_count": 67,
     "metadata": {},
     "output_type": "execute_result"
    }
   ],
   "source": [
    "get_race_expected_return(\n",
    "    y_hat_race=y_hat_race,\n",
    "    track_take=track_take,\n",
    "    previous_stakes=previous_stakes,\n",
    "    race_bet=PMU_MINIMUM_BET_SIZE * np.ones((n_horses,)),\n",
    ")/PMU_MINIMUM_BET_SIZE"
   ]
  },
  {
   "cell_type": "code",
   "execution_count": null,
   "metadata": {},
   "outputs": [],
   "source": []
  }
 ],
 "metadata": {
  "kernelspec": {
   "display_name": "Python 3",
   "language": "python",
   "name": "python3"
  },
  "language_info": {
   "codemirror_mode": {
    "name": "ipython",
    "version": 3
   },
   "file_extension": ".py",
   "mimetype": "text/x-python",
   "name": "python",
   "nbconvert_exporter": "python",
   "pygments_lexer": "ipython3",
   "version": "3.6.4"
  }
 },
 "nbformat": 4,
 "nbformat_minor": 4
}
