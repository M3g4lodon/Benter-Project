{
 "cells": [
  {
   "cell_type": "code",
   "execution_count": 1,
   "metadata": {},
   "outputs": [
    {
     "name": "stdout",
     "output_type": "stream",
     "text": [
      "/home/mathieu/Mindsay/mathieu/Benter-Project\n"
     ]
    }
   ],
   "source": [
    "#%cd C:/Users/Mathieu/Desktop/Projets/Benter\n",
    "%cd /home/mathieu/Mindsay/mathieu/Benter-Project"
   ]
  },
  {
   "cell_type": "code",
   "execution_count": 2,
   "metadata": {},
   "outputs": [],
   "source": [
    "%matplotlib inline\n",
    "import collections\n",
    "import functools\n",
    "\n",
    "from matplotlib import pyplot as plt\n",
    "import numpy as np\n",
    "import tensorflow as tf\n",
    "import seaborn as sns\n",
    "import pandas as pd\n",
    "from tqdm import tqdm\n",
    "from joblib import Memory\n",
    "\n",
    "from utils import import_data\n",
    "from utils import wagering_stategy\n",
    "from winning_horse_models.logistic_regression import LogisticRegressionModel\n",
    "from constants import PMU_BETTINGS, SOURCE_PMU\n",
    "from utils.wagering_stategy import compute_expected_return, compute_scenario, plot_scenario\n",
    "import wagering_stategies\n",
    "from wagering_stategies import factories as wagering_factories\n",
    "from constants import CACHE_DIR\n",
    "\n",
    "from matplotlib import style\n",
    "style.use('ggplot')\n",
    "\n",
    "memory = Memory(location=CACHE_DIR, verbose=0)\n",
    "\n",
    "winning_model = LogisticRegressionModel.load_model(trainable=False)"
   ]
  },
  {
   "cell_type": "code",
   "execution_count": null,
   "metadata": {},
   "outputs": [],
   "source": [
    "%%time\n",
    "\n",
    "\n",
    "\n",
    "kelly_expected_return = compute_expected_return(\n",
    "    compute_betting_fun=wagering_stategies.race_bettings_kelly,\n",
    "    source=SOURCE_PMU,\n",
    "    code_pari=\"E_SIMPLE_GAGNANT\",\n",
    "    winning_model=winning_model,\n",
    ") \n",
    "# Save this dataframe\n",
    "kelly_expected_return.to_csv('./data/kelly_expected_return.csv', index=False)"
   ]
  },
  {
   "cell_type": "code",
   "execution_count": 3,
   "metadata": {},
   "outputs": [],
   "source": [
    "expected_return_df = pd.read_csv('./data/kelly_expected_return.csv')"
   ]
  },
  {
   "cell_type": "code",
   "execution_count": 4,
   "metadata": {},
   "outputs": [
    {
     "data": {
      "text/plain": [
       "betting_fraction                 0.048325\n",
       "bet_size                         8.839215\n",
       "expected_return                 -1.915370\n",
       "relative_expected_return        -0.251542\n",
       "computed_bets_on_n_horses        2.040406\n",
       "actual_bets_on_n_horses          0.041244\n",
       "n_horse                         11.590242\n",
       "race_id                      95130.787828\n",
       "dtype: float64"
      ]
     },
     "execution_count": 4,
     "metadata": {},
     "output_type": "execute_result"
    }
   ],
   "source": [
    "# Plot expected return \n",
    "expected_return_df.mean()"
   ]
  },
  {
   "cell_type": "code",
   "execution_count": 5,
   "metadata": {},
   "outputs": [
    {
     "name": "stdout",
     "output_type": "stream",
     "text": [
      "On all races, your expected return is -25.15% (std: 4e+00)\n",
      "You bet 4.08% of the time\n",
      "Average not betting streaks: 2.5e+01 races\n",
      "When you bet, on average your expected return is -25.15% (std: 4e+00)\n",
      "When you bet, you win 3.49% of the time\n",
      "When you bet, you lose 96.51% of the time\n",
      "When you bet&win, you make 2044.11% of the time (std: 9e+00)\n",
      "While betting, Average losing streaks 29.375 (std: 31.076267069904006)\n",
      "While betting, Longest losing streak: 121\n",
      "While betting, Longest winning streak: 2\n"
     ]
    }
   ],
   "source": [
    "wagering_stategy.plot_expected_return(expected_return_df=expected_return_df)"
   ]
  },
  {
   "cell_type": "code",
   "execution_count": 3,
   "metadata": {},
   "outputs": [],
   "source": [
    "@memory.cache\n",
    "def compute_factory_expected_return(minimum_winning_proba:float, minimum_expected_return:float)->pd.DataFrame:\n",
    "    return compute_expected_return(\n",
    "        compute_betting_fun=wagering_factories.betting_on_best_exp_return_thresholded_winning_proba_expected_returns_factory(minimum_winning_probabilities=minimum_winning_proba, \n",
    "                                                                                                                                          expected_return_threshold=minimum_expected_return),\n",
    "        source=SOURCE_PMU,\n",
    "        code_pari=\"E_SIMPLE_GAGNANT\",\n",
    "        winning_model=winning_model,\n",
    "    ) "
   ]
  },
  {
   "cell_type": "code",
   "execution_count": 4,
   "metadata": {
    "scrolled": true
   },
   "outputs": [
    {
     "name": "stdout",
     "output_type": "stream",
     "text": [
      "On all races, your expected return is -100.00% (std: 0.0)\n",
      "You bet 0.15% of the time(18 out of 11929 races)\n",
      "Average not betting streaks: 626.89 races\n",
      "When you bet, on average your expected return is -100.00% (std: 0.0)\n",
      "When you bet, you win 0.00% of the time (0 out of 18 bets)\n",
      "When you bet, you lose 100.00% of the time(18 out of 18 bets)\n",
      "Not winning any bets!\n",
      "While betting, Average losing streaks 18.0 (std: 0.0)\n",
      "While betting, Longest losing streak: 18\n",
      "There is no winning streaks!\n",
      "CPU times: user 28.1 ms, sys: 8 ms, total: 36.1 ms\n",
      "Wall time: 31.4 ms\n"
     ]
    }
   ],
   "source": [
    "%%time\n",
    "e_r_df = compute_factory_expected_return(minimum_winning_proba=0.3, minimum_expected_return=10)\n",
    "wagering_stategy.plot_expected_return(expected_return_df=e_r_df)"
   ]
  },
  {
   "cell_type": "code",
   "execution_count": 5,
   "metadata": {},
   "outputs": [
    {
     "name": "stdout",
     "output_type": "stream",
     "text": [
      "On all races, your expected return is +42.38% (std: 5.6)\n",
      "You bet 0.43% of the time(51 out of 11929 races)\n",
      "Average not betting streaks: 228.42 races\n",
      "When you bet, on average your expected return is +42.38% (std: 5.6)\n",
      "When you bet, you win 7.84% of the time (4 out of 51 bets)\n",
      "When you bet, you lose 92.16% of the time(47 out of 51 bets)\n",
      "When you bet&win, you make +1715.35% (std: 10.6)\n",
      "While betting, Average losing streaks 9.4 (std: 7.1)\n",
      "While betting, Longest losing streak: 20\n",
      "While betting, Longest winning streak: 1\n"
     ]
    }
   ],
   "source": [
    "e_r_df = compute_factory_expected_return(minimum_winning_proba=0.3, minimum_expected_return=6)\n",
    "wagering_stategy.plot_expected_return(expected_return_df=e_r_df)"
   ]
  },
  {
   "cell_type": "code",
   "execution_count": 7,
   "metadata": {},
   "outputs": [
    {
     "name": "stdout",
     "output_type": "stream",
     "text": [
      "On all races, your expected return is +34.92% (std: 10.3)\n",
      "You bet 1.29% of the time(154 out of 11929 races)\n",
      "Average not betting streaks: 77.47 races\n",
      "When you bet, on average your expected return is +34.92% (std: 10.3)\n",
      "When you bet, you win 1.95% of the time (3 out of 154 bets)\n",
      "When you bet, you lose 98.05% of the time(151 out of 154 bets)\n",
      "When you bet&win, you make +6825.87% (std: 33.3)\n",
      "While betting, Average losing streaks 37.75 (std: 17.6)\n",
      "While betting, Longest losing streak: 60\n",
      "While betting, Longest winning streak: 1\n",
      "CPU times: user 26.7 ms, sys: 4.95 ms, total: 31.7 ms\n",
      "Wall time: 27.2 ms\n"
     ]
    }
   ],
   "source": [
    "%%time\n",
    "e_r_df = compute_factory_expected_return(minimum_winning_proba=0.1, minimum_expected_return=10)\n",
    "wagering_stategy.plot_expected_return(expected_return_df=e_r_df)"
   ]
  },
  {
   "cell_type": "code",
   "execution_count": null,
   "metadata": {},
   "outputs": [],
   "source": []
  }
 ],
 "metadata": {
  "kernelspec": {
   "display_name": "Python 3",
   "language": "python",
   "name": "python3"
  },
  "language_info": {
   "codemirror_mode": {
    "name": "ipython",
    "version": 3
   },
   "file_extension": ".py",
   "mimetype": "text/x-python",
   "name": "python",
   "nbconvert_exporter": "python",
   "pygments_lexer": "ipython3",
   "version": "3.7.4"
  }
 },
 "nbformat": 4,
 "nbformat_minor": 4
}
