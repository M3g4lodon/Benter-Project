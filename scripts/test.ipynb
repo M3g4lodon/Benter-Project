{
 "cells": [
  {
   "cell_type": "code",
   "execution_count": 1,
   "metadata": {},
   "outputs": [
    {
     "name": "stdout",
     "output_type": "stream",
     "text": [
      "/home/mathieu/Mindsay/mathieu/Benter-Project\n"
     ]
    }
   ],
   "source": [
    "#%cd C:/Users/Mathieu/Desktop/Projets/Benter\n",
    "%cd /home/mathieu/Mindsay/mathieu/Benter-Project"
   ]
  },
  {
   "cell_type": "code",
   "execution_count": null,
   "metadata": {},
   "outputs": [],
   "source": [
    "%matplotlib inline\n",
    "import collections\n",
    "import functools\n",
    "\n",
    "from matplotlib import pyplot as plt\n",
    "import numpy as np\n",
    "import tensorflow as tf\n",
    "import seaborn as sns\n",
    "import pandas as pd\n",
    "from tqdm import tqdm\n",
    "from joblib import Memory\n",
    "\n",
    "from utils import import_data\n",
    "from utils import wagering_stategy\n",
    "from utils import permutations\n",
    "from winning_horse_models.logistic_regression import LogisticRegressionModel\n",
    "from constants import PMU_BETTINGS, SOURCE_PMU\n",
    "from utils.wagering_stategy import compute_expected_return, compute_scenario, plot_scenario\n",
    "import wagering_stategies\n",
    "from wagering_stategies import factories as wagering_factories\n",
    "from constants import CACHE_DIR\n",
    "\n",
    "from matplotlib import style\n",
    "style.use('ggplot')\n",
    "\n",
    "memory = Memory(location=CACHE_DIR, verbose=0)\n",
    "\n",
    "winning_model = LogisticRegressionModel.load_model()"
   ]
  },
  {
   "cell_type": "code",
   "execution_count": 4,
   "metadata": {},
   "outputs": [],
   "source": [
    "source = \"PMU\"\n",
    "n_horses =16"
   ]
  },
  {
   "cell_type": "code",
   "execution_count": null,
   "metadata": {},
   "outputs": [],
   "source": [
    "x, y, _ = import_data.get_races_per_horse_number(\n",
    "    source=source,\n",
    "    n_horses=n_horses,\n",
    "    on_split=\"train\",\n",
    "    x_format=\"sequential_per_horse\",\n",
    "    y_format=\"rank\",\n",
    ")"
   ]
  },
  {
   "cell_type": "code",
   "execution_count": 6,
   "metadata": {},
   "outputs": [],
   "source": [
    "min_horse, max_horse = import_data.get_min_max_horse(source=source)"
   ]
  },
  {
   "cell_type": "code",
   "execution_count": 21,
   "metadata": {},
   "outputs": [],
   "source": [
    "rank=y"
   ]
  },
  {
   "cell_type": "code",
   "execution_count": 7,
   "metadata": {},
   "outputs": [],
   "source": [
    "n_horses = 3"
   ]
  },
  {
   "cell_type": "code",
   "execution_count": 18,
   "metadata": {},
   "outputs": [],
   "source": [
    "permutation=(1,2)"
   ]
  },
  {
   "cell_type": "code",
   "execution_count": 22,
   "metadata": {},
   "outputs": [
    {
     "data": {
      "text/plain": [
       "array([[2., 3.],\n",
       "       [3., 2.],\n",
       "       [2., 3.],\n",
       "       [2., 1.],\n",
       "       [2., 3.],\n",
       "       [1., 3.],\n",
       "       [2., 1.],\n",
       "       [3., 2.],\n",
       "       [2., 1.],\n",
       "       [1., 3.],\n",
       "       [2., 3.],\n",
       "       [2., 1.],\n",
       "       [2., 3.],\n",
       "       [1., 3.],\n",
       "       [2., 1.],\n",
       "       [2., 3.],\n",
       "       [2., 3.],\n",
       "       [3., 1.],\n",
       "       [2., 1.],\n",
       "       [3., 1.],\n",
       "       [2., 3.],\n",
       "       [3., 1.],\n",
       "       [2., 1.],\n",
       "       [2., 3.],\n",
       "       [1., 3.],\n",
       "       [2., 3.],\n",
       "       [2., 3.],\n",
       "       [1., 3.],\n",
       "       [3., 2.]], dtype=float32)"
      ]
     },
     "execution_count": 22,
     "metadata": {},
     "output_type": "execute_result"
    }
   ],
   "source": [
    "rank[:, permutation]"
   ]
  },
  {
   "cell_type": "code",
   "execution_count": 10,
   "metadata": {},
   "outputs": [
    {
     "name": "stdout",
     "output_type": "stream",
     "text": [
      "CPU times: user 788 µs, sys: 34 µs, total: 822 µs\n",
      "Wall time: 868 µs\n"
     ]
    }
   ],
   "source": [
    "%%time\n",
    "cut_permuted_x = np.concatenate([x[:,cut_permutation,:] for cut_permutation in permutations.get_n_cut_permutations(sequence=range(x.shape[1]), n=10, r=n_horses)])"
   ]
  },
  {
   "cell_type": "code",
   "execution_count": 11,
   "metadata": {},
   "outputs": [
    {
     "data": {
      "text/plain": [
       "(2710, 3, 49)"
      ]
     },
     "execution_count": 11,
     "metadata": {},
     "output_type": "execute_result"
    }
   ],
   "source": [
    "cut_permuted_x.shape"
   ]
  },
  {
   "cell_type": "code",
   "execution_count": 95,
   "metadata": {},
   "outputs": [
    {
     "data": {
      "text/plain": [
       "(145, 3, 49)"
      ]
     },
     "execution_count": 95,
     "metadata": {},
     "output_type": "execute_result"
    }
   ],
   "source": [
    "permuted_x.shape"
   ]
  },
  {
   "cell_type": "code",
   "execution_count": 99,
   "metadata": {},
   "outputs": [
    {
     "data": {
      "text/plain": [
       "(145, 147)"
      ]
     },
     "execution_count": 99,
     "metadata": {},
     "output_type": "execute_result"
    }
   ],
   "source": [
    "np.reshape(a=permuted_x, newshape=(permuted_x.shape[0], -1),order=\"F\").shape"
   ]
  },
  {
   "cell_type": "code",
   "execution_count": 78,
   "metadata": {},
   "outputs": [],
   "source": [
    "permutation = (1,2,0)"
   ]
  },
  {
   "cell_type": "code",
   "execution_count": 81,
   "metadata": {},
   "outputs": [
    {
     "data": {
      "text/plain": [
       "int"
      ]
     },
     "execution_count": 81,
     "metadata": {},
     "output_type": "execute_result"
    }
   ],
   "source": [
    "type(permutation.index(0))"
   ]
  },
  {
   "cell_type": "code",
   "execution_count": 91,
   "metadata": {},
   "outputs": [
    {
     "data": {
      "text/plain": [
       "array([2, 2, 2, 1, 2, 0, 1, 2, 1, 0, 2, 1, 2, 0, 1, 2, 2, 1, 1, 1, 2, 1,\n",
       "       1, 2, 0, 2, 2, 0, 2])"
      ]
     },
     "execution_count": 91,
     "metadata": {},
     "output_type": "execute_result"
    }
   ],
   "source": [
    "np.concatenate(np.vectorize(lambda y_i: permutation.index(y_i))(y) for permutation"
   ]
  },
  {
   "cell_type": "code",
   "execution_count": 90,
   "metadata": {},
   "outputs": [
    {
     "data": {
      "text/plain": [
       "array([2, 2, 2, 1, 2, 0, 1, 2, 1, 0, 2, 1, 2, 0, 1, 2, 2, 1, 1, 1, 2, 1,\n",
       "       1, 2, 0, 2, 2, 0, 2])"
      ]
     },
     "execution_count": 90,
     "metadata": {},
     "output_type": "execute_result"
    }
   ],
   "source": [
    "fv(y)"
   ]
  },
  {
   "cell_type": "code",
   "execution_count": 87,
   "metadata": {},
   "outputs": [
    {
     "name": "stdout",
     "output_type": "stream",
     "text": [
      "[0. 0. 0. 2. 0. 1. 2. 0. 2. 1. 0. 2. 0. 1. 2. 0. 0. 2. 2. 2. 0. 2. 2. 0.\n",
      " 1. 0. 0. 1. 0.]\n"
     ]
    },
    {
     "data": {
      "text/plain": [
       "array(None, dtype=object)"
      ]
     },
     "execution_count": 87,
     "metadata": {},
     "output_type": "execute_result"
    }
   ],
   "source": [
    "np.apply_along_axis(func1d=lambda y_i:print(y_i), axis=0, arr=y)"
   ]
  },
  {
   "cell_type": "code",
   "execution_count": 53,
   "metadata": {},
   "outputs": [],
   "source": [
    "permuted_y=np.concatenate(np.apply_along_axis(permutation.index)"
   ]
  },
  {
   "cell_type": "code",
   "execution_count": 54,
   "metadata": {},
   "outputs": [
    {
     "data": {
      "text/plain": [
       "[(0, 2, 1), (1, 0, 2), (1, 2, 0), (2, 0, 1), (2, 1, 0)]"
      ]
     },
     "execution_count": 54,
     "metadata": {},
     "output_type": "execute_result"
    }
   ],
   "source": [
    "get_perms(list(range(3)), N=10)"
   ]
  },
  {
   "cell_type": "code",
   "execution_count": 55,
   "metadata": {},
   "outputs": [
    {
     "data": {
      "text/plain": [
       "[(2, 0, 1), (2, 1, 0), (0, 2, 1)]"
      ]
     },
     "execution_count": 55,
     "metadata": {},
     "output_type": "execute_result"
    }
   ],
   "source": [
    "get_perms(list(range(3)), N=3)"
   ]
  },
  {
   "cell_type": "code",
   "execution_count": 57,
   "metadata": {},
   "outputs": [
    {
     "data": {
      "text/plain": [
       "[(2, 0, 1), (2, 1, 0), (0, 2, 1)]"
      ]
     },
     "execution_count": 57,
     "metadata": {},
     "output_type": "execute_result"
    }
   ],
   "source": [
    "get_n_permutations(list(range(3)), n=3)"
   ]
  },
  {
   "cell_type": "code",
   "execution_count": 19,
   "metadata": {},
   "outputs": [],
   "source": [
    "n_horse_features = int(x.shape[1]/n_horses)"
   ]
  },
  {
   "cell_type": "code",
   "execution_count": null,
   "metadata": {},
   "outputs": [],
   "source": [
    "permutation = [0,1,2]\n",
    "permutation = [1,2,0]"
   ]
  },
  {
   "cell_type": "code",
   "execution_count": 10,
   "metadata": {},
   "outputs": [
    {
     "data": {
      "text/plain": [
       "array([0., 0., 0., 2., 0., 1., 2., 0., 2., 1., 0., 2., 0., 1., 2., 0., 0.,\n",
       "       2., 2., 2., 0., 2., 2., 0., 1., 0., 0., 1., 0.], dtype=float32)"
      ]
     },
     "execution_count": 10,
     "metadata": {},
     "output_type": "execute_result"
    }
   ],
   "source": [
    "y"
   ]
  },
  {
   "cell_type": "code",
   "execution_count": 12,
   "metadata": {},
   "outputs": [
    {
     "data": {
      "text/plain": [
       "array([ 0.        ,  0.        ,  0.        , -8.071549  , -8.071549  ,\n",
       "       -8.071549  , -0.23596159, -0.23596159, -0.6498047 ,  0.        ,\n",
       "        0.        ,  0.        ,  0.15278423,  0.15278423,  0.15278423,\n",
       "        0.40554452,  0.40554452,  0.40554452,  0.        ,  0.        ,\n",
       "        0.        ,  0.        ,  0.        ,  0.        , -2.501967  ,\n",
       "       -2.501967  , -2.501967  ,  0.        ,  0.        ,  0.        ,\n",
       "       -1.1884238 , -0.70079905, -0.9446114 , -1.0369676 , -1.0369676 ,\n",
       "       -1.0369676 , -0.76692   , -0.76692   , -0.5345543 ,  0.17303346,\n",
       "        0.17303346,  0.17303346, -0.7898843 , -0.7898843 , -0.2987695 ,\n",
       "        4.1373005 ,  4.1373005 ,  0.7519047 , -1.5515456 , -1.7249205 ,\n",
       "       -0.5112963 ,  0.95560664,  0.07670319,  0.22820814, -0.9677058 ,\n",
       "       -0.46857604, -0.4373541 ,  1.8462645 ,  0.11000843,  1.9087297 ,\n",
       "       -1.6278287 , -0.9008076 , -1.6492289 ,  1.        ,  1.        ,\n",
       "        1.        ,  0.        ,  0.        ,  0.        ,  0.        ,\n",
       "        0.        ,  0.        ,  0.        ,  0.        ,  0.        ,\n",
       "        0.        ,  0.        ,  0.        ,  1.        ,  1.        ,\n",
       "        1.        ,  0.        ,  0.        ,  0.        ,  0.        ,\n",
       "        0.        ,  0.        ,  0.        ,  0.        ,  0.        ,\n",
       "        1.        ,  1.        ,  1.        ,  0.        ,  0.        ,\n",
       "        0.        ,  0.        ,  0.        ,  0.        ,  0.        ,\n",
       "        0.        ,  0.        ,  0.        ,  0.        ,  0.        ,\n",
       "        0.        ,  0.        ,  0.        ,  0.        ,  0.        ,\n",
       "        0.        ,  0.        ,  0.        ,  0.        ,  0.        ,\n",
       "        0.        ,  0.        ,  0.        ,  0.        ,  0.        ,\n",
       "        0.        ,  0.        ,  0.        ,  0.        ,  0.        ,\n",
       "        0.        ,  0.        ,  0.        ,  0.        ,  0.        ,\n",
       "        0.        ,  0.        ,  1.        ,  1.        ,  1.        ,\n",
       "        0.        ,  0.        ,  0.        ,  0.        ,  0.        ,\n",
       "        0.        ,  0.        ,  0.        ,  0.        ,  0.        ,\n",
       "        0.        ,  0.        ], dtype=float32)"
      ]
     },
     "execution_count": 12,
     "metadata": {},
     "output_type": "execute_result"
    }
   ],
   "source": [
    "x[0,:]"
   ]
  },
  {
   "cell_type": "code",
   "execution_count": null,
   "metadata": {},
   "outputs": [],
   "source": []
  }
 ],
 "metadata": {
  "kernelspec": {
   "display_name": "Python 3",
   "language": "python",
   "name": "python3"
  },
  "language_info": {
   "codemirror_mode": {
    "name": "ipython",
    "version": 3
   },
   "file_extension": ".py",
   "mimetype": "text/x-python",
   "name": "python",
   "nbconvert_exporter": "python",
   "pygments_lexer": "ipython3",
   "version": "3.7.4"
  }
 },
 "nbformat": 4,
 "nbformat_minor": 4
}
