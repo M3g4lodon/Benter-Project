{
 "cells": [
  {
   "cell_type": "code",
   "execution_count": 9,
   "metadata": {},
   "outputs": [
    {
     "name": "stdout",
     "output_type": "stream",
     "text": [
      "/home/mathieu/Mindsay/mathieu/Benter-Project\n"
     ]
    }
   ],
   "source": [
    "#%cd C:/Users/Mathieu/Desktop/Projets/Benter\n",
    "%cd /home/mathieu/Mindsay/mathieu/Benter-Project"
   ]
  },
  {
   "cell_type": "markdown",
   "metadata": {},
   "source": [
    "# Train \n",
    "\n",
    "- predict the best horse in a given race\n",
    "\n",
    "\n",
    "### TODO\n",
    "- try to predict a given distribution according to ranks, instead of the first one\n",
    "- try to predict best among all combinaisons"
   ]
  },
  {
   "cell_type": "code",
   "execution_count": 10,
   "metadata": {},
   "outputs": [],
   "source": [
    "%matplotlib inline\n",
    "\n",
    "import datetime as dt\n",
    "import pandas as pd\n",
    "import seaborn as sns\n",
    "import numpy as np\n",
    "from tqdm import tqdm\n",
    "import re\n",
    "from itertools import combinations\n",
    "import tensorflow as tf\n",
    "import functools\n",
    "from scipy.stats import rankdata\n",
    "import scipy\n",
    "import json\n",
    "\n",
    "from utils import import_data\n",
    "from winning_validation import errors, probability_at_rank, return_against\n",
    "import winning_validation\n",
    "from winning_horse_models import sklearn\n",
    "from winning_horse_models.logistic_regression import LogisticRegressionModel\n",
    "from winning_horse_models.xgboost import XGBoostWinningModel\n",
    "from winning_horse_models.lgbm import LGBMWinningModel\n",
    "from training_procedures import flattened_training\n",
    "\n",
    "SOURCE = \"PMU\""
   ]
  },
  {
   "cell_type": "code",
   "execution_count": 3,
   "metadata": {
    "scrolled": true
   },
   "outputs": [],
   "source": [
    "sequential_sgd_regression = LogisticRegressionModel.load_model()"
   ]
  },
  {
   "cell_type": "code",
   "execution_count": 4,
   "metadata": {},
   "outputs": [
    {
     "data": {
      "text/plain": [
       "(0.04917593446047697,\n",
       " 0.4947343446536749,\n",
       " -0.2528736465547953,\n",
       " -2.098604165707568)"
      ]
     },
     "execution_count": 4,
     "metadata": {},
     "output_type": "execute_result"
    }
   ],
   "source": [
    "returns = return_against.compute_return_against_odds(source=\"PMU\",same_races_support=True, winning_model=sequential_sgd_regression, verbose=False);\n",
    "return_against.compute_overall_average(returns)"
   ]
  },
  {
   "cell_type": "code",
   "execution_count": 9,
   "metadata": {
    "scrolled": true
   },
   "outputs": [
    {
     "data": {
      "text/plain": [
       "(0.23681652490886998, 0.09218307006885379, 0.27112191170514377)"
      ]
     },
     "execution_count": 9,
     "metadata": {},
     "output_type": "execute_result"
    }
   ],
   "source": [
    "exact_top_1 = errors.compute_validation_error(source=SOURCE, \n",
    "                                                          k=1,\n",
    "                                                          winning_model=sequential_sgd_regression, \n",
    "                                                          validation_method=errors.exact_top_k)\n",
    "winning_validation.compute_overall_average(exact_top_1)"
   ]
  },
  {
   "cell_type": "code",
   "execution_count": 6,
   "metadata": {},
   "outputs": [],
   "source": [
    "kappa_cohen_1 = errors.compute_validation_error(source=SOURCE, \n",
    "                                                            k=1,\n",
    "                                                            winning_model=sequential_sgd_regression, \n",
    "                                                            validation_method=winning_validation.kappa_cohen_like)"
   ]
  },
  {
   "cell_type": "code",
   "execution_count": 7,
   "metadata": {},
   "outputs": [],
   "source": [
    "precision_at_3 = errors.compute_validation_error(source=SOURCE, \n",
    "                                                             k=3,\n",
    "                                                             winning_model=sequential_sgd_regression, \n",
    "                                                             validation_method=winning_validation.precision_at_k)"
   ]
  },
  {
   "cell_type": "code",
   "execution_count": 13,
   "metadata": {},
   "outputs": [],
   "source": [
    "xgboost_winning_model = XGBoostWinningModel.load_model()"
   ]
  },
  {
   "cell_type": "code",
   "execution_count": 14,
   "metadata": {},
   "outputs": [
    {
     "data": {
      "text/plain": [
       "(0.20612203527265355, 0.09519562132576526, 0.2711939995945672)"
      ]
     },
     "execution_count": 14,
     "metadata": {},
     "output_type": "execute_result"
    }
   ],
   "source": [
    "exact_top_1 = errors.compute_validation_error(source=SOURCE, k=1,winning_model=xgboost_winning_model, validation_method=errors.exact_top_k)\n",
    "errors.compute_overall_average(exact_top_1)"
   ]
  },
  {
   "cell_type": "code",
   "execution_count": 15,
   "metadata": {},
   "outputs": [
    {
     "data": {
      "text/plain": [
       "(0.12488284525758817, 0.002130053016071174, 0.19769219098749824)"
      ]
     },
     "execution_count": 15,
     "metadata": {},
     "output_type": "execute_result"
    }
   ],
   "source": [
    "kappa_cohen_1 = errors.compute_validation_error(source=SOURCE, \n",
    "                                                            k=1,\n",
    "                                                            winning_model=xgboost_winning_model, \n",
    "                                                            validation_method=errors.kappa_cohen_like)\n",
    "errors.compute_overall_average(kappa_cohen_1)"
   ]
  },
  {
   "cell_type": "code",
   "execution_count": 16,
   "metadata": {},
   "outputs": [
    {
     "data": {
      "text/plain": [
       "(0.059144163327034954,\n",
       " 0.2962006542614572,\n",
       " -0.31098611121580805,\n",
       " -2.0744722288679323)"
      ]
     },
     "execution_count": 16,
     "metadata": {},
     "output_type": "execute_result"
    }
   ],
   "source": [
    "returns = return_against.compute_return_against_odds(source=\"PMU\",same_races_support=True, winning_model=xgboost_winning_model, verbose=False);\n",
    "return_against.compute_overall_average(returns)"
   ]
  },
  {
   "cell_type": "code",
   "execution_count": 3,
   "metadata": {},
   "outputs": [],
   "source": [
    "lgmb_winning_model = LGBMWinningModel.load_model()"
   ]
  },
  {
   "cell_type": "code",
   "execution_count": 4,
   "metadata": {},
   "outputs": [
    {
     "name": "stdout",
     "output_type": "stream",
     "text": [
      "For races w/ 3 horses, 9 races in val, top 1 in right order: 44.444% (Random: 22.222%, Odds 55.556%)\n",
      "For races w/ 4 horses, 77 races in val, top 1 in right order: 29.870% (Random: 35.065%, Odds 50.649%)\n",
      "For races w/ 5 horses, 354 races in val, top 1 in right order: 31.356% (Random: 16.949%, Odds 44.350%)\n",
      "For races w/ 6 horses, 829 races in val, top 1 in right order: 25.814% (Random: 16.888%, Odds 36.188%)\n",
      "For races w/ 7 horses, 1489 races in val, top 1 in right order: 26.998% (Random: 14.909%, Odds 37.139%)\n",
      "For races w/ 8 horses, 1914 races in val, top 1 in right order: 27.691% (Random: 11.755%, Odds 35.005%)\n",
      "For races w/ 9 horses, 2072 races in val, top 1 in right order: 22.442% (Random: 12.403%, Odds 33.687%)\n",
      "For races w/ 10 horses, 2457 races in val, top 1 in right order: 20.228% (Random: 10.623%, Odds 30.322%)\n",
      "For races w/ 11 horses, 2269 races in val, top 1 in right order: 19.392% (Random: 9.079%, Odds 28.735%)\n",
      "For races w/ 12 horses, 2740 races in val, top 1 in right order: 20.073% (Random: 8.102%, Odds 26.606%)\n",
      "For races w/ 13 horses, 2204 races in val, top 1 in right order: 18.058% (Random: 8.167%, Odds 21.279%)\n",
      "For races w/ 14 horses, 2446 races in val, top 1 in right order: 19.787% (Random: 7.236%, Odds 20.237%)\n",
      "For races w/ 15 horses, 1978 races in val, top 1 in right order: 17.644% (Random: 6.623%, Odds 20.526%)\n",
      "For races w/ 16 horses, 2379 races in val, top 1 in right order: 15.805% (Random: 6.515%, Odds 21.101%)\n",
      "For races w/ 17 horses, 614 races in val, top 1 in right order: 11.889% (Random: 6.840%, Odds 16.124%)\n",
      "For races w/ 18 horses, 757 races in val, top 1 in right order: 14.795% (Random: 5.020%, Odds 21.268%)\n",
      "For races w/ 19 horses, 44 races in val, top 1 in right order: 11.364% (Random: 6.818%, Odds 11.364%)\n",
      "For races w/ 20 horses, 33 races in val, top 1 in right order: 6.061% (Random: 0.000%, Odds 12.121%)\n"
     ]
    }
   ],
   "source": [
    "exact_top_1 = winning_validation.compute_validation_error(source=SOURCE, k=1,winning_model=lgmb_winning_model, validation_method=winning_validation.exact_top_k)"
   ]
  },
  {
   "cell_type": "code",
   "execution_count": 3,
   "metadata": {},
   "outputs": [
    {
     "name": "stdout",
     "output_type": "stream",
     "text": [
      "DecisionTreeModel\n",
      "(0.030470628793524007, 0.002130053016071174, 0.19769219098749824)\n",
      "SVCModel\n",
      "(0.04685053088385765, 0.002130053016071174, 0.19769219098749824)\n",
      "KNNModel\n",
      "(0.1837746083693874, 0.002130053016071174, 0.19769219098749824)\n",
      "RandomForestModel\n",
      "(0.09921375068151626, 0.002130053016071174, 0.19769219098749824)\n",
      "GradientBoostingModel\n",
      "(0.11398277168714965, 0.002130053016071174, 0.19769219098749824)\n",
      "GaussianNBModel\n",
      "(-0.0008610628552462091, 0.002130053016071174, 0.19769219098749824)\n",
      "LDAModel\n",
      "(0.06514285743523787, 0.002130053016071174, 0.19769219098749824)\n",
      "SGDModel\n",
      "(0.05170616861614152, 0.002130053016071174, 0.19769219098749824)\n"
     ]
    },
    {
     "name": "stderr",
     "output_type": "stream",
     "text": [
      "/home/mathieu/.pyenv/versions/3.7.4/envs/venv_benter/lib/python3.7/site-packages/scikit_learn-0.23.1-py3.7-linux-x86_64.egg/sklearn/linear_model/_base.py:327: RuntimeWarning: invalid value encountered in true_divide\n",
      "  prob /= prob.sum(axis=1).reshape((prob.shape[0], -1))\n"
     ]
    }
   ],
   "source": [
    "\n",
    "for SklearnModel in [\n",
    "     sklearn.DecisionTreeModel, sklearn.SVCModel, sklearn.KNNModel,\n",
    "                     sklearn.RandomForestModel,\n",
    "                     sklearn.GradientBoostingModel, sklearn.GaussianNBModel, sklearn.LDAModel,\n",
    "                     sklearn.SGDModel\n",
    "                    ]:\n",
    "    print(SklearnModel.__name__)\n",
    "    sklearn_winning_model = SklearnModel.load_model()\n",
    "    kappa_cohen_1 = winning_validation.compute_validation_error(source=SOURCE, k=1,winning_model=sklearn_winning_model, \n",
    "                                                              validation_method=winning_validation.kappa_cohen_like)\n",
    "    print(winning_validation.compute_overall_average(kappa_cohen_1))\n",
    "    print()"
   ]
  },
  {
   "cell_type": "code",
   "execution_count": null,
   "metadata": {},
   "outputs": [],
   "source": []
  }
 ],
 "metadata": {
  "kernelspec": {
   "display_name": "Python 3",
   "language": "python",
   "name": "python3"
  },
  "language_info": {
   "codemirror_mode": {
    "name": "ipython",
    "version": 3
   },
   "file_extension": ".py",
   "mimetype": "text/x-python",
   "name": "python",
   "nbconvert_exporter": "python",
   "pygments_lexer": "ipython3",
   "version": "3.7.9"
  }
 },
 "nbformat": 4,
 "nbformat_minor": 4
}
