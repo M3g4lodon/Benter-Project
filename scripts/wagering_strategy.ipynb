{
 "cells": [
  {
   "cell_type": "code",
   "execution_count": 2,
   "metadata": {},
   "outputs": [
    {
     "name": "stdout",
     "output_type": "stream",
     "text": [
      "C:\\Users\\Mathieu\\Desktop\\Projets\\Benter\n"
     ]
    }
   ],
   "source": [
    "%cd C:/Users/Mathieu/Desktop/Projets/Benter"
   ]
  },
  {
   "cell_type": "code",
   "execution_count": 28,
   "metadata": {},
   "outputs": [],
   "source": [
    "\n",
    "%matplotlib inline\n",
    "import collections\n",
    "import functools\n",
    "\n",
    "from matplotlib import pyplot as plt\n",
    "import numpy as np\n",
    "import tensorflow as tf\n",
    "import seaborn as sns\n",
    "import pandas as pd\n",
    "from tqdm import tqdm\n",
    "\n",
    "\n",
    "from utils import import_data\n",
    "from winning_horse_models.logistic_regression import LogisticRegressionModel\n",
    "from constants import PMU_BETTINGS, SOURCE_PMU\n",
    "from utils.wagering_stategy import compute_expected_return, compute_scenario\n",
    "import wagering_stategies\n",
    "from wagering_stategies import factories as wagering_factories\n",
    "\n",
    "from matplotlib import style\n",
    "style.use('ggplot')"
   ]
  },
  {
   "cell_type": "code",
   "execution_count": 21,
   "metadata": {},
   "outputs": [],
   "source": [
    "winning_model = LogisticRegressionModel.load_model(trainable=False)"
   ]
  },
  {
   "cell_type": "code",
   "execution_count": 5,
   "metadata": {
    "scrolled": true
   },
   "outputs": [
    {
     "name": "stderr",
     "output_type": "stream",
     "text": [
      "C:\\Users\\Mathieu\\Desktop\\Projets\\Benter\\utils\\wagering_stategy.py:34: DtypeWarning: Columns (35,46,47,61,62,63,64,87) have mixed types.Specify dtype option on import or set low_memory=False.\n",
      "  n_races = import_data.get_n_races(source=source, on_split=\"val\")\n",
      "  0%|                                                                                                                                                                                                        | 0/24690 [00:00<?, ?it/s]C:\\Users\\Mathieu\\Anaconda3\\envs\\deeplearning\\lib\\site-packages\\pandas\\core\\frame.py:2963: SettingWithCopyWarning: \n",
      "A value is trying to be set on a copy of a slice from a DataFrame.\n",
      "Try using .loc[row_indexer,col_indexer] = value instead\n",
      "\n",
      "See the caveats in the documentation: https://pandas.pydata.org/pandas-docs/stable/user_guide/indexing.html#returning-a-view-versus-a-copy\n",
      "  self[k1] = value[k2]\n",
      "C:\\Users\\Mathieu\\Desktop\\Projets\\Benter\\utils\\preprocess.py:124: SettingWithCopyWarning: \n",
      "A value is trying to be set on a copy of a slice from a DataFrame.\n",
      "Try using .loc[row_indexer,col_indexer] = value instead\n",
      "\n",
      "See the caveats in the documentation: https://pandas.pydata.org/pandas-docs/stable/user_guide/indexing.html#returning-a-view-versus-a-copy\n",
      "  ) / standard_scaler_parameters[numerical_feature][\"std\"]\n",
      "C:\\Users\\Mathieu\\Desktop\\Projets\\Benter\\utils\\preprocess.py:125: SettingWithCopyWarning: \n",
      "A value is trying to be set on a copy of a slice from a DataFrame.\n",
      "Try using .loc[row_indexer,col_indexer] = value instead\n",
      "\n",
      "See the caveats in the documentation: https://pandas.pydata.org/pandas-docs/stable/user_guide/indexing.html#returning-a-view-versus-a-copy\n",
      "  features_df[numerical_feature] = features_df[numerical_feature].fillna(0)\n",
      "C:\\Users\\Mathieu\\Desktop\\Projets\\Benter\\utils\\preprocess.py:129: SettingWithCopyWarning: \n",
      "A value is trying to be set on a copy of a slice from a DataFrame.\n",
      "Try using .loc[row_indexer,col_indexer] = value instead\n",
      "\n",
      "See the caveats in the documentation: https://pandas.pydata.org/pandas-docs/stable/user_guide/indexing.html#returning-a-view-versus-a-copy\n",
      "  features_df[f\"{ohe_feature}_{value}\"] = features_df[ohe_feature] == value\n",
      "C:\\Users\\Mathieu\\Anaconda3\\envs\\deeplearning\\lib\\site-packages\\pandas\\core\\frame.py:3997: SettingWithCopyWarning: \n",
      "A value is trying to be set on a copy of a slice from a DataFrame\n",
      "\n",
      "See the caveats in the documentation: https://pandas.pydata.org/pandas-docs/stable/user_guide/indexing.html#returning-a-view-versus-a-copy\n",
      "  errors=errors,\n",
      "C:\\Users\\Mathieu\\Desktop\\Projets\\Benter\\utils\\preprocess.py:134: SettingWithCopyWarning: \n",
      "A value is trying to be set on a copy of a slice from a DataFrame.\n",
      "Try using .loc[row_indexer,col_indexer] = value instead\n",
      "\n",
      "See the caveats in the documentation: https://pandas.pydata.org/pandas-docs/stable/user_guide/indexing.html#returning-a-view-versus-a-copy\n",
      "  [\"DEFERRE_ANTERIEURS_POSTERIEURS\", \"DEFERRE_ANTERIEURS\"]\n",
      "C:\\Users\\Mathieu\\Desktop\\Projets\\Benter\\utils\\preprocess.py:137: SettingWithCopyWarning: \n",
      "A value is trying to be set on a copy of a slice from a DataFrame.\n",
      "Try using .loc[row_indexer,col_indexer] = value instead\n",
      "\n",
      "See the caveats in the documentation: https://pandas.pydata.org/pandas-docs/stable/user_guide/indexing.html#returning-a-view-versus-a-copy\n",
      "  [\"DEFERRE_ANTERIEURS_POSTERIEURS\", \"DEFERRE_POSTERIEURS\"]\n",
      "                                                                                                                                                                                                                                       \r"
     ]
    },
    {
     "name": "stdout",
     "output_type": "stream",
     "text": [
      "Wall time: 36min 7s\n"
     ]
    }
   ],
   "source": [
    "%%time\n",
    "expected_return_df=compute_expected_return(compute_betting=wagering_stategies.race_betting_best_expected_return,\n",
    "    source=SOURCE_PMU,\n",
    "    code_pari=\"E_SIMPLE_GAGNANT\",\n",
    "    winning_model=winning_model)"
   ]
  },
  {
   "cell_type": "code",
   "execution_count": 6,
   "metadata": {},
   "outputs": [
    {
     "name": "stderr",
     "output_type": "stream",
     "text": [
      "  0%|                                                                                                                                                                                                        | 0/24690 [00:00<?, ?it/s]C:\\Users\\Mathieu\\Anaconda3\\envs\\deeplearning\\lib\\site-packages\\pandas\\core\\frame.py:2963: SettingWithCopyWarning: \n",
      "A value is trying to be set on a copy of a slice from a DataFrame.\n",
      "Try using .loc[row_indexer,col_indexer] = value instead\n",
      "\n",
      "See the caveats in the documentation: https://pandas.pydata.org/pandas-docs/stable/user_guide/indexing.html#returning-a-view-versus-a-copy\n",
      "  self[k1] = value[k2]\n",
      "C:\\Users\\Mathieu\\Desktop\\Projets\\Benter\\utils\\preprocess.py:124: SettingWithCopyWarning: \n",
      "A value is trying to be set on a copy of a slice from a DataFrame.\n",
      "Try using .loc[row_indexer,col_indexer] = value instead\n",
      "\n",
      "See the caveats in the documentation: https://pandas.pydata.org/pandas-docs/stable/user_guide/indexing.html#returning-a-view-versus-a-copy\n",
      "  ) / standard_scaler_parameters[numerical_feature][\"std\"]\n",
      "C:\\Users\\Mathieu\\Desktop\\Projets\\Benter\\utils\\preprocess.py:125: SettingWithCopyWarning: \n",
      "A value is trying to be set on a copy of a slice from a DataFrame.\n",
      "Try using .loc[row_indexer,col_indexer] = value instead\n",
      "\n",
      "See the caveats in the documentation: https://pandas.pydata.org/pandas-docs/stable/user_guide/indexing.html#returning-a-view-versus-a-copy\n",
      "  features_df[numerical_feature] = features_df[numerical_feature].fillna(0)\n",
      "C:\\Users\\Mathieu\\Desktop\\Projets\\Benter\\utils\\preprocess.py:129: SettingWithCopyWarning: \n",
      "A value is trying to be set on a copy of a slice from a DataFrame.\n",
      "Try using .loc[row_indexer,col_indexer] = value instead\n",
      "\n",
      "See the caveats in the documentation: https://pandas.pydata.org/pandas-docs/stable/user_guide/indexing.html#returning-a-view-versus-a-copy\n",
      "  features_df[f\"{ohe_feature}_{value}\"] = features_df[ohe_feature] == value\n",
      "C:\\Users\\Mathieu\\Anaconda3\\envs\\deeplearning\\lib\\site-packages\\pandas\\core\\frame.py:3997: SettingWithCopyWarning: \n",
      "A value is trying to be set on a copy of a slice from a DataFrame\n",
      "\n",
      "See the caveats in the documentation: https://pandas.pydata.org/pandas-docs/stable/user_guide/indexing.html#returning-a-view-versus-a-copy\n",
      "  errors=errors,\n",
      "C:\\Users\\Mathieu\\Desktop\\Projets\\Benter\\utils\\preprocess.py:134: SettingWithCopyWarning: \n",
      "A value is trying to be set on a copy of a slice from a DataFrame.\n",
      "Try using .loc[row_indexer,col_indexer] = value instead\n",
      "\n",
      "See the caveats in the documentation: https://pandas.pydata.org/pandas-docs/stable/user_guide/indexing.html#returning-a-view-versus-a-copy\n",
      "  [\"DEFERRE_ANTERIEURS_POSTERIEURS\", \"DEFERRE_ANTERIEURS\"]\n",
      "C:\\Users\\Mathieu\\Desktop\\Projets\\Benter\\utils\\preprocess.py:137: SettingWithCopyWarning: \n",
      "A value is trying to be set on a copy of a slice from a DataFrame.\n",
      "Try using .loc[row_indexer,col_indexer] = value instead\n",
      "\n",
      "See the caveats in the documentation: https://pandas.pydata.org/pandas-docs/stable/user_guide/indexing.html#returning-a-view-versus-a-copy\n",
      "  [\"DEFERRE_ANTERIEURS_POSTERIEURS\", \"DEFERRE_POSTERIEURS\"]\n",
      "  7%|████████████▎                                                                                                                                                                              | 1627/24690 [11:24<2:41:36,  2.38it/s]C:\\Users\\Mathieu\\Desktop\\Projets\\Benter\\utils\\wagering_stategy.py:60: RuntimeWarning: invalid value encountered in multiply\n",
      "  actual_betting * odds_race * (1 - track_take),  # TODO feedback effect\n",
      "                                                                                                                                                                                                                                       \r"
     ]
    },
    {
     "name": "stdout",
     "output_type": "stream",
     "text": [
      "Wall time: 29min 22s\n"
     ]
    }
   ],
   "source": [
    "%%time\n",
    "best_proba_expected_return_df=compute_expected_return(compute_betting=wagering_stategies.race_betting_best_winning_proba,\n",
    "    source=SOURCE_PMU,\n",
    "    code_pari=\"E_SIMPLE_GAGNANT\",\n",
    "    winning_model=winning_model)"
   ]
  },
  {
   "cell_type": "code",
   "execution_count": 7,
   "metadata": {},
   "outputs": [
    {
     "name": "stderr",
     "output_type": "stream",
     "text": [
      "  0%|                                                                                                                                                                                                        | 0/24690 [00:00<?, ?it/s]C:\\Users\\Mathieu\\Anaconda3\\envs\\deeplearning\\lib\\site-packages\\pandas\\core\\frame.py:2963: SettingWithCopyWarning: \n",
      "A value is trying to be set on a copy of a slice from a DataFrame.\n",
      "Try using .loc[row_indexer,col_indexer] = value instead\n",
      "\n",
      "See the caveats in the documentation: https://pandas.pydata.org/pandas-docs/stable/user_guide/indexing.html#returning-a-view-versus-a-copy\n",
      "  self[k1] = value[k2]\n",
      "C:\\Users\\Mathieu\\Desktop\\Projets\\Benter\\utils\\preprocess.py:124: SettingWithCopyWarning: \n",
      "A value is trying to be set on a copy of a slice from a DataFrame.\n",
      "Try using .loc[row_indexer,col_indexer] = value instead\n",
      "\n",
      "See the caveats in the documentation: https://pandas.pydata.org/pandas-docs/stable/user_guide/indexing.html#returning-a-view-versus-a-copy\n",
      "  ) / standard_scaler_parameters[numerical_feature][\"std\"]\n",
      "C:\\Users\\Mathieu\\Desktop\\Projets\\Benter\\utils\\preprocess.py:125: SettingWithCopyWarning: \n",
      "A value is trying to be set on a copy of a slice from a DataFrame.\n",
      "Try using .loc[row_indexer,col_indexer] = value instead\n",
      "\n",
      "See the caveats in the documentation: https://pandas.pydata.org/pandas-docs/stable/user_guide/indexing.html#returning-a-view-versus-a-copy\n",
      "  features_df[numerical_feature] = features_df[numerical_feature].fillna(0)\n",
      "C:\\Users\\Mathieu\\Desktop\\Projets\\Benter\\utils\\preprocess.py:129: SettingWithCopyWarning: \n",
      "A value is trying to be set on a copy of a slice from a DataFrame.\n",
      "Try using .loc[row_indexer,col_indexer] = value instead\n",
      "\n",
      "See the caveats in the documentation: https://pandas.pydata.org/pandas-docs/stable/user_guide/indexing.html#returning-a-view-versus-a-copy\n",
      "  features_df[f\"{ohe_feature}_{value}\"] = features_df[ohe_feature] == value\n",
      "C:\\Users\\Mathieu\\Anaconda3\\envs\\deeplearning\\lib\\site-packages\\pandas\\core\\frame.py:3997: SettingWithCopyWarning: \n",
      "A value is trying to be set on a copy of a slice from a DataFrame\n",
      "\n",
      "See the caveats in the documentation: https://pandas.pydata.org/pandas-docs/stable/user_guide/indexing.html#returning-a-view-versus-a-copy\n",
      "  errors=errors,\n",
      "C:\\Users\\Mathieu\\Desktop\\Projets\\Benter\\utils\\preprocess.py:134: SettingWithCopyWarning: \n",
      "A value is trying to be set on a copy of a slice from a DataFrame.\n",
      "Try using .loc[row_indexer,col_indexer] = value instead\n",
      "\n",
      "See the caveats in the documentation: https://pandas.pydata.org/pandas-docs/stable/user_guide/indexing.html#returning-a-view-versus-a-copy\n",
      "  [\"DEFERRE_ANTERIEURS_POSTERIEURS\", \"DEFERRE_ANTERIEURS\"]\n",
      "C:\\Users\\Mathieu\\Desktop\\Projets\\Benter\\utils\\preprocess.py:137: SettingWithCopyWarning: \n",
      "A value is trying to be set on a copy of a slice from a DataFrame.\n",
      "Try using .loc[row_indexer,col_indexer] = value instead\n",
      "\n",
      "See the caveats in the documentation: https://pandas.pydata.org/pandas-docs/stable/user_guide/indexing.html#returning-a-view-versus-a-copy\n",
      "  [\"DEFERRE_ANTERIEURS_POSTERIEURS\", \"DEFERRE_POSTERIEURS\"]\n",
      "  7%|████████████▎                                                                                                                                                                              | 1627/24690 [08:56<2:06:45,  3.03it/s]C:\\Users\\Mathieu\\Desktop\\Projets\\Benter\\utils\\wagering_stategy.py:60: RuntimeWarning: invalid value encountered in multiply\n",
      "  actual_betting * odds_race * (1 - track_take),  # TODO feedback effect\n",
      "                                                                                                                                                                                                                                       \r"
     ]
    },
    {
     "name": "stdout",
     "output_type": "stream",
     "text": [
      "Wall time: 26min 48s\n"
     ]
    }
   ],
   "source": [
    "%%time\n",
    "pmp_expected_return_df = compute_expected_return(compute_betting=wagering_stategies.race_proportional_pari_mutual_proba,\n",
    "    source=SOURCE_PMU,\n",
    "    code_pari=\"E_SIMPLE_GAGNANT\",\n",
    "    winning_model=winning_model)"
   ]
  },
  {
   "cell_type": "code",
   "execution_count": 8,
   "metadata": {},
   "outputs": [
    {
     "data": {
      "text/plain": [
       "-0.0809547773536055"
      ]
     },
     "execution_count": 8,
     "metadata": {},
     "output_type": "execute_result"
    }
   ],
   "source": [
    "expected_return_df.expected_return.mean()"
   ]
  },
  {
   "cell_type": "code",
   "execution_count": 9,
   "metadata": {},
   "outputs": [
    {
     "data": {
      "text/plain": [
       "-0.09655262189381766"
      ]
     },
     "execution_count": 9,
     "metadata": {},
     "output_type": "execute_result"
    }
   ],
   "source": [
    "best_proba_expected_return_df.expected_return.mean()"
   ]
  },
  {
   "cell_type": "code",
   "execution_count": 10,
   "metadata": {},
   "outputs": [
    {
     "data": {
      "text/plain": [
       "-0.138134317355967"
      ]
     },
     "execution_count": 10,
     "metadata": {},
     "output_type": "execute_result"
    }
   ],
   "source": [
    "pmp_expected_return_df.expected_return.mean()"
   ]
  },
  {
   "cell_type": "code",
   "execution_count": 11,
   "metadata": {},
   "outputs": [
    {
     "name": "stdout",
     "output_type": "stream",
     "text": [
      "3 1.199342105263158 2 0.02%\n",
      "4 -0.5478478213100669 30 0.25%\n",
      "5 -0.5181184673283344 183 1.53%\n",
      "6 0.2729259150057608 435 3.65%\n",
      "7 0.05574965864550908 772 6.47%\n",
      "8 -0.12637382859980978 1060 8.89%\n",
      "9 -0.24586935256785622 1044 8.75%\n",
      "10 -0.1746992252893403 1262 10.58%\n",
      "11 0.16359400338761917 1164 9.76%\n",
      "12 -0.06525990730677358 1452 12.17%\n",
      "13 -0.019633520137967805 808 6.77%\n",
      "14 0.07251050544512963 1069 8.96%\n",
      "15 -0.40848356546351994 621 5.21%\n",
      "16 -0.15595291050545151 1360 11.40%\n",
      "17 -0.27612084894898775 153 1.28%\n",
      "18 -0.041529291708624946 477 4.00%\n",
      "19 -1.0 9 0.08%\n",
      "20 -1.0 23 0.19%\n",
      "22 -1.0 1 0.01%\n",
      "24 -1.0 4 0.03%\n"
     ]
    }
   ],
   "source": [
    "for n_horse, n_horse_er_df in expected_return_df.groupby('n_horse'):\n",
    "    print(n_horse,n_horse_er_df.expected_return.mean() , len(n_horse_er_df), f\"{len(n_horse_er_df)/len(expected_return_df):.2%}\" )\n"
   ]
  },
  {
   "cell_type": "code",
   "execution_count": 14,
   "metadata": {},
   "outputs": [
    {
     "name": "stdout",
     "output_type": "stream",
     "text": [
      "3 -0.3280981308411216 2 0.02%\n",
      "4 -0.31012490654882924 30 0.25%\n",
      "5 -0.2424039283560406 183 1.53%\n",
      "6 0.083379593504527 435 3.65%\n",
      "7 0.010474620078355137 772 6.47%\n",
      "8 -0.15825064630855293 1060 8.89%\n",
      "9 -0.05282270343954497 1044 8.75%\n",
      "10 -0.15362777374242392 1262 10.58%\n",
      "11 -0.08391774451117835 1164 9.76%\n",
      "12 -0.1145071946798653 1452 12.17%\n",
      "13 -0.1020702512055135 808 6.77%\n",
      "14 -0.07339283685309085 1069 8.96%\n",
      "15 -0.10237634609689461 621 5.21%\n",
      "16 -0.06673589513842051 1360 11.40%\n",
      "17 -0.31655267304267215 153 1.28%\n",
      "18 -0.1780619956943387 477 4.00%\n",
      "19 0.701225797885275 9 0.08%\n",
      "20 -0.8846841443371029 23 0.19%\n",
      "22 -1.0 1 0.01%\n",
      "24 0.6434282682512731 4 0.03%\n"
     ]
    }
   ],
   "source": [
    "for n_horse, n_horse_er_df in best_proba_expected_return_df.groupby('n_horse'):\n",
    "    print(n_horse,n_horse_er_df.expected_return.mean() , len(n_horse_er_df), f\"{len(n_horse_er_df)/len(best_proba_expected_return_df):.2%}\" )\n"
   ]
  },
  {
   "cell_type": "code",
   "execution_count": 13,
   "metadata": {},
   "outputs": [
    {
     "name": "stdout",
     "output_type": "stream",
     "text": [
      "3 -0.1401472774225283 2 0.02%\n",
      "4 -0.1403365327209808 30 0.25%\n",
      "5 -0.1389938226145777 183 1.53%\n",
      "6 -0.14048328592102374 435 3.65%\n",
      "7 -0.13839780877838864 772 6.47%\n",
      "8 -0.13820502052702524 1060 8.89%\n",
      "9 -0.1388641377309798 1044 8.75%\n",
      "10 -0.13872972813118956 1262 10.58%\n",
      "11 -0.13734327448624767 1164 9.76%\n",
      "12 -0.13416242119747793 1452 12.17%\n",
      "13 -0.14036226616333483 808 6.77%\n",
      "14 -0.1403264818983155 1069 8.96%\n",
      "15 -0.13907671050005693 621 5.21%\n",
      "16 -0.13785891001183628 1360 11.40%\n",
      "17 -0.14135659326052957 153 1.28%\n",
      "18 -0.1352182869070425 477 4.00%\n",
      "19 -0.1617078327084254 9 0.08%\n",
      "20 -0.13683293186130524 23 0.19%\n",
      "22 -0.11994677217391303 1 0.01%\n",
      "24 -0.14480925273979725 4 0.03%\n"
     ]
    }
   ],
   "source": [
    "for n_horse, n_horse_er_df in pmp_expected_return_df.groupby('n_horse'):\n",
    "    print(n_horse,n_horse_er_df.expected_return.mean() , len(n_horse_er_df), f\"{len(n_horse_er_df)/len(pmp_expected_return_df):.2%}\" )\n"
   ]
  },
  {
   "cell_type": "code",
   "execution_count": 16,
   "metadata": {},
   "outputs": [
    {
     "data": {
      "text/plain": [
       "date\n",
       "2018-01-01    1.0\n",
       "2018-01-02    1.0\n",
       "2018-01-03    0.0\n",
       "2018-01-04    1.0\n",
       "2018-01-05    0.0\n",
       "             ... \n",
       "2019-06-26    3.0\n",
       "2019-06-27    2.0\n",
       "2019-06-28    0.0\n",
       "2019-06-29    3.0\n",
       "2019-06-30    0.0\n",
       "Name: expected_return, Length: 544, dtype: float64"
      ]
     },
     "execution_count": 16,
     "metadata": {},
     "output_type": "execute_result"
    }
   ],
   "source": [
    "expected_return_df.groupby('date').expected_return.agg(lambda s:(s>0).sum()) # TODO plot this, compute average day without winning distribution"
   ]
  },
  {
   "cell_type": "code",
   "execution_count": 18,
   "metadata": {},
   "outputs": [
    {
     "name": "stderr",
     "output_type": "stream",
     "text": [
      "  0%|                                                                                                                                                                                                        | 0/24690 [00:00<?, ?it/s]C:\\Users\\Mathieu\\Anaconda3\\envs\\deeplearning\\lib\\site-packages\\pandas\\core\\frame.py:2963: SettingWithCopyWarning: \n",
      "A value is trying to be set on a copy of a slice from a DataFrame.\n",
      "Try using .loc[row_indexer,col_indexer] = value instead\n",
      "\n",
      "See the caveats in the documentation: https://pandas.pydata.org/pandas-docs/stable/user_guide/indexing.html#returning-a-view-versus-a-copy\n",
      "  self[k1] = value[k2]\n",
      "C:\\Users\\Mathieu\\Desktop\\Projets\\Benter\\utils\\preprocess.py:124: SettingWithCopyWarning: \n",
      "A value is trying to be set on a copy of a slice from a DataFrame.\n",
      "Try using .loc[row_indexer,col_indexer] = value instead\n",
      "\n",
      "See the caveats in the documentation: https://pandas.pydata.org/pandas-docs/stable/user_guide/indexing.html#returning-a-view-versus-a-copy\n",
      "  ) / standard_scaler_parameters[numerical_feature][\"std\"]\n",
      "C:\\Users\\Mathieu\\Desktop\\Projets\\Benter\\utils\\preprocess.py:125: SettingWithCopyWarning: \n",
      "A value is trying to be set on a copy of a slice from a DataFrame.\n",
      "Try using .loc[row_indexer,col_indexer] = value instead\n",
      "\n",
      "See the caveats in the documentation: https://pandas.pydata.org/pandas-docs/stable/user_guide/indexing.html#returning-a-view-versus-a-copy\n",
      "  features_df[numerical_feature] = features_df[numerical_feature].fillna(0)\n",
      "C:\\Users\\Mathieu\\Desktop\\Projets\\Benter\\utils\\preprocess.py:129: SettingWithCopyWarning: \n",
      "A value is trying to be set on a copy of a slice from a DataFrame.\n",
      "Try using .loc[row_indexer,col_indexer] = value instead\n",
      "\n",
      "See the caveats in the documentation: https://pandas.pydata.org/pandas-docs/stable/user_guide/indexing.html#returning-a-view-versus-a-copy\n",
      "  features_df[f\"{ohe_feature}_{value}\"] = features_df[ohe_feature] == value\n",
      "C:\\Users\\Mathieu\\Anaconda3\\envs\\deeplearning\\lib\\site-packages\\pandas\\core\\frame.py:3997: SettingWithCopyWarning: \n",
      "A value is trying to be set on a copy of a slice from a DataFrame\n",
      "\n",
      "See the caveats in the documentation: https://pandas.pydata.org/pandas-docs/stable/user_guide/indexing.html#returning-a-view-versus-a-copy\n",
      "  errors=errors,\n",
      "C:\\Users\\Mathieu\\Desktop\\Projets\\Benter\\utils\\preprocess.py:134: SettingWithCopyWarning: \n",
      "A value is trying to be set on a copy of a slice from a DataFrame.\n",
      "Try using .loc[row_indexer,col_indexer] = value instead\n",
      "\n",
      "See the caveats in the documentation: https://pandas.pydata.org/pandas-docs/stable/user_guide/indexing.html#returning-a-view-versus-a-copy\n",
      "  [\"DEFERRE_ANTERIEURS_POSTERIEURS\", \"DEFERRE_ANTERIEURS\"]\n",
      "C:\\Users\\Mathieu\\Desktop\\Projets\\Benter\\utils\\preprocess.py:137: SettingWithCopyWarning: \n",
      "A value is trying to be set on a copy of a slice from a DataFrame.\n",
      "Try using .loc[row_indexer,col_indexer] = value instead\n",
      "\n",
      "See the caveats in the documentation: https://pandas.pydata.org/pandas-docs/stable/user_guide/indexing.html#returning-a-view-versus-a-copy\n",
      "  [\"DEFERRE_ANTERIEURS_POSTERIEURS\", \"DEFERRE_POSTERIEURS\"]\n",
      " 17%|███████████████████████████████▎                                                                                                                                                           | 4132/24690 [14:10<1:10:31,  4.86it/s]C:\\Users\\Mathieu\\Desktop\\Projets\\Benter\\utils\\wagering_stategy.py:118: RuntimeWarning: invalid value encountered in multiply\n",
      "  actual_betting * odds_race * (1 - track_take),  # TODO Feedback effect\n",
      "                                                                                                                                                                                                                                       \r"
     ]
    },
    {
     "data": {
      "image/png": "[encoded data removed]",
      "text/plain": [
       "<matplotlib.figure.Figure at 0x1c3b133f6d8>"
      ]
     },
     "metadata": {},
     "output_type": "display_data"
    },
    {
     "name": "stdout",
     "output_type": "stream",
     "text": [
      "End capital: 0.49, exponential growth rate: -0.04%\n"
     ]
    },
    {
     "data": {
      "image/png": "[encoded data removed]",
      "text/plain": [
       "<matplotlib.figure.Figure at 0x1c38eaebc18>"
      ]
     },
     "metadata": {},
     "output_type": "display_data"
    },
    {
     "name": "stdout",
     "output_type": "stream",
     "text": [
      "Capital is never null!\n"
     ]
    }
   ],
   "source": [
    "%%time\n",
    "best_expected_return_scenario = compute_scenario(\n",
    "    compute_betting_fun=wagering_stategies.race_betting_best_expected_return,\n",
    "    source=SOURCE_PMU,\n",
    "    code_pari=\"E_SIMPLE_GAGNANT\",\n",
    "    capital_fraction=0.01,\n",
    "    winning_model=winning_model,\n",
    "    verbose=True\n",
    ") "
   ]
  },
  {
   "cell_type": "code",
   "execution_count": null,
   "metadata": {},
   "outputs": [
    {
     "name": "stderr",
     "output_type": "stream",
     "text": [
      "  0%|                                                                                                                                                                                                        | 0/24690 [00:00<?, ?it/s]C:\\Users\\Mathieu\\Anaconda3\\envs\\deeplearning\\lib\\site-packages\\pandas\\core\\frame.py:2963: SettingWithCopyWarning: \n",
      "A value is trying to be set on a copy of a slice from a DataFrame.\n",
      "Try using .loc[row_indexer,col_indexer] = value instead\n",
      "\n",
      "See the caveats in the documentation: https://pandas.pydata.org/pandas-docs/stable/user_guide/indexing.html#returning-a-view-versus-a-copy\n",
      "  self[k1] = value[k2]\n",
      "C:\\Users\\Mathieu\\Desktop\\Projets\\Benter\\utils\\preprocess.py:124: SettingWithCopyWarning: \n",
      "A value is trying to be set on a copy of a slice from a DataFrame.\n",
      "Try using .loc[row_indexer,col_indexer] = value instead\n",
      "\n",
      "See the caveats in the documentation: https://pandas.pydata.org/pandas-docs/stable/user_guide/indexing.html#returning-a-view-versus-a-copy\n",
      "  ) / standard_scaler_parameters[numerical_feature][\"std\"]\n",
      "C:\\Users\\Mathieu\\Desktop\\Projets\\Benter\\utils\\preprocess.py:125: SettingWithCopyWarning: \n",
      "A value is trying to be set on a copy of a slice from a DataFrame.\n",
      "Try using .loc[row_indexer,col_indexer] = value instead\n",
      "\n",
      "See the caveats in the documentation: https://pandas.pydata.org/pandas-docs/stable/user_guide/indexing.html#returning-a-view-versus-a-copy\n",
      "  features_df[numerical_feature] = features_df[numerical_feature].fillna(0)\n",
      "C:\\Users\\Mathieu\\Desktop\\Projets\\Benter\\utils\\preprocess.py:129: SettingWithCopyWarning: \n",
      "A value is trying to be set on a copy of a slice from a DataFrame.\n",
      "Try using .loc[row_indexer,col_indexer] = value instead\n",
      "\n",
      "See the caveats in the documentation: https://pandas.pydata.org/pandas-docs/stable/user_guide/indexing.html#returning-a-view-versus-a-copy\n",
      "  features_df[f\"{ohe_feature}_{value}\"] = features_df[ohe_feature] == value\n",
      "C:\\Users\\Mathieu\\Anaconda3\\envs\\deeplearning\\lib\\site-packages\\pandas\\core\\frame.py:3997: SettingWithCopyWarning: \n",
      "A value is trying to be set on a copy of a slice from a DataFrame\n",
      "\n",
      "See the caveats in the documentation: https://pandas.pydata.org/pandas-docs/stable/user_guide/indexing.html#returning-a-view-versus-a-copy\n",
      "  errors=errors,\n",
      "C:\\Users\\Mathieu\\Desktop\\Projets\\Benter\\utils\\preprocess.py:134: SettingWithCopyWarning: \n",
      "A value is trying to be set on a copy of a slice from a DataFrame.\n",
      "Try using .loc[row_indexer,col_indexer] = value instead\n",
      "\n",
      "See the caveats in the documentation: https://pandas.pydata.org/pandas-docs/stable/user_guide/indexing.html#returning-a-view-versus-a-copy\n",
      "  [\"DEFERRE_ANTERIEURS_POSTERIEURS\", \"DEFERRE_ANTERIEURS\"]\n",
      "C:\\Users\\Mathieu\\Desktop\\Projets\\Benter\\utils\\preprocess.py:137: SettingWithCopyWarning: \n",
      "A value is trying to be set on a copy of a slice from a DataFrame.\n",
      "Try using .loc[row_indexer,col_indexer] = value instead\n",
      "\n",
      "See the caveats in the documentation: https://pandas.pydata.org/pandas-docs/stable/user_guide/indexing.html#returning-a-view-versus-a-copy\n",
      "  [\"DEFERRE_ANTERIEURS_POSTERIEURS\", \"DEFERRE_POSTERIEURS\"]\n",
      " 10%|███████████████████                                                                                                                                                                        | 2521/24690 [11:26<1:40:40,  3.67it/s]"
     ]
    }
   ],
   "source": [
    "%%time\n",
    "best_expected_return_scenario_threshold_on_expected_return = compute_scenario(\n",
    "    compute_betting_fun=wagering_factories.betting_on_best_expected_return_thresholded_expected_return_factory(expected_return_threshold=2.5),\n",
    "    source=SOURCE_PMU,\n",
    "    code_pari=\"E_SIMPLE_GAGNANT\",\n",
    "    capital_fraction=0.01,\n",
    "    winning_model=winning_model,\n",
    "    verbose=True\n",
    ") "
   ]
  },
  {
   "cell_type": "code",
   "execution_count": null,
   "metadata": {},
   "outputs": [],
   "source": [
    "%%time\n",
    "best_expected_return_scenario_threshold_on_winning_proba = compute_scenario(\n",
    "    compute_betting_fun=wagering_factories.betting_on_best_expected_return_thresholded_winning_probabilities_factory(minimum_winning_probabilities=0.05),\n",
    "    source=SOURCE_PMU,\n",
    "    code_pari=\"E_SIMPLE_GAGNANT\",\n",
    "    capital_fraction=0.01,\n",
    "    winning_model=winning_model,\n",
    "    verbose=True\n",
    ") "
   ]
  },
  {
   "cell_type": "code",
   "execution_count": null,
   "metadata": {},
   "outputs": [],
   "source": [
    "%%time\n",
    "best_expected_return_scenario_threshold_on_expected_return_winning_proba = compute_scenario(\n",
    "    compute_betting_fun=wagering_factories.betting_on_best_expected_return_thresholded_winning_probabilities_expected_returns_factory(minimum_winning_probabilities=0.05, expected_return_threshold=2.5),\n",
    "    source=SOURCE_PMU,\n",
    "    code_pari=\"E_SIMPLE_GAGNANT\",\n",
    "    capital_fraction=0.01,\n",
    "    winning_model=winning_model,\n",
    "    verbose=True\n",
    ") "
   ]
  },
  {
   "cell_type": "code",
   "execution_count": null,
   "metadata": {},
   "outputs": [],
   "source": [
    "plot_scenario(best_expected_return_scenario_threshold_on_expected_return)"
   ]
  },
  {
   "cell_type": "code",
   "execution_count": null,
   "metadata": {},
   "outputs": [],
   "source": [
    "plot_scenario(best_expected_return_scenario_threshold_on_winning_proba)"
   ]
  },
  {
   "cell_type": "code",
   "execution_count": null,
   "metadata": {},
   "outputs": [],
   "source": [
    "plot_scenario(best_expected_return_scenario_threshold_on_expected_return_winning_proba)"
   ]
  },
  {
   "cell_type": "code",
   "execution_count": null,
   "metadata": {},
   "outputs": [],
   "source": [
    "import wagering_stategies"
   ]
  },
  {
   "cell_type": "code",
   "execution_count": null,
   "metadata": {},
   "outputs": [],
   "source": [
    "%%time\n",
    "not_max_odds_expected_return_df = compute_expected_return(compute_betting=wagering_stategies.race_betting_best_winning_proba_not_max_pari_mutual_proba,\n",
    "    source=SOURCE_PMU,\n",
    "    code_pari=\"E_SIMPLE_GAGNANT\",\n",
    "    winning_model=winning_model)\n",
    "\n"
   ]
  },
  {
   "cell_type": "code",
   "execution_count": null,
   "metadata": {},
   "outputs": [],
   "source": [
    "not_max_odds_expected_return_df.expected_return.mean()"
   ]
  },
  {
   "cell_type": "code",
   "execution_count": null,
   "metadata": {},
   "outputs": [],
   "source": [
    "for n_horse, n_horse_er_df in not_max_odds_expected_return_df.groupby('n_horse'):\n",
    "    print(n_horse,n_horse_er_df.expected_return.mean() , len(n_horse_er_df), f\"{len(n_horse_er_df)/len(not_max_odds_expected_return_df):.2%}\" )"
   ]
  },
  {
   "cell_type": "code",
   "execution_count": null,
   "metadata": {},
   "outputs": [],
   "source": []
  },
  {
   "cell_type": "code",
   "execution_count": null,
   "metadata": {},
   "outputs": [],
   "source": []
  }
 ],
 "metadata": {
  "kernelspec": {
   "display_name": "Python 3",
   "language": "python",
   "name": "python3"
  },
  "language_info": {
   "codemirror_mode": {
    "name": "ipython",
    "version": 3
   },
   "file_extension": ".py",
   "mimetype": "text/x-python",
   "name": "python",
   "nbconvert_exporter": "python",
   "pygments_lexer": "ipython3",
   "version": "3.6.4"
  }
 },
 "nbformat": 4,
 "nbformat_minor": 4
}
